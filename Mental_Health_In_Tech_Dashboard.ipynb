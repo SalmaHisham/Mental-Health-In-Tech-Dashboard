{
 "cells": [
  {
   "cell_type": "markdown",
   "metadata": {
    "id": "fxGA9jMLKpDu"
   },
   "source": [
    "#  Import Libraries"
   ]
  },
  {
   "cell_type": "code",
   "execution_count": 1,
   "metadata": {
    "colab": {
     "base_uri": "https://localhost:8080/",
     "height": 373
    },
    "executionInfo": {
     "elapsed": 1268,
     "status": "error",
     "timestamp": 1654337003170,
     "user": {
      "displayName": "habiba mohamed",
      "userId": "01346726008568088997"
     },
     "user_tz": -120
    },
    "id": "1EVaXlxhKpD0",
    "outputId": "066852e0-fe50-4abb-acbc-220fedbe70eb"
   },
   "outputs": [],
   "source": [
    "import pandas as pd\n",
    "import numpy as np\n",
    "import warnings\n",
    "warnings.filterwarnings('ignore')\n",
    "\n",
    "# for visualization\n",
    "from dash import Dash, html, dcc\n",
    "import plotly.express as px\n",
    "import matplotlib.pyplot as plt \n",
    "\n",
    "import pandas as pd\n",
    "import jupyter_dash\n",
    "from dash.dependencies import Input, Output, State\n",
    "import numpy as np \n",
    "import dash\n",
    "import dash_bootstrap_components as dbc\n",
    "from plotly.subplots import make_subplots\n",
    "import plotly.graph_objects as go\n",
    "import plotly.io as pio\n",
    "pio.renderers.default = \"notebook_connected\"\n"
   ]
  },
  {
   "cell_type": "markdown",
   "metadata": {
    "id": "N0K7yguwKpD1"
   },
   "source": [
    "# Prepare Data"
   ]
  },
  {
   "cell_type": "markdown",
   "metadata": {
    "id": "ziZKv_lhKpD2"
   },
   "source": [
    "### Read Data"
   ]
  },
  {
   "cell_type": "code",
   "execution_count": 2,
   "metadata": {
    "executionInfo": {
     "elapsed": 48,
     "status": "aborted",
     "timestamp": 1654337002829,
     "user": {
      "displayName": "habiba mohamed",
      "userId": "01346726008568088997"
     },
     "user_tz": -120
    },
    "id": "MhHO1k8VKpD2"
   },
   "outputs": [
    {
     "name": "stdout",
     "output_type": "stream",
     "text": [
      "survey_2017.columns =  124\n",
      "survey_2018.columns =  124\n",
      "survey_2019.columns =  83\n",
      "survey_2020.columns =  121\n"
     ]
    }
   ],
   "source": [
    "survey_2017 = pd.read_csv(\"data set\\OSMI Mental Health in Tech Survey 2017.csv\", na_values = np.nan)\n",
    "survey_2017['year'] = '2017'\n",
    "survey_2018 = pd.read_csv(\"data set\\OSMI Mental Health in Tech Survey 2018.csv\", na_values = np.nan)\n",
    "survey_2018['year'] = '2018'\n",
    "survey_2019 = pd.read_csv(\"data set\\OSMI Mental Health in Tech Survey 2019.csv\", na_values = np.nan)\n",
    "survey_2019['year'] = '2019'\n",
    "survey_2020 = pd.read_csv(\"data set\\OSMI Mental Health in Tech Survey 2020 .csv\", na_values = np.nan)\n",
    "survey_2020['year'] = '2020'\n",
    "survey_data_ls = [survey_2017, survey_2018, survey_2019, survey_2020]\n",
    "print(f\"survey_2017.columns =  {len(survey_2017.columns)}\")\n",
    "print(f\"survey_2018.columns =  {len(survey_2018.columns)}\")\n",
    "print(f\"survey_2019.columns =  {len(survey_2019.columns)}\")\n",
    "print(f\"survey_2020.columns =  {len(survey_2020.columns)}\")"
   ]
  },
  {
   "cell_type": "markdown",
   "metadata": {
    "id": "NsjKecKcKpD4"
   },
   "source": [
    "### Clean columns name and prepare data to be merged"
   ]
  },
  {
   "cell_type": "code",
   "execution_count": 3,
   "metadata": {
    "executionInfo": {
     "elapsed": 50,
     "status": "aborted",
     "timestamp": 1654337002831,
     "user": {
      "displayName": "habiba mohamed",
      "userId": "01346726008568088997"
     },
     "user_tz": -120
    },
    "id": "gaDs01NDKpD4"
   },
   "outputs": [],
   "source": [
    "import re as re\n",
    "def remove_tags(string):\n",
    "    result = re.sub('<.*?>|\\*','',string)\n",
    "    return result\n",
    "for survey in survey_data_ls:\n",
    "    renamed_cols = []\n",
    "    for i in range (len(survey.columns)):\n",
    "        renamed_cols.append(remove_tags(survey.columns[i]))\n",
    "    survey.columns = renamed_cols\n"
   ]
  },
  {
   "cell_type": "markdown",
   "metadata": {
    "id": "yKWkxVHRKpD5"
   },
   "source": [
    "### Merge Data"
   ]
  },
  {
   "cell_type": "code",
   "execution_count": 4,
   "metadata": {
    "executionInfo": {
     "elapsed": 49,
     "status": "aborted",
     "timestamp": 1654337002832,
     "user": {
      "displayName": "habiba mohamed",
      "userId": "01346726008568088997"
     },
     "user_tz": -120
    },
    "id": "gUQZVJVNKpD6"
   },
   "outputs": [
    {
     "name": "stdout",
     "output_type": "stream",
     "text": [
      "survey final columns =  25\n"
     ]
    }
   ],
   "source": [
    "important_feat =[\n",
    "\"Is your employer primarily a tech company/organization?\",\n",
    "\"Is your primary role within your company related to tech/IT?\",\n",
    "\"Does your employer provide mental health benefits as part of healthcare coverage?\",\n",
    "\"Has your employer ever formally discussed mental health (for example, as part of a wellness campaign or other official communication)?\",\n",
    "\"Does your employer offer resources to learn more about mental health disorders and options for seeking help?\",\n",
    "\"If a mental health issue prompted you to request a medical leave from work, how easy or difficult would it be to ask for that leave?\",\n",
    "\"Overall, how much importance does your employer place on physical health?\",\n",
    "\"Overall, how much importance does your employer place on mental health?\",\n",
    "\"Do you currently have a mental health disorder?\",\n",
    "\"Have you ever been diagnosed with a mental health disorder?\",\n",
    "\"What disorder(s) have you been diagnosed with?\",\n",
    "\"If possibly, what disorder(s) do you believe you have?\",\n",
    "\"Have you had a mental health disorder in the past?\",\n",
    "\"Do you have a family history of mental illness?\",\n",
    "\"If you have a mental health disorder, how often do you feel that it interferes with your work when being treated effectively?\",\n",
    "\"If you have a mental health disorder,how often do you feel that it interferes with your work when NOT* being treated effectively (i.e., when you are experiencing symptoms)?*\",\n",
    "\"Have your observations of how another individual who discussed a mental health issue made you less likely to reveal a mental health issue yourself in your current workplace?\",\n",
    "\"How wilm ling would you be to share with friends and family that you have a mental illness?\",\n",
    "\"Would you be willing to bring up a physical health issue with a potential employer in an interview?\",\n",
    "\"Would you bring up your mental health with a potential employer in an interview?\",\n",
    "\"Are you openly identified at work as a person with a mental health issue?\",\n",
    "\"Has being identified as a person with a mental health issue affected your career?\",\n",
    "\"How has it affected your career?\",\n",
    "\"If they knew you suffered from a mental health disorder, how do you think that your team members/co-workers would react?\",\n",
    "\"Have you observed or experienced a supportive or well handled response to a mental health issue in your current or previous workplace?\",\n",
    "\"Overall, how well do you think the tech industry supports employees with mental health issues?\",\n",
    "\"Briefly describe what you think the industry as a whole and/or employers could do to improve mental health support for employees.\",\n",
    "\"What is your age?\",\n",
    "\"What is your gender?\",\n",
    "\"What country do you live in?\",\n",
    "\"What country do you work in?\", \n",
    "'year']\n",
    "common_cols = (survey_2017.columns & survey_2020.columns & survey_2019.columns & survey_2018.columns & important_feat)\n",
    "survey = pd.concat([survey_2017[common_cols], survey_2018[common_cols], survey_2019[common_cols], survey_2020[common_cols]], axis=0)\n",
    "print(f\"survey final columns =  {len(survey.columns)}\")"
   ]
  },
  {
   "cell_type": "code",
   "execution_count": 5,
   "metadata": {},
   "outputs": [
    {
     "data": {
      "text/plain": [
       "Index(['Is your employer primarily a tech company/organization?',\n",
       "       'Is your primary role within your company related to tech/IT?',\n",
       "       'Has your employer ever formally discussed mental health (for example, as part of a wellness campaign or other official communication)?',\n",
       "       'Does your employer offer resources to learn more about mental health disorders and options for seeking help?',\n",
       "       'If a mental health issue prompted you to request a medical leave from work, how easy or difficult would it be to ask for that leave?',\n",
       "       'Overall, how much importance does your employer place on physical health?',\n",
       "       'Overall, how much importance does your employer place on mental health?',\n",
       "       'Do you currently have a mental health disorder?',\n",
       "       'Have you ever been diagnosed with a mental health disorder?',\n",
       "       'Have you had a mental health disorder in the past?',\n",
       "       'Do you have a family history of mental illness?',\n",
       "       'If you have a mental health disorder, how often do you feel that it interferes with your work when being treated effectively?',\n",
       "       'Have your observations of how another individual who discussed a mental health issue made you less likely to reveal a mental health issue yourself in your current workplace?',\n",
       "       'Would you be willing to bring up a physical health issue with a potential employer in an interview?',\n",
       "       'Would you bring up your mental health with a potential employer in an interview?',\n",
       "       'Are you openly identified at work as a person with a mental health issue?',\n",
       "       'Has being identified as a person with a mental health issue affected your career?',\n",
       "       'How has it affected your career?',\n",
       "       'Overall, how well do you think the tech industry supports employees with mental health issues?',\n",
       "       'Briefly describe what you think the industry as a whole and/or employers could do to improve mental health support for employees.',\n",
       "       'What is your age?', 'What is your gender?',\n",
       "       'What country do you live in?', 'What country do you work in?', 'year'],\n",
       "      dtype='object')"
      ]
     },
     "execution_count": 5,
     "metadata": {},
     "output_type": "execute_result"
    }
   ],
   "source": [
    "common_cols"
   ]
  },
  {
   "cell_type": "markdown",
   "metadata": {
    "id": "hAdUxTXeKpD7"
   },
   "source": [
    "# Data Pre-processing"
   ]
  },
  {
   "cell_type": "markdown",
   "metadata": {
    "id": "xuA_DyH8KpD7"
   },
   "source": [
    "### `01` Drop Nulls"
   ]
  },
  {
   "cell_type": "code",
   "execution_count": 6,
   "metadata": {
    "executionInfo": {
     "elapsed": 50,
     "status": "aborted",
     "timestamp": 1654337002833,
     "user": {
      "displayName": "habiba mohamed",
      "userId": "01346726008568088997"
     },
     "user_tz": -120
    },
    "id": "2GMqXnAiKpD8"
   },
   "outputs": [
    {
     "data": {
      "text/html": [
       "<div>\n",
       "<style scoped>\n",
       "    .dataframe tbody tr th:only-of-type {\n",
       "        vertical-align: middle;\n",
       "    }\n",
       "\n",
       "    .dataframe tbody tr th {\n",
       "        vertical-align: top;\n",
       "    }\n",
       "\n",
       "    .dataframe thead th {\n",
       "        text-align: right;\n",
       "    }\n",
       "</style>\n",
       "<table border=\"1\" class=\"dataframe\">\n",
       "  <thead>\n",
       "    <tr style=\"text-align: right;\">\n",
       "      <th></th>\n",
       "      <th>index</th>\n",
       "      <th>Nulls_Count</th>\n",
       "    </tr>\n",
       "  </thead>\n",
       "  <tbody>\n",
       "    <tr>\n",
       "      <th>0</th>\n",
       "      <td>How has it affected your career?</td>\n",
       "      <td>95.601173</td>\n",
       "    </tr>\n",
       "    <tr>\n",
       "      <th>1</th>\n",
       "      <td>Has being identified as a person with a mental...</td>\n",
       "      <td>87.976540</td>\n",
       "    </tr>\n",
       "    <tr>\n",
       "      <th>2</th>\n",
       "      <td>Have you ever been diagnosed with a mental hea...</td>\n",
       "      <td>58.181818</td>\n",
       "    </tr>\n",
       "    <tr>\n",
       "      <th>3</th>\n",
       "      <td>Briefly describe what you think the industry a...</td>\n",
       "      <td>30.850440</td>\n",
       "    </tr>\n",
       "    <tr>\n",
       "      <th>4</th>\n",
       "      <td>Have your observations of how another individu...</td>\n",
       "      <td>21.290323</td>\n",
       "    </tr>\n",
       "    <tr>\n",
       "      <th>5</th>\n",
       "      <td>Is your primary role within your company relat...</td>\n",
       "      <td>14.193548</td>\n",
       "    </tr>\n",
       "    <tr>\n",
       "      <th>6</th>\n",
       "      <td>Has your employer ever formally discussed ment...</td>\n",
       "      <td>14.193548</td>\n",
       "    </tr>\n",
       "    <tr>\n",
       "      <th>7</th>\n",
       "      <td>Does your employer offer resources to learn mo...</td>\n",
       "      <td>14.193548</td>\n",
       "    </tr>\n",
       "    <tr>\n",
       "      <th>8</th>\n",
       "      <td>If a mental health issue prompted you to reque...</td>\n",
       "      <td>14.193548</td>\n",
       "    </tr>\n",
       "    <tr>\n",
       "      <th>9</th>\n",
       "      <td>Overall, how much importance does your employe...</td>\n",
       "      <td>14.193548</td>\n",
       "    </tr>\n",
       "    <tr>\n",
       "      <th>10</th>\n",
       "      <td>Overall, how much importance does your employe...</td>\n",
       "      <td>14.193548</td>\n",
       "    </tr>\n",
       "    <tr>\n",
       "      <th>11</th>\n",
       "      <td>Is your employer primarily a tech company/orga...</td>\n",
       "      <td>14.193548</td>\n",
       "    </tr>\n",
       "    <tr>\n",
       "      <th>12</th>\n",
       "      <td>What is your gender?</td>\n",
       "      <td>1.348974</td>\n",
       "    </tr>\n",
       "    <tr>\n",
       "      <th>13</th>\n",
       "      <td>Have you had a mental health disorder in the p...</td>\n",
       "      <td>1.114370</td>\n",
       "    </tr>\n",
       "    <tr>\n",
       "      <th>14</th>\n",
       "      <td>What country do you work in?</td>\n",
       "      <td>0.117302</td>\n",
       "    </tr>\n",
       "    <tr>\n",
       "      <th>15</th>\n",
       "      <td>Are you openly identified at work as a person ...</td>\n",
       "      <td>0.117302</td>\n",
       "    </tr>\n",
       "    <tr>\n",
       "      <th>16</th>\n",
       "      <td>Overall, how well do you think the tech indust...</td>\n",
       "      <td>0.117302</td>\n",
       "    </tr>\n",
       "    <tr>\n",
       "      <th>17</th>\n",
       "      <td>What is your age?</td>\n",
       "      <td>0.117302</td>\n",
       "    </tr>\n",
       "    <tr>\n",
       "      <th>18</th>\n",
       "      <td>What country do you live in?</td>\n",
       "      <td>0.117302</td>\n",
       "    </tr>\n",
       "  </tbody>\n",
       "</table>\n",
       "</div>"
      ],
      "text/plain": [
       "                                                index  Nulls_Count\n",
       "0                    How has it affected your career?    95.601173\n",
       "1   Has being identified as a person with a mental...    87.976540\n",
       "2   Have you ever been diagnosed with a mental hea...    58.181818\n",
       "3   Briefly describe what you think the industry a...    30.850440\n",
       "4   Have your observations of how another individu...    21.290323\n",
       "5   Is your primary role within your company relat...    14.193548\n",
       "6   Has your employer ever formally discussed ment...    14.193548\n",
       "7   Does your employer offer resources to learn mo...    14.193548\n",
       "8   If a mental health issue prompted you to reque...    14.193548\n",
       "9   Overall, how much importance does your employe...    14.193548\n",
       "10  Overall, how much importance does your employe...    14.193548\n",
       "11  Is your employer primarily a tech company/orga...    14.193548\n",
       "12                               What is your gender?     1.348974\n",
       "13  Have you had a mental health disorder in the p...     1.114370\n",
       "14                       What country do you work in?     0.117302\n",
       "15  Are you openly identified at work as a person ...     0.117302\n",
       "16  Overall, how well do you think the tech indust...     0.117302\n",
       "17                                  What is your age?     0.117302\n",
       "18                       What country do you live in?     0.117302"
      ]
     },
     "execution_count": 6,
     "metadata": {},
     "output_type": "execute_result"
    }
   ],
   "source": [
    "nulls_df = ((survey.isnull().sum()/survey.shape[0])*100).sort_values(ascending=False).reset_index().rename(columns = { 0 : \"Nulls_Count\"})\n",
    "nulls_df[nulls_df['Nulls_Count'] > 0]"
   ]
  },
  {
   "cell_type": "code",
   "execution_count": 7,
   "metadata": {
    "executionInfo": {
     "elapsed": 51,
     "status": "aborted",
     "timestamp": 1654337002834,
     "user": {
      "displayName": "habiba mohamed",
      "userId": "01346726008568088997"
     },
     "user_tz": -120
    },
    "id": "z8shAFpTKpD8"
   },
   "outputs": [
    {
     "data": {
      "text/html": [
       "<div>\n",
       "<style scoped>\n",
       "    .dataframe tbody tr th:only-of-type {\n",
       "        vertical-align: middle;\n",
       "    }\n",
       "\n",
       "    .dataframe tbody tr th {\n",
       "        vertical-align: top;\n",
       "    }\n",
       "\n",
       "    .dataframe thead th {\n",
       "        text-align: right;\n",
       "    }\n",
       "</style>\n",
       "<table border=\"1\" class=\"dataframe\">\n",
       "  <thead>\n",
       "    <tr style=\"text-align: right;\">\n",
       "      <th></th>\n",
       "      <th>index</th>\n",
       "      <th>Nulls_Count</th>\n",
       "    </tr>\n",
       "  </thead>\n",
       "  <tbody>\n",
       "    <tr>\n",
       "      <th>0</th>\n",
       "      <td>How has it affected your career?</td>\n",
       "      <td>95.601173</td>\n",
       "    </tr>\n",
       "    <tr>\n",
       "      <th>1</th>\n",
       "      <td>Has being identified as a person with a mental...</td>\n",
       "      <td>87.976540</td>\n",
       "    </tr>\n",
       "    <tr>\n",
       "      <th>2</th>\n",
       "      <td>Have you ever been diagnosed with a mental hea...</td>\n",
       "      <td>58.181818</td>\n",
       "    </tr>\n",
       "    <tr>\n",
       "      <th>3</th>\n",
       "      <td>Briefly describe what you think the industry a...</td>\n",
       "      <td>30.850440</td>\n",
       "    </tr>\n",
       "    <tr>\n",
       "      <th>4</th>\n",
       "      <td>Have your observations of how another individu...</td>\n",
       "      <td>21.290323</td>\n",
       "    </tr>\n",
       "    <tr>\n",
       "      <th>5</th>\n",
       "      <td>Is your primary role within your company relat...</td>\n",
       "      <td>14.193548</td>\n",
       "    </tr>\n",
       "    <tr>\n",
       "      <th>6</th>\n",
       "      <td>Has your employer ever formally discussed ment...</td>\n",
       "      <td>14.193548</td>\n",
       "    </tr>\n",
       "    <tr>\n",
       "      <th>7</th>\n",
       "      <td>Does your employer offer resources to learn mo...</td>\n",
       "      <td>14.193548</td>\n",
       "    </tr>\n",
       "    <tr>\n",
       "      <th>8</th>\n",
       "      <td>If a mental health issue prompted you to reque...</td>\n",
       "      <td>14.193548</td>\n",
       "    </tr>\n",
       "    <tr>\n",
       "      <th>9</th>\n",
       "      <td>Overall, how much importance does your employe...</td>\n",
       "      <td>14.193548</td>\n",
       "    </tr>\n",
       "    <tr>\n",
       "      <th>10</th>\n",
       "      <td>Overall, how much importance does your employe...</td>\n",
       "      <td>14.193548</td>\n",
       "    </tr>\n",
       "    <tr>\n",
       "      <th>11</th>\n",
       "      <td>Is your employer primarily a tech company/orga...</td>\n",
       "      <td>14.193548</td>\n",
       "    </tr>\n",
       "    <tr>\n",
       "      <th>12</th>\n",
       "      <td>What is your gender?</td>\n",
       "      <td>1.348974</td>\n",
       "    </tr>\n",
       "    <tr>\n",
       "      <th>13</th>\n",
       "      <td>Have you had a mental health disorder in the p...</td>\n",
       "      <td>1.114370</td>\n",
       "    </tr>\n",
       "    <tr>\n",
       "      <th>14</th>\n",
       "      <td>What country do you work in?</td>\n",
       "      <td>0.117302</td>\n",
       "    </tr>\n",
       "    <tr>\n",
       "      <th>15</th>\n",
       "      <td>Are you openly identified at work as a person ...</td>\n",
       "      <td>0.117302</td>\n",
       "    </tr>\n",
       "    <tr>\n",
       "      <th>16</th>\n",
       "      <td>Overall, how well do you think the tech indust...</td>\n",
       "      <td>0.117302</td>\n",
       "    </tr>\n",
       "    <tr>\n",
       "      <th>17</th>\n",
       "      <td>What is your age?</td>\n",
       "      <td>0.117302</td>\n",
       "    </tr>\n",
       "    <tr>\n",
       "      <th>18</th>\n",
       "      <td>What country do you live in?</td>\n",
       "      <td>0.117302</td>\n",
       "    </tr>\n",
       "  </tbody>\n",
       "</table>\n",
       "</div>"
      ],
      "text/plain": [
       "                                                index  Nulls_Count\n",
       "0                    How has it affected your career?    95.601173\n",
       "1   Has being identified as a person with a mental...    87.976540\n",
       "2   Have you ever been diagnosed with a mental hea...    58.181818\n",
       "3   Briefly describe what you think the industry a...    30.850440\n",
       "4   Have your observations of how another individu...    21.290323\n",
       "5   Is your primary role within your company relat...    14.193548\n",
       "6   Has your employer ever formally discussed ment...    14.193548\n",
       "7   Does your employer offer resources to learn mo...    14.193548\n",
       "8   If a mental health issue prompted you to reque...    14.193548\n",
       "9   Overall, how much importance does your employe...    14.193548\n",
       "10  Overall, how much importance does your employe...    14.193548\n",
       "11  Is your employer primarily a tech company/orga...    14.193548\n",
       "12                               What is your gender?     1.348974\n",
       "13  Have you had a mental health disorder in the p...     1.114370\n",
       "14                       What country do you work in?     0.117302\n",
       "15  Are you openly identified at work as a person ...     0.117302\n",
       "16  Overall, how well do you think the tech indust...     0.117302\n",
       "17                                  What is your age?     0.117302\n",
       "18                       What country do you live in?     0.117302"
      ]
     },
     "execution_count": 7,
     "metadata": {},
     "output_type": "execute_result"
    }
   ],
   "source": [
    "nulls_df = ((survey.isnull().sum()/survey.shape[0])*100).sort_values(ascending=False).reset_index().rename(columns = { 0 : \"Nulls_Count\"})\n",
    "# drop na values which have null values < threshold \n",
    "dropped_rows = nulls_df[nulls_df['Nulls_Count'] <= 14.0] \n",
    "dropped_rows = list(dropped_rows[dropped_rows['Nulls_Count'] > 0].values[:,0])\n",
    "## when the number of nulls in a row is very small, we can simply drop this small number of rows\n",
    "survey = survey.dropna(axis = 0, subset = dropped_rows)\n",
    "\n",
    "\n",
    "# drop the columns which have null values > threshold  \n",
    "dropped_cols = nulls_df[nulls_df['Nulls_Count'] > 50]\n",
    "dropped_cols = list(dropped_cols.values[:,0])\n",
    "survey = survey.drop(columns = dropped_cols)\n",
    "nulls_df[nulls_df['Nulls_Count'] > 0]\n"
   ]
  },
  {
   "cell_type": "markdown",
   "metadata": {
    "id": "gKV6AsDWKpD9"
   },
   "source": [
    "### `02` Clean This Terrible Data"
   ]
  },
  {
   "cell_type": "code",
   "execution_count": 8,
   "metadata": {
    "executionInfo": {
     "elapsed": 51,
     "status": "aborted",
     "timestamp": 1654337002834,
     "user": {
      "displayName": "habiba mohamed",
      "userId": "01346726008568088997"
     },
     "user_tz": -120
    },
    "id": "n8VNJi5NKpD9"
   },
   "outputs": [],
   "source": [
    "# ------------------------------------------------------- CLEANING THE DATA -------------------------------------------------------\n",
    "# Column rename\n",
    "df = survey.copy()\n",
    "renamed_columns = ['tech_comp_flag', 'tech_role_flag', 'mh_employer_discussion_or_wellness_campaign', 'mh_resources_provided', 'mh_issue_request_medical_leave',\n",
    "'ph_employer_rate', 'mh_employer_rate', 'curr_have_mh_disorder', 'past_have_mh_disorder', 'fam_history', \n",
    "'how often do you feel that it interferes with your work when being treated effectively?', 'smone_disscussion_reveal_ur_mh', 'admit_ph_issue_in_interview',\n",
    "'admit_mh_issue_in_interview', 'openly_id_as_person_wth_mh_issue', 'rate_tech_industry_support',\n",
    "'Briefly describe what you think the industry as a whole and/or employers could do to improve mental health support for employees.', \n",
    "'age', 'gender', 'country_live_in', 'country_work_in', 'year']\n",
    "df.columns = renamed_columns\n",
    "# gender column needs to be recoded (number of unique values = 70)\n",
    "df['gender'].replace(to_replace = ['Male', 'male', 'Male ', 'M', 'm',\n",
    "       'man', 'Cis male', 'Male.', 'male 9:1 female, roughly', 'Male (cis)', 'Man', 'Sex is male',\n",
    "       'cis male', 'Malr', 'Dude', \"I'm a man why didn't you make this a drop down question. You should of asked sex? And I would of answered yes please. Seriously how much text can this take? \",\n",
    "       'mail', 'M|', 'Male/genderqueer', 'male ', 'cisgender male', 'MAle'\n",
    "       'Cis Male', 'Male (trans, FtM)', 'mostly male', 'Masculine', 'Let\\'s keep it simple and say \"male\"', 'cis-male', 'Mail', 'male/androgynous ',\n",
    "       'cis hetero male',\n",
    "       'cisdude', 'cis man', 'MALE'], value = 1, inplace = True)\n",
    "\n",
    "df['gender'].replace(to_replace = ['Female', 'female', 'I identify as female.', 'female ',\n",
    "       'Female assigned at birth ', 'F', 'Woman', 'fm', 'f', 'Cis female ', 'Transitioned, M2F',\n",
    "       'Genderfluid (born female)', 'Female or Multi-Gender Femme', 'Female ', 'woman', 'female/woman',\n",
    "       'Cisgender Female', 'fem', 'Female (props for making this a freeform field, though)',\n",
    "       'Female (cis)', 'FEMALE', 'femmina' 'Agender trans woman', 'Female-identified',\n",
    "       ' Female', 'Cis-woman', 'female-bodied; no feelings about gender', 'female, she/her',\n",
    "       'Nonbinary/femme', 'gender non-conforming woman', 'Female/gender non-binary.',\n",
    "       'Cis woman', 'Female (cisgender)', 'Cis-Female','Cisgendered woman', 'Trans woman',\n",
    "       'uhhhhhhhhh fem genderqueer?', 'My sex is female.', 'femalw', 'femail', 'cis female', 'femmina','Female-ish',\n",
    "       'Woman-identified', 'female (cisgender)', 'Female (cis) ','F, cisgender', 'Trans female', 'Femile',\n",
    "       'AFAB'], value = 2, inplace = True)\n",
    "\n",
    "other = list(df['gender'].unique())\n",
    "other = [o for o in other if o not in (1, 2)]\n",
    "df['gender'].replace(to_replace = other , value = 3, inplace = True)\n",
    "\n",
    "# Recode Comp size & country columns (for ease when doing plots)\n",
    "df['country_live_in'].replace(to_replace = ['United States of America'], value = 'USA', inplace = True)\n",
    "df['country_live_in'].replace(to_replace = ['United Kingdom'], value = 'UK', inplace = True)\n",
    "df['country_work_in'].replace(to_replace = ['United States of America'], value = 'USA', inplace = True)\n",
    "df['country_work_in'].replace(to_replace = ['United Kingdom'], value = 'UK', inplace = True)\n",
    "\n",
    "# Max age is 323, min age is 3.\n",
    "# There are only 5 people that have weird ages (3yo, 15yo, or 99yo or 323 yo.) \n",
    "# These people will take the average age of the dataset (the correct calculated one, w/out outliers)\n",
    "mean_age = df[(df['age'] >= 18) | (df['age'] <= 75)]['age'].mean()\n",
    "df['age'].replace(to_replace = df[(df['age'] < 18) | (df['age'] > 75)]['age'].tolist(),\n",
    "                          value = mean_age, inplace = True)\n"
   ]
  },
  {
   "cell_type": "code",
   "execution_count": 9,
   "metadata": {},
   "outputs": [
    {
     "data": {
      "text/plain": [
       "Not applicable to me    619\n",
       "Sometimes               468\n",
       "Rarely                  408\n",
       "Often                   116\n",
       "Never                    53\n",
       "Name: how often do you feel that it interferes with your work when being treated effectively?, dtype: int64"
      ]
     },
     "execution_count": 9,
     "metadata": {},
     "output_type": "execute_result"
    }
   ],
   "source": [
    "df['how often do you feel that it interferes with your work when being treated effectively?'].value_counts()"
   ]
  },
  {
   "cell_type": "markdown",
   "metadata": {
    "id": "TuDLE9MeKpD9"
   },
   "source": [
    "### `03` Imputation"
   ]
  },
  {
   "cell_type": "code",
   "execution_count": 10,
   "metadata": {
    "executionInfo": {
     "elapsed": 51,
     "status": "aborted",
     "timestamp": 1654337002835,
     "user": {
      "displayName": "habiba mohamed",
      "userId": "01346726008568088997"
     },
     "user_tz": -120
    },
    "id": "fMzw6JutKpD-"
   },
   "outputs": [],
   "source": [
    "# Dealing with other missing values\n",
    "from sklearn.impute import SimpleImputer\n",
    "\n",
    "# Impute nan with the most frequent value (mode) on every row\n",
    "imp = SimpleImputer(missing_values=np.nan, strategy='most_frequent')\n",
    "imp.fit(df)\n",
    "imp_data = pd.DataFrame(data = imp.transform(df), columns = df.columns)\n",
    "prep_data = imp_data.copy()"
   ]
  },
  {
   "cell_type": "markdown",
   "metadata": {
    "id": "QZX7i5uGKpD-"
   },
   "source": [
    "### `04` Encoding categorical Data "
   ]
  },
  {
   "cell_type": "code",
   "execution_count": 11,
   "metadata": {
    "executionInfo": {
     "elapsed": 52,
     "status": "aborted",
     "timestamp": 1654337002836,
     "user": {
      "displayName": "habiba mohamed",
      "userId": "01346726008568088997"
     },
     "user_tz": -120
    },
    "id": "W-jNR81XKpD-"
   },
   "outputs": [],
   "source": [
    "num_data = list((df.select_dtypes(exclude=[object])))\n",
    "cat_data = list(df.select_dtypes(include=[object]))\n",
    "nominal_data = ['year', 'country_live_in', 'country_work_in', 'Briefly describe what you think the industry as a whole and/or employers could do to improve mental health support for employees.']\n",
    "ordinal_data = list(set(cat_data) - set(num_data) - set(nominal_data)) \n"
   ]
  },
  {
   "cell_type": "code",
   "execution_count": 12,
   "metadata": {
    "executionInfo": {
     "elapsed": 52,
     "status": "aborted",
     "timestamp": 1654337002837,
     "user": {
      "displayName": "habiba mohamed",
      "userId": "01346726008568088997"
     },
     "user_tz": -120
    },
    "id": "pltbaQ30KpD-"
   },
   "outputs": [],
   "source": [
    "# ----------- ENCODING -----------\n",
    "# Split data into 2 datasets: one that needs to be encoded, one that doesnt need to\n",
    "# Importing OneHotEncoder\n",
    "from sklearn.preprocessing import OneHotEncoder\n",
    "from sklearn.preprocessing import LabelEncoder\n",
    "\n",
    "def encode(df, ordinal_data):\n",
    "    encoded_data = pd.DataFrame() # to dataframe\n",
    "    le = LabelEncoder()\n",
    "    \n",
    "    for col in ordinal_data:\n",
    "        encoded_data[col] = le.fit_transform(df[col])\n",
    "    \n",
    "    return encoded_data\n",
    "\n",
    "encoded_data = encode(prep_data, ordinal_data)\n",
    "\n",
    "# Preprocessed data\n",
    "data_not_encode_df = prep_data[nominal_data + num_data]\n",
    "prep_data = pd.concat(objs = [encoded_data, data_not_encode_df], axis = 1)\n",
    "# prep_data.head(5)"
   ]
  },
  {
   "cell_type": "code",
   "execution_count": 13,
   "metadata": {
    "executionInfo": {
     "elapsed": 53,
     "status": "aborted",
     "timestamp": 1654337002838,
     "user": {
      "displayName": "habiba mohamed",
      "userId": "01346726008568088997"
     },
     "user_tz": -120
    },
    "id": "ITEyTVT3KpD_"
   },
   "outputs": [],
   "source": [
    "# ----------- OTHER CHANGES -----------\n",
    "# Keep only countries with no. responses > 20\n",
    "prep_data = prep_data[prep_data['country_work_in'].isin(['USA', 'UK', 'India', 'Canada', \n",
    "                                                   'Germany'])]\n",
    "prep_data = prep_data[prep_data['country_live_in'].isin(['USA', 'UK', 'India', 'Canada', \n",
    "                                                   'Germany'])]\n",
    "# clean Rates Columns \n",
    "prep_data['mh_employer_rate'] = prep_data['mh_employer_rate'].fillna(0)\n",
    "prep_data['ph_employer_rate'] = prep_data['ph_employer_rate'].fillna(0)\n"
   ]
  },
  {
   "cell_type": "code",
   "execution_count": 14,
   "metadata": {},
   "outputs": [
    {
     "data": {
      "text/plain": [
       "1    1246\n",
       "0      82\n",
       "Name: tech_role_flag, dtype: int64"
      ]
     },
     "execution_count": 14,
     "metadata": {},
     "output_type": "execute_result"
    }
   ],
   "source": [
    "prep_data['tech_role_flag'].value_counts()"
   ]
  },
  {
   "cell_type": "markdown",
   "metadata": {
    "id": "Zkhs1D2DKpD_"
   },
   "source": [
    "# Visualisation and Insights"
   ]
  },
  {
   "cell_type": "code",
   "execution_count": 15,
   "metadata": {
    "executionInfo": {
     "elapsed": 53,
     "status": "aborted",
     "timestamp": 1654337002839,
     "user": {
      "displayName": "habiba mohamed",
      "userId": "01346726008568088997"
     },
     "user_tz": -120
    },
    "id": "Pj8XarrNKpEA"
   },
   "outputs": [],
   "source": [
    "country = 'USA'"
   ]
  },
  {
   "cell_type": "markdown",
   "metadata": {
    "_cell_guid": "2ba0911b-2796-4c5e-9380-9398c70c6f96",
    "_uuid": "a67e6e74-5251-429b-b318-28aea774dccc",
    "id": "ohi27qS0KpEA"
   },
   "source": [
    "### Responses Gender (only techs) Vs Country\n"
   ]
  },
  {
   "cell_type": "code",
   "execution_count": 16,
   "metadata": {
    "executionInfo": {
     "elapsed": 54,
     "status": "aborted",
     "timestamp": 1654337002840,
     "user": {
      "displayName": "habiba mohamed",
      "userId": "01346726008568088997"
     },
     "user_tz": -120
    },
    "id": "V8SyLHYpKpEA"
   },
   "outputs": [
    {
     "data": {
      "text/html": [
       "        <script type=\"text/javascript\">\n",
       "        window.PlotlyConfig = {MathJaxConfig: 'local'};\n",
       "        if (window.MathJax) {MathJax.Hub.Config({SVG: {font: \"STIX-Web\"}});}\n",
       "        if (typeof require !== 'undefined') {\n",
       "        require.undef(\"plotly\");\n",
       "        requirejs.config({\n",
       "            paths: {\n",
       "                'plotly': ['https://cdn.plot.ly/plotly-2.11.1.min']\n",
       "            }\n",
       "        });\n",
       "        require(['plotly'], function(Plotly) {\n",
       "            window._Plotly = Plotly;\n",
       "        });\n",
       "        }\n",
       "        </script>\n",
       "        "
      ]
     },
     "metadata": {},
     "output_type": "display_data"
    },
    {
     "data": {
      "text/html": [
       "<div>                            <div id=\"c5e15a72-ae7f-475e-9d9a-ae2bc6615aa4\" class=\"plotly-graph-div\" style=\"height:325px; width:100%;\"></div>            <script type=\"text/javascript\">                require([\"plotly\"], function(Plotly) {                    window.PLOTLYENV=window.PLOTLYENV || {};                                    if (document.getElementById(\"c5e15a72-ae7f-475e-9d9a-ae2bc6615aa4\")) {                    Plotly.newPlot(                        \"c5e15a72-ae7f-475e-9d9a-ae2bc6615aa4\",                        [{\"labels\":[\"Male\",\"Female\"],\"values\":[51,26],\"type\":\"pie\",\"textfont\":{\"size\":16},\"title\":{\"font\":{\"size\":24},\"position\":\"middle center\"},\"marker\":{\"line\":{\"color\":\"#FFF\",\"width\":2},\"colors\":[\"#b3dad7\",\"#FF92A5\"]},\"hoverinfo\":\"label+percent\"}],                        {\"template\":{\"data\":{\"histogram2dcontour\":[{\"type\":\"histogram2dcontour\",\"colorbar\":{\"outlinewidth\":0,\"ticks\":\"\"},\"colorscale\":[[0.0,\"#0d0887\"],[0.1111111111111111,\"#46039f\"],[0.2222222222222222,\"#7201a8\"],[0.3333333333333333,\"#9c179e\"],[0.4444444444444444,\"#bd3786\"],[0.5555555555555556,\"#d8576b\"],[0.6666666666666666,\"#ed7953\"],[0.7777777777777778,\"#fb9f3a\"],[0.8888888888888888,\"#fdca26\"],[1.0,\"#f0f921\"]]}],\"choropleth\":[{\"type\":\"choropleth\",\"colorbar\":{\"outlinewidth\":0,\"ticks\":\"\"}}],\"histogram2d\":[{\"type\":\"histogram2d\",\"colorbar\":{\"outlinewidth\":0,\"ticks\":\"\"},\"colorscale\":[[0.0,\"#0d0887\"],[0.1111111111111111,\"#46039f\"],[0.2222222222222222,\"#7201a8\"],[0.3333333333333333,\"#9c179e\"],[0.4444444444444444,\"#bd3786\"],[0.5555555555555556,\"#d8576b\"],[0.6666666666666666,\"#ed7953\"],[0.7777777777777778,\"#fb9f3a\"],[0.8888888888888888,\"#fdca26\"],[1.0,\"#f0f921\"]]}],\"heatmap\":[{\"type\":\"heatmap\",\"colorbar\":{\"outlinewidth\":0,\"ticks\":\"\"},\"colorscale\":[[0.0,\"#0d0887\"],[0.1111111111111111,\"#46039f\"],[0.2222222222222222,\"#7201a8\"],[0.3333333333333333,\"#9c179e\"],[0.4444444444444444,\"#bd3786\"],[0.5555555555555556,\"#d8576b\"],[0.6666666666666666,\"#ed7953\"],[0.7777777777777778,\"#fb9f3a\"],[0.8888888888888888,\"#fdca26\"],[1.0,\"#f0f921\"]]}],\"heatmapgl\":[{\"type\":\"heatmapgl\",\"colorbar\":{\"outlinewidth\":0,\"ticks\":\"\"},\"colorscale\":[[0.0,\"#0d0887\"],[0.1111111111111111,\"#46039f\"],[0.2222222222222222,\"#7201a8\"],[0.3333333333333333,\"#9c179e\"],[0.4444444444444444,\"#bd3786\"],[0.5555555555555556,\"#d8576b\"],[0.6666666666666666,\"#ed7953\"],[0.7777777777777778,\"#fb9f3a\"],[0.8888888888888888,\"#fdca26\"],[1.0,\"#f0f921\"]]}],\"contourcarpet\":[{\"type\":\"contourcarpet\",\"colorbar\":{\"outlinewidth\":0,\"ticks\":\"\"}}],\"contour\":[{\"type\":\"contour\",\"colorbar\":{\"outlinewidth\":0,\"ticks\":\"\"},\"colorscale\":[[0.0,\"#0d0887\"],[0.1111111111111111,\"#46039f\"],[0.2222222222222222,\"#7201a8\"],[0.3333333333333333,\"#9c179e\"],[0.4444444444444444,\"#bd3786\"],[0.5555555555555556,\"#d8576b\"],[0.6666666666666666,\"#ed7953\"],[0.7777777777777778,\"#fb9f3a\"],[0.8888888888888888,\"#fdca26\"],[1.0,\"#f0f921\"]]}],\"surface\":[{\"type\":\"surface\",\"colorbar\":{\"outlinewidth\":0,\"ticks\":\"\"},\"colorscale\":[[0.0,\"#0d0887\"],[0.1111111111111111,\"#46039f\"],[0.2222222222222222,\"#7201a8\"],[0.3333333333333333,\"#9c179e\"],[0.4444444444444444,\"#bd3786\"],[0.5555555555555556,\"#d8576b\"],[0.6666666666666666,\"#ed7953\"],[0.7777777777777778,\"#fb9f3a\"],[0.8888888888888888,\"#fdca26\"],[1.0,\"#f0f921\"]]}],\"mesh3d\":[{\"type\":\"mesh3d\",\"colorbar\":{\"outlinewidth\":0,\"ticks\":\"\"}}],\"scatter\":[{\"fillpattern\":{\"fillmode\":\"overlay\",\"size\":10,\"solidity\":0.2},\"type\":\"scatter\"}],\"parcoords\":[{\"type\":\"parcoords\",\"line\":{\"colorbar\":{\"outlinewidth\":0,\"ticks\":\"\"}}}],\"scatterpolargl\":[{\"type\":\"scatterpolargl\",\"marker\":{\"colorbar\":{\"outlinewidth\":0,\"ticks\":\"\"}}}],\"bar\":[{\"error_x\":{\"color\":\"#2a3f5f\"},\"error_y\":{\"color\":\"#2a3f5f\"},\"marker\":{\"line\":{\"color\":\"#E5ECF6\",\"width\":0.5},\"pattern\":{\"fillmode\":\"overlay\",\"size\":10,\"solidity\":0.2}},\"type\":\"bar\"}],\"scattergeo\":[{\"type\":\"scattergeo\",\"marker\":{\"colorbar\":{\"outlinewidth\":0,\"ticks\":\"\"}}}],\"scatterpolar\":[{\"type\":\"scatterpolar\",\"marker\":{\"colorbar\":{\"outlinewidth\":0,\"ticks\":\"\"}}}],\"histogram\":[{\"marker\":{\"pattern\":{\"fillmode\":\"overlay\",\"size\":10,\"solidity\":0.2}},\"type\":\"histogram\"}],\"scattergl\":[{\"type\":\"scattergl\",\"marker\":{\"colorbar\":{\"outlinewidth\":0,\"ticks\":\"\"}}}],\"scatter3d\":[{\"type\":\"scatter3d\",\"line\":{\"colorbar\":{\"outlinewidth\":0,\"ticks\":\"\"}},\"marker\":{\"colorbar\":{\"outlinewidth\":0,\"ticks\":\"\"}}}],\"scattermapbox\":[{\"type\":\"scattermapbox\",\"marker\":{\"colorbar\":{\"outlinewidth\":0,\"ticks\":\"\"}}}],\"scatterternary\":[{\"type\":\"scatterternary\",\"marker\":{\"colorbar\":{\"outlinewidth\":0,\"ticks\":\"\"}}}],\"scattercarpet\":[{\"type\":\"scattercarpet\",\"marker\":{\"colorbar\":{\"outlinewidth\":0,\"ticks\":\"\"}}}],\"carpet\":[{\"aaxis\":{\"endlinecolor\":\"#2a3f5f\",\"gridcolor\":\"white\",\"linecolor\":\"white\",\"minorgridcolor\":\"white\",\"startlinecolor\":\"#2a3f5f\"},\"baxis\":{\"endlinecolor\":\"#2a3f5f\",\"gridcolor\":\"white\",\"linecolor\":\"white\",\"minorgridcolor\":\"white\",\"startlinecolor\":\"#2a3f5f\"},\"type\":\"carpet\"}],\"table\":[{\"cells\":{\"fill\":{\"color\":\"#EBF0F8\"},\"line\":{\"color\":\"white\"}},\"header\":{\"fill\":{\"color\":\"#C8D4E3\"},\"line\":{\"color\":\"white\"}},\"type\":\"table\"}],\"barpolar\":[{\"marker\":{\"line\":{\"color\":\"#E5ECF6\",\"width\":0.5},\"pattern\":{\"fillmode\":\"overlay\",\"size\":10,\"solidity\":0.2}},\"type\":\"barpolar\"}],\"pie\":[{\"automargin\":true,\"type\":\"pie\"}]},\"layout\":{\"autotypenumbers\":\"strict\",\"colorway\":[\"#636efa\",\"#EF553B\",\"#00cc96\",\"#ab63fa\",\"#FFA15A\",\"#19d3f3\",\"#FF6692\",\"#B6E880\",\"#FF97FF\",\"#FECB52\"],\"font\":{\"color\":\"#2a3f5f\"},\"hovermode\":\"closest\",\"hoverlabel\":{\"align\":\"left\"},\"paper_bgcolor\":\"white\",\"plot_bgcolor\":\"#E5ECF6\",\"polar\":{\"bgcolor\":\"#E5ECF6\",\"angularaxis\":{\"gridcolor\":\"white\",\"linecolor\":\"white\",\"ticks\":\"\"},\"radialaxis\":{\"gridcolor\":\"white\",\"linecolor\":\"white\",\"ticks\":\"\"}},\"ternary\":{\"bgcolor\":\"#E5ECF6\",\"aaxis\":{\"gridcolor\":\"white\",\"linecolor\":\"white\",\"ticks\":\"\"},\"baxis\":{\"gridcolor\":\"white\",\"linecolor\":\"white\",\"ticks\":\"\"},\"caxis\":{\"gridcolor\":\"white\",\"linecolor\":\"white\",\"ticks\":\"\"}},\"coloraxis\":{\"colorbar\":{\"outlinewidth\":0,\"ticks\":\"\"}},\"colorscale\":{\"sequential\":[[0.0,\"#0d0887\"],[0.1111111111111111,\"#46039f\"],[0.2222222222222222,\"#7201a8\"],[0.3333333333333333,\"#9c179e\"],[0.4444444444444444,\"#bd3786\"],[0.5555555555555556,\"#d8576b\"],[0.6666666666666666,\"#ed7953\"],[0.7777777777777778,\"#fb9f3a\"],[0.8888888888888888,\"#fdca26\"],[1.0,\"#f0f921\"]],\"sequentialminus\":[[0.0,\"#0d0887\"],[0.1111111111111111,\"#46039f\"],[0.2222222222222222,\"#7201a8\"],[0.3333333333333333,\"#9c179e\"],[0.4444444444444444,\"#bd3786\"],[0.5555555555555556,\"#d8576b\"],[0.6666666666666666,\"#ed7953\"],[0.7777777777777778,\"#fb9f3a\"],[0.8888888888888888,\"#fdca26\"],[1.0,\"#f0f921\"]],\"diverging\":[[0,\"#8e0152\"],[0.1,\"#c51b7d\"],[0.2,\"#de77ae\"],[0.3,\"#f1b6da\"],[0.4,\"#fde0ef\"],[0.5,\"#f7f7f7\"],[0.6,\"#e6f5d0\"],[0.7,\"#b8e186\"],[0.8,\"#7fbc41\"],[0.9,\"#4d9221\"],[1,\"#276419\"]]},\"xaxis\":{\"gridcolor\":\"white\",\"linecolor\":\"white\",\"ticks\":\"\",\"title\":{\"standoff\":15},\"zerolinecolor\":\"white\",\"automargin\":true,\"zerolinewidth\":2},\"yaxis\":{\"gridcolor\":\"white\",\"linecolor\":\"white\",\"ticks\":\"\",\"title\":{\"standoff\":15},\"zerolinecolor\":\"white\",\"automargin\":true,\"zerolinewidth\":2},\"scene\":{\"xaxis\":{\"backgroundcolor\":\"#E5ECF6\",\"gridcolor\":\"white\",\"linecolor\":\"white\",\"showbackground\":true,\"ticks\":\"\",\"zerolinecolor\":\"white\",\"gridwidth\":2},\"yaxis\":{\"backgroundcolor\":\"#E5ECF6\",\"gridcolor\":\"white\",\"linecolor\":\"white\",\"showbackground\":true,\"ticks\":\"\",\"zerolinecolor\":\"white\",\"gridwidth\":2},\"zaxis\":{\"backgroundcolor\":\"#E5ECF6\",\"gridcolor\":\"white\",\"linecolor\":\"white\",\"showbackground\":true,\"ticks\":\"\",\"zerolinecolor\":\"white\",\"gridwidth\":2}},\"shapedefaults\":{\"line\":{\"color\":\"#2a3f5f\"}},\"annotationdefaults\":{\"arrowcolor\":\"#2a3f5f\",\"arrowhead\":0,\"arrowwidth\":1},\"geo\":{\"bgcolor\":\"white\",\"landcolor\":\"#E5ECF6\",\"subunitcolor\":\"white\",\"showland\":true,\"showlakes\":true,\"lakecolor\":\"white\"},\"title\":{\"x\":0.05},\"mapbox\":{\"style\":\"light\"}}},\"legend\":{\"orientation\":\"h\",\"yanchor\":\"bottom\",\"y\":-0.1,\"xanchor\":\"center\",\"x\":0.5},\"margin\":{\"b\":0,\"t\":0,\"l\":0,\"r\":0},\"height\":325},                        {\"responsive\": true}                    ).then(function(){\n",
       "                            \n",
       "var gd = document.getElementById('c5e15a72-ae7f-475e-9d9a-ae2bc6615aa4');\n",
       "var x = new MutationObserver(function (mutations, observer) {{\n",
       "        var display = window.getComputedStyle(gd).display;\n",
       "        if (!display || display === 'none') {{\n",
       "            console.log([gd, 'removed!']);\n",
       "            Plotly.purge(gd);\n",
       "            observer.disconnect();\n",
       "        }}\n",
       "}});\n",
       "\n",
       "// Listen for the removal of the full notebook cells\n",
       "var notebookContainer = gd.closest('#notebook-container');\n",
       "if (notebookContainer) {{\n",
       "    x.observe(notebookContainer, {childList: true});\n",
       "}}\n",
       "\n",
       "// Listen for the clearing of the current output cell\n",
       "var outputEl = gd.closest('.output');\n",
       "if (outputEl) {{\n",
       "    x.observe(outputEl, {childList: true});\n",
       "}}\n",
       "\n",
       "                        })                };                });            </script>        </div>"
      ]
     },
     "metadata": {},
     "output_type": "display_data"
    }
   ],
   "source": [
    "# Most respondents are Male\n",
    "## ----------------- Pie Chart For Gender Vs Techs -----------------\n",
    "def draw_Techs_by_gender(country):\n",
    "    all_techs = prep_data[prep_data['tech_role_flag'] == 1]['gender'].count()\n",
    "    males = prep_data[(prep_data['tech_role_flag'] == 1) & (prep_data['gender'] == 1.0)& ( np.isin(prep_data['country_work_in'], country))]['gender'].count()\n",
    "    females = prep_data[(prep_data['tech_role_flag'] == 1) & (prep_data['gender'] == 2.0)& ( np.isin(prep_data['country_work_in'], country))]['gender'].count()\n",
    "    other = prep_data[(prep_data['tech_role_flag'] == 1) & (prep_data['gender'] == 3.0)& ( np.isin(prep_data['country_work_in'], country))]['gender'].count()\n",
    "\n",
    "    colors = [\"#b3dad7\", \"#FF92A5\"]\n",
    "    Techs_by_gender_fig = go.Figure(data=[go.Pie(labels=['Male', 'Female'], \n",
    "                                    values=[round(males/all_techs * 100), round(females/ all_techs * 100)])])\n",
    "\n",
    "    Techs_by_gender_fig.update_traces(hoverinfo='label+percent', textfont_size=16, title_font_size = 24,  title_position = \"middle center\",\n",
    "                                    marker=dict(colors=colors,\n",
    "                                    line=dict(color='#FFF', width=2)),\n",
    "                                    )\n",
    "    Techs_by_gender_fig.update_layout(\n",
    "                                    legend=dict(orientation=\"h\", yanchor=\"bottom\", y=-0.1, xanchor=\"center\", x=0.5),\n",
    "                                    margin=dict(b = 0, t = 0, l = 0, r = 0),\n",
    "                                    height = 325\n",
    "                                    )\n",
    "    return Techs_by_gender_fig\n",
    "draw_Techs_by_gender(country)"
   ]
  },
  {
   "cell_type": "markdown",
   "metadata": {
    "_cell_guid": "8fc48212-f326-40cb-a1af-a41e2a76b7d6",
    "_uuid": "24c82d6c-54bd-4fac-af82-77f8cd515c26",
    "id": "ZMmpqmXPKpEB"
   },
   "source": [
    "\n",
    "### Have Mental Health Disorder Vs Country"
   ]
  },
  {
   "cell_type": "code",
   "execution_count": 17,
   "metadata": {
    "executionInfo": {
     "elapsed": 54,
     "status": "aborted",
     "timestamp": 1654337002841,
     "user": {
      "displayName": "habiba mohamed",
      "userId": "01346726008568088997"
     },
     "user_tz": -120
    },
    "id": "tlEdkNlgKpEB"
   },
   "outputs": [
    {
     "data": {
      "text/html": [
       "<div>                            <div id=\"2fa6fed3-768a-4f2a-9e15-1043c791e619\" class=\"plotly-graph-div\" style=\"height:525px; width:100%;\"></div>            <script type=\"text/javascript\">                require([\"plotly\"], function(Plotly) {                    window.PLOTLYENV=window.PLOTLYENV || {};                                    if (document.getElementById(\"2fa6fed3-768a-4f2a-9e15-1043c791e619\")) {                    Plotly.newPlot(                        \"2fa6fed3-768a-4f2a-9e15-1043c791e619\",                        [{\"labels\":[\"Possibly\",\"Yes\",\"No\",\"Don't Know\"],\"values\":[0.15730337078651685,0.39486356340288925,0.20385232744783308,0.048154093097913325],\"type\":\"pie\",\"textfont\":{\"size\":12},\"title\":{\"text\":\"Overall Mental Health prop%\",\"font\":{\"size\":24},\"position\":\"middle center\"},\"marker\":{\"line\":{\"color\":\"#FFF\",\"width\":2}},\"hoverinfo\":\"label+percent\",\"showlegend\":true}],                        {\"template\":{\"data\":{\"barpolar\":[{\"marker\":{\"line\":{\"color\":\"rgb(237,237,237)\",\"width\":0.5},\"pattern\":{\"fillmode\":\"overlay\",\"size\":10,\"solidity\":0.2}},\"type\":\"barpolar\"}],\"bar\":[{\"error_x\":{\"color\":\"rgb(51,51,51)\"},\"error_y\":{\"color\":\"rgb(51,51,51)\"},\"marker\":{\"line\":{\"color\":\"rgb(237,237,237)\",\"width\":0.5},\"pattern\":{\"fillmode\":\"overlay\",\"size\":10,\"solidity\":0.2}},\"type\":\"bar\"}],\"carpet\":[{\"aaxis\":{\"endlinecolor\":\"rgb(51,51,51)\",\"gridcolor\":\"white\",\"linecolor\":\"white\",\"minorgridcolor\":\"white\",\"startlinecolor\":\"rgb(51,51,51)\"},\"baxis\":{\"endlinecolor\":\"rgb(51,51,51)\",\"gridcolor\":\"white\",\"linecolor\":\"white\",\"minorgridcolor\":\"white\",\"startlinecolor\":\"rgb(51,51,51)\"},\"type\":\"carpet\"}],\"choropleth\":[{\"colorbar\":{\"outlinewidth\":0,\"tickcolor\":\"rgb(237,237,237)\",\"ticklen\":6,\"ticks\":\"inside\"},\"type\":\"choropleth\"}],\"contourcarpet\":[{\"colorbar\":{\"outlinewidth\":0,\"tickcolor\":\"rgb(237,237,237)\",\"ticklen\":6,\"ticks\":\"inside\"},\"type\":\"contourcarpet\"}],\"contour\":[{\"colorbar\":{\"outlinewidth\":0,\"tickcolor\":\"rgb(237,237,237)\",\"ticklen\":6,\"ticks\":\"inside\"},\"colorscale\":[[0,\"rgb(20,44,66)\"],[1,\"rgb(90,179,244)\"]],\"type\":\"contour\"}],\"heatmapgl\":[{\"colorbar\":{\"outlinewidth\":0,\"tickcolor\":\"rgb(237,237,237)\",\"ticklen\":6,\"ticks\":\"inside\"},\"colorscale\":[[0,\"rgb(20,44,66)\"],[1,\"rgb(90,179,244)\"]],\"type\":\"heatmapgl\"}],\"heatmap\":[{\"colorbar\":{\"outlinewidth\":0,\"tickcolor\":\"rgb(237,237,237)\",\"ticklen\":6,\"ticks\":\"inside\"},\"colorscale\":[[0,\"rgb(20,44,66)\"],[1,\"rgb(90,179,244)\"]],\"type\":\"heatmap\"}],\"histogram2dcontour\":[{\"colorbar\":{\"outlinewidth\":0,\"tickcolor\":\"rgb(237,237,237)\",\"ticklen\":6,\"ticks\":\"inside\"},\"colorscale\":[[0,\"rgb(20,44,66)\"],[1,\"rgb(90,179,244)\"]],\"type\":\"histogram2dcontour\"}],\"histogram2d\":[{\"colorbar\":{\"outlinewidth\":0,\"tickcolor\":\"rgb(237,237,237)\",\"ticklen\":6,\"ticks\":\"inside\"},\"colorscale\":[[0,\"rgb(20,44,66)\"],[1,\"rgb(90,179,244)\"]],\"type\":\"histogram2d\"}],\"histogram\":[{\"marker\":{\"pattern\":{\"fillmode\":\"overlay\",\"size\":10,\"solidity\":0.2}},\"type\":\"histogram\"}],\"mesh3d\":[{\"colorbar\":{\"outlinewidth\":0,\"tickcolor\":\"rgb(237,237,237)\",\"ticklen\":6,\"ticks\":\"inside\"},\"type\":\"mesh3d\"}],\"parcoords\":[{\"line\":{\"colorbar\":{\"outlinewidth\":0,\"tickcolor\":\"rgb(237,237,237)\",\"ticklen\":6,\"ticks\":\"inside\"}},\"type\":\"parcoords\"}],\"pie\":[{\"automargin\":true,\"type\":\"pie\"}],\"scatter3d\":[{\"line\":{\"colorbar\":{\"outlinewidth\":0,\"tickcolor\":\"rgb(237,237,237)\",\"ticklen\":6,\"ticks\":\"inside\"}},\"marker\":{\"colorbar\":{\"outlinewidth\":0,\"tickcolor\":\"rgb(237,237,237)\",\"ticklen\":6,\"ticks\":\"inside\"}},\"type\":\"scatter3d\"}],\"scattercarpet\":[{\"marker\":{\"colorbar\":{\"outlinewidth\":0,\"tickcolor\":\"rgb(237,237,237)\",\"ticklen\":6,\"ticks\":\"inside\"}},\"type\":\"scattercarpet\"}],\"scattergeo\":[{\"marker\":{\"colorbar\":{\"outlinewidth\":0,\"tickcolor\":\"rgb(237,237,237)\",\"ticklen\":6,\"ticks\":\"inside\"}},\"type\":\"scattergeo\"}],\"scattergl\":[{\"marker\":{\"colorbar\":{\"outlinewidth\":0,\"tickcolor\":\"rgb(237,237,237)\",\"ticklen\":6,\"ticks\":\"inside\"}},\"type\":\"scattergl\"}],\"scattermapbox\":[{\"marker\":{\"colorbar\":{\"outlinewidth\":0,\"tickcolor\":\"rgb(237,237,237)\",\"ticklen\":6,\"ticks\":\"inside\"}},\"type\":\"scattermapbox\"}],\"scatterpolargl\":[{\"marker\":{\"colorbar\":{\"outlinewidth\":0,\"tickcolor\":\"rgb(237,237,237)\",\"ticklen\":6,\"ticks\":\"inside\"}},\"type\":\"scatterpolargl\"}],\"scatterpolar\":[{\"marker\":{\"colorbar\":{\"outlinewidth\":0,\"tickcolor\":\"rgb(237,237,237)\",\"ticklen\":6,\"ticks\":\"inside\"}},\"type\":\"scatterpolar\"}],\"scatter\":[{\"fillpattern\":{\"fillmode\":\"overlay\",\"size\":10,\"solidity\":0.2},\"type\":\"scatter\"}],\"scatterternary\":[{\"marker\":{\"colorbar\":{\"outlinewidth\":0,\"tickcolor\":\"rgb(237,237,237)\",\"ticklen\":6,\"ticks\":\"inside\"}},\"type\":\"scatterternary\"}],\"surface\":[{\"colorbar\":{\"outlinewidth\":0,\"tickcolor\":\"rgb(237,237,237)\",\"ticklen\":6,\"ticks\":\"inside\"},\"colorscale\":[[0,\"rgb(20,44,66)\"],[1,\"rgb(90,179,244)\"]],\"type\":\"surface\"}],\"table\":[{\"cells\":{\"fill\":{\"color\":\"rgb(237,237,237)\"},\"line\":{\"color\":\"white\"}},\"header\":{\"fill\":{\"color\":\"rgb(217,217,217)\"},\"line\":{\"color\":\"white\"}},\"type\":\"table\"}]},\"layout\":{\"annotationdefaults\":{\"arrowhead\":0,\"arrowwidth\":1},\"autotypenumbers\":\"strict\",\"coloraxis\":{\"colorbar\":{\"outlinewidth\":0,\"tickcolor\":\"rgb(237,237,237)\",\"ticklen\":6,\"ticks\":\"inside\"}},\"colorscale\":{\"sequential\":[[0,\"rgb(20,44,66)\"],[1,\"rgb(90,179,244)\"]],\"sequentialminus\":[[0,\"rgb(20,44,66)\"],[1,\"rgb(90,179,244)\"]]},\"colorway\":[\"#F8766D\",\"#A3A500\",\"#00BF7D\",\"#00B0F6\",\"#E76BF3\"],\"font\":{\"color\":\"rgb(51,51,51)\"},\"geo\":{\"bgcolor\":\"white\",\"lakecolor\":\"white\",\"landcolor\":\"rgb(237,237,237)\",\"showlakes\":true,\"showland\":true,\"subunitcolor\":\"white\"},\"hoverlabel\":{\"align\":\"left\"},\"hovermode\":\"closest\",\"paper_bgcolor\":\"white\",\"plot_bgcolor\":\"rgb(237,237,237)\",\"polar\":{\"angularaxis\":{\"gridcolor\":\"white\",\"linecolor\":\"white\",\"showgrid\":true,\"tickcolor\":\"rgb(51,51,51)\",\"ticks\":\"outside\"},\"bgcolor\":\"rgb(237,237,237)\",\"radialaxis\":{\"gridcolor\":\"white\",\"linecolor\":\"white\",\"showgrid\":true,\"tickcolor\":\"rgb(51,51,51)\",\"ticks\":\"outside\"}},\"scene\":{\"xaxis\":{\"backgroundcolor\":\"rgb(237,237,237)\",\"gridcolor\":\"white\",\"gridwidth\":2,\"linecolor\":\"white\",\"showbackground\":true,\"showgrid\":true,\"tickcolor\":\"rgb(51,51,51)\",\"ticks\":\"outside\",\"zerolinecolor\":\"white\"},\"yaxis\":{\"backgroundcolor\":\"rgb(237,237,237)\",\"gridcolor\":\"white\",\"gridwidth\":2,\"linecolor\":\"white\",\"showbackground\":true,\"showgrid\":true,\"tickcolor\":\"rgb(51,51,51)\",\"ticks\":\"outside\",\"zerolinecolor\":\"white\"},\"zaxis\":{\"backgroundcolor\":\"rgb(237,237,237)\",\"gridcolor\":\"white\",\"gridwidth\":2,\"linecolor\":\"white\",\"showbackground\":true,\"showgrid\":true,\"tickcolor\":\"rgb(51,51,51)\",\"ticks\":\"outside\",\"zerolinecolor\":\"white\"}},\"shapedefaults\":{\"fillcolor\":\"black\",\"line\":{\"width\":0},\"opacity\":0.3},\"ternary\":{\"aaxis\":{\"gridcolor\":\"white\",\"linecolor\":\"white\",\"showgrid\":true,\"tickcolor\":\"rgb(51,51,51)\",\"ticks\":\"outside\"},\"baxis\":{\"gridcolor\":\"white\",\"linecolor\":\"white\",\"showgrid\":true,\"tickcolor\":\"rgb(51,51,51)\",\"ticks\":\"outside\"},\"bgcolor\":\"rgb(237,237,237)\",\"caxis\":{\"gridcolor\":\"white\",\"linecolor\":\"white\",\"showgrid\":true,\"tickcolor\":\"rgb(51,51,51)\",\"ticks\":\"outside\"}},\"xaxis\":{\"automargin\":true,\"gridcolor\":\"white\",\"linecolor\":\"white\",\"showgrid\":true,\"tickcolor\":\"rgb(51,51,51)\",\"ticks\":\"outside\",\"title\":{\"standoff\":15},\"zerolinecolor\":\"white\"},\"yaxis\":{\"automargin\":true,\"gridcolor\":\"white\",\"linecolor\":\"white\",\"showgrid\":true,\"tickcolor\":\"rgb(51,51,51)\",\"ticks\":\"outside\",\"title\":{\"standoff\":15},\"zerolinecolor\":\"white\"}}},\"legend\":{\"orientation\":\"h\",\"yanchor\":\"bottom\",\"y\":-0.1,\"xanchor\":\"center\",\"x\":0.5},\"margin\":{\"b\":0,\"t\":0,\"l\":0,\"r\":0}},                        {\"responsive\": true}                    ).then(function(){\n",
       "                            \n",
       "var gd = document.getElementById('2fa6fed3-768a-4f2a-9e15-1043c791e619');\n",
       "var x = new MutationObserver(function (mutations, observer) {{\n",
       "        var display = window.getComputedStyle(gd).display;\n",
       "        if (!display || display === 'none') {{\n",
       "            console.log([gd, 'removed!']);\n",
       "            Plotly.purge(gd);\n",
       "            observer.disconnect();\n",
       "        }}\n",
       "}});\n",
       "\n",
       "// Listen for the removal of the full notebook cells\n",
       "var notebookContainer = gd.closest('#notebook-container');\n",
       "if (notebookContainer) {{\n",
       "    x.observe(notebookContainer, {childList: true});\n",
       "}}\n",
       "\n",
       "// Listen for the clearing of the current output cell\n",
       "var outputEl = gd.closest('.output');\n",
       "if (outputEl) {{\n",
       "    x.observe(outputEl, {childList: true});\n",
       "}}\n",
       "\n",
       "                        })                };                });            </script>        </div>"
      ]
     },
     "metadata": {},
     "output_type": "display_data"
    }
   ],
   "source": [
    "# ----------------- Pie Chart For MH Disorder Vs Techs -----------------\n",
    "all_techs_now = prep_data[prep_data['tech_role_flag'] == 1]['curr_have_mh_disorder'].count()\n",
    "no_now = prep_data[(prep_data['tech_role_flag'] == 1) & (prep_data['curr_have_mh_disorder'] == 2) & ( np.isin(prep_data['country_work_in'], country))]['curr_have_mh_disorder'].count()\n",
    "yes_now = prep_data[(prep_data['tech_role_flag'] == 1) & (prep_data['curr_have_mh_disorder'] == 3) & ( np.isin(prep_data['country_work_in'], country))]['curr_have_mh_disorder'].count()\n",
    "maybe_now = prep_data[(prep_data['tech_role_flag'] == 1) & (prep_data['curr_have_mh_disorder'] == 1) & ( np.isin(prep_data['country_work_in'], country))]['curr_have_mh_disorder'].count()\n",
    "dnt_know = prep_data[(prep_data['tech_role_flag'] == 1) & (prep_data['curr_have_mh_disorder'] == 0) & ( np.isin(prep_data['country_work_in'], country))]['curr_have_mh_disorder'].count()\n",
    "\n",
    "labels = ['Possibly', 'Yes', 'No', \"Don't Know\"]\n",
    "sizes = [no_now/all_techs_now, yes_now/all_techs_now, maybe_now/all_techs_now, dnt_know/all_techs_now]\n",
    "\n",
    "MH_disorder_by_country_fig = go.Figure(data=[go.Pie(labels = labels, values=sizes)])\n",
    "\n",
    "MH_disorder_by_country_fig.update_traces(title = 'Overall Mental Health prop%', hoverinfo='label+percent', textfont_size=12, title_font_size = 24, title_position = \"middle center\",\n",
    "                  marker=dict(line=dict(color='#FFF', width=2)), showlegend = True\n",
    "                  )\n",
    "MH_disorder_by_country_fig.update_layout(\n",
    "              template = 'ggplot2',\n",
    "              legend=dict(orientation=\"h\", yanchor=\"bottom\", y=-0.1, xanchor=\"center\", x=0.5),\n",
    "              margin=dict(b = 0, t = 0, l = 0, r = 0),\n",
    "              )\n",
    "MH_disorder_by_country_fig.show()"
   ]
  },
  {
   "cell_type": "markdown",
   "metadata": {
    "id": "bf_XOYcoKpEB"
   },
   "source": [
    "### Age Vs MH prob Vs Country"
   ]
  },
  {
   "cell_type": "code",
   "execution_count": 18,
   "metadata": {
    "executionInfo": {
     "elapsed": 54,
     "status": "aborted",
     "timestamp": 1654337002842,
     "user": {
      "displayName": "habiba mohamed",
      "userId": "01346726008568088997"
     },
     "user_tz": -120
    },
    "id": "Wg2jdEDUKpEB"
   },
   "outputs": [
    {
     "data": {
      "text/html": [
       "<div>                            <div id=\"29f8b5d5-30bd-49fa-a6be-2a46f1fe06fe\" class=\"plotly-graph-div\" style=\"height:350px; width:100%;\"></div>            <script type=\"text/javascript\">                require([\"plotly\"], function(Plotly) {                    window.PLOTLYENV=window.PLOTLYENV || {};                                    if (document.getElementById(\"29f8b5d5-30bd-49fa-a6be-2a46f1fe06fe\")) {                    Plotly.newPlot(                        \"29f8b5d5-30bd-49fa-a6be-2a46f1fe06fe\",                        [{\"hovertemplate\":\"range=%{x}<br>Count=%{y}<extra></extra>\",\"legendgroup\":\"\",\"line\":{\"color\":\"#636efa\",\"dash\":\"solid\"},\"marker\":{\"symbol\":\"circle\"},\"mode\":\"lines\",\"name\":\"\",\"orientation\":\"v\",\"showlegend\":false,\"x\":[\"20-25\",\"25-30\",\"30-35\",\"35-40\",\"40-45\",\"50-55\",\"55+\"],\"xaxis\":\"x\",\"y\":[115,229,233,193,118,54,34],\"yaxis\":\"y\",\"type\":\"scatter\"}],                        {\"template\":{\"data\":{\"barpolar\":[{\"marker\":{\"line\":{\"color\":\"rgb(234,234,242)\",\"width\":0.5},\"pattern\":{\"fillmode\":\"overlay\",\"size\":10,\"solidity\":0.2}},\"type\":\"barpolar\"}],\"bar\":[{\"error_x\":{\"color\":\"rgb(36,36,36)\"},\"error_y\":{\"color\":\"rgb(36,36,36)\"},\"marker\":{\"line\":{\"color\":\"rgb(234,234,242)\",\"width\":0.5},\"pattern\":{\"fillmode\":\"overlay\",\"size\":10,\"solidity\":0.2}},\"type\":\"bar\"}],\"carpet\":[{\"aaxis\":{\"endlinecolor\":\"rgb(36,36,36)\",\"gridcolor\":\"white\",\"linecolor\":\"white\",\"minorgridcolor\":\"white\",\"startlinecolor\":\"rgb(36,36,36)\"},\"baxis\":{\"endlinecolor\":\"rgb(36,36,36)\",\"gridcolor\":\"white\",\"linecolor\":\"white\",\"minorgridcolor\":\"white\",\"startlinecolor\":\"rgb(36,36,36)\"},\"type\":\"carpet\"}],\"choropleth\":[{\"colorbar\":{\"outlinewidth\":0,\"tickcolor\":\"rgb(36,36,36)\",\"ticklen\":8,\"ticks\":\"outside\",\"tickwidth\":2},\"type\":\"choropleth\"}],\"contourcarpet\":[{\"colorbar\":{\"outlinewidth\":0,\"tickcolor\":\"rgb(36,36,36)\",\"ticklen\":8,\"ticks\":\"outside\",\"tickwidth\":2},\"type\":\"contourcarpet\"}],\"contour\":[{\"colorbar\":{\"outlinewidth\":0,\"tickcolor\":\"rgb(36,36,36)\",\"ticklen\":8,\"ticks\":\"outside\",\"tickwidth\":2},\"colorscale\":[[0.0,\"rgb(2,4,25)\"],[0.06274509803921569,\"rgb(24,15,41)\"],[0.12549019607843137,\"rgb(47,23,57)\"],[0.18823529411764706,\"rgb(71,28,72)\"],[0.25098039215686274,\"rgb(97,30,82)\"],[0.3137254901960784,\"rgb(123,30,89)\"],[0.3764705882352941,\"rgb(150,27,91)\"],[0.4392156862745098,\"rgb(177,22,88)\"],[0.5019607843137255,\"rgb(203,26,79)\"],[0.5647058823529412,\"rgb(223,47,67)\"],[0.6274509803921569,\"rgb(236,76,61)\"],[0.6901960784313725,\"rgb(242,107,73)\"],[0.7529411764705882,\"rgb(244,135,95)\"],[0.8156862745098039,\"rgb(245,162,122)\"],[0.8784313725490196,\"rgb(246,188,153)\"],[0.9411764705882353,\"rgb(247,212,187)\"],[1.0,\"rgb(250,234,220)\"]],\"type\":\"contour\"}],\"heatmapgl\":[{\"colorbar\":{\"outlinewidth\":0,\"tickcolor\":\"rgb(36,36,36)\",\"ticklen\":8,\"ticks\":\"outside\",\"tickwidth\":2},\"colorscale\":[[0.0,\"rgb(2,4,25)\"],[0.06274509803921569,\"rgb(24,15,41)\"],[0.12549019607843137,\"rgb(47,23,57)\"],[0.18823529411764706,\"rgb(71,28,72)\"],[0.25098039215686274,\"rgb(97,30,82)\"],[0.3137254901960784,\"rgb(123,30,89)\"],[0.3764705882352941,\"rgb(150,27,91)\"],[0.4392156862745098,\"rgb(177,22,88)\"],[0.5019607843137255,\"rgb(203,26,79)\"],[0.5647058823529412,\"rgb(223,47,67)\"],[0.6274509803921569,\"rgb(236,76,61)\"],[0.6901960784313725,\"rgb(242,107,73)\"],[0.7529411764705882,\"rgb(244,135,95)\"],[0.8156862745098039,\"rgb(245,162,122)\"],[0.8784313725490196,\"rgb(246,188,153)\"],[0.9411764705882353,\"rgb(247,212,187)\"],[1.0,\"rgb(250,234,220)\"]],\"type\":\"heatmapgl\"}],\"heatmap\":[{\"colorbar\":{\"outlinewidth\":0,\"tickcolor\":\"rgb(36,36,36)\",\"ticklen\":8,\"ticks\":\"outside\",\"tickwidth\":2},\"colorscale\":[[0.0,\"rgb(2,4,25)\"],[0.06274509803921569,\"rgb(24,15,41)\"],[0.12549019607843137,\"rgb(47,23,57)\"],[0.18823529411764706,\"rgb(71,28,72)\"],[0.25098039215686274,\"rgb(97,30,82)\"],[0.3137254901960784,\"rgb(123,30,89)\"],[0.3764705882352941,\"rgb(150,27,91)\"],[0.4392156862745098,\"rgb(177,22,88)\"],[0.5019607843137255,\"rgb(203,26,79)\"],[0.5647058823529412,\"rgb(223,47,67)\"],[0.6274509803921569,\"rgb(236,76,61)\"],[0.6901960784313725,\"rgb(242,107,73)\"],[0.7529411764705882,\"rgb(244,135,95)\"],[0.8156862745098039,\"rgb(245,162,122)\"],[0.8784313725490196,\"rgb(246,188,153)\"],[0.9411764705882353,\"rgb(247,212,187)\"],[1.0,\"rgb(250,234,220)\"]],\"type\":\"heatmap\"}],\"histogram2dcontour\":[{\"colorbar\":{\"outlinewidth\":0,\"tickcolor\":\"rgb(36,36,36)\",\"ticklen\":8,\"ticks\":\"outside\",\"tickwidth\":2},\"colorscale\":[[0.0,\"rgb(2,4,25)\"],[0.06274509803921569,\"rgb(24,15,41)\"],[0.12549019607843137,\"rgb(47,23,57)\"],[0.18823529411764706,\"rgb(71,28,72)\"],[0.25098039215686274,\"rgb(97,30,82)\"],[0.3137254901960784,\"rgb(123,30,89)\"],[0.3764705882352941,\"rgb(150,27,91)\"],[0.4392156862745098,\"rgb(177,22,88)\"],[0.5019607843137255,\"rgb(203,26,79)\"],[0.5647058823529412,\"rgb(223,47,67)\"],[0.6274509803921569,\"rgb(236,76,61)\"],[0.6901960784313725,\"rgb(242,107,73)\"],[0.7529411764705882,\"rgb(244,135,95)\"],[0.8156862745098039,\"rgb(245,162,122)\"],[0.8784313725490196,\"rgb(246,188,153)\"],[0.9411764705882353,\"rgb(247,212,187)\"],[1.0,\"rgb(250,234,220)\"]],\"type\":\"histogram2dcontour\"}],\"histogram2d\":[{\"colorbar\":{\"outlinewidth\":0,\"tickcolor\":\"rgb(36,36,36)\",\"ticklen\":8,\"ticks\":\"outside\",\"tickwidth\":2},\"colorscale\":[[0.0,\"rgb(2,4,25)\"],[0.06274509803921569,\"rgb(24,15,41)\"],[0.12549019607843137,\"rgb(47,23,57)\"],[0.18823529411764706,\"rgb(71,28,72)\"],[0.25098039215686274,\"rgb(97,30,82)\"],[0.3137254901960784,\"rgb(123,30,89)\"],[0.3764705882352941,\"rgb(150,27,91)\"],[0.4392156862745098,\"rgb(177,22,88)\"],[0.5019607843137255,\"rgb(203,26,79)\"],[0.5647058823529412,\"rgb(223,47,67)\"],[0.6274509803921569,\"rgb(236,76,61)\"],[0.6901960784313725,\"rgb(242,107,73)\"],[0.7529411764705882,\"rgb(244,135,95)\"],[0.8156862745098039,\"rgb(245,162,122)\"],[0.8784313725490196,\"rgb(246,188,153)\"],[0.9411764705882353,\"rgb(247,212,187)\"],[1.0,\"rgb(250,234,220)\"]],\"type\":\"histogram2d\"}],\"histogram\":[{\"marker\":{\"pattern\":{\"fillmode\":\"overlay\",\"size\":10,\"solidity\":0.2}},\"type\":\"histogram\"}],\"mesh3d\":[{\"colorbar\":{\"outlinewidth\":0,\"tickcolor\":\"rgb(36,36,36)\",\"ticklen\":8,\"ticks\":\"outside\",\"tickwidth\":2},\"type\":\"mesh3d\"}],\"parcoords\":[{\"line\":{\"colorbar\":{\"outlinewidth\":0,\"tickcolor\":\"rgb(36,36,36)\",\"ticklen\":8,\"ticks\":\"outside\",\"tickwidth\":2}},\"type\":\"parcoords\"}],\"pie\":[{\"automargin\":true,\"type\":\"pie\"}],\"scatter3d\":[{\"line\":{\"colorbar\":{\"outlinewidth\":0,\"tickcolor\":\"rgb(36,36,36)\",\"ticklen\":8,\"ticks\":\"outside\",\"tickwidth\":2}},\"marker\":{\"colorbar\":{\"outlinewidth\":0,\"tickcolor\":\"rgb(36,36,36)\",\"ticklen\":8,\"ticks\":\"outside\",\"tickwidth\":2}},\"type\":\"scatter3d\"}],\"scattercarpet\":[{\"marker\":{\"colorbar\":{\"outlinewidth\":0,\"tickcolor\":\"rgb(36,36,36)\",\"ticklen\":8,\"ticks\":\"outside\",\"tickwidth\":2}},\"type\":\"scattercarpet\"}],\"scattergeo\":[{\"marker\":{\"colorbar\":{\"outlinewidth\":0,\"tickcolor\":\"rgb(36,36,36)\",\"ticklen\":8,\"ticks\":\"outside\",\"tickwidth\":2}},\"type\":\"scattergeo\"}],\"scattergl\":[{\"marker\":{\"colorbar\":{\"outlinewidth\":0,\"tickcolor\":\"rgb(36,36,36)\",\"ticklen\":8,\"ticks\":\"outside\",\"tickwidth\":2}},\"type\":\"scattergl\"}],\"scattermapbox\":[{\"marker\":{\"colorbar\":{\"outlinewidth\":0,\"tickcolor\":\"rgb(36,36,36)\",\"ticklen\":8,\"ticks\":\"outside\",\"tickwidth\":2}},\"type\":\"scattermapbox\"}],\"scatterpolargl\":[{\"marker\":{\"colorbar\":{\"outlinewidth\":0,\"tickcolor\":\"rgb(36,36,36)\",\"ticklen\":8,\"ticks\":\"outside\",\"tickwidth\":2}},\"type\":\"scatterpolargl\"}],\"scatterpolar\":[{\"marker\":{\"colorbar\":{\"outlinewidth\":0,\"tickcolor\":\"rgb(36,36,36)\",\"ticklen\":8,\"ticks\":\"outside\",\"tickwidth\":2}},\"type\":\"scatterpolar\"}],\"scatter\":[{\"fillpattern\":{\"fillmode\":\"overlay\",\"size\":10,\"solidity\":0.2},\"type\":\"scatter\"}],\"scatterternary\":[{\"marker\":{\"colorbar\":{\"outlinewidth\":0,\"tickcolor\":\"rgb(36,36,36)\",\"ticklen\":8,\"ticks\":\"outside\",\"tickwidth\":2}},\"type\":\"scatterternary\"}],\"surface\":[{\"colorbar\":{\"outlinewidth\":0,\"tickcolor\":\"rgb(36,36,36)\",\"ticklen\":8,\"ticks\":\"outside\",\"tickwidth\":2},\"colorscale\":[[0.0,\"rgb(2,4,25)\"],[0.06274509803921569,\"rgb(24,15,41)\"],[0.12549019607843137,\"rgb(47,23,57)\"],[0.18823529411764706,\"rgb(71,28,72)\"],[0.25098039215686274,\"rgb(97,30,82)\"],[0.3137254901960784,\"rgb(123,30,89)\"],[0.3764705882352941,\"rgb(150,27,91)\"],[0.4392156862745098,\"rgb(177,22,88)\"],[0.5019607843137255,\"rgb(203,26,79)\"],[0.5647058823529412,\"rgb(223,47,67)\"],[0.6274509803921569,\"rgb(236,76,61)\"],[0.6901960784313725,\"rgb(242,107,73)\"],[0.7529411764705882,\"rgb(244,135,95)\"],[0.8156862745098039,\"rgb(245,162,122)\"],[0.8784313725490196,\"rgb(246,188,153)\"],[0.9411764705882353,\"rgb(247,212,187)\"],[1.0,\"rgb(250,234,220)\"]],\"type\":\"surface\"}],\"table\":[{\"cells\":{\"fill\":{\"color\":\"rgb(231,231,240)\"},\"line\":{\"color\":\"white\"}},\"header\":{\"fill\":{\"color\":\"rgb(183,183,191)\"},\"line\":{\"color\":\"white\"}},\"type\":\"table\"}]},\"layout\":{\"annotationdefaults\":{\"arrowcolor\":\"rgb(67,103,167)\"},\"autotypenumbers\":\"strict\",\"coloraxis\":{\"colorbar\":{\"outlinewidth\":0,\"tickcolor\":\"rgb(36,36,36)\",\"ticklen\":8,\"ticks\":\"outside\",\"tickwidth\":2}},\"colorscale\":{\"sequential\":[[0.0,\"rgb(2,4,25)\"],[0.06274509803921569,\"rgb(24,15,41)\"],[0.12549019607843137,\"rgb(47,23,57)\"],[0.18823529411764706,\"rgb(71,28,72)\"],[0.25098039215686274,\"rgb(97,30,82)\"],[0.3137254901960784,\"rgb(123,30,89)\"],[0.3764705882352941,\"rgb(150,27,91)\"],[0.4392156862745098,\"rgb(177,22,88)\"],[0.5019607843137255,\"rgb(203,26,79)\"],[0.5647058823529412,\"rgb(223,47,67)\"],[0.6274509803921569,\"rgb(236,76,61)\"],[0.6901960784313725,\"rgb(242,107,73)\"],[0.7529411764705882,\"rgb(244,135,95)\"],[0.8156862745098039,\"rgb(245,162,122)\"],[0.8784313725490196,\"rgb(246,188,153)\"],[0.9411764705882353,\"rgb(247,212,187)\"],[1.0,\"rgb(250,234,220)\"]],\"sequentialminus\":[[0.0,\"rgb(2,4,25)\"],[0.06274509803921569,\"rgb(24,15,41)\"],[0.12549019607843137,\"rgb(47,23,57)\"],[0.18823529411764706,\"rgb(71,28,72)\"],[0.25098039215686274,\"rgb(97,30,82)\"],[0.3137254901960784,\"rgb(123,30,89)\"],[0.3764705882352941,\"rgb(150,27,91)\"],[0.4392156862745098,\"rgb(177,22,88)\"],[0.5019607843137255,\"rgb(203,26,79)\"],[0.5647058823529412,\"rgb(223,47,67)\"],[0.6274509803921569,\"rgb(236,76,61)\"],[0.6901960784313725,\"rgb(242,107,73)\"],[0.7529411764705882,\"rgb(244,135,95)\"],[0.8156862745098039,\"rgb(245,162,122)\"],[0.8784313725490196,\"rgb(246,188,153)\"],[0.9411764705882353,\"rgb(247,212,187)\"],[1.0,\"rgb(250,234,220)\"]]},\"colorway\":[\"rgb(76,114,176)\",\"rgb(221,132,82)\",\"rgb(85,168,104)\",\"rgb(196,78,82)\",\"rgb(129,114,179)\",\"rgb(147,120,96)\",\"rgb(218,139,195)\",\"rgb(140,140,140)\",\"rgb(204,185,116)\",\"rgb(100,181,205)\"],\"font\":{\"color\":\"rgb(36,36,36)\"},\"geo\":{\"bgcolor\":\"white\",\"lakecolor\":\"white\",\"landcolor\":\"rgb(234,234,242)\",\"showlakes\":true,\"showland\":true,\"subunitcolor\":\"white\"},\"hoverlabel\":{\"align\":\"left\"},\"hovermode\":\"closest\",\"paper_bgcolor\":\"white\",\"plot_bgcolor\":\"rgb(234,234,242)\",\"polar\":{\"angularaxis\":{\"gridcolor\":\"white\",\"linecolor\":\"white\",\"showgrid\":true,\"ticks\":\"\"},\"bgcolor\":\"rgb(234,234,242)\",\"radialaxis\":{\"gridcolor\":\"white\",\"linecolor\":\"white\",\"showgrid\":true,\"ticks\":\"\"}},\"scene\":{\"xaxis\":{\"backgroundcolor\":\"rgb(234,234,242)\",\"gridcolor\":\"white\",\"gridwidth\":2,\"linecolor\":\"white\",\"showbackground\":true,\"showgrid\":true,\"ticks\":\"\",\"zerolinecolor\":\"white\"},\"yaxis\":{\"backgroundcolor\":\"rgb(234,234,242)\",\"gridcolor\":\"white\",\"gridwidth\":2,\"linecolor\":\"white\",\"showbackground\":true,\"showgrid\":true,\"ticks\":\"\",\"zerolinecolor\":\"white\"},\"zaxis\":{\"backgroundcolor\":\"rgb(234,234,242)\",\"gridcolor\":\"white\",\"gridwidth\":2,\"linecolor\":\"white\",\"showbackground\":true,\"showgrid\":true,\"ticks\":\"\",\"zerolinecolor\":\"white\"}},\"shapedefaults\":{\"fillcolor\":\"rgb(67,103,167)\",\"line\":{\"width\":0},\"opacity\":0.5},\"ternary\":{\"aaxis\":{\"gridcolor\":\"white\",\"linecolor\":\"white\",\"showgrid\":true,\"ticks\":\"\"},\"baxis\":{\"gridcolor\":\"white\",\"linecolor\":\"white\",\"showgrid\":true,\"ticks\":\"\"},\"bgcolor\":\"rgb(234,234,242)\",\"caxis\":{\"gridcolor\":\"white\",\"linecolor\":\"white\",\"showgrid\":true,\"ticks\":\"\"}},\"xaxis\":{\"automargin\":true,\"gridcolor\":\"white\",\"linecolor\":\"white\",\"showgrid\":true,\"ticks\":\"\",\"title\":{\"standoff\":15},\"zerolinecolor\":\"white\"},\"yaxis\":{\"automargin\":true,\"gridcolor\":\"white\",\"linecolor\":\"white\",\"showgrid\":true,\"ticks\":\"\",\"title\":{\"standoff\":15},\"zerolinecolor\":\"white\"}}},\"xaxis\":{\"anchor\":\"y\",\"domain\":[0.0,1.0],\"title\":{\"text\":\"range\"}},\"yaxis\":{\"anchor\":\"x\",\"domain\":[0.0,1.0],\"title\":{\"text\":\"Count\"}},\"legend\":{\"tracegroupgap\":0},\"margin\":{\"t\":0,\"b\":0,\"l\":0,\"r\":0},\"height\":350},                        {\"responsive\": true}                    ).then(function(){\n",
       "                            \n",
       "var gd = document.getElementById('29f8b5d5-30bd-49fa-a6be-2a46f1fe06fe');\n",
       "var x = new MutationObserver(function (mutations, observer) {{\n",
       "        var display = window.getComputedStyle(gd).display;\n",
       "        if (!display || display === 'none') {{\n",
       "            console.log([gd, 'removed!']);\n",
       "            Plotly.purge(gd);\n",
       "            observer.disconnect();\n",
       "        }}\n",
       "}});\n",
       "\n",
       "// Listen for the removal of the full notebook cells\n",
       "var notebookContainer = gd.closest('#notebook-container');\n",
       "if (notebookContainer) {{\n",
       "    x.observe(notebookContainer, {childList: true});\n",
       "}}\n",
       "\n",
       "// Listen for the clearing of the current output cell\n",
       "var outputEl = gd.closest('.output');\n",
       "if (outputEl) {{\n",
       "    x.observe(outputEl, {childList: true});\n",
       "}}\n",
       "\n",
       "                        })                };                });            </script>        </div>"
      ]
     },
     "metadata": {},
     "output_type": "display_data"
    }
   ],
   "source": [
    "def draw_Age_Vs_MH_prob_Vs_Country (country) :\n",
    "    bins = [20, 26, 31, 36, 41, 46, 51, 56]\n",
    "    labels = ['20-25', '25-30', '30-35', '35-40', '40-45', '50-55', '55+']\n",
    "    \n",
    "    age_by_county  = prep_data[(prep_data['tech_role_flag'] == 1 ) & ( np.isin(prep_data['country_work_in'], country))][['age']]\n",
    "    # grouping ages\n",
    "    age_by_county['range'] = pd.cut(age_by_county.age, bins, labels = labels,include_lowest = True)\n",
    "    #count values\n",
    "    age_by_county = age_by_county.groupby(by =['range']).size().rename('Count').reset_index().sort_values(by = ['range'])\n",
    "    \n",
    "    Age_Vs_MH_prob_Vs_Country = px.line(age_by_county, x = 'range', y = 'Count')\n",
    "    Age_Vs_MH_prob_Vs_Country.update_layout(margin=dict(b = 0, t = 0, l = 0, r = 0), height = 350, template = 'seaborn')\n",
    "    return Age_Vs_MH_prob_Vs_Country\n",
    "draw_Age_Vs_MH_prob_Vs_Country (country)"
   ]
  },
  {
   "cell_type": "markdown",
   "metadata": {
    "id": "Qhk3HBg4KpEC"
   },
   "source": [
    "### Yes have a mental health problem response in country Vs years "
   ]
  },
  {
   "cell_type": "code",
   "execution_count": 19,
   "metadata": {
    "executionInfo": {
     "elapsed": 54,
     "status": "aborted",
     "timestamp": 1654337002842,
     "user": {
      "displayName": "habiba mohamed",
      "userId": "01346726008568088997"
     },
     "user_tz": -120
    },
    "id": "cw_GQDziKpEC"
   },
   "outputs": [
    {
     "data": {
      "text/html": [
       "<div>                            <div id=\"93f53b51-f89a-48cf-8424-a62846198732\" class=\"plotly-graph-div\" style=\"height:400px; width:700px;\"></div>            <script type=\"text/javascript\">                require([\"plotly\"], function(Plotly) {                    window.PLOTLYENV=window.PLOTLYENV || {};                                    if (document.getElementById(\"93f53b51-f89a-48cf-8424-a62846198732\")) {                    Plotly.newPlot(                        \"93f53b51-f89a-48cf-8424-a62846198732\",                        [{\"hovertemplate\":\"year=%{x}<br>avg=%{y}<extra></extra>\",\"legendgroup\":\"\",\"line\":{\"color\":\"#636efa\",\"dash\":\"solid\"},\"marker\":{\"symbol\":\"circle\"},\"mode\":\"markers+lines\",\"name\":\"\",\"orientation\":\"v\",\"showlegend\":false,\"x\":[\"2017\",\"2018\",\"2019\",\"2020\"],\"xaxis\":\"x\",\"y\":[49.0,51.0,51.0,39.0],\"yaxis\":\"y\",\"type\":\"scatter\"},{\"x\":[\"2017\",\"2018\",\"2019\",\"2020\"],\"y\":[49.0,51.0,51.0,39.0],\"type\":\"bar\"}],                        {\"template\":{\"data\":{\"histogram2dcontour\":[{\"type\":\"histogram2dcontour\",\"colorbar\":{\"outlinewidth\":0,\"ticks\":\"\"},\"colorscale\":[[0.0,\"#0d0887\"],[0.1111111111111111,\"#46039f\"],[0.2222222222222222,\"#7201a8\"],[0.3333333333333333,\"#9c179e\"],[0.4444444444444444,\"#bd3786\"],[0.5555555555555556,\"#d8576b\"],[0.6666666666666666,\"#ed7953\"],[0.7777777777777778,\"#fb9f3a\"],[0.8888888888888888,\"#fdca26\"],[1.0,\"#f0f921\"]]}],\"choropleth\":[{\"type\":\"choropleth\",\"colorbar\":{\"outlinewidth\":0,\"ticks\":\"\"}}],\"histogram2d\":[{\"type\":\"histogram2d\",\"colorbar\":{\"outlinewidth\":0,\"ticks\":\"\"},\"colorscale\":[[0.0,\"#0d0887\"],[0.1111111111111111,\"#46039f\"],[0.2222222222222222,\"#7201a8\"],[0.3333333333333333,\"#9c179e\"],[0.4444444444444444,\"#bd3786\"],[0.5555555555555556,\"#d8576b\"],[0.6666666666666666,\"#ed7953\"],[0.7777777777777778,\"#fb9f3a\"],[0.8888888888888888,\"#fdca26\"],[1.0,\"#f0f921\"]]}],\"heatmap\":[{\"type\":\"heatmap\",\"colorbar\":{\"outlinewidth\":0,\"ticks\":\"\"},\"colorscale\":[[0.0,\"#0d0887\"],[0.1111111111111111,\"#46039f\"],[0.2222222222222222,\"#7201a8\"],[0.3333333333333333,\"#9c179e\"],[0.4444444444444444,\"#bd3786\"],[0.5555555555555556,\"#d8576b\"],[0.6666666666666666,\"#ed7953\"],[0.7777777777777778,\"#fb9f3a\"],[0.8888888888888888,\"#fdca26\"],[1.0,\"#f0f921\"]]}],\"heatmapgl\":[{\"type\":\"heatmapgl\",\"colorbar\":{\"outlinewidth\":0,\"ticks\":\"\"},\"colorscale\":[[0.0,\"#0d0887\"],[0.1111111111111111,\"#46039f\"],[0.2222222222222222,\"#7201a8\"],[0.3333333333333333,\"#9c179e\"],[0.4444444444444444,\"#bd3786\"],[0.5555555555555556,\"#d8576b\"],[0.6666666666666666,\"#ed7953\"],[0.7777777777777778,\"#fb9f3a\"],[0.8888888888888888,\"#fdca26\"],[1.0,\"#f0f921\"]]}],\"contourcarpet\":[{\"type\":\"contourcarpet\",\"colorbar\":{\"outlinewidth\":0,\"ticks\":\"\"}}],\"contour\":[{\"type\":\"contour\",\"colorbar\":{\"outlinewidth\":0,\"ticks\":\"\"},\"colorscale\":[[0.0,\"#0d0887\"],[0.1111111111111111,\"#46039f\"],[0.2222222222222222,\"#7201a8\"],[0.3333333333333333,\"#9c179e\"],[0.4444444444444444,\"#bd3786\"],[0.5555555555555556,\"#d8576b\"],[0.6666666666666666,\"#ed7953\"],[0.7777777777777778,\"#fb9f3a\"],[0.8888888888888888,\"#fdca26\"],[1.0,\"#f0f921\"]]}],\"surface\":[{\"type\":\"surface\",\"colorbar\":{\"outlinewidth\":0,\"ticks\":\"\"},\"colorscale\":[[0.0,\"#0d0887\"],[0.1111111111111111,\"#46039f\"],[0.2222222222222222,\"#7201a8\"],[0.3333333333333333,\"#9c179e\"],[0.4444444444444444,\"#bd3786\"],[0.5555555555555556,\"#d8576b\"],[0.6666666666666666,\"#ed7953\"],[0.7777777777777778,\"#fb9f3a\"],[0.8888888888888888,\"#fdca26\"],[1.0,\"#f0f921\"]]}],\"mesh3d\":[{\"type\":\"mesh3d\",\"colorbar\":{\"outlinewidth\":0,\"ticks\":\"\"}}],\"scatter\":[{\"fillpattern\":{\"fillmode\":\"overlay\",\"size\":10,\"solidity\":0.2},\"type\":\"scatter\"}],\"parcoords\":[{\"type\":\"parcoords\",\"line\":{\"colorbar\":{\"outlinewidth\":0,\"ticks\":\"\"}}}],\"scatterpolargl\":[{\"type\":\"scatterpolargl\",\"marker\":{\"colorbar\":{\"outlinewidth\":0,\"ticks\":\"\"}}}],\"bar\":[{\"error_x\":{\"color\":\"#2a3f5f\"},\"error_y\":{\"color\":\"#2a3f5f\"},\"marker\":{\"line\":{\"color\":\"#E5ECF6\",\"width\":0.5},\"pattern\":{\"fillmode\":\"overlay\",\"size\":10,\"solidity\":0.2}},\"type\":\"bar\"}],\"scattergeo\":[{\"type\":\"scattergeo\",\"marker\":{\"colorbar\":{\"outlinewidth\":0,\"ticks\":\"\"}}}],\"scatterpolar\":[{\"type\":\"scatterpolar\",\"marker\":{\"colorbar\":{\"outlinewidth\":0,\"ticks\":\"\"}}}],\"histogram\":[{\"marker\":{\"pattern\":{\"fillmode\":\"overlay\",\"size\":10,\"solidity\":0.2}},\"type\":\"histogram\"}],\"scattergl\":[{\"type\":\"scattergl\",\"marker\":{\"colorbar\":{\"outlinewidth\":0,\"ticks\":\"\"}}}],\"scatter3d\":[{\"type\":\"scatter3d\",\"line\":{\"colorbar\":{\"outlinewidth\":0,\"ticks\":\"\"}},\"marker\":{\"colorbar\":{\"outlinewidth\":0,\"ticks\":\"\"}}}],\"scattermapbox\":[{\"type\":\"scattermapbox\",\"marker\":{\"colorbar\":{\"outlinewidth\":0,\"ticks\":\"\"}}}],\"scatterternary\":[{\"type\":\"scatterternary\",\"marker\":{\"colorbar\":{\"outlinewidth\":0,\"ticks\":\"\"}}}],\"scattercarpet\":[{\"type\":\"scattercarpet\",\"marker\":{\"colorbar\":{\"outlinewidth\":0,\"ticks\":\"\"}}}],\"carpet\":[{\"aaxis\":{\"endlinecolor\":\"#2a3f5f\",\"gridcolor\":\"white\",\"linecolor\":\"white\",\"minorgridcolor\":\"white\",\"startlinecolor\":\"#2a3f5f\"},\"baxis\":{\"endlinecolor\":\"#2a3f5f\",\"gridcolor\":\"white\",\"linecolor\":\"white\",\"minorgridcolor\":\"white\",\"startlinecolor\":\"#2a3f5f\"},\"type\":\"carpet\"}],\"table\":[{\"cells\":{\"fill\":{\"color\":\"#EBF0F8\"},\"line\":{\"color\":\"white\"}},\"header\":{\"fill\":{\"color\":\"#C8D4E3\"},\"line\":{\"color\":\"white\"}},\"type\":\"table\"}],\"barpolar\":[{\"marker\":{\"line\":{\"color\":\"#E5ECF6\",\"width\":0.5},\"pattern\":{\"fillmode\":\"overlay\",\"size\":10,\"solidity\":0.2}},\"type\":\"barpolar\"}],\"pie\":[{\"automargin\":true,\"type\":\"pie\"}]},\"layout\":{\"autotypenumbers\":\"strict\",\"colorway\":[\"#636efa\",\"#EF553B\",\"#00cc96\",\"#ab63fa\",\"#FFA15A\",\"#19d3f3\",\"#FF6692\",\"#B6E880\",\"#FF97FF\",\"#FECB52\"],\"font\":{\"color\":\"#2a3f5f\"},\"hovermode\":\"closest\",\"hoverlabel\":{\"align\":\"left\"},\"paper_bgcolor\":\"white\",\"plot_bgcolor\":\"#E5ECF6\",\"polar\":{\"bgcolor\":\"#E5ECF6\",\"angularaxis\":{\"gridcolor\":\"white\",\"linecolor\":\"white\",\"ticks\":\"\"},\"radialaxis\":{\"gridcolor\":\"white\",\"linecolor\":\"white\",\"ticks\":\"\"}},\"ternary\":{\"bgcolor\":\"#E5ECF6\",\"aaxis\":{\"gridcolor\":\"white\",\"linecolor\":\"white\",\"ticks\":\"\"},\"baxis\":{\"gridcolor\":\"white\",\"linecolor\":\"white\",\"ticks\":\"\"},\"caxis\":{\"gridcolor\":\"white\",\"linecolor\":\"white\",\"ticks\":\"\"}},\"coloraxis\":{\"colorbar\":{\"outlinewidth\":0,\"ticks\":\"\"}},\"colorscale\":{\"sequential\":[[0.0,\"#0d0887\"],[0.1111111111111111,\"#46039f\"],[0.2222222222222222,\"#7201a8\"],[0.3333333333333333,\"#9c179e\"],[0.4444444444444444,\"#bd3786\"],[0.5555555555555556,\"#d8576b\"],[0.6666666666666666,\"#ed7953\"],[0.7777777777777778,\"#fb9f3a\"],[0.8888888888888888,\"#fdca26\"],[1.0,\"#f0f921\"]],\"sequentialminus\":[[0.0,\"#0d0887\"],[0.1111111111111111,\"#46039f\"],[0.2222222222222222,\"#7201a8\"],[0.3333333333333333,\"#9c179e\"],[0.4444444444444444,\"#bd3786\"],[0.5555555555555556,\"#d8576b\"],[0.6666666666666666,\"#ed7953\"],[0.7777777777777778,\"#fb9f3a\"],[0.8888888888888888,\"#fdca26\"],[1.0,\"#f0f921\"]],\"diverging\":[[0,\"#8e0152\"],[0.1,\"#c51b7d\"],[0.2,\"#de77ae\"],[0.3,\"#f1b6da\"],[0.4,\"#fde0ef\"],[0.5,\"#f7f7f7\"],[0.6,\"#e6f5d0\"],[0.7,\"#b8e186\"],[0.8,\"#7fbc41\"],[0.9,\"#4d9221\"],[1,\"#276419\"]]},\"xaxis\":{\"gridcolor\":\"white\",\"linecolor\":\"white\",\"ticks\":\"\",\"title\":{\"standoff\":15},\"zerolinecolor\":\"white\",\"automargin\":true,\"zerolinewidth\":2},\"yaxis\":{\"gridcolor\":\"white\",\"linecolor\":\"white\",\"ticks\":\"\",\"title\":{\"standoff\":15},\"zerolinecolor\":\"white\",\"automargin\":true,\"zerolinewidth\":2},\"scene\":{\"xaxis\":{\"backgroundcolor\":\"#E5ECF6\",\"gridcolor\":\"white\",\"linecolor\":\"white\",\"showbackground\":true,\"ticks\":\"\",\"zerolinecolor\":\"white\",\"gridwidth\":2},\"yaxis\":{\"backgroundcolor\":\"#E5ECF6\",\"gridcolor\":\"white\",\"linecolor\":\"white\",\"showbackground\":true,\"ticks\":\"\",\"zerolinecolor\":\"white\",\"gridwidth\":2},\"zaxis\":{\"backgroundcolor\":\"#E5ECF6\",\"gridcolor\":\"white\",\"linecolor\":\"white\",\"showbackground\":true,\"ticks\":\"\",\"zerolinecolor\":\"white\",\"gridwidth\":2}},\"shapedefaults\":{\"line\":{\"color\":\"#2a3f5f\"}},\"annotationdefaults\":{\"arrowcolor\":\"#2a3f5f\",\"arrowhead\":0,\"arrowwidth\":1},\"geo\":{\"bgcolor\":\"white\",\"landcolor\":\"#E5ECF6\",\"subunitcolor\":\"white\",\"showland\":true,\"showlakes\":true,\"lakecolor\":\"white\"},\"title\":{\"x\":0.05},\"mapbox\":{\"style\":\"light\"}}},\"xaxis\":{\"anchor\":\"y\",\"domain\":[0.0,1.0],\"title\":{\"text\":\"year\"}},\"yaxis\":{\"anchor\":\"x\",\"domain\":[0.0,1.0],\"title\":{\"text\":\"Percent\"},\"range\":[0,100]},\"legend\":{\"tracegroupgap\":0,\"title\":{\"text\":\"Have Mental Health Problem?\"}},\"title\":{\"text\":\"Mental Health problem among years\"},\"width\":700,\"height\":400,\"barmode\":\"group\"},                        {\"responsive\": true}                    ).then(function(){\n",
       "                            \n",
       "var gd = document.getElementById('93f53b51-f89a-48cf-8424-a62846198732');\n",
       "var x = new MutationObserver(function (mutations, observer) {{\n",
       "        var display = window.getComputedStyle(gd).display;\n",
       "        if (!display || display === 'none') {{\n",
       "            console.log([gd, 'removed!']);\n",
       "            Plotly.purge(gd);\n",
       "            observer.disconnect();\n",
       "        }}\n",
       "}});\n",
       "\n",
       "// Listen for the removal of the full notebook cells\n",
       "var notebookContainer = gd.closest('#notebook-container');\n",
       "if (notebookContainer) {{\n",
       "    x.observe(notebookContainer, {childList: true});\n",
       "}}\n",
       "\n",
       "// Listen for the clearing of the current output cell\n",
       "var outputEl = gd.closest('.output');\n",
       "if (outputEl) {{\n",
       "    x.observe(outputEl, {childList: true});\n",
       "}}\n",
       "\n",
       "                        })                };                });            </script>        </div>"
      ]
     },
     "metadata": {},
     "output_type": "display_data"
    }
   ],
   "source": [
    "# total Num among year \n",
    "years = pd.DataFrame(['2017', '2018', '2019', '2020'])\n",
    "total_2017 = prep_data [(prep_data['year'] == '2017') & ( np.isin(prep_data['country_work_in'], country))].shape[0]\n",
    "total_2018 = prep_data [(prep_data['year'] == '2018') & ( np.isin(prep_data['country_work_in'], country))].shape[0]\n",
    "total_2019 = prep_data [(prep_data['year'] == '2019') & ( np.isin(prep_data['country_work_in'], country))].shape[0]\n",
    "total_2020 = prep_data [(prep_data['year'] == '2020') & ( np.isin(prep_data['country_work_in'], country))].shape[0]\n",
    "total_to_be_divided =pd.DataFrame([total_2017, total_2018, total_2019, total_2020]).rename(columns = {0:'count'})\n",
    "total_to_be_divided = pd.concat([years ,total_to_be_divided], axis= 1).rename(columns = {0 : \"year\"})\n",
    "\n",
    "# Mental health Prob preparation\n",
    "Mh_by_year  = prep_data[(prep_data['curr_have_mh_disorder'] == 3 ) & ( np.isin(prep_data['country_work_in'], country))][['year']]\n",
    "Mh_by_year = pd.DataFrame(Mh_by_year.groupby(by=['year'])['year'].size().rename('Count').reset_index().sort_values(by = ['year'])['Count'])\n",
    "avg = pd.DataFrame((Mh_by_year['Count'])/ total_to_be_divided['count'] * 100).round(0)\n",
    "avg_Mh_by_year = pd.concat([years ,avg], axis= 1)\n",
    "avg_Mh_by_year.columns = ['year', 'avg']\n",
    "\n",
    "# plot\n",
    "fig = px.line(avg_Mh_by_year, x='year', y='avg', width = 1000, markers = True, title = 'Mental Health Problems In Tech Industry among years ', range_y =[0, 100])\n",
    "fig.add_bar( x=avg_Mh_by_year['year'], y=avg_Mh_by_year['avg'])\n",
    "fig.update_layout(\n",
    "    width = 700,\n",
    "    height = 400,\n",
    "    barmode='group', \n",
    "    title=\"Mental Health problem among years\",\n",
    "    xaxis_title=\"year\",\n",
    "    yaxis_title=\"Percent\",\n",
    "    legend_title=\"Have Mental Health Problem?\",\n",
    "    )\n",
    "fig.show()"
   ]
  },
  {
   "cell_type": "markdown",
   "metadata": {
    "id": "sfYo6SheKpEC"
   },
   "source": [
    "### All responses in Countries Vs years "
   ]
  },
  {
   "cell_type": "code",
   "execution_count": 20,
   "metadata": {
    "executionInfo": {
     "elapsed": 56,
     "status": "aborted",
     "timestamp": 1654337002845,
     "user": {
      "displayName": "habiba mohamed",
      "userId": "01346726008568088997"
     },
     "user_tz": -120
    },
    "id": "kwoQK3R7KpEC"
   },
   "outputs": [
    {
     "data": {
      "text/html": [
       "<div>                            <div id=\"c767371c-dfe5-4cc2-b9d2-ebfa884ed5ce\" class=\"plotly-graph-div\" style=\"height:350px; width:100%;\"></div>            <script type=\"text/javascript\">                require([\"plotly\"], function(Plotly) {                    window.PLOTLYENV=window.PLOTLYENV || {};                                    if (document.getElementById(\"c767371c-dfe5-4cc2-b9d2-ebfa884ed5ce\")) {                    Plotly.newPlot(                        \"c767371c-dfe5-4cc2-b9d2-ebfa884ed5ce\",                        [{\"marker\":{\"color\":\"#f1e3dd\",\"line\":{\"color\":\"rgb(5,5,5)\",\"width\":1}},\"name\":\"No\",\"x\":[\"2017\",\"2018\",\"2019\",\"2020\"],\"y\":[7.0,6.0,5.0,3.0],\"type\":\"bar\"},{\"marker\":{\"color\":\"#bccad6\",\"line\":{\"color\":\"rgb(5,5,5)\",\"width\":1}},\"name\":\"Don't Know\",\"x\":[\"2017\",\"2018\",\"2019\",\"2020\"],\"y\":[25.0,24.0,25.0,30.0],\"type\":\"bar\"},{\"marker\":{\"color\":\"#8d9db6\",\"line\":{\"color\":\"rgb(5,5,5)\",\"width\":1}},\"name\":\"Possibly\",\"x\":[\"2017\",\"2018\",\"2019\",\"2020\"],\"y\":[19.0,19.0,19.0,27.0],\"type\":\"bar\"},{\"marker\":{\"color\":\"#6b5b95\",\"line\":{\"color\":\"rgb(5,5,5)\",\"width\":1}},\"name\":\"Yes\",\"x\":[\"2017\",\"2018\",\"2019\",\"2020\"],\"y\":[49.0,51.0,51.0,39.0],\"type\":\"bar\"}],                        {\"template\":{\"data\":{\"histogram2dcontour\":[{\"type\":\"histogram2dcontour\",\"colorbar\":{\"outlinewidth\":0,\"ticks\":\"\"},\"colorscale\":[[0.0,\"#0d0887\"],[0.1111111111111111,\"#46039f\"],[0.2222222222222222,\"#7201a8\"],[0.3333333333333333,\"#9c179e\"],[0.4444444444444444,\"#bd3786\"],[0.5555555555555556,\"#d8576b\"],[0.6666666666666666,\"#ed7953\"],[0.7777777777777778,\"#fb9f3a\"],[0.8888888888888888,\"#fdca26\"],[1.0,\"#f0f921\"]]}],\"choropleth\":[{\"type\":\"choropleth\",\"colorbar\":{\"outlinewidth\":0,\"ticks\":\"\"}}],\"histogram2d\":[{\"type\":\"histogram2d\",\"colorbar\":{\"outlinewidth\":0,\"ticks\":\"\"},\"colorscale\":[[0.0,\"#0d0887\"],[0.1111111111111111,\"#46039f\"],[0.2222222222222222,\"#7201a8\"],[0.3333333333333333,\"#9c179e\"],[0.4444444444444444,\"#bd3786\"],[0.5555555555555556,\"#d8576b\"],[0.6666666666666666,\"#ed7953\"],[0.7777777777777778,\"#fb9f3a\"],[0.8888888888888888,\"#fdca26\"],[1.0,\"#f0f921\"]]}],\"heatmap\":[{\"type\":\"heatmap\",\"colorbar\":{\"outlinewidth\":0,\"ticks\":\"\"},\"colorscale\":[[0.0,\"#0d0887\"],[0.1111111111111111,\"#46039f\"],[0.2222222222222222,\"#7201a8\"],[0.3333333333333333,\"#9c179e\"],[0.4444444444444444,\"#bd3786\"],[0.5555555555555556,\"#d8576b\"],[0.6666666666666666,\"#ed7953\"],[0.7777777777777778,\"#fb9f3a\"],[0.8888888888888888,\"#fdca26\"],[1.0,\"#f0f921\"]]}],\"heatmapgl\":[{\"type\":\"heatmapgl\",\"colorbar\":{\"outlinewidth\":0,\"ticks\":\"\"},\"colorscale\":[[0.0,\"#0d0887\"],[0.1111111111111111,\"#46039f\"],[0.2222222222222222,\"#7201a8\"],[0.3333333333333333,\"#9c179e\"],[0.4444444444444444,\"#bd3786\"],[0.5555555555555556,\"#d8576b\"],[0.6666666666666666,\"#ed7953\"],[0.7777777777777778,\"#fb9f3a\"],[0.8888888888888888,\"#fdca26\"],[1.0,\"#f0f921\"]]}],\"contourcarpet\":[{\"type\":\"contourcarpet\",\"colorbar\":{\"outlinewidth\":0,\"ticks\":\"\"}}],\"contour\":[{\"type\":\"contour\",\"colorbar\":{\"outlinewidth\":0,\"ticks\":\"\"},\"colorscale\":[[0.0,\"#0d0887\"],[0.1111111111111111,\"#46039f\"],[0.2222222222222222,\"#7201a8\"],[0.3333333333333333,\"#9c179e\"],[0.4444444444444444,\"#bd3786\"],[0.5555555555555556,\"#d8576b\"],[0.6666666666666666,\"#ed7953\"],[0.7777777777777778,\"#fb9f3a\"],[0.8888888888888888,\"#fdca26\"],[1.0,\"#f0f921\"]]}],\"surface\":[{\"type\":\"surface\",\"colorbar\":{\"outlinewidth\":0,\"ticks\":\"\"},\"colorscale\":[[0.0,\"#0d0887\"],[0.1111111111111111,\"#46039f\"],[0.2222222222222222,\"#7201a8\"],[0.3333333333333333,\"#9c179e\"],[0.4444444444444444,\"#bd3786\"],[0.5555555555555556,\"#d8576b\"],[0.6666666666666666,\"#ed7953\"],[0.7777777777777778,\"#fb9f3a\"],[0.8888888888888888,\"#fdca26\"],[1.0,\"#f0f921\"]]}],\"mesh3d\":[{\"type\":\"mesh3d\",\"colorbar\":{\"outlinewidth\":0,\"ticks\":\"\"}}],\"scatter\":[{\"fillpattern\":{\"fillmode\":\"overlay\",\"size\":10,\"solidity\":0.2},\"type\":\"scatter\"}],\"parcoords\":[{\"type\":\"parcoords\",\"line\":{\"colorbar\":{\"outlinewidth\":0,\"ticks\":\"\"}}}],\"scatterpolargl\":[{\"type\":\"scatterpolargl\",\"marker\":{\"colorbar\":{\"outlinewidth\":0,\"ticks\":\"\"}}}],\"bar\":[{\"error_x\":{\"color\":\"#2a3f5f\"},\"error_y\":{\"color\":\"#2a3f5f\"},\"marker\":{\"line\":{\"color\":\"#E5ECF6\",\"width\":0.5},\"pattern\":{\"fillmode\":\"overlay\",\"size\":10,\"solidity\":0.2}},\"type\":\"bar\"}],\"scattergeo\":[{\"type\":\"scattergeo\",\"marker\":{\"colorbar\":{\"outlinewidth\":0,\"ticks\":\"\"}}}],\"scatterpolar\":[{\"type\":\"scatterpolar\",\"marker\":{\"colorbar\":{\"outlinewidth\":0,\"ticks\":\"\"}}}],\"histogram\":[{\"marker\":{\"pattern\":{\"fillmode\":\"overlay\",\"size\":10,\"solidity\":0.2}},\"type\":\"histogram\"}],\"scattergl\":[{\"type\":\"scattergl\",\"marker\":{\"colorbar\":{\"outlinewidth\":0,\"ticks\":\"\"}}}],\"scatter3d\":[{\"type\":\"scatter3d\",\"line\":{\"colorbar\":{\"outlinewidth\":0,\"ticks\":\"\"}},\"marker\":{\"colorbar\":{\"outlinewidth\":0,\"ticks\":\"\"}}}],\"scattermapbox\":[{\"type\":\"scattermapbox\",\"marker\":{\"colorbar\":{\"outlinewidth\":0,\"ticks\":\"\"}}}],\"scatterternary\":[{\"type\":\"scatterternary\",\"marker\":{\"colorbar\":{\"outlinewidth\":0,\"ticks\":\"\"}}}],\"scattercarpet\":[{\"type\":\"scattercarpet\",\"marker\":{\"colorbar\":{\"outlinewidth\":0,\"ticks\":\"\"}}}],\"carpet\":[{\"aaxis\":{\"endlinecolor\":\"#2a3f5f\",\"gridcolor\":\"white\",\"linecolor\":\"white\",\"minorgridcolor\":\"white\",\"startlinecolor\":\"#2a3f5f\"},\"baxis\":{\"endlinecolor\":\"#2a3f5f\",\"gridcolor\":\"white\",\"linecolor\":\"white\",\"minorgridcolor\":\"white\",\"startlinecolor\":\"#2a3f5f\"},\"type\":\"carpet\"}],\"table\":[{\"cells\":{\"fill\":{\"color\":\"#EBF0F8\"},\"line\":{\"color\":\"white\"}},\"header\":{\"fill\":{\"color\":\"#C8D4E3\"},\"line\":{\"color\":\"white\"}},\"type\":\"table\"}],\"barpolar\":[{\"marker\":{\"line\":{\"color\":\"#E5ECF6\",\"width\":0.5},\"pattern\":{\"fillmode\":\"overlay\",\"size\":10,\"solidity\":0.2}},\"type\":\"barpolar\"}],\"pie\":[{\"automargin\":true,\"type\":\"pie\"}]},\"layout\":{\"autotypenumbers\":\"strict\",\"colorway\":[\"#636efa\",\"#EF553B\",\"#00cc96\",\"#ab63fa\",\"#FFA15A\",\"#19d3f3\",\"#FF6692\",\"#B6E880\",\"#FF97FF\",\"#FECB52\"],\"font\":{\"color\":\"#2a3f5f\"},\"hovermode\":\"closest\",\"hoverlabel\":{\"align\":\"left\"},\"paper_bgcolor\":\"white\",\"plot_bgcolor\":\"#E5ECF6\",\"polar\":{\"bgcolor\":\"#E5ECF6\",\"angularaxis\":{\"gridcolor\":\"white\",\"linecolor\":\"white\",\"ticks\":\"\"},\"radialaxis\":{\"gridcolor\":\"white\",\"linecolor\":\"white\",\"ticks\":\"\"}},\"ternary\":{\"bgcolor\":\"#E5ECF6\",\"aaxis\":{\"gridcolor\":\"white\",\"linecolor\":\"white\",\"ticks\":\"\"},\"baxis\":{\"gridcolor\":\"white\",\"linecolor\":\"white\",\"ticks\":\"\"},\"caxis\":{\"gridcolor\":\"white\",\"linecolor\":\"white\",\"ticks\":\"\"}},\"coloraxis\":{\"colorbar\":{\"outlinewidth\":0,\"ticks\":\"\"}},\"colorscale\":{\"sequential\":[[0.0,\"#0d0887\"],[0.1111111111111111,\"#46039f\"],[0.2222222222222222,\"#7201a8\"],[0.3333333333333333,\"#9c179e\"],[0.4444444444444444,\"#bd3786\"],[0.5555555555555556,\"#d8576b\"],[0.6666666666666666,\"#ed7953\"],[0.7777777777777778,\"#fb9f3a\"],[0.8888888888888888,\"#fdca26\"],[1.0,\"#f0f921\"]],\"sequentialminus\":[[0.0,\"#0d0887\"],[0.1111111111111111,\"#46039f\"],[0.2222222222222222,\"#7201a8\"],[0.3333333333333333,\"#9c179e\"],[0.4444444444444444,\"#bd3786\"],[0.5555555555555556,\"#d8576b\"],[0.6666666666666666,\"#ed7953\"],[0.7777777777777778,\"#fb9f3a\"],[0.8888888888888888,\"#fdca26\"],[1.0,\"#f0f921\"]],\"diverging\":[[0,\"#8e0152\"],[0.1,\"#c51b7d\"],[0.2,\"#de77ae\"],[0.3,\"#f1b6da\"],[0.4,\"#fde0ef\"],[0.5,\"#f7f7f7\"],[0.6,\"#e6f5d0\"],[0.7,\"#b8e186\"],[0.8,\"#7fbc41\"],[0.9,\"#4d9221\"],[1,\"#276419\"]]},\"xaxis\":{\"gridcolor\":\"white\",\"linecolor\":\"white\",\"ticks\":\"\",\"title\":{\"standoff\":15},\"zerolinecolor\":\"white\",\"automargin\":true,\"zerolinewidth\":2},\"yaxis\":{\"gridcolor\":\"white\",\"linecolor\":\"white\",\"ticks\":\"\",\"title\":{\"standoff\":15},\"zerolinecolor\":\"white\",\"automargin\":true,\"zerolinewidth\":2},\"scene\":{\"xaxis\":{\"backgroundcolor\":\"#E5ECF6\",\"gridcolor\":\"white\",\"linecolor\":\"white\",\"showbackground\":true,\"ticks\":\"\",\"zerolinecolor\":\"white\",\"gridwidth\":2},\"yaxis\":{\"backgroundcolor\":\"#E5ECF6\",\"gridcolor\":\"white\",\"linecolor\":\"white\",\"showbackground\":true,\"ticks\":\"\",\"zerolinecolor\":\"white\",\"gridwidth\":2},\"zaxis\":{\"backgroundcolor\":\"#E5ECF6\",\"gridcolor\":\"white\",\"linecolor\":\"white\",\"showbackground\":true,\"ticks\":\"\",\"zerolinecolor\":\"white\",\"gridwidth\":2}},\"shapedefaults\":{\"line\":{\"color\":\"#2a3f5f\"}},\"annotationdefaults\":{\"arrowcolor\":\"#2a3f5f\",\"arrowhead\":0,\"arrowwidth\":1},\"geo\":{\"bgcolor\":\"white\",\"landcolor\":\"#E5ECF6\",\"subunitcolor\":\"white\",\"showland\":true,\"showlakes\":true,\"lakecolor\":\"white\"},\"title\":{\"x\":0.05},\"mapbox\":{\"style\":\"light\"}}},\"yaxis\":{\"range\":[0,100],\"title\":{\"text\":\"Percent\"}},\"legend\":{\"orientation\":\"h\",\"yanchor\":\"bottom\",\"y\":0.9,\"xanchor\":\"center\",\"x\":0.5},\"margin\":{\"b\":0,\"t\":0,\"l\":0,\"r\":0},\"barmode\":\"group\",\"xaxis\":{\"title\":{\"text\":\"Year\"},\"categoryorder\":\"array\",\"categoryarray\":[\"2017\",\"2018\",\"2019\",\"2020\"]},\"height\":350},                        {\"responsive\": true}                    ).then(function(){\n",
       "                            \n",
       "var gd = document.getElementById('c767371c-dfe5-4cc2-b9d2-ebfa884ed5ce');\n",
       "var x = new MutationObserver(function (mutations, observer) {{\n",
       "        var display = window.getComputedStyle(gd).display;\n",
       "        if (!display || display === 'none') {{\n",
       "            console.log([gd, 'removed!']);\n",
       "            Plotly.purge(gd);\n",
       "            observer.disconnect();\n",
       "        }}\n",
       "}});\n",
       "\n",
       "// Listen for the removal of the full notebook cells\n",
       "var notebookContainer = gd.closest('#notebook-container');\n",
       "if (notebookContainer) {{\n",
       "    x.observe(notebookContainer, {childList: true});\n",
       "}}\n",
       "\n",
       "// Listen for the clearing of the current output cell\n",
       "var outputEl = gd.closest('.output');\n",
       "if (outputEl) {{\n",
       "    x.observe(outputEl, {childList: true});\n",
       "}}\n",
       "\n",
       "                        })                };                });            </script>        </div>"
      ]
     },
     "metadata": {},
     "output_type": "display_data"
    }
   ],
   "source": [
    "def draw_curr_mh_by_country_plt (country):\n",
    "\n",
    "    ####################################### Calculation #######################################\n",
    "    # total Num among year \n",
    "    total_to_be_divided = prep_data[( np.isin(prep_data['country_work_in'], country))].groupby(by = ['year']).size().reset_index().rename(columns ={ 0 :f'no_samples'}).sort_values(by = ['year'])\n",
    "    # create the avg DF for the responses per year \n",
    "    avg_Mh_by_year = total_to_be_divided.copy().rename(columns = {0:'years'})\n",
    "    for i in range(4):\n",
    "        MH_Prob_ans  = prep_data[(prep_data['curr_have_mh_disorder'] == i ) & ( np.isin(prep_data['country_work_in'], country))][['year']].groupby(by=['year']).size().reset_index().rename(columns ={ 0 :f'Count_{i}'}).sort_values(by = ['year'])\n",
    "        avg_df = (MH_Prob_ans[f'Count_{i}'] /  total_to_be_divided['no_samples'] * 100).round(0)\n",
    "        avg_Mh_by_year = pd.concat([avg_Mh_by_year, avg_df], axis = 1).rename(columns ={ 0 :f'Count_{i}'})\n",
    "    avg_Mh_by_year['avg'] = (avg_Mh_by_year['Count_3'] + avg_Mh_by_year['Count_2']) - (avg_Mh_by_year['Count_1'] + avg_Mh_by_year['Count_0'])\n",
    "    avg_Mh_by_year\n",
    "    # 0: No, 1:Don't Know, 2:possibly, 3:yes\n",
    "\n",
    "    ####################################### Plot  #######################################\n",
    "    curr_mh_by_country = go.Figure(data=[\n",
    "        go.Bar(name='No', x=avg_Mh_by_year['year'], y=avg_Mh_by_year['Count_0'], marker_color = '#f1e3dd'),\n",
    "        go.Bar(name=\"Don't Know\", x=avg_Mh_by_year['year'], y=avg_Mh_by_year['Count_1'], marker_color = '#bccad6'),\n",
    "        go.Bar(name='Possibly', x=avg_Mh_by_year['year'], y=avg_Mh_by_year['Count_2'], marker_color = '#8d9db6'),\n",
    "        go.Bar(name='Yes', x=avg_Mh_by_year['year'], y=avg_Mh_by_year['Count_3'], marker_color = '#6b5b95'),\n",
    "    ])\n",
    "    curr_mh_by_country.update_traces(marker_line_color='rgb(5,5,5)',marker_line_width=1)\n",
    "    curr_mh_by_country.update_yaxes(range=[0, 100])\n",
    "    curr_mh_by_country.update_layout(      \n",
    "        barmode='group',\n",
    "        xaxis_title=\"Year\",\n",
    "        yaxis_title=\"Percent\",\n",
    "        legend=dict(orientation=\"h\", yanchor=\"bottom\", y=0.90, xanchor=\"center\", x=0.5),\n",
    "        height = 350,\n",
    "        margin=dict(b = 0, t = 0, l = 0, r = 0),\n",
    "        )\n",
    "    curr_mh_by_country.update_xaxes(categoryorder='array', categoryarray= ['2017', '2018', '2019', '2020'])\n",
    "    return curr_mh_by_country\n",
    "draw_curr_mh_by_country_plt (country)"
   ]
  },
  {
   "cell_type": "markdown",
   "metadata": {
    "id": "QPtm4TR4KpED"
   },
   "source": [
    "### Yes have MH issue response in all countries Vs years"
   ]
  },
  {
   "cell_type": "code",
   "execution_count": 21,
   "metadata": {
    "executionInfo": {
     "elapsed": 56,
     "status": "aborted",
     "timestamp": 1654337002846,
     "user": {
      "displayName": "habiba mohamed",
      "userId": "01346726008568088997"
     },
     "user_tz": -120
    },
    "id": "wqlE4pY1KpED"
   },
   "outputs": [],
   "source": [
    "country = prep_data['country_work_in'].unique()\n",
    "Mh_avg_no_samples  = prep_data[prep_data['tech_role_flag'] == 1 ][['year', 'country_work_in', 'curr_have_mh_disorder']]\\\n",
    "                    .groupby(by = ['year', 'country_work_in'])\\\n",
    "                    .size().reset_index().sort_values(by=['year','country_work_in']).rename(columns = {0 : 'no.samples'})"
   ]
  },
  {
   "cell_type": "code",
   "execution_count": 22,
   "metadata": {
    "executionInfo": {
     "elapsed": 57,
     "status": "aborted",
     "timestamp": 1654337002847,
     "user": {
      "displayName": "habiba mohamed",
      "userId": "01346726008568088997"
     },
     "user_tz": -120
    },
    "id": "WA6n99gAKpED"
   },
   "outputs": [],
   "source": [
    "Mh_avg  = prep_data[(prep_data['tech_role_flag'] == 1 ) & ( np.isin(prep_data['country_work_in'], country))][['year', 'country_work_in', 'curr_have_mh_disorder']]\\\n",
    "            .groupby(by = ['year', 'country_work_in', 'curr_have_mh_disorder' ])\\\n",
    "            .size().reset_index().sort_values(by=['year','country_work_in']).rename(columns = {0 : 'count'})\n",
    "Mh_avg['Avg'] = 0 "
   ]
  },
  {
   "cell_type": "code",
   "execution_count": 23,
   "metadata": {
    "executionInfo": {
     "elapsed": 57,
     "status": "aborted",
     "timestamp": 1654337002848,
     "user": {
      "displayName": "habiba mohamed",
      "userId": "01346726008568088997"
     },
     "user_tz": -120
    },
    "id": "XViRgMWuKpEE"
   },
   "outputs": [],
   "source": [
    "for outer_row, outer_col in Mh_avg_no_samples.iterrows() :\n",
    "    avg_year = outer_col['year']\n",
    "    avg_country_work_in = outer_col['country_work_in']\n",
    "    no_samples = outer_col['no.samples']\n",
    "    for inside_row, inside_col in Mh_avg.iterrows() :\n",
    "        year = inside_col['year']\n",
    "        country_work_in = inside_col['country_work_in']\n",
    "        count = inside_col['count']\n",
    "        Avg = inside_col['Avg']\n",
    "        # print(no_samples)\n",
    "        if year == avg_year and country_work_in == avg_country_work_in:\n",
    "            Mh_avg['Avg'][inside_row] = round((count / no_samples) * 100)\n",
    "#prepare dfs\n",
    "yes_Mh_avg = Mh_avg[Mh_avg['curr_have_mh_disorder'] == 3]\n",
    "possibly_Mh_avg = Mh_avg[Mh_avg['curr_have_mh_disorder'] == 2]\n",
    "No_Mh_avg = Mh_avg[Mh_avg['curr_have_mh_disorder'] == 1]\n",
    "dntKnow_Mh_avg = Mh_avg[Mh_avg['curr_have_mh_disorder'] == 0]"
   ]
  },
  {
   "cell_type": "code",
   "execution_count": 24,
   "metadata": {
    "executionInfo": {
     "elapsed": 58,
     "status": "aborted",
     "timestamp": 1654337002849,
     "user": {
      "displayName": "habiba mohamed",
      "userId": "01346726008568088997"
     },
     "user_tz": -120
    },
    "id": "FjJ5cwhOKpEE"
   },
   "outputs": [
    {
     "data": {
      "text/html": [
       "<div>                            <div id=\"1165924e-2410-4a63-8215-20f3bac8752f\" class=\"plotly-graph-div\" style=\"height:410px; width:100%;\"></div>            <script type=\"text/javascript\">                require([\"plotly\"], function(Plotly) {                    window.PLOTLYENV=window.PLOTLYENV || {};                                    if (document.getElementById(\"1165924e-2410-4a63-8215-20f3bac8752f\")) {                    Plotly.newPlot(                        \"1165924e-2410-4a63-8215-20f3bac8752f\",                        [{\"hovertemplate\":\"country_work_in=Canada<br>year=%{x}<br>Avg=%{y}<extra></extra>\",\"legendgroup\":\"Canada\",\"line\":{\"color\":\"rgb(76,114,176)\",\"dash\":\"solid\",\"width\":5},\"marker\":{\"symbol\":\"circle\",\"line\":{\"color\":\"rgb(5,5,5)\",\"width\":1}},\"mode\":\"markers+lines\",\"name\":\"Canada\",\"orientation\":\"v\",\"showlegend\":true,\"x\":[\"2017\",\"2018\",\"2019\",\"2020\"],\"xaxis\":\"x\",\"y\":[41,50,55,11],\"yaxis\":\"y\",\"type\":\"scatter\"},{\"hovertemplate\":\"country_work_in=Germany<br>year=%{x}<br>Avg=%{y}<extra></extra>\",\"legendgroup\":\"Germany\",\"line\":{\"color\":\"rgb(221,132,82)\",\"dash\":\"solid\",\"width\":5},\"marker\":{\"symbol\":\"circle\",\"line\":{\"color\":\"rgb(5,5,5)\",\"width\":1}},\"mode\":\"markers+lines\",\"name\":\"Germany\",\"orientation\":\"v\",\"showlegend\":true,\"x\":[\"2017\",\"2018\",\"2019\",\"2020\"],\"xaxis\":\"x\",\"y\":[24,33,25,25],\"yaxis\":\"y\",\"type\":\"scatter\"},{\"hovertemplate\":\"country_work_in=India<br>year=%{x}<br>Avg=%{y}<extra></extra>\",\"legendgroup\":\"India\",\"line\":{\"color\":\"rgb(85,168,104)\",\"dash\":\"solid\",\"width\":5},\"marker\":{\"symbol\":\"circle\",\"line\":{\"color\":\"rgb(5,5,5)\",\"width\":1}},\"mode\":\"markers+lines\",\"name\":\"India\",\"orientation\":\"v\",\"showlegend\":true,\"x\":[\"2017\",\"2019\"],\"xaxis\":\"x\",\"y\":[9,9],\"yaxis\":\"y\",\"type\":\"scatter\"},{\"hovertemplate\":\"country_work_in=UK<br>year=%{x}<br>Avg=%{y}<extra></extra>\",\"legendgroup\":\"UK\",\"line\":{\"color\":\"rgb(196,78,82)\",\"dash\":\"solid\",\"width\":5},\"marker\":{\"symbol\":\"circle\",\"line\":{\"color\":\"rgb(5,5,5)\",\"width\":1}},\"mode\":\"markers+lines\",\"name\":\"UK\",\"orientation\":\"v\",\"showlegend\":true,\"x\":[\"2017\",\"2018\",\"2019\",\"2020\"],\"xaxis\":\"x\",\"y\":[37,26,25,33],\"yaxis\":\"y\",\"type\":\"scatter\"},{\"hovertemplate\":\"country_work_in=USA<br>year=%{x}<br>Avg=%{y}<extra></extra>\",\"legendgroup\":\"USA\",\"line\":{\"color\":\"rgb(129,114,179)\",\"dash\":\"solid\",\"width\":5},\"marker\":{\"symbol\":\"circle\",\"line\":{\"color\":\"rgb(5,5,5)\",\"width\":1}},\"mode\":\"markers+lines\",\"name\":\"USA\",\"orientation\":\"v\",\"showlegend\":true,\"x\":[\"2017\",\"2018\",\"2019\",\"2020\"],\"xaxis\":\"x\",\"y\":[49,50,50,39],\"yaxis\":\"y\",\"type\":\"scatter\"}],                        {\"template\":{\"data\":{\"barpolar\":[{\"marker\":{\"line\":{\"color\":\"rgb(234,234,242)\",\"width\":0.5},\"pattern\":{\"fillmode\":\"overlay\",\"size\":10,\"solidity\":0.2}},\"type\":\"barpolar\"}],\"bar\":[{\"error_x\":{\"color\":\"rgb(36,36,36)\"},\"error_y\":{\"color\":\"rgb(36,36,36)\"},\"marker\":{\"line\":{\"color\":\"rgb(234,234,242)\",\"width\":0.5},\"pattern\":{\"fillmode\":\"overlay\",\"size\":10,\"solidity\":0.2}},\"type\":\"bar\"}],\"carpet\":[{\"aaxis\":{\"endlinecolor\":\"rgb(36,36,36)\",\"gridcolor\":\"white\",\"linecolor\":\"white\",\"minorgridcolor\":\"white\",\"startlinecolor\":\"rgb(36,36,36)\"},\"baxis\":{\"endlinecolor\":\"rgb(36,36,36)\",\"gridcolor\":\"white\",\"linecolor\":\"white\",\"minorgridcolor\":\"white\",\"startlinecolor\":\"rgb(36,36,36)\"},\"type\":\"carpet\"}],\"choropleth\":[{\"colorbar\":{\"outlinewidth\":0,\"tickcolor\":\"rgb(36,36,36)\",\"ticklen\":8,\"ticks\":\"outside\",\"tickwidth\":2},\"type\":\"choropleth\"}],\"contourcarpet\":[{\"colorbar\":{\"outlinewidth\":0,\"tickcolor\":\"rgb(36,36,36)\",\"ticklen\":8,\"ticks\":\"outside\",\"tickwidth\":2},\"type\":\"contourcarpet\"}],\"contour\":[{\"colorbar\":{\"outlinewidth\":0,\"tickcolor\":\"rgb(36,36,36)\",\"ticklen\":8,\"ticks\":\"outside\",\"tickwidth\":2},\"colorscale\":[[0.0,\"rgb(2,4,25)\"],[0.06274509803921569,\"rgb(24,15,41)\"],[0.12549019607843137,\"rgb(47,23,57)\"],[0.18823529411764706,\"rgb(71,28,72)\"],[0.25098039215686274,\"rgb(97,30,82)\"],[0.3137254901960784,\"rgb(123,30,89)\"],[0.3764705882352941,\"rgb(150,27,91)\"],[0.4392156862745098,\"rgb(177,22,88)\"],[0.5019607843137255,\"rgb(203,26,79)\"],[0.5647058823529412,\"rgb(223,47,67)\"],[0.6274509803921569,\"rgb(236,76,61)\"],[0.6901960784313725,\"rgb(242,107,73)\"],[0.7529411764705882,\"rgb(244,135,95)\"],[0.8156862745098039,\"rgb(245,162,122)\"],[0.8784313725490196,\"rgb(246,188,153)\"],[0.9411764705882353,\"rgb(247,212,187)\"],[1.0,\"rgb(250,234,220)\"]],\"type\":\"contour\"}],\"heatmapgl\":[{\"colorbar\":{\"outlinewidth\":0,\"tickcolor\":\"rgb(36,36,36)\",\"ticklen\":8,\"ticks\":\"outside\",\"tickwidth\":2},\"colorscale\":[[0.0,\"rgb(2,4,25)\"],[0.06274509803921569,\"rgb(24,15,41)\"],[0.12549019607843137,\"rgb(47,23,57)\"],[0.18823529411764706,\"rgb(71,28,72)\"],[0.25098039215686274,\"rgb(97,30,82)\"],[0.3137254901960784,\"rgb(123,30,89)\"],[0.3764705882352941,\"rgb(150,27,91)\"],[0.4392156862745098,\"rgb(177,22,88)\"],[0.5019607843137255,\"rgb(203,26,79)\"],[0.5647058823529412,\"rgb(223,47,67)\"],[0.6274509803921569,\"rgb(236,76,61)\"],[0.6901960784313725,\"rgb(242,107,73)\"],[0.7529411764705882,\"rgb(244,135,95)\"],[0.8156862745098039,\"rgb(245,162,122)\"],[0.8784313725490196,\"rgb(246,188,153)\"],[0.9411764705882353,\"rgb(247,212,187)\"],[1.0,\"rgb(250,234,220)\"]],\"type\":\"heatmapgl\"}],\"heatmap\":[{\"colorbar\":{\"outlinewidth\":0,\"tickcolor\":\"rgb(36,36,36)\",\"ticklen\":8,\"ticks\":\"outside\",\"tickwidth\":2},\"colorscale\":[[0.0,\"rgb(2,4,25)\"],[0.06274509803921569,\"rgb(24,15,41)\"],[0.12549019607843137,\"rgb(47,23,57)\"],[0.18823529411764706,\"rgb(71,28,72)\"],[0.25098039215686274,\"rgb(97,30,82)\"],[0.3137254901960784,\"rgb(123,30,89)\"],[0.3764705882352941,\"rgb(150,27,91)\"],[0.4392156862745098,\"rgb(177,22,88)\"],[0.5019607843137255,\"rgb(203,26,79)\"],[0.5647058823529412,\"rgb(223,47,67)\"],[0.6274509803921569,\"rgb(236,76,61)\"],[0.6901960784313725,\"rgb(242,107,73)\"],[0.7529411764705882,\"rgb(244,135,95)\"],[0.8156862745098039,\"rgb(245,162,122)\"],[0.8784313725490196,\"rgb(246,188,153)\"],[0.9411764705882353,\"rgb(247,212,187)\"],[1.0,\"rgb(250,234,220)\"]],\"type\":\"heatmap\"}],\"histogram2dcontour\":[{\"colorbar\":{\"outlinewidth\":0,\"tickcolor\":\"rgb(36,36,36)\",\"ticklen\":8,\"ticks\":\"outside\",\"tickwidth\":2},\"colorscale\":[[0.0,\"rgb(2,4,25)\"],[0.06274509803921569,\"rgb(24,15,41)\"],[0.12549019607843137,\"rgb(47,23,57)\"],[0.18823529411764706,\"rgb(71,28,72)\"],[0.25098039215686274,\"rgb(97,30,82)\"],[0.3137254901960784,\"rgb(123,30,89)\"],[0.3764705882352941,\"rgb(150,27,91)\"],[0.4392156862745098,\"rgb(177,22,88)\"],[0.5019607843137255,\"rgb(203,26,79)\"],[0.5647058823529412,\"rgb(223,47,67)\"],[0.6274509803921569,\"rgb(236,76,61)\"],[0.6901960784313725,\"rgb(242,107,73)\"],[0.7529411764705882,\"rgb(244,135,95)\"],[0.8156862745098039,\"rgb(245,162,122)\"],[0.8784313725490196,\"rgb(246,188,153)\"],[0.9411764705882353,\"rgb(247,212,187)\"],[1.0,\"rgb(250,234,220)\"]],\"type\":\"histogram2dcontour\"}],\"histogram2d\":[{\"colorbar\":{\"outlinewidth\":0,\"tickcolor\":\"rgb(36,36,36)\",\"ticklen\":8,\"ticks\":\"outside\",\"tickwidth\":2},\"colorscale\":[[0.0,\"rgb(2,4,25)\"],[0.06274509803921569,\"rgb(24,15,41)\"],[0.12549019607843137,\"rgb(47,23,57)\"],[0.18823529411764706,\"rgb(71,28,72)\"],[0.25098039215686274,\"rgb(97,30,82)\"],[0.3137254901960784,\"rgb(123,30,89)\"],[0.3764705882352941,\"rgb(150,27,91)\"],[0.4392156862745098,\"rgb(177,22,88)\"],[0.5019607843137255,\"rgb(203,26,79)\"],[0.5647058823529412,\"rgb(223,47,67)\"],[0.6274509803921569,\"rgb(236,76,61)\"],[0.6901960784313725,\"rgb(242,107,73)\"],[0.7529411764705882,\"rgb(244,135,95)\"],[0.8156862745098039,\"rgb(245,162,122)\"],[0.8784313725490196,\"rgb(246,188,153)\"],[0.9411764705882353,\"rgb(247,212,187)\"],[1.0,\"rgb(250,234,220)\"]],\"type\":\"histogram2d\"}],\"histogram\":[{\"marker\":{\"pattern\":{\"fillmode\":\"overlay\",\"size\":10,\"solidity\":0.2}},\"type\":\"histogram\"}],\"mesh3d\":[{\"colorbar\":{\"outlinewidth\":0,\"tickcolor\":\"rgb(36,36,36)\",\"ticklen\":8,\"ticks\":\"outside\",\"tickwidth\":2},\"type\":\"mesh3d\"}],\"parcoords\":[{\"line\":{\"colorbar\":{\"outlinewidth\":0,\"tickcolor\":\"rgb(36,36,36)\",\"ticklen\":8,\"ticks\":\"outside\",\"tickwidth\":2}},\"type\":\"parcoords\"}],\"pie\":[{\"automargin\":true,\"type\":\"pie\"}],\"scatter3d\":[{\"line\":{\"colorbar\":{\"outlinewidth\":0,\"tickcolor\":\"rgb(36,36,36)\",\"ticklen\":8,\"ticks\":\"outside\",\"tickwidth\":2}},\"marker\":{\"colorbar\":{\"outlinewidth\":0,\"tickcolor\":\"rgb(36,36,36)\",\"ticklen\":8,\"ticks\":\"outside\",\"tickwidth\":2}},\"type\":\"scatter3d\"}],\"scattercarpet\":[{\"marker\":{\"colorbar\":{\"outlinewidth\":0,\"tickcolor\":\"rgb(36,36,36)\",\"ticklen\":8,\"ticks\":\"outside\",\"tickwidth\":2}},\"type\":\"scattercarpet\"}],\"scattergeo\":[{\"marker\":{\"colorbar\":{\"outlinewidth\":0,\"tickcolor\":\"rgb(36,36,36)\",\"ticklen\":8,\"ticks\":\"outside\",\"tickwidth\":2}},\"type\":\"scattergeo\"}],\"scattergl\":[{\"marker\":{\"colorbar\":{\"outlinewidth\":0,\"tickcolor\":\"rgb(36,36,36)\",\"ticklen\":8,\"ticks\":\"outside\",\"tickwidth\":2}},\"type\":\"scattergl\"}],\"scattermapbox\":[{\"marker\":{\"colorbar\":{\"outlinewidth\":0,\"tickcolor\":\"rgb(36,36,36)\",\"ticklen\":8,\"ticks\":\"outside\",\"tickwidth\":2}},\"type\":\"scattermapbox\"}],\"scatterpolargl\":[{\"marker\":{\"colorbar\":{\"outlinewidth\":0,\"tickcolor\":\"rgb(36,36,36)\",\"ticklen\":8,\"ticks\":\"outside\",\"tickwidth\":2}},\"type\":\"scatterpolargl\"}],\"scatterpolar\":[{\"marker\":{\"colorbar\":{\"outlinewidth\":0,\"tickcolor\":\"rgb(36,36,36)\",\"ticklen\":8,\"ticks\":\"outside\",\"tickwidth\":2}},\"type\":\"scatterpolar\"}],\"scatter\":[{\"fillpattern\":{\"fillmode\":\"overlay\",\"size\":10,\"solidity\":0.2},\"type\":\"scatter\"}],\"scatterternary\":[{\"marker\":{\"colorbar\":{\"outlinewidth\":0,\"tickcolor\":\"rgb(36,36,36)\",\"ticklen\":8,\"ticks\":\"outside\",\"tickwidth\":2}},\"type\":\"scatterternary\"}],\"surface\":[{\"colorbar\":{\"outlinewidth\":0,\"tickcolor\":\"rgb(36,36,36)\",\"ticklen\":8,\"ticks\":\"outside\",\"tickwidth\":2},\"colorscale\":[[0.0,\"rgb(2,4,25)\"],[0.06274509803921569,\"rgb(24,15,41)\"],[0.12549019607843137,\"rgb(47,23,57)\"],[0.18823529411764706,\"rgb(71,28,72)\"],[0.25098039215686274,\"rgb(97,30,82)\"],[0.3137254901960784,\"rgb(123,30,89)\"],[0.3764705882352941,\"rgb(150,27,91)\"],[0.4392156862745098,\"rgb(177,22,88)\"],[0.5019607843137255,\"rgb(203,26,79)\"],[0.5647058823529412,\"rgb(223,47,67)\"],[0.6274509803921569,\"rgb(236,76,61)\"],[0.6901960784313725,\"rgb(242,107,73)\"],[0.7529411764705882,\"rgb(244,135,95)\"],[0.8156862745098039,\"rgb(245,162,122)\"],[0.8784313725490196,\"rgb(246,188,153)\"],[0.9411764705882353,\"rgb(247,212,187)\"],[1.0,\"rgb(250,234,220)\"]],\"type\":\"surface\"}],\"table\":[{\"cells\":{\"fill\":{\"color\":\"rgb(231,231,240)\"},\"line\":{\"color\":\"white\"}},\"header\":{\"fill\":{\"color\":\"rgb(183,183,191)\"},\"line\":{\"color\":\"white\"}},\"type\":\"table\"}]},\"layout\":{\"annotationdefaults\":{\"arrowcolor\":\"rgb(67,103,167)\"},\"autotypenumbers\":\"strict\",\"coloraxis\":{\"colorbar\":{\"outlinewidth\":0,\"tickcolor\":\"rgb(36,36,36)\",\"ticklen\":8,\"ticks\":\"outside\",\"tickwidth\":2}},\"colorscale\":{\"sequential\":[[0.0,\"rgb(2,4,25)\"],[0.06274509803921569,\"rgb(24,15,41)\"],[0.12549019607843137,\"rgb(47,23,57)\"],[0.18823529411764706,\"rgb(71,28,72)\"],[0.25098039215686274,\"rgb(97,30,82)\"],[0.3137254901960784,\"rgb(123,30,89)\"],[0.3764705882352941,\"rgb(150,27,91)\"],[0.4392156862745098,\"rgb(177,22,88)\"],[0.5019607843137255,\"rgb(203,26,79)\"],[0.5647058823529412,\"rgb(223,47,67)\"],[0.6274509803921569,\"rgb(236,76,61)\"],[0.6901960784313725,\"rgb(242,107,73)\"],[0.7529411764705882,\"rgb(244,135,95)\"],[0.8156862745098039,\"rgb(245,162,122)\"],[0.8784313725490196,\"rgb(246,188,153)\"],[0.9411764705882353,\"rgb(247,212,187)\"],[1.0,\"rgb(250,234,220)\"]],\"sequentialminus\":[[0.0,\"rgb(2,4,25)\"],[0.06274509803921569,\"rgb(24,15,41)\"],[0.12549019607843137,\"rgb(47,23,57)\"],[0.18823529411764706,\"rgb(71,28,72)\"],[0.25098039215686274,\"rgb(97,30,82)\"],[0.3137254901960784,\"rgb(123,30,89)\"],[0.3764705882352941,\"rgb(150,27,91)\"],[0.4392156862745098,\"rgb(177,22,88)\"],[0.5019607843137255,\"rgb(203,26,79)\"],[0.5647058823529412,\"rgb(223,47,67)\"],[0.6274509803921569,\"rgb(236,76,61)\"],[0.6901960784313725,\"rgb(242,107,73)\"],[0.7529411764705882,\"rgb(244,135,95)\"],[0.8156862745098039,\"rgb(245,162,122)\"],[0.8784313725490196,\"rgb(246,188,153)\"],[0.9411764705882353,\"rgb(247,212,187)\"],[1.0,\"rgb(250,234,220)\"]]},\"colorway\":[\"rgb(76,114,176)\",\"rgb(221,132,82)\",\"rgb(85,168,104)\",\"rgb(196,78,82)\",\"rgb(129,114,179)\",\"rgb(147,120,96)\",\"rgb(218,139,195)\",\"rgb(140,140,140)\",\"rgb(204,185,116)\",\"rgb(100,181,205)\"],\"font\":{\"color\":\"rgb(36,36,36)\"},\"geo\":{\"bgcolor\":\"white\",\"lakecolor\":\"white\",\"landcolor\":\"rgb(234,234,242)\",\"showlakes\":true,\"showland\":true,\"subunitcolor\":\"white\"},\"hoverlabel\":{\"align\":\"left\"},\"hovermode\":\"closest\",\"paper_bgcolor\":\"white\",\"plot_bgcolor\":\"rgb(234,234,242)\",\"polar\":{\"angularaxis\":{\"gridcolor\":\"white\",\"linecolor\":\"white\",\"showgrid\":true,\"ticks\":\"\"},\"bgcolor\":\"rgb(234,234,242)\",\"radialaxis\":{\"gridcolor\":\"white\",\"linecolor\":\"white\",\"showgrid\":true,\"ticks\":\"\"}},\"scene\":{\"xaxis\":{\"backgroundcolor\":\"rgb(234,234,242)\",\"gridcolor\":\"white\",\"gridwidth\":2,\"linecolor\":\"white\",\"showbackground\":true,\"showgrid\":true,\"ticks\":\"\",\"zerolinecolor\":\"white\"},\"yaxis\":{\"backgroundcolor\":\"rgb(234,234,242)\",\"gridcolor\":\"white\",\"gridwidth\":2,\"linecolor\":\"white\",\"showbackground\":true,\"showgrid\":true,\"ticks\":\"\",\"zerolinecolor\":\"white\"},\"zaxis\":{\"backgroundcolor\":\"rgb(234,234,242)\",\"gridcolor\":\"white\",\"gridwidth\":2,\"linecolor\":\"white\",\"showbackground\":true,\"showgrid\":true,\"ticks\":\"\",\"zerolinecolor\":\"white\"}},\"shapedefaults\":{\"fillcolor\":\"rgb(67,103,167)\",\"line\":{\"width\":0},\"opacity\":0.5},\"ternary\":{\"aaxis\":{\"gridcolor\":\"white\",\"linecolor\":\"white\",\"showgrid\":true,\"ticks\":\"\"},\"baxis\":{\"gridcolor\":\"white\",\"linecolor\":\"white\",\"showgrid\":true,\"ticks\":\"\"},\"bgcolor\":\"rgb(234,234,242)\",\"caxis\":{\"gridcolor\":\"white\",\"linecolor\":\"white\",\"showgrid\":true,\"ticks\":\"\"}},\"xaxis\":{\"automargin\":true,\"gridcolor\":\"white\",\"linecolor\":\"white\",\"showgrid\":true,\"ticks\":\"\",\"title\":{\"standoff\":15},\"zerolinecolor\":\"white\"},\"yaxis\":{\"automargin\":true,\"gridcolor\":\"white\",\"linecolor\":\"white\",\"showgrid\":true,\"ticks\":\"\",\"title\":{\"standoff\":15},\"zerolinecolor\":\"white\"}}},\"xaxis\":{\"anchor\":\"y\",\"domain\":[0.0,1.0],\"title\":{\"text\":\"year\"}},\"yaxis\":{\"anchor\":\"x\",\"domain\":[0.0,1.0],\"title\":{\"text\":\"Percent\"},\"range\":[-5,100]},\"legend\":{\"title\":{\"text\":\"Countries\"},\"tracegroupgap\":0,\"orientation\":\"h\",\"yanchor\":\"bottom\",\"y\":0.9,\"xanchor\":\"center\",\"x\":0.5},\"margin\":{\"t\":0,\"b\":0,\"l\":0,\"r\":0},\"barmode\":\"group\",\"height\":410},                        {\"responsive\": true}                    ).then(function(){\n",
       "                            \n",
       "var gd = document.getElementById('1165924e-2410-4a63-8215-20f3bac8752f');\n",
       "var x = new MutationObserver(function (mutations, observer) {{\n",
       "        var display = window.getComputedStyle(gd).display;\n",
       "        if (!display || display === 'none') {{\n",
       "            console.log([gd, 'removed!']);\n",
       "            Plotly.purge(gd);\n",
       "            observer.disconnect();\n",
       "        }}\n",
       "}});\n",
       "\n",
       "// Listen for the removal of the full notebook cells\n",
       "var notebookContainer = gd.closest('#notebook-container');\n",
       "if (notebookContainer) {{\n",
       "    x.observe(notebookContainer, {childList: true});\n",
       "}}\n",
       "\n",
       "// Listen for the clearing of the current output cell\n",
       "var outputEl = gd.closest('.output');\n",
       "if (outputEl) {{\n",
       "    x.observe(outputEl, {childList: true});\n",
       "}}\n",
       "\n",
       "                        })                };                });            </script>        </div>"
      ]
     },
     "metadata": {},
     "output_type": "display_data"
    }
   ],
   "source": [
    "def draw_MH_response_all_countries_Vs_years():\n",
    "    MH_response_all_countries_Vs_years = px.line(yes_Mh_avg, x='year', y='Avg', color='country_work_in',  markers=True, range_y=[-5,100], template = 'seaborn')\n",
    "    MH_response_all_countries_Vs_years.update_traces(marker_line_color='rgb(5,5,5)',marker_line_width=1, line=dict(width=5))\n",
    "    MH_response_all_countries_Vs_years.update_layout(\n",
    "        barmode='group', \n",
    "        xaxis_title=\"year\",\n",
    "        yaxis_title=\"Percent\",\n",
    "        legend_title=\"Countries\",\n",
    "        legend=dict(orientation=\"h\", yanchor=\"bottom\", y=0.90, xanchor=\"center\", x=0.5),\n",
    "        margin=dict(b = 0, t = 0, l = 0, r = 0),\n",
    "        height = 410,\n",
    "        \n",
    "        )\n",
    "    return MH_response_all_countries_Vs_years\n",
    "draw_MH_response_all_countries_Vs_years()"
   ]
  },
  {
   "cell_type": "markdown",
   "metadata": {
    "id": "NKT337VwKpEE"
   },
   "source": [
    "### World Wide Tech Industry Support Rate"
   ]
  },
  {
   "cell_type": "code",
   "execution_count": 25,
   "metadata": {
    "executionInfo": {
     "elapsed": 58,
     "status": "aborted",
     "timestamp": 1654337002850,
     "user": {
      "displayName": "habiba mohamed",
      "userId": "01346726008568088997"
     },
     "user_tz": -120
    },
    "id": "XY1UINQYKpEE"
   },
   "outputs": [
    {
     "data": {
      "text/html": [
       "<div>                            <div id=\"2e627aa0-7500-4f03-b20d-7d94d40ab98d\" class=\"plotly-graph-div\" style=\"height:400px; width:100%;\"></div>            <script type=\"text/javascript\">                require([\"plotly\"], function(Plotly) {                    window.PLOTLYENV=window.PLOTLYENV || {};                                    if (document.getElementById(\"2e627aa0-7500-4f03-b20d-7d94d40ab98d\")) {                    Plotly.newPlot(                        \"2e627aa0-7500-4f03-b20d-7d94d40ab98d\",                        [{\"coloraxis\":\"coloraxis\",\"customdata\":[[\"Afghanistan\",null,null],[\"Algeria\",null,null],[\"Argentina\",7.0,7.0],[\"Argentina\",2.0,9.0],[\"Australia\",7.0,7.0],[\"Australia\",8.0,8.0],[\"Australia\",7.0,7.0],[\"Australia\",7.0,7.0],[\"Australia\",7.0,7.0],[\"Australia\",6.0,5.0],[\"Australia\",7.0,7.0],[\"Australia\",6.0,6.0],[\"Australia\",3.0,5.0],[\"Australia\",5.0,5.0],[\"Australia\",7.0,5.0],[\"Australia\",6.0,7.0],[\"Australia\",6.0,7.0],[\"Australia\",9.0,9.0],[\"Australia\",null,null],[\"Australia\",null,null],[\"Australia\",null,null],[\"Australia\",null,null],[\"Australia\",null,null],[\"Australia\",null,null],[\"Australia\",null,null],[\"Austria\",3.0,3.0],[\"Austria\",5.0,6.0],[\"Austria\",null,null],[\"Austria\",null,null],[\"Bangladesh\",9.0,9.0],[\"Bangladesh\",7.0,7.0],[\"Bangladesh\",null,null],[\"Belgium\",5.0,5.0],[\"Belgium\",null,null],[\"Belgium\",null,null],[\"Belgium\",null,null],[\"Botswana\",null,null],[\"Brazil\",2.0,5.0],[\"Brazil\",6.0,6.0],[\"Brazil\",4.0,8.0],[\"Brazil\",6.0,6.0],[\"Brazil\",4.0,4.0],[\"Brazil\",5.0,5.0],[\"Brazil\",0.0,6.0],[\"Brazil\",5.0,6.0],[\"Brazil\",2.0,9.0],[\"Brazil\",4.0,5.0],[\"Brazil\",3.0,3.0],[\"Brazil\",3.0,9.0],[\"Brazil\",6.0,6.0],[\"Brazil\",7.0,8.0],[\"Brazil\",4.0,3.0],[\"Brazil\",3.0,5.0],[\"Brazil\",2.0,5.0],[\"Brazil\",4.0,5.0],[\"Brazil\",2.0,3.0],[\"Brazil\",6.0,6.0],[\"Brazil\",5.0,6.0],[\"Brazil\",null,null],[\"Brazil\",null,null],[\"Brazil\",null,null],[\"Brazil\",null,null],[\"Brazil\",null,null],[\"Brazil\",null,null],[\"Bulgaria\",5.0,5.0],[\"Bulgaria\",3.0,3.0],[\"Cameroon\",null,null],[\"Canada\",7.0,8.0],[\"Canada\",4.0,5.0],[\"Canada\",5.0,5.0],[\"Canada\",5.0,8.0],[\"Canada\",5.0,10.0],[\"Canada\",8.0,10.0],[\"Canada\",3.0,8.0],[\"Canada\",7.0,7.0],[\"Canada\",5.0,5.0],[\"Canada\",1.0,9.0],[\"Canada\",8.0,8.0],[\"Canada\",6.0,6.0],[\"Canada\",2.0,6.0],[\"Canada\",4.0,5.0],[\"Canada\",0.0,5.0],[\"Canada\",3.0,3.0],[\"Canada\",4.0,8.0],[\"Canada\",4.0,6.0],[\"Canada\",10.0,10.0],[\"Canada\",5.0,5.0],[\"Canada\",0.0,10.0],[\"Canada\",0.0,5.0],[\"Canada\",3.0,7.0],[\"Canada\",4.0,4.0],[\"Canada\",6.0,7.0],[\"Canada\",7.0,6.0],[\"Canada\",5.0,8.0],[\"Canada\",6.0,8.0],[\"Canada\",7.0,6.0],[\"Canada\",2.0,4.0],[\"Canada\",5.0,8.0],[\"Canada\",10.0,5.0],[\"Canada\",9.0,9.0],[\"Canada\",7.0,8.0],[\"Canada\",7.0,7.0],[\"Canada\",9.0,5.0],[\"Canada\",5.0,6.0],[\"Canada\",null,null],[\"Canada\",null,null],[\"Canada\",null,null],[\"Canada\",null,null],[\"Canada\",null,null],[\"Canada\",null,null],[\"Canada\",null,null],[\"Canada\",null,null],[\"Canada\",null,null],[\"Canada\",null,null],[\"Canada\",null,null],[\"Canada\",null,null],[\"Canada\",null,null],[\"Canada\",null,null],[\"Canada\",null,null],[\"Canada\",null,null],[\"Colombia\",3.0,4.0],[\"Colombia\",6.0,7.0],[\"Colombia\",null,null],[\"Croatia\",4.0,4.0],[\"Croatia\",0.0,0.0],[\"Czech Republic\",null,null],[\"Egypt\",2.0,5.0],[\"Eritrea\",null,null],[\"Estonia\",2.0,6.0],[\"Estonia\",8.0,8.0],[\"Estonia\",3.0,6.0],[\"Ethiopia\",10.0,10.0],[\"Finland\",6.0,2.0],[\"Finland\",4.0,4.0],[\"Finland\",5.0,8.0],[\"Finland\",5.0,6.0],[\"France\",5.0,6.0],[\"France\",6.0,6.0],[\"France\",1.0,2.0],[\"France\",8.0,8.0],[\"France\",9.0,9.0],[\"France\",7.0,8.0],[\"France\",5.0,5.0],[\"France\",8.0,8.0],[\"France\",5.0,2.0],[\"France\",10.0,10.0],[\"France\",3.0,3.0],[\"France\",5.0,7.0],[\"France\",0.0,8.0],[\"France\",5.0,6.0],[\"France\",5.0,7.0],[\"France\",2.0,9.0],[\"France\",4.0,6.0],[\"France\",8.0,8.0],[\"France\",7.0,6.0],[\"France\",null,null],[\"France\",null,null],[\"Georgia\",null,null],[\"Germany\",3.0,8.0],[\"Germany\",6.0,7.0],[\"Germany\",6.0,8.0],[\"Germany\",3.0,4.0],[\"Germany\",3.0,7.0],[\"Germany\",4.0,8.0],[\"Germany\",5.0,5.0],[\"Germany\",1.0,3.0],[\"Germany\",3.0,3.0],[\"Germany\",3.0,5.0],[\"Germany\",8.0,9.0],[\"Germany\",5.0,7.0],[\"Germany\",5.0,5.0],[\"Germany\",4.0,3.0],[\"Germany\",2.0,6.0],[\"Germany\",3.0,6.0],[\"Germany\",6.0,10.0],[\"Germany\",0.0,8.0],[\"Germany\",0.0,6.0],[\"Germany\",5.0,7.0],[\"Germany\",0.0,6.0],[\"Germany\",6.0,7.0],[\"Germany\",5.0,4.0],[\"Germany\",3.0,4.0],[\"Germany\",3.0,5.0],[\"Germany\",8.0,9.0],[\"Germany\",4.0,7.0],[\"Germany\",4.0,7.0],[\"Germany\",5.0,5.0],[\"Germany\",8.0,7.0],[\"Germany\",5.0,2.0],[\"Germany\",null,null],[\"Germany\",null,null],[\"Germany\",null,null],[\"Germany\",null,null],[\"Germany\",null,null],[\"Germany\",null,null],[\"Ghana\",0.0,0.0],[\"Greece\",0.0,6.0],[\"Greece\",null,null],[\"Greece\",null,null],[\"Hong Kong\",0.0,5.0],[\"Hong Kong\",1.0,1.0],[\"Hungary\",5.0,6.0],[\"Iceland\",5.0,5.0],[\"Iceland\",4.0,7.0],[\"Iceland\",2.0,5.0],[\"India\",4.0,8.0],[\"India\",7.0,7.0],[\"India\",4.0,10.0],[\"India\",5.0,5.0],[\"India\",5.0,8.0],[\"India\",6.0,8.0],[\"India\",6.0,6.0],[\"India\",2.0,8.0],[\"India\",6.0,7.0],[\"India\",5.0,5.0],[\"India\",3.0,8.0],[\"India\",4.0,8.0],[\"India\",10.0,8.0],[\"India\",9.0,7.0],[\"India\",5.0,5.0],[\"India\",2.0,5.0],[\"India\",10.0,10.0],[\"India\",6.0,8.0],[\"India\",3.0,5.0],[\"India\",5.0,8.0],[\"India\",0.0,3.0],[\"India\",4.0,6.0],[\"India\",3.0,9.0],[\"India\",9.0,10.0],[\"India\",7.0,6.0],[\"India\",6.0,7.0],[\"India\",0.0,4.0],[\"India\",3.0,3.0],[\"India\",3.0,3.0],[\"India\",5.0,7.0],[\"India\",5.0,5.0],[\"India\",2.0,7.0],[\"India\",5.0,5.0],[\"India\",0.0,7.0],[\"India\",4.0,8.0],[\"India\",2.0,8.0],[\"India\",7.0,10.0],[\"India\",7.0,9.0],[\"India\",8.0,6.0],[\"India\",8.0,8.0],[\"India\",8.0,8.0],[\"India\",1.0,6.0],[\"India\",5.0,7.0],[\"India\",1.0,7.0],[\"India\",8.0,8.0],[\"India\",6.0,8.0],[\"India\",9.0,9.0],[\"India\",8.0,8.0],[\"India\",5.0,10.0],[\"India\",7.0,7.0],[\"India\",5.0,5.0],[\"India\",4.0,8.0],[\"India\",null,null],[\"India\",null,null],[\"India\",null,null],[\"India\",null,null],[\"India\",null,null],[\"India\",null,null],[\"Indonesia\",3.0,4.0],[\"Indonesia\",7.0,7.0],[\"Indonesia\",null,null],[\"Ireland\",5.0,5.0],[\"Ireland\",6.0,6.0],[\"Ireland\",5.0,5.0],[\"Ireland\",2.0,10.0],[\"Ireland\",8.0,5.0],[\"Ireland\",6.0,7.0],[\"Ireland\",10.0,10.0],[\"Ireland\",null,null],[\"Ireland\",null,null],[\"Ireland\",null,null],[\"Israel\",0.0,7.0],[\"Israel\",8.0,4.0],[\"Italy\",1.0,2.0],[\"Italy\",5.0,7.0],[\"Italy\",0.0,2.0],[\"Italy\",6.0,10.0],[\"Italy\",10.0,8.0],[\"Italy\",null,null],[\"Italy\",null,null],[\"Japan\",6.0,5.0],[\"Japan\",5.0,6.0],[\"Japan\",3.0,5.0],[\"Japan\",8.0,7.0],[\"Japan\",9.0,8.0],[\"Jordan\",null,null],[\"Kenya\",null,null],[\"Luxembourg\",5.0,6.0],[\"Macedonia\",7.0,7.0],[\"Malaysia\",5.0,10.0],[\"Mauritius\",5.0,7.0],[\"Mexico\",3.0,9.0],[\"Mexico\",4.0,5.0],[\"Mexico\",0.0,4.0],[\"Mexico\",5.0,8.0],[\"Mexico\",0.0,10.0],[\"Mexico\",8.0,8.0],[\"Mexico\",5.0,8.0],[\"Mexico\",null,null],[\"Mongolia\",7.0,10.0],[\"Mongolia\",null,null],[\"Netherlands\",7.0,7.0],[\"Netherlands\",7.0,7.0],[\"Netherlands\",7.0,7.0],[\"Netherlands\",7.0,6.0],[\"Netherlands\",7.0,7.0],[\"Netherlands\",6.0,6.0],[\"Netherlands\",6.0,6.0],[\"Netherlands\",7.0,7.0],[\"Netherlands\",6.0,7.0],[\"Netherlands\",6.0,8.0],[\"Netherlands\",8.0,2.0],[\"Netherlands\",6.0,7.0],[\"Netherlands\",3.0,6.0],[\"Netherlands\",5.0,7.0],[\"Netherlands\",3.0,2.0],[\"Netherlands\",5.0,5.0],[\"Netherlands\",8.0,8.0],[\"Netherlands\",7.0,5.0],[\"Netherlands\",4.0,8.0],[\"Netherlands\",6.0,4.0],[\"Netherlands\",null,null],[\"Netherlands\",null,null],[\"Netherlands\",null,null],[\"Netherlands\",null,null],[\"Netherlands\",null,null],[\"Netherlands\",null,null],[\"Netherlands\",null,null],[\"New Zealand\",5.0,5.0],[\"New Zealand\",5.0,5.0],[\"New Zealand\",2.0,8.0],[\"New Zealand\",4.0,5.0],[\"New Zealand\",4.0,7.0],[\"New Zealand\",null,null],[\"New Zealand\",null,null],[\"Nigeria\",0.0,0.0],[\"Norway\",6.0,4.0],[\"Norway\",4.0,6.0],[\"Norway\",2.0,3.0],[\"Norway\",8.0,8.0],[\"Norway\",5.0,5.0],[\"Norway\",6.0,7.0],[\"Norway\",5.0,5.0],[\"Norway\",null,null],[\"Other\",7.0,9.0],[\"Pakistan\",1.0,2.0],[\"Pakistan\",9.0,9.0],[\"Pakistan\",null,null],[\"Pakistan\",null,null],[\"Philippines\",8.0,8.0],[\"Philippines\",10.0,10.0],[\"Philippines\",7.0,9.0],[\"Poland\",7.0,7.0],[\"Poland\",8.0,10.0],[\"Poland\",2.0,6.0],[\"Poland\",6.0,10.0],[\"Poland\",4.0,6.0],[\"Poland\",0.0,0.0],[\"Poland\",1.0,7.0],[\"Poland\",4.0,5.0],[\"Poland\",2.0,7.0],[\"Poland\",null,null],[\"Poland\",null,null],[\"Portugal\",9.0,9.0],[\"Portugal\",8.0,9.0],[\"Portugal\",5.0,8.0],[\"Portugal\",7.0,7.0],[\"Portugal\",0.0,0.0],[\"Portugal\",7.0,9.0],[\"Portugal\",5.0,7.0],[\"Portugal\",7.0,7.0],[\"Portugal\",7.0,8.0],[\"Portugal\",5.0,8.0],[\"Portugal\",8.0,9.0],[\"Portugal\",3.0,6.0],[\"Portugal\",3.0,3.0],[\"Portugal\",5.0,8.0],[\"Portugal\",3.0,7.0],[\"Portugal\",5.0,5.0],[\"Portugal\",4.0,7.0],[\"Portugal\",8.0,10.0],[\"Portugal\",5.0,5.0],[\"Portugal\",5.0,5.0],[\"Portugal\",null,null],[\"Portugal\",null,null],[\"Portugal\",null,null],[\"Romania\",3.0,8.0],[\"Romania\",0.0,7.0],[\"Romania\",3.0,5.0],[\"Romania\",5.0,8.0],[\"Russia\",7.0,7.0],[\"Russia\",0.0,2.0],[\"Russia\",0.0,10.0],[\"Russia\",null,null],[\"Russia\",null,null],[\"Russia\",null,null],[\"Saudi Arabia\",1.0,7.0],[\"Serbia\",0.0,6.0],[\"Serbia\",6.0,9.0],[\"Serbia\",null,null],[\"Serbia\",null,null],[\"Singapore\",4.0,5.0],[\"Slovakia\",8.0,6.0],[\"South Africa\",5.0,5.0],[\"South Africa\",3.0,6.0],[\"South Africa\",4.0,7.0],[\"South Africa\",2.0,2.0],[\"South Africa\",2.0,3.0],[\"South Africa\",0.0,0.0],[\"South Africa\",2.0,6.0],[\"South Africa\",null,null],[\"Spain\",8.0,9.0],[\"Spain\",7.0,9.0],[\"Spain\",5.0,7.0],[\"Spain\",10.0,10.0],[\"Spain\",3.0,4.0],[\"Spain\",5.0,5.0],[\"Spain\",2.0,0.0],[\"Spain\",0.0,3.0],[\"Spain\",5.0,0.0],[\"Spain\",4.0,4.0],[\"Spain\",5.0,6.0],[\"Spain\",8.0,7.0],[\"Spain\",7.0,10.0],[\"Spain\",6.0,8.0],[\"Spain\",1.0,1.0],[\"Spain\",3.0,2.0],[\"Spain\",2.0,7.0],[\"Spain\",8.0,8.0],[\"Spain\",2.0,6.0],[\"Spain\",5.0,8.0],[\"Spain\",5.0,8.0],[\"Spain\",7.0,8.0],[\"Spain\",8.0,8.0],[\"Spain\",null,null],[\"Spain\",null,null],[\"Spain\",null,null],[\"Spain\",null,null],[\"Sri Lanka\",5.0,5.0],[\"Sri Lanka\",1.0,2.0],[\"Swaziland\",6.0,5.0],[\"Sweden\",8.0,10.0],[\"Sweden\",5.0,8.0],[\"Sweden\",5.0,5.0],[\"Sweden\",2.0,8.0],[\"Sweden\",null,null],[\"Switzerland\",10.0,10.0],[\"Switzerland\",10.0,10.0],[\"Switzerland\",7.0,9.0],[\"Switzerland\",3.0,9.0],[\"Switzerland\",6.0,7.0],[\"Switzerland\",1.0,4.0],[\"Switzerland\",7.0,8.0],[\"Switzerland\",0.0,0.0],[\"Switzerland\",9.0,9.0],[\"Switzerland\",2.0,3.0],[\"Switzerland\",null,null],[\"Taiwan\",3.0,8.0],[\"Turkey\",8.0,8.0],[\"Turkey\",2.0,2.0],[\"Turkey\",7.0,7.0],[\"Turkey\",5.0,7.0],[\"Turkey\",0.0,3.0],[\"Turkey\",null,null],[\"Turkey\",null,null],[\"UK\",0.0,6.0],[\"UK\",3.0,4.0],[\"UK\",7.0,8.0],[\"UK\",7.0,7.0],[\"UK\",1.0,2.0],[\"UK\",3.0,5.0],[\"UK\",5.0,7.0],[\"UK\",6.0,6.0],[\"UK\",7.0,7.0],[\"UK\",6.0,6.0],[\"UK\",7.0,7.0],[\"UK\",8.0,5.0],[\"UK\",5.0,4.0],[\"UK\",5.0,5.0],[\"UK\",3.0,3.0],[\"UK\",8.0,8.0],[\"UK\",5.0,5.0],[\"UK\",7.0,7.0],[\"UK\",5.0,2.0],[\"UK\",1.0,1.0],[\"UK\",5.0,6.0],[\"UK\",4.0,4.0],[\"UK\",2.0,7.0],[\"UK\",2.0,2.0],[\"UK\",7.0,6.0],[\"UK\",5.0,5.0],[\"UK\",4.0,9.0],[\"UK\",1.0,1.0],[\"UK\",0.0,4.0],[\"UK\",6.0,3.0],[\"UK\",4.0,7.0],[\"UK\",5.0,7.0],[\"UK\",6.0,9.0],[\"UK\",7.0,7.0],[\"UK\",4.0,5.0],[\"UK\",0.0,5.0],[\"UK\",8.0,10.0],[\"UK\",5.0,5.0],[\"UK\",3.0,3.0],[\"UK\",7.0,7.0],[\"UK\",8.0,8.0],[\"UK\",7.0,7.0],[\"UK\",0.0,3.0],[\"UK\",3.0,7.0],[\"UK\",4.0,5.0],[\"UK\",2.0,2.0],[\"UK\",8.0,8.0],[\"UK\",5.0,5.0],[\"UK\",4.0,4.0],[\"UK\",6.0,9.0],[\"UK\",3.0,4.0],[\"UK\",3.0,5.0],[\"UK\",5.0,6.0],[\"UK\",2.0,5.0],[\"UK\",2.0,8.0],[\"UK\",5.0,5.0],[\"UK\",7.0,7.0],[\"UK\",2.0,5.0],[\"UK\",9.0,9.0],[\"UK\",6.0,5.0],[\"UK\",4.0,8.0],[\"UK\",5.0,8.0],[\"UK\",8.0,8.0],[\"UK\",7.0,7.0],[\"UK\",5.0,5.0],[\"UK\",10.0,9.0],[\"UK\",10.0,10.0],[\"UK\",3.0,7.0],[\"UK\",8.0,7.0],[\"UK\",7.0,7.0],[\"UK\",7.0,9.0],[\"UK\",7.0,7.0],[\"UK\",7.0,5.0],[\"UK\",5.0,5.0],[\"UK\",8.0,7.0],[\"UK\",8.0,9.0],[\"UK\",9.0,9.0],[\"UK\",5.0,5.0],[\"UK\",7.0,5.0],[\"UK\",7.0,7.0],[\"UK\",1.0,4.0],[\"UK\",8.0,8.0],[\"UK\",6.0,6.0],[\"UK\",8.0,8.0],[\"UK\",7.0,7.0],[\"UK\",8.0,8.0],[\"UK\",7.0,5.0],[\"UK\",7.0,7.0],[\"UK\",5.0,10.0],[\"UK\",5.0,5.0],[\"UK\",7.0,7.0],[\"UK\",8.0,7.0],[\"UK\",4.0,6.0],[\"UK\",null,null],[\"UK\",null,null],[\"UK\",null,null],[\"UK\",null,null],[\"UK\",null,null],[\"UK\",null,null],[\"UK\",null,null],[\"UK\",null,null],[\"UK\",null,null],[\"UK\",null,null],[\"UK\",null,null],[\"UK\",null,null],[\"UK\",null,null],[\"UK\",null,null],[\"UK\",null,null],[\"UK\",null,null],[\"UK\",null,null],[\"UK\",null,null],[\"UK\",null,null],[\"UK\",null,null],[\"UK\",null,null],[\"UK\",null,null],[\"UK\",null,null],[\"UK\",null,null],[\"USA\",5.0,7.0],[\"USA\",5.0,9.0],[\"USA\",3.0,5.0],[\"USA\",5.0,5.0],[\"USA\",3.0,8.0],[\"USA\",5.0,5.0],[\"USA\",2.0,2.0],[\"USA\",5.0,7.0],[\"USA\",5.0,5.0],[\"USA\",2.0,4.0],[\"USA\",9.0,9.0],[\"USA\",4.0,5.0],[\"USA\",5.0,5.0],[\"USA\",7.0,6.0],[\"USA\",2.0,6.0],[\"USA\",5.0,7.0],[\"USA\",5.0,7.0],[\"USA\",5.0,5.0],[\"USA\",3.0,4.0],[\"USA\",8.0,9.0],[\"USA\",5.0,8.0],[\"USA\",4.0,5.0],[\"USA\",5.0,4.0],[\"USA\",5.0,7.0],[\"USA\",5.0,4.0],[\"USA\",7.0,8.0],[\"USA\",6.0,7.0],[\"USA\",8.0,8.0],[\"USA\",5.0,5.0],[\"USA\",5.0,5.0],[\"USA\",5.0,7.0],[\"USA\",4.0,5.0],[\"USA\",6.0,7.0],[\"USA\",7.0,9.0],[\"USA\",5.0,9.0],[\"USA\",1.0,8.0],[\"USA\",7.0,7.0],[\"USA\",3.0,7.0],[\"USA\",7.0,7.0],[\"USA\",3.0,8.0],[\"USA\",6.0,6.0],[\"USA\",2.0,2.0],[\"USA\",5.0,7.0],[\"USA\",2.0,4.0],[\"USA\",2.0,6.0],[\"USA\",2.0,2.0],[\"USA\",3.0,5.0],[\"USA\",7.0,10.0],[\"USA\",7.0,7.0],[\"USA\",5.0,6.0],[\"USA\",6.0,5.0],[\"USA\",5.0,7.0],[\"USA\",5.0,5.0],[\"USA\",5.0,5.0],[\"USA\",4.0,7.0],[\"USA\",6.0,8.0],[\"USA\",5.0,8.0],[\"USA\",5.0,9.0],[\"USA\",7.0,7.0],[\"USA\",8.0,9.0],[\"USA\",5.0,6.0],[\"USA\",8.0,9.0],[\"USA\",6.0,8.0],[\"USA\",5.0,10.0],[\"USA\",5.0,6.0],[\"USA\",5.0,5.0],[\"USA\",9.0,9.0],[\"USA\",6.0,7.0],[\"USA\",5.0,6.0],[\"USA\",7.0,7.0],[\"USA\",3.0,3.0],[\"USA\",7.0,7.0],[\"USA\",5.0,8.0],[\"USA\",6.0,9.0],[\"USA\",5.0,5.0],[\"USA\",2.0,5.0],[\"USA\",6.0,5.0],[\"USA\",7.0,9.0],[\"USA\",8.0,8.0],[\"USA\",6.0,7.0],[\"USA\",1.0,3.0],[\"USA\",3.0,6.0],[\"USA\",8.0,8.0],[\"USA\",7.0,7.0],[\"USA\",0.0,8.0],[\"USA\",5.0,5.0],[\"USA\",7.0,9.0],[\"USA\",8.0,7.0],[\"USA\",3.0,4.0],[\"USA\",3.0,5.0],[\"USA\",5.0,5.0],[\"USA\",6.0,8.0],[\"USA\",4.0,5.0],[\"USA\",8.0,10.0],[\"USA\",5.0,5.0],[\"USA\",9.0,9.0],[\"USA\",6.0,7.0],[\"USA\",8.0,8.0],[\"USA\",7.0,4.0],[\"USA\",6.0,6.0],[\"USA\",9.0,8.0],[\"USA\",5.0,7.0],[\"USA\",6.0,5.0],[\"USA\",7.0,10.0],[\"USA\",7.0,7.0],[\"USA\",7.0,10.0],[\"USA\",7.0,10.0],[\"USA\",6.0,8.0],[\"USA\",5.0,5.0],[\"USA\",8.0,6.0],[\"USA\",5.0,5.0],[\"USA\",7.0,8.0],[\"USA\",4.0,9.0],[\"USA\",7.0,8.0],[\"USA\",8.0,8.0],[\"USA\",7.0,7.0],[\"USA\",4.0,4.0],[\"USA\",8.0,8.0],[\"USA\",5.0,8.0],[\"USA\",5.0,7.0],[\"USA\",0.0,0.0],[\"USA\",7.0,7.0],[\"USA\",2.0,6.0],[\"USA\",6.0,8.0],[\"USA\",5.0,5.0],[\"USA\",5.0,5.0],[\"USA\",3.0,6.0],[\"USA\",5.0,7.0],[\"USA\",9.0,9.0],[\"USA\",6.0,8.0],[\"USA\",0.0,7.0],[\"USA\",3.0,5.0],[\"USA\",7.0,8.0],[\"USA\",3.0,5.0],[\"USA\",5.0,5.0],[\"USA\",7.0,8.0],[\"USA\",5.0,7.0],[\"USA\",5.0,5.0],[\"USA\",8.0,10.0],[\"USA\",5.0,5.0],[\"USA\",5.0,7.0],[\"USA\",8.0,8.0],[\"USA\",2.0,5.0],[\"USA\",6.0,7.0],[\"USA\",0.0,4.0],[\"USA\",5.0,5.0],[\"USA\",3.0,8.0],[\"USA\",8.0,7.0],[\"USA\",10.0,10.0],[\"USA\",0.0,2.0],[\"USA\",5.0,5.0],[\"USA\",5.0,5.0],[\"USA\",7.0,7.0],[\"USA\",5.0,5.0],[\"USA\",1.0,7.0],[\"USA\",3.0,3.0],[\"USA\",4.0,4.0],[\"USA\",6.0,8.0],[\"USA\",5.0,10.0],[\"USA\",4.0,7.0],[\"USA\",2.0,7.0],[\"USA\",5.0,9.0],[\"USA\",6.0,8.0],[\"USA\",5.0,5.0],[\"USA\",7.0,7.0],[\"USA\",5.0,7.0],[\"USA\",8.0,8.0],[\"USA\",5.0,7.0],[\"USA\",7.0,7.0],[\"USA\",5.0,5.0],[\"USA\",0.0,3.0],[\"USA\",6.0,8.0],[\"USA\",5.0,5.0],[\"USA\",5.0,5.0],[\"USA\",7.0,7.0],[\"USA\",5.0,5.0],[\"USA\",3.0,4.0],[\"USA\",6.0,8.0],[\"USA\",6.0,7.0],[\"USA\",6.0,7.0],[\"USA\",3.0,9.0],[\"USA\",3.0,0.0],[\"USA\",1.0,2.0],[\"USA\",5.0,5.0],[\"USA\",0.0,1.0],[\"USA\",4.0,7.0],[\"USA\",3.0,8.0],[\"USA\",5.0,5.0],[\"USA\",6.0,6.0],[\"USA\",4.0,7.0],[\"USA\",6.0,7.0],[\"USA\",8.0,10.0],[\"USA\",5.0,6.0],[\"USA\",5.0,2.0],[\"USA\",5.0,7.0],[\"USA\",7.0,8.0],[\"USA\",3.0,5.0],[\"USA\",4.0,6.0],[\"USA\",7.0,7.0],[\"USA\",3.0,4.0],[\"USA\",9.0,9.0],[\"USA\",3.0,6.0],[\"USA\",2.0,6.0],[\"USA\",1.0,1.0],[\"USA\",7.0,7.0],[\"USA\",5.0,5.0],[\"USA\",5.0,7.0],[\"USA\",0.0,6.0],[\"USA\",4.0,6.0],[\"USA\",6.0,6.0],[\"USA\",8.0,7.0],[\"USA\",2.0,5.0],[\"USA\",3.0,3.0],[\"USA\",4.0,7.0],[\"USA\",8.0,8.0],[\"USA\",4.0,7.0],[\"USA\",7.0,6.0],[\"USA\",0.0,3.0],[\"USA\",3.0,5.0],[\"USA\",4.0,7.0],[\"USA\",2.0,2.0],[\"USA\",3.0,8.0],[\"USA\",7.0,6.0],[\"USA\",2.0,3.0],[\"USA\",5.0,8.0],[\"USA\",4.0,5.0],[\"USA\",4.0,4.0],[\"USA\",5.0,5.0],[\"USA\",5.0,7.0],[\"USA\",7.0,7.0],[\"USA\",6.0,6.0],[\"USA\",0.0,10.0],[\"USA\",5.0,5.0],[\"USA\",7.0,8.0],[\"USA\",4.0,4.0],[\"USA\",7.0,9.0],[\"USA\",3.0,3.0],[\"USA\",2.0,5.0],[\"USA\",7.0,7.0],[\"USA\",5.0,6.0],[\"USA\",5.0,5.0],[\"USA\",5.0,6.0],[\"USA\",6.0,6.0],[\"USA\",0.0,0.0],[\"USA\",2.0,5.0],[\"USA\",7.0,8.0],[\"USA\",5.0,7.0],[\"USA\",5.0,8.0],[\"USA\",5.0,5.0],[\"USA\",6.0,10.0],[\"USA\",3.0,3.0],[\"USA\",4.0,7.0],[\"USA\",8.0,8.0],[\"USA\",4.0,5.0],[\"USA\",5.0,5.0],[\"USA\",5.0,6.0],[\"USA\",8.0,7.0],[\"USA\",3.0,6.0],[\"USA\",6.0,8.0],[\"USA\",8.0,7.0],[\"USA\",5.0,5.0],[\"USA\",6.0,6.0],[\"USA\",7.0,6.0],[\"USA\",10.0,10.0],[\"USA\",2.0,10.0],[\"USA\",4.0,4.0],[\"USA\",3.0,7.0],[\"USA\",5.0,5.0],[\"USA\",5.0,5.0],[\"USA\",8.0,6.0],[\"USA\",5.0,8.0],[\"USA\",0.0,7.0],[\"USA\",8.0,10.0],[\"USA\",2.0,7.0],[\"USA\",5.0,5.0],[\"USA\",2.0,4.0],[\"USA\",8.0,8.0],[\"USA\",5.0,7.0],[\"USA\",5.0,6.0],[\"USA\",2.0,6.0],[\"USA\",9.0,8.0],[\"USA\",7.0,9.0],[\"USA\",5.0,8.0],[\"USA\",0.0,0.0],[\"USA\",6.0,7.0],[\"USA\",7.0,7.0],[\"USA\",10.0,10.0],[\"USA\",5.0,8.0],[\"USA\",5.0,5.0],[\"USA\",1.0,0.0],[\"USA\",10.0,10.0],[\"USA\",8.0,10.0],[\"USA\",0.0,1.0],[\"USA\",2.0,8.0],[\"USA\",2.0,5.0],[\"USA\",5.0,5.0],[\"USA\",5.0,5.0],[\"USA\",0.0,10.0],[\"USA\",0.0,0.0],[\"USA\",2.0,5.0],[\"USA\",2.0,3.0],[\"USA\",2.0,10.0],[\"USA\",5.0,5.0],[\"USA\",4.0,7.0],[\"USA\",6.0,10.0],[\"USA\",4.0,8.0],[\"USA\",5.0,7.0],[\"USA\",5.0,8.0],[\"USA\",6.0,7.0],[\"USA\",5.0,5.0],[\"USA\",6.0,6.0],[\"USA\",7.0,1.0],[\"USA\",3.0,5.0],[\"USA\",7.0,8.0],[\"USA\",1.0,2.0],[\"USA\",5.0,5.0],[\"USA\",5.0,8.0],[\"USA\",3.0,4.0],[\"USA\",3.0,5.0],[\"USA\",2.0,2.0],[\"USA\",4.0,7.0],[\"USA\",4.0,7.0],[\"USA\",5.0,8.0],[\"USA\",4.0,6.0],[\"USA\",6.0,6.0],[\"USA\",5.0,9.0],[\"USA\",4.0,7.0],[\"USA\",0.0,1.0],[\"USA\",6.0,8.0],[\"USA\",8.0,10.0],[\"USA\",7.0,8.0],[\"USA\",2.0,3.0],[\"USA\",3.0,6.0],[\"USA\",0.0,3.0],[\"USA\",6.0,6.0],[\"USA\",6.0,4.0],[\"USA\",5.0,6.0],[\"USA\",2.0,3.0],[\"USA\",8.0,5.0],[\"USA\",5.0,8.0],[\"USA\",4.0,5.0],[\"USA\",7.0,4.0],[\"USA\",10.0,10.0],[\"USA\",7.0,6.0],[\"USA\",5.0,6.0],[\"USA\",0.0,3.0],[\"USA\",5.0,5.0],[\"USA\",7.0,7.0],[\"USA\",3.0,5.0],[\"USA\",8.0,9.0],[\"USA\",4.0,6.0],[\"USA\",8.0,6.0],[\"USA\",7.0,7.0],[\"USA\",2.0,7.0],[\"USA\",3.0,7.0],[\"USA\",7.0,7.0],[\"USA\",8.0,8.0],[\"USA\",3.0,7.0],[\"USA\",7.0,8.0],[\"USA\",6.0,6.0],[\"USA\",0.0,7.0],[\"USA\",0.0,6.0],[\"USA\",7.0,6.0],[\"USA\",0.0,1.0],[\"USA\",3.0,0.0],[\"USA\",6.0,6.0],[\"USA\",5.0,7.0],[\"USA\",10.0,10.0],[\"USA\",8.0,10.0],[\"USA\",3.0,7.0],[\"USA\",5.0,7.0],[\"USA\",3.0,5.0],[\"USA\",4.0,7.0],[\"USA\",10.0,10.0],[\"USA\",7.0,8.0],[\"USA\",5.0,3.0],[\"USA\",0.0,0.0],[\"USA\",5.0,7.0],[\"USA\",1.0,3.0],[\"USA\",2.0,2.0],[\"USA\",5.0,10.0],[\"USA\",4.0,6.0],[\"USA\",3.0,5.0],[\"USA\",5.0,5.0],[\"USA\",2.0,9.0],[\"USA\",6.0,5.0],[\"USA\",5.0,7.0],[\"USA\",8.0,8.0],[\"USA\",3.0,5.0],[\"USA\",7.0,7.0],[\"USA\",5.0,2.0],[\"USA\",8.0,8.0],[\"USA\",4.0,5.0],[\"USA\",2.0,5.0],[\"USA\",5.0,3.0],[\"USA\",3.0,4.0],[\"USA\",4.0,8.0],[\"USA\",0.0,3.0],[\"USA\",1.0,7.0],[\"USA\",2.0,2.0],[\"USA\",5.0,0.0],[\"USA\",0.0,0.0],[\"USA\",4.0,7.0],[\"USA\",0.0,3.0],[\"USA\",5.0,5.0],[\"USA\",3.0,6.0],[\"USA\",7.0,7.0],[\"USA\",4.0,8.0],[\"USA\",5.0,7.0],[\"USA\",8.0,10.0],[\"USA\",3.0,7.0],[\"USA\",0.0,9.0],[\"USA\",3.0,3.0],[\"USA\",4.0,5.0],[\"USA\",0.0,0.0],[\"USA\",3.0,3.0],[\"USA\",2.0,2.0],[\"USA\",2.0,2.0],[\"USA\",5.0,5.0],[\"USA\",1.0,5.0],[\"USA\",10.0,10.0],[\"USA\",4.0,8.0],[\"USA\",2.0,2.0],[\"USA\",5.0,0.0],[\"USA\",0.0,8.0],[\"USA\",3.0,7.0],[\"USA\",0.0,5.0],[\"USA\",3.0,3.0],[\"USA\",2.0,5.0],[\"USA\",4.0,0.0],[\"USA\",3.0,3.0],[\"USA\",3.0,7.0],[\"USA\",3.0,5.0],[\"USA\",3.0,3.0],[\"USA\",8.0,7.0],[\"USA\",5.0,8.0],[\"USA\",6.0,9.0],[\"USA\",3.0,6.0],[\"USA\",0.0,10.0],[\"USA\",5.0,8.0],[\"USA\",7.0,7.0],[\"USA\",5.0,4.0],[\"USA\",0.0,7.0],[\"USA\",4.0,8.0],[\"USA\",4.0,6.0],[\"USA\",1.0,3.0],[\"USA\",1.0,4.0],[\"USA\",4.0,6.0],[\"USA\",1.0,5.0],[\"USA\",4.0,10.0],[\"USA\",5.0,5.0],[\"USA\",3.0,10.0],[\"USA\",5.0,10.0],[\"USA\",6.0,7.0],[\"USA\",5.0,5.0],[\"USA\",5.0,10.0],[\"USA\",7.0,8.0],[\"USA\",4.0,6.0],[\"USA\",2.0,5.0],[\"USA\",2.0,3.0],[\"USA\",0.0,5.0],[\"USA\",5.0,5.0],[\"USA\",0.0,0.0],[\"USA\",7.0,4.0],[\"USA\",0.0,0.0],[\"USA\",1.0,3.0],[\"USA\",8.0,8.0],[\"USA\",3.0,3.0],[\"USA\",2.0,5.0],[\"USA\",3.0,3.0],[\"USA\",6.0,6.0],[\"USA\",0.0,2.0],[\"USA\",7.0,7.0],[\"USA\",5.0,5.0],[\"USA\",4.0,3.0],[\"USA\",0.0,5.0],[\"USA\",5.0,10.0],[\"USA\",5.0,6.0],[\"USA\",7.0,7.0],[\"USA\",4.0,5.0],[\"USA\",5.0,2.0],[\"USA\",3.0,5.0],[\"USA\",5.0,6.0],[\"USA\",7.0,5.0],[\"USA\",2.0,4.0],[\"USA\",4.0,3.0],[\"USA\",0.0,0.0],[\"USA\",0.0,0.0],[\"USA\",2.0,6.0],[\"USA\",0.0,0.0],[\"USA\",2.0,7.0],[\"USA\",7.0,7.0],[\"USA\",2.0,5.0],[\"USA\",6.0,7.0],[\"USA\",8.0,7.0],[\"USA\",2.0,2.0],[\"USA\",0.0,3.0],[\"USA\",3.0,7.0],[\"USA\",5.0,6.0],[\"USA\",5.0,6.0],[\"USA\",4.0,7.0],[\"USA\",6.0,6.0],[\"USA\",3.0,8.0],[\"USA\",4.0,8.0],[\"USA\",5.0,8.0],[\"USA\",3.0,6.0],[\"USA\",5.0,5.0],[\"USA\",10.0,10.0],[\"USA\",4.0,5.0],[\"USA\",10.0,10.0],[\"USA\",5.0,5.0],[\"USA\",9.0,8.0],[\"USA\",4.0,7.0],[\"USA\",5.0,7.0],[\"USA\",0.0,0.0],[\"USA\",6.0,8.0],[\"USA\",6.0,8.0],[\"USA\",1.0,6.0],[\"USA\",5.0,8.0],[\"USA\",8.0,8.0],[\"USA\",5.0,5.0],[\"USA\",3.0,8.0],[\"USA\",7.0,7.0],[\"USA\",2.0,9.0],[\"USA\",10.0,10.0],[\"USA\",0.0,0.0],[\"USA\",8.0,8.0],[\"USA\",5.0,5.0],[\"USA\",2.0,0.0],[\"USA\",4.0,8.0],[\"USA\",5.0,5.0],[\"USA\",5.0,6.0],[\"USA\",3.0,7.0],[\"USA\",1.0,1.0],[\"USA\",3.0,5.0],[\"USA\",6.0,7.0],[\"USA\",3.0,10.0],[\"USA\",0.0,5.0],[\"USA\",8.0,10.0],[\"USA\",0.0,9.0],[\"USA\",0.0,0.0],[\"USA\",5.0,6.0],[\"USA\",2.0,2.0],[\"USA\",5.0,10.0],[\"USA\",5.0,6.0],[\"USA\",7.0,7.0],[\"USA\",7.0,8.0],[\"USA\",5.0,9.0],[\"USA\",1.0,1.0],[\"USA\",9.0,5.0],[\"USA\",7.0,7.0],[\"USA\",5.0,8.0],[\"USA\",3.0,4.0],[\"USA\",1.0,3.0],[\"USA\",2.0,5.0],[\"USA\",0.0,2.0],[\"USA\",3.0,7.0],[\"USA\",2.0,5.0],[\"USA\",5.0,5.0],[\"USA\",0.0,3.0],[\"USA\",5.0,1.0],[\"USA\",3.0,5.0],[\"USA\",8.0,5.0],[\"USA\",7.0,7.0],[\"USA\",5.0,8.0],[\"USA\",6.0,5.0],[\"USA\",7.0,7.0],[\"USA\",3.0,10.0],[\"USA\",4.0,10.0],[\"USA\",5.0,5.0],[\"USA\",5.0,7.0],[\"USA\",9.0,5.0],[\"USA\",0.0,6.0],[\"USA\",3.0,8.0],[\"USA\",10.0,10.0],[\"USA\",2.0,2.0],[\"USA\",1.0,5.0],[\"USA\",3.0,5.0],[\"USA\",0.0,4.0],[\"USA\",3.0,5.0],[\"USA\",6.0,9.0],[\"USA\",7.0,5.0],[\"USA\",3.0,5.0],[\"USA\",0.0,0.0],[\"USA\",0.0,5.0],[\"USA\",3.0,7.0],[\"USA\",5.0,8.0],[\"USA\",6.0,7.0],[\"USA\",2.0,3.0],[\"USA\",2.0,5.0],[\"USA\",5.0,7.0],[\"USA\",3.0,2.0],[\"USA\",2.0,10.0],[\"USA\",3.0,6.0],[\"USA\",2.0,7.0],[\"USA\",5.0,7.0],[\"USA\",2.0,5.0],[\"USA\",2.0,5.0],[\"USA\",5.0,5.0],[\"USA\",0.0,3.0],[\"USA\",3.0,9.0],[\"USA\",5.0,5.0],[\"USA\",0.0,0.0],[\"USA\",6.0,5.0],[\"USA\",5.0,8.0],[\"USA\",2.0,4.0],[\"USA\",0.0,10.0],[\"USA\",4.0,8.0],[\"USA\",7.0,10.0],[\"USA\",4.0,7.0],[\"USA\",2.0,7.0],[\"USA\",4.0,7.0],[\"USA\",4.0,5.0],[\"USA\",7.0,9.0],[\"USA\",8.0,8.0],[\"USA\",7.0,6.0],[\"USA\",3.0,5.0],[\"USA\",5.0,7.0],[\"USA\",7.0,8.0],[\"USA\",5.0,5.0],[\"USA\",3.0,3.0],[\"USA\",2.0,4.0],[\"USA\",2.0,8.0],[\"USA\",2.0,2.0],[\"USA\",5.0,7.0],[\"USA\",8.0,8.0],[\"USA\",0.0,8.0],[\"USA\",2.0,2.0],[\"USA\",5.0,5.0],[\"USA\",8.0,8.0],[\"USA\",2.0,7.0],[\"USA\",6.0,8.0],[\"USA\",1.0,10.0],[\"USA\",7.0,6.0],[\"USA\",4.0,7.0],[\"USA\",7.0,9.0],[\"USA\",4.0,7.0],[\"USA\",7.0,7.0],[\"USA\",6.0,8.0],[\"USA\",1.0,5.0],[\"USA\",5.0,8.0],[\"USA\",5.0,7.0],[\"USA\",3.0,6.0],[\"USA\",7.0,7.0],[\"USA\",10.0,10.0],[\"USA\",5.0,7.0],[\"USA\",9.0,7.0],[\"USA\",8.0,8.0],[\"USA\",6.0,8.0],[\"USA\",2.0,3.0],[\"USA\",3.0,8.0],[\"USA\",5.0,7.0],[\"USA\",6.0,7.0],[\"USA\",8.0,8.0],[\"USA\",10.0,10.0],[\"USA\",7.0,8.0],[\"USA\",7.0,7.0],[\"USA\",7.0,8.0],[\"USA\",5.0,9.0],[\"USA\",5.0,7.0],[\"USA\",5.0,9.0],[\"USA\",8.0,8.0],[\"USA\",5.0,6.0],[\"USA\",5.0,10.0],[\"USA\",7.0,7.0],[\"USA\",5.0,9.0],[\"USA\",2.0,5.0],[\"USA\",8.0,8.0],[\"USA\",8.0,5.0],[\"USA\",7.0,8.0],[\"USA\",4.0,6.0],[\"USA\",7.0,8.0],[\"USA\",1.0,5.0],[\"USA\",8.0,8.0],[\"USA\",5.0,5.0],[\"USA\",9.0,9.0],[\"USA\",5.0,7.0],[\"USA\",8.0,6.0],[\"USA\",5.0,5.0],[\"USA\",4.0,8.0],[\"USA\",8.0,8.0],[\"USA\",9.0,9.0],[\"USA\",5.0,6.0],[\"USA\",9.0,6.0],[\"USA\",9.0,9.0],[\"USA\",1.0,4.0],[\"USA\",5.0,8.0],[\"USA\",5.0,10.0],[\"USA\",7.0,8.0],[\"USA\",8.0,8.0],[\"USA\",5.0,5.0],[\"USA\",7.0,7.0],[\"USA\",7.0,7.0],[\"USA\",8.0,6.0],[\"USA\",5.0,7.0],[\"USA\",8.0,8.0],[\"USA\",2.0,2.0],[\"USA\",8.0,8.0],[\"USA\",8.0,8.0],[\"USA\",10.0,7.0],[\"USA\",6.0,10.0],[\"USA\",8.0,8.0],[\"USA\",6.0,8.0],[\"USA\",5.0,5.0],[\"USA\",7.0,7.0],[\"USA\",7.0,5.0],[\"USA\",8.0,7.0],[\"USA\",5.0,7.0],[\"USA\",5.0,5.0],[\"USA\",9.0,9.0],[\"USA\",6.0,6.0],[\"USA\",8.0,7.0],[\"USA\",9.0,7.0],[\"USA\",5.0,5.0],[\"USA\",7.0,5.0],[\"USA\",9.0,5.0],[\"USA\",6.0,10.0],[\"USA\",6.0,6.0],[\"USA\",10.0,10.0],[\"USA\",4.0,6.0],[\"USA\",6.0,7.0],[\"USA\",10.0,10.0],[\"USA\",6.0,6.0],[\"USA\",5.0,5.0],[\"USA\",7.0,7.0],[\"USA\",8.0,8.0],[\"USA\",5.0,6.0],[\"USA\",10.0,10.0],[\"USA\",4.0,1.0],[\"USA\",8.0,10.0],[\"USA\",5.0,7.0],[\"USA\",8.0,7.0],[\"USA\",8.0,8.0],[\"USA\",5.0,8.0],[\"USA\",7.0,8.0],[\"USA\",5.0,7.0],[\"USA\",4.0,7.0],[\"USA\",6.0,6.0],[\"USA\",9.0,9.0],[\"USA\",5.0,6.0],[\"USA\",6.0,6.0],[\"USA\",5.0,6.0],[\"USA\",7.0,7.0],[\"USA\",7.0,7.0],[\"USA\",5.0,7.0],[\"USA\",7.0,10.0],[\"USA\",6.0,6.0],[\"USA\",5.0,5.0],[\"USA\",5.0,7.0],[\"USA\",6.0,8.0],[\"USA\",7.0,7.0],[\"USA\",8.0,8.0],[\"USA\",4.0,5.0],[\"USA\",6.0,6.0],[\"USA\",5.0,7.0],[\"USA\",4.0,5.0],[\"USA\",8.0,8.0],[\"USA\",7.0,10.0],[\"USA\",5.0,7.0],[\"USA\",5.0,10.0],[\"USA\",5.0,4.0],[\"USA\",3.0,7.0],[\"USA\",5.0,6.0],[\"USA\",5.0,9.0],[\"USA\",4.0,7.0],[\"USA\",7.0,8.0],[\"USA\",6.0,8.0],[\"USA\",5.0,5.0],[\"USA\",4.0,6.0],[\"USA\",6.0,9.0],[\"USA\",5.0,7.0],[\"USA\",1.0,3.0],[\"USA\",3.0,6.0],[\"USA\",4.0,6.0],[\"USA\",5.0,5.0],[\"USA\",6.0,8.0],[\"USA\",7.0,9.0],[\"USA\",9.0,5.0],[\"USA\",8.0,7.0],[\"USA\",9.0,8.0],[\"USA\",5.0,5.0],[\"USA\",5.0,5.0],[\"USA\",5.0,3.0],[\"USA\",9.0,6.0],[\"USA\",5.0,5.0],[\"USA\",6.0,7.0],[\"USA\",6.0,7.0],[\"USA\",5.0,5.0],[\"USA\",7.0,9.0],[\"USA\",2.0,2.0],[\"USA\",3.0,5.0],[\"USA\",5.0,6.0],[\"USA\",5.0,5.0],[\"USA\",6.0,7.0],[\"USA\",9.0,9.0],[\"USA\",5.0,5.0],[\"USA\",8.0,8.0],[\"USA\",8.0,6.0],[\"USA\",5.0,9.0],[\"USA\",5.0,8.0],[\"USA\",9.0,8.0],[\"USA\",5.0,3.0],[\"USA\",6.0,6.0],[\"USA\",8.0,8.0],[\"USA\",1.0,4.0],[\"USA\",5.0,6.0],[\"USA\",7.0,6.0],[\"USA\",10.0,8.0],[\"USA\",8.0,8.0],[\"USA\",6.0,5.0],[\"USA\",7.0,7.0],[\"USA\",7.0,7.0],[\"USA\",7.0,8.0],[\"USA\",10.0,10.0],[\"USA\",4.0,6.0],[\"USA\",5.0,5.0],[\"USA\",7.0,8.0],[\"USA\",2.0,5.0],[\"USA\",5.0,6.0],[\"USA\",10.0,8.0],[\"USA\",7.0,9.0],[\"USA\",5.0,5.0],[\"USA\",7.0,7.0],[\"USA\",3.0,4.0],[\"USA\",7.0,5.0],[\"USA\",2.0,8.0],[\"USA\",7.0,7.0],[\"USA\",10.0,10.0],[\"USA\",5.0,5.0],[\"USA\",5.0,6.0],[\"USA\",3.0,5.0],[\"USA\",3.0,5.0],[\"USA\",3.0,1.0],[\"USA\",6.0,8.0],[\"USA\",8.0,6.0],[\"USA\",3.0,9.0],[\"USA\",8.0,8.0],[\"USA\",6.0,7.0],[\"USA\",6.0,3.0],[\"USA\",5.0,5.0],[\"USA\",8.0,6.0],[\"USA\",3.0,3.0],[\"USA\",7.0,9.0],[\"USA\",1.0,2.0],[\"USA\",7.0,7.0],[\"USA\",5.0,8.0],[\"USA\",7.0,7.0],[\"USA\",7.0,8.0],[\"USA\",8.0,6.0],[\"USA\",7.0,5.0],[\"USA\",8.0,7.0],[\"USA\",8.0,10.0],[\"USA\",6.0,7.0],[\"USA\",4.0,2.0],[\"USA\",5.0,5.0],[\"USA\",7.0,9.0],[\"USA\",0.0,5.0],[\"USA\",8.0,8.0],[\"USA\",7.0,7.0],[\"USA\",9.0,9.0],[\"USA\",6.0,8.0],[\"USA\",9.0,9.0],[\"USA\",3.0,3.0],[\"USA\",8.0,8.0],[\"USA\",7.0,9.0],[\"USA\",8.0,7.0],[\"USA\",6.0,8.0],[\"USA\",7.0,8.0],[\"USA\",7.0,8.0],[\"USA\",7.0,7.0],[\"USA\",2.0,0.0],[\"USA\",5.0,5.0],[\"USA\",0.0,0.0],[\"USA\",5.0,5.0],[\"USA\",7.0,5.0],[\"USA\",3.0,1.0],[\"USA\",9.0,7.0],[\"USA\",6.0,7.0],[\"USA\",10.0,10.0],[\"USA\",3.0,6.0],[\"USA\",7.0,5.0],[\"USA\",6.0,8.0],[\"USA\",6.0,3.0],[\"USA\",10.0,10.0],[\"USA\",7.0,8.0],[\"USA\",5.0,5.0],[\"USA\",4.0,5.0],[\"USA\",5.0,10.0],[\"USA\",7.0,6.0],[\"USA\",4.0,6.0],[\"USA\",5.0,7.0],[\"USA\",7.0,7.0],[\"USA\",8.0,10.0],[\"USA\",3.0,3.0],[\"USA\",8.0,7.0],[\"USA\",7.0,7.0],[\"USA\",8.0,8.0],[\"USA\",1.0,3.0],[\"USA\",5.0,5.0],[\"USA\",3.0,6.0],[\"USA\",5.0,7.0],[\"USA\",9.0,5.0],[\"USA\",6.0,6.0],[\"USA\",1.0,3.0],[\"USA\",8.0,10.0],[\"USA\",8.0,9.0],[\"USA\",7.0,6.0],[\"USA\",5.0,8.0],[\"USA\",5.0,10.0],[\"USA\",5.0,8.0],[\"USA\",8.0,10.0],[\"USA\",5.0,7.0],[\"USA\",8.0,8.0],[\"USA\",4.0,6.0],[\"USA\",6.0,7.0],[\"USA\",8.0,8.0],[\"USA\",7.0,7.0],[\"USA\",10.0,9.0],[\"USA\",1.0,6.0],[\"USA\",10.0,10.0],[\"USA\",10.0,8.0],[\"USA\",5.0,6.0],[\"USA\",1.0,8.0],[\"USA\",6.0,6.0],[\"USA\",8.0,10.0],[\"USA\",8.0,10.0],[\"USA\",8.0,8.0],[\"USA\",7.0,8.0],[\"USA\",7.0,7.0],[\"USA\",5.0,8.0],[\"USA\",5.0,6.0],[\"USA\",9.0,9.0],[\"USA\",5.0,5.0],[\"USA\",7.0,7.0],[\"USA\",7.0,7.0],[\"USA\",8.0,8.0],[\"USA\",8.0,8.0],[\"USA\",6.0,8.0],[\"USA\",7.0,7.0],[\"USA\",3.0,5.0],[\"USA\",0.0,2.0],[\"USA\",5.0,5.0],[\"USA\",3.0,5.0],[\"USA\",3.0,5.0],[\"USA\",4.0,4.0],[\"USA\",7.0,8.0],[\"USA\",7.0,8.0],[\"USA\",8.0,8.0],[\"USA\",5.0,6.0],[\"USA\",7.0,7.0],[\"USA\",6.0,10.0],[\"USA\",5.0,5.0],[\"USA\",5.0,7.0],[\"USA\",9.0,10.0],[\"USA\",6.0,6.0],[\"USA\",4.0,5.0],[\"USA\",8.0,8.0],[\"USA\",8.0,8.0],[\"USA\",10.0,10.0],[\"USA\",8.0,8.0],[\"USA\",6.0,7.0],[\"USA\",10.0,10.0],[\"USA\",5.0,5.0],[\"USA\",9.0,8.0],[\"USA\",8.0,8.0],[\"USA\",5.0,7.0],[\"USA\",8.0,8.0],[\"USA\",5.0,5.0],[\"USA\",5.0,5.0],[\"USA\",3.0,1.0],[\"USA\",9.0,7.0],[\"USA\",null,null],[\"USA\",null,null],[\"USA\",null,null],[\"USA\",null,null],[\"USA\",null,null],[\"USA\",null,null],[\"USA\",null,null],[\"USA\",null,null],[\"USA\",null,null],[\"USA\",null,null],[\"USA\",null,null],[\"USA\",null,null],[\"USA\",null,null],[\"USA\",null,null],[\"USA\",null,null],[\"USA\",null,null],[\"USA\",null,null],[\"USA\",null,null],[\"USA\",null,null],[\"USA\",null,null],[\"USA\",null,null],[\"USA\",null,null],[\"USA\",null,null],[\"USA\",null,null],[\"USA\",null,null],[\"USA\",null,null],[\"USA\",null,null],[\"USA\",null,null],[\"USA\",null,null],[\"USA\",null,null],[\"USA\",null,null],[\"USA\",null,null],[\"USA\",null,null],[\"USA\",null,null],[\"USA\",null,null],[\"USA\",null,null],[\"USA\",null,null],[\"USA\",null,null],[\"USA\",null,null],[\"USA\",null,null],[\"USA\",null,null],[\"USA\",null,null],[\"USA\",null,null],[\"USA\",null,null],[\"USA\",null,null],[\"USA\",null,null],[\"USA\",null,null],[\"USA\",null,null],[\"USA\",null,null],[\"USA\",null,null],[\"USA\",null,null],[\"USA\",null,null],[\"USA\",null,null],[\"USA\",null,null],[\"USA\",null,null],[\"USA\",null,null],[\"USA\",null,null],[\"USA\",null,null],[\"USA\",null,null],[\"USA\",null,null],[\"USA\",null,null],[\"USA\",null,null],[\"USA\",null,null],[\"USA\",null,null],[\"USA\",null,null],[\"USA\",null,null],[\"USA\",null,null],[\"USA\",null,null],[\"USA\",null,null],[\"USA\",null,null],[\"USA\",null,null],[\"USA\",null,null],[\"USA\",null,null],[\"USA\",null,null],[\"USA\",null,null],[\"USA\",null,null],[\"USA\",null,null],[\"USA\",null,null],[\"USA\",null,null],[\"USA\",null,null],[\"USA\",null,null],[\"USA\",null,null],[\"USA\",null,null],[\"USA\",null,null],[\"USA\",null,null],[\"USA\",null,null],[\"USA\",null,null],[\"USA\",null,null],[\"USA\",null,null],[\"USA\",null,null],[\"USA\",null,null],[\"USA\",null,null],[\"USA\",null,null],[\"USA\",null,null],[\"USA\",null,null],[\"USA\",null,null],[\"USA\",null,null],[\"USA\",null,null],[\"USA\",null,null],[\"USA\",null,null],[\"USA\",null,null],[\"USA\",null,null],[\"Ukraine\",5.0,8.0],[\"Ukraine\",6.0,8.0],[\"Ukraine\",null,null],[\"Uruguay\",4.0,4.0]],\"geo\":\"geo\",\"hovertemplate\":\"<b>%{hovertext}</b><br><br>country_live_in=%{location}<br>country_work_in=%{customdata[0]}<br>mh_employer_rate=%{customdata[1]}<br>ph_employer_rate=%{customdata[2]}<br>rate_tech_industry_support=%{z}<extra></extra>\",\"hovertext\":[\"Afghanistan\",\"Algeria\",\"Argentina\",\"Argentina\",\"Australia\",\"Australia\",\"Australia\",\"Australia\",\"Australia\",\"Australia\",\"Australia\",\"Australia\",\"Australia\",\"Australia\",\"Australia\",\"Australia\",\"Australia\",\"Australia\",\"Australia\",\"Australia\",\"Australia\",\"Australia\",\"Australia\",\"Australia\",\"Australia\",\"Austria\",\"Austria\",\"Austria\",\"Austria\",\"Bangladesh\",\"Bangladesh\",\"Bangladesh\",\"Belgium\",\"Belgium\",\"Belgium\",\"Belgium\",\"Botswana\",\"Brazil\",\"Brazil\",\"Brazil\",\"Brazil\",\"Brazil\",\"Brazil\",\"Brazil\",\"Brazil\",\"Brazil\",\"Brazil\",\"Brazil\",\"Brazil\",\"Brazil\",\"Brazil\",\"Brazil\",\"Brazil\",\"Brazil\",\"Brazil\",\"Brazil\",\"Brazil\",\"Brazil\",\"Brazil\",\"Brazil\",\"Brazil\",\"Brazil\",\"Brazil\",\"Brazil\",\"Bulgaria\",\"Bulgaria\",\"Cameroon\",\"Canada\",\"Canada\",\"Canada\",\"Canada\",\"Canada\",\"Canada\",\"Canada\",\"Canada\",\"Canada\",\"Canada\",\"Canada\",\"Canada\",\"Canada\",\"Canada\",\"Canada\",\"Canada\",\"Canada\",\"Canada\",\"Canada\",\"Canada\",\"Canada\",\"Canada\",\"Canada\",\"Canada\",\"Canada\",\"Canada\",\"Canada\",\"Canada\",\"Canada\",\"Canada\",\"Canada\",\"Canada\",\"Canada\",\"Canada\",\"Canada\",\"Canada\",\"Canada\",\"Canada\",\"Canada\",\"Canada\",\"Canada\",\"Canada\",\"Canada\",\"Canada\",\"Canada\",\"Canada\",\"Canada\",\"Canada\",\"Canada\",\"Canada\",\"Canada\",\"Canada\",\"Canada\",\"Colombia\",\"Colombia\",\"Colombia\",\"Croatia\",\"Croatia\",\"Czech Republic\",\"Egypt\",\"Eritrea\",\"Estonia\",\"Estonia\",\"Estonia\",\"Ethiopia\",\"Finland\",\"Finland\",\"Finland\",\"Finland\",\"France\",\"France\",\"France\",\"France\",\"France\",\"France\",\"France\",\"France\",\"France\",\"France\",\"France\",\"France\",\"France\",\"France\",\"France\",\"France\",\"France\",\"France\",\"France\",\"France\",\"France\",\"Georgia\",\"Germany\",\"Germany\",\"Germany\",\"Germany\",\"Germany\",\"Germany\",\"Germany\",\"Germany\",\"Germany\",\"Germany\",\"Germany\",\"Germany\",\"Germany\",\"Germany\",\"Germany\",\"Germany\",\"Germany\",\"Germany\",\"Germany\",\"Germany\",\"Germany\",\"Germany\",\"Germany\",\"Germany\",\"Germany\",\"Germany\",\"Germany\",\"Germany\",\"Germany\",\"Germany\",\"Germany\",\"Germany\",\"Germany\",\"Germany\",\"Germany\",\"Germany\",\"Germany\",\"Ghana\",\"Greece\",\"Greece\",\"Greece\",\"Hong Kong\",\"Hong Kong\",\"Hungary\",\"Iceland\",\"Iceland\",\"Iceland\",\"India\",\"India\",\"India\",\"India\",\"India\",\"India\",\"India\",\"India\",\"India\",\"India\",\"India\",\"India\",\"India\",\"India\",\"India\",\"India\",\"India\",\"India\",\"India\",\"India\",\"India\",\"India\",\"India\",\"India\",\"India\",\"India\",\"India\",\"India\",\"India\",\"India\",\"India\",\"India\",\"India\",\"India\",\"India\",\"India\",\"India\",\"India\",\"India\",\"India\",\"India\",\"India\",\"India\",\"India\",\"India\",\"India\",\"India\",\"India\",\"India\",\"India\",\"India\",\"India\",\"India\",\"India\",\"India\",\"India\",\"India\",\"India\",\"Indonesia\",\"Indonesia\",\"Indonesia\",\"Ireland\",\"Ireland\",\"Ireland\",\"Ireland\",\"Ireland\",\"Ireland\",\"Ireland\",\"Ireland\",\"Ireland\",\"Ireland\",\"Israel\",\"Israel\",\"Italy\",\"Italy\",\"Italy\",\"Italy\",\"Italy\",\"Italy\",\"Italy\",\"Japan\",\"Japan\",\"Japan\",\"Japan\",\"Japan\",\"Jordan\",\"Kenya\",\"Luxembourg\",\"Macedonia\",\"Malaysia\",\"Mauritius\",\"Mexico\",\"Mexico\",\"Mexico\",\"Mexico\",\"Mexico\",\"Mexico\",\"Mexico\",\"Mexico\",\"Mongolia\",\"Mongolia\",\"Netherlands\",\"Netherlands\",\"Netherlands\",\"Netherlands\",\"Netherlands\",\"Netherlands\",\"Netherlands\",\"Netherlands\",\"Netherlands\",\"Netherlands\",\"Netherlands\",\"Netherlands\",\"Netherlands\",\"Netherlands\",\"Netherlands\",\"Netherlands\",\"Netherlands\",\"Netherlands\",\"Netherlands\",\"Netherlands\",\"Netherlands\",\"Netherlands\",\"Netherlands\",\"Netherlands\",\"Netherlands\",\"Netherlands\",\"Netherlands\",\"New Zealand\",\"New Zealand\",\"New Zealand\",\"New Zealand\",\"New Zealand\",\"New Zealand\",\"New Zealand\",\"Nigeria\",\"Norway\",\"Norway\",\"Norway\",\"Norway\",\"Norway\",\"Norway\",\"Norway\",\"Norway\",\"Other\",\"Pakistan\",\"Pakistan\",\"Pakistan\",\"Pakistan\",\"Philippines\",\"Philippines\",\"Philippines\",\"Poland\",\"Poland\",\"Poland\",\"Poland\",\"Poland\",\"Poland\",\"Poland\",\"Poland\",\"Poland\",\"Poland\",\"Poland\",\"Portugal\",\"Portugal\",\"Portugal\",\"Portugal\",\"Portugal\",\"Portugal\",\"Portugal\",\"Portugal\",\"Portugal\",\"Portugal\",\"Portugal\",\"Portugal\",\"Portugal\",\"Portugal\",\"Portugal\",\"Portugal\",\"Portugal\",\"Portugal\",\"Portugal\",\"Portugal\",\"Portugal\",\"Portugal\",\"Portugal\",\"Romania\",\"Romania\",\"Romania\",\"Romania\",\"Russia\",\"Russia\",\"Russia\",\"Russia\",\"Russia\",\"Russia\",\"Saudi Arabia\",\"Serbia\",\"Serbia\",\"Serbia\",\"Serbia\",\"Singapore\",\"Slovakia\",\"South Africa\",\"South Africa\",\"South Africa\",\"South Africa\",\"South Africa\",\"South Africa\",\"South Africa\",\"South Africa\",\"Spain\",\"Spain\",\"Spain\",\"Spain\",\"Spain\",\"Spain\",\"Spain\",\"Spain\",\"Spain\",\"Spain\",\"Spain\",\"Spain\",\"Spain\",\"Spain\",\"Spain\",\"Spain\",\"Spain\",\"Spain\",\"Spain\",\"Spain\",\"Spain\",\"Spain\",\"Spain\",\"Spain\",\"Spain\",\"Spain\",\"Spain\",\"Sri Lanka\",\"Sri Lanka\",\"Swaziland\",\"Sweden\",\"Sweden\",\"Sweden\",\"Sweden\",\"Sweden\",\"Switzerland\",\"Switzerland\",\"Switzerland\",\"Switzerland\",\"Switzerland\",\"Switzerland\",\"Switzerland\",\"Switzerland\",\"Switzerland\",\"Switzerland\",\"Switzerland\",\"Taiwan\",\"Turkey\",\"Turkey\",\"Turkey\",\"Turkey\",\"Turkey\",\"Turkey\",\"Turkey\",\"UK\",\"UK\",\"UK\",\"UK\",\"UK\",\"UK\",\"UK\",\"UK\",\"UK\",\"UK\",\"UK\",\"UK\",\"UK\",\"UK\",\"UK\",\"UK\",\"UK\",\"UK\",\"UK\",\"UK\",\"UK\",\"UK\",\"UK\",\"UK\",\"UK\",\"UK\",\"UK\",\"UK\",\"UK\",\"UK\",\"UK\",\"UK\",\"UK\",\"UK\",\"UK\",\"UK\",\"UK\",\"UK\",\"UK\",\"UK\",\"UK\",\"UK\",\"UK\",\"UK\",\"UK\",\"UK\",\"UK\",\"UK\",\"UK\",\"UK\",\"UK\",\"UK\",\"UK\",\"UK\",\"UK\",\"UK\",\"UK\",\"UK\",\"UK\",\"UK\",\"UK\",\"UK\",\"UK\",\"UK\",\"UK\",\"UK\",\"UK\",\"UK\",\"UK\",\"UK\",\"UK\",\"UK\",\"UK\",\"UK\",\"UK\",\"UK\",\"UK\",\"UK\",\"UK\",\"UK\",\"UK\",\"UK\",\"UK\",\"UK\",\"UK\",\"UK\",\"UK\",\"UK\",\"UK\",\"UK\",\"UK\",\"UK\",\"UK\",\"UK\",\"UK\",\"UK\",\"UK\",\"UK\",\"UK\",\"UK\",\"UK\",\"UK\",\"UK\",\"UK\",\"UK\",\"UK\",\"UK\",\"UK\",\"UK\",\"UK\",\"UK\",\"UK\",\"UK\",\"UK\",\"UK\",\"UK\",\"UK\",\"USA\",\"USA\",\"USA\",\"USA\",\"USA\",\"USA\",\"USA\",\"USA\",\"USA\",\"USA\",\"USA\",\"USA\",\"USA\",\"USA\",\"USA\",\"USA\",\"USA\",\"USA\",\"USA\",\"USA\",\"USA\",\"USA\",\"USA\",\"USA\",\"USA\",\"USA\",\"USA\",\"USA\",\"USA\",\"USA\",\"USA\",\"USA\",\"USA\",\"USA\",\"USA\",\"USA\",\"USA\",\"USA\",\"USA\",\"USA\",\"USA\",\"USA\",\"USA\",\"USA\",\"USA\",\"USA\",\"USA\",\"USA\",\"USA\",\"USA\",\"USA\",\"USA\",\"USA\",\"USA\",\"USA\",\"USA\",\"USA\",\"USA\",\"USA\",\"USA\",\"USA\",\"USA\",\"USA\",\"USA\",\"USA\",\"USA\",\"USA\",\"USA\",\"USA\",\"USA\",\"USA\",\"USA\",\"USA\",\"USA\",\"USA\",\"USA\",\"USA\",\"USA\",\"USA\",\"USA\",\"USA\",\"USA\",\"USA\",\"USA\",\"USA\",\"USA\",\"USA\",\"USA\",\"USA\",\"USA\",\"USA\",\"USA\",\"USA\",\"USA\",\"USA\",\"USA\",\"USA\",\"USA\",\"USA\",\"USA\",\"USA\",\"USA\",\"USA\",\"USA\",\"USA\",\"USA\",\"USA\",\"USA\",\"USA\",\"USA\",\"USA\",\"USA\",\"USA\",\"USA\",\"USA\",\"USA\",\"USA\",\"USA\",\"USA\",\"USA\",\"USA\",\"USA\",\"USA\",\"USA\",\"USA\",\"USA\",\"USA\",\"USA\",\"USA\",\"USA\",\"USA\",\"USA\",\"USA\",\"USA\",\"USA\",\"USA\",\"USA\",\"USA\",\"USA\",\"USA\",\"USA\",\"USA\",\"USA\",\"USA\",\"USA\",\"USA\",\"USA\",\"USA\",\"USA\",\"USA\",\"USA\",\"USA\",\"USA\",\"USA\",\"USA\",\"USA\",\"USA\",\"USA\",\"USA\",\"USA\",\"USA\",\"USA\",\"USA\",\"USA\",\"USA\",\"USA\",\"USA\",\"USA\",\"USA\",\"USA\",\"USA\",\"USA\",\"USA\",\"USA\",\"USA\",\"USA\",\"USA\",\"USA\",\"USA\",\"USA\",\"USA\",\"USA\",\"USA\",\"USA\",\"USA\",\"USA\",\"USA\",\"USA\",\"USA\",\"USA\",\"USA\",\"USA\",\"USA\",\"USA\",\"USA\",\"USA\",\"USA\",\"USA\",\"USA\",\"USA\",\"USA\",\"USA\",\"USA\",\"USA\",\"USA\",\"USA\",\"USA\",\"USA\",\"USA\",\"USA\",\"USA\",\"USA\",\"USA\",\"USA\",\"USA\",\"USA\",\"USA\",\"USA\",\"USA\",\"USA\",\"USA\",\"USA\",\"USA\",\"USA\",\"USA\",\"USA\",\"USA\",\"USA\",\"USA\",\"USA\",\"USA\",\"USA\",\"USA\",\"USA\",\"USA\",\"USA\",\"USA\",\"USA\",\"USA\",\"USA\",\"USA\",\"USA\",\"USA\",\"USA\",\"USA\",\"USA\",\"USA\",\"USA\",\"USA\",\"USA\",\"USA\",\"USA\",\"USA\",\"USA\",\"USA\",\"USA\",\"USA\",\"USA\",\"USA\",\"USA\",\"USA\",\"USA\",\"USA\",\"USA\",\"USA\",\"USA\",\"USA\",\"USA\",\"USA\",\"USA\",\"USA\",\"USA\",\"USA\",\"USA\",\"USA\",\"USA\",\"USA\",\"USA\",\"USA\",\"USA\",\"USA\",\"USA\",\"USA\",\"USA\",\"USA\",\"USA\",\"USA\",\"USA\",\"USA\",\"USA\",\"USA\",\"USA\",\"USA\",\"USA\",\"USA\",\"USA\",\"USA\",\"USA\",\"USA\",\"USA\",\"USA\",\"USA\",\"USA\",\"USA\",\"USA\",\"USA\",\"USA\",\"USA\",\"USA\",\"USA\",\"USA\",\"USA\",\"USA\",\"USA\",\"USA\",\"USA\",\"USA\",\"USA\",\"USA\",\"USA\",\"USA\",\"USA\",\"USA\",\"USA\",\"USA\",\"USA\",\"USA\",\"USA\",\"USA\",\"USA\",\"USA\",\"USA\",\"USA\",\"USA\",\"USA\",\"USA\",\"USA\",\"USA\",\"USA\",\"USA\",\"USA\",\"USA\",\"USA\",\"USA\",\"USA\",\"USA\",\"USA\",\"USA\",\"USA\",\"USA\",\"USA\",\"USA\",\"USA\",\"USA\",\"USA\",\"USA\",\"USA\",\"USA\",\"USA\",\"USA\",\"USA\",\"USA\",\"USA\",\"USA\",\"USA\",\"USA\",\"USA\",\"USA\",\"USA\",\"USA\",\"USA\",\"USA\",\"USA\",\"USA\",\"USA\",\"USA\",\"USA\",\"USA\",\"USA\",\"USA\",\"USA\",\"USA\",\"USA\",\"USA\",\"USA\",\"USA\",\"USA\",\"USA\",\"USA\",\"USA\",\"USA\",\"USA\",\"USA\",\"USA\",\"USA\",\"USA\",\"USA\",\"USA\",\"USA\",\"USA\",\"USA\",\"USA\",\"USA\",\"USA\",\"USA\",\"USA\",\"USA\",\"USA\",\"USA\",\"USA\",\"USA\",\"USA\",\"USA\",\"USA\",\"USA\",\"USA\",\"USA\",\"USA\",\"USA\",\"USA\",\"USA\",\"USA\",\"USA\",\"USA\",\"USA\",\"USA\",\"USA\",\"USA\",\"USA\",\"USA\",\"USA\",\"USA\",\"USA\",\"USA\",\"USA\",\"USA\",\"USA\",\"USA\",\"USA\",\"USA\",\"USA\",\"USA\",\"USA\",\"USA\",\"USA\",\"USA\",\"USA\",\"USA\",\"USA\",\"USA\",\"USA\",\"USA\",\"USA\",\"USA\",\"USA\",\"USA\",\"USA\",\"USA\",\"USA\",\"USA\",\"USA\",\"USA\",\"USA\",\"USA\",\"USA\",\"USA\",\"USA\",\"USA\",\"USA\",\"USA\",\"USA\",\"USA\",\"USA\",\"USA\",\"USA\",\"USA\",\"USA\",\"USA\",\"USA\",\"USA\",\"USA\",\"USA\",\"USA\",\"USA\",\"USA\",\"USA\",\"USA\",\"USA\",\"USA\",\"USA\",\"USA\",\"USA\",\"USA\",\"USA\",\"USA\",\"USA\",\"USA\",\"USA\",\"USA\",\"USA\",\"USA\",\"USA\",\"USA\",\"USA\",\"USA\",\"USA\",\"USA\",\"USA\",\"USA\",\"USA\",\"USA\",\"USA\",\"USA\",\"USA\",\"USA\",\"USA\",\"USA\",\"USA\",\"USA\",\"USA\",\"USA\",\"USA\",\"USA\",\"USA\",\"USA\",\"USA\",\"USA\",\"USA\",\"USA\",\"USA\",\"USA\",\"USA\",\"USA\",\"USA\",\"USA\",\"USA\",\"USA\",\"USA\",\"USA\",\"USA\",\"USA\",\"USA\",\"USA\",\"USA\",\"USA\",\"USA\",\"USA\",\"USA\",\"USA\",\"USA\",\"USA\",\"USA\",\"USA\",\"USA\",\"USA\",\"USA\",\"USA\",\"USA\",\"USA\",\"USA\",\"USA\",\"USA\",\"USA\",\"USA\",\"USA\",\"USA\",\"USA\",\"USA\",\"USA\",\"USA\",\"USA\",\"USA\",\"USA\",\"USA\",\"USA\",\"USA\",\"USA\",\"USA\",\"USA\",\"USA\",\"USA\",\"USA\",\"USA\",\"USA\",\"USA\",\"USA\",\"USA\",\"USA\",\"USA\",\"USA\",\"USA\",\"USA\",\"USA\",\"USA\",\"USA\",\"USA\",\"USA\",\"USA\",\"USA\",\"USA\",\"USA\",\"USA\",\"USA\",\"USA\",\"USA\",\"USA\",\"USA\",\"USA\",\"USA\",\"USA\",\"USA\",\"USA\",\"USA\",\"USA\",\"USA\",\"USA\",\"USA\",\"USA\",\"USA\",\"USA\",\"USA\",\"USA\",\"USA\",\"USA\",\"USA\",\"USA\",\"USA\",\"USA\",\"USA\",\"USA\",\"USA\",\"USA\",\"USA\",\"USA\",\"USA\",\"USA\",\"USA\",\"USA\",\"USA\",\"USA\",\"USA\",\"USA\",\"USA\",\"USA\",\"USA\",\"USA\",\"USA\",\"USA\",\"USA\",\"USA\",\"USA\",\"USA\",\"USA\",\"USA\",\"USA\",\"USA\",\"USA\",\"USA\",\"USA\",\"USA\",\"USA\",\"USA\",\"USA\",\"USA\",\"USA\",\"USA\",\"USA\",\"USA\",\"USA\",\"USA\",\"USA\",\"USA\",\"USA\",\"USA\",\"USA\",\"USA\",\"USA\",\"USA\",\"USA\",\"USA\",\"USA\",\"USA\",\"USA\",\"USA\",\"USA\",\"USA\",\"USA\",\"USA\",\"USA\",\"USA\",\"USA\",\"USA\",\"USA\",\"USA\",\"USA\",\"USA\",\"USA\",\"USA\",\"USA\",\"USA\",\"USA\",\"USA\",\"USA\",\"USA\",\"USA\",\"USA\",\"USA\",\"USA\",\"USA\",\"USA\",\"USA\",\"USA\",\"USA\",\"USA\",\"USA\",\"USA\",\"USA\",\"USA\",\"USA\",\"USA\",\"USA\",\"USA\",\"USA\",\"USA\",\"USA\",\"USA\",\"USA\",\"USA\",\"USA\",\"USA\",\"USA\",\"USA\",\"USA\",\"USA\",\"USA\",\"USA\",\"USA\",\"USA\",\"USA\",\"USA\",\"USA\",\"USA\",\"USA\",\"USA\",\"USA\",\"USA\",\"USA\",\"USA\",\"USA\",\"USA\",\"USA\",\"USA\",\"USA\",\"USA\",\"USA\",\"USA\",\"USA\",\"USA\",\"USA\",\"USA\",\"USA\",\"USA\",\"USA\",\"USA\",\"USA\",\"USA\",\"USA\",\"USA\",\"USA\",\"USA\",\"USA\",\"USA\",\"USA\",\"USA\",\"USA\",\"USA\",\"USA\",\"USA\",\"USA\",\"USA\",\"USA\",\"USA\",\"USA\",\"USA\",\"USA\",\"USA\",\"USA\",\"USA\",\"USA\",\"USA\",\"USA\",\"USA\",\"USA\",\"USA\",\"USA\",\"USA\",\"USA\",\"USA\",\"USA\",\"USA\",\"USA\",\"USA\",\"USA\",\"USA\",\"USA\",\"USA\",\"USA\",\"USA\",\"USA\",\"USA\",\"USA\",\"USA\",\"USA\",\"USA\",\"USA\",\"USA\",\"USA\",\"USA\",\"USA\",\"USA\",\"USA\",\"USA\",\"USA\",\"USA\",\"USA\",\"USA\",\"USA\",\"USA\",\"USA\",\"USA\",\"USA\",\"USA\",\"USA\",\"USA\",\"USA\",\"USA\",\"USA\",\"USA\",\"USA\",\"USA\",\"USA\",\"USA\",\"USA\",\"USA\",\"USA\",\"USA\",\"USA\",\"USA\",\"USA\",\"USA\",\"USA\",\"USA\",\"USA\",\"USA\",\"USA\",\"USA\",\"USA\",\"USA\",\"USA\",\"USA\",\"USA\",\"USA\",\"USA\",\"USA\",\"USA\",\"USA\",\"USA\",\"USA\",\"USA\",\"USA\",\"USA\",\"USA\",\"USA\",\"USA\",\"USA\",\"USA\",\"USA\",\"USA\",\"USA\",\"USA\",\"USA\",\"USA\",\"USA\",\"USA\",\"USA\",\"USA\",\"USA\",\"USA\",\"USA\",\"USA\",\"USA\",\"USA\",\"USA\",\"USA\",\"USA\",\"USA\",\"USA\",\"USA\",\"USA\",\"USA\",\"USA\",\"USA\",\"USA\",\"USA\",\"USA\",\"USA\",\"USA\",\"USA\",\"USA\",\"USA\",\"USA\",\"USA\",\"USA\",\"USA\",\"USA\",\"USA\",\"USA\",\"USA\",\"USA\",\"USA\",\"USA\",\"USA\",\"USA\",\"USA\",\"USA\",\"USA\",\"USA\",\"USA\",\"USA\",\"USA\",\"USA\",\"USA\",\"USA\",\"USA\",\"USA\",\"USA\",\"USA\",\"USA\",\"USA\",\"USA\",\"USA\",\"USA\",\"USA\",\"USA\",\"USA\",\"USA\",\"USA\",\"USA\",\"USA\",\"USA\",\"USA\",\"USA\",\"USA\",\"USA\",\"USA\",\"USA\",\"USA\",\"USA\",\"USA\",\"USA\",\"USA\",\"USA\",\"USA\",\"USA\",\"USA\",\"USA\",\"USA\",\"USA\",\"USA\",\"USA\",\"USA\",\"USA\",\"USA\",\"USA\",\"USA\",\"USA\",\"USA\",\"USA\",\"USA\",\"USA\",\"USA\",\"USA\",\"USA\",\"USA\",\"USA\",\"USA\",\"USA\",\"USA\",\"USA\",\"USA\",\"USA\",\"USA\",\"USA\",\"USA\",\"USA\",\"USA\",\"USA\",\"USA\",\"USA\",\"USA\",\"USA\",\"USA\",\"USA\",\"USA\",\"USA\",\"USA\",\"USA\",\"USA\",\"USA\",\"USA\",\"USA\",\"USA\",\"USA\",\"USA\",\"USA\",\"USA\",\"USA\",\"USA\",\"USA\",\"USA\",\"USA\",\"USA\",\"USA\",\"USA\",\"USA\",\"USA\",\"USA\",\"USA\",\"USA\",\"USA\",\"USA\",\"USA\",\"USA\",\"USA\",\"USA\",\"USA\",\"USA\",\"USA\",\"USA\",\"USA\",\"USA\",\"USA\",\"USA\",\"USA\",\"USA\",\"USA\",\"USA\",\"USA\",\"USA\",\"USA\",\"USA\",\"USA\",\"USA\",\"USA\",\"USA\",\"USA\",\"USA\",\"USA\",\"USA\",\"USA\",\"USA\",\"USA\",\"USA\",\"USA\",\"USA\",\"USA\",\"USA\",\"USA\",\"USA\",\"USA\",\"USA\",\"USA\",\"USA\",\"Ukraine\",\"Ukraine\",\"Ukraine\",\"Uruguay\"],\"locationmode\":\"country names\",\"locations\":[\"Afghanistan\",\"Algeria\",\"Argentina\",\"Argentina\",\"Australia\",\"Australia\",\"Australia\",\"Australia\",\"Australia\",\"Australia\",\"Australia\",\"Australia\",\"Australia\",\"Australia\",\"Australia\",\"Australia\",\"Australia\",\"Australia\",\"Australia\",\"Australia\",\"Australia\",\"Australia\",\"Australia\",\"Australia\",\"Australia\",\"Austria\",\"Hungary\",\"Austria\",\"Austria\",\"Bangladesh\",\"Bangladesh\",\"Bangladesh\",\"Belgium\",\"Belgium\",\"Belgium\",\"Belgium\",\"USA\",\"Brazil\",\"Brazil\",\"Brazil\",\"Brazil\",\"Brazil\",\"Brazil\",\"Brazil\",\"Brazil\",\"Brazil\",\"Brazil\",\"Brazil\",\"Brazil\",\"Brazil\",\"Brazil\",\"Brazil\",\"Brazil\",\"Brazil\",\"Brazil\",\"Brazil\",\"Brazil\",\"Brazil\",\"Brazil\",\"Brazil\",\"Brazil\",\"Brazil\",\"Brazil\",\"Brazil\",\"Bulgaria\",\"Bulgaria\",\"Cameroon\",\"Canada\",\"Canada\",\"Canada\",\"Canada\",\"Canada\",\"Canada\",\"Canada\",\"Canada\",\"Canada\",\"Canada\",\"Canada\",\"Canada\",\"Canada\",\"Canada\",\"Canada\",\"Canada\",\"Canada\",\"Canada\",\"Canada\",\"Canada\",\"Canada\",\"Canada\",\"Canada\",\"Canada\",\"Canada\",\"Canada\",\"Canada\",\"Canada\",\"Canada\",\"Canada\",\"Canada\",\"Canada\",\"Canada\",\"Canada\",\"Canada\",\"Canada\",\"Canada\",\"Canada\",\"Canada\",\"Canada\",\"Canada\",\"Canada\",\"Canada\",\"Canada\",\"Canada\",\"Canada\",\"Canada\",\"Canada\",\"Canada\",\"Canada\",\"Canada\",\"Canada\",\"Canada\",\"Colombia\",\"Colombia\",\"Colombia\",\"Croatia\",\"Croatia\",\"Czech Republic\",\"Egypt\",\"Germany\",\"Estonia\",\"Estonia\",\"Estonia\",\"Ethiopia\",\"Finland\",\"Finland\",\"Ukraine\",\"Finland\",\"France\",\"France\",\"France\",\"France\",\"France\",\"France\",\"France\",\"France\",\"France\",\"France\",\"France\",\"France\",\"France\",\"France\",\"France\",\"France\",\"France\",\"France\",\"France\",\"France\",\"France\",\"Georgia\",\"Germany\",\"Germany\",\"Germany\",\"Germany\",\"Czech Republic\",\"Germany\",\"Germany\",\"Germany\",\"Germany\",\"Germany\",\"Germany\",\"Germany\",\"Germany\",\"Germany\",\"Germany\",\"Germany\",\"Germany\",\"Germany\",\"Germany\",\"Germany\",\"Germany\",\"Germany\",\"Germany\",\"Germany\",\"Germany\",\"Germany\",\"Germany\",\"Germany\",\"Germany\",\"Germany\",\"Germany\",\"Germany\",\"Germany\",\"Germany\",\"Germany\",\"Germany\",\"Germany\",\"Ghana\",\"Greece\",\"Greece\",\"Greece\",\"Hong Kong\",\"Hong Kong\",\"Hungary\",\"Iceland\",\"Iceland\",\"Iceland\",\"India\",\"India\",\"India\",\"India\",\"India\",\"India\",\"India\",\"India\",\"India\",\"India\",\"India\",\"India\",\"India\",\"India\",\"India\",\"India\",\"India\",\"India\",\"India\",\"India\",\"India\",\"India\",\"India\",\"India\",\"India\",\"India\",\"India\",\"India\",\"India\",\"India\",\"India\",\"India\",\"India\",\"India\",\"India\",\"India\",\"India\",\"India\",\"India\",\"India\",\"India\",\"India\",\"India\",\"India\",\"India\",\"India\",\"India\",\"India\",\"India\",\"India\",\"India\",\"India\",\"India\",\"India\",\"India\",\"India\",\"India\",\"India\",\"Indonesia\",\"Indonesia\",\"Indonesia\",\"Ireland\",\"Ireland\",\"Ireland\",\"Ireland\",\"Ireland\",\"Ireland\",\"Ireland\",\"Ireland\",\"Ireland\",\"Ireland\",\"Israel\",\"Israel\",\"Italy\",\"Italy\",\"Italy\",\"Italy\",\"Italy\",\"Italy\",\"Italy\",\"Japan\",\"Japan\",\"Japan\",\"Japan\",\"Japan\",\"Jordan\",\"Kenya\",\"France\",\"Macedonia\",\"Malaysia\",\"Mauritius\",\"Mexico\",\"Mexico\",\"Mexico\",\"Mexico\",\"Mexico\",\"Mexico\",\"Mexico\",\"USA\",\"Mongolia\",\"Mongolia\",\"Netherlands\",\"Netherlands\",\"Netherlands\",\"Netherlands\",\"Netherlands\",\"Netherlands\",\"Netherlands\",\"Netherlands\",\"Netherlands\",\"Netherlands\",\"Netherlands\",\"Netherlands\",\"Netherlands\",\"Netherlands\",\"Netherlands\",\"Netherlands\",\"Netherlands\",\"Greece\",\"Netherlands\",\"Netherlands\",\"Netherlands\",\"Netherlands\",\"Netherlands\",\"Netherlands\",\"Netherlands\",\"Netherlands\",\"Netherlands\",\"New Zealand\",\"New Zealand\",\"New Zealand\",\"New Zealand\",\"New Zealand\",\"New Zealand\",\"Belgium\",\"Nigeria\",\"Norway\",\"Norway\",\"Norway\",\"Norway\",\"Norway\",\"Norway\",\"Norway\",\"Norway\",\"UK\",\"Pakistan\",\"Pakistan\",\"Pakistan\",\"Pakistan\",\"Philippines\",\"Philippines\",\"Philippines\",\"Poland\",\"Poland\",\"Poland\",\"Poland\",\"Poland\",\"Poland\",\"Poland\",\"Poland\",\"Poland\",\"Poland\",\"Poland\",\"Portugal\",\"Portugal\",\"Portugal\",\"Portugal\",\"Portugal\",\"Portugal\",\"Portugal\",\"Portugal\",\"Portugal\",\"Portugal\",\"Portugal\",\"Portugal\",\"Portugal\",\"Portugal\",\"Portugal\",\"Portugal\",\"Portugal\",\"Portugal\",\"Portugal\",\"Portugal\",\"Belgium\",\"Portugal\",\"Portugal\",\"Romania\",\"Romania\",\"Romania\",\"Romania\",\"Russia\",\"Russia\",\"Russia\",\"Russia\",\"Russia\",\"Russia\",\"Saudi Arabia\",\"Serbia\",\"Serbia\",\"Serbia\",\"Serbia\",\"Singapore\",\"Slovakia\",\"South Africa\",\"South Africa\",\"South Africa\",\"South Africa\",\"South Africa\",\"South Africa\",\"South Africa\",\"South Africa\",\"Spain\",\"Spain\",\"Spain\",\"Spain\",\"Spain\",\"Spain\",\"Spain\",\"Spain\",\"Spain\",\"Spain\",\"Spain\",\"Spain\",\"Spain\",\"Spain\",\"Spain\",\"Spain\",\"Spain\",\"Spain\",\"Spain\",\"Spain\",\"Spain\",\"Spain\",\"Spain\",\"Spain\",\"Spain\",\"Spain\",\"Spain\",\"Sri Lanka\",\"Sri Lanka\",\"Switzerland\",\"Sweden\",\"Sweden\",\"Sweden\",\"Sweden\",\"Sweden\",\"Switzerland\",\"Switzerland\",\"Switzerland\",\"Switzerland\",\"Switzerland\",\"France\",\"Switzerland\",\"Switzerland\",\"Switzerland\",\"Switzerland\",\"Switzerland\",\"Taiwan\",\"Turkey\",\"Turkey\",\"Turkey\",\"Turkey\",\"Turkey\",\"Turkey\",\"Turkey\",\"UK\",\"UK\",\"UK\",\"UK\",\"UK\",\"UK\",\"UK\",\"UK\",\"UK\",\"UK\",\"UK\",\"UK\",\"UK\",\"UK\",\"UK\",\"UK\",\"UK\",\"UK\",\"UK\",\"UK\",\"UK\",\"UK\",\"UK\",\"UK\",\"UK\",\"UK\",\"UK\",\"UK\",\"UK\",\"UK\",\"UK\",\"UK\",\"UK\",\"UK\",\"UK\",\"UK\",\"UK\",\"UK\",\"UK\",\"UK\",\"UK\",\"UK\",\"UK\",\"UK\",\"UK\",\"UK\",\"UK\",\"Germany\",\"UK\",\"UK\",\"UK\",\"UK\",\"UK\",\"UK\",\"UK\",\"UK\",\"UK\",\"UK\",\"UK\",\"UK\",\"UK\",\"UK\",\"UK\",\"UK\",\"UK\",\"UK\",\"UK\",\"UK\",\"UK\",\"UK\",\"UK\",\"UK\",\"UK\",\"UK\",\"UK\",\"UK\",\"UK\",\"UK\",\"UK\",\"UK\",\"UK\",\"UK\",\"UK\",\"UK\",\"UK\",\"UK\",\"UK\",\"UK\",\"UK\",\"UK\",\"UK\",\"UK\",\"UK\",\"UK\",\"UK\",\"UK\",\"UK\",\"UK\",\"UK\",\"UK\",\"UK\",\"UK\",\"UK\",\"UK\",\"UK\",\"UK\",\"UK\",\"UK\",\"UK\",\"UK\",\"UK\",\"UK\",\"UK\",\"UK\",\"UK\",\"UK\",\"UK\",\"USA\",\"USA\",\"USA\",\"USA\",\"USA\",\"USA\",\"USA\",\"USA\",\"USA\",\"USA\",\"USA\",\"USA\",\"USA\",\"USA\",\"USA\",\"USA\",\"USA\",\"USA\",\"USA\",\"USA\",\"USA\",\"USA\",\"USA\",\"USA\",\"USA\",\"USA\",\"USA\",\"USA\",\"USA\",\"USA\",\"USA\",\"USA\",\"USA\",\"USA\",\"USA\",\"USA\",\"USA\",\"USA\",\"USA\",\"USA\",\"USA\",\"USA\",\"USA\",\"USA\",\"USA\",\"USA\",\"USA\",\"USA\",\"USA\",\"USA\",\"USA\",\"USA\",\"USA\",\"USA\",\"USA\",\"USA\",\"USA\",\"USA\",\"USA\",\"USA\",\"USA\",\"USA\",\"USA\",\"USA\",\"USA\",\"USA\",\"USA\",\"USA\",\"USA\",\"USA\",\"USA\",\"USA\",\"USA\",\"USA\",\"USA\",\"USA\",\"USA\",\"USA\",\"USA\",\"USA\",\"USA\",\"USA\",\"USA\",\"USA\",\"USA\",\"USA\",\"USA\",\"USA\",\"USA\",\"USA\",\"USA\",\"USA\",\"USA\",\"USA\",\"USA\",\"USA\",\"USA\",\"USA\",\"USA\",\"USA\",\"USA\",\"USA\",\"USA\",\"USA\",\"USA\",\"USA\",\"USA\",\"USA\",\"USA\",\"USA\",\"USA\",\"USA\",\"USA\",\"USA\",\"USA\",\"USA\",\"USA\",\"USA\",\"USA\",\"USA\",\"USA\",\"USA\",\"USA\",\"USA\",\"USA\",\"USA\",\"USA\",\"USA\",\"USA\",\"USA\",\"USA\",\"USA\",\"USA\",\"USA\",\"USA\",\"USA\",\"USA\",\"USA\",\"USA\",\"USA\",\"USA\",\"USA\",\"USA\",\"USA\",\"USA\",\"USA\",\"USA\",\"USA\",\"USA\",\"USA\",\"USA\",\"USA\",\"USA\",\"USA\",\"USA\",\"USA\",\"USA\",\"USA\",\"USA\",\"USA\",\"USA\",\"USA\",\"USA\",\"USA\",\"USA\",\"USA\",\"USA\",\"USA\",\"USA\",\"USA\",\"USA\",\"USA\",\"USA\",\"USA\",\"USA\",\"USA\",\"USA\",\"USA\",\"USA\",\"USA\",\"USA\",\"USA\",\"USA\",\"USA\",\"USA\",\"USA\",\"USA\",\"USA\",\"USA\",\"USA\",\"USA\",\"USA\",\"USA\",\"USA\",\"USA\",\"USA\",\"USA\",\"USA\",\"USA\",\"USA\",\"USA\",\"USA\",\"USA\",\"USA\",\"USA\",\"USA\",\"USA\",\"USA\",\"USA\",\"USA\",\"USA\",\"USA\",\"USA\",\"USA\",\"USA\",\"USA\",\"USA\",\"USA\",\"USA\",\"USA\",\"USA\",\"USA\",\"USA\",\"USA\",\"USA\",\"USA\",\"USA\",\"USA\",\"USA\",\"USA\",\"USA\",\"USA\",\"USA\",\"USA\",\"USA\",\"USA\",\"USA\",\"USA\",\"Canada\",\"USA\",\"USA\",\"USA\",\"USA\",\"USA\",\"USA\",\"USA\",\"USA\",\"USA\",\"USA\",\"USA\",\"USA\",\"USA\",\"USA\",\"USA\",\"USA\",\"USA\",\"USA\",\"USA\",\"USA\",\"USA\",\"USA\",\"USA\",\"USA\",\"USA\",\"USA\",\"USA\",\"USA\",\"USA\",\"USA\",\"USA\",\"USA\",\"USA\",\"USA\",\"USA\",\"USA\",\"USA\",\"USA\",\"USA\",\"USA\",\"USA\",\"USA\",\"USA\",\"USA\",\"USA\",\"USA\",\"USA\",\"USA\",\"USA\",\"USA\",\"USA\",\"USA\",\"USA\",\"USA\",\"USA\",\"USA\",\"USA\",\"USA\",\"USA\",\"USA\",\"USA\",\"USA\",\"USA\",\"USA\",\"USA\",\"USA\",\"USA\",\"USA\",\"USA\",\"USA\",\"USA\",\"USA\",\"USA\",\"USA\",\"USA\",\"USA\",\"USA\",\"USA\",\"USA\",\"USA\",\"USA\",\"USA\",\"USA\",\"USA\",\"USA\",\"USA\",\"USA\",\"USA\",\"USA\",\"USA\",\"USA\",\"USA\",\"USA\",\"USA\",\"USA\",\"USA\",\"USA\",\"USA\",\"USA\",\"USA\",\"USA\",\"USA\",\"USA\",\"USA\",\"USA\",\"USA\",\"USA\",\"USA\",\"USA\",\"USA\",\"USA\",\"USA\",\"USA\",\"USA\",\"USA\",\"USA\",\"USA\",\"USA\",\"USA\",\"USA\",\"USA\",\"USA\",\"USA\",\"USA\",\"USA\",\"Netherlands\",\"USA\",\"USA\",\"USA\",\"USA\",\"USA\",\"USA\",\"USA\",\"USA\",\"USA\",\"USA\",\"USA\",\"USA\",\"USA\",\"USA\",\"USA\",\"USA\",\"USA\",\"USA\",\"USA\",\"USA\",\"USA\",\"USA\",\"USA\",\"USA\",\"USA\",\"USA\",\"USA\",\"USA\",\"USA\",\"USA\",\"USA\",\"USA\",\"USA\",\"USA\",\"USA\",\"USA\",\"USA\",\"USA\",\"USA\",\"USA\",\"USA\",\"USA\",\"USA\",\"USA\",\"USA\",\"USA\",\"USA\",\"USA\",\"USA\",\"USA\",\"USA\",\"USA\",\"USA\",\"USA\",\"USA\",\"USA\",\"USA\",\"USA\",\"USA\",\"USA\",\"USA\",\"USA\",\"USA\",\"USA\",\"USA\",\"USA\",\"USA\",\"USA\",\"USA\",\"USA\",\"USA\",\"USA\",\"USA\",\"USA\",\"USA\",\"USA\",\"USA\",\"USA\",\"USA\",\"USA\",\"USA\",\"USA\",\"USA\",\"USA\",\"USA\",\"USA\",\"USA\",\"USA\",\"USA\",\"USA\",\"USA\",\"USA\",\"USA\",\"USA\",\"USA\",\"USA\",\"USA\",\"USA\",\"USA\",\"USA\",\"USA\",\"USA\",\"USA\",\"USA\",\"USA\",\"USA\",\"USA\",\"USA\",\"USA\",\"USA\",\"USA\",\"USA\",\"USA\",\"USA\",\"USA\",\"USA\",\"USA\",\"USA\",\"USA\",\"USA\",\"USA\",\"USA\",\"USA\",\"USA\",\"USA\",\"USA\",\"New Zealand\",\"USA\",\"USA\",\"USA\",\"USA\",\"USA\",\"USA\",\"USA\",\"USA\",\"USA\",\"USA\",\"USA\",\"USA\",\"USA\",\"USA\",\"USA\",\"USA\",\"USA\",\"USA\",\"USA\",\"USA\",\"USA\",\"USA\",\"USA\",\"USA\",\"USA\",\"USA\",\"USA\",\"USA\",\"USA\",\"USA\",\"USA\",\"USA\",\"USA\",\"USA\",\"USA\",\"USA\",\"USA\",\"USA\",\"USA\",\"USA\",\"USA\",\"USA\",\"USA\",\"USA\",\"USA\",\"USA\",\"USA\",\"USA\",\"USA\",\"USA\",\"USA\",\"USA\",\"USA\",\"USA\",\"USA\",\"USA\",\"USA\",\"USA\",\"USA\",\"USA\",\"USA\",\"USA\",\"USA\",\"USA\",\"USA\",\"USA\",\"USA\",\"USA\",\"USA\",\"USA\",\"USA\",\"USA\",\"USA\",\"USA\",\"USA\",\"USA\",\"USA\",\"USA\",\"USA\",\"USA\",\"USA\",\"USA\",\"USA\",\"USA\",\"USA\",\"USA\",\"USA\",\"USA\",\"USA\",\"USA\",\"USA\",\"USA\",\"USA\",\"USA\",\"USA\",\"USA\",\"USA\",\"USA\",\"USA\",\"USA\",\"USA\",\"USA\",\"USA\",\"USA\",\"USA\",\"USA\",\"USA\",\"USA\",\"USA\",\"USA\",\"USA\",\"USA\",\"USA\",\"USA\",\"USA\",\"USA\",\"USA\",\"USA\",\"Chile\",\"USA\",\"USA\",\"USA\",\"USA\",\"USA\",\"USA\",\"USA\",\"USA\",\"USA\",\"USA\",\"USA\",\"USA\",\"USA\",\"USA\",\"USA\",\"USA\",\"USA\",\"USA\",\"USA\",\"USA\",\"USA\",\"USA\",\"USA\",\"USA\",\"USA\",\"USA\",\"USA\",\"USA\",\"USA\",\"USA\",\"USA\",\"USA\",\"USA\",\"USA\",\"USA\",\"USA\",\"USA\",\"USA\",\"USA\",\"USA\",\"USA\",\"USA\",\"USA\",\"USA\",\"USA\",\"USA\",\"USA\",\"USA\",\"Ireland\",\"USA\",\"USA\",\"USA\",\"USA\",\"USA\",\"USA\",\"USA\",\"USA\",\"USA\",\"USA\",\"USA\",\"USA\",\"USA\",\"USA\",\"USA\",\"USA\",\"USA\",\"USA\",\"USA\",\"USA\",\"USA\",\"USA\",\"USA\",\"USA\",\"USA\",\"USA\",\"USA\",\"USA\",\"USA\",\"USA\",\"USA\",\"USA\",\"USA\",\"USA\",\"USA\",\"USA\",\"USA\",\"USA\",\"USA\",\"USA\",\"USA\",\"USA\",\"USA\",\"USA\",\"USA\",\"USA\",\"USA\",\"USA\",\"USA\",\"USA\",\"USA\",\"USA\",\"USA\",\"USA\",\"USA\",\"USA\",\"USA\",\"USA\",\"USA\",\"USA\",\"USA\",\"USA\",\"USA\",\"USA\",\"USA\",\"USA\",\"USA\",\"USA\",\"USA\",\"USA\",\"USA\",\"USA\",\"USA\",\"USA\",\"USA\",\"USA\",\"USA\",\"USA\",\"USA\",\"USA\",\"USA\",\"USA\",\"USA\",\"USA\",\"USA\",\"USA\",\"USA\",\"USA\",\"USA\",\"USA\",\"USA\",\"USA\",\"USA\",\"USA\",\"USA\",\"USA\",\"USA\",\"USA\",\"USA\",\"USA\",\"USA\",\"USA\",\"USA\",\"USA\",\"USA\",\"USA\",\"USA\",\"USA\",\"USA\",\"USA\",\"USA\",\"USA\",\"USA\",\"USA\",\"USA\",\"USA\",\"USA\",\"USA\",\"USA\",\"USA\",\"USA\",\"USA\",\"USA\",\"USA\",\"USA\",\"USA\",\"USA\",\"USA\",\"USA\",\"USA\",\"USA\",\"USA\",\"USA\",\"USA\",\"USA\",\"USA\",\"USA\",\"USA\",\"USA\",\"USA\",\"USA\",\"USA\",\"USA\",\"USA\",\"USA\",\"USA\",\"USA\",\"USA\",\"USA\",\"USA\",\"USA\",\"USA\",\"USA\",\"USA\",\"USA\",\"USA\",\"USA\",\"USA\",\"USA\",\"USA\",\"USA\",\"USA\",\"USA\",\"USA\",\"USA\",\"USA\",\"USA\",\"USA\",\"USA\",\"USA\",\"USA\",\"USA\",\"USA\",\"USA\",\"USA\",\"USA\",\"USA\",\"USA\",\"USA\",\"USA\",\"USA\",\"USA\",\"USA\",\"USA\",\"USA\",\"USA\",\"USA\",\"USA\",\"USA\",\"USA\",\"USA\",\"USA\",\"USA\",\"USA\",\"USA\",\"USA\",\"USA\",\"USA\",\"USA\",\"USA\",\"USA\",\"USA\",\"USA\",\"USA\",\"USA\",\"USA\",\"USA\",\"USA\",\"USA\",\"USA\",\"USA\",\"USA\",\"USA\",\"USA\",\"USA\",\"USA\",\"USA\",\"USA\",\"USA\",\"USA\",\"USA\",\"USA\",\"USA\",\"USA\",\"USA\",\"USA\",\"USA\",\"USA\",\"USA\",\"USA\",\"USA\",\"USA\",\"USA\",\"USA\",\"USA\",\"USA\",\"USA\",\"USA\",\"USA\",\"USA\",\"USA\",\"USA\",\"USA\",\"USA\",\"USA\",\"USA\",\"USA\",\"USA\",\"USA\",\"USA\",\"USA\",\"USA\",\"USA\",\"USA\",\"USA\",\"USA\",\"USA\",\"USA\",\"USA\",\"USA\",\"USA\",\"USA\",\"USA\",\"USA\",\"USA\",\"USA\",\"USA\",\"USA\",\"USA\",\"USA\",\"USA\",\"USA\",\"USA\",\"USA\",\"USA\",\"USA\",\"USA\",\"USA\",\"USA\",\"USA\",\"USA\",\"USA\",\"USA\",\"USA\",\"USA\",\"USA\",\"USA\",\"USA\",\"USA\",\"USA\",\"USA\",\"USA\",\"USA\",\"USA\",\"USA\",\"USA\",\"USA\",\"USA\",\"USA\",\"USA\",\"USA\",\"India\",\"USA\",\"USA\",\"USA\",\"USA\",\"USA\",\"USA\",\"USA\",\"USA\",\"USA\",\"USA\",\"USA\",\"USA\",\"USA\",\"USA\",\"USA\",\"USA\",\"USA\",\"USA\",\"USA\",\"USA\",\"USA\",\"Brazil\",\"USA\",\"USA\",\"USA\",\"USA\",\"USA\",\"USA\",\"USA\",\"India\",\"USA\",\"Argentina\",\"Belarus\",\"USA\",\"USA\",\"USA\",\"USA\",\"USA\",\"USA\",\"USA\",\"USA\",\"USA\",\"USA\",\"USA\",\"USA\",\"USA\",\"USA\",\"USA\",\"USA\",\"USA\",\"USA\",\"USA\",\"USA\",\"USA\",\"USA\",\"USA\",\"USA\",\"USA\",\"USA\",\"USA\",\"Poland\",\"USA\",\"USA\",\"USA\",\"USA\",\"USA\",\"USA\",\"USA\",\"USA\",\"USA\",\"USA\",\"USA\",\"USA\",\"USA\",\"USA\",\"USA\",\"USA\",\"USA\",\"USA\",\"Japan\",\"USA\",\"USA\",\"USA\",\"USA\",\"USA\",\"USA\",\"USA\",\"USA\",\"USA\",\"USA\",\"USA\",\"USA\",\"USA\",\"USA\",\"USA\",\"USA\",\"USA\",\"USA\",\"USA\",\"USA\",\"USA\",\"USA\",\"USA\",\"USA\",\"USA\",\"USA\",\"USA\",\"USA\",\"USA\",\"USA\",\"USA\",\"Ukraine\",\"Ukraine\",\"Ukraine\",\"Uruguay\"],\"name\":\"\",\"z\":[3.0,5.0,3.0,2.0,1.0,3.0,3.0,3.0,2.0,4.0,4.0,4.0,1.0,2.0,3.0,2.0,3.0,3.0,3.0,1.0,3.0,2.0,3.0,5.0,2.0,2.0,2.0,2.0,4.0,5.0,1.0,3.0,2.0,1.0,3.0,1.0,3.0,4.0,3.0,2.0,2.0,1.0,4.0,1.0,1.0,2.0,3.0,1.0,2.0,4.0,2.0,2.0,2.0,2.0,2.0,2.0,2.0,2.0,3.0,4.0,4.0,2.0,2.0,3.0,3.0,1.0,2.0,4.0,2.0,3.0,3.0,3.0,3.0,2.0,4.0,2.0,1.0,2.0,2.0,1.0,2.0,2.0,2.0,2.0,1.0,3.0,2.0,1.0,3.0,3.0,2.0,4.0,3.0,3.0,2.0,3.0,3.0,3.0,3.0,3.0,3.0,3.0,3.0,3.0,2.0,3.0,2.0,2.0,1.0,1.0,2.0,3.0,1.0,2.0,1.0,3.0,2.0,3.0,3.0,2.0,3.0,3.0,3.0,1.0,1.0,2.0,2.0,2.0,3.0,4.0,4.0,2.0,3.0,2.0,3.0,3.0,1.0,3.0,2.0,4.0,4.0,3.0,2.0,3.0,2.0,3.0,1.0,3.0,4.0,3.0,2.0,2.0,2.0,4.0,1.0,3.0,1.0,3.0,3.0,3.0,2.0,3.0,3.0,3.0,2.0,3.0,3.0,2.0,1.0,3.0,1.0,3.0,3.0,2.0,3.0,2.0,2.0,3.0,1.0,2.0,2.0,3.0,3.0,4.0,4.0,4.0,1.0,3.0,3.0,2.0,2.0,2.0,4.0,1.0,4.0,3.0,1.0,3.0,1.0,3.0,3.0,3.0,2.0,2.0,2.0,3.0,4.0,1.0,3.0,2.0,3.0,5.0,3.0,3.0,3.0,2.0,3.0,3.0,3.0,5.0,1.0,5.0,4.0,2.0,3.0,3.0,3.0,2.0,3.0,3.0,3.0,1.0,2.0,4.0,2.0,3.0,3.0,2.0,1.0,3.0,2.0,3.0,3.0,3.0,5.0,4.0,1.0,3.0,2.0,3.0,3.0,4.0,3.0,4.0,5.0,3.0,3.0,3.0,5.0,1.0,1.0,5.0,1.0,2.0,5.0,3.0,2.0,2.0,3.0,1.0,4.0,3.0,4.0,5.0,2.0,4.0,2.0,5.0,1.0,3.0,2.0,2.0,5.0,1.0,1.0,2.0,2.0,1.0,2.0,4.0,1.0,2.0,3.0,4.0,4.0,3.0,2.0,3.0,1.0,2.0,1.0,3.0,2.0,3.0,4.0,2.0,3.0,3.0,2.0,3.0,4.0,2.0,3.0,3.0,2.0,2.0,2.0,2.0,2.0,3.0,1.0,1.0,4.0,2.0,2.0,3.0,3.0,2.0,2.0,2.0,4.0,2.0,2.0,3.0,2.0,1.0,4.0,2.0,4.0,2.0,1.0,3.0,3.0,2.0,1.0,1.0,2.0,2.0,2.0,2.0,2.0,3.0,1.0,3.0,3.0,4.0,3.0,1.0,4.0,1.0,3.0,2.0,1.0,2.0,3.0,1.0,3.0,3.0,4.0,4.0,2.0,2.0,2.0,3.0,4.0,3.0,3.0,2.0,2.0,3.0,3.0,3.0,1.0,2.0,2.0,4.0,3.0,3.0,2.0,1.0,3.0,2.0,1.0,2.0,5.0,4.0,2.0,1.0,2.0,5.0,4.0,1.0,1.0,4.0,2.0,3.0,2.0,2.0,3.0,2.0,3.0,2.0,2.0,1.0,2.0,1.0,4.0,3.0,3.0,4.0,2.0,2.0,1.0,2.0,3.0,3.0,3.0,3.0,4.0,3.0,1.0,2.0,3.0,2.0,2.0,3.0,2.0,4.0,2.0,3.0,2.0,1.0,3.0,3.0,3.0,1.0,4.0,3.0,3.0,1.0,3.0,3.0,3.0,2.0,4.0,3.0,1.0,3.0,1.0,4.0,3.0,1.0,1.0,2.0,1.0,3.0,3.0,2.0,4.0,2.0,1.0,3.0,4.0,2.0,2.0,2.0,2.0,3.0,3.0,3.0,3.0,4.0,4.0,4.0,2.0,3.0,4.0,2.0,3.0,1.0,2.0,3.0,2.0,2.0,3.0,3.0,1.0,2.0,3.0,4.0,3.0,3.0,4.0,3.0,1.0,1.0,2.0,3.0,2.0,3.0,3.0,4.0,2.0,2.0,3.0,2.0,3.0,2.0,3.0,2.0,2.0,2.0,3.0,1.0,2.0,3.0,3.0,3.0,4.0,3.0,1.0,1.0,3.0,3.0,3.0,3.0,3.0,1.0,4.0,2.0,3.0,2.0,2.0,4.0,3.0,3.0,4.0,1.0,2.0,3.0,2.0,3.0,3.0,3.0,1.0,3.0,2.0,3.0,2.0,2.0,2.0,2.0,2.0,2.0,2.0,5.0,3.0,2.0,2.0,2.0,3.0,2.0,3.0,2.0,2.0,4.0,3.0,3.0,2.0,3.0,1.0,3.0,1.0,3.0,1.0,1.0,3.0,2.0,2.0,1.0,3.0,4.0,2.0,3.0,3.0,2.0,2.0,4.0,3.0,3.0,3.0,2.0,4.0,3.0,2.0,2.0,4.0,2.0,2.0,2.0,4.0,2.0,2.0,3.0,3.0,3.0,2.0,3.0,3.0,2.0,3.0,3.0,1.0,3.0,2.0,3.0,1.0,3.0,3.0,2.0,1.0,2.0,4.0,3.0,3.0,2.0,3.0,2.0,3.0,4.0,2.0,3.0,2.0,3.0,3.0,1.0,3.0,3.0,3.0,3.0,3.0,2.0,3.0,4.0,4.0,3.0,2.0,2.0,3.0,2.0,3.0,2.0,3.0,2.0,3.0,3.0,2.0,1.0,4.0,4.0,3.0,1.0,2.0,3.0,2.0,2.0,1.0,4.0,2.0,3.0,3.0,2.0,1.0,2.0,3.0,3.0,4.0,3.0,1.0,4.0,4.0,5.0,3.0,1.0,2.0,3.0,3.0,2.0,3.0,4.0,2.0,2.0,3.0,3.0,4.0,2.0,2.0,1.0,2.0,1.0,3.0,3.0,4.0,3.0,2.0,3.0,3.0,2.0,2.0,4.0,3.0,3.0,4.0,3.0,3.0,3.0,2.0,4.0,3.0,2.0,4.0,1.0,3.0,3.0,3.0,3.0,3.0,3.0,3.0,1.0,4.0,2.0,3.0,2.0,3.0,2.0,2.0,2.0,4.0,4.0,2.0,4.0,3.0,5.0,2.0,3.0,3.0,2.0,3.0,3.0,1.0,2.0,2.0,4.0,2.0,3.0,4.0,2.0,2.0,2.0,3.0,1.0,2.0,2.0,3.0,3.0,2.0,3.0,1.0,3.0,3.0,2.0,2.0,3.0,2.0,3.0,2.0,2.0,2.0,3.0,1.0,3.0,3.0,3.0,2.0,2.0,2.0,4.0,3.0,1.0,3.0,3.0,1.0,3.0,2.0,3.0,3.0,1.0,2.0,3.0,2.0,3.0,2.0,3.0,3.0,4.0,3.0,3.0,4.0,4.0,3.0,4.0,3.0,2.0,3.0,3.0,3.0,3.0,4.0,4.0,1.0,2.0,4.0,4.0,4.0,2.0,1.0,1.0,2.0,2.0,1.0,3.0,2.0,3.0,1.0,2.0,3.0,3.0,3.0,3.0,3.0,2.0,3.0,3.0,1.0,2.0,3.0,3.0,2.0,2.0,1.0,1.0,3.0,4.0,2.0,2.0,1.0,3.0,2.0,2.0,2.0,3.0,2.0,3.0,1.0,3.0,1.0,2.0,2.0,1.0,1.0,3.0,3.0,4.0,3.0,2.0,1.0,3.0,1.0,2.0,2.0,2.0,2.0,4.0,2.0,3.0,2.0,3.0,3.0,2.0,3.0,1.0,2.0,3.0,1.0,2.0,4.0,5.0,2.0,1.0,4.0,2.0,3.0,2.0,3.0,3.0,2.0,2.0,3.0,3.0,1.0,3.0,1.0,1.0,3.0,3.0,3.0,2.0,3.0,4.0,3.0,3.0,1.0,3.0,3.0,3.0,3.0,3.0,3.0,4.0,2.0,1.0,3.0,3.0,3.0,4.0,2.0,2.0,3.0,2.0,1.0,1.0,3.0,3.0,1.0,2.0,1.0,1.0,4.0,1.0,2.0,3.0,3.0,1.0,2.0,2.0,4.0,2.0,4.0,3.0,3.0,3.0,4.0,4.0,3.0,1.0,3.0,2.0,4.0,1.0,3.0,2.0,3.0,3.0,2.0,3.0,1.0,2.0,1.0,2.0,1.0,3.0,3.0,1.0,3.0,3.0,2.0,3.0,1.0,2.0,2.0,3.0,3.0,2.0,4.0,3.0,3.0,3.0,2.0,3.0,2.0,1.0,2.0,2.0,2.0,3.0,4.0,4.0,2.0,2.0,2.0,2.0,3.0,3.0,2.0,3.0,3.0,2.0,4.0,1.0,3.0,2.0,3.0,2.0,1.0,1.0,3.0,2.0,1.0,3.0,4.0,2.0,3.0,4.0,4.0,1.0,2.0,1.0,1.0,1.0,3.0,1.0,1.0,3.0,3.0,3.0,3.0,3.0,1.0,4.0,3.0,3.0,2.0,3.0,3.0,3.0,3.0,3.0,3.0,2.0,4.0,2.0,3.0,5.0,5.0,1.0,2.0,2.0,3.0,1.0,3.0,3.0,3.0,3.0,3.0,2.0,2.0,2.0,3.0,3.0,2.0,2.0,1.0,3.0,3.0,2.0,3.0,1.0,4.0,2.0,3.0,2.0,4.0,2.0,4.0,2.0,3.0,3.0,2.0,4.0,3.0,4.0,3.0,4.0,2.0,2.0,2.0,4.0,2.0,2.0,3.0,1.0,2.0,2.0,1.0,2.0,2.0,1.0,3.0,1.0,2.0,3.0,3.0,3.0,3.0,1.0,5.0,3.0,4.0,2.0,1.0,2.0,2.0,4.0,2.0,4.0,1.0,3.0,2.0,2.0,3.0,3.0,4.0,2.0,5.0,3.0,3.0,2.0,3.0,1.0,2.0,1.0,2.0,1.0,2.0,3.0,3.0,3.0,2.0,2.0,3.0,1.0,2.0,2.0,3.0,3.0,1.0,2.0,3.0,1.0,1.0,3.0,2.0,2.0,3.0,3.0,2.0,3.0,3.0,3.0,3.0,3.0,3.0,4.0,3.0,1.0,3.0,2.0,2.0,2.0,3.0,4.0,4.0,3.0,3.0,4.0,4.0,3.0,3.0,3.0,2.0,2.0,4.0,3.0,2.0,3.0,2.0,2.0,3.0,2.0,2.0,3.0,3.0,4.0,3.0,2.0,2.0,2.0,2.0,3.0,3.0,3.0,4.0,4.0,1.0,2.0,2.0,2.0,2.0,2.0,2.0,3.0,3.0,4.0,2.0,1.0,4.0,3.0,2.0,3.0,3.0,2.0,3.0,1.0,4.0,4.0,3.0,3.0,2.0,2.0,3.0,1.0,3.0,4.0,3.0,2.0,3.0,5.0,3.0,3.0,3.0,3.0,1.0,2.0,3.0,2.0,2.0,3.0,2.0,1.0,2.0,2.0,3.0,2.0,2.0,4.0,5.0,2.0,3.0,3.0,3.0,3.0,3.0,2.0,3.0,3.0,4.0,2.0,2.0,2.0,3.0,3.0,3.0,2.0,3.0,3.0,3.0,2.0,3.0,3.0,3.0,3.0,4.0,3.0,4.0,1.0,4.0,3.0,4.0,3.0,3.0,4.0,3.0,3.0,2.0,2.0,3.0,3.0,2.0,4.0,4.0,2.0,3.0,3.0,1.0,1.0,2.0,3.0,3.0,3.0,3.0,4.0,3.0,2.0,2.0,2.0,2.0,2.0,3.0,3.0,3.0,1.0,2.0,3.0,3.0,3.0,2.0,4.0,1.0,2.0,4.0,4.0,2.0,3.0,1.0,3.0,4.0,4.0,4.0,4.0,3.0,2.0,3.0,3.0,3.0,4.0,3.0,2.0,2.0,3.0,3.0,3.0,3.0,2.0,3.0,3.0,3.0,3.0,2.0,3.0,2.0,1.0,3.0,3.0,4.0,1.0,3.0,3.0,2.0,2.0,2.0,2.0,3.0,4.0,3.0,4.0,4.0,3.0,4.0,3.0,2.0,3.0,2.0,3.0,4.0,2.0,2.0,3.0,2.0,1.0,1.0,3.0,2.0,4.0,2.0,2.0,4.0,3.0,1.0,4.0,1.0,3.0,3.0,4.0,2.0,3.0,3.0,4.0,4.0,2.0,1.0,2.0,3.0,1.0,2.0,2.0,4.0,2.0,2.0,3.0,4.0,3.0,2.0,2.0,4.0,3.0,3.0,1.0,1.0,2.0,4.0,1.0,3.0,2.0,3.0,4.0,2.0,4.0,3.0,2.0,1.0,4.0,3.0,2.0,3.0,4.0,3.0,3.0,3.0,2.0,1.0,3.0,4.0,2.0,4.0,4.0,1.0,3.0,4.0,2.0,3.0,4.0,4.0,2.0,2.0,2.0,1.0,2.0,3.0,3.0,3.0,4.0,3.0,3.0,4.0,1.0,3.0,2.0,3.0,3.0,4.0,3.0,3.0,3.0,2.0,3.0,2.0,2.0,4.0,2.0,3.0,2.0,3.0,3.0,2.0,4.0,3.0,1.0,3.0,2.0,3.0,4.0,3.0,2.0,3.0,3.0,4.0,3.0,3.0,3.0,4.0,4.0,3.0,3.0,3.0,3.0,3.0,4.0,3.0,5.0,4.0,2.0,2.0,3.0,3.0,3.0,2.0,2.0,1.0,2.0,3.0,2.0,2.0,1.0,2.0,2.0,3.0,3.0,1.0,1.0,2.0,4.0,1.0,1.0,3.0,2.0,2.0,3.0,3.0,2.0,2.0,4.0,3.0,1.0,3.0,2.0,2.0,1.0,3.0,1.0,2.0,3.0,2.0,3.0,3.0,3.0,2.0,3.0,2.0,2.0,3.0,3.0,2.0,2.0,1.0,2.0,1.0,2.0,3.0,2.0,3.0,2.0,2.0,2.0,3.0,2.0,3.0,3.0,2.0,4.0,5.0,2.0,3.0,3.0,3.0,2.0,3.0,3.0,2.0,2.0,2.0,1.0,1.0,3.0,4.0,3.0,4.0,2.0,2.0,2.0,2.0,3.0,3.0,2.0,3.0,3.0,3.0,5.0,3.0,3.0,2.0,3.0,2.0,1.0,2.0,3.0,2.0,1.0,3.0,1.0,3.0,2.0,3.0,2.0],\"type\":\"choropleth\"}],                        {\"template\":{\"data\":{\"barpolar\":[{\"marker\":{\"line\":{\"color\":\"rgb(237,237,237)\",\"width\":0.5},\"pattern\":{\"fillmode\":\"overlay\",\"size\":10,\"solidity\":0.2}},\"type\":\"barpolar\"}],\"bar\":[{\"error_x\":{\"color\":\"rgb(51,51,51)\"},\"error_y\":{\"color\":\"rgb(51,51,51)\"},\"marker\":{\"line\":{\"color\":\"rgb(237,237,237)\",\"width\":0.5},\"pattern\":{\"fillmode\":\"overlay\",\"size\":10,\"solidity\":0.2}},\"type\":\"bar\"}],\"carpet\":[{\"aaxis\":{\"endlinecolor\":\"rgb(51,51,51)\",\"gridcolor\":\"white\",\"linecolor\":\"white\",\"minorgridcolor\":\"white\",\"startlinecolor\":\"rgb(51,51,51)\"},\"baxis\":{\"endlinecolor\":\"rgb(51,51,51)\",\"gridcolor\":\"white\",\"linecolor\":\"white\",\"minorgridcolor\":\"white\",\"startlinecolor\":\"rgb(51,51,51)\"},\"type\":\"carpet\"}],\"choropleth\":[{\"colorbar\":{\"outlinewidth\":0,\"tickcolor\":\"rgb(237,237,237)\",\"ticklen\":6,\"ticks\":\"inside\"},\"type\":\"choropleth\"}],\"contourcarpet\":[{\"colorbar\":{\"outlinewidth\":0,\"tickcolor\":\"rgb(237,237,237)\",\"ticklen\":6,\"ticks\":\"inside\"},\"type\":\"contourcarpet\"}],\"contour\":[{\"colorbar\":{\"outlinewidth\":0,\"tickcolor\":\"rgb(237,237,237)\",\"ticklen\":6,\"ticks\":\"inside\"},\"colorscale\":[[0,\"rgb(20,44,66)\"],[1,\"rgb(90,179,244)\"]],\"type\":\"contour\"}],\"heatmapgl\":[{\"colorbar\":{\"outlinewidth\":0,\"tickcolor\":\"rgb(237,237,237)\",\"ticklen\":6,\"ticks\":\"inside\"},\"colorscale\":[[0,\"rgb(20,44,66)\"],[1,\"rgb(90,179,244)\"]],\"type\":\"heatmapgl\"}],\"heatmap\":[{\"colorbar\":{\"outlinewidth\":0,\"tickcolor\":\"rgb(237,237,237)\",\"ticklen\":6,\"ticks\":\"inside\"},\"colorscale\":[[0,\"rgb(20,44,66)\"],[1,\"rgb(90,179,244)\"]],\"type\":\"heatmap\"}],\"histogram2dcontour\":[{\"colorbar\":{\"outlinewidth\":0,\"tickcolor\":\"rgb(237,237,237)\",\"ticklen\":6,\"ticks\":\"inside\"},\"colorscale\":[[0,\"rgb(20,44,66)\"],[1,\"rgb(90,179,244)\"]],\"type\":\"histogram2dcontour\"}],\"histogram2d\":[{\"colorbar\":{\"outlinewidth\":0,\"tickcolor\":\"rgb(237,237,237)\",\"ticklen\":6,\"ticks\":\"inside\"},\"colorscale\":[[0,\"rgb(20,44,66)\"],[1,\"rgb(90,179,244)\"]],\"type\":\"histogram2d\"}],\"histogram\":[{\"marker\":{\"pattern\":{\"fillmode\":\"overlay\",\"size\":10,\"solidity\":0.2}},\"type\":\"histogram\"}],\"mesh3d\":[{\"colorbar\":{\"outlinewidth\":0,\"tickcolor\":\"rgb(237,237,237)\",\"ticklen\":6,\"ticks\":\"inside\"},\"type\":\"mesh3d\"}],\"parcoords\":[{\"line\":{\"colorbar\":{\"outlinewidth\":0,\"tickcolor\":\"rgb(237,237,237)\",\"ticklen\":6,\"ticks\":\"inside\"}},\"type\":\"parcoords\"}],\"pie\":[{\"automargin\":true,\"type\":\"pie\"}],\"scatter3d\":[{\"line\":{\"colorbar\":{\"outlinewidth\":0,\"tickcolor\":\"rgb(237,237,237)\",\"ticklen\":6,\"ticks\":\"inside\"}},\"marker\":{\"colorbar\":{\"outlinewidth\":0,\"tickcolor\":\"rgb(237,237,237)\",\"ticklen\":6,\"ticks\":\"inside\"}},\"type\":\"scatter3d\"}],\"scattercarpet\":[{\"marker\":{\"colorbar\":{\"outlinewidth\":0,\"tickcolor\":\"rgb(237,237,237)\",\"ticklen\":6,\"ticks\":\"inside\"}},\"type\":\"scattercarpet\"}],\"scattergeo\":[{\"marker\":{\"colorbar\":{\"outlinewidth\":0,\"tickcolor\":\"rgb(237,237,237)\",\"ticklen\":6,\"ticks\":\"inside\"}},\"type\":\"scattergeo\"}],\"scattergl\":[{\"marker\":{\"colorbar\":{\"outlinewidth\":0,\"tickcolor\":\"rgb(237,237,237)\",\"ticklen\":6,\"ticks\":\"inside\"}},\"type\":\"scattergl\"}],\"scattermapbox\":[{\"marker\":{\"colorbar\":{\"outlinewidth\":0,\"tickcolor\":\"rgb(237,237,237)\",\"ticklen\":6,\"ticks\":\"inside\"}},\"type\":\"scattermapbox\"}],\"scatterpolargl\":[{\"marker\":{\"colorbar\":{\"outlinewidth\":0,\"tickcolor\":\"rgb(237,237,237)\",\"ticklen\":6,\"ticks\":\"inside\"}},\"type\":\"scatterpolargl\"}],\"scatterpolar\":[{\"marker\":{\"colorbar\":{\"outlinewidth\":0,\"tickcolor\":\"rgb(237,237,237)\",\"ticklen\":6,\"ticks\":\"inside\"}},\"type\":\"scatterpolar\"}],\"scatter\":[{\"fillpattern\":{\"fillmode\":\"overlay\",\"size\":10,\"solidity\":0.2},\"type\":\"scatter\"}],\"scatterternary\":[{\"marker\":{\"colorbar\":{\"outlinewidth\":0,\"tickcolor\":\"rgb(237,237,237)\",\"ticklen\":6,\"ticks\":\"inside\"}},\"type\":\"scatterternary\"}],\"surface\":[{\"colorbar\":{\"outlinewidth\":0,\"tickcolor\":\"rgb(237,237,237)\",\"ticklen\":6,\"ticks\":\"inside\"},\"colorscale\":[[0,\"rgb(20,44,66)\"],[1,\"rgb(90,179,244)\"]],\"type\":\"surface\"}],\"table\":[{\"cells\":{\"fill\":{\"color\":\"rgb(237,237,237)\"},\"line\":{\"color\":\"white\"}},\"header\":{\"fill\":{\"color\":\"rgb(217,217,217)\"},\"line\":{\"color\":\"white\"}},\"type\":\"table\"}]},\"layout\":{\"annotationdefaults\":{\"arrowhead\":0,\"arrowwidth\":1},\"autotypenumbers\":\"strict\",\"coloraxis\":{\"colorbar\":{\"outlinewidth\":0,\"tickcolor\":\"rgb(237,237,237)\",\"ticklen\":6,\"ticks\":\"inside\"}},\"colorscale\":{\"sequential\":[[0,\"rgb(20,44,66)\"],[1,\"rgb(90,179,244)\"]],\"sequentialminus\":[[0,\"rgb(20,44,66)\"],[1,\"rgb(90,179,244)\"]]},\"colorway\":[\"#F8766D\",\"#A3A500\",\"#00BF7D\",\"#00B0F6\",\"#E76BF3\"],\"font\":{\"color\":\"rgb(51,51,51)\"},\"geo\":{\"bgcolor\":\"white\",\"lakecolor\":\"white\",\"landcolor\":\"rgb(237,237,237)\",\"showlakes\":true,\"showland\":true,\"subunitcolor\":\"white\"},\"hoverlabel\":{\"align\":\"left\"},\"hovermode\":\"closest\",\"paper_bgcolor\":\"white\",\"plot_bgcolor\":\"rgb(237,237,237)\",\"polar\":{\"angularaxis\":{\"gridcolor\":\"white\",\"linecolor\":\"white\",\"showgrid\":true,\"tickcolor\":\"rgb(51,51,51)\",\"ticks\":\"outside\"},\"bgcolor\":\"rgb(237,237,237)\",\"radialaxis\":{\"gridcolor\":\"white\",\"linecolor\":\"white\",\"showgrid\":true,\"tickcolor\":\"rgb(51,51,51)\",\"ticks\":\"outside\"}},\"scene\":{\"xaxis\":{\"backgroundcolor\":\"rgb(237,237,237)\",\"gridcolor\":\"white\",\"gridwidth\":2,\"linecolor\":\"white\",\"showbackground\":true,\"showgrid\":true,\"tickcolor\":\"rgb(51,51,51)\",\"ticks\":\"outside\",\"zerolinecolor\":\"white\"},\"yaxis\":{\"backgroundcolor\":\"rgb(237,237,237)\",\"gridcolor\":\"white\",\"gridwidth\":2,\"linecolor\":\"white\",\"showbackground\":true,\"showgrid\":true,\"tickcolor\":\"rgb(51,51,51)\",\"ticks\":\"outside\",\"zerolinecolor\":\"white\"},\"zaxis\":{\"backgroundcolor\":\"rgb(237,237,237)\",\"gridcolor\":\"white\",\"gridwidth\":2,\"linecolor\":\"white\",\"showbackground\":true,\"showgrid\":true,\"tickcolor\":\"rgb(51,51,51)\",\"ticks\":\"outside\",\"zerolinecolor\":\"white\"}},\"shapedefaults\":{\"fillcolor\":\"black\",\"line\":{\"width\":0},\"opacity\":0.3},\"ternary\":{\"aaxis\":{\"gridcolor\":\"white\",\"linecolor\":\"white\",\"showgrid\":true,\"tickcolor\":\"rgb(51,51,51)\",\"ticks\":\"outside\"},\"baxis\":{\"gridcolor\":\"white\",\"linecolor\":\"white\",\"showgrid\":true,\"tickcolor\":\"rgb(51,51,51)\",\"ticks\":\"outside\"},\"bgcolor\":\"rgb(237,237,237)\",\"caxis\":{\"gridcolor\":\"white\",\"linecolor\":\"white\",\"showgrid\":true,\"tickcolor\":\"rgb(51,51,51)\",\"ticks\":\"outside\"}},\"xaxis\":{\"automargin\":true,\"gridcolor\":\"white\",\"linecolor\":\"white\",\"showgrid\":true,\"tickcolor\":\"rgb(51,51,51)\",\"ticks\":\"outside\",\"title\":{\"standoff\":15},\"zerolinecolor\":\"white\"},\"yaxis\":{\"automargin\":true,\"gridcolor\":\"white\",\"linecolor\":\"white\",\"showgrid\":true,\"tickcolor\":\"rgb(51,51,51)\",\"ticks\":\"outside\",\"title\":{\"standoff\":15},\"zerolinecolor\":\"white\"}}},\"geo\":{\"domain\":{\"x\":[0.0,1.0],\"y\":[0.0,1.0]},\"center\":{},\"scope\":\"world\"},\"coloraxis\":{\"colorbar\":{\"title\":{\"text\":\"Rate : \"},\"ticks\":\"outside\",\"orientation\":\"v\",\"yanchor\":\"bottom\",\"y\":0.18,\"xanchor\":\"left\",\"x\":0,\"len\":0.37,\"thickness\":15},\"colorscale\":[[0.0,\"rgb(20,44,66)\"],[1.0,\"rgb(90,179,244)\"]]},\"legend\":{\"tracegroupgap\":0},\"margin\":{\"t\":0,\"b\":0,\"l\":0,\"r\":0},\"height\":400},                        {\"responsive\": true}                    ).then(function(){\n",
       "                            \n",
       "var gd = document.getElementById('2e627aa0-7500-4f03-b20d-7d94d40ab98d');\n",
       "var x = new MutationObserver(function (mutations, observer) {{\n",
       "        var display = window.getComputedStyle(gd).display;\n",
       "        if (!display || display === 'none') {{\n",
       "            console.log([gd, 'removed!']);\n",
       "            Plotly.purge(gd);\n",
       "            observer.disconnect();\n",
       "        }}\n",
       "}});\n",
       "\n",
       "// Listen for the removal of the full notebook cells\n",
       "var notebookContainer = gd.closest('#notebook-container');\n",
       "if (notebookContainer) {{\n",
       "    x.observe(notebookContainer, {childList: true});\n",
       "}}\n",
       "\n",
       "// Listen for the clearing of the current output cell\n",
       "var outputEl = gd.closest('.output');\n",
       "if (outputEl) {{\n",
       "    x.observe(outputEl, {childList: true});\n",
       "}}\n",
       "\n",
       "                        })                };                });            </script>        </div>"
      ]
     },
     "metadata": {},
     "output_type": "display_data"
    }
   ],
   "source": [
    "# make the oservations among the whole world \n",
    "df2 = df.copy()\n",
    "df2[['country_work_in', 'ph_employer_rate', 'mh_employer_rate']].dropna()\n",
    "df2.sort_values(['country_work_in','mh_resources_provided'],inplace=True)\n",
    "def draw_observation_map_among_world():\n",
    "  observation_map_among_world=px.choropleth(data_frame=df2,locations='country_live_in',locationmode='country names',\n",
    "                    color='rate_tech_industry_support',\n",
    "                    hover_name='country_work_in',\n",
    "                    hover_data=['country_work_in', 'mh_employer_rate', 'ph_employer_rate'],\n",
    "                    scope='world',\n",
    "                    template = 'ggplot2', \n",
    "                  )\n",
    "\n",
    "  observation_map_among_world.update_layout(\n",
    "                  coloraxis_colorbar = dict(ticks='outside', title = 'Rate : ', orientation='v', yanchor=\"bottom\", y= 0.18, xanchor=\"left\", x = 0 , len = 0.37, thickness = 15 ),\n",
    "                  margin=dict(b = 0, t = 0, l = 0, r = 0),\n",
    "                  height = 400,\n",
    "                  )\n",
    "                \n",
    "  return observation_map_among_world\n",
    "\n",
    "draw_observation_map_among_world()"
   ]
  },
  {
   "cell_type": "markdown",
   "metadata": {
    "id": "g49lDDcjKpEE"
   },
   "source": [
    "### What you think the industry as a whole and/or employers could do to improve mental health support for employees?"
   ]
  },
  {
   "cell_type": "code",
   "execution_count": 26,
   "metadata": {
    "executionInfo": {
     "elapsed": 60,
     "status": "aborted",
     "timestamp": 1654337002853,
     "user": {
      "displayName": "habiba mohamed",
      "userId": "01346726008568088997"
     },
     "user_tz": -120
    },
    "id": "jSE0X-woKpEE"
   },
   "outputs": [
    {
     "data": {
      "text/html": [
       "<div>                            <div id=\"22e693c0-8355-4173-9c2a-549588611769\" class=\"plotly-graph-div\" style=\"height:400px; width:100%;\"></div>            <script type=\"text/javascript\">                require([\"plotly\"], function(Plotly) {                    window.PLOTLYENV=window.PLOTLYENV || {};                                    if (document.getElementById(\"22e693c0-8355-4173-9c2a-549588611769\")) {                    Plotly.newPlot(                        \"22e693c0-8355-4173-9c2a-549588611769\",                        [{\"name\":\"0\",\"source\":\"data:image/png;base64,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\",\"type\":\"image\",\"xaxis\":\"x\",\"yaxis\":\"y\",\"hovertemplate\":\"x: %{x}<br>y: %{y}<br>color: [%{z[0]}, %{z[1]}, %{z[2]}]<extra></extra>\"}],                        {\"template\":{\"data\":{\"histogram2dcontour\":[{\"type\":\"histogram2dcontour\",\"colorbar\":{\"outlinewidth\":0,\"ticks\":\"\"},\"colorscale\":[[0.0,\"#0d0887\"],[0.1111111111111111,\"#46039f\"],[0.2222222222222222,\"#7201a8\"],[0.3333333333333333,\"#9c179e\"],[0.4444444444444444,\"#bd3786\"],[0.5555555555555556,\"#d8576b\"],[0.6666666666666666,\"#ed7953\"],[0.7777777777777778,\"#fb9f3a\"],[0.8888888888888888,\"#fdca26\"],[1.0,\"#f0f921\"]]}],\"choropleth\":[{\"type\":\"choropleth\",\"colorbar\":{\"outlinewidth\":0,\"ticks\":\"\"}}],\"histogram2d\":[{\"type\":\"histogram2d\",\"colorbar\":{\"outlinewidth\":0,\"ticks\":\"\"},\"colorscale\":[[0.0,\"#0d0887\"],[0.1111111111111111,\"#46039f\"],[0.2222222222222222,\"#7201a8\"],[0.3333333333333333,\"#9c179e\"],[0.4444444444444444,\"#bd3786\"],[0.5555555555555556,\"#d8576b\"],[0.6666666666666666,\"#ed7953\"],[0.7777777777777778,\"#fb9f3a\"],[0.8888888888888888,\"#fdca26\"],[1.0,\"#f0f921\"]]}],\"heatmap\":[{\"type\":\"heatmap\",\"colorbar\":{\"outlinewidth\":0,\"ticks\":\"\"},\"colorscale\":[[0.0,\"#0d0887\"],[0.1111111111111111,\"#46039f\"],[0.2222222222222222,\"#7201a8\"],[0.3333333333333333,\"#9c179e\"],[0.4444444444444444,\"#bd3786\"],[0.5555555555555556,\"#d8576b\"],[0.6666666666666666,\"#ed7953\"],[0.7777777777777778,\"#fb9f3a\"],[0.8888888888888888,\"#fdca26\"],[1.0,\"#f0f921\"]]}],\"heatmapgl\":[{\"type\":\"heatmapgl\",\"colorbar\":{\"outlinewidth\":0,\"ticks\":\"\"},\"colorscale\":[[0.0,\"#0d0887\"],[0.1111111111111111,\"#46039f\"],[0.2222222222222222,\"#7201a8\"],[0.3333333333333333,\"#9c179e\"],[0.4444444444444444,\"#bd3786\"],[0.5555555555555556,\"#d8576b\"],[0.6666666666666666,\"#ed7953\"],[0.7777777777777778,\"#fb9f3a\"],[0.8888888888888888,\"#fdca26\"],[1.0,\"#f0f921\"]]}],\"contourcarpet\":[{\"type\":\"contourcarpet\",\"colorbar\":{\"outlinewidth\":0,\"ticks\":\"\"}}],\"contour\":[{\"type\":\"contour\",\"colorbar\":{\"outlinewidth\":0,\"ticks\":\"\"},\"colorscale\":[[0.0,\"#0d0887\"],[0.1111111111111111,\"#46039f\"],[0.2222222222222222,\"#7201a8\"],[0.3333333333333333,\"#9c179e\"],[0.4444444444444444,\"#bd3786\"],[0.5555555555555556,\"#d8576b\"],[0.6666666666666666,\"#ed7953\"],[0.7777777777777778,\"#fb9f3a\"],[0.8888888888888888,\"#fdca26\"],[1.0,\"#f0f921\"]]}],\"surface\":[{\"type\":\"surface\",\"colorbar\":{\"outlinewidth\":0,\"ticks\":\"\"},\"colorscale\":[[0.0,\"#0d0887\"],[0.1111111111111111,\"#46039f\"],[0.2222222222222222,\"#7201a8\"],[0.3333333333333333,\"#9c179e\"],[0.4444444444444444,\"#bd3786\"],[0.5555555555555556,\"#d8576b\"],[0.6666666666666666,\"#ed7953\"],[0.7777777777777778,\"#fb9f3a\"],[0.8888888888888888,\"#fdca26\"],[1.0,\"#f0f921\"]]}],\"mesh3d\":[{\"type\":\"mesh3d\",\"colorbar\":{\"outlinewidth\":0,\"ticks\":\"\"}}],\"scatter\":[{\"fillpattern\":{\"fillmode\":\"overlay\",\"size\":10,\"solidity\":0.2},\"type\":\"scatter\"}],\"parcoords\":[{\"type\":\"parcoords\",\"line\":{\"colorbar\":{\"outlinewidth\":0,\"ticks\":\"\"}}}],\"scatterpolargl\":[{\"type\":\"scatterpolargl\",\"marker\":{\"colorbar\":{\"outlinewidth\":0,\"ticks\":\"\"}}}],\"bar\":[{\"error_x\":{\"color\":\"#2a3f5f\"},\"error_y\":{\"color\":\"#2a3f5f\"},\"marker\":{\"line\":{\"color\":\"#E5ECF6\",\"width\":0.5},\"pattern\":{\"fillmode\":\"overlay\",\"size\":10,\"solidity\":0.2}},\"type\":\"bar\"}],\"scattergeo\":[{\"type\":\"scattergeo\",\"marker\":{\"colorbar\":{\"outlinewidth\":0,\"ticks\":\"\"}}}],\"scatterpolar\":[{\"type\":\"scatterpolar\",\"marker\":{\"colorbar\":{\"outlinewidth\":0,\"ticks\":\"\"}}}],\"histogram\":[{\"marker\":{\"pattern\":{\"fillmode\":\"overlay\",\"size\":10,\"solidity\":0.2}},\"type\":\"histogram\"}],\"scattergl\":[{\"type\":\"scattergl\",\"marker\":{\"colorbar\":{\"outlinewidth\":0,\"ticks\":\"\"}}}],\"scatter3d\":[{\"type\":\"scatter3d\",\"line\":{\"colorbar\":{\"outlinewidth\":0,\"ticks\":\"\"}},\"marker\":{\"colorbar\":{\"outlinewidth\":0,\"ticks\":\"\"}}}],\"scattermapbox\":[{\"type\":\"scattermapbox\",\"marker\":{\"colorbar\":{\"outlinewidth\":0,\"ticks\":\"\"}}}],\"scatterternary\":[{\"type\":\"scatterternary\",\"marker\":{\"colorbar\":{\"outlinewidth\":0,\"ticks\":\"\"}}}],\"scattercarpet\":[{\"type\":\"scattercarpet\",\"marker\":{\"colorbar\":{\"outlinewidth\":0,\"ticks\":\"\"}}}],\"carpet\":[{\"aaxis\":{\"endlinecolor\":\"#2a3f5f\",\"gridcolor\":\"white\",\"linecolor\":\"white\",\"minorgridcolor\":\"white\",\"startlinecolor\":\"#2a3f5f\"},\"baxis\":{\"endlinecolor\":\"#2a3f5f\",\"gridcolor\":\"white\",\"linecolor\":\"white\",\"minorgridcolor\":\"white\",\"startlinecolor\":\"#2a3f5f\"},\"type\":\"carpet\"}],\"table\":[{\"cells\":{\"fill\":{\"color\":\"#EBF0F8\"},\"line\":{\"color\":\"white\"}},\"header\":{\"fill\":{\"color\":\"#C8D4E3\"},\"line\":{\"color\":\"white\"}},\"type\":\"table\"}],\"barpolar\":[{\"marker\":{\"line\":{\"color\":\"#E5ECF6\",\"width\":0.5},\"pattern\":{\"fillmode\":\"overlay\",\"size\":10,\"solidity\":0.2}},\"type\":\"barpolar\"}],\"pie\":[{\"automargin\":true,\"type\":\"pie\"}]},\"layout\":{\"autotypenumbers\":\"strict\",\"colorway\":[\"#636efa\",\"#EF553B\",\"#00cc96\",\"#ab63fa\",\"#FFA15A\",\"#19d3f3\",\"#FF6692\",\"#B6E880\",\"#FF97FF\",\"#FECB52\"],\"font\":{\"color\":\"#2a3f5f\"},\"hovermode\":\"closest\",\"hoverlabel\":{\"align\":\"left\"},\"paper_bgcolor\":\"white\",\"plot_bgcolor\":\"#E5ECF6\",\"polar\":{\"bgcolor\":\"#E5ECF6\",\"angularaxis\":{\"gridcolor\":\"white\",\"linecolor\":\"white\",\"ticks\":\"\"},\"radialaxis\":{\"gridcolor\":\"white\",\"linecolor\":\"white\",\"ticks\":\"\"}},\"ternary\":{\"bgcolor\":\"#E5ECF6\",\"aaxis\":{\"gridcolor\":\"white\",\"linecolor\":\"white\",\"ticks\":\"\"},\"baxis\":{\"gridcolor\":\"white\",\"linecolor\":\"white\",\"ticks\":\"\"},\"caxis\":{\"gridcolor\":\"white\",\"linecolor\":\"white\",\"ticks\":\"\"}},\"coloraxis\":{\"colorbar\":{\"outlinewidth\":0,\"ticks\":\"\"}},\"colorscale\":{\"sequential\":[[0.0,\"#0d0887\"],[0.1111111111111111,\"#46039f\"],[0.2222222222222222,\"#7201a8\"],[0.3333333333333333,\"#9c179e\"],[0.4444444444444444,\"#bd3786\"],[0.5555555555555556,\"#d8576b\"],[0.6666666666666666,\"#ed7953\"],[0.7777777777777778,\"#fb9f3a\"],[0.8888888888888888,\"#fdca26\"],[1.0,\"#f0f921\"]],\"sequentialminus\":[[0.0,\"#0d0887\"],[0.1111111111111111,\"#46039f\"],[0.2222222222222222,\"#7201a8\"],[0.3333333333333333,\"#9c179e\"],[0.4444444444444444,\"#bd3786\"],[0.5555555555555556,\"#d8576b\"],[0.6666666666666666,\"#ed7953\"],[0.7777777777777778,\"#fb9f3a\"],[0.8888888888888888,\"#fdca26\"],[1.0,\"#f0f921\"]],\"diverging\":[[0,\"#8e0152\"],[0.1,\"#c51b7d\"],[0.2,\"#de77ae\"],[0.3,\"#f1b6da\"],[0.4,\"#fde0ef\"],[0.5,\"#f7f7f7\"],[0.6,\"#e6f5d0\"],[0.7,\"#b8e186\"],[0.8,\"#7fbc41\"],[0.9,\"#4d9221\"],[1,\"#276419\"]]},\"xaxis\":{\"gridcolor\":\"white\",\"linecolor\":\"white\",\"ticks\":\"\",\"title\":{\"standoff\":15},\"zerolinecolor\":\"white\",\"automargin\":true,\"zerolinewidth\":2},\"yaxis\":{\"gridcolor\":\"white\",\"linecolor\":\"white\",\"ticks\":\"\",\"title\":{\"standoff\":15},\"zerolinecolor\":\"white\",\"automargin\":true,\"zerolinewidth\":2},\"scene\":{\"xaxis\":{\"backgroundcolor\":\"#E5ECF6\",\"gridcolor\":\"white\",\"linecolor\":\"white\",\"showbackground\":true,\"ticks\":\"\",\"zerolinecolor\":\"white\",\"gridwidth\":2},\"yaxis\":{\"backgroundcolor\":\"#E5ECF6\",\"gridcolor\":\"white\",\"linecolor\":\"white\",\"showbackground\":true,\"ticks\":\"\",\"zerolinecolor\":\"white\",\"gridwidth\":2},\"zaxis\":{\"backgroundcolor\":\"#E5ECF6\",\"gridcolor\":\"white\",\"linecolor\":\"white\",\"showbackground\":true,\"ticks\":\"\",\"zerolinecolor\":\"white\",\"gridwidth\":2}},\"shapedefaults\":{\"line\":{\"color\":\"#2a3f5f\"}},\"annotationdefaults\":{\"arrowcolor\":\"#2a3f5f\",\"arrowhead\":0,\"arrowwidth\":1},\"geo\":{\"bgcolor\":\"white\",\"landcolor\":\"#E5ECF6\",\"subunitcolor\":\"white\",\"showland\":true,\"showlakes\":true,\"lakecolor\":\"white\"},\"title\":{\"x\":0.05},\"mapbox\":{\"style\":\"light\"}}},\"xaxis\":{\"anchor\":\"y\",\"domain\":[0.0,1.0],\"visible\":false},\"yaxis\":{\"anchor\":\"x\",\"domain\":[0.0,1.0],\"visible\":false},\"margin\":{\"t\":0,\"l\":0,\"r\":0,\"b\":0},\"height\":400},                        {\"responsive\": true}                    ).then(function(){\n",
       "                            \n",
       "var gd = document.getElementById('22e693c0-8355-4173-9c2a-549588611769');\n",
       "var x = new MutationObserver(function (mutations, observer) {{\n",
       "        var display = window.getComputedStyle(gd).display;\n",
       "        if (!display || display === 'none') {{\n",
       "            console.log([gd, 'removed!']);\n",
       "            Plotly.purge(gd);\n",
       "            observer.disconnect();\n",
       "        }}\n",
       "}});\n",
       "\n",
       "// Listen for the removal of the full notebook cells\n",
       "var notebookContainer = gd.closest('#notebook-container');\n",
       "if (notebookContainer) {{\n",
       "    x.observe(notebookContainer, {childList: true});\n",
       "}}\n",
       "\n",
       "// Listen for the clearing of the current output cell\n",
       "var outputEl = gd.closest('.output');\n",
       "if (outputEl) {{\n",
       "    x.observe(outputEl, {childList: true});\n",
       "}}\n",
       "\n",
       "                        })                };                });            </script>        </div>"
      ]
     },
     "metadata": {},
     "output_type": "display_data"
    }
   ],
   "source": [
    "from wordcloud import WordCloud, STOPWORDS\n",
    "from PIL import Image\n",
    "\n",
    "def draw_world_cloud():\n",
    "    Emp_complains = prep_data['Briefly describe what you think the industry as a whole and/or employers could do to improve mental health support for employees.'].dropna().unique()\n",
    "    words = ''.join(Emp_complains)\n",
    "\n",
    "    my_wordcloud = WordCloud(stopwords=STOPWORDS,\n",
    "                            max_words=500,\n",
    "                            # width=800,\n",
    "                            height=400,\n",
    "                            background_color='white',\n",
    "                            contour_color='#EEEDE7', \n",
    "                            colormap=\"viridis\",\n",
    "                            collocations=True,\n",
    "                            # contour_width=5, \n",
    "                            mask=np.array(Image.open(\"assets/b2.jpg\"))).generate(words)\n",
    "\n",
    "    fig_wordcloud = px.imshow(my_wordcloud)\n",
    "    fig_wordcloud.update_layout(margin=dict(l=0, r=0, t=0, b=0), height=400)\n",
    "    fig_wordcloud.update_xaxes(visible=False)\n",
    "    fig_wordcloud.update_yaxes(visible=False)\n",
    "    return fig_wordcloud\n",
    "draw_world_cloud()"
   ]
  },
  {
   "cell_type": "markdown",
   "metadata": {
    "id": "cQg0NCVcKpEF"
   },
   "source": [
    "### Would you be willing to bring up a physical/ Mental health issue with a potential employer in an interview?"
   ]
  },
  {
   "cell_type": "markdown",
   "metadata": {
    "id": "zJZyvj7CKpEF"
   },
   "source": [
    "#### Pie charts for all responses"
   ]
  },
  {
   "cell_type": "code",
   "execution_count": 27,
   "metadata": {
    "executionInfo": {
     "elapsed": 61,
     "status": "aborted",
     "timestamp": 1654337002854,
     "user": {
      "displayName": "habiba mohamed",
      "userId": "01346726008568088997"
     },
     "user_tz": -120
    },
    "id": "OaBCSmIFKpEF"
   },
   "outputs": [],
   "source": [
    "# ----------------- Admit_ph_issue_in_interview_plt -----------------\n",
    "def draw_admit_ph_issue_in_interview_plt(country):\n",
    "    all_responses = prep_data[prep_data['tech_role_flag'] == 1]['admit_ph_issue_in_interview'].count()\n",
    "    no = prep_data[(prep_data['tech_role_flag'] == 1) & (prep_data['admit_ph_issue_in_interview'] == 0) & ( np.isin(prep_data['country_work_in'], country))]['admit_ph_issue_in_interview'].count()\n",
    "    maybe = prep_data[(prep_data['tech_role_flag'] == 1) & (prep_data['admit_ph_issue_in_interview'] == 1) & ( np.isin(prep_data['country_work_in'], country))]['admit_ph_issue_in_interview'].count()\n",
    "    yes = prep_data[(prep_data['tech_role_flag'] == 1) & (prep_data['admit_ph_issue_in_interview'] == 2) & ( np.isin(prep_data['country_work_in'], country))]['admit_ph_issue_in_interview'].count()\n",
    "\n",
    "    labels = ['No', 'Maybe', 'Yes']\n",
    "    # colors = ['#9666FF', '#F89640', '#F0F921' ]\n",
    "    colors = ['#622569', '#b7d7e8', '#5b9aa0' ]\n",
    "\n",
    "    sizes = [no/all_responses, maybe/all_responses, yes/all_responses]\n",
    "\n",
    "    admit_ph_issue_in_interview_plt = go.Figure(data=[go.Pie(labels = labels, values=sizes, hole = 0.6, pull=[0, 0, 0.2, 0], rotation = 90)])\n",
    "\n",
    "    admit_ph_issue_in_interview_plt.update_traces(\n",
    "                                                title = f'Physical',\n",
    "                                                hoverinfo='label+percent',\n",
    "                                                textfont_size=12,\n",
    "                                                marker=dict(colors=colors,\n",
    "                                                line=dict(color='#FFF', width=2)),\n",
    "                                                title_font_size = 16,\n",
    "                                                title_position = \"middle center\")\n",
    "    admit_ph_issue_in_interview_plt.update_layout(\n",
    "                                                legend=dict(orientation=\"h\", yanchor=\"bottom\", y=0, xanchor=\"center\", x=0.5),\n",
    "                                                margin=dict(b = 0, t = 0, l = 0, r = 0),\n",
    "                                                template = 'ggplot2',\n",
    "                                                height = 325\n",
    "                                                )\n",
    "    return admit_ph_issue_in_interview_plt\n",
    "# ----------------- Bar Chart For MH Disorder Vs Countries -----------------\n",
    "\n",
    "def draw_admit_mh_issue_in_interview_plt(country):\n",
    "    all_responses = prep_data[prep_data['tech_role_flag'] == 1]['admit_mh_issue_in_interview'].count()\n",
    "    no = prep_data[(prep_data['tech_role_flag'] == 1) & (prep_data['admit_mh_issue_in_interview'] == 1) & ( np.isin(prep_data['country_work_in'], country))]['admit_mh_issue_in_interview'].count()\n",
    "    maybe = prep_data[(prep_data['tech_role_flag'] == 1) & (prep_data['admit_mh_issue_in_interview'] == 0) & ( np.isin(prep_data['country_work_in'], country))]['admit_mh_issue_in_interview'].count()\n",
    "    yes = prep_data[(prep_data['tech_role_flag'] == 1) & (prep_data['admit_mh_issue_in_interview'] == 2) & ( np.isin(prep_data['country_work_in'], country))]['admit_mh_issue_in_interview'].count()\n",
    "    # colors = ['#9666FF', '#F89640', '#F0F921' ]\n",
    "    colors = ['#622569', '#b7d7e8', '#5b9aa0' ]\n",
    "\n",
    "    labels = ['No', 'Maybe', 'Yes']\n",
    "    sizes = [no/all_responses, maybe/all_responses, yes/all_responses]\n",
    "    admit_mh_issue_in_interview_plt = go.Figure(data=[go.Pie(labels = labels, values=sizes, hole = 0.6, pull=[0, 0, 0.2, 0], rotation = -180)])\n",
    "\n",
    "    admit_mh_issue_in_interview_plt.update_traces(\n",
    "                                                title = 'Mental',\n",
    "                                                hoverinfo='label+percent',\n",
    "                                                marker=dict(colors=colors,\n",
    "                                                line=dict(color='#FFF', width=2)),\n",
    "                                                textfont_size=12,\n",
    "                                                title_font_size = 16, \n",
    "                                                title_position = \"middle center\")\n",
    "    admit_mh_issue_in_interview_plt.update_layout(\n",
    "                                                template = 'ggplot2',\n",
    "                                                legend=dict(orientation=\"h\", yanchor=\"bottom\", y=0, xanchor=\"center\", x=0.5),\n",
    "                                                margin=dict(b = 0, t = 0, l = 0, r = 0),\n",
    "                                                height = 325\n",
    "                                                )\n",
    "\n",
    "    return admit_mh_issue_in_interview_plt\n",
    "\n"
   ]
  },
  {
   "cell_type": "code",
   "execution_count": 28,
   "metadata": {},
   "outputs": [
    {
     "data": {
      "text/html": [
       "<div>                            <div id=\"81133f08-61fa-4f7d-9ff4-eba77ac4b2d1\" class=\"plotly-graph-div\" style=\"height:325px; width:100%;\"></div>            <script type=\"text/javascript\">                require([\"plotly\"], function(Plotly) {                    window.PLOTLYENV=window.PLOTLYENV || {};                                    if (document.getElementById(\"81133f08-61fa-4f7d-9ff4-eba77ac4b2d1\")) {                    Plotly.newPlot(                        \"81133f08-61fa-4f7d-9ff4-eba77ac4b2d1\",                        [{\"hole\":0.6,\"labels\":[\"No\",\"Maybe\",\"Yes\"],\"pull\":[0,0,0.2,0],\"rotation\":90,\"values\":[0.41653290529695025,0.36998394863563405,0.21348314606741572],\"type\":\"pie\",\"textfont\":{\"size\":12},\"marker\":{\"line\":{\"color\":\"#FFF\",\"width\":2},\"colors\":[\"#622569\",\"#b7d7e8\",\"#5b9aa0\"]},\"title\":{\"text\":\"Physical\",\"font\":{\"size\":16},\"position\":\"middle center\"},\"hoverinfo\":\"label+percent\"}],                        {\"template\":{\"data\":{\"barpolar\":[{\"marker\":{\"line\":{\"color\":\"rgb(237,237,237)\",\"width\":0.5},\"pattern\":{\"fillmode\":\"overlay\",\"size\":10,\"solidity\":0.2}},\"type\":\"barpolar\"}],\"bar\":[{\"error_x\":{\"color\":\"rgb(51,51,51)\"},\"error_y\":{\"color\":\"rgb(51,51,51)\"},\"marker\":{\"line\":{\"color\":\"rgb(237,237,237)\",\"width\":0.5},\"pattern\":{\"fillmode\":\"overlay\",\"size\":10,\"solidity\":0.2}},\"type\":\"bar\"}],\"carpet\":[{\"aaxis\":{\"endlinecolor\":\"rgb(51,51,51)\",\"gridcolor\":\"white\",\"linecolor\":\"white\",\"minorgridcolor\":\"white\",\"startlinecolor\":\"rgb(51,51,51)\"},\"baxis\":{\"endlinecolor\":\"rgb(51,51,51)\",\"gridcolor\":\"white\",\"linecolor\":\"white\",\"minorgridcolor\":\"white\",\"startlinecolor\":\"rgb(51,51,51)\"},\"type\":\"carpet\"}],\"choropleth\":[{\"colorbar\":{\"outlinewidth\":0,\"tickcolor\":\"rgb(237,237,237)\",\"ticklen\":6,\"ticks\":\"inside\"},\"type\":\"choropleth\"}],\"contourcarpet\":[{\"colorbar\":{\"outlinewidth\":0,\"tickcolor\":\"rgb(237,237,237)\",\"ticklen\":6,\"ticks\":\"inside\"},\"type\":\"contourcarpet\"}],\"contour\":[{\"colorbar\":{\"outlinewidth\":0,\"tickcolor\":\"rgb(237,237,237)\",\"ticklen\":6,\"ticks\":\"inside\"},\"colorscale\":[[0,\"rgb(20,44,66)\"],[1,\"rgb(90,179,244)\"]],\"type\":\"contour\"}],\"heatmapgl\":[{\"colorbar\":{\"outlinewidth\":0,\"tickcolor\":\"rgb(237,237,237)\",\"ticklen\":6,\"ticks\":\"inside\"},\"colorscale\":[[0,\"rgb(20,44,66)\"],[1,\"rgb(90,179,244)\"]],\"type\":\"heatmapgl\"}],\"heatmap\":[{\"colorbar\":{\"outlinewidth\":0,\"tickcolor\":\"rgb(237,237,237)\",\"ticklen\":6,\"ticks\":\"inside\"},\"colorscale\":[[0,\"rgb(20,44,66)\"],[1,\"rgb(90,179,244)\"]],\"type\":\"heatmap\"}],\"histogram2dcontour\":[{\"colorbar\":{\"outlinewidth\":0,\"tickcolor\":\"rgb(237,237,237)\",\"ticklen\":6,\"ticks\":\"inside\"},\"colorscale\":[[0,\"rgb(20,44,66)\"],[1,\"rgb(90,179,244)\"]],\"type\":\"histogram2dcontour\"}],\"histogram2d\":[{\"colorbar\":{\"outlinewidth\":0,\"tickcolor\":\"rgb(237,237,237)\",\"ticklen\":6,\"ticks\":\"inside\"},\"colorscale\":[[0,\"rgb(20,44,66)\"],[1,\"rgb(90,179,244)\"]],\"type\":\"histogram2d\"}],\"histogram\":[{\"marker\":{\"pattern\":{\"fillmode\":\"overlay\",\"size\":10,\"solidity\":0.2}},\"type\":\"histogram\"}],\"mesh3d\":[{\"colorbar\":{\"outlinewidth\":0,\"tickcolor\":\"rgb(237,237,237)\",\"ticklen\":6,\"ticks\":\"inside\"},\"type\":\"mesh3d\"}],\"parcoords\":[{\"line\":{\"colorbar\":{\"outlinewidth\":0,\"tickcolor\":\"rgb(237,237,237)\",\"ticklen\":6,\"ticks\":\"inside\"}},\"type\":\"parcoords\"}],\"pie\":[{\"automargin\":true,\"type\":\"pie\"}],\"scatter3d\":[{\"line\":{\"colorbar\":{\"outlinewidth\":0,\"tickcolor\":\"rgb(237,237,237)\",\"ticklen\":6,\"ticks\":\"inside\"}},\"marker\":{\"colorbar\":{\"outlinewidth\":0,\"tickcolor\":\"rgb(237,237,237)\",\"ticklen\":6,\"ticks\":\"inside\"}},\"type\":\"scatter3d\"}],\"scattercarpet\":[{\"marker\":{\"colorbar\":{\"outlinewidth\":0,\"tickcolor\":\"rgb(237,237,237)\",\"ticklen\":6,\"ticks\":\"inside\"}},\"type\":\"scattercarpet\"}],\"scattergeo\":[{\"marker\":{\"colorbar\":{\"outlinewidth\":0,\"tickcolor\":\"rgb(237,237,237)\",\"ticklen\":6,\"ticks\":\"inside\"}},\"type\":\"scattergeo\"}],\"scattergl\":[{\"marker\":{\"colorbar\":{\"outlinewidth\":0,\"tickcolor\":\"rgb(237,237,237)\",\"ticklen\":6,\"ticks\":\"inside\"}},\"type\":\"scattergl\"}],\"scattermapbox\":[{\"marker\":{\"colorbar\":{\"outlinewidth\":0,\"tickcolor\":\"rgb(237,237,237)\",\"ticklen\":6,\"ticks\":\"inside\"}},\"type\":\"scattermapbox\"}],\"scatterpolargl\":[{\"marker\":{\"colorbar\":{\"outlinewidth\":0,\"tickcolor\":\"rgb(237,237,237)\",\"ticklen\":6,\"ticks\":\"inside\"}},\"type\":\"scatterpolargl\"}],\"scatterpolar\":[{\"marker\":{\"colorbar\":{\"outlinewidth\":0,\"tickcolor\":\"rgb(237,237,237)\",\"ticklen\":6,\"ticks\":\"inside\"}},\"type\":\"scatterpolar\"}],\"scatter\":[{\"fillpattern\":{\"fillmode\":\"overlay\",\"size\":10,\"solidity\":0.2},\"type\":\"scatter\"}],\"scatterternary\":[{\"marker\":{\"colorbar\":{\"outlinewidth\":0,\"tickcolor\":\"rgb(237,237,237)\",\"ticklen\":6,\"ticks\":\"inside\"}},\"type\":\"scatterternary\"}],\"surface\":[{\"colorbar\":{\"outlinewidth\":0,\"tickcolor\":\"rgb(237,237,237)\",\"ticklen\":6,\"ticks\":\"inside\"},\"colorscale\":[[0,\"rgb(20,44,66)\"],[1,\"rgb(90,179,244)\"]],\"type\":\"surface\"}],\"table\":[{\"cells\":{\"fill\":{\"color\":\"rgb(237,237,237)\"},\"line\":{\"color\":\"white\"}},\"header\":{\"fill\":{\"color\":\"rgb(217,217,217)\"},\"line\":{\"color\":\"white\"}},\"type\":\"table\"}]},\"layout\":{\"annotationdefaults\":{\"arrowhead\":0,\"arrowwidth\":1},\"autotypenumbers\":\"strict\",\"coloraxis\":{\"colorbar\":{\"outlinewidth\":0,\"tickcolor\":\"rgb(237,237,237)\",\"ticklen\":6,\"ticks\":\"inside\"}},\"colorscale\":{\"sequential\":[[0,\"rgb(20,44,66)\"],[1,\"rgb(90,179,244)\"]],\"sequentialminus\":[[0,\"rgb(20,44,66)\"],[1,\"rgb(90,179,244)\"]]},\"colorway\":[\"#F8766D\",\"#A3A500\",\"#00BF7D\",\"#00B0F6\",\"#E76BF3\"],\"font\":{\"color\":\"rgb(51,51,51)\"},\"geo\":{\"bgcolor\":\"white\",\"lakecolor\":\"white\",\"landcolor\":\"rgb(237,237,237)\",\"showlakes\":true,\"showland\":true,\"subunitcolor\":\"white\"},\"hoverlabel\":{\"align\":\"left\"},\"hovermode\":\"closest\",\"paper_bgcolor\":\"white\",\"plot_bgcolor\":\"rgb(237,237,237)\",\"polar\":{\"angularaxis\":{\"gridcolor\":\"white\",\"linecolor\":\"white\",\"showgrid\":true,\"tickcolor\":\"rgb(51,51,51)\",\"ticks\":\"outside\"},\"bgcolor\":\"rgb(237,237,237)\",\"radialaxis\":{\"gridcolor\":\"white\",\"linecolor\":\"white\",\"showgrid\":true,\"tickcolor\":\"rgb(51,51,51)\",\"ticks\":\"outside\"}},\"scene\":{\"xaxis\":{\"backgroundcolor\":\"rgb(237,237,237)\",\"gridcolor\":\"white\",\"gridwidth\":2,\"linecolor\":\"white\",\"showbackground\":true,\"showgrid\":true,\"tickcolor\":\"rgb(51,51,51)\",\"ticks\":\"outside\",\"zerolinecolor\":\"white\"},\"yaxis\":{\"backgroundcolor\":\"rgb(237,237,237)\",\"gridcolor\":\"white\",\"gridwidth\":2,\"linecolor\":\"white\",\"showbackground\":true,\"showgrid\":true,\"tickcolor\":\"rgb(51,51,51)\",\"ticks\":\"outside\",\"zerolinecolor\":\"white\"},\"zaxis\":{\"backgroundcolor\":\"rgb(237,237,237)\",\"gridcolor\":\"white\",\"gridwidth\":2,\"linecolor\":\"white\",\"showbackground\":true,\"showgrid\":true,\"tickcolor\":\"rgb(51,51,51)\",\"ticks\":\"outside\",\"zerolinecolor\":\"white\"}},\"shapedefaults\":{\"fillcolor\":\"black\",\"line\":{\"width\":0},\"opacity\":0.3},\"ternary\":{\"aaxis\":{\"gridcolor\":\"white\",\"linecolor\":\"white\",\"showgrid\":true,\"tickcolor\":\"rgb(51,51,51)\",\"ticks\":\"outside\"},\"baxis\":{\"gridcolor\":\"white\",\"linecolor\":\"white\",\"showgrid\":true,\"tickcolor\":\"rgb(51,51,51)\",\"ticks\":\"outside\"},\"bgcolor\":\"rgb(237,237,237)\",\"caxis\":{\"gridcolor\":\"white\",\"linecolor\":\"white\",\"showgrid\":true,\"tickcolor\":\"rgb(51,51,51)\",\"ticks\":\"outside\"}},\"xaxis\":{\"automargin\":true,\"gridcolor\":\"white\",\"linecolor\":\"white\",\"showgrid\":true,\"tickcolor\":\"rgb(51,51,51)\",\"ticks\":\"outside\",\"title\":{\"standoff\":15},\"zerolinecolor\":\"white\"},\"yaxis\":{\"automargin\":true,\"gridcolor\":\"white\",\"linecolor\":\"white\",\"showgrid\":true,\"tickcolor\":\"rgb(51,51,51)\",\"ticks\":\"outside\",\"title\":{\"standoff\":15},\"zerolinecolor\":\"white\"}}},\"legend\":{\"orientation\":\"h\",\"yanchor\":\"bottom\",\"y\":0,\"xanchor\":\"center\",\"x\":0.5},\"margin\":{\"b\":0,\"t\":0,\"l\":0,\"r\":0},\"height\":325},                        {\"responsive\": true}                    ).then(function(){\n",
       "                            \n",
       "var gd = document.getElementById('81133f08-61fa-4f7d-9ff4-eba77ac4b2d1');\n",
       "var x = new MutationObserver(function (mutations, observer) {{\n",
       "        var display = window.getComputedStyle(gd).display;\n",
       "        if (!display || display === 'none') {{\n",
       "            console.log([gd, 'removed!']);\n",
       "            Plotly.purge(gd);\n",
       "            observer.disconnect();\n",
       "        }}\n",
       "}});\n",
       "\n",
       "// Listen for the removal of the full notebook cells\n",
       "var notebookContainer = gd.closest('#notebook-container');\n",
       "if (notebookContainer) {{\n",
       "    x.observe(notebookContainer, {childList: true});\n",
       "}}\n",
       "\n",
       "// Listen for the clearing of the current output cell\n",
       "var outputEl = gd.closest('.output');\n",
       "if (outputEl) {{\n",
       "    x.observe(outputEl, {childList: true});\n",
       "}}\n",
       "\n",
       "                        })                };                });            </script>        </div>"
      ]
     },
     "metadata": {},
     "output_type": "display_data"
    }
   ],
   "source": [
    "draw_admit_ph_issue_in_interview_plt(country)"
   ]
  },
  {
   "cell_type": "code",
   "execution_count": 29,
   "metadata": {},
   "outputs": [
    {
     "data": {
      "text/html": [
       "<div>                            <div id=\"a543d133-407e-4651-ba76-5de291892b60\" class=\"plotly-graph-div\" style=\"height:325px; width:100%;\"></div>            <script type=\"text/javascript\">                require([\"plotly\"], function(Plotly) {                    window.PLOTLYENV=window.PLOTLYENV || {};                                    if (document.getElementById(\"a543d133-407e-4651-ba76-5de291892b60\")) {                    Plotly.newPlot(                        \"a543d133-407e-4651-ba76-5de291892b60\",                        [{\"hole\":0.6,\"labels\":[\"No\",\"Maybe\",\"Yes\"],\"pull\":[0,0,0.2,0],\"rotation\":-180,\"values\":[0.7062600321027287,0.2504012841091493,0.04333868378812199],\"type\":\"pie\",\"marker\":{\"line\":{\"color\":\"#FFF\",\"width\":2},\"colors\":[\"#622569\",\"#b7d7e8\",\"#5b9aa0\"]},\"textfont\":{\"size\":12},\"title\":{\"text\":\"Mental\",\"font\":{\"size\":16},\"position\":\"middle center\"},\"hoverinfo\":\"label+percent\"}],                        {\"template\":{\"data\":{\"barpolar\":[{\"marker\":{\"line\":{\"color\":\"rgb(237,237,237)\",\"width\":0.5},\"pattern\":{\"fillmode\":\"overlay\",\"size\":10,\"solidity\":0.2}},\"type\":\"barpolar\"}],\"bar\":[{\"error_x\":{\"color\":\"rgb(51,51,51)\"},\"error_y\":{\"color\":\"rgb(51,51,51)\"},\"marker\":{\"line\":{\"color\":\"rgb(237,237,237)\",\"width\":0.5},\"pattern\":{\"fillmode\":\"overlay\",\"size\":10,\"solidity\":0.2}},\"type\":\"bar\"}],\"carpet\":[{\"aaxis\":{\"endlinecolor\":\"rgb(51,51,51)\",\"gridcolor\":\"white\",\"linecolor\":\"white\",\"minorgridcolor\":\"white\",\"startlinecolor\":\"rgb(51,51,51)\"},\"baxis\":{\"endlinecolor\":\"rgb(51,51,51)\",\"gridcolor\":\"white\",\"linecolor\":\"white\",\"minorgridcolor\":\"white\",\"startlinecolor\":\"rgb(51,51,51)\"},\"type\":\"carpet\"}],\"choropleth\":[{\"colorbar\":{\"outlinewidth\":0,\"tickcolor\":\"rgb(237,237,237)\",\"ticklen\":6,\"ticks\":\"inside\"},\"type\":\"choropleth\"}],\"contourcarpet\":[{\"colorbar\":{\"outlinewidth\":0,\"tickcolor\":\"rgb(237,237,237)\",\"ticklen\":6,\"ticks\":\"inside\"},\"type\":\"contourcarpet\"}],\"contour\":[{\"colorbar\":{\"outlinewidth\":0,\"tickcolor\":\"rgb(237,237,237)\",\"ticklen\":6,\"ticks\":\"inside\"},\"colorscale\":[[0,\"rgb(20,44,66)\"],[1,\"rgb(90,179,244)\"]],\"type\":\"contour\"}],\"heatmapgl\":[{\"colorbar\":{\"outlinewidth\":0,\"tickcolor\":\"rgb(237,237,237)\",\"ticklen\":6,\"ticks\":\"inside\"},\"colorscale\":[[0,\"rgb(20,44,66)\"],[1,\"rgb(90,179,244)\"]],\"type\":\"heatmapgl\"}],\"heatmap\":[{\"colorbar\":{\"outlinewidth\":0,\"tickcolor\":\"rgb(237,237,237)\",\"ticklen\":6,\"ticks\":\"inside\"},\"colorscale\":[[0,\"rgb(20,44,66)\"],[1,\"rgb(90,179,244)\"]],\"type\":\"heatmap\"}],\"histogram2dcontour\":[{\"colorbar\":{\"outlinewidth\":0,\"tickcolor\":\"rgb(237,237,237)\",\"ticklen\":6,\"ticks\":\"inside\"},\"colorscale\":[[0,\"rgb(20,44,66)\"],[1,\"rgb(90,179,244)\"]],\"type\":\"histogram2dcontour\"}],\"histogram2d\":[{\"colorbar\":{\"outlinewidth\":0,\"tickcolor\":\"rgb(237,237,237)\",\"ticklen\":6,\"ticks\":\"inside\"},\"colorscale\":[[0,\"rgb(20,44,66)\"],[1,\"rgb(90,179,244)\"]],\"type\":\"histogram2d\"}],\"histogram\":[{\"marker\":{\"pattern\":{\"fillmode\":\"overlay\",\"size\":10,\"solidity\":0.2}},\"type\":\"histogram\"}],\"mesh3d\":[{\"colorbar\":{\"outlinewidth\":0,\"tickcolor\":\"rgb(237,237,237)\",\"ticklen\":6,\"ticks\":\"inside\"},\"type\":\"mesh3d\"}],\"parcoords\":[{\"line\":{\"colorbar\":{\"outlinewidth\":0,\"tickcolor\":\"rgb(237,237,237)\",\"ticklen\":6,\"ticks\":\"inside\"}},\"type\":\"parcoords\"}],\"pie\":[{\"automargin\":true,\"type\":\"pie\"}],\"scatter3d\":[{\"line\":{\"colorbar\":{\"outlinewidth\":0,\"tickcolor\":\"rgb(237,237,237)\",\"ticklen\":6,\"ticks\":\"inside\"}},\"marker\":{\"colorbar\":{\"outlinewidth\":0,\"tickcolor\":\"rgb(237,237,237)\",\"ticklen\":6,\"ticks\":\"inside\"}},\"type\":\"scatter3d\"}],\"scattercarpet\":[{\"marker\":{\"colorbar\":{\"outlinewidth\":0,\"tickcolor\":\"rgb(237,237,237)\",\"ticklen\":6,\"ticks\":\"inside\"}},\"type\":\"scattercarpet\"}],\"scattergeo\":[{\"marker\":{\"colorbar\":{\"outlinewidth\":0,\"tickcolor\":\"rgb(237,237,237)\",\"ticklen\":6,\"ticks\":\"inside\"}},\"type\":\"scattergeo\"}],\"scattergl\":[{\"marker\":{\"colorbar\":{\"outlinewidth\":0,\"tickcolor\":\"rgb(237,237,237)\",\"ticklen\":6,\"ticks\":\"inside\"}},\"type\":\"scattergl\"}],\"scattermapbox\":[{\"marker\":{\"colorbar\":{\"outlinewidth\":0,\"tickcolor\":\"rgb(237,237,237)\",\"ticklen\":6,\"ticks\":\"inside\"}},\"type\":\"scattermapbox\"}],\"scatterpolargl\":[{\"marker\":{\"colorbar\":{\"outlinewidth\":0,\"tickcolor\":\"rgb(237,237,237)\",\"ticklen\":6,\"ticks\":\"inside\"}},\"type\":\"scatterpolargl\"}],\"scatterpolar\":[{\"marker\":{\"colorbar\":{\"outlinewidth\":0,\"tickcolor\":\"rgb(237,237,237)\",\"ticklen\":6,\"ticks\":\"inside\"}},\"type\":\"scatterpolar\"}],\"scatter\":[{\"fillpattern\":{\"fillmode\":\"overlay\",\"size\":10,\"solidity\":0.2},\"type\":\"scatter\"}],\"scatterternary\":[{\"marker\":{\"colorbar\":{\"outlinewidth\":0,\"tickcolor\":\"rgb(237,237,237)\",\"ticklen\":6,\"ticks\":\"inside\"}},\"type\":\"scatterternary\"}],\"surface\":[{\"colorbar\":{\"outlinewidth\":0,\"tickcolor\":\"rgb(237,237,237)\",\"ticklen\":6,\"ticks\":\"inside\"},\"colorscale\":[[0,\"rgb(20,44,66)\"],[1,\"rgb(90,179,244)\"]],\"type\":\"surface\"}],\"table\":[{\"cells\":{\"fill\":{\"color\":\"rgb(237,237,237)\"},\"line\":{\"color\":\"white\"}},\"header\":{\"fill\":{\"color\":\"rgb(217,217,217)\"},\"line\":{\"color\":\"white\"}},\"type\":\"table\"}]},\"layout\":{\"annotationdefaults\":{\"arrowhead\":0,\"arrowwidth\":1},\"autotypenumbers\":\"strict\",\"coloraxis\":{\"colorbar\":{\"outlinewidth\":0,\"tickcolor\":\"rgb(237,237,237)\",\"ticklen\":6,\"ticks\":\"inside\"}},\"colorscale\":{\"sequential\":[[0,\"rgb(20,44,66)\"],[1,\"rgb(90,179,244)\"]],\"sequentialminus\":[[0,\"rgb(20,44,66)\"],[1,\"rgb(90,179,244)\"]]},\"colorway\":[\"#F8766D\",\"#A3A500\",\"#00BF7D\",\"#00B0F6\",\"#E76BF3\"],\"font\":{\"color\":\"rgb(51,51,51)\"},\"geo\":{\"bgcolor\":\"white\",\"lakecolor\":\"white\",\"landcolor\":\"rgb(237,237,237)\",\"showlakes\":true,\"showland\":true,\"subunitcolor\":\"white\"},\"hoverlabel\":{\"align\":\"left\"},\"hovermode\":\"closest\",\"paper_bgcolor\":\"white\",\"plot_bgcolor\":\"rgb(237,237,237)\",\"polar\":{\"angularaxis\":{\"gridcolor\":\"white\",\"linecolor\":\"white\",\"showgrid\":true,\"tickcolor\":\"rgb(51,51,51)\",\"ticks\":\"outside\"},\"bgcolor\":\"rgb(237,237,237)\",\"radialaxis\":{\"gridcolor\":\"white\",\"linecolor\":\"white\",\"showgrid\":true,\"tickcolor\":\"rgb(51,51,51)\",\"ticks\":\"outside\"}},\"scene\":{\"xaxis\":{\"backgroundcolor\":\"rgb(237,237,237)\",\"gridcolor\":\"white\",\"gridwidth\":2,\"linecolor\":\"white\",\"showbackground\":true,\"showgrid\":true,\"tickcolor\":\"rgb(51,51,51)\",\"ticks\":\"outside\",\"zerolinecolor\":\"white\"},\"yaxis\":{\"backgroundcolor\":\"rgb(237,237,237)\",\"gridcolor\":\"white\",\"gridwidth\":2,\"linecolor\":\"white\",\"showbackground\":true,\"showgrid\":true,\"tickcolor\":\"rgb(51,51,51)\",\"ticks\":\"outside\",\"zerolinecolor\":\"white\"},\"zaxis\":{\"backgroundcolor\":\"rgb(237,237,237)\",\"gridcolor\":\"white\",\"gridwidth\":2,\"linecolor\":\"white\",\"showbackground\":true,\"showgrid\":true,\"tickcolor\":\"rgb(51,51,51)\",\"ticks\":\"outside\",\"zerolinecolor\":\"white\"}},\"shapedefaults\":{\"fillcolor\":\"black\",\"line\":{\"width\":0},\"opacity\":0.3},\"ternary\":{\"aaxis\":{\"gridcolor\":\"white\",\"linecolor\":\"white\",\"showgrid\":true,\"tickcolor\":\"rgb(51,51,51)\",\"ticks\":\"outside\"},\"baxis\":{\"gridcolor\":\"white\",\"linecolor\":\"white\",\"showgrid\":true,\"tickcolor\":\"rgb(51,51,51)\",\"ticks\":\"outside\"},\"bgcolor\":\"rgb(237,237,237)\",\"caxis\":{\"gridcolor\":\"white\",\"linecolor\":\"white\",\"showgrid\":true,\"tickcolor\":\"rgb(51,51,51)\",\"ticks\":\"outside\"}},\"xaxis\":{\"automargin\":true,\"gridcolor\":\"white\",\"linecolor\":\"white\",\"showgrid\":true,\"tickcolor\":\"rgb(51,51,51)\",\"ticks\":\"outside\",\"title\":{\"standoff\":15},\"zerolinecolor\":\"white\"},\"yaxis\":{\"automargin\":true,\"gridcolor\":\"white\",\"linecolor\":\"white\",\"showgrid\":true,\"tickcolor\":\"rgb(51,51,51)\",\"ticks\":\"outside\",\"title\":{\"standoff\":15},\"zerolinecolor\":\"white\"}}},\"legend\":{\"orientation\":\"h\",\"yanchor\":\"bottom\",\"y\":0,\"xanchor\":\"center\",\"x\":0.5},\"margin\":{\"b\":0,\"t\":0,\"l\":0,\"r\":0},\"height\":325},                        {\"responsive\": true}                    ).then(function(){\n",
       "                            \n",
       "var gd = document.getElementById('a543d133-407e-4651-ba76-5de291892b60');\n",
       "var x = new MutationObserver(function (mutations, observer) {{\n",
       "        var display = window.getComputedStyle(gd).display;\n",
       "        if (!display || display === 'none') {{\n",
       "            console.log([gd, 'removed!']);\n",
       "            Plotly.purge(gd);\n",
       "            observer.disconnect();\n",
       "        }}\n",
       "}});\n",
       "\n",
       "// Listen for the removal of the full notebook cells\n",
       "var notebookContainer = gd.closest('#notebook-container');\n",
       "if (notebookContainer) {{\n",
       "    x.observe(notebookContainer, {childList: true});\n",
       "}}\n",
       "\n",
       "// Listen for the clearing of the current output cell\n",
       "var outputEl = gd.closest('.output');\n",
       "if (outputEl) {{\n",
       "    x.observe(outputEl, {childList: true});\n",
       "}}\n",
       "\n",
       "                        })                };                });            </script>        </div>"
      ]
     },
     "metadata": {},
     "output_type": "display_data"
    }
   ],
   "source": [
    "draw_admit_mh_issue_in_interview_plt(country)"
   ]
  },
  {
   "cell_type": "markdown",
   "metadata": {
    "id": "7M5CqTg6KpEG"
   },
   "source": [
    "#### line chart for yes responses Vs years years"
   ]
  },
  {
   "cell_type": "code",
   "execution_count": 30,
   "metadata": {
    "executionInfo": {
     "elapsed": 62,
     "status": "aborted",
     "timestamp": 1654337002857,
     "user": {
      "displayName": "habiba mohamed",
      "userId": "01346726008568088997"
     },
     "user_tz": -120
    },
    "id": "tmMPIka0KpEG"
   },
   "outputs": [
    {
     "data": {
      "text/html": [
       "<div>                            <div id=\"c510e394-3ef2-423b-b02b-c1f28f3930d9\" class=\"plotly-graph-div\" style=\"height:350px; width:100%;\"></div>            <script type=\"text/javascript\">                require([\"plotly\"], function(Plotly) {                    window.PLOTLYENV=window.PLOTLYENV || {};                                    if (document.getElementById(\"c510e394-3ef2-423b-b02b-c1f28f3930d9\")) {                    Plotly.newPlot(                        \"c510e394-3ef2-423b-b02b-c1f28f3930d9\",                        [{\"line\":{\"color\":\"#622569\",\"width\":4},\"name\":\"Physical\",\"x\":[\"2017\",\"2018\",\"2019\",\"2020\"],\"y\":[18,18,23,33],\"type\":\"scatter\"},{\"line\":{\"color\":\"#5b9aa0\",\"dash\":\"dash\",\"width\":4},\"name\":\"Mental\",\"x\":[\"2017\",\"2018\",\"2019\",\"2020\"],\"y\":[4,3,6,3],\"type\":\"scatter\"}],                        {\"template\":{\"data\":{\"histogram2dcontour\":[{\"type\":\"histogram2dcontour\",\"colorbar\":{\"outlinewidth\":0,\"ticks\":\"\"},\"colorscale\":[[0.0,\"#0d0887\"],[0.1111111111111111,\"#46039f\"],[0.2222222222222222,\"#7201a8\"],[0.3333333333333333,\"#9c179e\"],[0.4444444444444444,\"#bd3786\"],[0.5555555555555556,\"#d8576b\"],[0.6666666666666666,\"#ed7953\"],[0.7777777777777778,\"#fb9f3a\"],[0.8888888888888888,\"#fdca26\"],[1.0,\"#f0f921\"]]}],\"choropleth\":[{\"type\":\"choropleth\",\"colorbar\":{\"outlinewidth\":0,\"ticks\":\"\"}}],\"histogram2d\":[{\"type\":\"histogram2d\",\"colorbar\":{\"outlinewidth\":0,\"ticks\":\"\"},\"colorscale\":[[0.0,\"#0d0887\"],[0.1111111111111111,\"#46039f\"],[0.2222222222222222,\"#7201a8\"],[0.3333333333333333,\"#9c179e\"],[0.4444444444444444,\"#bd3786\"],[0.5555555555555556,\"#d8576b\"],[0.6666666666666666,\"#ed7953\"],[0.7777777777777778,\"#fb9f3a\"],[0.8888888888888888,\"#fdca26\"],[1.0,\"#f0f921\"]]}],\"heatmap\":[{\"type\":\"heatmap\",\"colorbar\":{\"outlinewidth\":0,\"ticks\":\"\"},\"colorscale\":[[0.0,\"#0d0887\"],[0.1111111111111111,\"#46039f\"],[0.2222222222222222,\"#7201a8\"],[0.3333333333333333,\"#9c179e\"],[0.4444444444444444,\"#bd3786\"],[0.5555555555555556,\"#d8576b\"],[0.6666666666666666,\"#ed7953\"],[0.7777777777777778,\"#fb9f3a\"],[0.8888888888888888,\"#fdca26\"],[1.0,\"#f0f921\"]]}],\"heatmapgl\":[{\"type\":\"heatmapgl\",\"colorbar\":{\"outlinewidth\":0,\"ticks\":\"\"},\"colorscale\":[[0.0,\"#0d0887\"],[0.1111111111111111,\"#46039f\"],[0.2222222222222222,\"#7201a8\"],[0.3333333333333333,\"#9c179e\"],[0.4444444444444444,\"#bd3786\"],[0.5555555555555556,\"#d8576b\"],[0.6666666666666666,\"#ed7953\"],[0.7777777777777778,\"#fb9f3a\"],[0.8888888888888888,\"#fdca26\"],[1.0,\"#f0f921\"]]}],\"contourcarpet\":[{\"type\":\"contourcarpet\",\"colorbar\":{\"outlinewidth\":0,\"ticks\":\"\"}}],\"contour\":[{\"type\":\"contour\",\"colorbar\":{\"outlinewidth\":0,\"ticks\":\"\"},\"colorscale\":[[0.0,\"#0d0887\"],[0.1111111111111111,\"#46039f\"],[0.2222222222222222,\"#7201a8\"],[0.3333333333333333,\"#9c179e\"],[0.4444444444444444,\"#bd3786\"],[0.5555555555555556,\"#d8576b\"],[0.6666666666666666,\"#ed7953\"],[0.7777777777777778,\"#fb9f3a\"],[0.8888888888888888,\"#fdca26\"],[1.0,\"#f0f921\"]]}],\"surface\":[{\"type\":\"surface\",\"colorbar\":{\"outlinewidth\":0,\"ticks\":\"\"},\"colorscale\":[[0.0,\"#0d0887\"],[0.1111111111111111,\"#46039f\"],[0.2222222222222222,\"#7201a8\"],[0.3333333333333333,\"#9c179e\"],[0.4444444444444444,\"#bd3786\"],[0.5555555555555556,\"#d8576b\"],[0.6666666666666666,\"#ed7953\"],[0.7777777777777778,\"#fb9f3a\"],[0.8888888888888888,\"#fdca26\"],[1.0,\"#f0f921\"]]}],\"mesh3d\":[{\"type\":\"mesh3d\",\"colorbar\":{\"outlinewidth\":0,\"ticks\":\"\"}}],\"scatter\":[{\"fillpattern\":{\"fillmode\":\"overlay\",\"size\":10,\"solidity\":0.2},\"type\":\"scatter\"}],\"parcoords\":[{\"type\":\"parcoords\",\"line\":{\"colorbar\":{\"outlinewidth\":0,\"ticks\":\"\"}}}],\"scatterpolargl\":[{\"type\":\"scatterpolargl\",\"marker\":{\"colorbar\":{\"outlinewidth\":0,\"ticks\":\"\"}}}],\"bar\":[{\"error_x\":{\"color\":\"#2a3f5f\"},\"error_y\":{\"color\":\"#2a3f5f\"},\"marker\":{\"line\":{\"color\":\"#E5ECF6\",\"width\":0.5},\"pattern\":{\"fillmode\":\"overlay\",\"size\":10,\"solidity\":0.2}},\"type\":\"bar\"}],\"scattergeo\":[{\"type\":\"scattergeo\",\"marker\":{\"colorbar\":{\"outlinewidth\":0,\"ticks\":\"\"}}}],\"scatterpolar\":[{\"type\":\"scatterpolar\",\"marker\":{\"colorbar\":{\"outlinewidth\":0,\"ticks\":\"\"}}}],\"histogram\":[{\"marker\":{\"pattern\":{\"fillmode\":\"overlay\",\"size\":10,\"solidity\":0.2}},\"type\":\"histogram\"}],\"scattergl\":[{\"type\":\"scattergl\",\"marker\":{\"colorbar\":{\"outlinewidth\":0,\"ticks\":\"\"}}}],\"scatter3d\":[{\"type\":\"scatter3d\",\"line\":{\"colorbar\":{\"outlinewidth\":0,\"ticks\":\"\"}},\"marker\":{\"colorbar\":{\"outlinewidth\":0,\"ticks\":\"\"}}}],\"scattermapbox\":[{\"type\":\"scattermapbox\",\"marker\":{\"colorbar\":{\"outlinewidth\":0,\"ticks\":\"\"}}}],\"scatterternary\":[{\"type\":\"scatterternary\",\"marker\":{\"colorbar\":{\"outlinewidth\":0,\"ticks\":\"\"}}}],\"scattercarpet\":[{\"type\":\"scattercarpet\",\"marker\":{\"colorbar\":{\"outlinewidth\":0,\"ticks\":\"\"}}}],\"carpet\":[{\"aaxis\":{\"endlinecolor\":\"#2a3f5f\",\"gridcolor\":\"white\",\"linecolor\":\"white\",\"minorgridcolor\":\"white\",\"startlinecolor\":\"#2a3f5f\"},\"baxis\":{\"endlinecolor\":\"#2a3f5f\",\"gridcolor\":\"white\",\"linecolor\":\"white\",\"minorgridcolor\":\"white\",\"startlinecolor\":\"#2a3f5f\"},\"type\":\"carpet\"}],\"table\":[{\"cells\":{\"fill\":{\"color\":\"#EBF0F8\"},\"line\":{\"color\":\"white\"}},\"header\":{\"fill\":{\"color\":\"#C8D4E3\"},\"line\":{\"color\":\"white\"}},\"type\":\"table\"}],\"barpolar\":[{\"marker\":{\"line\":{\"color\":\"#E5ECF6\",\"width\":0.5},\"pattern\":{\"fillmode\":\"overlay\",\"size\":10,\"solidity\":0.2}},\"type\":\"barpolar\"}],\"pie\":[{\"automargin\":true,\"type\":\"pie\"}]},\"layout\":{\"autotypenumbers\":\"strict\",\"colorway\":[\"#636efa\",\"#EF553B\",\"#00cc96\",\"#ab63fa\",\"#FFA15A\",\"#19d3f3\",\"#FF6692\",\"#B6E880\",\"#FF97FF\",\"#FECB52\"],\"font\":{\"color\":\"#2a3f5f\"},\"hovermode\":\"closest\",\"hoverlabel\":{\"align\":\"left\"},\"paper_bgcolor\":\"white\",\"plot_bgcolor\":\"#E5ECF6\",\"polar\":{\"bgcolor\":\"#E5ECF6\",\"angularaxis\":{\"gridcolor\":\"white\",\"linecolor\":\"white\",\"ticks\":\"\"},\"radialaxis\":{\"gridcolor\":\"white\",\"linecolor\":\"white\",\"ticks\":\"\"}},\"ternary\":{\"bgcolor\":\"#E5ECF6\",\"aaxis\":{\"gridcolor\":\"white\",\"linecolor\":\"white\",\"ticks\":\"\"},\"baxis\":{\"gridcolor\":\"white\",\"linecolor\":\"white\",\"ticks\":\"\"},\"caxis\":{\"gridcolor\":\"white\",\"linecolor\":\"white\",\"ticks\":\"\"}},\"coloraxis\":{\"colorbar\":{\"outlinewidth\":0,\"ticks\":\"\"}},\"colorscale\":{\"sequential\":[[0.0,\"#0d0887\"],[0.1111111111111111,\"#46039f\"],[0.2222222222222222,\"#7201a8\"],[0.3333333333333333,\"#9c179e\"],[0.4444444444444444,\"#bd3786\"],[0.5555555555555556,\"#d8576b\"],[0.6666666666666666,\"#ed7953\"],[0.7777777777777778,\"#fb9f3a\"],[0.8888888888888888,\"#fdca26\"],[1.0,\"#f0f921\"]],\"sequentialminus\":[[0.0,\"#0d0887\"],[0.1111111111111111,\"#46039f\"],[0.2222222222222222,\"#7201a8\"],[0.3333333333333333,\"#9c179e\"],[0.4444444444444444,\"#bd3786\"],[0.5555555555555556,\"#d8576b\"],[0.6666666666666666,\"#ed7953\"],[0.7777777777777778,\"#fb9f3a\"],[0.8888888888888888,\"#fdca26\"],[1.0,\"#f0f921\"]],\"diverging\":[[0,\"#8e0152\"],[0.1,\"#c51b7d\"],[0.2,\"#de77ae\"],[0.3,\"#f1b6da\"],[0.4,\"#fde0ef\"],[0.5,\"#f7f7f7\"],[0.6,\"#e6f5d0\"],[0.7,\"#b8e186\"],[0.8,\"#7fbc41\"],[0.9,\"#4d9221\"],[1,\"#276419\"]]},\"xaxis\":{\"gridcolor\":\"white\",\"linecolor\":\"white\",\"ticks\":\"\",\"title\":{\"standoff\":15},\"zerolinecolor\":\"white\",\"automargin\":true,\"zerolinewidth\":2},\"yaxis\":{\"gridcolor\":\"white\",\"linecolor\":\"white\",\"ticks\":\"\",\"title\":{\"standoff\":15},\"zerolinecolor\":\"white\",\"automargin\":true,\"zerolinewidth\":2},\"scene\":{\"xaxis\":{\"backgroundcolor\":\"#E5ECF6\",\"gridcolor\":\"white\",\"linecolor\":\"white\",\"showbackground\":true,\"ticks\":\"\",\"zerolinecolor\":\"white\",\"gridwidth\":2},\"yaxis\":{\"backgroundcolor\":\"#E5ECF6\",\"gridcolor\":\"white\",\"linecolor\":\"white\",\"showbackground\":true,\"ticks\":\"\",\"zerolinecolor\":\"white\",\"gridwidth\":2},\"zaxis\":{\"backgroundcolor\":\"#E5ECF6\",\"gridcolor\":\"white\",\"linecolor\":\"white\",\"showbackground\":true,\"ticks\":\"\",\"zerolinecolor\":\"white\",\"gridwidth\":2}},\"shapedefaults\":{\"line\":{\"color\":\"#2a3f5f\"}},\"annotationdefaults\":{\"arrowcolor\":\"#2a3f5f\",\"arrowhead\":0,\"arrowwidth\":1},\"geo\":{\"bgcolor\":\"white\",\"landcolor\":\"#E5ECF6\",\"subunitcolor\":\"white\",\"showland\":true,\"showlakes\":true,\"lakecolor\":\"white\"},\"title\":{\"x\":0.05},\"mapbox\":{\"style\":\"light\"}}},\"yaxis\":{\"range\":[0,100],\"title\":{\"text\":\"Percent\"}},\"legend\":{\"xanchor\":\"right\",\"x\":1,\"title\":{\"text\":\"IN USA : \"}},\"margin\":{\"b\":0,\"t\":0,\"l\":0,\"r\":0},\"title\":{\"font\":{\"size\":14}},\"xaxis\":{\"title\":{\"text\":\"Year\"}},\"height\":350},                        {\"responsive\": true}                    ).then(function(){\n",
       "                            \n",
       "var gd = document.getElementById('c510e394-3ef2-423b-b02b-c1f28f3930d9');\n",
       "var x = new MutationObserver(function (mutations, observer) {{\n",
       "        var display = window.getComputedStyle(gd).display;\n",
       "        if (!display || display === 'none') {{\n",
       "            console.log([gd, 'removed!']);\n",
       "            Plotly.purge(gd);\n",
       "            observer.disconnect();\n",
       "        }}\n",
       "}});\n",
       "\n",
       "// Listen for the removal of the full notebook cells\n",
       "var notebookContainer = gd.closest('#notebook-container');\n",
       "if (notebookContainer) {{\n",
       "    x.observe(notebookContainer, {childList: true});\n",
       "}}\n",
       "\n",
       "// Listen for the clearing of the current output cell\n",
       "var outputEl = gd.closest('.output');\n",
       "if (outputEl) {{\n",
       "    x.observe(outputEl, {childList: true});\n",
       "}}\n",
       "\n",
       "                        })                };                });            </script>        </div>"
      ]
     },
     "metadata": {},
     "output_type": "display_data"
    }
   ],
   "source": [
    "def draw_MH_interview (country): \n",
    "\n",
    "   ############################################## Calculations #################################################\n",
    "   admit_ph_issue_in_interview  = prep_data[prep_data['tech_role_flag'] == 1 ][['year', 'country_work_in', 'admit_ph_issue_in_interview']]\\\n",
    "            .groupby(by = ['year', 'country_work_in'])\\\n",
    "            .size().reset_index().sort_values(by=['year','country_work_in']).rename(columns = {0 : 'no.samples'})\n",
    "   admit_mh_issue_in_interview  = prep_data[prep_data['tech_role_flag'] == 1 ][['year', 'country_work_in', 'admit_mh_issue_in_interview']]\\\n",
    "               .groupby(by = ['year', 'country_work_in'])\\\n",
    "               .size().reset_index().sort_values(by=['year','country_work_in']).rename(columns = {0 : 'no.samples'})\n",
    "\n",
    "   ####------------------- admit physical health problems in an interview -----------------####\n",
    "   #### Get the avarage of each country by its own (yes, no, maybe) / no.samples each years to avoid imbalance \n",
    "   ## build my dataframe\n",
    "   admit_ph_issue_in_interview_avg  = prep_data[(prep_data['tech_role_flag'] == 1 ) & ( np.isin(prep_data['country_work_in'], country))][['year', 'country_work_in', 'admit_ph_issue_in_interview']]\\\n",
    "               .groupby(by = ['year', 'country_work_in', 'admit_ph_issue_in_interview' ])\\\n",
    "               .size().reset_index().sort_values(by=['year','country_work_in']).rename(columns = {0 : 'count'})\n",
    "   admit_ph_issue_in_interview_avg['Avg'] = 0 \n",
    "   ## get the avarage for each country\n",
    "   for outer_row, outer_col in admit_ph_issue_in_interview.iterrows() :\n",
    "      avg_year = outer_col['year']\n",
    "      avg_country_work_in = outer_col['country_work_in']\n",
    "      no_samples = outer_col['no.samples']\n",
    "      for inside_row, inside_col in admit_ph_issue_in_interview_avg.iterrows() :\n",
    "         year = inside_col['year']\n",
    "         country_work_in = inside_col['country_work_in']\n",
    "         count = inside_col['count']\n",
    "         Avg = inside_col['Avg']\n",
    "         if year == avg_year and country_work_in == avg_country_work_in:\n",
    "               admit_ph_issue_in_interview_avg['Avg'][inside_row] = round((count / no_samples) * 100)\n",
    "   ## my responses for each country   \n",
    "   yes_for_ph = admit_ph_issue_in_interview_avg[admit_ph_issue_in_interview_avg['admit_ph_issue_in_interview'] == 2]\n",
    "   No_for_ph = admit_ph_issue_in_interview_avg[admit_ph_issue_in_interview_avg['admit_ph_issue_in_interview'] == 1]\n",
    "   maybe_for_ph = admit_ph_issue_in_interview_avg[admit_ph_issue_in_interview_avg['admit_ph_issue_in_interview'] == 0]\n",
    "\n",
    "   ####------------------ admit Mental health problems in an interview -------------------####\n",
    "\n",
    "   #### Get the avarage of each country by its own (yes, no, maybe) / no.samples each years to avoid imbalance \n",
    "   ## build my dataframe\n",
    "   admit_mh_issue_in_interview_avg  = prep_data[(prep_data['tech_role_flag'] == 1 ) & ( np.isin(prep_data['country_work_in'], country))][['year', 'country_work_in', 'admit_mh_issue_in_interview']]\\\n",
    "               .groupby(by = ['year', 'country_work_in', 'admit_mh_issue_in_interview' ])\\\n",
    "               .size().reset_index().sort_values(by=['year','country_work_in']).rename(columns = {0 : 'count'})\n",
    "   admit_mh_issue_in_interview_avg['Avg'] = 0 \n",
    "   ## get the avarage for each country\n",
    "   for outer_row, outer_col in admit_mh_issue_in_interview.iterrows() :\n",
    "      avg_year = outer_col['year']\n",
    "      avg_country_work_in = outer_col['country_work_in']\n",
    "      no_samples = outer_col['no.samples']\n",
    "      for inside_row, inside_col in admit_mh_issue_in_interview_avg.iterrows() :\n",
    "         year = inside_col['year']\n",
    "         country_work_in = inside_col['country_work_in']\n",
    "         count = inside_col['count']\n",
    "         Avg = inside_col['Avg']\n",
    "         if year == avg_year and country_work_in == avg_country_work_in:\n",
    "               admit_mh_issue_in_interview_avg['Avg'][inside_row] = round((count / no_samples) * 100)\n",
    "   ## my responses for each country   \n",
    "   yes_for_mh = admit_mh_issue_in_interview_avg[admit_mh_issue_in_interview_avg['admit_mh_issue_in_interview'] == 2]\n",
    "   No_for_mh = admit_mh_issue_in_interview_avg[admit_mh_issue_in_interview_avg['admit_mh_issue_in_interview'] == 1]\n",
    "   maybe_for_mh = admit_mh_issue_in_interview_avg[admit_mh_issue_in_interview_avg['admit_mh_issue_in_interview'] == 0]\n",
    "\n",
    "   ################################################## Plot  ####################################################\n",
    "   MH_interview = go.Figure()\n",
    "   MH_interview.add_trace(go.Scatter(x=yes_for_ph['year'], y=yes_for_ph['Avg'], name='Physical',\n",
    "                           line=dict(color='#622569', width=4)))\n",
    "   MH_interview.add_trace(go.Scatter(x=yes_for_mh['year'], y=yes_for_mh['Avg'], name='Mental',\n",
    "                           line=dict(color='#5b9aa0', width=4, dash='dash')))\n",
    "\n",
    "   MH_interview.update_yaxes(range = [0, 100])\n",
    "   MH_interview.update_layout(\n",
    "                     xaxis_title='Year',\n",
    "                     yaxis_title='Percent', \n",
    "                     legend=dict(xanchor = 'right', x = 1),\n",
    "                     legend_title = (f'IN {country} : '),\n",
    "                     margin=dict(b = 0, t = 0, l = 0, r = 0),\n",
    "                     title_font_size = 14,\n",
    "                     height = 350 \n",
    "                     )\n",
    "   return MH_interview\n",
    "draw_MH_interview (\"USA\")"
   ]
  },
  {
   "cell_type": "markdown",
   "metadata": {},
   "source": [
    "### Mental Health Resources Provided \n",
    "\n",
    "Does your employer offer resources to learn more about mental health disorders and options for seeking help? <br>\n",
    "Has your employer ever formally discussed mental health (for example, as part of a wellness campaign or other official communication)?"
   ]
  },
  {
   "cell_type": "code",
   "execution_count": 31,
   "metadata": {},
   "outputs": [
    {
     "data": {
      "text/html": [
       "<div>                            <div id=\"33885dac-8cd5-47c7-8baa-c5fe85181854\" class=\"plotly-graph-div\" style=\"height:400px; width:100%;\"></div>            <script type=\"text/javascript\">                require([\"plotly\"], function(Plotly) {                    window.PLOTLYENV=window.PLOTLYENV || {};                                    if (document.getElementById(\"33885dac-8cd5-47c7-8baa-c5fe85181854\")) {                    Plotly.newPlot(                        \"33885dac-8cd5-47c7-8baa-c5fe85181854\",                        [{\"hole\":0.6,\"labels\":[\"No\",\"I don't know\",\"Yes\"],\"pull\":[0,0,0.15,0],\"rotation\":30,\"values\":[0.4446227929373997,0.2552166934189406,0.3001605136436597],\"type\":\"pie\",\"marker\":{\"line\":{\"color\":\"#FFF\",\"width\":2},\"colors\":[\"#622569\",\"#b7d7e8\",\"#5b9aa0\"]},\"textfont\":{\"size\":12},\"title\":{\"text\":\"Resources Provided\",\"font\":{\"size\":15},\"position\":\"middle center\"},\"hoverinfo\":\"label+percent\"}],                        {\"template\":{\"data\":{\"histogram2dcontour\":[{\"type\":\"histogram2dcontour\",\"colorbar\":{\"outlinewidth\":0,\"ticks\":\"\"},\"colorscale\":[[0.0,\"#0d0887\"],[0.1111111111111111,\"#46039f\"],[0.2222222222222222,\"#7201a8\"],[0.3333333333333333,\"#9c179e\"],[0.4444444444444444,\"#bd3786\"],[0.5555555555555556,\"#d8576b\"],[0.6666666666666666,\"#ed7953\"],[0.7777777777777778,\"#fb9f3a\"],[0.8888888888888888,\"#fdca26\"],[1.0,\"#f0f921\"]]}],\"choropleth\":[{\"type\":\"choropleth\",\"colorbar\":{\"outlinewidth\":0,\"ticks\":\"\"}}],\"histogram2d\":[{\"type\":\"histogram2d\",\"colorbar\":{\"outlinewidth\":0,\"ticks\":\"\"},\"colorscale\":[[0.0,\"#0d0887\"],[0.1111111111111111,\"#46039f\"],[0.2222222222222222,\"#7201a8\"],[0.3333333333333333,\"#9c179e\"],[0.4444444444444444,\"#bd3786\"],[0.5555555555555556,\"#d8576b\"],[0.6666666666666666,\"#ed7953\"],[0.7777777777777778,\"#fb9f3a\"],[0.8888888888888888,\"#fdca26\"],[1.0,\"#f0f921\"]]}],\"heatmap\":[{\"type\":\"heatmap\",\"colorbar\":{\"outlinewidth\":0,\"ticks\":\"\"},\"colorscale\":[[0.0,\"#0d0887\"],[0.1111111111111111,\"#46039f\"],[0.2222222222222222,\"#7201a8\"],[0.3333333333333333,\"#9c179e\"],[0.4444444444444444,\"#bd3786\"],[0.5555555555555556,\"#d8576b\"],[0.6666666666666666,\"#ed7953\"],[0.7777777777777778,\"#fb9f3a\"],[0.8888888888888888,\"#fdca26\"],[1.0,\"#f0f921\"]]}],\"heatmapgl\":[{\"type\":\"heatmapgl\",\"colorbar\":{\"outlinewidth\":0,\"ticks\":\"\"},\"colorscale\":[[0.0,\"#0d0887\"],[0.1111111111111111,\"#46039f\"],[0.2222222222222222,\"#7201a8\"],[0.3333333333333333,\"#9c179e\"],[0.4444444444444444,\"#bd3786\"],[0.5555555555555556,\"#d8576b\"],[0.6666666666666666,\"#ed7953\"],[0.7777777777777778,\"#fb9f3a\"],[0.8888888888888888,\"#fdca26\"],[1.0,\"#f0f921\"]]}],\"contourcarpet\":[{\"type\":\"contourcarpet\",\"colorbar\":{\"outlinewidth\":0,\"ticks\":\"\"}}],\"contour\":[{\"type\":\"contour\",\"colorbar\":{\"outlinewidth\":0,\"ticks\":\"\"},\"colorscale\":[[0.0,\"#0d0887\"],[0.1111111111111111,\"#46039f\"],[0.2222222222222222,\"#7201a8\"],[0.3333333333333333,\"#9c179e\"],[0.4444444444444444,\"#bd3786\"],[0.5555555555555556,\"#d8576b\"],[0.6666666666666666,\"#ed7953\"],[0.7777777777777778,\"#fb9f3a\"],[0.8888888888888888,\"#fdca26\"],[1.0,\"#f0f921\"]]}],\"surface\":[{\"type\":\"surface\",\"colorbar\":{\"outlinewidth\":0,\"ticks\":\"\"},\"colorscale\":[[0.0,\"#0d0887\"],[0.1111111111111111,\"#46039f\"],[0.2222222222222222,\"#7201a8\"],[0.3333333333333333,\"#9c179e\"],[0.4444444444444444,\"#bd3786\"],[0.5555555555555556,\"#d8576b\"],[0.6666666666666666,\"#ed7953\"],[0.7777777777777778,\"#fb9f3a\"],[0.8888888888888888,\"#fdca26\"],[1.0,\"#f0f921\"]]}],\"mesh3d\":[{\"type\":\"mesh3d\",\"colorbar\":{\"outlinewidth\":0,\"ticks\":\"\"}}],\"scatter\":[{\"fillpattern\":{\"fillmode\":\"overlay\",\"size\":10,\"solidity\":0.2},\"type\":\"scatter\"}],\"parcoords\":[{\"type\":\"parcoords\",\"line\":{\"colorbar\":{\"outlinewidth\":0,\"ticks\":\"\"}}}],\"scatterpolargl\":[{\"type\":\"scatterpolargl\",\"marker\":{\"colorbar\":{\"outlinewidth\":0,\"ticks\":\"\"}}}],\"bar\":[{\"error_x\":{\"color\":\"#2a3f5f\"},\"error_y\":{\"color\":\"#2a3f5f\"},\"marker\":{\"line\":{\"color\":\"#E5ECF6\",\"width\":0.5},\"pattern\":{\"fillmode\":\"overlay\",\"size\":10,\"solidity\":0.2}},\"type\":\"bar\"}],\"scattergeo\":[{\"type\":\"scattergeo\",\"marker\":{\"colorbar\":{\"outlinewidth\":0,\"ticks\":\"\"}}}],\"scatterpolar\":[{\"type\":\"scatterpolar\",\"marker\":{\"colorbar\":{\"outlinewidth\":0,\"ticks\":\"\"}}}],\"histogram\":[{\"marker\":{\"pattern\":{\"fillmode\":\"overlay\",\"size\":10,\"solidity\":0.2}},\"type\":\"histogram\"}],\"scattergl\":[{\"type\":\"scattergl\",\"marker\":{\"colorbar\":{\"outlinewidth\":0,\"ticks\":\"\"}}}],\"scatter3d\":[{\"type\":\"scatter3d\",\"line\":{\"colorbar\":{\"outlinewidth\":0,\"ticks\":\"\"}},\"marker\":{\"colorbar\":{\"outlinewidth\":0,\"ticks\":\"\"}}}],\"scattermapbox\":[{\"type\":\"scattermapbox\",\"marker\":{\"colorbar\":{\"outlinewidth\":0,\"ticks\":\"\"}}}],\"scatterternary\":[{\"type\":\"scatterternary\",\"marker\":{\"colorbar\":{\"outlinewidth\":0,\"ticks\":\"\"}}}],\"scattercarpet\":[{\"type\":\"scattercarpet\",\"marker\":{\"colorbar\":{\"outlinewidth\":0,\"ticks\":\"\"}}}],\"carpet\":[{\"aaxis\":{\"endlinecolor\":\"#2a3f5f\",\"gridcolor\":\"white\",\"linecolor\":\"white\",\"minorgridcolor\":\"white\",\"startlinecolor\":\"#2a3f5f\"},\"baxis\":{\"endlinecolor\":\"#2a3f5f\",\"gridcolor\":\"white\",\"linecolor\":\"white\",\"minorgridcolor\":\"white\",\"startlinecolor\":\"#2a3f5f\"},\"type\":\"carpet\"}],\"table\":[{\"cells\":{\"fill\":{\"color\":\"#EBF0F8\"},\"line\":{\"color\":\"white\"}},\"header\":{\"fill\":{\"color\":\"#C8D4E3\"},\"line\":{\"color\":\"white\"}},\"type\":\"table\"}],\"barpolar\":[{\"marker\":{\"line\":{\"color\":\"#E5ECF6\",\"width\":0.5},\"pattern\":{\"fillmode\":\"overlay\",\"size\":10,\"solidity\":0.2}},\"type\":\"barpolar\"}],\"pie\":[{\"automargin\":true,\"type\":\"pie\"}]},\"layout\":{\"autotypenumbers\":\"strict\",\"colorway\":[\"#636efa\",\"#EF553B\",\"#00cc96\",\"#ab63fa\",\"#FFA15A\",\"#19d3f3\",\"#FF6692\",\"#B6E880\",\"#FF97FF\",\"#FECB52\"],\"font\":{\"color\":\"#2a3f5f\"},\"hovermode\":\"closest\",\"hoverlabel\":{\"align\":\"left\"},\"paper_bgcolor\":\"white\",\"plot_bgcolor\":\"#E5ECF6\",\"polar\":{\"bgcolor\":\"#E5ECF6\",\"angularaxis\":{\"gridcolor\":\"white\",\"linecolor\":\"white\",\"ticks\":\"\"},\"radialaxis\":{\"gridcolor\":\"white\",\"linecolor\":\"white\",\"ticks\":\"\"}},\"ternary\":{\"bgcolor\":\"#E5ECF6\",\"aaxis\":{\"gridcolor\":\"white\",\"linecolor\":\"white\",\"ticks\":\"\"},\"baxis\":{\"gridcolor\":\"white\",\"linecolor\":\"white\",\"ticks\":\"\"},\"caxis\":{\"gridcolor\":\"white\",\"linecolor\":\"white\",\"ticks\":\"\"}},\"coloraxis\":{\"colorbar\":{\"outlinewidth\":0,\"ticks\":\"\"}},\"colorscale\":{\"sequential\":[[0.0,\"#0d0887\"],[0.1111111111111111,\"#46039f\"],[0.2222222222222222,\"#7201a8\"],[0.3333333333333333,\"#9c179e\"],[0.4444444444444444,\"#bd3786\"],[0.5555555555555556,\"#d8576b\"],[0.6666666666666666,\"#ed7953\"],[0.7777777777777778,\"#fb9f3a\"],[0.8888888888888888,\"#fdca26\"],[1.0,\"#f0f921\"]],\"sequentialminus\":[[0.0,\"#0d0887\"],[0.1111111111111111,\"#46039f\"],[0.2222222222222222,\"#7201a8\"],[0.3333333333333333,\"#9c179e\"],[0.4444444444444444,\"#bd3786\"],[0.5555555555555556,\"#d8576b\"],[0.6666666666666666,\"#ed7953\"],[0.7777777777777778,\"#fb9f3a\"],[0.8888888888888888,\"#fdca26\"],[1.0,\"#f0f921\"]],\"diverging\":[[0,\"#8e0152\"],[0.1,\"#c51b7d\"],[0.2,\"#de77ae\"],[0.3,\"#f1b6da\"],[0.4,\"#fde0ef\"],[0.5,\"#f7f7f7\"],[0.6,\"#e6f5d0\"],[0.7,\"#b8e186\"],[0.8,\"#7fbc41\"],[0.9,\"#4d9221\"],[1,\"#276419\"]]},\"xaxis\":{\"gridcolor\":\"white\",\"linecolor\":\"white\",\"ticks\":\"\",\"title\":{\"standoff\":15},\"zerolinecolor\":\"white\",\"automargin\":true,\"zerolinewidth\":2},\"yaxis\":{\"gridcolor\":\"white\",\"linecolor\":\"white\",\"ticks\":\"\",\"title\":{\"standoff\":15},\"zerolinecolor\":\"white\",\"automargin\":true,\"zerolinewidth\":2},\"scene\":{\"xaxis\":{\"backgroundcolor\":\"#E5ECF6\",\"gridcolor\":\"white\",\"linecolor\":\"white\",\"showbackground\":true,\"ticks\":\"\",\"zerolinecolor\":\"white\",\"gridwidth\":2},\"yaxis\":{\"backgroundcolor\":\"#E5ECF6\",\"gridcolor\":\"white\",\"linecolor\":\"white\",\"showbackground\":true,\"ticks\":\"\",\"zerolinecolor\":\"white\",\"gridwidth\":2},\"zaxis\":{\"backgroundcolor\":\"#E5ECF6\",\"gridcolor\":\"white\",\"linecolor\":\"white\",\"showbackground\":true,\"ticks\":\"\",\"zerolinecolor\":\"white\",\"gridwidth\":2}},\"shapedefaults\":{\"line\":{\"color\":\"#2a3f5f\"}},\"annotationdefaults\":{\"arrowcolor\":\"#2a3f5f\",\"arrowhead\":0,\"arrowwidth\":1},\"geo\":{\"bgcolor\":\"white\",\"landcolor\":\"#E5ECF6\",\"subunitcolor\":\"white\",\"showland\":true,\"showlakes\":true,\"lakecolor\":\"white\"},\"title\":{\"x\":0.05},\"mapbox\":{\"style\":\"light\"}}},\"legend\":{\"orientation\":\"h\",\"yanchor\":\"bottom\",\"y\":0,\"xanchor\":\"center\",\"x\":0.5},\"margin\":{\"t\":0,\"b\":0,\"l\":0,\"r\":0},\"height\":400},                        {\"responsive\": true}                    ).then(function(){\n",
       "                            \n",
       "var gd = document.getElementById('33885dac-8cd5-47c7-8baa-c5fe85181854');\n",
       "var x = new MutationObserver(function (mutations, observer) {{\n",
       "        var display = window.getComputedStyle(gd).display;\n",
       "        if (!display || display === 'none') {{\n",
       "            console.log([gd, 'removed!']);\n",
       "            Plotly.purge(gd);\n",
       "            observer.disconnect();\n",
       "        }}\n",
       "}});\n",
       "\n",
       "// Listen for the removal of the full notebook cells\n",
       "var notebookContainer = gd.closest('#notebook-container');\n",
       "if (notebookContainer) {{\n",
       "    x.observe(notebookContainer, {childList: true});\n",
       "}}\n",
       "\n",
       "// Listen for the clearing of the current output cell\n",
       "var outputEl = gd.closest('.output');\n",
       "if (outputEl) {{\n",
       "    x.observe(outputEl, {childList: true});\n",
       "}}\n",
       "\n",
       "                        })                };                });            </script>        </div>"
      ]
     },
     "metadata": {},
     "output_type": "display_data"
    }
   ],
   "source": [
    "# -----------------mh_resources_provided -----------------\n",
    "def draw_mh_resources_provided_plt(country):\n",
    "        all_responses = prep_data[prep_data['tech_role_flag'] == 1]['mh_resources_provided'].count()\n",
    "        dntKnow = prep_data[(prep_data['tech_role_flag'] == 1) & (prep_data['mh_resources_provided'] == 0) & ( np.isin(prep_data['country_work_in'], country))]['mh_resources_provided'].count()\n",
    "        no = prep_data[(prep_data['tech_role_flag'] == 1) & (prep_data['mh_resources_provided'] == 1) & ( np.isin(prep_data['country_work_in'], country))]['mh_resources_provided'].count()\n",
    "        yes = prep_data[(prep_data['tech_role_flag'] == 1) & (prep_data['mh_resources_provided'] == 2) & ( np.isin(prep_data['country_work_in'], country))]['mh_resources_provided'].count()\n",
    "        labels = ['No', \"I don't know\", 'Yes']\n",
    "        # colors = ['#9666FF', '#F89640', '#F0F921']\n",
    "        colors = ['#622569', '#b7d7e8', '#5b9aa0' ]\n",
    "\n",
    "        sizes = [no/all_responses, dntKnow/all_responses, yes/all_responses]\n",
    "\n",
    "        mh_resources_provided_plt = go.Figure(data=[go.Pie(labels = labels, values=sizes, hole = 0.6, pull=[0, 0, 0.15, 0], rotation = 30)])\n",
    "\n",
    "        mh_resources_provided_plt.update_traces(title = 'Resources Provided',\n",
    "                                                marker=dict(colors=colors,\n",
    "                                                line=dict(color='#FFF', width=2)),\n",
    "                                                hoverinfo='label+percent',\n",
    "                                                textfont_size=12,\n",
    "                                                title_font_size = 15, \n",
    "                                                title_position = \"middle center\")\n",
    "        mh_resources_provided_plt.update_layout(legend=dict(orientation=\"h\", yanchor=\"bottom\", y=0, xanchor=\"center\", x=0.5),\n",
    "                                                margin=dict(t = 0, b=0, l = 0, r = 0),\n",
    "                                                height = 400\n",
    "                                                )\n",
    "        return mh_resources_provided_plt\n",
    "\n",
    "draw_mh_resources_provided_plt(country)"
   ]
  },
  {
   "cell_type": "markdown",
   "metadata": {
    "id": "7M5CqTg6KpEG"
   },
   "source": [
    "#### Bar chart for yes responses Vs years years\n",
    "ph_employer_rate\n",
    "mh_employer_rate"
   ]
  },
  {
   "cell_type": "code",
   "execution_count": 32,
   "metadata": {
    "executionInfo": {
     "elapsed": 61,
     "status": "aborted",
     "timestamp": 1654337002855,
     "user": {
      "displayName": "habiba mohamed",
      "userId": "01346726008568088997"
     },
     "user_tz": -120
    },
    "id": "0wta2vKuKpEG"
   },
   "outputs": [
    {
     "data": {
      "text/html": [
       "<div>\n",
       "<style scoped>\n",
       "    .dataframe tbody tr th:only-of-type {\n",
       "        vertical-align: middle;\n",
       "    }\n",
       "\n",
       "    .dataframe tbody tr th {\n",
       "        vertical-align: top;\n",
       "    }\n",
       "\n",
       "    .dataframe thead th {\n",
       "        text-align: right;\n",
       "    }\n",
       "</style>\n",
       "<table border=\"1\" class=\"dataframe\">\n",
       "  <thead>\n",
       "    <tr style=\"text-align: right;\">\n",
       "      <th></th>\n",
       "      <th>country_work_in</th>\n",
       "      <th>no.samples</th>\n",
       "    </tr>\n",
       "  </thead>\n",
       "  <tbody>\n",
       "    <tr>\n",
       "      <th>0</th>\n",
       "      <td>Canada</td>\n",
       "      <td>48</td>\n",
       "    </tr>\n",
       "    <tr>\n",
       "      <th>1</th>\n",
       "      <td>Germany</td>\n",
       "      <td>35</td>\n",
       "    </tr>\n",
       "    <tr>\n",
       "      <th>2</th>\n",
       "      <td>India</td>\n",
       "      <td>51</td>\n",
       "    </tr>\n",
       "    <tr>\n",
       "      <th>3</th>\n",
       "      <td>UK</td>\n",
       "      <td>110</td>\n",
       "    </tr>\n",
       "    <tr>\n",
       "      <th>4</th>\n",
       "      <td>USA</td>\n",
       "      <td>1002</td>\n",
       "    </tr>\n",
       "  </tbody>\n",
       "</table>\n",
       "</div>"
      ],
      "text/plain": [
       "  country_work_in  no.samples\n",
       "0          Canada          48\n",
       "1         Germany          35\n",
       "2           India          51\n",
       "3              UK         110\n",
       "4             USA        1002"
      ]
     },
     "execution_count": 32,
     "metadata": {},
     "output_type": "execute_result"
    }
   ],
   "source": [
    "sample_size_by_country  = prep_data[prep_data['tech_role_flag'] == 1 ][['country_work_in']]\\\n",
    "                          .groupby(by = ['country_work_in'])\\\n",
    "                          .size().reset_index().rename(columns = {0 : 'no.samples'})\n",
    "sample_size_by_country"
   ]
  },
  {
   "cell_type": "markdown",
   "metadata": {
    "id": "sfYo6SheKpEC"
   },
   "source": [
    "### Rating in all Countries Vs years "
   ]
  },
  {
   "cell_type": "code",
   "execution_count": 33,
   "metadata": {},
   "outputs": [],
   "source": [
    "employer_rate  = prep_data[(prep_data['tech_role_flag'] == 1 ) & ( np.isin(prep_data['country_work_in'], country))][['country_work_in', 'ph_employer_rate', 'mh_employer_rate']]\n",
    "employer_Ph_rate = employer_rate.groupby(by = ['ph_employer_rate']).size().reset_index().rename(columns = {0 : 'count'})\n",
    "employer_mh_rate = employer_rate.groupby(by = ['mh_employer_rate']).size().reset_index().rename(columns = {0 : 'count'}) "
   ]
  },
  {
   "cell_type": "code",
   "execution_count": 34,
   "metadata": {},
   "outputs": [
    {
     "data": {
      "text/html": [
       "<div>                            <div id=\"93618728-3611-47c2-8099-8f69fcbffa98\" class=\"plotly-graph-div\" style=\"height:525px; width:100%;\"></div>            <script type=\"text/javascript\">                require([\"plotly\"], function(Plotly) {                    window.PLOTLYENV=window.PLOTLYENV || {};                                    if (document.getElementById(\"93618728-3611-47c2-8099-8f69fcbffa98\")) {                    Plotly.newPlot(                        \"93618728-3611-47c2-8099-8f69fcbffa98\",                        [{\"line\":{\"color\":\"Blue\",\"width\":4},\"name\":\"Physical\",\"x\":[0.0,1.0,2.0,3.0,4.0,5.0,6.0,7.0,8.0,9.0,10.0],\"y\":[23,14,34,53,46,218,130,380,197,67,84],\"type\":\"scatter\"},{\"line\":{\"color\":\"orange\",\"dash\":\"dash\",\"width\":4},\"name\":\"Mental\",\"x\":[0.0,1.0,2.0,3.0,4.0,5.0,6.0,7.0,8.0,9.0,10.0],\"y\":[69,35,82,110,92,423,107,154,111,32,31],\"type\":\"scatter\"}],                        {\"template\":{\"data\":{\"histogram2dcontour\":[{\"type\":\"histogram2dcontour\",\"colorbar\":{\"outlinewidth\":0,\"ticks\":\"\"},\"colorscale\":[[0.0,\"#0d0887\"],[0.1111111111111111,\"#46039f\"],[0.2222222222222222,\"#7201a8\"],[0.3333333333333333,\"#9c179e\"],[0.4444444444444444,\"#bd3786\"],[0.5555555555555556,\"#d8576b\"],[0.6666666666666666,\"#ed7953\"],[0.7777777777777778,\"#fb9f3a\"],[0.8888888888888888,\"#fdca26\"],[1.0,\"#f0f921\"]]}],\"choropleth\":[{\"type\":\"choropleth\",\"colorbar\":{\"outlinewidth\":0,\"ticks\":\"\"}}],\"histogram2d\":[{\"type\":\"histogram2d\",\"colorbar\":{\"outlinewidth\":0,\"ticks\":\"\"},\"colorscale\":[[0.0,\"#0d0887\"],[0.1111111111111111,\"#46039f\"],[0.2222222222222222,\"#7201a8\"],[0.3333333333333333,\"#9c179e\"],[0.4444444444444444,\"#bd3786\"],[0.5555555555555556,\"#d8576b\"],[0.6666666666666666,\"#ed7953\"],[0.7777777777777778,\"#fb9f3a\"],[0.8888888888888888,\"#fdca26\"],[1.0,\"#f0f921\"]]}],\"heatmap\":[{\"type\":\"heatmap\",\"colorbar\":{\"outlinewidth\":0,\"ticks\":\"\"},\"colorscale\":[[0.0,\"#0d0887\"],[0.1111111111111111,\"#46039f\"],[0.2222222222222222,\"#7201a8\"],[0.3333333333333333,\"#9c179e\"],[0.4444444444444444,\"#bd3786\"],[0.5555555555555556,\"#d8576b\"],[0.6666666666666666,\"#ed7953\"],[0.7777777777777778,\"#fb9f3a\"],[0.8888888888888888,\"#fdca26\"],[1.0,\"#f0f921\"]]}],\"heatmapgl\":[{\"type\":\"heatmapgl\",\"colorbar\":{\"outlinewidth\":0,\"ticks\":\"\"},\"colorscale\":[[0.0,\"#0d0887\"],[0.1111111111111111,\"#46039f\"],[0.2222222222222222,\"#7201a8\"],[0.3333333333333333,\"#9c179e\"],[0.4444444444444444,\"#bd3786\"],[0.5555555555555556,\"#d8576b\"],[0.6666666666666666,\"#ed7953\"],[0.7777777777777778,\"#fb9f3a\"],[0.8888888888888888,\"#fdca26\"],[1.0,\"#f0f921\"]]}],\"contourcarpet\":[{\"type\":\"contourcarpet\",\"colorbar\":{\"outlinewidth\":0,\"ticks\":\"\"}}],\"contour\":[{\"type\":\"contour\",\"colorbar\":{\"outlinewidth\":0,\"ticks\":\"\"},\"colorscale\":[[0.0,\"#0d0887\"],[0.1111111111111111,\"#46039f\"],[0.2222222222222222,\"#7201a8\"],[0.3333333333333333,\"#9c179e\"],[0.4444444444444444,\"#bd3786\"],[0.5555555555555556,\"#d8576b\"],[0.6666666666666666,\"#ed7953\"],[0.7777777777777778,\"#fb9f3a\"],[0.8888888888888888,\"#fdca26\"],[1.0,\"#f0f921\"]]}],\"surface\":[{\"type\":\"surface\",\"colorbar\":{\"outlinewidth\":0,\"ticks\":\"\"},\"colorscale\":[[0.0,\"#0d0887\"],[0.1111111111111111,\"#46039f\"],[0.2222222222222222,\"#7201a8\"],[0.3333333333333333,\"#9c179e\"],[0.4444444444444444,\"#bd3786\"],[0.5555555555555556,\"#d8576b\"],[0.6666666666666666,\"#ed7953\"],[0.7777777777777778,\"#fb9f3a\"],[0.8888888888888888,\"#fdca26\"],[1.0,\"#f0f921\"]]}],\"mesh3d\":[{\"type\":\"mesh3d\",\"colorbar\":{\"outlinewidth\":0,\"ticks\":\"\"}}],\"scatter\":[{\"fillpattern\":{\"fillmode\":\"overlay\",\"size\":10,\"solidity\":0.2},\"type\":\"scatter\"}],\"parcoords\":[{\"type\":\"parcoords\",\"line\":{\"colorbar\":{\"outlinewidth\":0,\"ticks\":\"\"}}}],\"scatterpolargl\":[{\"type\":\"scatterpolargl\",\"marker\":{\"colorbar\":{\"outlinewidth\":0,\"ticks\":\"\"}}}],\"bar\":[{\"error_x\":{\"color\":\"#2a3f5f\"},\"error_y\":{\"color\":\"#2a3f5f\"},\"marker\":{\"line\":{\"color\":\"#E5ECF6\",\"width\":0.5},\"pattern\":{\"fillmode\":\"overlay\",\"size\":10,\"solidity\":0.2}},\"type\":\"bar\"}],\"scattergeo\":[{\"type\":\"scattergeo\",\"marker\":{\"colorbar\":{\"outlinewidth\":0,\"ticks\":\"\"}}}],\"scatterpolar\":[{\"type\":\"scatterpolar\",\"marker\":{\"colorbar\":{\"outlinewidth\":0,\"ticks\":\"\"}}}],\"histogram\":[{\"marker\":{\"pattern\":{\"fillmode\":\"overlay\",\"size\":10,\"solidity\":0.2}},\"type\":\"histogram\"}],\"scattergl\":[{\"type\":\"scattergl\",\"marker\":{\"colorbar\":{\"outlinewidth\":0,\"ticks\":\"\"}}}],\"scatter3d\":[{\"type\":\"scatter3d\",\"line\":{\"colorbar\":{\"outlinewidth\":0,\"ticks\":\"\"}},\"marker\":{\"colorbar\":{\"outlinewidth\":0,\"ticks\":\"\"}}}],\"scattermapbox\":[{\"type\":\"scattermapbox\",\"marker\":{\"colorbar\":{\"outlinewidth\":0,\"ticks\":\"\"}}}],\"scatterternary\":[{\"type\":\"scatterternary\",\"marker\":{\"colorbar\":{\"outlinewidth\":0,\"ticks\":\"\"}}}],\"scattercarpet\":[{\"type\":\"scattercarpet\",\"marker\":{\"colorbar\":{\"outlinewidth\":0,\"ticks\":\"\"}}}],\"carpet\":[{\"aaxis\":{\"endlinecolor\":\"#2a3f5f\",\"gridcolor\":\"white\",\"linecolor\":\"white\",\"minorgridcolor\":\"white\",\"startlinecolor\":\"#2a3f5f\"},\"baxis\":{\"endlinecolor\":\"#2a3f5f\",\"gridcolor\":\"white\",\"linecolor\":\"white\",\"minorgridcolor\":\"white\",\"startlinecolor\":\"#2a3f5f\"},\"type\":\"carpet\"}],\"table\":[{\"cells\":{\"fill\":{\"color\":\"#EBF0F8\"},\"line\":{\"color\":\"white\"}},\"header\":{\"fill\":{\"color\":\"#C8D4E3\"},\"line\":{\"color\":\"white\"}},\"type\":\"table\"}],\"barpolar\":[{\"marker\":{\"line\":{\"color\":\"#E5ECF6\",\"width\":0.5},\"pattern\":{\"fillmode\":\"overlay\",\"size\":10,\"solidity\":0.2}},\"type\":\"barpolar\"}],\"pie\":[{\"automargin\":true,\"type\":\"pie\"}]},\"layout\":{\"autotypenumbers\":\"strict\",\"colorway\":[\"#636efa\",\"#EF553B\",\"#00cc96\",\"#ab63fa\",\"#FFA15A\",\"#19d3f3\",\"#FF6692\",\"#B6E880\",\"#FF97FF\",\"#FECB52\"],\"font\":{\"color\":\"#2a3f5f\"},\"hovermode\":\"closest\",\"hoverlabel\":{\"align\":\"left\"},\"paper_bgcolor\":\"white\",\"plot_bgcolor\":\"#E5ECF6\",\"polar\":{\"bgcolor\":\"#E5ECF6\",\"angularaxis\":{\"gridcolor\":\"white\",\"linecolor\":\"white\",\"ticks\":\"\"},\"radialaxis\":{\"gridcolor\":\"white\",\"linecolor\":\"white\",\"ticks\":\"\"}},\"ternary\":{\"bgcolor\":\"#E5ECF6\",\"aaxis\":{\"gridcolor\":\"white\",\"linecolor\":\"white\",\"ticks\":\"\"},\"baxis\":{\"gridcolor\":\"white\",\"linecolor\":\"white\",\"ticks\":\"\"},\"caxis\":{\"gridcolor\":\"white\",\"linecolor\":\"white\",\"ticks\":\"\"}},\"coloraxis\":{\"colorbar\":{\"outlinewidth\":0,\"ticks\":\"\"}},\"colorscale\":{\"sequential\":[[0.0,\"#0d0887\"],[0.1111111111111111,\"#46039f\"],[0.2222222222222222,\"#7201a8\"],[0.3333333333333333,\"#9c179e\"],[0.4444444444444444,\"#bd3786\"],[0.5555555555555556,\"#d8576b\"],[0.6666666666666666,\"#ed7953\"],[0.7777777777777778,\"#fb9f3a\"],[0.8888888888888888,\"#fdca26\"],[1.0,\"#f0f921\"]],\"sequentialminus\":[[0.0,\"#0d0887\"],[0.1111111111111111,\"#46039f\"],[0.2222222222222222,\"#7201a8\"],[0.3333333333333333,\"#9c179e\"],[0.4444444444444444,\"#bd3786\"],[0.5555555555555556,\"#d8576b\"],[0.6666666666666666,\"#ed7953\"],[0.7777777777777778,\"#fb9f3a\"],[0.8888888888888888,\"#fdca26\"],[1.0,\"#f0f921\"]],\"diverging\":[[0,\"#8e0152\"],[0.1,\"#c51b7d\"],[0.2,\"#de77ae\"],[0.3,\"#f1b6da\"],[0.4,\"#fde0ef\"],[0.5,\"#f7f7f7\"],[0.6,\"#e6f5d0\"],[0.7,\"#b8e186\"],[0.8,\"#7fbc41\"],[0.9,\"#4d9221\"],[1,\"#276419\"]]},\"xaxis\":{\"gridcolor\":\"white\",\"linecolor\":\"white\",\"ticks\":\"\",\"title\":{\"standoff\":15},\"zerolinecolor\":\"white\",\"automargin\":true,\"zerolinewidth\":2},\"yaxis\":{\"gridcolor\":\"white\",\"linecolor\":\"white\",\"ticks\":\"\",\"title\":{\"standoff\":15},\"zerolinecolor\":\"white\",\"automargin\":true,\"zerolinewidth\":2},\"scene\":{\"xaxis\":{\"backgroundcolor\":\"#E5ECF6\",\"gridcolor\":\"white\",\"linecolor\":\"white\",\"showbackground\":true,\"ticks\":\"\",\"zerolinecolor\":\"white\",\"gridwidth\":2},\"yaxis\":{\"backgroundcolor\":\"#E5ECF6\",\"gridcolor\":\"white\",\"linecolor\":\"white\",\"showbackground\":true,\"ticks\":\"\",\"zerolinecolor\":\"white\",\"gridwidth\":2},\"zaxis\":{\"backgroundcolor\":\"#E5ECF6\",\"gridcolor\":\"white\",\"linecolor\":\"white\",\"showbackground\":true,\"ticks\":\"\",\"zerolinecolor\":\"white\",\"gridwidth\":2}},\"shapedefaults\":{\"line\":{\"color\":\"#2a3f5f\"}},\"annotationdefaults\":{\"arrowcolor\":\"#2a3f5f\",\"arrowhead\":0,\"arrowwidth\":1},\"geo\":{\"bgcolor\":\"white\",\"landcolor\":\"#E5ECF6\",\"subunitcolor\":\"white\",\"showland\":true,\"showlakes\":true,\"lakecolor\":\"white\"},\"title\":{\"x\":0.05},\"mapbox\":{\"style\":\"light\"}}},\"legend\":{\"xanchor\":\"right\",\"x\":1,\"title\":{\"text\":\"IN ['UK' 'USA' 'India' 'Germany' 'Canada'] : \"}},\"title\":{\"font\":{\"size\":14}},\"xaxis\":{\"title\":{\"text\":\"Year\"}},\"yaxis\":{\"title\":{\"text\":\"Count\"}}},                        {\"responsive\": true}                    ).then(function(){\n",
       "                            \n",
       "var gd = document.getElementById('93618728-3611-47c2-8099-8f69fcbffa98');\n",
       "var x = new MutationObserver(function (mutations, observer) {{\n",
       "        var display = window.getComputedStyle(gd).display;\n",
       "        if (!display || display === 'none') {{\n",
       "            console.log([gd, 'removed!']);\n",
       "            Plotly.purge(gd);\n",
       "            observer.disconnect();\n",
       "        }}\n",
       "}});\n",
       "\n",
       "// Listen for the removal of the full notebook cells\n",
       "var notebookContainer = gd.closest('#notebook-container');\n",
       "if (notebookContainer) {{\n",
       "    x.observe(notebookContainer, {childList: true});\n",
       "}}\n",
       "\n",
       "// Listen for the clearing of the current output cell\n",
       "var outputEl = gd.closest('.output');\n",
       "if (outputEl) {{\n",
       "    x.observe(outputEl, {childList: true});\n",
       "}}\n",
       "\n",
       "                        })                };                });            </script>        </div>"
      ]
     },
     "metadata": {},
     "output_type": "display_data"
    }
   ],
   "source": [
    "emp_place = go.Figure()\n",
    "emp_place.add_trace(go.Scatter(x=employer_Ph_rate['ph_employer_rate'], y=employer_Ph_rate['count'], name='Physical',\n",
    "                         line=dict(color='Blue', width=4)))\n",
    "emp_place.add_trace(go.Scatter(x=employer_mh_rate['mh_employer_rate'], y=employer_mh_rate['count'], name='Mental',\n",
    "                         line=dict(color='orange', width=4, dash='dash')))\n",
    "\n",
    "# fig.update_yaxes(range = [0, 10])\n",
    "emp_place.update_layout(\n",
    "                   xaxis_title='Year',\n",
    "                   yaxis_title='Count', \n",
    "                   legend=dict(xanchor = 'right', x = 1),\n",
    "                   legend_title = (f'IN {country} : '),\n",
    "                   title_font_size = 14,\n",
    "                   )\n",
    "emp_place.show()"
   ]
  },
  {
   "cell_type": "code",
   "execution_count": 35,
   "metadata": {},
   "outputs": [
    {
     "data": {
      "text/html": [
       "<div>                            <div id=\"d0a7451d-d94c-43c9-ac49-85714cbf8d70\" class=\"plotly-graph-div\" style=\"height:400px; width:100%;\"></div>            <script type=\"text/javascript\">                require([\"plotly\"], function(Plotly) {                    window.PLOTLYENV=window.PLOTLYENV || {};                                    if (document.getElementById(\"d0a7451d-d94c-43c9-ac49-85714cbf8d70\")) {                    Plotly.newPlot(                        \"d0a7451d-d94c-43c9-ac49-85714cbf8d70\",                        [{\"marker\":{\"color\":\"#622569\"},\"name\":\"Physical\",\"orientation\":\"h\",\"x\":[23,14,34,53,46,218,130,380,197,67,84],\"y\":[0.0,1.0,2.0,3.0,4.0,5.0,6.0,7.0,8.0,9.0,10.0],\"type\":\"bar\"},{\"marker\":{\"color\":\"#5b9aa0\"},\"name\":\"Mental\",\"orientation\":\"h\",\"x\":[69,35,82,110,92,423,107,154,111,32,31],\"y\":[0.0,1.0,2.0,3.0,4.0,5.0,6.0,7.0,8.0,9.0,10.0],\"type\":\"bar\"}],                        {\"template\":{\"data\":{\"histogram2dcontour\":[{\"type\":\"histogram2dcontour\",\"colorbar\":{\"outlinewidth\":0,\"ticks\":\"\"},\"colorscale\":[[0.0,\"#0d0887\"],[0.1111111111111111,\"#46039f\"],[0.2222222222222222,\"#7201a8\"],[0.3333333333333333,\"#9c179e\"],[0.4444444444444444,\"#bd3786\"],[0.5555555555555556,\"#d8576b\"],[0.6666666666666666,\"#ed7953\"],[0.7777777777777778,\"#fb9f3a\"],[0.8888888888888888,\"#fdca26\"],[1.0,\"#f0f921\"]]}],\"choropleth\":[{\"type\":\"choropleth\",\"colorbar\":{\"outlinewidth\":0,\"ticks\":\"\"}}],\"histogram2d\":[{\"type\":\"histogram2d\",\"colorbar\":{\"outlinewidth\":0,\"ticks\":\"\"},\"colorscale\":[[0.0,\"#0d0887\"],[0.1111111111111111,\"#46039f\"],[0.2222222222222222,\"#7201a8\"],[0.3333333333333333,\"#9c179e\"],[0.4444444444444444,\"#bd3786\"],[0.5555555555555556,\"#d8576b\"],[0.6666666666666666,\"#ed7953\"],[0.7777777777777778,\"#fb9f3a\"],[0.8888888888888888,\"#fdca26\"],[1.0,\"#f0f921\"]]}],\"heatmap\":[{\"type\":\"heatmap\",\"colorbar\":{\"outlinewidth\":0,\"ticks\":\"\"},\"colorscale\":[[0.0,\"#0d0887\"],[0.1111111111111111,\"#46039f\"],[0.2222222222222222,\"#7201a8\"],[0.3333333333333333,\"#9c179e\"],[0.4444444444444444,\"#bd3786\"],[0.5555555555555556,\"#d8576b\"],[0.6666666666666666,\"#ed7953\"],[0.7777777777777778,\"#fb9f3a\"],[0.8888888888888888,\"#fdca26\"],[1.0,\"#f0f921\"]]}],\"heatmapgl\":[{\"type\":\"heatmapgl\",\"colorbar\":{\"outlinewidth\":0,\"ticks\":\"\"},\"colorscale\":[[0.0,\"#0d0887\"],[0.1111111111111111,\"#46039f\"],[0.2222222222222222,\"#7201a8\"],[0.3333333333333333,\"#9c179e\"],[0.4444444444444444,\"#bd3786\"],[0.5555555555555556,\"#d8576b\"],[0.6666666666666666,\"#ed7953\"],[0.7777777777777778,\"#fb9f3a\"],[0.8888888888888888,\"#fdca26\"],[1.0,\"#f0f921\"]]}],\"contourcarpet\":[{\"type\":\"contourcarpet\",\"colorbar\":{\"outlinewidth\":0,\"ticks\":\"\"}}],\"contour\":[{\"type\":\"contour\",\"colorbar\":{\"outlinewidth\":0,\"ticks\":\"\"},\"colorscale\":[[0.0,\"#0d0887\"],[0.1111111111111111,\"#46039f\"],[0.2222222222222222,\"#7201a8\"],[0.3333333333333333,\"#9c179e\"],[0.4444444444444444,\"#bd3786\"],[0.5555555555555556,\"#d8576b\"],[0.6666666666666666,\"#ed7953\"],[0.7777777777777778,\"#fb9f3a\"],[0.8888888888888888,\"#fdca26\"],[1.0,\"#f0f921\"]]}],\"surface\":[{\"type\":\"surface\",\"colorbar\":{\"outlinewidth\":0,\"ticks\":\"\"},\"colorscale\":[[0.0,\"#0d0887\"],[0.1111111111111111,\"#46039f\"],[0.2222222222222222,\"#7201a8\"],[0.3333333333333333,\"#9c179e\"],[0.4444444444444444,\"#bd3786\"],[0.5555555555555556,\"#d8576b\"],[0.6666666666666666,\"#ed7953\"],[0.7777777777777778,\"#fb9f3a\"],[0.8888888888888888,\"#fdca26\"],[1.0,\"#f0f921\"]]}],\"mesh3d\":[{\"type\":\"mesh3d\",\"colorbar\":{\"outlinewidth\":0,\"ticks\":\"\"}}],\"scatter\":[{\"fillpattern\":{\"fillmode\":\"overlay\",\"size\":10,\"solidity\":0.2},\"type\":\"scatter\"}],\"parcoords\":[{\"type\":\"parcoords\",\"line\":{\"colorbar\":{\"outlinewidth\":0,\"ticks\":\"\"}}}],\"scatterpolargl\":[{\"type\":\"scatterpolargl\",\"marker\":{\"colorbar\":{\"outlinewidth\":0,\"ticks\":\"\"}}}],\"bar\":[{\"error_x\":{\"color\":\"#2a3f5f\"},\"error_y\":{\"color\":\"#2a3f5f\"},\"marker\":{\"line\":{\"color\":\"#E5ECF6\",\"width\":0.5},\"pattern\":{\"fillmode\":\"overlay\",\"size\":10,\"solidity\":0.2}},\"type\":\"bar\"}],\"scattergeo\":[{\"type\":\"scattergeo\",\"marker\":{\"colorbar\":{\"outlinewidth\":0,\"ticks\":\"\"}}}],\"scatterpolar\":[{\"type\":\"scatterpolar\",\"marker\":{\"colorbar\":{\"outlinewidth\":0,\"ticks\":\"\"}}}],\"histogram\":[{\"marker\":{\"pattern\":{\"fillmode\":\"overlay\",\"size\":10,\"solidity\":0.2}},\"type\":\"histogram\"}],\"scattergl\":[{\"type\":\"scattergl\",\"marker\":{\"colorbar\":{\"outlinewidth\":0,\"ticks\":\"\"}}}],\"scatter3d\":[{\"type\":\"scatter3d\",\"line\":{\"colorbar\":{\"outlinewidth\":0,\"ticks\":\"\"}},\"marker\":{\"colorbar\":{\"outlinewidth\":0,\"ticks\":\"\"}}}],\"scattermapbox\":[{\"type\":\"scattermapbox\",\"marker\":{\"colorbar\":{\"outlinewidth\":0,\"ticks\":\"\"}}}],\"scatterternary\":[{\"type\":\"scatterternary\",\"marker\":{\"colorbar\":{\"outlinewidth\":0,\"ticks\":\"\"}}}],\"scattercarpet\":[{\"type\":\"scattercarpet\",\"marker\":{\"colorbar\":{\"outlinewidth\":0,\"ticks\":\"\"}}}],\"carpet\":[{\"aaxis\":{\"endlinecolor\":\"#2a3f5f\",\"gridcolor\":\"white\",\"linecolor\":\"white\",\"minorgridcolor\":\"white\",\"startlinecolor\":\"#2a3f5f\"},\"baxis\":{\"endlinecolor\":\"#2a3f5f\",\"gridcolor\":\"white\",\"linecolor\":\"white\",\"minorgridcolor\":\"white\",\"startlinecolor\":\"#2a3f5f\"},\"type\":\"carpet\"}],\"table\":[{\"cells\":{\"fill\":{\"color\":\"#EBF0F8\"},\"line\":{\"color\":\"white\"}},\"header\":{\"fill\":{\"color\":\"#C8D4E3\"},\"line\":{\"color\":\"white\"}},\"type\":\"table\"}],\"barpolar\":[{\"marker\":{\"line\":{\"color\":\"#E5ECF6\",\"width\":0.5},\"pattern\":{\"fillmode\":\"overlay\",\"size\":10,\"solidity\":0.2}},\"type\":\"barpolar\"}],\"pie\":[{\"automargin\":true,\"type\":\"pie\"}]},\"layout\":{\"autotypenumbers\":\"strict\",\"colorway\":[\"#636efa\",\"#EF553B\",\"#00cc96\",\"#ab63fa\",\"#FFA15A\",\"#19d3f3\",\"#FF6692\",\"#B6E880\",\"#FF97FF\",\"#FECB52\"],\"font\":{\"color\":\"#2a3f5f\"},\"hovermode\":\"closest\",\"hoverlabel\":{\"align\":\"left\"},\"paper_bgcolor\":\"white\",\"plot_bgcolor\":\"#E5ECF6\",\"polar\":{\"bgcolor\":\"#E5ECF6\",\"angularaxis\":{\"gridcolor\":\"white\",\"linecolor\":\"white\",\"ticks\":\"\"},\"radialaxis\":{\"gridcolor\":\"white\",\"linecolor\":\"white\",\"ticks\":\"\"}},\"ternary\":{\"bgcolor\":\"#E5ECF6\",\"aaxis\":{\"gridcolor\":\"white\",\"linecolor\":\"white\",\"ticks\":\"\"},\"baxis\":{\"gridcolor\":\"white\",\"linecolor\":\"white\",\"ticks\":\"\"},\"caxis\":{\"gridcolor\":\"white\",\"linecolor\":\"white\",\"ticks\":\"\"}},\"coloraxis\":{\"colorbar\":{\"outlinewidth\":0,\"ticks\":\"\"}},\"colorscale\":{\"sequential\":[[0.0,\"#0d0887\"],[0.1111111111111111,\"#46039f\"],[0.2222222222222222,\"#7201a8\"],[0.3333333333333333,\"#9c179e\"],[0.4444444444444444,\"#bd3786\"],[0.5555555555555556,\"#d8576b\"],[0.6666666666666666,\"#ed7953\"],[0.7777777777777778,\"#fb9f3a\"],[0.8888888888888888,\"#fdca26\"],[1.0,\"#f0f921\"]],\"sequentialminus\":[[0.0,\"#0d0887\"],[0.1111111111111111,\"#46039f\"],[0.2222222222222222,\"#7201a8\"],[0.3333333333333333,\"#9c179e\"],[0.4444444444444444,\"#bd3786\"],[0.5555555555555556,\"#d8576b\"],[0.6666666666666666,\"#ed7953\"],[0.7777777777777778,\"#fb9f3a\"],[0.8888888888888888,\"#fdca26\"],[1.0,\"#f0f921\"]],\"diverging\":[[0,\"#8e0152\"],[0.1,\"#c51b7d\"],[0.2,\"#de77ae\"],[0.3,\"#f1b6da\"],[0.4,\"#fde0ef\"],[0.5,\"#f7f7f7\"],[0.6,\"#e6f5d0\"],[0.7,\"#b8e186\"],[0.8,\"#7fbc41\"],[0.9,\"#4d9221\"],[1,\"#276419\"]]},\"xaxis\":{\"gridcolor\":\"white\",\"linecolor\":\"white\",\"ticks\":\"\",\"title\":{\"standoff\":15},\"zerolinecolor\":\"white\",\"automargin\":true,\"zerolinewidth\":2},\"yaxis\":{\"gridcolor\":\"white\",\"linecolor\":\"white\",\"ticks\":\"\",\"title\":{\"standoff\":15},\"zerolinecolor\":\"white\",\"automargin\":true,\"zerolinewidth\":2},\"scene\":{\"xaxis\":{\"backgroundcolor\":\"#E5ECF6\",\"gridcolor\":\"white\",\"linecolor\":\"white\",\"showbackground\":true,\"ticks\":\"\",\"zerolinecolor\":\"white\",\"gridwidth\":2},\"yaxis\":{\"backgroundcolor\":\"#E5ECF6\",\"gridcolor\":\"white\",\"linecolor\":\"white\",\"showbackground\":true,\"ticks\":\"\",\"zerolinecolor\":\"white\",\"gridwidth\":2},\"zaxis\":{\"backgroundcolor\":\"#E5ECF6\",\"gridcolor\":\"white\",\"linecolor\":\"white\",\"showbackground\":true,\"ticks\":\"\",\"zerolinecolor\":\"white\",\"gridwidth\":2}},\"shapedefaults\":{\"line\":{\"color\":\"#2a3f5f\"}},\"annotationdefaults\":{\"arrowcolor\":\"#2a3f5f\",\"arrowhead\":0,\"arrowwidth\":1},\"geo\":{\"bgcolor\":\"white\",\"landcolor\":\"#E5ECF6\",\"subunitcolor\":\"white\",\"showland\":true,\"showlakes\":true,\"lakecolor\":\"white\"},\"title\":{\"x\":0.05},\"mapbox\":{\"style\":\"light\"}}},\"yaxis\":{\"type\":\"category\",\"title\":{\"text\":\"Rate\"}},\"legend\":{\"xanchor\":\"right\",\"x\":1},\"margin\":{\"t\":0,\"b\":0,\"l\":0,\"r\":0},\"barmode\":\"group\",\"xaxis\":{\"title\":{\"text\":\"Count\"}},\"height\":400},                        {\"responsive\": true}                    ).then(function(){\n",
       "                            \n",
       "var gd = document.getElementById('d0a7451d-d94c-43c9-ac49-85714cbf8d70');\n",
       "var x = new MutationObserver(function (mutations, observer) {{\n",
       "        var display = window.getComputedStyle(gd).display;\n",
       "        if (!display || display === 'none') {{\n",
       "            console.log([gd, 'removed!']);\n",
       "            Plotly.purge(gd);\n",
       "            observer.disconnect();\n",
       "        }}\n",
       "}});\n",
       "\n",
       "// Listen for the removal of the full notebook cells\n",
       "var notebookContainer = gd.closest('#notebook-container');\n",
       "if (notebookContainer) {{\n",
       "    x.observe(notebookContainer, {childList: true});\n",
       "}}\n",
       "\n",
       "// Listen for the clearing of the current output cell\n",
       "var outputEl = gd.closest('.output');\n",
       "if (outputEl) {{\n",
       "    x.observe(outputEl, {childList: true});\n",
       "}}\n",
       "\n",
       "                        })                };                });            </script>        </div>"
      ]
     },
     "metadata": {},
     "output_type": "display_data"
    }
   ],
   "source": [
    "def draw_curr_rate_by_country():\n",
    "    curr_rate_by_country = go.Figure(data=[\n",
    "        go.Bar(name=\"Physical\", y=employer_Ph_rate['ph_employer_rate'].unique(), x=employer_Ph_rate['count'], marker_color = '#622569', orientation='h'),\n",
    "        go.Bar(name='Mental', y=employer_mh_rate['mh_employer_rate'].unique(), x=employer_mh_rate['count'], marker_color = '#5b9aa0', orientation='h'),\n",
    "    ])\n",
    "    curr_rate_by_country.update_yaxes(type='category')\n",
    "    curr_rate_by_country.update_layout(\n",
    "        barmode='group', \n",
    "        xaxis_title=\"Count\",\n",
    "        yaxis_title=\"Rate\",\n",
    "        legend=dict(xanchor = 'right', x = 1),\n",
    "        margin=dict(t = 0, b=0, l = 0, r = 0),\n",
    "        height = 400,\n",
    "        )\n",
    "    return curr_rate_by_country\n",
    "draw_curr_rate_by_country()"
   ]
  },
  {
   "cell_type": "code",
   "execution_count": null,
   "metadata": {},
   "outputs": [],
   "source": []
  },
  {
   "cell_type": "markdown",
   "metadata": {},
   "source": [
    "# Finally The Dashboard"
   ]
  },
  {
   "cell_type": "code",
   "execution_count": 36,
   "metadata": {},
   "outputs": [],
   "source": [
    "import seaborn as sns\n",
    "import matplotlib as plt\n",
    "import plotly.express as px\n",
    "import pandas as pd\n",
    "from dash import Dash, html, dcc\n",
    "from jupyter_dash import JupyterDash\n",
    "from dash.dependencies import Input,Output,State\n",
    "import dash_bootstrap_components as dbc\n",
    "import numpy as np\n",
    "import dash"
   ]
  },
  {
   "cell_type": "code",
   "execution_count": 37,
   "metadata": {},
   "outputs": [],
   "source": [
    "Countries = ['USA', 'UK', 'India', 'Canada', 'Germany']"
   ]
  },
  {
   "cell_type": "code",
   "execution_count": 38,
   "metadata": {},
   "outputs": [
    {
     "name": "stdout",
     "output_type": "stream",
     "text": [
      "Dash app running on http://127.0.0.1:5051/\n"
     ]
    }
   ],
   "source": [
    "app = JupyterDash(__name__, external_stylesheets=[dbc.themes.BOOTSTRAP],\n",
    "                meta_tags=[{'name': 'viewport',\n",
    "                            'content': 'width=device-width, initial-scale=1.0'}]\n",
    "                )\n",
    "# Layout section\n",
    "app.layout = dbc.Container([\n",
    "    dbc.Row([\n",
    "            dbc.Container([\n",
    "                dbc.Row([\n",
    "                    dbc.Row([html.Img(src=\"assets/HEADER.JPG\")],style = {'width':'100%','background':'white'},className='',),\n",
    "               ]),\n",
    "            ]),\n",
    "        ################################################## General Information #################################################            \n",
    "        dbc.Container([\n",
    "            dbc.Row([\n",
    "               dbc.Row([\n",
    "                    dbc.Col([html.H2(\"General Information\",className='text-center divBorder p-2 m-1 font-weight-normal rounded',style={'font-family':'Calibri','background':'#b3dad7','color':'#525252'}),\n",
    "                            ],width = 12),]),\n",
    "               dbc.Row([\n",
    "                    ################################################## Gender Overview #################################################            \n",
    "                   dbc.Col([\n",
    "                       dbc.Card([\n",
    "                            dbc.CardHeader([\n",
    "                                dcc.Dropdown(id='dp1', multi=False, value='USA',options=[{'label':x, 'value':x}for x in Countries],\n",
    "                                            style={\"textTransform\": \"uppercase\",'border-color':'#b3dad7','background-color':'white','text-color':'white', 'width' : '250'},className = \"dropdown open\"),\n",
    "                            ],className ='bg-white mb-1'),\n",
    "                            dbc.CardBody([\n",
    "                                dcc.Graph(id='line-fig1', figure=draw_Techs_by_gender(country),className=' m-1',),]),\n",
    "                            dbc.CardFooter([html.H5(\"Gender Overview\", className=\"card-text\",style = {'color':'#525252'}),],className ='bg-white'),\n",
    "                       ],className='shadow rounded card p-3 text-center m-1',style={\"height\":\"32rem\" , \"border-color\":\"#808080\",\"border-width\": \"medium\"},),\n",
    "                   ],xs=12, sm=12, md=12, lg=3, xl=3),\n",
    "                    ############################################ Mental Health Problem Among Years #########################################            \n",
    "                   dbc.Col([\n",
    "                       dbc.Card([\n",
    "                           dbc.CardBody([\n",
    "                               dcc.Graph(figure=draw_MH_response_all_countries_Vs_years(),className=' m-1'),\n",
    "                           dbc.CardFooter([html.H5(\"Mental Health Problem Among Years\", className=\"card-text\",style = {'color':'#525252'}),],className ='bg-white'),\n",
    "                        ])\n",
    "                    ],className='shadow rounded card p-3 text-center m-1',style={\"height\":\"32rem\",\"border-color\":\"#696969\",\"border-width\": \"medium\"})\n",
    "                    ],xs=12, sm=12, md=12, lg=7, xl=7),\n",
    "                    ################################################## Information Cards #################################################            \n",
    "                   dbc.Col([\n",
    "                        dbc.Card([\n",
    "                            dbc.CardImg(src=\"/assets/mh.png\",className=\"align-self-center mt-4 mb-2\",style={'height':'22%', 'width':'50%'}),\n",
    "                            html.H3(\"970 Million\",className=\"card-text\",style = {'color':'#622569'}),\n",
    "                            html.P(\"Diagnosied With Mental Disorder \",className=\"card-text mb-3\",style = {'color':'#525252'},),\n",
    "                            dbc.CardImg(src=\"assets/pulse.png\",className=\"align-self-center mt-3\",style={'height':'20%', 'width':'50%'}),\n",
    "                            html.H3(\"90 Percent\",className=\"card-text\",style = {'color':'#C84678'}),\n",
    "                            html.P(\"Suicide Deaths Result from Mental Disorders\",className=\"card-text\",style = {'color':'#525252'},)], inverse=True,style={\"height\":\"32rem\",\"border-color\":\"#696969\",\"border-width\": \"medium\"},className=' mx-1 text-center my-1 p-2 shadow'),\n",
    "                    ],className=\"mb-1 \",xs=12, sm=12, md=12, lg=2, xl=2),\n",
    "                ], className = '',justify='center'),\n",
    "                ############################################################ Age #########################################################            \n",
    "                dbc.Row([\n",
    "                   dbc.Col([\n",
    "                        dbc.Card([\n",
    "                             dbc.CardHeader([\n",
    "                                dcc.Dropdown(id='dp2', multi=False, value='USA',options=[{'label':x, 'value':x}for x in Countries],\n",
    "                                    style={\"textTransform\": \"uppercase\",'border-color':'#b3dad7','background-color':'white','text-color':'white', 'width' : '250'},className = \"dropdown open\"),\n",
    "                             ],className ='bg-white mb-1'),                           \n",
    "                             dbc.CardBody([\n",
    "                                 dcc.Graph(id='line-fig2',figure=draw_Age_Vs_MH_prob_Vs_Country(country),className=' m-1',),]),\n",
    "                             dbc.CardFooter([html.H5(\"Age\", className=\"card-text\",style = {'color':'#525252'}),],className ='bg-white'),\n",
    "                         ],className='shadow rounded card p-3 text-center m-1',style={\"height\":\"32rem\" , \"border-color\":\"#696969\",\"border-width\": \"medium\"},),\n",
    "                 ],xs=12, sm=12, md=12, lg=6, xl=6),\n",
    "                ################################################## Currently have a mental health problem #################################################            \n",
    "                dbc.Col([\n",
    "                    dbc.Card([\n",
    "                        dbc.CardHeader([\n",
    "                            dcc.Dropdown(id='dp3', multi=False, value='USA',options=[{'label':x, 'value':x}for x in Countries],\n",
    "                                style={\"textTransform\": \"uppercase\",'border-color':'#b3dad7','background-color':'white','text-color':'white', 'width' : '250'},className = \"dropdown open\"),\n",
    "                              ],className ='bg-white mb-1'),                           \n",
    "                        dbc.CardBody([\n",
    "                            dcc.Graph(id='line-fig3', figure=draw_curr_mh_by_country_plt(country),className=' m-1',),]),\n",
    "                        dbc.CardFooter([html.H5(\"Currently have a mental health problem\", className=\"card-text\",style = {'color':'#525252'}),],className ='bg-white'),\n",
    "                   ],className='shadow rounded card p-3 text-center m-1',style={\"height\":\"32rem\", \"border-color\":\"#696969\",\"border-width\": \"medium\"},),\n",
    "               ],xs=12, sm=12, md=12, lg=6, xl=6),\n",
    "            ],),],style  = {'height':'20%'} , className = 'my-1',justify='center'),      \n",
    "        ],  className = 'mb-1',style  = {'height':'20%'}),\n",
    "    \n",
    "\n",
    "\n",
    "        ################################################## Are Companies Taking Seriously Mental Health ?############################################            \n",
    "        dbc.Container([\n",
    "            dbc.Row([\n",
    "                dbc.Row([\n",
    "                    dbc.Col([html.H2(\"Are Companies Taking Seriously Mental Health ?\",className='text-center divBorder p-2 m-1 font-weight-normal rounded',style={'font-family':'Calibri','background':'#b3dad7','color':'#525252'}), \n",
    "                    ],width=12)]),\n",
    "                dbc.Row([\n",
    "                    ################################################## Resource Provided ############################################            \n",
    "                    dbc.Col([ \n",
    "                        dbc.Card([\n",
    "                          dbc.CardHeader([\n",
    "                                dcc.Dropdown(id='dp4', multi=False, value='USA',options=[{'label':x, 'value':x}for x in Countries],\n",
    "                                    style={\"textTransform\": \"uppercase\",'border-color':'#b3dad7','background-color':'white','text-color':'white', 'width' : '250'},className = \"dropdown open\"),\n",
    "                          ],className ='bg-white mb-1'),\n",
    "                          dbc.CardBody([\n",
    "                              dcc.Graph(id='line-fig4', figure=draw_mh_resources_provided_plt(country),className=' m-1',),])\n",
    "                        ],className='shadow rounded card p-3 text-center m-1',style={\"height\":\"33rem\",\"border-color\":\"#696969\",\"border-width\": \"medium\"},),\n",
    "                    ],xs=12, sm=12, md=12, lg=3, xl=3),\n",
    "                    ################################################## Tech Industry Support Rate ############################################            \n",
    "                    dbc.Col([\n",
    "                        dbc.Card([\n",
    "                            dbc.CardBody([\n",
    "                                dcc.Graph(id='line-fig5', figure=draw_observation_map_among_world(),className=' m-1',),]),\n",
    "                            dbc.CardFooter([html.H5(\"Tech Industry Support Rate\", className=\"card-text\",style = {'color':'#525252'}),],className ='bg-white'),\n",
    "                        ],className='shadow rounded card p-3 text-center m-1',style={\"height\":\"33rem\",\"border-color\":\"#696969\",\"border-width\": \"medium\"},),\n",
    "                      ],xs=12, sm=12, md=12, lg=6, xl=6),\n",
    "                    ################################################## Importance of MH for Employer ############################################            \n",
    "                    dbc.Col([  \n",
    "                        dbc.Card([\n",
    "                            dbc.CardBody([\n",
    "                                dcc.Graph(id='line-fig6', figure=draw_curr_rate_by_country(),className=' m-1',),]),\n",
    "                            dbc.CardFooter([html.H5(\"Importance of MH for Employer\", className=\"card-text\",style = {'color':'#525252'},)],className ='bg-white'),\n",
    "                            ],className='shadow rounded card p-3 text-center m-1',style={\"height\":\"33rem\",\"border-color\":\"#696969\",\"border-width\": \"medium\"},),\n",
    "                    ],xs=12, sm=12, md=12, lg=3, xl=3),\n",
    "            ],),],style  = {'height':'20%'} , className = 'my-1',justify='center'),\n",
    "        ],  className = 'mb-2',style  = {'height':'20%'}),\n",
    "\n",
    "\n",
    "\n",
    "\n",
    "        ################################################## Would Mental Health Problem Affect My Career ? ############################################            \n",
    "         dbc.Container([\n",
    "             dbc.Row([\n",
    "                dbc.Row([\n",
    "                    dbc.Col([html.H2(\"Would Mental Health Problem Affect My Career ?\",className='text-center divBorder p-2 m-1 font-weight-normal rounded',style={'color':'white','font-family':'Calibri','background':'#b3dad7','color':'#525252'}),\n",
    "                    ],width=12),]),\n",
    "                dbc.Row([\n",
    "                    ################################## Physical/ Menta Health Pie Chart ##################################   \n",
    "                    dbc.Col([\n",
    "                         dbc.Card([\n",
    "                              dbc.CardHeader([\n",
    "                                    dcc.Dropdown(id='dp7', multi=False, value='USA',options=[{'label':x, 'value':x}for x in Countries],\n",
    "                                        style={\"textTransform\": \"uppercase\",'border-color':'#b3dad7','background-color':'white','text-color':'white', 'width' : '250'},className = \"dropdown open\"),\n",
    "                                    ],className ='bg-white mb-1'),                              \n",
    "                                    dbc.CardBody([\n",
    "                                            dcc.Graph(id='line-fig7', figure=draw_admit_ph_issue_in_interview_plt(country),className=' mb-1'),\n",
    "                                        ]),\n",
    "                                    dbc.CardFooter([\n",
    "                                    dbc.RadioItems(\n",
    "                                                id=\"radios\",\n",
    "                                                inputClassName=\"btn-check\",\n",
    "                                                labelClassName=\"btn align-middle btn-outline-secondary\",\n",
    "                                                labelCheckedClassName=\"active\",\n",
    "                                                label_style={'size':\"lg\",\"color\": \"#525252\",'border-color':'#525252','background-color':'white','font-family':'Calibri',' font-size': '2.5em'},\n",
    "                                                options=[\n",
    "                                                    {\"label\": \"Physical Health\", \"value\": 1},\n",
    "                                                    {\"label\": \"Mental Health\", \"value\": 2},],value=1,className ='btn-group rounded text-center nav-justified col12'),\n",
    "                                    ],className = 'bg-white  text-center m-1' , style = {'display': 'block'}),\n",
    "                            ],className='shadow rounded card p-3 text-center m-1',style={'display': 'block',\"height\":\"34rem\",\"border-color\":\"#525252\",\"border-width\": \"medium\"},),\n",
    "                    ],xs=12, sm=12, md=12, lg=3, xl=3),\n",
    "                     \n",
    "                    ################################## Admiting Physical/ Mental health issue in an interview ##################################   \n",
    "                    dbc.Col([\n",
    "                        dbc.Card([\n",
    "                            dbc.CardHeader([\n",
    "                                dcc.Dropdown(id='dp8', multi=False, value='USA',options=[{'label':x, 'value':x}for x in Countries],\n",
    "                                    style={\"textTransform\": \"uppercase\",'border-color':'#b3dad7','background-color':'white','text-color':'white', 'width' : '250'},className = \"dropdown open\"),\n",
    "                                ],className ='bg-white mb-1'),                                      \n",
    "                            dbc.CardBody([\n",
    "                               dcc.Graph(id='line-fig8',figure=draw_MH_interview(country),className=' m-1',)\n",
    "                            ]),\n",
    "                            dbc.CardFooter([html.H5(\"Admiting Physical/ Mental health issue in an interview\", className=\"card-text\",style = {'color':'#525252'}),],className ='bg-white'),\n",
    "                            ],className='shadow rounded card p-3 text-center m-1',style={\"height\":\"34rem\",\"border-color\":\"#525252\",\"border-width\": \"medium\"},),\n",
    "                    ],xs=12, sm=12, md=12, lg=5, xl=5),\n",
    "\n",
    "                    ################################## How to Improve MH In the Industry Thoughts ##################################   \n",
    "                    dbc.Col([\n",
    "                        dbc.Card([\n",
    "                            dbc.CardBody([dcc.Graph(id='wordcloud', figure=draw_world_cloud(), config={'displayModeBar': False})]),\n",
    "                            dbc.CardFooter([html.H5(\"How to Improve MH In the Industry Thoughts\", style = {'color':'#525252'}, className=\"card-text\"), ],className ='bg-white'),\n",
    "                        ],className='shadow rounded card p-3 text-center m-1',style={\"height\":\"34rem\",\"border-color\":\"#525252\",\"border-width\": \"medium\"},),\n",
    "                    ],xs=12, sm=12, md=12, lg=4, xl=4),\n",
    "                ]),\n",
    "            ],style  = {'height':'20%'} , className = 'my-2', justify='center')\n",
    "        ],className = 'my-2',style  = {'height':'20%'})\n",
    "\n",
    "     ],),\n",
    "\n",
    "],fluid=True,style={'font-family':'Calibri'},)\n",
    "\n",
    "##################################################call############################################            \n",
    "\n",
    "@app.callback(\n",
    "    Output('line-fig1', 'figure'),\n",
    "    Output('line-fig2', 'figure'),\n",
    "    Output('line-fig3', 'figure'),\n",
    "    Output('line-fig4', 'figure'),\n",
    "    Output('line-fig8', 'figure'),\n",
    "    Input('dp1','value'),\n",
    "    Input('dp2','value'),\n",
    "    Input('dp3','value'),\n",
    "    Input('dp4','value'),\n",
    "    Input('dp8','value'),\n",
    "     )\n",
    "def output_fig_part1(dp1,dp2,dp3,dp4,dp8):\n",
    "    fig1 = draw_Techs_by_gender(dp1)\n",
    "    fig2 =draw_Age_Vs_MH_prob_Vs_Country(dp2) \n",
    "    fig3 = draw_curr_mh_by_country_plt(dp3)\n",
    "    fig4 = draw_mh_resources_provided_plt(dp4)\n",
    "    fig8 = draw_MH_interview(dp8)\n",
    "\n",
    "    return fig1,fig2,fig3,fig4,fig8\n",
    "\n",
    "@app.callback(Output(\"line-fig7\", \"figure\"), [Input(\"radios\", \"value\"),Input('dp7','value')])\n",
    "def switch_button(at , dp7):\n",
    "    if at == 1:\n",
    "        return draw_admit_ph_issue_in_interview_plt(dp7)\n",
    "    elif at == 2:\n",
    "        return draw_admit_mh_issue_in_interview_plt(dp7)\n",
    "    return html.P(\"This shouldn't ever be displayed...\")\n",
    "\n",
    "\n",
    "\n",
    "\n",
    "\n",
    "if __name__ == '__main__':\n",
    "    app.run_server(debug=True, port=5051)"
   ]
  },
  {
   "cell_type": "code",
   "execution_count": null,
   "metadata": {},
   "outputs": [],
   "source": []
  }
 ],
 "metadata": {
  "colab": {
   "name": "data_preprocessing.ipynb",
   "provenance": []
  },
  "kernelspec": {
   "display_name": "Python 3",
   "language": "python",
   "name": "python3"
  },
  "language_info": {
   "codemirror_mode": {
    "name": "ipython",
    "version": 3
   },
   "file_extension": ".py",
   "mimetype": "text/x-python",
   "name": "python",
   "nbconvert_exporter": "python",
   "pygments_lexer": "ipython3",
   "version": "3.8.5"
  },
  "vscode": {
   "interpreter": {
    "hash": "6456470966aacefa388c68c9fe7d64bbc7d9820ea7c6886760c09cd5181e254c"
   }
  }
 },
 "nbformat": 4,
 "nbformat_minor": 1
}
