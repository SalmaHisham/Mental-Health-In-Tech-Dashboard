{
 "cells": [
  {
   "cell_type": "markdown",
   "metadata": {
    "id": "fxGA9jMLKpDu"
   },
   "source": [
    "#  Import Libraries"
   ]
  },
  {
   "cell_type": "code",
   "execution_count": 1,
   "metadata": {
    "colab": {
     "base_uri": "https://localhost:8080/",
     "height": 373
    },
    "executionInfo": {
     "elapsed": 1268,
     "status": "error",
     "timestamp": 1654337003170,
     "user": {
      "displayName": "habiba mohamed",
      "userId": "01346726008568088997"
     },
     "user_tz": -120
    },
    "id": "1EVaXlxhKpD0",
    "outputId": "066852e0-fe50-4abb-acbc-220fedbe70eb"
   },
   "outputs": [],
   "source": [
    "import pandas as pd\n",
    "import numpy as np\n",
    "import warnings\n",
    "warnings.filterwarnings('ignore')\n",
    "\n",
    "# for visualization\n",
    "from dash import Dash, html, dcc\n",
    "import plotly.express as px\n",
    "import matplotlib.pyplot as plt \n",
    "\n",
    "import pandas as pd\n",
    "import jupyter_dash\n",
    "from dash.dependencies import Input, Output, State\n",
    "import numpy as np \n",
    "import dash\n",
    "import dash_bootstrap_components as dbc\n",
    "from plotly.subplots import make_subplots\n",
    "import plotly.graph_objects as go\n",
    "import plotly.io as pio\n",
    "pio.renderers.default = \"notebook_connected\"\n"
   ]
  },
  {
   "cell_type": "markdown",
   "metadata": {
    "id": "N0K7yguwKpD1"
   },
   "source": [
    "# Prepare Data"
   ]
  },
  {
   "cell_type": "markdown",
   "metadata": {
    "id": "ziZKv_lhKpD2"
   },
   "source": [
    "### Read Data"
   ]
  },
  {
   "cell_type": "code",
   "execution_count": 2,
   "metadata": {
    "executionInfo": {
     "elapsed": 48,
     "status": "aborted",
     "timestamp": 1654337002829,
     "user": {
      "displayName": "habiba mohamed",
      "userId": "01346726008568088997"
     },
     "user_tz": -120
    },
    "id": "MhHO1k8VKpD2"
   },
   "outputs": [
    {
     "name": "stdout",
     "output_type": "stream",
     "text": [
      "survey_2017.columns =  124\n",
      "survey_2018.columns =  124\n",
      "survey_2019.columns =  83\n",
      "survey_2020.columns =  121\n"
     ]
    }
   ],
   "source": [
    "survey_2017 = pd.read_csv(\"data set\\OSMI Mental Health in Tech Survey 2017.csv\", na_values = np.nan)\n",
    "survey_2017['year'] = '2017'\n",
    "survey_2018 = pd.read_csv(\"data set\\OSMI Mental Health in Tech Survey 2018.csv\", na_values = np.nan)\n",
    "survey_2018['year'] = '2018'\n",
    "survey_2019 = pd.read_csv(\"data set\\OSMI Mental Health in Tech Survey 2019.csv\", na_values = np.nan)\n",
    "survey_2019['year'] = '2019'\n",
    "survey_2020 = pd.read_csv(\"data set\\OSMI Mental Health in Tech Survey 2020 .csv\", na_values = np.nan)\n",
    "survey_2020['year'] = '2020'\n",
    "survey_data_ls = [survey_2017, survey_2018, survey_2019, survey_2020]\n",
    "print(f\"survey_2017.columns =  {len(survey_2017.columns)}\")\n",
    "print(f\"survey_2018.columns =  {len(survey_2018.columns)}\")\n",
    "print(f\"survey_2019.columns =  {len(survey_2019.columns)}\")\n",
    "print(f\"survey_2020.columns =  {len(survey_2020.columns)}\")"
   ]
  },
  {
   "cell_type": "markdown",
   "metadata": {
    "id": "NsjKecKcKpD4"
   },
   "source": [
    "### Clean columns name and prepare data to be merged"
   ]
  },
  {
   "cell_type": "code",
   "execution_count": 3,
   "metadata": {
    "executionInfo": {
     "elapsed": 50,
     "status": "aborted",
     "timestamp": 1654337002831,
     "user": {
      "displayName": "habiba mohamed",
      "userId": "01346726008568088997"
     },
     "user_tz": -120
    },
    "id": "gaDs01NDKpD4"
   },
   "outputs": [],
   "source": [
    "import re as re\n",
    "def remove_tags(string):\n",
    "    result = re.sub('<.*?>|\\*','',string)\n",
    "    return result\n",
    "for survey in survey_data_ls:\n",
    "    renamed_cols = []\n",
    "    for i in range (len(survey.columns)):\n",
    "        renamed_cols.append(remove_tags(survey.columns[i]))\n",
    "    survey.columns = renamed_cols\n"
   ]
  },
  {
   "cell_type": "markdown",
   "metadata": {
    "id": "yKWkxVHRKpD5"
   },
   "source": [
    "### Merge Data"
   ]
  },
  {
   "cell_type": "code",
   "execution_count": 4,
   "metadata": {
    "executionInfo": {
     "elapsed": 49,
     "status": "aborted",
     "timestamp": 1654337002832,
     "user": {
      "displayName": "habiba mohamed",
      "userId": "01346726008568088997"
     },
     "user_tz": -120
    },
    "id": "gUQZVJVNKpD6"
   },
   "outputs": [
    {
     "name": "stdout",
     "output_type": "stream",
     "text": [
      "survey final columns =  25\n"
     ]
    }
   ],
   "source": [
    "important_feat =[\n",
    "\"Is your employer primarily a tech company/organization?\",\n",
    "\"Is your primary role within your company related to tech/IT?\",\n",
    "\"Does your employer provide mental health benefits as part of healthcare coverage?\",\n",
    "\"Has your employer ever formally discussed mental health (for example, as part of a wellness campaign or other official communication)?\",\n",
    "\"Does your employer offer resources to learn more about mental health disorders and options for seeking help?\",\n",
    "\"If a mental health issue prompted you to request a medical leave from work, how easy or difficult would it be to ask for that leave?\",\n",
    "\"Overall, how much importance does your employer place on physical health?\",\n",
    "\"Overall, how much importance does your employer place on mental health?\",\n",
    "\"Do you currently have a mental health disorder?\",\n",
    "\"Have you ever been diagnosed with a mental health disorder?\",\n",
    "\"What disorder(s) have you been diagnosed with?\",\n",
    "\"If possibly, what disorder(s) do you believe you have?\",\n",
    "\"Have you had a mental health disorder in the past?\",\n",
    "\"Do you have a family history of mental illness?\",\n",
    "\"If you have a mental health disorder, how often do you feel that it interferes with your work when being treated effectively?\",\n",
    "\"If you have a mental health disorder,how often do you feel that it interferes with your work when NOT* being treated effectively (i.e., when you are experiencing symptoms)?*\",\n",
    "\"Have your observations of how another individual who discussed a mental health issue made you less likely to reveal a mental health issue yourself in your current workplace?\",\n",
    "\"How wilm ling would you be to share with friends and family that you have a mental illness?\",\n",
    "\"Would you be willing to bring up a physical health issue with a potential employer in an interview?\",\n",
    "\"Would you bring up your mental health with a potential employer in an interview?\",\n",
    "\"Are you openly identified at work as a person with a mental health issue?\",\n",
    "\"Has being identified as a person with a mental health issue affected your career?\",\n",
    "\"How has it affected your career?\",\n",
    "\"If they knew you suffered from a mental health disorder, how do you think that your team members/co-workers would react?\",\n",
    "\"Have you observed or experienced a supportive or well handled response to a mental health issue in your current or previous workplace?\",\n",
    "\"Overall, how well do you think the tech industry supports employees with mental health issues?\",\n",
    "\"Briefly describe what you think the industry as a whole and/or employers could do to improve mental health support for employees.\",\n",
    "\"What is your age?\",\n",
    "\"What is your gender?\",\n",
    "\"What country do you live in?\",\n",
    "\"What country do you work in?\", \n",
    "'year']\n",
    "common_cols = (survey_2017.columns & survey_2020.columns & survey_2019.columns & survey_2018.columns & important_feat)\n",
    "survey = pd.concat([survey_2017[common_cols], survey_2018[common_cols], survey_2019[common_cols], survey_2020[common_cols]], axis=0)\n",
    "print(f\"survey final columns =  {len(survey.columns)}\")"
   ]
  },
  {
   "cell_type": "code",
   "execution_count": 5,
   "metadata": {},
   "outputs": [
    {
     "data": {
      "text/plain": [
       "Index(['Is your employer primarily a tech company/organization?',\n",
       "       'Is your primary role within your company related to tech/IT?',\n",
       "       'Has your employer ever formally discussed mental health (for example, as part of a wellness campaign or other official communication)?',\n",
       "       'Does your employer offer resources to learn more about mental health disorders and options for seeking help?',\n",
       "       'If a mental health issue prompted you to request a medical leave from work, how easy or difficult would it be to ask for that leave?',\n",
       "       'Overall, how much importance does your employer place on physical health?',\n",
       "       'Overall, how much importance does your employer place on mental health?',\n",
       "       'Do you currently have a mental health disorder?',\n",
       "       'Have you ever been diagnosed with a mental health disorder?',\n",
       "       'Have you had a mental health disorder in the past?',\n",
       "       'Do you have a family history of mental illness?',\n",
       "       'If you have a mental health disorder, how often do you feel that it interferes with your work when being treated effectively?',\n",
       "       'Have your observations of how another individual who discussed a mental health issue made you less likely to reveal a mental health issue yourself in your current workplace?',\n",
       "       'Would you be willing to bring up a physical health issue with a potential employer in an interview?',\n",
       "       'Would you bring up your mental health with a potential employer in an interview?',\n",
       "       'Are you openly identified at work as a person with a mental health issue?',\n",
       "       'Has being identified as a person with a mental health issue affected your career?',\n",
       "       'How has it affected your career?',\n",
       "       'Overall, how well do you think the tech industry supports employees with mental health issues?',\n",
       "       'Briefly describe what you think the industry as a whole and/or employers could do to improve mental health support for employees.',\n",
       "       'What is your age?', 'What is your gender?',\n",
       "       'What country do you live in?', 'What country do you work in?', 'year'],\n",
       "      dtype='object')"
      ]
     },
     "execution_count": 5,
     "metadata": {},
     "output_type": "execute_result"
    }
   ],
   "source": [
    "common_cols"
   ]
  },
  {
   "cell_type": "markdown",
   "metadata": {
    "id": "hAdUxTXeKpD7"
   },
   "source": [
    "# Data Pre-processing"
   ]
  },
  {
   "cell_type": "markdown",
   "metadata": {
    "id": "xuA_DyH8KpD7"
   },
   "source": [
    "### `01` Drop Nulls"
   ]
  },
  {
   "cell_type": "code",
   "execution_count": 6,
   "metadata": {
    "executionInfo": {
     "elapsed": 50,
     "status": "aborted",
     "timestamp": 1654337002833,
     "user": {
      "displayName": "habiba mohamed",
      "userId": "01346726008568088997"
     },
     "user_tz": -120
    },
    "id": "2GMqXnAiKpD8"
   },
   "outputs": [
    {
     "data": {
      "text/html": [
       "<div>\n",
       "<style scoped>\n",
       "    .dataframe tbody tr th:only-of-type {\n",
       "        vertical-align: middle;\n",
       "    }\n",
       "\n",
       "    .dataframe tbody tr th {\n",
       "        vertical-align: top;\n",
       "    }\n",
       "\n",
       "    .dataframe thead th {\n",
       "        text-align: right;\n",
       "    }\n",
       "</style>\n",
       "<table border=\"1\" class=\"dataframe\">\n",
       "  <thead>\n",
       "    <tr style=\"text-align: right;\">\n",
       "      <th></th>\n",
       "      <th>index</th>\n",
       "      <th>Nulls_Count</th>\n",
       "    </tr>\n",
       "  </thead>\n",
       "  <tbody>\n",
       "    <tr>\n",
       "      <th>0</th>\n",
       "      <td>How has it affected your career?</td>\n",
       "      <td>95.601173</td>\n",
       "    </tr>\n",
       "    <tr>\n",
       "      <th>1</th>\n",
       "      <td>Has being identified as a person with a mental...</td>\n",
       "      <td>87.976540</td>\n",
       "    </tr>\n",
       "    <tr>\n",
       "      <th>2</th>\n",
       "      <td>Have you ever been diagnosed with a mental hea...</td>\n",
       "      <td>58.181818</td>\n",
       "    </tr>\n",
       "    <tr>\n",
       "      <th>3</th>\n",
       "      <td>Briefly describe what you think the industry a...</td>\n",
       "      <td>30.850440</td>\n",
       "    </tr>\n",
       "    <tr>\n",
       "      <th>4</th>\n",
       "      <td>Have your observations of how another individu...</td>\n",
       "      <td>21.290323</td>\n",
       "    </tr>\n",
       "    <tr>\n",
       "      <th>5</th>\n",
       "      <td>Is your primary role within your company relat...</td>\n",
       "      <td>14.193548</td>\n",
       "    </tr>\n",
       "    <tr>\n",
       "      <th>6</th>\n",
       "      <td>Has your employer ever formally discussed ment...</td>\n",
       "      <td>14.193548</td>\n",
       "    </tr>\n",
       "    <tr>\n",
       "      <th>7</th>\n",
       "      <td>Does your employer offer resources to learn mo...</td>\n",
       "      <td>14.193548</td>\n",
       "    </tr>\n",
       "    <tr>\n",
       "      <th>8</th>\n",
       "      <td>If a mental health issue prompted you to reque...</td>\n",
       "      <td>14.193548</td>\n",
       "    </tr>\n",
       "    <tr>\n",
       "      <th>9</th>\n",
       "      <td>Overall, how much importance does your employe...</td>\n",
       "      <td>14.193548</td>\n",
       "    </tr>\n",
       "    <tr>\n",
       "      <th>10</th>\n",
       "      <td>Overall, how much importance does your employe...</td>\n",
       "      <td>14.193548</td>\n",
       "    </tr>\n",
       "    <tr>\n",
       "      <th>11</th>\n",
       "      <td>Is your employer primarily a tech company/orga...</td>\n",
       "      <td>14.193548</td>\n",
       "    </tr>\n",
       "    <tr>\n",
       "      <th>12</th>\n",
       "      <td>What is your gender?</td>\n",
       "      <td>1.348974</td>\n",
       "    </tr>\n",
       "    <tr>\n",
       "      <th>13</th>\n",
       "      <td>Have you had a mental health disorder in the p...</td>\n",
       "      <td>1.114370</td>\n",
       "    </tr>\n",
       "    <tr>\n",
       "      <th>14</th>\n",
       "      <td>What country do you work in?</td>\n",
       "      <td>0.117302</td>\n",
       "    </tr>\n",
       "    <tr>\n",
       "      <th>15</th>\n",
       "      <td>Are you openly identified at work as a person ...</td>\n",
       "      <td>0.117302</td>\n",
       "    </tr>\n",
       "    <tr>\n",
       "      <th>16</th>\n",
       "      <td>Overall, how well do you think the tech indust...</td>\n",
       "      <td>0.117302</td>\n",
       "    </tr>\n",
       "    <tr>\n",
       "      <th>17</th>\n",
       "      <td>What is your age?</td>\n",
       "      <td>0.117302</td>\n",
       "    </tr>\n",
       "    <tr>\n",
       "      <th>18</th>\n",
       "      <td>What country do you live in?</td>\n",
       "      <td>0.117302</td>\n",
       "    </tr>\n",
       "  </tbody>\n",
       "</table>\n",
       "</div>"
      ],
      "text/plain": [
       "                                                index  Nulls_Count\n",
       "0                    How has it affected your career?    95.601173\n",
       "1   Has being identified as a person with a mental...    87.976540\n",
       "2   Have you ever been diagnosed with a mental hea...    58.181818\n",
       "3   Briefly describe what you think the industry a...    30.850440\n",
       "4   Have your observations of how another individu...    21.290323\n",
       "5   Is your primary role within your company relat...    14.193548\n",
       "6   Has your employer ever formally discussed ment...    14.193548\n",
       "7   Does your employer offer resources to learn mo...    14.193548\n",
       "8   If a mental health issue prompted you to reque...    14.193548\n",
       "9   Overall, how much importance does your employe...    14.193548\n",
       "10  Overall, how much importance does your employe...    14.193548\n",
       "11  Is your employer primarily a tech company/orga...    14.193548\n",
       "12                               What is your gender?     1.348974\n",
       "13  Have you had a mental health disorder in the p...     1.114370\n",
       "14                       What country do you work in?     0.117302\n",
       "15  Are you openly identified at work as a person ...     0.117302\n",
       "16  Overall, how well do you think the tech indust...     0.117302\n",
       "17                                  What is your age?     0.117302\n",
       "18                       What country do you live in?     0.117302"
      ]
     },
     "execution_count": 6,
     "metadata": {},
     "output_type": "execute_result"
    }
   ],
   "source": [
    "nulls_df = ((survey.isnull().sum()/survey.shape[0])*100).sort_values(ascending=False).reset_index().rename(columns = { 0 : \"Nulls_Count\"})\n",
    "nulls_df[nulls_df['Nulls_Count'] > 0]"
   ]
  },
  {
   "cell_type": "code",
   "execution_count": 7,
   "metadata": {
    "executionInfo": {
     "elapsed": 51,
     "status": "aborted",
     "timestamp": 1654337002834,
     "user": {
      "displayName": "habiba mohamed",
      "userId": "01346726008568088997"
     },
     "user_tz": -120
    },
    "id": "z8shAFpTKpD8"
   },
   "outputs": [
    {
     "data": {
      "text/html": [
       "<div>\n",
       "<style scoped>\n",
       "    .dataframe tbody tr th:only-of-type {\n",
       "        vertical-align: middle;\n",
       "    }\n",
       "\n",
       "    .dataframe tbody tr th {\n",
       "        vertical-align: top;\n",
       "    }\n",
       "\n",
       "    .dataframe thead th {\n",
       "        text-align: right;\n",
       "    }\n",
       "</style>\n",
       "<table border=\"1\" class=\"dataframe\">\n",
       "  <thead>\n",
       "    <tr style=\"text-align: right;\">\n",
       "      <th></th>\n",
       "      <th>index</th>\n",
       "      <th>Nulls_Count</th>\n",
       "    </tr>\n",
       "  </thead>\n",
       "  <tbody>\n",
       "    <tr>\n",
       "      <th>0</th>\n",
       "      <td>How has it affected your career?</td>\n",
       "      <td>95.601173</td>\n",
       "    </tr>\n",
       "    <tr>\n",
       "      <th>1</th>\n",
       "      <td>Has being identified as a person with a mental...</td>\n",
       "      <td>87.976540</td>\n",
       "    </tr>\n",
       "    <tr>\n",
       "      <th>2</th>\n",
       "      <td>Have you ever been diagnosed with a mental hea...</td>\n",
       "      <td>58.181818</td>\n",
       "    </tr>\n",
       "    <tr>\n",
       "      <th>3</th>\n",
       "      <td>Briefly describe what you think the industry a...</td>\n",
       "      <td>30.850440</td>\n",
       "    </tr>\n",
       "    <tr>\n",
       "      <th>4</th>\n",
       "      <td>Have your observations of how another individu...</td>\n",
       "      <td>21.290323</td>\n",
       "    </tr>\n",
       "    <tr>\n",
       "      <th>5</th>\n",
       "      <td>Is your primary role within your company relat...</td>\n",
       "      <td>14.193548</td>\n",
       "    </tr>\n",
       "    <tr>\n",
       "      <th>6</th>\n",
       "      <td>Has your employer ever formally discussed ment...</td>\n",
       "      <td>14.193548</td>\n",
       "    </tr>\n",
       "    <tr>\n",
       "      <th>7</th>\n",
       "      <td>Does your employer offer resources to learn mo...</td>\n",
       "      <td>14.193548</td>\n",
       "    </tr>\n",
       "    <tr>\n",
       "      <th>8</th>\n",
       "      <td>If a mental health issue prompted you to reque...</td>\n",
       "      <td>14.193548</td>\n",
       "    </tr>\n",
       "    <tr>\n",
       "      <th>9</th>\n",
       "      <td>Overall, how much importance does your employe...</td>\n",
       "      <td>14.193548</td>\n",
       "    </tr>\n",
       "    <tr>\n",
       "      <th>10</th>\n",
       "      <td>Overall, how much importance does your employe...</td>\n",
       "      <td>14.193548</td>\n",
       "    </tr>\n",
       "    <tr>\n",
       "      <th>11</th>\n",
       "      <td>Is your employer primarily a tech company/orga...</td>\n",
       "      <td>14.193548</td>\n",
       "    </tr>\n",
       "    <tr>\n",
       "      <th>12</th>\n",
       "      <td>What is your gender?</td>\n",
       "      <td>1.348974</td>\n",
       "    </tr>\n",
       "    <tr>\n",
       "      <th>13</th>\n",
       "      <td>Have you had a mental health disorder in the p...</td>\n",
       "      <td>1.114370</td>\n",
       "    </tr>\n",
       "    <tr>\n",
       "      <th>14</th>\n",
       "      <td>What country do you work in?</td>\n",
       "      <td>0.117302</td>\n",
       "    </tr>\n",
       "    <tr>\n",
       "      <th>15</th>\n",
       "      <td>Are you openly identified at work as a person ...</td>\n",
       "      <td>0.117302</td>\n",
       "    </tr>\n",
       "    <tr>\n",
       "      <th>16</th>\n",
       "      <td>Overall, how well do you think the tech indust...</td>\n",
       "      <td>0.117302</td>\n",
       "    </tr>\n",
       "    <tr>\n",
       "      <th>17</th>\n",
       "      <td>What is your age?</td>\n",
       "      <td>0.117302</td>\n",
       "    </tr>\n",
       "    <tr>\n",
       "      <th>18</th>\n",
       "      <td>What country do you live in?</td>\n",
       "      <td>0.117302</td>\n",
       "    </tr>\n",
       "  </tbody>\n",
       "</table>\n",
       "</div>"
      ],
      "text/plain": [
       "                                                index  Nulls_Count\n",
       "0                    How has it affected your career?    95.601173\n",
       "1   Has being identified as a person with a mental...    87.976540\n",
       "2   Have you ever been diagnosed with a mental hea...    58.181818\n",
       "3   Briefly describe what you think the industry a...    30.850440\n",
       "4   Have your observations of how another individu...    21.290323\n",
       "5   Is your primary role within your company relat...    14.193548\n",
       "6   Has your employer ever formally discussed ment...    14.193548\n",
       "7   Does your employer offer resources to learn mo...    14.193548\n",
       "8   If a mental health issue prompted you to reque...    14.193548\n",
       "9   Overall, how much importance does your employe...    14.193548\n",
       "10  Overall, how much importance does your employe...    14.193548\n",
       "11  Is your employer primarily a tech company/orga...    14.193548\n",
       "12                               What is your gender?     1.348974\n",
       "13  Have you had a mental health disorder in the p...     1.114370\n",
       "14                       What country do you work in?     0.117302\n",
       "15  Are you openly identified at work as a person ...     0.117302\n",
       "16  Overall, how well do you think the tech indust...     0.117302\n",
       "17                                  What is your age?     0.117302\n",
       "18                       What country do you live in?     0.117302"
      ]
     },
     "execution_count": 7,
     "metadata": {},
     "output_type": "execute_result"
    }
   ],
   "source": [
    "nulls_df = ((survey.isnull().sum()/survey.shape[0])*100).sort_values(ascending=False).reset_index().rename(columns = { 0 : \"Nulls_Count\"})\n",
    "# drop na values which have null values < threshold \n",
    "dropped_rows = nulls_df[nulls_df['Nulls_Count'] <= 14.0] \n",
    "dropped_rows = list(dropped_rows[dropped_rows['Nulls_Count'] > 0].values[:,0])\n",
    "## when the number of nulls in a row is very small, we can simply drop this small number of rows\n",
    "survey = survey.dropna(axis = 0, subset = dropped_rows)\n",
    "\n",
    "\n",
    "# drop the columns which have null values > threshold  \n",
    "dropped_cols = nulls_df[nulls_df['Nulls_Count'] > 50]\n",
    "dropped_cols = list(dropped_cols.values[:,0])\n",
    "survey = survey.drop(columns = dropped_cols)\n",
    "nulls_df[nulls_df['Nulls_Count'] > 0]\n"
   ]
  },
  {
   "cell_type": "markdown",
   "metadata": {
    "id": "gKV6AsDWKpD9"
   },
   "source": [
    "### `02` Clean Data"
   ]
  },
  {
   "cell_type": "code",
   "execution_count": 8,
   "metadata": {
    "executionInfo": {
     "elapsed": 51,
     "status": "aborted",
     "timestamp": 1654337002834,
     "user": {
      "displayName": "habiba mohamed",
      "userId": "01346726008568088997"
     },
     "user_tz": -120
    },
    "id": "n8VNJi5NKpD9"
   },
   "outputs": [],
   "source": [
    "# ------------------------------------------------------- CLEANING THE DATA -------------------------------------------------------\n",
    "# Column rename\n",
    "df = survey.copy()\n",
    "renamed_columns = ['tech_comp_flag', 'tech_role_flag', 'mh_employer_discussion_or_wellness_campaign', 'mh_resources_provided', 'mh_issue_request_medical_leave',\n",
    "'ph_employer_rate', 'mh_employer_rate', 'curr_have_mh_disorder', 'past_have_mh_disorder', 'fam_history', \n",
    "'how often do you feel that it interferes with your work when being treated effectively?', 'smone_disscussion_reveal_ur_mh', 'admit_ph_issue_in_interview',\n",
    "'admit_mh_issue_in_interview', 'openly_id_as_person_wth_mh_issue', 'rate_tech_industry_support',\n",
    "'Briefly describe what you think the industry as a whole and/or employers could do to improve mental health support for employees.', \n",
    "'age', 'gender', 'country_live_in', 'country_work_in', 'year']\n",
    "df.columns = renamed_columns\n",
    "# gender column needs to be recoded (number of unique values = 70)\n",
    "df['gender'].replace(to_replace = ['Male', 'male', 'Male ', 'M', 'm',\n",
    "       'man', 'Cis male', 'Male.', 'male 9:1 female, roughly', 'Male (cis)', 'Man', 'Sex is male',\n",
    "       'cis male', 'Malr', 'Dude', \"I'm a man why didn't you make this a drop down question. You should of asked sex? And I would of answered yes please. Seriously how much text can this take? \",\n",
    "       'mail', 'M|', 'Male/genderqueer', 'male ', 'cisgender male', 'MAle'\n",
    "       'Cis Male', 'Male (trans, FtM)', 'mostly male', 'Masculine', 'Let\\'s keep it simple and say \"male\"', 'cis-male', 'Mail', 'male/androgynous ',\n",
    "       'cis hetero male',\n",
    "       'cisdude', 'cis man', 'MALE'], value = 1, inplace = True)\n",
    "\n",
    "df['gender'].replace(to_replace = ['Female', 'female', 'I identify as female.', 'female ',\n",
    "       'Female assigned at birth ', 'F', 'Woman', 'fm', 'f', 'Cis female ', 'Transitioned, M2F',\n",
    "       'Genderfluid (born female)', 'Female or Multi-Gender Femme', 'Female ', 'woman', 'female/woman',\n",
    "       'Cisgender Female', 'fem', 'Female (props for making this a freeform field, though)',\n",
    "       'Female (cis)', 'FEMALE', 'femmina' 'Agender trans woman', 'Female-identified',\n",
    "       ' Female', 'Cis-woman', 'female-bodied; no feelings about gender', 'female, she/her',\n",
    "       'Nonbinary/femme', 'gender non-conforming woman', 'Female/gender non-binary.',\n",
    "       'Cis woman', 'Female (cisgender)', 'Cis-Female','Cisgendered woman', 'Trans woman',\n",
    "       'uhhhhhhhhh fem genderqueer?', 'My sex is female.', 'femalw', 'femail', 'cis female', 'femmina','Female-ish',\n",
    "       'Woman-identified', 'female (cisgender)', 'Female (cis) ','F, cisgender', 'Trans female', 'Femile',\n",
    "       'AFAB'], value = 2, inplace = True)\n",
    "\n",
    "other = list(df['gender'].unique())\n",
    "other = [o for o in other if o not in (1, 2)]\n",
    "df['gender'].replace(to_replace = other , value = 3, inplace = True)\n",
    "\n",
    "# Recode Comp size & country columns (for ease when doing plots)\n",
    "df['country_live_in'].replace(to_replace = ['United States of America'], value = 'USA', inplace = True)\n",
    "df['country_live_in'].replace(to_replace = ['United Kingdom'], value = 'UK', inplace = True)\n",
    "df['country_work_in'].replace(to_replace = ['United States of America'], value = 'USA', inplace = True)\n",
    "df['country_work_in'].replace(to_replace = ['United Kingdom'], value = 'UK', inplace = True)\n",
    "\n",
    "# Max age is 323, min age is 3.\n",
    "# There are only 5 people that have weird ages (3yo, 15yo, or 99yo or 323 yo.) \n",
    "# These people will take the average age of the dataset (the correct calculated one, w/out outliers)\n",
    "mean_age = df[(df['age'] >= 18) | (df['age'] <= 75)]['age'].mean()\n",
    "df['age'].replace(to_replace = df[(df['age'] < 18) | (df['age'] > 75)]['age'].tolist(),\n",
    "                          value = mean_age, inplace = True)\n"
   ]
  },
  {
   "cell_type": "markdown",
   "metadata": {
    "id": "TuDLE9MeKpD9"
   },
   "source": [
    "### `03` Imputation"
   ]
  },
  {
   "cell_type": "code",
   "execution_count": 10,
   "metadata": {
    "executionInfo": {
     "elapsed": 51,
     "status": "aborted",
     "timestamp": 1654337002835,
     "user": {
      "displayName": "habiba mohamed",
      "userId": "01346726008568088997"
     },
     "user_tz": -120
    },
    "id": "fMzw6JutKpD-"
   },
   "outputs": [],
   "source": [
    "# Dealing with other missing values\n",
    "from sklearn.impute import SimpleImputer\n",
    "\n",
    "# Impute nan with the most frequent value (mode) on every row\n",
    "imp = SimpleImputer(missing_values=np.nan, strategy='most_frequent')\n",
    "imp.fit(df)\n",
    "imp_data = pd.DataFrame(data = imp.transform(df), columns = df.columns)\n",
    "prep_data = imp_data.copy()"
   ]
  },
  {
   "cell_type": "markdown",
   "metadata": {
    "id": "QZX7i5uGKpD-"
   },
   "source": [
    "### `04` Encoding categorical Data "
   ]
  },
  {
   "cell_type": "code",
   "execution_count": 11,
   "metadata": {
    "executionInfo": {
     "elapsed": 52,
     "status": "aborted",
     "timestamp": 1654337002836,
     "user": {
      "displayName": "habiba mohamed",
      "userId": "01346726008568088997"
     },
     "user_tz": -120
    },
    "id": "W-jNR81XKpD-"
   },
   "outputs": [],
   "source": [
    "num_data = list((df.select_dtypes(exclude=[object])))\n",
    "cat_data = list(df.select_dtypes(include=[object]))\n",
    "nominal_data = ['year', 'country_live_in', 'country_work_in', 'Briefly describe what you think the industry as a whole and/or employers could do to improve mental health support for employees.']\n",
    "ordinal_data = list(set(cat_data) - set(num_data) - set(nominal_data)) \n"
   ]
  },
  {
   "cell_type": "code",
   "execution_count": 12,
   "metadata": {
    "executionInfo": {
     "elapsed": 52,
     "status": "aborted",
     "timestamp": 1654337002837,
     "user": {
      "displayName": "habiba mohamed",
      "userId": "01346726008568088997"
     },
     "user_tz": -120
    },
    "id": "pltbaQ30KpD-"
   },
   "outputs": [],
   "source": [
    "# ----------- ENCODING -----------\n",
    "# Split data into 2 datasets: one that needs to be encoded, one that doesnt need to\n",
    "# Importing OneHotEncoder\n",
    "from sklearn.preprocessing import OneHotEncoder\n",
    "from sklearn.preprocessing import LabelEncoder\n",
    "\n",
    "def encode(df, ordinal_data):\n",
    "    encoded_data = pd.DataFrame() # to dataframe\n",
    "    le = LabelEncoder()\n",
    "    \n",
    "    for col in ordinal_data:\n",
    "        encoded_data[col] = le.fit_transform(df[col])\n",
    "    \n",
    "    return encoded_data\n",
    "\n",
    "encoded_data = encode(prep_data, ordinal_data)\n",
    "\n",
    "# Preprocessed data\n",
    "data_not_encode_df = prep_data[nominal_data + num_data]\n",
    "prep_data = pd.concat(objs = [encoded_data, data_not_encode_df], axis = 1)\n",
    "# prep_data.head(5)"
   ]
  },
  {
   "cell_type": "code",
   "execution_count": 13,
   "metadata": {
    "executionInfo": {
     "elapsed": 53,
     "status": "aborted",
     "timestamp": 1654337002838,
     "user": {
      "displayName": "habiba mohamed",
      "userId": "01346726008568088997"
     },
     "user_tz": -120
    },
    "id": "ITEyTVT3KpD_"
   },
   "outputs": [],
   "source": [
    "# ----------- OTHER CHANGES -----------\n",
    "# Keep only countries with no. responses > 20\n",
    "prep_data = prep_data[prep_data['country_work_in'].isin(['USA', 'UK', 'India', 'Canada', \n",
    "                                                   'Germany'])]\n",
    "prep_data = prep_data[prep_data['country_live_in'].isin(['USA', 'UK', 'India', 'Canada', \n",
    "                                                   'Germany'])]\n",
    "# clean Rates Columns \n",
    "prep_data['mh_employer_rate'] = prep_data['mh_employer_rate'].fillna(0)\n",
    "prep_data['ph_employer_rate'] = prep_data['ph_employer_rate'].fillna(0)\n"
   ]
  },
  {
   "cell_type": "code",
   "execution_count": 14,
   "metadata": {},
   "outputs": [
    {
     "data": {
      "text/plain": [
       "1    1246\n",
       "0      82\n",
       "Name: tech_role_flag, dtype: int64"
      ]
     },
     "execution_count": 14,
     "metadata": {},
     "output_type": "execute_result"
    }
   ],
   "source": [
    "prep_data['tech_role_flag'].value_counts()"
   ]
  },
  {
   "cell_type": "markdown",
   "metadata": {
    "id": "Zkhs1D2DKpD_"
   },
   "source": [
    "# Visualisation and Insights"
   ]
  },
  {
   "cell_type": "code",
   "execution_count": 15,
   "metadata": {
    "executionInfo": {
     "elapsed": 53,
     "status": "aborted",
     "timestamp": 1654337002839,
     "user": {
      "displayName": "habiba mohamed",
      "userId": "01346726008568088997"
     },
     "user_tz": -120
    },
    "id": "Pj8XarrNKpEA"
   },
   "outputs": [],
   "source": [
    "country = 'USA'"
   ]
  },
  {
   "cell_type": "markdown",
   "metadata": {
    "_cell_guid": "2ba0911b-2796-4c5e-9380-9398c70c6f96",
    "_uuid": "a67e6e74-5251-429b-b318-28aea774dccc",
    "id": "ohi27qS0KpEA"
   },
   "source": [
    "### Responses Gender (only techs) Vs Country\n"
   ]
  },
  {
   "cell_type": "code",
   "execution_count": 16,
   "metadata": {
    "executionInfo": {
     "elapsed": 54,
     "status": "aborted",
     "timestamp": 1654337002840,
     "user": {
      "displayName": "habiba mohamed",
      "userId": "01346726008568088997"
     },
     "user_tz": -120
    },
    "id": "V8SyLHYpKpEA"
   },
   "outputs": [
    {
     "data": {
      "text/html": [
       "        <script type=\"text/javascript\">\n",
       "        window.PlotlyConfig = {MathJaxConfig: 'local'};\n",
       "        if (window.MathJax) {MathJax.Hub.Config({SVG: {font: \"STIX-Web\"}});}\n",
       "        if (typeof require !== 'undefined') {\n",
       "        require.undef(\"plotly\");\n",
       "        requirejs.config({\n",
       "            paths: {\n",
       "                'plotly': ['https://cdn.plot.ly/plotly-2.11.1.min']\n",
       "            }\n",
       "        });\n",
       "        require(['plotly'], function(Plotly) {\n",
       "            window._Plotly = Plotly;\n",
       "        });\n",
       "        }\n",
       "        </script>\n",
       "        "
      ]
     },
     "metadata": {},
     "output_type": "display_data"
    },
    {
     "data": {
      "text/html": [
       "<div>                            <div id=\"2827ff25-7735-4902-b7c7-ba01f8494d86\" class=\"plotly-graph-div\" style=\"height:325px; width:100%;\"></div>            <script type=\"text/javascript\">                require([\"plotly\"], function(Plotly) {                    window.PLOTLYENV=window.PLOTLYENV || {};                                    if (document.getElementById(\"2827ff25-7735-4902-b7c7-ba01f8494d86\")) {                    Plotly.newPlot(                        \"2827ff25-7735-4902-b7c7-ba01f8494d86\",                        [{\"labels\":[\"Male\",\"Female\"],\"values\":[51,26],\"type\":\"pie\",\"textfont\":{\"size\":16},\"title\":{\"font\":{\"size\":24},\"position\":\"middle center\"},\"marker\":{\"line\":{\"color\":\"#FFF\",\"width\":2},\"colors\":[\"#b3dad7\",\"#FF92A5\"]},\"hoverinfo\":\"label+percent\"}],                        {\"template\":{\"data\":{\"histogram2dcontour\":[{\"type\":\"histogram2dcontour\",\"colorbar\":{\"outlinewidth\":0,\"ticks\":\"\"},\"colorscale\":[[0.0,\"#0d0887\"],[0.1111111111111111,\"#46039f\"],[0.2222222222222222,\"#7201a8\"],[0.3333333333333333,\"#9c179e\"],[0.4444444444444444,\"#bd3786\"],[0.5555555555555556,\"#d8576b\"],[0.6666666666666666,\"#ed7953\"],[0.7777777777777778,\"#fb9f3a\"],[0.8888888888888888,\"#fdca26\"],[1.0,\"#f0f921\"]]}],\"choropleth\":[{\"type\":\"choropleth\",\"colorbar\":{\"outlinewidth\":0,\"ticks\":\"\"}}],\"histogram2d\":[{\"type\":\"histogram2d\",\"colorbar\":{\"outlinewidth\":0,\"ticks\":\"\"},\"colorscale\":[[0.0,\"#0d0887\"],[0.1111111111111111,\"#46039f\"],[0.2222222222222222,\"#7201a8\"],[0.3333333333333333,\"#9c179e\"],[0.4444444444444444,\"#bd3786\"],[0.5555555555555556,\"#d8576b\"],[0.6666666666666666,\"#ed7953\"],[0.7777777777777778,\"#fb9f3a\"],[0.8888888888888888,\"#fdca26\"],[1.0,\"#f0f921\"]]}],\"heatmap\":[{\"type\":\"heatmap\",\"colorbar\":{\"outlinewidth\":0,\"ticks\":\"\"},\"colorscale\":[[0.0,\"#0d0887\"],[0.1111111111111111,\"#46039f\"],[0.2222222222222222,\"#7201a8\"],[0.3333333333333333,\"#9c179e\"],[0.4444444444444444,\"#bd3786\"],[0.5555555555555556,\"#d8576b\"],[0.6666666666666666,\"#ed7953\"],[0.7777777777777778,\"#fb9f3a\"],[0.8888888888888888,\"#fdca26\"],[1.0,\"#f0f921\"]]}],\"heatmapgl\":[{\"type\":\"heatmapgl\",\"colorbar\":{\"outlinewidth\":0,\"ticks\":\"\"},\"colorscale\":[[0.0,\"#0d0887\"],[0.1111111111111111,\"#46039f\"],[0.2222222222222222,\"#7201a8\"],[0.3333333333333333,\"#9c179e\"],[0.4444444444444444,\"#bd3786\"],[0.5555555555555556,\"#d8576b\"],[0.6666666666666666,\"#ed7953\"],[0.7777777777777778,\"#fb9f3a\"],[0.8888888888888888,\"#fdca26\"],[1.0,\"#f0f921\"]]}],\"contourcarpet\":[{\"type\":\"contourcarpet\",\"colorbar\":{\"outlinewidth\":0,\"ticks\":\"\"}}],\"contour\":[{\"type\":\"contour\",\"colorbar\":{\"outlinewidth\":0,\"ticks\":\"\"},\"colorscale\":[[0.0,\"#0d0887\"],[0.1111111111111111,\"#46039f\"],[0.2222222222222222,\"#7201a8\"],[0.3333333333333333,\"#9c179e\"],[0.4444444444444444,\"#bd3786\"],[0.5555555555555556,\"#d8576b\"],[0.6666666666666666,\"#ed7953\"],[0.7777777777777778,\"#fb9f3a\"],[0.8888888888888888,\"#fdca26\"],[1.0,\"#f0f921\"]]}],\"surface\":[{\"type\":\"surface\",\"colorbar\":{\"outlinewidth\":0,\"ticks\":\"\"},\"colorscale\":[[0.0,\"#0d0887\"],[0.1111111111111111,\"#46039f\"],[0.2222222222222222,\"#7201a8\"],[0.3333333333333333,\"#9c179e\"],[0.4444444444444444,\"#bd3786\"],[0.5555555555555556,\"#d8576b\"],[0.6666666666666666,\"#ed7953\"],[0.7777777777777778,\"#fb9f3a\"],[0.8888888888888888,\"#fdca26\"],[1.0,\"#f0f921\"]]}],\"mesh3d\":[{\"type\":\"mesh3d\",\"colorbar\":{\"outlinewidth\":0,\"ticks\":\"\"}}],\"scatter\":[{\"fillpattern\":{\"fillmode\":\"overlay\",\"size\":10,\"solidity\":0.2},\"type\":\"scatter\"}],\"parcoords\":[{\"type\":\"parcoords\",\"line\":{\"colorbar\":{\"outlinewidth\":0,\"ticks\":\"\"}}}],\"scatterpolargl\":[{\"type\":\"scatterpolargl\",\"marker\":{\"colorbar\":{\"outlinewidth\":0,\"ticks\":\"\"}}}],\"bar\":[{\"error_x\":{\"color\":\"#2a3f5f\"},\"error_y\":{\"color\":\"#2a3f5f\"},\"marker\":{\"line\":{\"color\":\"#E5ECF6\",\"width\":0.5},\"pattern\":{\"fillmode\":\"overlay\",\"size\":10,\"solidity\":0.2}},\"type\":\"bar\"}],\"scattergeo\":[{\"type\":\"scattergeo\",\"marker\":{\"colorbar\":{\"outlinewidth\":0,\"ticks\":\"\"}}}],\"scatterpolar\":[{\"type\":\"scatterpolar\",\"marker\":{\"colorbar\":{\"outlinewidth\":0,\"ticks\":\"\"}}}],\"histogram\":[{\"marker\":{\"pattern\":{\"fillmode\":\"overlay\",\"size\":10,\"solidity\":0.2}},\"type\":\"histogram\"}],\"scattergl\":[{\"type\":\"scattergl\",\"marker\":{\"colorbar\":{\"outlinewidth\":0,\"ticks\":\"\"}}}],\"scatter3d\":[{\"type\":\"scatter3d\",\"line\":{\"colorbar\":{\"outlinewidth\":0,\"ticks\":\"\"}},\"marker\":{\"colorbar\":{\"outlinewidth\":0,\"ticks\":\"\"}}}],\"scattermapbox\":[{\"type\":\"scattermapbox\",\"marker\":{\"colorbar\":{\"outlinewidth\":0,\"ticks\":\"\"}}}],\"scatterternary\":[{\"type\":\"scatterternary\",\"marker\":{\"colorbar\":{\"outlinewidth\":0,\"ticks\":\"\"}}}],\"scattercarpet\":[{\"type\":\"scattercarpet\",\"marker\":{\"colorbar\":{\"outlinewidth\":0,\"ticks\":\"\"}}}],\"carpet\":[{\"aaxis\":{\"endlinecolor\":\"#2a3f5f\",\"gridcolor\":\"white\",\"linecolor\":\"white\",\"minorgridcolor\":\"white\",\"startlinecolor\":\"#2a3f5f\"},\"baxis\":{\"endlinecolor\":\"#2a3f5f\",\"gridcolor\":\"white\",\"linecolor\":\"white\",\"minorgridcolor\":\"white\",\"startlinecolor\":\"#2a3f5f\"},\"type\":\"carpet\"}],\"table\":[{\"cells\":{\"fill\":{\"color\":\"#EBF0F8\"},\"line\":{\"color\":\"white\"}},\"header\":{\"fill\":{\"color\":\"#C8D4E3\"},\"line\":{\"color\":\"white\"}},\"type\":\"table\"}],\"barpolar\":[{\"marker\":{\"line\":{\"color\":\"#E5ECF6\",\"width\":0.5},\"pattern\":{\"fillmode\":\"overlay\",\"size\":10,\"solidity\":0.2}},\"type\":\"barpolar\"}],\"pie\":[{\"automargin\":true,\"type\":\"pie\"}]},\"layout\":{\"autotypenumbers\":\"strict\",\"colorway\":[\"#636efa\",\"#EF553B\",\"#00cc96\",\"#ab63fa\",\"#FFA15A\",\"#19d3f3\",\"#FF6692\",\"#B6E880\",\"#FF97FF\",\"#FECB52\"],\"font\":{\"color\":\"#2a3f5f\"},\"hovermode\":\"closest\",\"hoverlabel\":{\"align\":\"left\"},\"paper_bgcolor\":\"white\",\"plot_bgcolor\":\"#E5ECF6\",\"polar\":{\"bgcolor\":\"#E5ECF6\",\"angularaxis\":{\"gridcolor\":\"white\",\"linecolor\":\"white\",\"ticks\":\"\"},\"radialaxis\":{\"gridcolor\":\"white\",\"linecolor\":\"white\",\"ticks\":\"\"}},\"ternary\":{\"bgcolor\":\"#E5ECF6\",\"aaxis\":{\"gridcolor\":\"white\",\"linecolor\":\"white\",\"ticks\":\"\"},\"baxis\":{\"gridcolor\":\"white\",\"linecolor\":\"white\",\"ticks\":\"\"},\"caxis\":{\"gridcolor\":\"white\",\"linecolor\":\"white\",\"ticks\":\"\"}},\"coloraxis\":{\"colorbar\":{\"outlinewidth\":0,\"ticks\":\"\"}},\"colorscale\":{\"sequential\":[[0.0,\"#0d0887\"],[0.1111111111111111,\"#46039f\"],[0.2222222222222222,\"#7201a8\"],[0.3333333333333333,\"#9c179e\"],[0.4444444444444444,\"#bd3786\"],[0.5555555555555556,\"#d8576b\"],[0.6666666666666666,\"#ed7953\"],[0.7777777777777778,\"#fb9f3a\"],[0.8888888888888888,\"#fdca26\"],[1.0,\"#f0f921\"]],\"sequentialminus\":[[0.0,\"#0d0887\"],[0.1111111111111111,\"#46039f\"],[0.2222222222222222,\"#7201a8\"],[0.3333333333333333,\"#9c179e\"],[0.4444444444444444,\"#bd3786\"],[0.5555555555555556,\"#d8576b\"],[0.6666666666666666,\"#ed7953\"],[0.7777777777777778,\"#fb9f3a\"],[0.8888888888888888,\"#fdca26\"],[1.0,\"#f0f921\"]],\"diverging\":[[0,\"#8e0152\"],[0.1,\"#c51b7d\"],[0.2,\"#de77ae\"],[0.3,\"#f1b6da\"],[0.4,\"#fde0ef\"],[0.5,\"#f7f7f7\"],[0.6,\"#e6f5d0\"],[0.7,\"#b8e186\"],[0.8,\"#7fbc41\"],[0.9,\"#4d9221\"],[1,\"#276419\"]]},\"xaxis\":{\"gridcolor\":\"white\",\"linecolor\":\"white\",\"ticks\":\"\",\"title\":{\"standoff\":15},\"zerolinecolor\":\"white\",\"automargin\":true,\"zerolinewidth\":2},\"yaxis\":{\"gridcolor\":\"white\",\"linecolor\":\"white\",\"ticks\":\"\",\"title\":{\"standoff\":15},\"zerolinecolor\":\"white\",\"automargin\":true,\"zerolinewidth\":2},\"scene\":{\"xaxis\":{\"backgroundcolor\":\"#E5ECF6\",\"gridcolor\":\"white\",\"linecolor\":\"white\",\"showbackground\":true,\"ticks\":\"\",\"zerolinecolor\":\"white\",\"gridwidth\":2},\"yaxis\":{\"backgroundcolor\":\"#E5ECF6\",\"gridcolor\":\"white\",\"linecolor\":\"white\",\"showbackground\":true,\"ticks\":\"\",\"zerolinecolor\":\"white\",\"gridwidth\":2},\"zaxis\":{\"backgroundcolor\":\"#E5ECF6\",\"gridcolor\":\"white\",\"linecolor\":\"white\",\"showbackground\":true,\"ticks\":\"\",\"zerolinecolor\":\"white\",\"gridwidth\":2}},\"shapedefaults\":{\"line\":{\"color\":\"#2a3f5f\"}},\"annotationdefaults\":{\"arrowcolor\":\"#2a3f5f\",\"arrowhead\":0,\"arrowwidth\":1},\"geo\":{\"bgcolor\":\"white\",\"landcolor\":\"#E5ECF6\",\"subunitcolor\":\"white\",\"showland\":true,\"showlakes\":true,\"lakecolor\":\"white\"},\"title\":{\"x\":0.05},\"mapbox\":{\"style\":\"light\"}}},\"legend\":{\"orientation\":\"h\",\"yanchor\":\"bottom\",\"y\":-0.1,\"xanchor\":\"center\",\"x\":0.5},\"margin\":{\"b\":0,\"t\":0,\"l\":0,\"r\":0},\"height\":325},                        {\"responsive\": true}                    ).then(function(){\n",
       "                            \n",
       "var gd = document.getElementById('2827ff25-7735-4902-b7c7-ba01f8494d86');\n",
       "var x = new MutationObserver(function (mutations, observer) {{\n",
       "        var display = window.getComputedStyle(gd).display;\n",
       "        if (!display || display === 'none') {{\n",
       "            console.log([gd, 'removed!']);\n",
       "            Plotly.purge(gd);\n",
       "            observer.disconnect();\n",
       "        }}\n",
       "}});\n",
       "\n",
       "// Listen for the removal of the full notebook cells\n",
       "var notebookContainer = gd.closest('#notebook-container');\n",
       "if (notebookContainer) {{\n",
       "    x.observe(notebookContainer, {childList: true});\n",
       "}}\n",
       "\n",
       "// Listen for the clearing of the current output cell\n",
       "var outputEl = gd.closest('.output');\n",
       "if (outputEl) {{\n",
       "    x.observe(outputEl, {childList: true});\n",
       "}}\n",
       "\n",
       "                        })                };                });            </script>        </div>"
      ]
     },
     "metadata": {},
     "output_type": "display_data"
    }
   ],
   "source": [
    "# Most respondents are Male\n",
    "## ----------------- Pie Chart For Gender Vs Techs -----------------\n",
    "def draw_Techs_by_gender(country):\n",
    "    all_techs = prep_data[prep_data['tech_role_flag'] == 1]['gender'].count()\n",
    "    males = prep_data[(prep_data['tech_role_flag'] == 1) & (prep_data['gender'] == 1.0)& ( np.isin(prep_data['country_work_in'], country))]['gender'].count()\n",
    "    females = prep_data[(prep_data['tech_role_flag'] == 1) & (prep_data['gender'] == 2.0)& ( np.isin(prep_data['country_work_in'], country))]['gender'].count()\n",
    "    other = prep_data[(prep_data['tech_role_flag'] == 1) & (prep_data['gender'] == 3.0)& ( np.isin(prep_data['country_work_in'], country))]['gender'].count()\n",
    "\n",
    "    colors = [\"#b3dad7\", \"#FF92A5\"]\n",
    "    Techs_by_gender_fig = go.Figure(data=[go.Pie(labels=['Male', 'Female'], \n",
    "                                    values=[round(males/all_techs * 100), round(females/ all_techs * 100)])])\n",
    "\n",
    "    Techs_by_gender_fig.update_traces(hoverinfo='label+percent', textfont_size=16, title_font_size = 24,  title_position = \"middle center\",\n",
    "                                    marker=dict(colors=colors,\n",
    "                                    line=dict(color='#FFF', width=2)),\n",
    "                                    )\n",
    "    Techs_by_gender_fig.update_layout(\n",
    "                                    legend=dict(orientation=\"h\", yanchor=\"bottom\", y=-0.1, xanchor=\"center\", x=0.5),\n",
    "                                    margin=dict(b = 0, t = 0, l = 0, r = 0),\n",
    "                                    height = 325\n",
    "                                    )\n",
    "    return Techs_by_gender_fig\n",
    "draw_Techs_by_gender(country)"
   ]
  },
  {
   "cell_type": "markdown",
   "metadata": {
    "_cell_guid": "8fc48212-f326-40cb-a1af-a41e2a76b7d6",
    "_uuid": "24c82d6c-54bd-4fac-af82-77f8cd515c26",
    "id": "ZMmpqmXPKpEB"
   },
   "source": [
    "\n",
    "### Have Mental Health Disorder Vs Country"
   ]
  },
  {
   "cell_type": "code",
   "execution_count": 17,
   "metadata": {
    "executionInfo": {
     "elapsed": 54,
     "status": "aborted",
     "timestamp": 1654337002841,
     "user": {
      "displayName": "habiba mohamed",
      "userId": "01346726008568088997"
     },
     "user_tz": -120
    },
    "id": "tlEdkNlgKpEB"
   },
   "outputs": [
    {
     "data": {
      "text/html": [
       "<div>                            <div id=\"196fb459-eeb3-42cb-a650-75279c4bdadc\" class=\"plotly-graph-div\" style=\"height:525px; width:100%;\"></div>            <script type=\"text/javascript\">                require([\"plotly\"], function(Plotly) {                    window.PLOTLYENV=window.PLOTLYENV || {};                                    if (document.getElementById(\"196fb459-eeb3-42cb-a650-75279c4bdadc\")) {                    Plotly.newPlot(                        \"196fb459-eeb3-42cb-a650-75279c4bdadc\",                        [{\"labels\":[\"Possibly\",\"Yes\",\"No\",\"Don't Know\"],\"values\":[0.15730337078651685,0.39486356340288925,0.20385232744783308,0.048154093097913325],\"type\":\"pie\",\"textfont\":{\"size\":12},\"title\":{\"text\":\"Overall Mental Health prop%\",\"font\":{\"size\":24},\"position\":\"middle center\"},\"marker\":{\"line\":{\"color\":\"#FFF\",\"width\":2}},\"hoverinfo\":\"label+percent\",\"showlegend\":true}],                        {\"template\":{\"data\":{\"barpolar\":[{\"marker\":{\"line\":{\"color\":\"rgb(237,237,237)\",\"width\":0.5},\"pattern\":{\"fillmode\":\"overlay\",\"size\":10,\"solidity\":0.2}},\"type\":\"barpolar\"}],\"bar\":[{\"error_x\":{\"color\":\"rgb(51,51,51)\"},\"error_y\":{\"color\":\"rgb(51,51,51)\"},\"marker\":{\"line\":{\"color\":\"rgb(237,237,237)\",\"width\":0.5},\"pattern\":{\"fillmode\":\"overlay\",\"size\":10,\"solidity\":0.2}},\"type\":\"bar\"}],\"carpet\":[{\"aaxis\":{\"endlinecolor\":\"rgb(51,51,51)\",\"gridcolor\":\"white\",\"linecolor\":\"white\",\"minorgridcolor\":\"white\",\"startlinecolor\":\"rgb(51,51,51)\"},\"baxis\":{\"endlinecolor\":\"rgb(51,51,51)\",\"gridcolor\":\"white\",\"linecolor\":\"white\",\"minorgridcolor\":\"white\",\"startlinecolor\":\"rgb(51,51,51)\"},\"type\":\"carpet\"}],\"choropleth\":[{\"colorbar\":{\"outlinewidth\":0,\"tickcolor\":\"rgb(237,237,237)\",\"ticklen\":6,\"ticks\":\"inside\"},\"type\":\"choropleth\"}],\"contourcarpet\":[{\"colorbar\":{\"outlinewidth\":0,\"tickcolor\":\"rgb(237,237,237)\",\"ticklen\":6,\"ticks\":\"inside\"},\"type\":\"contourcarpet\"}],\"contour\":[{\"colorbar\":{\"outlinewidth\":0,\"tickcolor\":\"rgb(237,237,237)\",\"ticklen\":6,\"ticks\":\"inside\"},\"colorscale\":[[0,\"rgb(20,44,66)\"],[1,\"rgb(90,179,244)\"]],\"type\":\"contour\"}],\"heatmapgl\":[{\"colorbar\":{\"outlinewidth\":0,\"tickcolor\":\"rgb(237,237,237)\",\"ticklen\":6,\"ticks\":\"inside\"},\"colorscale\":[[0,\"rgb(20,44,66)\"],[1,\"rgb(90,179,244)\"]],\"type\":\"heatmapgl\"}],\"heatmap\":[{\"colorbar\":{\"outlinewidth\":0,\"tickcolor\":\"rgb(237,237,237)\",\"ticklen\":6,\"ticks\":\"inside\"},\"colorscale\":[[0,\"rgb(20,44,66)\"],[1,\"rgb(90,179,244)\"]],\"type\":\"heatmap\"}],\"histogram2dcontour\":[{\"colorbar\":{\"outlinewidth\":0,\"tickcolor\":\"rgb(237,237,237)\",\"ticklen\":6,\"ticks\":\"inside\"},\"colorscale\":[[0,\"rgb(20,44,66)\"],[1,\"rgb(90,179,244)\"]],\"type\":\"histogram2dcontour\"}],\"histogram2d\":[{\"colorbar\":{\"outlinewidth\":0,\"tickcolor\":\"rgb(237,237,237)\",\"ticklen\":6,\"ticks\":\"inside\"},\"colorscale\":[[0,\"rgb(20,44,66)\"],[1,\"rgb(90,179,244)\"]],\"type\":\"histogram2d\"}],\"histogram\":[{\"marker\":{\"pattern\":{\"fillmode\":\"overlay\",\"size\":10,\"solidity\":0.2}},\"type\":\"histogram\"}],\"mesh3d\":[{\"colorbar\":{\"outlinewidth\":0,\"tickcolor\":\"rgb(237,237,237)\",\"ticklen\":6,\"ticks\":\"inside\"},\"type\":\"mesh3d\"}],\"parcoords\":[{\"line\":{\"colorbar\":{\"outlinewidth\":0,\"tickcolor\":\"rgb(237,237,237)\",\"ticklen\":6,\"ticks\":\"inside\"}},\"type\":\"parcoords\"}],\"pie\":[{\"automargin\":true,\"type\":\"pie\"}],\"scatter3d\":[{\"line\":{\"colorbar\":{\"outlinewidth\":0,\"tickcolor\":\"rgb(237,237,237)\",\"ticklen\":6,\"ticks\":\"inside\"}},\"marker\":{\"colorbar\":{\"outlinewidth\":0,\"tickcolor\":\"rgb(237,237,237)\",\"ticklen\":6,\"ticks\":\"inside\"}},\"type\":\"scatter3d\"}],\"scattercarpet\":[{\"marker\":{\"colorbar\":{\"outlinewidth\":0,\"tickcolor\":\"rgb(237,237,237)\",\"ticklen\":6,\"ticks\":\"inside\"}},\"type\":\"scattercarpet\"}],\"scattergeo\":[{\"marker\":{\"colorbar\":{\"outlinewidth\":0,\"tickcolor\":\"rgb(237,237,237)\",\"ticklen\":6,\"ticks\":\"inside\"}},\"type\":\"scattergeo\"}],\"scattergl\":[{\"marker\":{\"colorbar\":{\"outlinewidth\":0,\"tickcolor\":\"rgb(237,237,237)\",\"ticklen\":6,\"ticks\":\"inside\"}},\"type\":\"scattergl\"}],\"scattermapbox\":[{\"marker\":{\"colorbar\":{\"outlinewidth\":0,\"tickcolor\":\"rgb(237,237,237)\",\"ticklen\":6,\"ticks\":\"inside\"}},\"type\":\"scattermapbox\"}],\"scatterpolargl\":[{\"marker\":{\"colorbar\":{\"outlinewidth\":0,\"tickcolor\":\"rgb(237,237,237)\",\"ticklen\":6,\"ticks\":\"inside\"}},\"type\":\"scatterpolargl\"}],\"scatterpolar\":[{\"marker\":{\"colorbar\":{\"outlinewidth\":0,\"tickcolor\":\"rgb(237,237,237)\",\"ticklen\":6,\"ticks\":\"inside\"}},\"type\":\"scatterpolar\"}],\"scatter\":[{\"fillpattern\":{\"fillmode\":\"overlay\",\"size\":10,\"solidity\":0.2},\"type\":\"scatter\"}],\"scatterternary\":[{\"marker\":{\"colorbar\":{\"outlinewidth\":0,\"tickcolor\":\"rgb(237,237,237)\",\"ticklen\":6,\"ticks\":\"inside\"}},\"type\":\"scatterternary\"}],\"surface\":[{\"colorbar\":{\"outlinewidth\":0,\"tickcolor\":\"rgb(237,237,237)\",\"ticklen\":6,\"ticks\":\"inside\"},\"colorscale\":[[0,\"rgb(20,44,66)\"],[1,\"rgb(90,179,244)\"]],\"type\":\"surface\"}],\"table\":[{\"cells\":{\"fill\":{\"color\":\"rgb(237,237,237)\"},\"line\":{\"color\":\"white\"}},\"header\":{\"fill\":{\"color\":\"rgb(217,217,217)\"},\"line\":{\"color\":\"white\"}},\"type\":\"table\"}]},\"layout\":{\"annotationdefaults\":{\"arrowhead\":0,\"arrowwidth\":1},\"autotypenumbers\":\"strict\",\"coloraxis\":{\"colorbar\":{\"outlinewidth\":0,\"tickcolor\":\"rgb(237,237,237)\",\"ticklen\":6,\"ticks\":\"inside\"}},\"colorscale\":{\"sequential\":[[0,\"rgb(20,44,66)\"],[1,\"rgb(90,179,244)\"]],\"sequentialminus\":[[0,\"rgb(20,44,66)\"],[1,\"rgb(90,179,244)\"]]},\"colorway\":[\"#F8766D\",\"#A3A500\",\"#00BF7D\",\"#00B0F6\",\"#E76BF3\"],\"font\":{\"color\":\"rgb(51,51,51)\"},\"geo\":{\"bgcolor\":\"white\",\"lakecolor\":\"white\",\"landcolor\":\"rgb(237,237,237)\",\"showlakes\":true,\"showland\":true,\"subunitcolor\":\"white\"},\"hoverlabel\":{\"align\":\"left\"},\"hovermode\":\"closest\",\"paper_bgcolor\":\"white\",\"plot_bgcolor\":\"rgb(237,237,237)\",\"polar\":{\"angularaxis\":{\"gridcolor\":\"white\",\"linecolor\":\"white\",\"showgrid\":true,\"tickcolor\":\"rgb(51,51,51)\",\"ticks\":\"outside\"},\"bgcolor\":\"rgb(237,237,237)\",\"radialaxis\":{\"gridcolor\":\"white\",\"linecolor\":\"white\",\"showgrid\":true,\"tickcolor\":\"rgb(51,51,51)\",\"ticks\":\"outside\"}},\"scene\":{\"xaxis\":{\"backgroundcolor\":\"rgb(237,237,237)\",\"gridcolor\":\"white\",\"gridwidth\":2,\"linecolor\":\"white\",\"showbackground\":true,\"showgrid\":true,\"tickcolor\":\"rgb(51,51,51)\",\"ticks\":\"outside\",\"zerolinecolor\":\"white\"},\"yaxis\":{\"backgroundcolor\":\"rgb(237,237,237)\",\"gridcolor\":\"white\",\"gridwidth\":2,\"linecolor\":\"white\",\"showbackground\":true,\"showgrid\":true,\"tickcolor\":\"rgb(51,51,51)\",\"ticks\":\"outside\",\"zerolinecolor\":\"white\"},\"zaxis\":{\"backgroundcolor\":\"rgb(237,237,237)\",\"gridcolor\":\"white\",\"gridwidth\":2,\"linecolor\":\"white\",\"showbackground\":true,\"showgrid\":true,\"tickcolor\":\"rgb(51,51,51)\",\"ticks\":\"outside\",\"zerolinecolor\":\"white\"}},\"shapedefaults\":{\"fillcolor\":\"black\",\"line\":{\"width\":0},\"opacity\":0.3},\"ternary\":{\"aaxis\":{\"gridcolor\":\"white\",\"linecolor\":\"white\",\"showgrid\":true,\"tickcolor\":\"rgb(51,51,51)\",\"ticks\":\"outside\"},\"baxis\":{\"gridcolor\":\"white\",\"linecolor\":\"white\",\"showgrid\":true,\"tickcolor\":\"rgb(51,51,51)\",\"ticks\":\"outside\"},\"bgcolor\":\"rgb(237,237,237)\",\"caxis\":{\"gridcolor\":\"white\",\"linecolor\":\"white\",\"showgrid\":true,\"tickcolor\":\"rgb(51,51,51)\",\"ticks\":\"outside\"}},\"xaxis\":{\"automargin\":true,\"gridcolor\":\"white\",\"linecolor\":\"white\",\"showgrid\":true,\"tickcolor\":\"rgb(51,51,51)\",\"ticks\":\"outside\",\"title\":{\"standoff\":15},\"zerolinecolor\":\"white\"},\"yaxis\":{\"automargin\":true,\"gridcolor\":\"white\",\"linecolor\":\"white\",\"showgrid\":true,\"tickcolor\":\"rgb(51,51,51)\",\"ticks\":\"outside\",\"title\":{\"standoff\":15},\"zerolinecolor\":\"white\"}}},\"legend\":{\"orientation\":\"h\",\"yanchor\":\"bottom\",\"y\":-0.1,\"xanchor\":\"center\",\"x\":0.5},\"margin\":{\"b\":0,\"t\":0,\"l\":0,\"r\":0}},                        {\"responsive\": true}                    ).then(function(){\n",
       "                            \n",
       "var gd = document.getElementById('196fb459-eeb3-42cb-a650-75279c4bdadc');\n",
       "var x = new MutationObserver(function (mutations, observer) {{\n",
       "        var display = window.getComputedStyle(gd).display;\n",
       "        if (!display || display === 'none') {{\n",
       "            console.log([gd, 'removed!']);\n",
       "            Plotly.purge(gd);\n",
       "            observer.disconnect();\n",
       "        }}\n",
       "}});\n",
       "\n",
       "// Listen for the removal of the full notebook cells\n",
       "var notebookContainer = gd.closest('#notebook-container');\n",
       "if (notebookContainer) {{\n",
       "    x.observe(notebookContainer, {childList: true});\n",
       "}}\n",
       "\n",
       "// Listen for the clearing of the current output cell\n",
       "var outputEl = gd.closest('.output');\n",
       "if (outputEl) {{\n",
       "    x.observe(outputEl, {childList: true});\n",
       "}}\n",
       "\n",
       "                        })                };                });            </script>        </div>"
      ]
     },
     "metadata": {},
     "output_type": "display_data"
    }
   ],
   "source": [
    "# ----------------- Pie Chart For MH Disorder Vs Techs -----------------\n",
    "all_techs_now = prep_data[prep_data['tech_role_flag'] == 1]['curr_have_mh_disorder'].count()\n",
    "no_now = prep_data[(prep_data['tech_role_flag'] == 1) & (prep_data['curr_have_mh_disorder'] == 2) & ( np.isin(prep_data['country_work_in'], country))]['curr_have_mh_disorder'].count()\n",
    "yes_now = prep_data[(prep_data['tech_role_flag'] == 1) & (prep_data['curr_have_mh_disorder'] == 3) & ( np.isin(prep_data['country_work_in'], country))]['curr_have_mh_disorder'].count()\n",
    "maybe_now = prep_data[(prep_data['tech_role_flag'] == 1) & (prep_data['curr_have_mh_disorder'] == 1) & ( np.isin(prep_data['country_work_in'], country))]['curr_have_mh_disorder'].count()\n",
    "dnt_know = prep_data[(prep_data['tech_role_flag'] == 1) & (prep_data['curr_have_mh_disorder'] == 0) & ( np.isin(prep_data['country_work_in'], country))]['curr_have_mh_disorder'].count()\n",
    "\n",
    "labels = ['Possibly', 'Yes', 'No', \"Don't Know\"]\n",
    "sizes = [no_now/all_techs_now, yes_now/all_techs_now, maybe_now/all_techs_now, dnt_know/all_techs_now]\n",
    "\n",
    "MH_disorder_by_country_fig = go.Figure(data=[go.Pie(labels = labels, values=sizes)])\n",
    "\n",
    "MH_disorder_by_country_fig.update_traces(title = 'Overall Mental Health prop%', hoverinfo='label+percent', textfont_size=12, title_font_size = 24, title_position = \"middle center\",\n",
    "                  marker=dict(line=dict(color='#FFF', width=2)), showlegend = True\n",
    "                  )\n",
    "MH_disorder_by_country_fig.update_layout(\n",
    "              template = 'ggplot2',\n",
    "              legend=dict(orientation=\"h\", yanchor=\"bottom\", y=-0.1, xanchor=\"center\", x=0.5),\n",
    "              margin=dict(b = 0, t = 0, l = 0, r = 0),\n",
    "              )\n",
    "MH_disorder_by_country_fig.show()"
   ]
  },
  {
   "cell_type": "markdown",
   "metadata": {
    "id": "bf_XOYcoKpEB"
   },
   "source": [
    "### Age Vs MH prob Vs Country"
   ]
  },
  {
   "cell_type": "code",
   "execution_count": 18,
   "metadata": {
    "executionInfo": {
     "elapsed": 54,
     "status": "aborted",
     "timestamp": 1654337002842,
     "user": {
      "displayName": "habiba mohamed",
      "userId": "01346726008568088997"
     },
     "user_tz": -120
    },
    "id": "Wg2jdEDUKpEB"
   },
   "outputs": [
    {
     "data": {
      "text/html": [
       "<div>                            <div id=\"56cf2d0e-e3cc-48e8-b109-47edbbc63d2e\" class=\"plotly-graph-div\" style=\"height:350px; width:100%;\"></div>            <script type=\"text/javascript\">                require([\"plotly\"], function(Plotly) {                    window.PLOTLYENV=window.PLOTLYENV || {};                                    if (document.getElementById(\"56cf2d0e-e3cc-48e8-b109-47edbbc63d2e\")) {                    Plotly.newPlot(                        \"56cf2d0e-e3cc-48e8-b109-47edbbc63d2e\",                        [{\"hovertemplate\":\"range=%{x}<br>Count=%{y}<extra></extra>\",\"legendgroup\":\"\",\"line\":{\"color\":\"#636efa\",\"dash\":\"solid\"},\"marker\":{\"symbol\":\"circle\"},\"mode\":\"lines\",\"name\":\"\",\"orientation\":\"v\",\"showlegend\":false,\"x\":[\"20-25\",\"25-30\",\"30-35\",\"35-40\",\"40-45\",\"50-55\",\"55+\"],\"xaxis\":\"x\",\"y\":[115,229,233,193,118,54,34],\"yaxis\":\"y\",\"type\":\"scatter\"}],                        {\"template\":{\"data\":{\"barpolar\":[{\"marker\":{\"line\":{\"color\":\"rgb(234,234,242)\",\"width\":0.5},\"pattern\":{\"fillmode\":\"overlay\",\"size\":10,\"solidity\":0.2}},\"type\":\"barpolar\"}],\"bar\":[{\"error_x\":{\"color\":\"rgb(36,36,36)\"},\"error_y\":{\"color\":\"rgb(36,36,36)\"},\"marker\":{\"line\":{\"color\":\"rgb(234,234,242)\",\"width\":0.5},\"pattern\":{\"fillmode\":\"overlay\",\"size\":10,\"solidity\":0.2}},\"type\":\"bar\"}],\"carpet\":[{\"aaxis\":{\"endlinecolor\":\"rgb(36,36,36)\",\"gridcolor\":\"white\",\"linecolor\":\"white\",\"minorgridcolor\":\"white\",\"startlinecolor\":\"rgb(36,36,36)\"},\"baxis\":{\"endlinecolor\":\"rgb(36,36,36)\",\"gridcolor\":\"white\",\"linecolor\":\"white\",\"minorgridcolor\":\"white\",\"startlinecolor\":\"rgb(36,36,36)\"},\"type\":\"carpet\"}],\"choropleth\":[{\"colorbar\":{\"outlinewidth\":0,\"tickcolor\":\"rgb(36,36,36)\",\"ticklen\":8,\"ticks\":\"outside\",\"tickwidth\":2},\"type\":\"choropleth\"}],\"contourcarpet\":[{\"colorbar\":{\"outlinewidth\":0,\"tickcolor\":\"rgb(36,36,36)\",\"ticklen\":8,\"ticks\":\"outside\",\"tickwidth\":2},\"type\":\"contourcarpet\"}],\"contour\":[{\"colorbar\":{\"outlinewidth\":0,\"tickcolor\":\"rgb(36,36,36)\",\"ticklen\":8,\"ticks\":\"outside\",\"tickwidth\":2},\"colorscale\":[[0.0,\"rgb(2,4,25)\"],[0.06274509803921569,\"rgb(24,15,41)\"],[0.12549019607843137,\"rgb(47,23,57)\"],[0.18823529411764706,\"rgb(71,28,72)\"],[0.25098039215686274,\"rgb(97,30,82)\"],[0.3137254901960784,\"rgb(123,30,89)\"],[0.3764705882352941,\"rgb(150,27,91)\"],[0.4392156862745098,\"rgb(177,22,88)\"],[0.5019607843137255,\"rgb(203,26,79)\"],[0.5647058823529412,\"rgb(223,47,67)\"],[0.6274509803921569,\"rgb(236,76,61)\"],[0.6901960784313725,\"rgb(242,107,73)\"],[0.7529411764705882,\"rgb(244,135,95)\"],[0.8156862745098039,\"rgb(245,162,122)\"],[0.8784313725490196,\"rgb(246,188,153)\"],[0.9411764705882353,\"rgb(247,212,187)\"],[1.0,\"rgb(250,234,220)\"]],\"type\":\"contour\"}],\"heatmapgl\":[{\"colorbar\":{\"outlinewidth\":0,\"tickcolor\":\"rgb(36,36,36)\",\"ticklen\":8,\"ticks\":\"outside\",\"tickwidth\":2},\"colorscale\":[[0.0,\"rgb(2,4,25)\"],[0.06274509803921569,\"rgb(24,15,41)\"],[0.12549019607843137,\"rgb(47,23,57)\"],[0.18823529411764706,\"rgb(71,28,72)\"],[0.25098039215686274,\"rgb(97,30,82)\"],[0.3137254901960784,\"rgb(123,30,89)\"],[0.3764705882352941,\"rgb(150,27,91)\"],[0.4392156862745098,\"rgb(177,22,88)\"],[0.5019607843137255,\"rgb(203,26,79)\"],[0.5647058823529412,\"rgb(223,47,67)\"],[0.6274509803921569,\"rgb(236,76,61)\"],[0.6901960784313725,\"rgb(242,107,73)\"],[0.7529411764705882,\"rgb(244,135,95)\"],[0.8156862745098039,\"rgb(245,162,122)\"],[0.8784313725490196,\"rgb(246,188,153)\"],[0.9411764705882353,\"rgb(247,212,187)\"],[1.0,\"rgb(250,234,220)\"]],\"type\":\"heatmapgl\"}],\"heatmap\":[{\"colorbar\":{\"outlinewidth\":0,\"tickcolor\":\"rgb(36,36,36)\",\"ticklen\":8,\"ticks\":\"outside\",\"tickwidth\":2},\"colorscale\":[[0.0,\"rgb(2,4,25)\"],[0.06274509803921569,\"rgb(24,15,41)\"],[0.12549019607843137,\"rgb(47,23,57)\"],[0.18823529411764706,\"rgb(71,28,72)\"],[0.25098039215686274,\"rgb(97,30,82)\"],[0.3137254901960784,\"rgb(123,30,89)\"],[0.3764705882352941,\"rgb(150,27,91)\"],[0.4392156862745098,\"rgb(177,22,88)\"],[0.5019607843137255,\"rgb(203,26,79)\"],[0.5647058823529412,\"rgb(223,47,67)\"],[0.6274509803921569,\"rgb(236,76,61)\"],[0.6901960784313725,\"rgb(242,107,73)\"],[0.7529411764705882,\"rgb(244,135,95)\"],[0.8156862745098039,\"rgb(245,162,122)\"],[0.8784313725490196,\"rgb(246,188,153)\"],[0.9411764705882353,\"rgb(247,212,187)\"],[1.0,\"rgb(250,234,220)\"]],\"type\":\"heatmap\"}],\"histogram2dcontour\":[{\"colorbar\":{\"outlinewidth\":0,\"tickcolor\":\"rgb(36,36,36)\",\"ticklen\":8,\"ticks\":\"outside\",\"tickwidth\":2},\"colorscale\":[[0.0,\"rgb(2,4,25)\"],[0.06274509803921569,\"rgb(24,15,41)\"],[0.12549019607843137,\"rgb(47,23,57)\"],[0.18823529411764706,\"rgb(71,28,72)\"],[0.25098039215686274,\"rgb(97,30,82)\"],[0.3137254901960784,\"rgb(123,30,89)\"],[0.3764705882352941,\"rgb(150,27,91)\"],[0.4392156862745098,\"rgb(177,22,88)\"],[0.5019607843137255,\"rgb(203,26,79)\"],[0.5647058823529412,\"rgb(223,47,67)\"],[0.6274509803921569,\"rgb(236,76,61)\"],[0.6901960784313725,\"rgb(242,107,73)\"],[0.7529411764705882,\"rgb(244,135,95)\"],[0.8156862745098039,\"rgb(245,162,122)\"],[0.8784313725490196,\"rgb(246,188,153)\"],[0.9411764705882353,\"rgb(247,212,187)\"],[1.0,\"rgb(250,234,220)\"]],\"type\":\"histogram2dcontour\"}],\"histogram2d\":[{\"colorbar\":{\"outlinewidth\":0,\"tickcolor\":\"rgb(36,36,36)\",\"ticklen\":8,\"ticks\":\"outside\",\"tickwidth\":2},\"colorscale\":[[0.0,\"rgb(2,4,25)\"],[0.06274509803921569,\"rgb(24,15,41)\"],[0.12549019607843137,\"rgb(47,23,57)\"],[0.18823529411764706,\"rgb(71,28,72)\"],[0.25098039215686274,\"rgb(97,30,82)\"],[0.3137254901960784,\"rgb(123,30,89)\"],[0.3764705882352941,\"rgb(150,27,91)\"],[0.4392156862745098,\"rgb(177,22,88)\"],[0.5019607843137255,\"rgb(203,26,79)\"],[0.5647058823529412,\"rgb(223,47,67)\"],[0.6274509803921569,\"rgb(236,76,61)\"],[0.6901960784313725,\"rgb(242,107,73)\"],[0.7529411764705882,\"rgb(244,135,95)\"],[0.8156862745098039,\"rgb(245,162,122)\"],[0.8784313725490196,\"rgb(246,188,153)\"],[0.9411764705882353,\"rgb(247,212,187)\"],[1.0,\"rgb(250,234,220)\"]],\"type\":\"histogram2d\"}],\"histogram\":[{\"marker\":{\"pattern\":{\"fillmode\":\"overlay\",\"size\":10,\"solidity\":0.2}},\"type\":\"histogram\"}],\"mesh3d\":[{\"colorbar\":{\"outlinewidth\":0,\"tickcolor\":\"rgb(36,36,36)\",\"ticklen\":8,\"ticks\":\"outside\",\"tickwidth\":2},\"type\":\"mesh3d\"}],\"parcoords\":[{\"line\":{\"colorbar\":{\"outlinewidth\":0,\"tickcolor\":\"rgb(36,36,36)\",\"ticklen\":8,\"ticks\":\"outside\",\"tickwidth\":2}},\"type\":\"parcoords\"}],\"pie\":[{\"automargin\":true,\"type\":\"pie\"}],\"scatter3d\":[{\"line\":{\"colorbar\":{\"outlinewidth\":0,\"tickcolor\":\"rgb(36,36,36)\",\"ticklen\":8,\"ticks\":\"outside\",\"tickwidth\":2}},\"marker\":{\"colorbar\":{\"outlinewidth\":0,\"tickcolor\":\"rgb(36,36,36)\",\"ticklen\":8,\"ticks\":\"outside\",\"tickwidth\":2}},\"type\":\"scatter3d\"}],\"scattercarpet\":[{\"marker\":{\"colorbar\":{\"outlinewidth\":0,\"tickcolor\":\"rgb(36,36,36)\",\"ticklen\":8,\"ticks\":\"outside\",\"tickwidth\":2}},\"type\":\"scattercarpet\"}],\"scattergeo\":[{\"marker\":{\"colorbar\":{\"outlinewidth\":0,\"tickcolor\":\"rgb(36,36,36)\",\"ticklen\":8,\"ticks\":\"outside\",\"tickwidth\":2}},\"type\":\"scattergeo\"}],\"scattergl\":[{\"marker\":{\"colorbar\":{\"outlinewidth\":0,\"tickcolor\":\"rgb(36,36,36)\",\"ticklen\":8,\"ticks\":\"outside\",\"tickwidth\":2}},\"type\":\"scattergl\"}],\"scattermapbox\":[{\"marker\":{\"colorbar\":{\"outlinewidth\":0,\"tickcolor\":\"rgb(36,36,36)\",\"ticklen\":8,\"ticks\":\"outside\",\"tickwidth\":2}},\"type\":\"scattermapbox\"}],\"scatterpolargl\":[{\"marker\":{\"colorbar\":{\"outlinewidth\":0,\"tickcolor\":\"rgb(36,36,36)\",\"ticklen\":8,\"ticks\":\"outside\",\"tickwidth\":2}},\"type\":\"scatterpolargl\"}],\"scatterpolar\":[{\"marker\":{\"colorbar\":{\"outlinewidth\":0,\"tickcolor\":\"rgb(36,36,36)\",\"ticklen\":8,\"ticks\":\"outside\",\"tickwidth\":2}},\"type\":\"scatterpolar\"}],\"scatter\":[{\"fillpattern\":{\"fillmode\":\"overlay\",\"size\":10,\"solidity\":0.2},\"type\":\"scatter\"}],\"scatterternary\":[{\"marker\":{\"colorbar\":{\"outlinewidth\":0,\"tickcolor\":\"rgb(36,36,36)\",\"ticklen\":8,\"ticks\":\"outside\",\"tickwidth\":2}},\"type\":\"scatterternary\"}],\"surface\":[{\"colorbar\":{\"outlinewidth\":0,\"tickcolor\":\"rgb(36,36,36)\",\"ticklen\":8,\"ticks\":\"outside\",\"tickwidth\":2},\"colorscale\":[[0.0,\"rgb(2,4,25)\"],[0.06274509803921569,\"rgb(24,15,41)\"],[0.12549019607843137,\"rgb(47,23,57)\"],[0.18823529411764706,\"rgb(71,28,72)\"],[0.25098039215686274,\"rgb(97,30,82)\"],[0.3137254901960784,\"rgb(123,30,89)\"],[0.3764705882352941,\"rgb(150,27,91)\"],[0.4392156862745098,\"rgb(177,22,88)\"],[0.5019607843137255,\"rgb(203,26,79)\"],[0.5647058823529412,\"rgb(223,47,67)\"],[0.6274509803921569,\"rgb(236,76,61)\"],[0.6901960784313725,\"rgb(242,107,73)\"],[0.7529411764705882,\"rgb(244,135,95)\"],[0.8156862745098039,\"rgb(245,162,122)\"],[0.8784313725490196,\"rgb(246,188,153)\"],[0.9411764705882353,\"rgb(247,212,187)\"],[1.0,\"rgb(250,234,220)\"]],\"type\":\"surface\"}],\"table\":[{\"cells\":{\"fill\":{\"color\":\"rgb(231,231,240)\"},\"line\":{\"color\":\"white\"}},\"header\":{\"fill\":{\"color\":\"rgb(183,183,191)\"},\"line\":{\"color\":\"white\"}},\"type\":\"table\"}]},\"layout\":{\"annotationdefaults\":{\"arrowcolor\":\"rgb(67,103,167)\"},\"autotypenumbers\":\"strict\",\"coloraxis\":{\"colorbar\":{\"outlinewidth\":0,\"tickcolor\":\"rgb(36,36,36)\",\"ticklen\":8,\"ticks\":\"outside\",\"tickwidth\":2}},\"colorscale\":{\"sequential\":[[0.0,\"rgb(2,4,25)\"],[0.06274509803921569,\"rgb(24,15,41)\"],[0.12549019607843137,\"rgb(47,23,57)\"],[0.18823529411764706,\"rgb(71,28,72)\"],[0.25098039215686274,\"rgb(97,30,82)\"],[0.3137254901960784,\"rgb(123,30,89)\"],[0.3764705882352941,\"rgb(150,27,91)\"],[0.4392156862745098,\"rgb(177,22,88)\"],[0.5019607843137255,\"rgb(203,26,79)\"],[0.5647058823529412,\"rgb(223,47,67)\"],[0.6274509803921569,\"rgb(236,76,61)\"],[0.6901960784313725,\"rgb(242,107,73)\"],[0.7529411764705882,\"rgb(244,135,95)\"],[0.8156862745098039,\"rgb(245,162,122)\"],[0.8784313725490196,\"rgb(246,188,153)\"],[0.9411764705882353,\"rgb(247,212,187)\"],[1.0,\"rgb(250,234,220)\"]],\"sequentialminus\":[[0.0,\"rgb(2,4,25)\"],[0.06274509803921569,\"rgb(24,15,41)\"],[0.12549019607843137,\"rgb(47,23,57)\"],[0.18823529411764706,\"rgb(71,28,72)\"],[0.25098039215686274,\"rgb(97,30,82)\"],[0.3137254901960784,\"rgb(123,30,89)\"],[0.3764705882352941,\"rgb(150,27,91)\"],[0.4392156862745098,\"rgb(177,22,88)\"],[0.5019607843137255,\"rgb(203,26,79)\"],[0.5647058823529412,\"rgb(223,47,67)\"],[0.6274509803921569,\"rgb(236,76,61)\"],[0.6901960784313725,\"rgb(242,107,73)\"],[0.7529411764705882,\"rgb(244,135,95)\"],[0.8156862745098039,\"rgb(245,162,122)\"],[0.8784313725490196,\"rgb(246,188,153)\"],[0.9411764705882353,\"rgb(247,212,187)\"],[1.0,\"rgb(250,234,220)\"]]},\"colorway\":[\"rgb(76,114,176)\",\"rgb(221,132,82)\",\"rgb(85,168,104)\",\"rgb(196,78,82)\",\"rgb(129,114,179)\",\"rgb(147,120,96)\",\"rgb(218,139,195)\",\"rgb(140,140,140)\",\"rgb(204,185,116)\",\"rgb(100,181,205)\"],\"font\":{\"color\":\"rgb(36,36,36)\"},\"geo\":{\"bgcolor\":\"white\",\"lakecolor\":\"white\",\"landcolor\":\"rgb(234,234,242)\",\"showlakes\":true,\"showland\":true,\"subunitcolor\":\"white\"},\"hoverlabel\":{\"align\":\"left\"},\"hovermode\":\"closest\",\"paper_bgcolor\":\"white\",\"plot_bgcolor\":\"rgb(234,234,242)\",\"polar\":{\"angularaxis\":{\"gridcolor\":\"white\",\"linecolor\":\"white\",\"showgrid\":true,\"ticks\":\"\"},\"bgcolor\":\"rgb(234,234,242)\",\"radialaxis\":{\"gridcolor\":\"white\",\"linecolor\":\"white\",\"showgrid\":true,\"ticks\":\"\"}},\"scene\":{\"xaxis\":{\"backgroundcolor\":\"rgb(234,234,242)\",\"gridcolor\":\"white\",\"gridwidth\":2,\"linecolor\":\"white\",\"showbackground\":true,\"showgrid\":true,\"ticks\":\"\",\"zerolinecolor\":\"white\"},\"yaxis\":{\"backgroundcolor\":\"rgb(234,234,242)\",\"gridcolor\":\"white\",\"gridwidth\":2,\"linecolor\":\"white\",\"showbackground\":true,\"showgrid\":true,\"ticks\":\"\",\"zerolinecolor\":\"white\"},\"zaxis\":{\"backgroundcolor\":\"rgb(234,234,242)\",\"gridcolor\":\"white\",\"gridwidth\":2,\"linecolor\":\"white\",\"showbackground\":true,\"showgrid\":true,\"ticks\":\"\",\"zerolinecolor\":\"white\"}},\"shapedefaults\":{\"fillcolor\":\"rgb(67,103,167)\",\"line\":{\"width\":0},\"opacity\":0.5},\"ternary\":{\"aaxis\":{\"gridcolor\":\"white\",\"linecolor\":\"white\",\"showgrid\":true,\"ticks\":\"\"},\"baxis\":{\"gridcolor\":\"white\",\"linecolor\":\"white\",\"showgrid\":true,\"ticks\":\"\"},\"bgcolor\":\"rgb(234,234,242)\",\"caxis\":{\"gridcolor\":\"white\",\"linecolor\":\"white\",\"showgrid\":true,\"ticks\":\"\"}},\"xaxis\":{\"automargin\":true,\"gridcolor\":\"white\",\"linecolor\":\"white\",\"showgrid\":true,\"ticks\":\"\",\"title\":{\"standoff\":15},\"zerolinecolor\":\"white\"},\"yaxis\":{\"automargin\":true,\"gridcolor\":\"white\",\"linecolor\":\"white\",\"showgrid\":true,\"ticks\":\"\",\"title\":{\"standoff\":15},\"zerolinecolor\":\"white\"}}},\"xaxis\":{\"anchor\":\"y\",\"domain\":[0.0,1.0],\"title\":{\"text\":\"range\"}},\"yaxis\":{\"anchor\":\"x\",\"domain\":[0.0,1.0],\"title\":{\"text\":\"Count\"}},\"legend\":{\"tracegroupgap\":0},\"margin\":{\"t\":0,\"b\":0,\"l\":0,\"r\":0},\"height\":350},                        {\"responsive\": true}                    ).then(function(){\n",
       "                            \n",
       "var gd = document.getElementById('56cf2d0e-e3cc-48e8-b109-47edbbc63d2e');\n",
       "var x = new MutationObserver(function (mutations, observer) {{\n",
       "        var display = window.getComputedStyle(gd).display;\n",
       "        if (!display || display === 'none') {{\n",
       "            console.log([gd, 'removed!']);\n",
       "            Plotly.purge(gd);\n",
       "            observer.disconnect();\n",
       "        }}\n",
       "}});\n",
       "\n",
       "// Listen for the removal of the full notebook cells\n",
       "var notebookContainer = gd.closest('#notebook-container');\n",
       "if (notebookContainer) {{\n",
       "    x.observe(notebookContainer, {childList: true});\n",
       "}}\n",
       "\n",
       "// Listen for the clearing of the current output cell\n",
       "var outputEl = gd.closest('.output');\n",
       "if (outputEl) {{\n",
       "    x.observe(outputEl, {childList: true});\n",
       "}}\n",
       "\n",
       "                        })                };                });            </script>        </div>"
      ]
     },
     "metadata": {},
     "output_type": "display_data"
    }
   ],
   "source": [
    "def draw_Age_Vs_MH_prob_Vs_Country (country) :\n",
    "    bins = [20, 26, 31, 36, 41, 46, 51, 56]\n",
    "    labels = ['20-25', '25-30', '30-35', '35-40', '40-45', '50-55', '55+']\n",
    "    \n",
    "    age_by_county  = prep_data[(prep_data['tech_role_flag'] == 1 ) & ( np.isin(prep_data['country_work_in'], country))][['age']]\n",
    "    # grouping ages\n",
    "    age_by_county['range'] = pd.cut(age_by_county.age, bins, labels = labels,include_lowest = True)\n",
    "    #count values\n",
    "    age_by_county = age_by_county.groupby(by =['range']).size().rename('Count').reset_index().sort_values(by = ['range'])\n",
    "    \n",
    "    Age_Vs_MH_prob_Vs_Country = px.line(age_by_county, x = 'range', y = 'Count')\n",
    "    Age_Vs_MH_prob_Vs_Country.update_layout(margin=dict(b = 0, t = 0, l = 0, r = 0), height = 350, template = 'seaborn')\n",
    "    return Age_Vs_MH_prob_Vs_Country\n",
    "draw_Age_Vs_MH_prob_Vs_Country (country)"
   ]
  },
  {
   "cell_type": "markdown",
   "metadata": {
    "id": "Qhk3HBg4KpEC"
   },
   "source": [
    "### Yes have a mental health problem response in country Vs years "
   ]
  },
  {
   "cell_type": "code",
   "execution_count": 19,
   "metadata": {
    "executionInfo": {
     "elapsed": 54,
     "status": "aborted",
     "timestamp": 1654337002842,
     "user": {
      "displayName": "habiba mohamed",
      "userId": "01346726008568088997"
     },
     "user_tz": -120
    },
    "id": "cw_GQDziKpEC"
   },
   "outputs": [
    {
     "data": {
      "text/html": [
       "<div>                            <div id=\"7c13d002-f31a-4d28-996c-3c854593d009\" class=\"plotly-graph-div\" style=\"height:400px; width:700px;\"></div>            <script type=\"text/javascript\">                require([\"plotly\"], function(Plotly) {                    window.PLOTLYENV=window.PLOTLYENV || {};                                    if (document.getElementById(\"7c13d002-f31a-4d28-996c-3c854593d009\")) {                    Plotly.newPlot(                        \"7c13d002-f31a-4d28-996c-3c854593d009\",                        [{\"hovertemplate\":\"year=%{x}<br>avg=%{y}<extra></extra>\",\"legendgroup\":\"\",\"line\":{\"color\":\"#636efa\",\"dash\":\"solid\"},\"marker\":{\"symbol\":\"circle\"},\"mode\":\"lines+markers\",\"name\":\"\",\"orientation\":\"v\",\"showlegend\":false,\"x\":[\"2017\",\"2018\",\"2019\",\"2020\"],\"xaxis\":\"x\",\"y\":[49.0,51.0,51.0,39.0],\"yaxis\":\"y\",\"type\":\"scatter\"},{\"x\":[\"2017\",\"2018\",\"2019\",\"2020\"],\"y\":[49.0,51.0,51.0,39.0],\"type\":\"bar\"}],                        {\"template\":{\"data\":{\"histogram2dcontour\":[{\"type\":\"histogram2dcontour\",\"colorbar\":{\"outlinewidth\":0,\"ticks\":\"\"},\"colorscale\":[[0.0,\"#0d0887\"],[0.1111111111111111,\"#46039f\"],[0.2222222222222222,\"#7201a8\"],[0.3333333333333333,\"#9c179e\"],[0.4444444444444444,\"#bd3786\"],[0.5555555555555556,\"#d8576b\"],[0.6666666666666666,\"#ed7953\"],[0.7777777777777778,\"#fb9f3a\"],[0.8888888888888888,\"#fdca26\"],[1.0,\"#f0f921\"]]}],\"choropleth\":[{\"type\":\"choropleth\",\"colorbar\":{\"outlinewidth\":0,\"ticks\":\"\"}}],\"histogram2d\":[{\"type\":\"histogram2d\",\"colorbar\":{\"outlinewidth\":0,\"ticks\":\"\"},\"colorscale\":[[0.0,\"#0d0887\"],[0.1111111111111111,\"#46039f\"],[0.2222222222222222,\"#7201a8\"],[0.3333333333333333,\"#9c179e\"],[0.4444444444444444,\"#bd3786\"],[0.5555555555555556,\"#d8576b\"],[0.6666666666666666,\"#ed7953\"],[0.7777777777777778,\"#fb9f3a\"],[0.8888888888888888,\"#fdca26\"],[1.0,\"#f0f921\"]]}],\"heatmap\":[{\"type\":\"heatmap\",\"colorbar\":{\"outlinewidth\":0,\"ticks\":\"\"},\"colorscale\":[[0.0,\"#0d0887\"],[0.1111111111111111,\"#46039f\"],[0.2222222222222222,\"#7201a8\"],[0.3333333333333333,\"#9c179e\"],[0.4444444444444444,\"#bd3786\"],[0.5555555555555556,\"#d8576b\"],[0.6666666666666666,\"#ed7953\"],[0.7777777777777778,\"#fb9f3a\"],[0.8888888888888888,\"#fdca26\"],[1.0,\"#f0f921\"]]}],\"heatmapgl\":[{\"type\":\"heatmapgl\",\"colorbar\":{\"outlinewidth\":0,\"ticks\":\"\"},\"colorscale\":[[0.0,\"#0d0887\"],[0.1111111111111111,\"#46039f\"],[0.2222222222222222,\"#7201a8\"],[0.3333333333333333,\"#9c179e\"],[0.4444444444444444,\"#bd3786\"],[0.5555555555555556,\"#d8576b\"],[0.6666666666666666,\"#ed7953\"],[0.7777777777777778,\"#fb9f3a\"],[0.8888888888888888,\"#fdca26\"],[1.0,\"#f0f921\"]]}],\"contourcarpet\":[{\"type\":\"contourcarpet\",\"colorbar\":{\"outlinewidth\":0,\"ticks\":\"\"}}],\"contour\":[{\"type\":\"contour\",\"colorbar\":{\"outlinewidth\":0,\"ticks\":\"\"},\"colorscale\":[[0.0,\"#0d0887\"],[0.1111111111111111,\"#46039f\"],[0.2222222222222222,\"#7201a8\"],[0.3333333333333333,\"#9c179e\"],[0.4444444444444444,\"#bd3786\"],[0.5555555555555556,\"#d8576b\"],[0.6666666666666666,\"#ed7953\"],[0.7777777777777778,\"#fb9f3a\"],[0.8888888888888888,\"#fdca26\"],[1.0,\"#f0f921\"]]}],\"surface\":[{\"type\":\"surface\",\"colorbar\":{\"outlinewidth\":0,\"ticks\":\"\"},\"colorscale\":[[0.0,\"#0d0887\"],[0.1111111111111111,\"#46039f\"],[0.2222222222222222,\"#7201a8\"],[0.3333333333333333,\"#9c179e\"],[0.4444444444444444,\"#bd3786\"],[0.5555555555555556,\"#d8576b\"],[0.6666666666666666,\"#ed7953\"],[0.7777777777777778,\"#fb9f3a\"],[0.8888888888888888,\"#fdca26\"],[1.0,\"#f0f921\"]]}],\"mesh3d\":[{\"type\":\"mesh3d\",\"colorbar\":{\"outlinewidth\":0,\"ticks\":\"\"}}],\"scatter\":[{\"fillpattern\":{\"fillmode\":\"overlay\",\"size\":10,\"solidity\":0.2},\"type\":\"scatter\"}],\"parcoords\":[{\"type\":\"parcoords\",\"line\":{\"colorbar\":{\"outlinewidth\":0,\"ticks\":\"\"}}}],\"scatterpolargl\":[{\"type\":\"scatterpolargl\",\"marker\":{\"colorbar\":{\"outlinewidth\":0,\"ticks\":\"\"}}}],\"bar\":[{\"error_x\":{\"color\":\"#2a3f5f\"},\"error_y\":{\"color\":\"#2a3f5f\"},\"marker\":{\"line\":{\"color\":\"#E5ECF6\",\"width\":0.5},\"pattern\":{\"fillmode\":\"overlay\",\"size\":10,\"solidity\":0.2}},\"type\":\"bar\"}],\"scattergeo\":[{\"type\":\"scattergeo\",\"marker\":{\"colorbar\":{\"outlinewidth\":0,\"ticks\":\"\"}}}],\"scatterpolar\":[{\"type\":\"scatterpolar\",\"marker\":{\"colorbar\":{\"outlinewidth\":0,\"ticks\":\"\"}}}],\"histogram\":[{\"marker\":{\"pattern\":{\"fillmode\":\"overlay\",\"size\":10,\"solidity\":0.2}},\"type\":\"histogram\"}],\"scattergl\":[{\"type\":\"scattergl\",\"marker\":{\"colorbar\":{\"outlinewidth\":0,\"ticks\":\"\"}}}],\"scatter3d\":[{\"type\":\"scatter3d\",\"line\":{\"colorbar\":{\"outlinewidth\":0,\"ticks\":\"\"}},\"marker\":{\"colorbar\":{\"outlinewidth\":0,\"ticks\":\"\"}}}],\"scattermapbox\":[{\"type\":\"scattermapbox\",\"marker\":{\"colorbar\":{\"outlinewidth\":0,\"ticks\":\"\"}}}],\"scatterternary\":[{\"type\":\"scatterternary\",\"marker\":{\"colorbar\":{\"outlinewidth\":0,\"ticks\":\"\"}}}],\"scattercarpet\":[{\"type\":\"scattercarpet\",\"marker\":{\"colorbar\":{\"outlinewidth\":0,\"ticks\":\"\"}}}],\"carpet\":[{\"aaxis\":{\"endlinecolor\":\"#2a3f5f\",\"gridcolor\":\"white\",\"linecolor\":\"white\",\"minorgridcolor\":\"white\",\"startlinecolor\":\"#2a3f5f\"},\"baxis\":{\"endlinecolor\":\"#2a3f5f\",\"gridcolor\":\"white\",\"linecolor\":\"white\",\"minorgridcolor\":\"white\",\"startlinecolor\":\"#2a3f5f\"},\"type\":\"carpet\"}],\"table\":[{\"cells\":{\"fill\":{\"color\":\"#EBF0F8\"},\"line\":{\"color\":\"white\"}},\"header\":{\"fill\":{\"color\":\"#C8D4E3\"},\"line\":{\"color\":\"white\"}},\"type\":\"table\"}],\"barpolar\":[{\"marker\":{\"line\":{\"color\":\"#E5ECF6\",\"width\":0.5},\"pattern\":{\"fillmode\":\"overlay\",\"size\":10,\"solidity\":0.2}},\"type\":\"barpolar\"}],\"pie\":[{\"automargin\":true,\"type\":\"pie\"}]},\"layout\":{\"autotypenumbers\":\"strict\",\"colorway\":[\"#636efa\",\"#EF553B\",\"#00cc96\",\"#ab63fa\",\"#FFA15A\",\"#19d3f3\",\"#FF6692\",\"#B6E880\",\"#FF97FF\",\"#FECB52\"],\"font\":{\"color\":\"#2a3f5f\"},\"hovermode\":\"closest\",\"hoverlabel\":{\"align\":\"left\"},\"paper_bgcolor\":\"white\",\"plot_bgcolor\":\"#E5ECF6\",\"polar\":{\"bgcolor\":\"#E5ECF6\",\"angularaxis\":{\"gridcolor\":\"white\",\"linecolor\":\"white\",\"ticks\":\"\"},\"radialaxis\":{\"gridcolor\":\"white\",\"linecolor\":\"white\",\"ticks\":\"\"}},\"ternary\":{\"bgcolor\":\"#E5ECF6\",\"aaxis\":{\"gridcolor\":\"white\",\"linecolor\":\"white\",\"ticks\":\"\"},\"baxis\":{\"gridcolor\":\"white\",\"linecolor\":\"white\",\"ticks\":\"\"},\"caxis\":{\"gridcolor\":\"white\",\"linecolor\":\"white\",\"ticks\":\"\"}},\"coloraxis\":{\"colorbar\":{\"outlinewidth\":0,\"ticks\":\"\"}},\"colorscale\":{\"sequential\":[[0.0,\"#0d0887\"],[0.1111111111111111,\"#46039f\"],[0.2222222222222222,\"#7201a8\"],[0.3333333333333333,\"#9c179e\"],[0.4444444444444444,\"#bd3786\"],[0.5555555555555556,\"#d8576b\"],[0.6666666666666666,\"#ed7953\"],[0.7777777777777778,\"#fb9f3a\"],[0.8888888888888888,\"#fdca26\"],[1.0,\"#f0f921\"]],\"sequentialminus\":[[0.0,\"#0d0887\"],[0.1111111111111111,\"#46039f\"],[0.2222222222222222,\"#7201a8\"],[0.3333333333333333,\"#9c179e\"],[0.4444444444444444,\"#bd3786\"],[0.5555555555555556,\"#d8576b\"],[0.6666666666666666,\"#ed7953\"],[0.7777777777777778,\"#fb9f3a\"],[0.8888888888888888,\"#fdca26\"],[1.0,\"#f0f921\"]],\"diverging\":[[0,\"#8e0152\"],[0.1,\"#c51b7d\"],[0.2,\"#de77ae\"],[0.3,\"#f1b6da\"],[0.4,\"#fde0ef\"],[0.5,\"#f7f7f7\"],[0.6,\"#e6f5d0\"],[0.7,\"#b8e186\"],[0.8,\"#7fbc41\"],[0.9,\"#4d9221\"],[1,\"#276419\"]]},\"xaxis\":{\"gridcolor\":\"white\",\"linecolor\":\"white\",\"ticks\":\"\",\"title\":{\"standoff\":15},\"zerolinecolor\":\"white\",\"automargin\":true,\"zerolinewidth\":2},\"yaxis\":{\"gridcolor\":\"white\",\"linecolor\":\"white\",\"ticks\":\"\",\"title\":{\"standoff\":15},\"zerolinecolor\":\"white\",\"automargin\":true,\"zerolinewidth\":2},\"scene\":{\"xaxis\":{\"backgroundcolor\":\"#E5ECF6\",\"gridcolor\":\"white\",\"linecolor\":\"white\",\"showbackground\":true,\"ticks\":\"\",\"zerolinecolor\":\"white\",\"gridwidth\":2},\"yaxis\":{\"backgroundcolor\":\"#E5ECF6\",\"gridcolor\":\"white\",\"linecolor\":\"white\",\"showbackground\":true,\"ticks\":\"\",\"zerolinecolor\":\"white\",\"gridwidth\":2},\"zaxis\":{\"backgroundcolor\":\"#E5ECF6\",\"gridcolor\":\"white\",\"linecolor\":\"white\",\"showbackground\":true,\"ticks\":\"\",\"zerolinecolor\":\"white\",\"gridwidth\":2}},\"shapedefaults\":{\"line\":{\"color\":\"#2a3f5f\"}},\"annotationdefaults\":{\"arrowcolor\":\"#2a3f5f\",\"arrowhead\":0,\"arrowwidth\":1},\"geo\":{\"bgcolor\":\"white\",\"landcolor\":\"#E5ECF6\",\"subunitcolor\":\"white\",\"showland\":true,\"showlakes\":true,\"lakecolor\":\"white\"},\"title\":{\"x\":0.05},\"mapbox\":{\"style\":\"light\"}}},\"xaxis\":{\"anchor\":\"y\",\"domain\":[0.0,1.0],\"title\":{\"text\":\"year\"}},\"yaxis\":{\"anchor\":\"x\",\"domain\":[0.0,1.0],\"title\":{\"text\":\"Percent\"},\"range\":[0,100]},\"legend\":{\"tracegroupgap\":0,\"title\":{\"text\":\"Have Mental Health Problem?\"}},\"title\":{\"text\":\"Mental Health problem among years\"},\"width\":700,\"height\":400,\"barmode\":\"group\"},                        {\"responsive\": true}                    ).then(function(){\n",
       "                            \n",
       "var gd = document.getElementById('7c13d002-f31a-4d28-996c-3c854593d009');\n",
       "var x = new MutationObserver(function (mutations, observer) {{\n",
       "        var display = window.getComputedStyle(gd).display;\n",
       "        if (!display || display === 'none') {{\n",
       "            console.log([gd, 'removed!']);\n",
       "            Plotly.purge(gd);\n",
       "            observer.disconnect();\n",
       "        }}\n",
       "}});\n",
       "\n",
       "// Listen for the removal of the full notebook cells\n",
       "var notebookContainer = gd.closest('#notebook-container');\n",
       "if (notebookContainer) {{\n",
       "    x.observe(notebookContainer, {childList: true});\n",
       "}}\n",
       "\n",
       "// Listen for the clearing of the current output cell\n",
       "var outputEl = gd.closest('.output');\n",
       "if (outputEl) {{\n",
       "    x.observe(outputEl, {childList: true});\n",
       "}}\n",
       "\n",
       "                        })                };                });            </script>        </div>"
      ]
     },
     "metadata": {},
     "output_type": "display_data"
    }
   ],
   "source": [
    "# total Num among year \n",
    "years = pd.DataFrame(['2017', '2018', '2019', '2020'])\n",
    "total_2017 = prep_data [(prep_data['year'] == '2017') & ( np.isin(prep_data['country_work_in'], country))].shape[0]\n",
    "total_2018 = prep_data [(prep_data['year'] == '2018') & ( np.isin(prep_data['country_work_in'], country))].shape[0]\n",
    "total_2019 = prep_data [(prep_data['year'] == '2019') & ( np.isin(prep_data['country_work_in'], country))].shape[0]\n",
    "total_2020 = prep_data [(prep_data['year'] == '2020') & ( np.isin(prep_data['country_work_in'], country))].shape[0]\n",
    "total_to_be_divided =pd.DataFrame([total_2017, total_2018, total_2019, total_2020]).rename(columns = {0:'count'})\n",
    "total_to_be_divided = pd.concat([years ,total_to_be_divided], axis= 1).rename(columns = {0 : \"year\"})\n",
    "\n",
    "# Mental health Prob preparation\n",
    "Mh_by_year  = prep_data[(prep_data['curr_have_mh_disorder'] == 3 ) & ( np.isin(prep_data['country_work_in'], country))][['year']]\n",
    "Mh_by_year = pd.DataFrame(Mh_by_year.groupby(by=['year'])['year'].size().rename('Count').reset_index().sort_values(by = ['year'])['Count'])\n",
    "avg = pd.DataFrame((Mh_by_year['Count'])/ total_to_be_divided['count'] * 100).round(0)\n",
    "avg_Mh_by_year = pd.concat([years ,avg], axis= 1)\n",
    "avg_Mh_by_year.columns = ['year', 'avg']\n",
    "\n",
    "# plot\n",
    "fig = px.line(avg_Mh_by_year, x='year', y='avg', width = 1000, markers = True, title = 'Mental Health Problems In Tech Industry among years ', range_y =[0, 100])\n",
    "fig.add_bar( x=avg_Mh_by_year['year'], y=avg_Mh_by_year['avg'])\n",
    "fig.update_layout(\n",
    "    width = 700,\n",
    "    height = 400,\n",
    "    barmode='group', \n",
    "    title=\"Mental Health problem among years\",\n",
    "    xaxis_title=\"year\",\n",
    "    yaxis_title=\"Percent\",\n",
    "    legend_title=\"Have Mental Health Problem?\",\n",
    "    )\n",
    "fig.show()"
   ]
  },
  {
   "cell_type": "markdown",
   "metadata": {
    "id": "sfYo6SheKpEC"
   },
   "source": [
    "### All responses in Countries Vs years "
   ]
  },
  {
   "cell_type": "code",
   "execution_count": 20,
   "metadata": {
    "executionInfo": {
     "elapsed": 56,
     "status": "aborted",
     "timestamp": 1654337002845,
     "user": {
      "displayName": "habiba mohamed",
      "userId": "01346726008568088997"
     },
     "user_tz": -120
    },
    "id": "kwoQK3R7KpEC"
   },
   "outputs": [
    {
     "data": {
      "text/html": [
       "<div>                            <div id=\"c555ac71-9246-4f1e-90cd-f6fac4e4294f\" class=\"plotly-graph-div\" style=\"height:350px; width:100%;\"></div>            <script type=\"text/javascript\">                require([\"plotly\"], function(Plotly) {                    window.PLOTLYENV=window.PLOTLYENV || {};                                    if (document.getElementById(\"c555ac71-9246-4f1e-90cd-f6fac4e4294f\")) {                    Plotly.newPlot(                        \"c555ac71-9246-4f1e-90cd-f6fac4e4294f\",                        [{\"marker\":{\"color\":\"#f1e3dd\",\"line\":{\"color\":\"rgb(5,5,5)\",\"width\":1}},\"name\":\"No\",\"x\":[\"2017\",\"2018\",\"2019\",\"2020\"],\"y\":[7.0,6.0,5.0,3.0],\"type\":\"bar\"},{\"marker\":{\"color\":\"#bccad6\",\"line\":{\"color\":\"rgb(5,5,5)\",\"width\":1}},\"name\":\"Don't Know\",\"x\":[\"2017\",\"2018\",\"2019\",\"2020\"],\"y\":[25.0,24.0,25.0,30.0],\"type\":\"bar\"},{\"marker\":{\"color\":\"#8d9db6\",\"line\":{\"color\":\"rgb(5,5,5)\",\"width\":1}},\"name\":\"Possibly\",\"x\":[\"2017\",\"2018\",\"2019\",\"2020\"],\"y\":[19.0,19.0,19.0,27.0],\"type\":\"bar\"},{\"marker\":{\"color\":\"#6b5b95\",\"line\":{\"color\":\"rgb(5,5,5)\",\"width\":1}},\"name\":\"Yes\",\"x\":[\"2017\",\"2018\",\"2019\",\"2020\"],\"y\":[49.0,51.0,51.0,39.0],\"type\":\"bar\"}],                        {\"template\":{\"data\":{\"histogram2dcontour\":[{\"type\":\"histogram2dcontour\",\"colorbar\":{\"outlinewidth\":0,\"ticks\":\"\"},\"colorscale\":[[0.0,\"#0d0887\"],[0.1111111111111111,\"#46039f\"],[0.2222222222222222,\"#7201a8\"],[0.3333333333333333,\"#9c179e\"],[0.4444444444444444,\"#bd3786\"],[0.5555555555555556,\"#d8576b\"],[0.6666666666666666,\"#ed7953\"],[0.7777777777777778,\"#fb9f3a\"],[0.8888888888888888,\"#fdca26\"],[1.0,\"#f0f921\"]]}],\"choropleth\":[{\"type\":\"choropleth\",\"colorbar\":{\"outlinewidth\":0,\"ticks\":\"\"}}],\"histogram2d\":[{\"type\":\"histogram2d\",\"colorbar\":{\"outlinewidth\":0,\"ticks\":\"\"},\"colorscale\":[[0.0,\"#0d0887\"],[0.1111111111111111,\"#46039f\"],[0.2222222222222222,\"#7201a8\"],[0.3333333333333333,\"#9c179e\"],[0.4444444444444444,\"#bd3786\"],[0.5555555555555556,\"#d8576b\"],[0.6666666666666666,\"#ed7953\"],[0.7777777777777778,\"#fb9f3a\"],[0.8888888888888888,\"#fdca26\"],[1.0,\"#f0f921\"]]}],\"heatmap\":[{\"type\":\"heatmap\",\"colorbar\":{\"outlinewidth\":0,\"ticks\":\"\"},\"colorscale\":[[0.0,\"#0d0887\"],[0.1111111111111111,\"#46039f\"],[0.2222222222222222,\"#7201a8\"],[0.3333333333333333,\"#9c179e\"],[0.4444444444444444,\"#bd3786\"],[0.5555555555555556,\"#d8576b\"],[0.6666666666666666,\"#ed7953\"],[0.7777777777777778,\"#fb9f3a\"],[0.8888888888888888,\"#fdca26\"],[1.0,\"#f0f921\"]]}],\"heatmapgl\":[{\"type\":\"heatmapgl\",\"colorbar\":{\"outlinewidth\":0,\"ticks\":\"\"},\"colorscale\":[[0.0,\"#0d0887\"],[0.1111111111111111,\"#46039f\"],[0.2222222222222222,\"#7201a8\"],[0.3333333333333333,\"#9c179e\"],[0.4444444444444444,\"#bd3786\"],[0.5555555555555556,\"#d8576b\"],[0.6666666666666666,\"#ed7953\"],[0.7777777777777778,\"#fb9f3a\"],[0.8888888888888888,\"#fdca26\"],[1.0,\"#f0f921\"]]}],\"contourcarpet\":[{\"type\":\"contourcarpet\",\"colorbar\":{\"outlinewidth\":0,\"ticks\":\"\"}}],\"contour\":[{\"type\":\"contour\",\"colorbar\":{\"outlinewidth\":0,\"ticks\":\"\"},\"colorscale\":[[0.0,\"#0d0887\"],[0.1111111111111111,\"#46039f\"],[0.2222222222222222,\"#7201a8\"],[0.3333333333333333,\"#9c179e\"],[0.4444444444444444,\"#bd3786\"],[0.5555555555555556,\"#d8576b\"],[0.6666666666666666,\"#ed7953\"],[0.7777777777777778,\"#fb9f3a\"],[0.8888888888888888,\"#fdca26\"],[1.0,\"#f0f921\"]]}],\"surface\":[{\"type\":\"surface\",\"colorbar\":{\"outlinewidth\":0,\"ticks\":\"\"},\"colorscale\":[[0.0,\"#0d0887\"],[0.1111111111111111,\"#46039f\"],[0.2222222222222222,\"#7201a8\"],[0.3333333333333333,\"#9c179e\"],[0.4444444444444444,\"#bd3786\"],[0.5555555555555556,\"#d8576b\"],[0.6666666666666666,\"#ed7953\"],[0.7777777777777778,\"#fb9f3a\"],[0.8888888888888888,\"#fdca26\"],[1.0,\"#f0f921\"]]}],\"mesh3d\":[{\"type\":\"mesh3d\",\"colorbar\":{\"outlinewidth\":0,\"ticks\":\"\"}}],\"scatter\":[{\"fillpattern\":{\"fillmode\":\"overlay\",\"size\":10,\"solidity\":0.2},\"type\":\"scatter\"}],\"parcoords\":[{\"type\":\"parcoords\",\"line\":{\"colorbar\":{\"outlinewidth\":0,\"ticks\":\"\"}}}],\"scatterpolargl\":[{\"type\":\"scatterpolargl\",\"marker\":{\"colorbar\":{\"outlinewidth\":0,\"ticks\":\"\"}}}],\"bar\":[{\"error_x\":{\"color\":\"#2a3f5f\"},\"error_y\":{\"color\":\"#2a3f5f\"},\"marker\":{\"line\":{\"color\":\"#E5ECF6\",\"width\":0.5},\"pattern\":{\"fillmode\":\"overlay\",\"size\":10,\"solidity\":0.2}},\"type\":\"bar\"}],\"scattergeo\":[{\"type\":\"scattergeo\",\"marker\":{\"colorbar\":{\"outlinewidth\":0,\"ticks\":\"\"}}}],\"scatterpolar\":[{\"type\":\"scatterpolar\",\"marker\":{\"colorbar\":{\"outlinewidth\":0,\"ticks\":\"\"}}}],\"histogram\":[{\"marker\":{\"pattern\":{\"fillmode\":\"overlay\",\"size\":10,\"solidity\":0.2}},\"type\":\"histogram\"}],\"scattergl\":[{\"type\":\"scattergl\",\"marker\":{\"colorbar\":{\"outlinewidth\":0,\"ticks\":\"\"}}}],\"scatter3d\":[{\"type\":\"scatter3d\",\"line\":{\"colorbar\":{\"outlinewidth\":0,\"ticks\":\"\"}},\"marker\":{\"colorbar\":{\"outlinewidth\":0,\"ticks\":\"\"}}}],\"scattermapbox\":[{\"type\":\"scattermapbox\",\"marker\":{\"colorbar\":{\"outlinewidth\":0,\"ticks\":\"\"}}}],\"scatterternary\":[{\"type\":\"scatterternary\",\"marker\":{\"colorbar\":{\"outlinewidth\":0,\"ticks\":\"\"}}}],\"scattercarpet\":[{\"type\":\"scattercarpet\",\"marker\":{\"colorbar\":{\"outlinewidth\":0,\"ticks\":\"\"}}}],\"carpet\":[{\"aaxis\":{\"endlinecolor\":\"#2a3f5f\",\"gridcolor\":\"white\",\"linecolor\":\"white\",\"minorgridcolor\":\"white\",\"startlinecolor\":\"#2a3f5f\"},\"baxis\":{\"endlinecolor\":\"#2a3f5f\",\"gridcolor\":\"white\",\"linecolor\":\"white\",\"minorgridcolor\":\"white\",\"startlinecolor\":\"#2a3f5f\"},\"type\":\"carpet\"}],\"table\":[{\"cells\":{\"fill\":{\"color\":\"#EBF0F8\"},\"line\":{\"color\":\"white\"}},\"header\":{\"fill\":{\"color\":\"#C8D4E3\"},\"line\":{\"color\":\"white\"}},\"type\":\"table\"}],\"barpolar\":[{\"marker\":{\"line\":{\"color\":\"#E5ECF6\",\"width\":0.5},\"pattern\":{\"fillmode\":\"overlay\",\"size\":10,\"solidity\":0.2}},\"type\":\"barpolar\"}],\"pie\":[{\"automargin\":true,\"type\":\"pie\"}]},\"layout\":{\"autotypenumbers\":\"strict\",\"colorway\":[\"#636efa\",\"#EF553B\",\"#00cc96\",\"#ab63fa\",\"#FFA15A\",\"#19d3f3\",\"#FF6692\",\"#B6E880\",\"#FF97FF\",\"#FECB52\"],\"font\":{\"color\":\"#2a3f5f\"},\"hovermode\":\"closest\",\"hoverlabel\":{\"align\":\"left\"},\"paper_bgcolor\":\"white\",\"plot_bgcolor\":\"#E5ECF6\",\"polar\":{\"bgcolor\":\"#E5ECF6\",\"angularaxis\":{\"gridcolor\":\"white\",\"linecolor\":\"white\",\"ticks\":\"\"},\"radialaxis\":{\"gridcolor\":\"white\",\"linecolor\":\"white\",\"ticks\":\"\"}},\"ternary\":{\"bgcolor\":\"#E5ECF6\",\"aaxis\":{\"gridcolor\":\"white\",\"linecolor\":\"white\",\"ticks\":\"\"},\"baxis\":{\"gridcolor\":\"white\",\"linecolor\":\"white\",\"ticks\":\"\"},\"caxis\":{\"gridcolor\":\"white\",\"linecolor\":\"white\",\"ticks\":\"\"}},\"coloraxis\":{\"colorbar\":{\"outlinewidth\":0,\"ticks\":\"\"}},\"colorscale\":{\"sequential\":[[0.0,\"#0d0887\"],[0.1111111111111111,\"#46039f\"],[0.2222222222222222,\"#7201a8\"],[0.3333333333333333,\"#9c179e\"],[0.4444444444444444,\"#bd3786\"],[0.5555555555555556,\"#d8576b\"],[0.6666666666666666,\"#ed7953\"],[0.7777777777777778,\"#fb9f3a\"],[0.8888888888888888,\"#fdca26\"],[1.0,\"#f0f921\"]],\"sequentialminus\":[[0.0,\"#0d0887\"],[0.1111111111111111,\"#46039f\"],[0.2222222222222222,\"#7201a8\"],[0.3333333333333333,\"#9c179e\"],[0.4444444444444444,\"#bd3786\"],[0.5555555555555556,\"#d8576b\"],[0.6666666666666666,\"#ed7953\"],[0.7777777777777778,\"#fb9f3a\"],[0.8888888888888888,\"#fdca26\"],[1.0,\"#f0f921\"]],\"diverging\":[[0,\"#8e0152\"],[0.1,\"#c51b7d\"],[0.2,\"#de77ae\"],[0.3,\"#f1b6da\"],[0.4,\"#fde0ef\"],[0.5,\"#f7f7f7\"],[0.6,\"#e6f5d0\"],[0.7,\"#b8e186\"],[0.8,\"#7fbc41\"],[0.9,\"#4d9221\"],[1,\"#276419\"]]},\"xaxis\":{\"gridcolor\":\"white\",\"linecolor\":\"white\",\"ticks\":\"\",\"title\":{\"standoff\":15},\"zerolinecolor\":\"white\",\"automargin\":true,\"zerolinewidth\":2},\"yaxis\":{\"gridcolor\":\"white\",\"linecolor\":\"white\",\"ticks\":\"\",\"title\":{\"standoff\":15},\"zerolinecolor\":\"white\",\"automargin\":true,\"zerolinewidth\":2},\"scene\":{\"xaxis\":{\"backgroundcolor\":\"#E5ECF6\",\"gridcolor\":\"white\",\"linecolor\":\"white\",\"showbackground\":true,\"ticks\":\"\",\"zerolinecolor\":\"white\",\"gridwidth\":2},\"yaxis\":{\"backgroundcolor\":\"#E5ECF6\",\"gridcolor\":\"white\",\"linecolor\":\"white\",\"showbackground\":true,\"ticks\":\"\",\"zerolinecolor\":\"white\",\"gridwidth\":2},\"zaxis\":{\"backgroundcolor\":\"#E5ECF6\",\"gridcolor\":\"white\",\"linecolor\":\"white\",\"showbackground\":true,\"ticks\":\"\",\"zerolinecolor\":\"white\",\"gridwidth\":2}},\"shapedefaults\":{\"line\":{\"color\":\"#2a3f5f\"}},\"annotationdefaults\":{\"arrowcolor\":\"#2a3f5f\",\"arrowhead\":0,\"arrowwidth\":1},\"geo\":{\"bgcolor\":\"white\",\"landcolor\":\"#E5ECF6\",\"subunitcolor\":\"white\",\"showland\":true,\"showlakes\":true,\"lakecolor\":\"white\"},\"title\":{\"x\":0.05},\"mapbox\":{\"style\":\"light\"}}},\"yaxis\":{\"range\":[0,100],\"title\":{\"text\":\"Percent\"}},\"legend\":{\"orientation\":\"h\",\"yanchor\":\"bottom\",\"y\":0.9,\"xanchor\":\"center\",\"x\":0.5},\"margin\":{\"b\":0,\"t\":0,\"l\":0,\"r\":0},\"barmode\":\"group\",\"xaxis\":{\"title\":{\"text\":\"Year\"},\"categoryorder\":\"array\",\"categoryarray\":[\"2017\",\"2018\",\"2019\",\"2020\"]},\"height\":350},                        {\"responsive\": true}                    ).then(function(){\n",
       "                            \n",
       "var gd = document.getElementById('c555ac71-9246-4f1e-90cd-f6fac4e4294f');\n",
       "var x = new MutationObserver(function (mutations, observer) {{\n",
       "        var display = window.getComputedStyle(gd).display;\n",
       "        if (!display || display === 'none') {{\n",
       "            console.log([gd, 'removed!']);\n",
       "            Plotly.purge(gd);\n",
       "            observer.disconnect();\n",
       "        }}\n",
       "}});\n",
       "\n",
       "// Listen for the removal of the full notebook cells\n",
       "var notebookContainer = gd.closest('#notebook-container');\n",
       "if (notebookContainer) {{\n",
       "    x.observe(notebookContainer, {childList: true});\n",
       "}}\n",
       "\n",
       "// Listen for the clearing of the current output cell\n",
       "var outputEl = gd.closest('.output');\n",
       "if (outputEl) {{\n",
       "    x.observe(outputEl, {childList: true});\n",
       "}}\n",
       "\n",
       "                        })                };                });            </script>        </div>"
      ]
     },
     "metadata": {},
     "output_type": "display_data"
    }
   ],
   "source": [
    "def draw_curr_mh_by_country_plt (country):\n",
    "\n",
    "    ####################################### Calculation #######################################\n",
    "    # total Num among year \n",
    "    total_to_be_divided = prep_data[( np.isin(prep_data['country_work_in'], country))].groupby(by = ['year']).size().reset_index().rename(columns ={ 0 :f'no_samples'}).sort_values(by = ['year'])\n",
    "    # create the avg DF for the responses per year \n",
    "    avg_Mh_by_year = total_to_be_divided.copy().rename(columns = {0:'years'})\n",
    "    for i in range(4):\n",
    "        MH_Prob_ans  = prep_data[(prep_data['curr_have_mh_disorder'] == i ) & ( np.isin(prep_data['country_work_in'], country))][['year']].groupby(by=['year']).size().reset_index().rename(columns ={ 0 :f'Count_{i}'}).sort_values(by = ['year'])\n",
    "        avg_df = (MH_Prob_ans[f'Count_{i}'] /  total_to_be_divided['no_samples'] * 100).round(0)\n",
    "        avg_Mh_by_year = pd.concat([avg_Mh_by_year, avg_df], axis = 1).rename(columns ={ 0 :f'Count_{i}'})\n",
    "    avg_Mh_by_year['avg'] = (avg_Mh_by_year['Count_3'] + avg_Mh_by_year['Count_2']) - (avg_Mh_by_year['Count_1'] + avg_Mh_by_year['Count_0'])\n",
    "    avg_Mh_by_year\n",
    "    # 0: No, 1:Don't Know, 2:possibly, 3:yes\n",
    "\n",
    "    ####################################### Plot  #######################################\n",
    "    curr_mh_by_country = go.Figure(data=[\n",
    "        go.Bar(name='No', x=avg_Mh_by_year['year'], y=avg_Mh_by_year['Count_0'], marker_color = '#f1e3dd'),\n",
    "        go.Bar(name=\"Don't Know\", x=avg_Mh_by_year['year'], y=avg_Mh_by_year['Count_1'], marker_color = '#bccad6'),\n",
    "        go.Bar(name='Possibly', x=avg_Mh_by_year['year'], y=avg_Mh_by_year['Count_2'], marker_color = '#8d9db6'),\n",
    "        go.Bar(name='Yes', x=avg_Mh_by_year['year'], y=avg_Mh_by_year['Count_3'], marker_color = '#6b5b95'),\n",
    "    ])\n",
    "    curr_mh_by_country.update_traces(marker_line_color='rgb(5,5,5)',marker_line_width=1)\n",
    "    curr_mh_by_country.update_yaxes(range=[0, 100])\n",
    "    curr_mh_by_country.update_layout(      \n",
    "        barmode='group',\n",
    "        xaxis_title=\"Year\",\n",
    "        yaxis_title=\"Percent\",\n",
    "        legend=dict(orientation=\"h\", yanchor=\"bottom\", y=0.90, xanchor=\"center\", x=0.5),\n",
    "        height = 350,\n",
    "        margin=dict(b = 0, t = 0, l = 0, r = 0),\n",
    "        )\n",
    "    curr_mh_by_country.update_xaxes(categoryorder='array', categoryarray= ['2017', '2018', '2019', '2020'])\n",
    "    return curr_mh_by_country\n",
    "draw_curr_mh_by_country_plt (country)"
   ]
  },
  {
   "cell_type": "markdown",
   "metadata": {
    "id": "QPtm4TR4KpED"
   },
   "source": [
    "### Yes have MH issue response in all countries Vs years"
   ]
  },
  {
   "cell_type": "code",
   "execution_count": 21,
   "metadata": {
    "executionInfo": {
     "elapsed": 56,
     "status": "aborted",
     "timestamp": 1654337002846,
     "user": {
      "displayName": "habiba mohamed",
      "userId": "01346726008568088997"
     },
     "user_tz": -120
    },
    "id": "wqlE4pY1KpED"
   },
   "outputs": [],
   "source": [
    "country = prep_data['country_work_in'].unique()\n",
    "Mh_avg_no_samples  = prep_data[prep_data['tech_role_flag'] == 1 ][['year', 'country_work_in', 'curr_have_mh_disorder']]\\\n",
    "                    .groupby(by = ['year', 'country_work_in'])\\\n",
    "                    .size().reset_index().sort_values(by=['year','country_work_in']).rename(columns = {0 : 'no.samples'})"
   ]
  },
  {
   "cell_type": "code",
   "execution_count": 22,
   "metadata": {
    "executionInfo": {
     "elapsed": 57,
     "status": "aborted",
     "timestamp": 1654337002847,
     "user": {
      "displayName": "habiba mohamed",
      "userId": "01346726008568088997"
     },
     "user_tz": -120
    },
    "id": "WA6n99gAKpED"
   },
   "outputs": [],
   "source": [
    "Mh_avg  = prep_data[(prep_data['tech_role_flag'] == 1 ) & ( np.isin(prep_data['country_work_in'], country))][['year', 'country_work_in', 'curr_have_mh_disorder']]\\\n",
    "            .groupby(by = ['year', 'country_work_in', 'curr_have_mh_disorder' ])\\\n",
    "            .size().reset_index().sort_values(by=['year','country_work_in']).rename(columns = {0 : 'count'})\n",
    "Mh_avg['Avg'] = 0 "
   ]
  },
  {
   "cell_type": "code",
   "execution_count": 23,
   "metadata": {
    "executionInfo": {
     "elapsed": 57,
     "status": "aborted",
     "timestamp": 1654337002848,
     "user": {
      "displayName": "habiba mohamed",
      "userId": "01346726008568088997"
     },
     "user_tz": -120
    },
    "id": "XViRgMWuKpEE"
   },
   "outputs": [],
   "source": [
    "for outer_row, outer_col in Mh_avg_no_samples.iterrows() :\n",
    "    avg_year = outer_col['year']\n",
    "    avg_country_work_in = outer_col['country_work_in']\n",
    "    no_samples = outer_col['no.samples']\n",
    "    for inside_row, inside_col in Mh_avg.iterrows() :\n",
    "        year = inside_col['year']\n",
    "        country_work_in = inside_col['country_work_in']\n",
    "        count = inside_col['count']\n",
    "        Avg = inside_col['Avg']\n",
    "        # print(no_samples)\n",
    "        if year == avg_year and country_work_in == avg_country_work_in:\n",
    "            Mh_avg['Avg'][inside_row] = round((count / no_samples) * 100)\n",
    "#prepare dfs\n",
    "yes_Mh_avg = Mh_avg[Mh_avg['curr_have_mh_disorder'] == 3]\n",
    "possibly_Mh_avg = Mh_avg[Mh_avg['curr_have_mh_disorder'] == 2]\n",
    "No_Mh_avg = Mh_avg[Mh_avg['curr_have_mh_disorder'] == 1]\n",
    "dntKnow_Mh_avg = Mh_avg[Mh_avg['curr_have_mh_disorder'] == 0]"
   ]
  },
  {
   "cell_type": "code",
   "execution_count": 24,
   "metadata": {
    "executionInfo": {
     "elapsed": 58,
     "status": "aborted",
     "timestamp": 1654337002849,
     "user": {
      "displayName": "habiba mohamed",
      "userId": "01346726008568088997"
     },
     "user_tz": -120
    },
    "id": "FjJ5cwhOKpEE"
   },
   "outputs": [
    {
     "data": {
      "text/html": [
       "<div>                            <div id=\"13871aa5-adcd-4fa0-985e-fae46cd6282f\" class=\"plotly-graph-div\" style=\"height:410px; width:100%;\"></div>            <script type=\"text/javascript\">                require([\"plotly\"], function(Plotly) {                    window.PLOTLYENV=window.PLOTLYENV || {};                                    if (document.getElementById(\"13871aa5-adcd-4fa0-985e-fae46cd6282f\")) {                    Plotly.newPlot(                        \"13871aa5-adcd-4fa0-985e-fae46cd6282f\",                        [{\"hovertemplate\":\"country_work_in=Canada<br>year=%{x}<br>Avg=%{y}<extra></extra>\",\"legendgroup\":\"Canada\",\"line\":{\"color\":\"rgb(76,114,176)\",\"dash\":\"solid\",\"width\":5},\"marker\":{\"symbol\":\"circle\",\"line\":{\"color\":\"rgb(5,5,5)\",\"width\":1}},\"mode\":\"lines+markers\",\"name\":\"Canada\",\"orientation\":\"v\",\"showlegend\":true,\"x\":[\"2017\",\"2018\",\"2019\",\"2020\"],\"xaxis\":\"x\",\"y\":[41,50,55,11],\"yaxis\":\"y\",\"type\":\"scatter\"},{\"hovertemplate\":\"country_work_in=Germany<br>year=%{x}<br>Avg=%{y}<extra></extra>\",\"legendgroup\":\"Germany\",\"line\":{\"color\":\"rgb(221,132,82)\",\"dash\":\"solid\",\"width\":5},\"marker\":{\"symbol\":\"circle\",\"line\":{\"color\":\"rgb(5,5,5)\",\"width\":1}},\"mode\":\"lines+markers\",\"name\":\"Germany\",\"orientation\":\"v\",\"showlegend\":true,\"x\":[\"2017\",\"2018\",\"2019\",\"2020\"],\"xaxis\":\"x\",\"y\":[24,33,25,25],\"yaxis\":\"y\",\"type\":\"scatter\"},{\"hovertemplate\":\"country_work_in=India<br>year=%{x}<br>Avg=%{y}<extra></extra>\",\"legendgroup\":\"India\",\"line\":{\"color\":\"rgb(85,168,104)\",\"dash\":\"solid\",\"width\":5},\"marker\":{\"symbol\":\"circle\",\"line\":{\"color\":\"rgb(5,5,5)\",\"width\":1}},\"mode\":\"lines+markers\",\"name\":\"India\",\"orientation\":\"v\",\"showlegend\":true,\"x\":[\"2017\",\"2019\"],\"xaxis\":\"x\",\"y\":[9,9],\"yaxis\":\"y\",\"type\":\"scatter\"},{\"hovertemplate\":\"country_work_in=UK<br>year=%{x}<br>Avg=%{y}<extra></extra>\",\"legendgroup\":\"UK\",\"line\":{\"color\":\"rgb(196,78,82)\",\"dash\":\"solid\",\"width\":5},\"marker\":{\"symbol\":\"circle\",\"line\":{\"color\":\"rgb(5,5,5)\",\"width\":1}},\"mode\":\"lines+markers\",\"name\":\"UK\",\"orientation\":\"v\",\"showlegend\":true,\"x\":[\"2017\",\"2018\",\"2019\",\"2020\"],\"xaxis\":\"x\",\"y\":[37,26,25,33],\"yaxis\":\"y\",\"type\":\"scatter\"},{\"hovertemplate\":\"country_work_in=USA<br>year=%{x}<br>Avg=%{y}<extra></extra>\",\"legendgroup\":\"USA\",\"line\":{\"color\":\"rgb(129,114,179)\",\"dash\":\"solid\",\"width\":5},\"marker\":{\"symbol\":\"circle\",\"line\":{\"color\":\"rgb(5,5,5)\",\"width\":1}},\"mode\":\"lines+markers\",\"name\":\"USA\",\"orientation\":\"v\",\"showlegend\":true,\"x\":[\"2017\",\"2018\",\"2019\",\"2020\"],\"xaxis\":\"x\",\"y\":[49,50,50,39],\"yaxis\":\"y\",\"type\":\"scatter\"}],                        {\"template\":{\"data\":{\"barpolar\":[{\"marker\":{\"line\":{\"color\":\"rgb(234,234,242)\",\"width\":0.5},\"pattern\":{\"fillmode\":\"overlay\",\"size\":10,\"solidity\":0.2}},\"type\":\"barpolar\"}],\"bar\":[{\"error_x\":{\"color\":\"rgb(36,36,36)\"},\"error_y\":{\"color\":\"rgb(36,36,36)\"},\"marker\":{\"line\":{\"color\":\"rgb(234,234,242)\",\"width\":0.5},\"pattern\":{\"fillmode\":\"overlay\",\"size\":10,\"solidity\":0.2}},\"type\":\"bar\"}],\"carpet\":[{\"aaxis\":{\"endlinecolor\":\"rgb(36,36,36)\",\"gridcolor\":\"white\",\"linecolor\":\"white\",\"minorgridcolor\":\"white\",\"startlinecolor\":\"rgb(36,36,36)\"},\"baxis\":{\"endlinecolor\":\"rgb(36,36,36)\",\"gridcolor\":\"white\",\"linecolor\":\"white\",\"minorgridcolor\":\"white\",\"startlinecolor\":\"rgb(36,36,36)\"},\"type\":\"carpet\"}],\"choropleth\":[{\"colorbar\":{\"outlinewidth\":0,\"tickcolor\":\"rgb(36,36,36)\",\"ticklen\":8,\"ticks\":\"outside\",\"tickwidth\":2},\"type\":\"choropleth\"}],\"contourcarpet\":[{\"colorbar\":{\"outlinewidth\":0,\"tickcolor\":\"rgb(36,36,36)\",\"ticklen\":8,\"ticks\":\"outside\",\"tickwidth\":2},\"type\":\"contourcarpet\"}],\"contour\":[{\"colorbar\":{\"outlinewidth\":0,\"tickcolor\":\"rgb(36,36,36)\",\"ticklen\":8,\"ticks\":\"outside\",\"tickwidth\":2},\"colorscale\":[[0.0,\"rgb(2,4,25)\"],[0.06274509803921569,\"rgb(24,15,41)\"],[0.12549019607843137,\"rgb(47,23,57)\"],[0.18823529411764706,\"rgb(71,28,72)\"],[0.25098039215686274,\"rgb(97,30,82)\"],[0.3137254901960784,\"rgb(123,30,89)\"],[0.3764705882352941,\"rgb(150,27,91)\"],[0.4392156862745098,\"rgb(177,22,88)\"],[0.5019607843137255,\"rgb(203,26,79)\"],[0.5647058823529412,\"rgb(223,47,67)\"],[0.6274509803921569,\"rgb(236,76,61)\"],[0.6901960784313725,\"rgb(242,107,73)\"],[0.7529411764705882,\"rgb(244,135,95)\"],[0.8156862745098039,\"rgb(245,162,122)\"],[0.8784313725490196,\"rgb(246,188,153)\"],[0.9411764705882353,\"rgb(247,212,187)\"],[1.0,\"rgb(250,234,220)\"]],\"type\":\"contour\"}],\"heatmapgl\":[{\"colorbar\":{\"outlinewidth\":0,\"tickcolor\":\"rgb(36,36,36)\",\"ticklen\":8,\"ticks\":\"outside\",\"tickwidth\":2},\"colorscale\":[[0.0,\"rgb(2,4,25)\"],[0.06274509803921569,\"rgb(24,15,41)\"],[0.12549019607843137,\"rgb(47,23,57)\"],[0.18823529411764706,\"rgb(71,28,72)\"],[0.25098039215686274,\"rgb(97,30,82)\"],[0.3137254901960784,\"rgb(123,30,89)\"],[0.3764705882352941,\"rgb(150,27,91)\"],[0.4392156862745098,\"rgb(177,22,88)\"],[0.5019607843137255,\"rgb(203,26,79)\"],[0.5647058823529412,\"rgb(223,47,67)\"],[0.6274509803921569,\"rgb(236,76,61)\"],[0.6901960784313725,\"rgb(242,107,73)\"],[0.7529411764705882,\"rgb(244,135,95)\"],[0.8156862745098039,\"rgb(245,162,122)\"],[0.8784313725490196,\"rgb(246,188,153)\"],[0.9411764705882353,\"rgb(247,212,187)\"],[1.0,\"rgb(250,234,220)\"]],\"type\":\"heatmapgl\"}],\"heatmap\":[{\"colorbar\":{\"outlinewidth\":0,\"tickcolor\":\"rgb(36,36,36)\",\"ticklen\":8,\"ticks\":\"outside\",\"tickwidth\":2},\"colorscale\":[[0.0,\"rgb(2,4,25)\"],[0.06274509803921569,\"rgb(24,15,41)\"],[0.12549019607843137,\"rgb(47,23,57)\"],[0.18823529411764706,\"rgb(71,28,72)\"],[0.25098039215686274,\"rgb(97,30,82)\"],[0.3137254901960784,\"rgb(123,30,89)\"],[0.3764705882352941,\"rgb(150,27,91)\"],[0.4392156862745098,\"rgb(177,22,88)\"],[0.5019607843137255,\"rgb(203,26,79)\"],[0.5647058823529412,\"rgb(223,47,67)\"],[0.6274509803921569,\"rgb(236,76,61)\"],[0.6901960784313725,\"rgb(242,107,73)\"],[0.7529411764705882,\"rgb(244,135,95)\"],[0.8156862745098039,\"rgb(245,162,122)\"],[0.8784313725490196,\"rgb(246,188,153)\"],[0.9411764705882353,\"rgb(247,212,187)\"],[1.0,\"rgb(250,234,220)\"]],\"type\":\"heatmap\"}],\"histogram2dcontour\":[{\"colorbar\":{\"outlinewidth\":0,\"tickcolor\":\"rgb(36,36,36)\",\"ticklen\":8,\"ticks\":\"outside\",\"tickwidth\":2},\"colorscale\":[[0.0,\"rgb(2,4,25)\"],[0.06274509803921569,\"rgb(24,15,41)\"],[0.12549019607843137,\"rgb(47,23,57)\"],[0.18823529411764706,\"rgb(71,28,72)\"],[0.25098039215686274,\"rgb(97,30,82)\"],[0.3137254901960784,\"rgb(123,30,89)\"],[0.3764705882352941,\"rgb(150,27,91)\"],[0.4392156862745098,\"rgb(177,22,88)\"],[0.5019607843137255,\"rgb(203,26,79)\"],[0.5647058823529412,\"rgb(223,47,67)\"],[0.6274509803921569,\"rgb(236,76,61)\"],[0.6901960784313725,\"rgb(242,107,73)\"],[0.7529411764705882,\"rgb(244,135,95)\"],[0.8156862745098039,\"rgb(245,162,122)\"],[0.8784313725490196,\"rgb(246,188,153)\"],[0.9411764705882353,\"rgb(247,212,187)\"],[1.0,\"rgb(250,234,220)\"]],\"type\":\"histogram2dcontour\"}],\"histogram2d\":[{\"colorbar\":{\"outlinewidth\":0,\"tickcolor\":\"rgb(36,36,36)\",\"ticklen\":8,\"ticks\":\"outside\",\"tickwidth\":2},\"colorscale\":[[0.0,\"rgb(2,4,25)\"],[0.06274509803921569,\"rgb(24,15,41)\"],[0.12549019607843137,\"rgb(47,23,57)\"],[0.18823529411764706,\"rgb(71,28,72)\"],[0.25098039215686274,\"rgb(97,30,82)\"],[0.3137254901960784,\"rgb(123,30,89)\"],[0.3764705882352941,\"rgb(150,27,91)\"],[0.4392156862745098,\"rgb(177,22,88)\"],[0.5019607843137255,\"rgb(203,26,79)\"],[0.5647058823529412,\"rgb(223,47,67)\"],[0.6274509803921569,\"rgb(236,76,61)\"],[0.6901960784313725,\"rgb(242,107,73)\"],[0.7529411764705882,\"rgb(244,135,95)\"],[0.8156862745098039,\"rgb(245,162,122)\"],[0.8784313725490196,\"rgb(246,188,153)\"],[0.9411764705882353,\"rgb(247,212,187)\"],[1.0,\"rgb(250,234,220)\"]],\"type\":\"histogram2d\"}],\"histogram\":[{\"marker\":{\"pattern\":{\"fillmode\":\"overlay\",\"size\":10,\"solidity\":0.2}},\"type\":\"histogram\"}],\"mesh3d\":[{\"colorbar\":{\"outlinewidth\":0,\"tickcolor\":\"rgb(36,36,36)\",\"ticklen\":8,\"ticks\":\"outside\",\"tickwidth\":2},\"type\":\"mesh3d\"}],\"parcoords\":[{\"line\":{\"colorbar\":{\"outlinewidth\":0,\"tickcolor\":\"rgb(36,36,36)\",\"ticklen\":8,\"ticks\":\"outside\",\"tickwidth\":2}},\"type\":\"parcoords\"}],\"pie\":[{\"automargin\":true,\"type\":\"pie\"}],\"scatter3d\":[{\"line\":{\"colorbar\":{\"outlinewidth\":0,\"tickcolor\":\"rgb(36,36,36)\",\"ticklen\":8,\"ticks\":\"outside\",\"tickwidth\":2}},\"marker\":{\"colorbar\":{\"outlinewidth\":0,\"tickcolor\":\"rgb(36,36,36)\",\"ticklen\":8,\"ticks\":\"outside\",\"tickwidth\":2}},\"type\":\"scatter3d\"}],\"scattercarpet\":[{\"marker\":{\"colorbar\":{\"outlinewidth\":0,\"tickcolor\":\"rgb(36,36,36)\",\"ticklen\":8,\"ticks\":\"outside\",\"tickwidth\":2}},\"type\":\"scattercarpet\"}],\"scattergeo\":[{\"marker\":{\"colorbar\":{\"outlinewidth\":0,\"tickcolor\":\"rgb(36,36,36)\",\"ticklen\":8,\"ticks\":\"outside\",\"tickwidth\":2}},\"type\":\"scattergeo\"}],\"scattergl\":[{\"marker\":{\"colorbar\":{\"outlinewidth\":0,\"tickcolor\":\"rgb(36,36,36)\",\"ticklen\":8,\"ticks\":\"outside\",\"tickwidth\":2}},\"type\":\"scattergl\"}],\"scattermapbox\":[{\"marker\":{\"colorbar\":{\"outlinewidth\":0,\"tickcolor\":\"rgb(36,36,36)\",\"ticklen\":8,\"ticks\":\"outside\",\"tickwidth\":2}},\"type\":\"scattermapbox\"}],\"scatterpolargl\":[{\"marker\":{\"colorbar\":{\"outlinewidth\":0,\"tickcolor\":\"rgb(36,36,36)\",\"ticklen\":8,\"ticks\":\"outside\",\"tickwidth\":2}},\"type\":\"scatterpolargl\"}],\"scatterpolar\":[{\"marker\":{\"colorbar\":{\"outlinewidth\":0,\"tickcolor\":\"rgb(36,36,36)\",\"ticklen\":8,\"ticks\":\"outside\",\"tickwidth\":2}},\"type\":\"scatterpolar\"}],\"scatter\":[{\"fillpattern\":{\"fillmode\":\"overlay\",\"size\":10,\"solidity\":0.2},\"type\":\"scatter\"}],\"scatterternary\":[{\"marker\":{\"colorbar\":{\"outlinewidth\":0,\"tickcolor\":\"rgb(36,36,36)\",\"ticklen\":8,\"ticks\":\"outside\",\"tickwidth\":2}},\"type\":\"scatterternary\"}],\"surface\":[{\"colorbar\":{\"outlinewidth\":0,\"tickcolor\":\"rgb(36,36,36)\",\"ticklen\":8,\"ticks\":\"outside\",\"tickwidth\":2},\"colorscale\":[[0.0,\"rgb(2,4,25)\"],[0.06274509803921569,\"rgb(24,15,41)\"],[0.12549019607843137,\"rgb(47,23,57)\"],[0.18823529411764706,\"rgb(71,28,72)\"],[0.25098039215686274,\"rgb(97,30,82)\"],[0.3137254901960784,\"rgb(123,30,89)\"],[0.3764705882352941,\"rgb(150,27,91)\"],[0.4392156862745098,\"rgb(177,22,88)\"],[0.5019607843137255,\"rgb(203,26,79)\"],[0.5647058823529412,\"rgb(223,47,67)\"],[0.6274509803921569,\"rgb(236,76,61)\"],[0.6901960784313725,\"rgb(242,107,73)\"],[0.7529411764705882,\"rgb(244,135,95)\"],[0.8156862745098039,\"rgb(245,162,122)\"],[0.8784313725490196,\"rgb(246,188,153)\"],[0.9411764705882353,\"rgb(247,212,187)\"],[1.0,\"rgb(250,234,220)\"]],\"type\":\"surface\"}],\"table\":[{\"cells\":{\"fill\":{\"color\":\"rgb(231,231,240)\"},\"line\":{\"color\":\"white\"}},\"header\":{\"fill\":{\"color\":\"rgb(183,183,191)\"},\"line\":{\"color\":\"white\"}},\"type\":\"table\"}]},\"layout\":{\"annotationdefaults\":{\"arrowcolor\":\"rgb(67,103,167)\"},\"autotypenumbers\":\"strict\",\"coloraxis\":{\"colorbar\":{\"outlinewidth\":0,\"tickcolor\":\"rgb(36,36,36)\",\"ticklen\":8,\"ticks\":\"outside\",\"tickwidth\":2}},\"colorscale\":{\"sequential\":[[0.0,\"rgb(2,4,25)\"],[0.06274509803921569,\"rgb(24,15,41)\"],[0.12549019607843137,\"rgb(47,23,57)\"],[0.18823529411764706,\"rgb(71,28,72)\"],[0.25098039215686274,\"rgb(97,30,82)\"],[0.3137254901960784,\"rgb(123,30,89)\"],[0.3764705882352941,\"rgb(150,27,91)\"],[0.4392156862745098,\"rgb(177,22,88)\"],[0.5019607843137255,\"rgb(203,26,79)\"],[0.5647058823529412,\"rgb(223,47,67)\"],[0.6274509803921569,\"rgb(236,76,61)\"],[0.6901960784313725,\"rgb(242,107,73)\"],[0.7529411764705882,\"rgb(244,135,95)\"],[0.8156862745098039,\"rgb(245,162,122)\"],[0.8784313725490196,\"rgb(246,188,153)\"],[0.9411764705882353,\"rgb(247,212,187)\"],[1.0,\"rgb(250,234,220)\"]],\"sequentialminus\":[[0.0,\"rgb(2,4,25)\"],[0.06274509803921569,\"rgb(24,15,41)\"],[0.12549019607843137,\"rgb(47,23,57)\"],[0.18823529411764706,\"rgb(71,28,72)\"],[0.25098039215686274,\"rgb(97,30,82)\"],[0.3137254901960784,\"rgb(123,30,89)\"],[0.3764705882352941,\"rgb(150,27,91)\"],[0.4392156862745098,\"rgb(177,22,88)\"],[0.5019607843137255,\"rgb(203,26,79)\"],[0.5647058823529412,\"rgb(223,47,67)\"],[0.6274509803921569,\"rgb(236,76,61)\"],[0.6901960784313725,\"rgb(242,107,73)\"],[0.7529411764705882,\"rgb(244,135,95)\"],[0.8156862745098039,\"rgb(245,162,122)\"],[0.8784313725490196,\"rgb(246,188,153)\"],[0.9411764705882353,\"rgb(247,212,187)\"],[1.0,\"rgb(250,234,220)\"]]},\"colorway\":[\"rgb(76,114,176)\",\"rgb(221,132,82)\",\"rgb(85,168,104)\",\"rgb(196,78,82)\",\"rgb(129,114,179)\",\"rgb(147,120,96)\",\"rgb(218,139,195)\",\"rgb(140,140,140)\",\"rgb(204,185,116)\",\"rgb(100,181,205)\"],\"font\":{\"color\":\"rgb(36,36,36)\"},\"geo\":{\"bgcolor\":\"white\",\"lakecolor\":\"white\",\"landcolor\":\"rgb(234,234,242)\",\"showlakes\":true,\"showland\":true,\"subunitcolor\":\"white\"},\"hoverlabel\":{\"align\":\"left\"},\"hovermode\":\"closest\",\"paper_bgcolor\":\"white\",\"plot_bgcolor\":\"rgb(234,234,242)\",\"polar\":{\"angularaxis\":{\"gridcolor\":\"white\",\"linecolor\":\"white\",\"showgrid\":true,\"ticks\":\"\"},\"bgcolor\":\"rgb(234,234,242)\",\"radialaxis\":{\"gridcolor\":\"white\",\"linecolor\":\"white\",\"showgrid\":true,\"ticks\":\"\"}},\"scene\":{\"xaxis\":{\"backgroundcolor\":\"rgb(234,234,242)\",\"gridcolor\":\"white\",\"gridwidth\":2,\"linecolor\":\"white\",\"showbackground\":true,\"showgrid\":true,\"ticks\":\"\",\"zerolinecolor\":\"white\"},\"yaxis\":{\"backgroundcolor\":\"rgb(234,234,242)\",\"gridcolor\":\"white\",\"gridwidth\":2,\"linecolor\":\"white\",\"showbackground\":true,\"showgrid\":true,\"ticks\":\"\",\"zerolinecolor\":\"white\"},\"zaxis\":{\"backgroundcolor\":\"rgb(234,234,242)\",\"gridcolor\":\"white\",\"gridwidth\":2,\"linecolor\":\"white\",\"showbackground\":true,\"showgrid\":true,\"ticks\":\"\",\"zerolinecolor\":\"white\"}},\"shapedefaults\":{\"fillcolor\":\"rgb(67,103,167)\",\"line\":{\"width\":0},\"opacity\":0.5},\"ternary\":{\"aaxis\":{\"gridcolor\":\"white\",\"linecolor\":\"white\",\"showgrid\":true,\"ticks\":\"\"},\"baxis\":{\"gridcolor\":\"white\",\"linecolor\":\"white\",\"showgrid\":true,\"ticks\":\"\"},\"bgcolor\":\"rgb(234,234,242)\",\"caxis\":{\"gridcolor\":\"white\",\"linecolor\":\"white\",\"showgrid\":true,\"ticks\":\"\"}},\"xaxis\":{\"automargin\":true,\"gridcolor\":\"white\",\"linecolor\":\"white\",\"showgrid\":true,\"ticks\":\"\",\"title\":{\"standoff\":15},\"zerolinecolor\":\"white\"},\"yaxis\":{\"automargin\":true,\"gridcolor\":\"white\",\"linecolor\":\"white\",\"showgrid\":true,\"ticks\":\"\",\"title\":{\"standoff\":15},\"zerolinecolor\":\"white\"}}},\"xaxis\":{\"anchor\":\"y\",\"domain\":[0.0,1.0],\"title\":{\"text\":\"year\"}},\"yaxis\":{\"anchor\":\"x\",\"domain\":[0.0,1.0],\"title\":{\"text\":\"Percent\"},\"range\":[-5,100]},\"legend\":{\"title\":{\"text\":\"Countries\"},\"tracegroupgap\":0,\"orientation\":\"h\",\"yanchor\":\"bottom\",\"y\":0.9,\"xanchor\":\"center\",\"x\":0.5},\"margin\":{\"t\":0,\"b\":0,\"l\":0,\"r\":0},\"barmode\":\"group\",\"height\":410},                        {\"responsive\": true}                    ).then(function(){\n",
       "                            \n",
       "var gd = document.getElementById('13871aa5-adcd-4fa0-985e-fae46cd6282f');\n",
       "var x = new MutationObserver(function (mutations, observer) {{\n",
       "        var display = window.getComputedStyle(gd).display;\n",
       "        if (!display || display === 'none') {{\n",
       "            console.log([gd, 'removed!']);\n",
       "            Plotly.purge(gd);\n",
       "            observer.disconnect();\n",
       "        }}\n",
       "}});\n",
       "\n",
       "// Listen for the removal of the full notebook cells\n",
       "var notebookContainer = gd.closest('#notebook-container');\n",
       "if (notebookContainer) {{\n",
       "    x.observe(notebookContainer, {childList: true});\n",
       "}}\n",
       "\n",
       "// Listen for the clearing of the current output cell\n",
       "var outputEl = gd.closest('.output');\n",
       "if (outputEl) {{\n",
       "    x.observe(outputEl, {childList: true});\n",
       "}}\n",
       "\n",
       "                        })                };                });            </script>        </div>"
      ]
     },
     "metadata": {},
     "output_type": "display_data"
    }
   ],
   "source": [
    "def draw_MH_response_all_countries_Vs_years():\n",
    "    MH_response_all_countries_Vs_years = px.line(yes_Mh_avg, x='year', y='Avg', color='country_work_in',  markers=True, range_y=[-5,100], template = 'seaborn')\n",
    "    MH_response_all_countries_Vs_years.update_traces(marker_line_color='rgb(5,5,5)',marker_line_width=1, line=dict(width=5))\n",
    "    MH_response_all_countries_Vs_years.update_layout(\n",
    "        barmode='group', \n",
    "        xaxis_title=\"year\",\n",
    "        yaxis_title=\"Percent\",\n",
    "        legend_title=\"Countries\",\n",
    "        legend=dict(orientation=\"h\", yanchor=\"bottom\", y=0.90, xanchor=\"center\", x=0.5),\n",
    "        margin=dict(b = 0, t = 0, l = 0, r = 0),\n",
    "        height = 410,\n",
    "        \n",
    "        )\n",
    "    return MH_response_all_countries_Vs_years\n",
    "draw_MH_response_all_countries_Vs_years()"
   ]
  },
  {
   "cell_type": "markdown",
   "metadata": {
    "id": "NKT337VwKpEE"
   },
   "source": [
    "### World Wide Tech Industry Support Rate"
   ]
  },
  {
   "cell_type": "code",
   "execution_count": 25,
   "metadata": {
    "executionInfo": {
     "elapsed": 58,
     "status": "aborted",
     "timestamp": 1654337002850,
     "user": {
      "displayName": "habiba mohamed",
      "userId": "01346726008568088997"
     },
     "user_tz": -120
    },
    "id": "XY1UINQYKpEE"
   },
   "outputs": [
    {
     "data": {
      "text/html": [
       "<div>                            <div id=\"9c43e4d5-2956-44f1-84d0-01989b2c85fd\" class=\"plotly-graph-div\" style=\"height:400px; width:100%;\"></div>            <script type=\"text/javascript\">                require([\"plotly\"], function(Plotly) {                    window.PLOTLYENV=window.PLOTLYENV || {};                                    if (document.getElementById(\"9c43e4d5-2956-44f1-84d0-01989b2c85fd\")) {                    Plotly.newPlot(                        \"9c43e4d5-2956-44f1-84d0-01989b2c85fd\",                        [{\"coloraxis\":\"coloraxis\",\"customdata\":[[\"Afghanistan\",null,null],[\"Algeria\",null,null],[\"Argentina\",7.0,7.0],[\"Argentina\",2.0,9.0],[\"Australia\",7.0,7.0],[\"Australia\",8.0,8.0],[\"Australia\",7.0,7.0],[\"Australia\",7.0,7.0],[\"Australia\",7.0,7.0],[\"Australia\",6.0,5.0],[\"Australia\",7.0,7.0],[\"Australia\",6.0,6.0],[\"Australia\",3.0,5.0],[\"Australia\",5.0,5.0],[\"Australia\",7.0,5.0],[\"Australia\",6.0,7.0],[\"Australia\",6.0,7.0],[\"Australia\",9.0,9.0],[\"Australia\",null,null],[\"Australia\",null,null],[\"Australia\",null,null],[\"Australia\",null,null],[\"Australia\",null,null],[\"Australia\",null,null],[\"Australia\",null,null],[\"Austria\",3.0,3.0],[\"Austria\",5.0,6.0],[\"Austria\",null,null],[\"Austria\",null,null],[\"Bangladesh\",9.0,9.0],[\"Bangladesh\",7.0,7.0],[\"Bangladesh\",null,null],[\"Belgium\",5.0,5.0],[\"Belgium\",null,null],[\"Belgium\",null,null],[\"Belgium\",null,null],[\"Botswana\",null,null],[\"Brazil\",2.0,5.0],[\"Brazil\",6.0,6.0],[\"Brazil\",4.0,8.0],[\"Brazil\",6.0,6.0],[\"Brazil\",4.0,4.0],[\"Brazil\",5.0,5.0],[\"Brazil\",0.0,6.0],[\"Brazil\",5.0,6.0],[\"Brazil\",2.0,9.0],[\"Brazil\",4.0,5.0],[\"Brazil\",3.0,3.0],[\"Brazil\",3.0,9.0],[\"Brazil\",6.0,6.0],[\"Brazil\",7.0,8.0],[\"Brazil\",4.0,3.0],[\"Brazil\",3.0,5.0],[\"Brazil\",2.0,5.0],[\"Brazil\",4.0,5.0],[\"Brazil\",2.0,3.0],[\"Brazil\",6.0,6.0],[\"Brazil\",5.0,6.0],[\"Brazil\",null,null],[\"Brazil\",null,null],[\"Brazil\",null,null],[\"Brazil\",null,null],[\"Brazil\",null,null],[\"Brazil\",null,null],[\"Bulgaria\",5.0,5.0],[\"Bulgaria\",3.0,3.0],[\"Cameroon\",null,null],[\"Canada\",7.0,8.0],[\"Canada\",4.0,5.0],[\"Canada\",5.0,5.0],[\"Canada\",5.0,8.0],[\"Canada\",5.0,10.0],[\"Canada\",8.0,10.0],[\"Canada\",3.0,8.0],[\"Canada\",7.0,7.0],[\"Canada\",5.0,5.0],[\"Canada\",1.0,9.0],[\"Canada\",8.0,8.0],[\"Canada\",6.0,6.0],[\"Canada\",2.0,6.0],[\"Canada\",4.0,5.0],[\"Canada\",0.0,5.0],[\"Canada\",3.0,3.0],[\"Canada\",4.0,8.0],[\"Canada\",4.0,6.0],[\"Canada\",10.0,10.0],[\"Canada\",5.0,5.0],[\"Canada\",0.0,10.0],[\"Canada\",0.0,5.0],[\"Canada\",3.0,7.0],[\"Canada\",4.0,4.0],[\"Canada\",6.0,7.0],[\"Canada\",7.0,6.0],[\"Canada\",5.0,8.0],[\"Canada\",6.0,8.0],[\"Canada\",7.0,6.0],[\"Canada\",2.0,4.0],[\"Canada\",5.0,8.0],[\"Canada\",10.0,5.0],[\"Canada\",9.0,9.0],[\"Canada\",7.0,8.0],[\"Canada\",7.0,7.0],[\"Canada\",9.0,5.0],[\"Canada\",5.0,6.0],[\"Canada\",null,null],[\"Canada\",null,null],[\"Canada\",null,null],[\"Canada\",null,null],[\"Canada\",null,null],[\"Canada\",null,null],[\"Canada\",null,null],[\"Canada\",null,null],[\"Canada\",null,null],[\"Canada\",null,null],[\"Canada\",null,null],[\"Canada\",null,null],[\"Canada\",null,null],[\"Canada\",null,null],[\"Canada\",null,null],[\"Canada\",null,null],[\"Colombia\",3.0,4.0],[\"Colombia\",6.0,7.0],[\"Colombia\",null,null],[\"Croatia\",4.0,4.0],[\"Croatia\",0.0,0.0],[\"Czech Republic\",null,null],[\"Egypt\",2.0,5.0],[\"Eritrea\",null,null],[\"Estonia\",2.0,6.0],[\"Estonia\",8.0,8.0],[\"Estonia\",3.0,6.0],[\"Ethiopia\",10.0,10.0],[\"Finland\",6.0,2.0],[\"Finland\",4.0,4.0],[\"Finland\",5.0,8.0],[\"Finland\",5.0,6.0],[\"France\",5.0,6.0],[\"France\",6.0,6.0],[\"France\",1.0,2.0],[\"France\",8.0,8.0],[\"France\",9.0,9.0],[\"France\",7.0,8.0],[\"France\",5.0,5.0],[\"France\",8.0,8.0],[\"France\",5.0,2.0],[\"France\",10.0,10.0],[\"France\",3.0,3.0],[\"France\",5.0,7.0],[\"France\",0.0,8.0],[\"France\",5.0,6.0],[\"France\",5.0,7.0],[\"France\",2.0,9.0],[\"France\",4.0,6.0],[\"France\",8.0,8.0],[\"France\",7.0,6.0],[\"France\",null,null],[\"France\",null,null],[\"Georgia\",null,null],[\"Germany\",3.0,8.0],[\"Germany\",6.0,7.0],[\"Germany\",6.0,8.0],[\"Germany\",3.0,4.0],[\"Germany\",3.0,7.0],[\"Germany\",4.0,8.0],[\"Germany\",5.0,5.0],[\"Germany\",1.0,3.0],[\"Germany\",3.0,3.0],[\"Germany\",3.0,5.0],[\"Germany\",8.0,9.0],[\"Germany\",5.0,7.0],[\"Germany\",5.0,5.0],[\"Germany\",4.0,3.0],[\"Germany\",2.0,6.0],[\"Germany\",3.0,6.0],[\"Germany\",6.0,10.0],[\"Germany\",0.0,8.0],[\"Germany\",0.0,6.0],[\"Germany\",5.0,7.0],[\"Germany\",0.0,6.0],[\"Germany\",6.0,7.0],[\"Germany\",5.0,4.0],[\"Germany\",3.0,4.0],[\"Germany\",3.0,5.0],[\"Germany\",8.0,9.0],[\"Germany\",4.0,7.0],[\"Germany\",4.0,7.0],[\"Germany\",5.0,5.0],[\"Germany\",8.0,7.0],[\"Germany\",5.0,2.0],[\"Germany\",null,null],[\"Germany\",null,null],[\"Germany\",null,null],[\"Germany\",null,null],[\"Germany\",null,null],[\"Germany\",null,null],[\"Ghana\",0.0,0.0],[\"Greece\",0.0,6.0],[\"Greece\",null,null],[\"Greece\",null,null],[\"Hong Kong\",0.0,5.0],[\"Hong Kong\",1.0,1.0],[\"Hungary\",5.0,6.0],[\"Iceland\",5.0,5.0],[\"Iceland\",4.0,7.0],[\"Iceland\",2.0,5.0],[\"India\",4.0,8.0],[\"India\",7.0,7.0],[\"India\",4.0,10.0],[\"India\",5.0,5.0],[\"India\",5.0,8.0],[\"India\",6.0,8.0],[\"India\",6.0,6.0],[\"India\",2.0,8.0],[\"India\",6.0,7.0],[\"India\",5.0,5.0],[\"India\",3.0,8.0],[\"India\",4.0,8.0],[\"India\",10.0,8.0],[\"India\",9.0,7.0],[\"India\",5.0,5.0],[\"India\",2.0,5.0],[\"India\",10.0,10.0],[\"India\",6.0,8.0],[\"India\",3.0,5.0],[\"India\",5.0,8.0],[\"India\",0.0,3.0],[\"India\",4.0,6.0],[\"India\",3.0,9.0],[\"India\",9.0,10.0],[\"India\",7.0,6.0],[\"India\",6.0,7.0],[\"India\",0.0,4.0],[\"India\",3.0,3.0],[\"India\",3.0,3.0],[\"India\",5.0,7.0],[\"India\",5.0,5.0],[\"India\",2.0,7.0],[\"India\",5.0,5.0],[\"India\",0.0,7.0],[\"India\",4.0,8.0],[\"India\",2.0,8.0],[\"India\",7.0,10.0],[\"India\",7.0,9.0],[\"India\",8.0,6.0],[\"India\",8.0,8.0],[\"India\",8.0,8.0],[\"India\",1.0,6.0],[\"India\",5.0,7.0],[\"India\",1.0,7.0],[\"India\",8.0,8.0],[\"India\",6.0,8.0],[\"India\",9.0,9.0],[\"India\",8.0,8.0],[\"India\",5.0,10.0],[\"India\",7.0,7.0],[\"India\",5.0,5.0],[\"India\",4.0,8.0],[\"India\",null,null],[\"India\",null,null],[\"India\",null,null],[\"India\",null,null],[\"India\",null,null],[\"India\",null,null],[\"Indonesia\",3.0,4.0],[\"Indonesia\",7.0,7.0],[\"Indonesia\",null,null],[\"Ireland\",5.0,5.0],[\"Ireland\",6.0,6.0],[\"Ireland\",5.0,5.0],[\"Ireland\",2.0,10.0],[\"Ireland\",8.0,5.0],[\"Ireland\",6.0,7.0],[\"Ireland\",10.0,10.0],[\"Ireland\",null,null],[\"Ireland\",null,null],[\"Ireland\",null,null],[\"Israel\",0.0,7.0],[\"Israel\",8.0,4.0],[\"Italy\",1.0,2.0],[\"Italy\",5.0,7.0],[\"Italy\",0.0,2.0],[\"Italy\",6.0,10.0],[\"Italy\",10.0,8.0],[\"Italy\",null,null],[\"Italy\",null,null],[\"Japan\",6.0,5.0],[\"Japan\",5.0,6.0],[\"Japan\",3.0,5.0],[\"Japan\",8.0,7.0],[\"Japan\",9.0,8.0],[\"Jordan\",null,null],[\"Kenya\",null,null],[\"Luxembourg\",5.0,6.0],[\"Macedonia\",7.0,7.0],[\"Malaysia\",5.0,10.0],[\"Mauritius\",5.0,7.0],[\"Mexico\",3.0,9.0],[\"Mexico\",4.0,5.0],[\"Mexico\",0.0,4.0],[\"Mexico\",5.0,8.0],[\"Mexico\",0.0,10.0],[\"Mexico\",8.0,8.0],[\"Mexico\",5.0,8.0],[\"Mexico\",null,null],[\"Mongolia\",7.0,10.0],[\"Mongolia\",null,null],[\"Netherlands\",7.0,7.0],[\"Netherlands\",7.0,7.0],[\"Netherlands\",7.0,7.0],[\"Netherlands\",7.0,6.0],[\"Netherlands\",7.0,7.0],[\"Netherlands\",6.0,6.0],[\"Netherlands\",6.0,6.0],[\"Netherlands\",7.0,7.0],[\"Netherlands\",6.0,7.0],[\"Netherlands\",6.0,8.0],[\"Netherlands\",8.0,2.0],[\"Netherlands\",6.0,7.0],[\"Netherlands\",3.0,6.0],[\"Netherlands\",5.0,7.0],[\"Netherlands\",3.0,2.0],[\"Netherlands\",5.0,5.0],[\"Netherlands\",8.0,8.0],[\"Netherlands\",7.0,5.0],[\"Netherlands\",4.0,8.0],[\"Netherlands\",6.0,4.0],[\"Netherlands\",null,null],[\"Netherlands\",null,null],[\"Netherlands\",null,null],[\"Netherlands\",null,null],[\"Netherlands\",null,null],[\"Netherlands\",null,null],[\"Netherlands\",null,null],[\"New Zealand\",5.0,5.0],[\"New Zealand\",5.0,5.0],[\"New Zealand\",2.0,8.0],[\"New Zealand\",4.0,5.0],[\"New Zealand\",4.0,7.0],[\"New Zealand\",null,null],[\"New Zealand\",null,null],[\"Nigeria\",0.0,0.0],[\"Norway\",6.0,4.0],[\"Norway\",4.0,6.0],[\"Norway\",2.0,3.0],[\"Norway\",8.0,8.0],[\"Norway\",5.0,5.0],[\"Norway\",6.0,7.0],[\"Norway\",5.0,5.0],[\"Norway\",null,null],[\"Other\",7.0,9.0],[\"Pakistan\",1.0,2.0],[\"Pakistan\",9.0,9.0],[\"Pakistan\",null,null],[\"Pakistan\",null,null],[\"Philippines\",8.0,8.0],[\"Philippines\",10.0,10.0],[\"Philippines\",7.0,9.0],[\"Poland\",7.0,7.0],[\"Poland\",8.0,10.0],[\"Poland\",2.0,6.0],[\"Poland\",6.0,10.0],[\"Poland\",4.0,6.0],[\"Poland\",0.0,0.0],[\"Poland\",1.0,7.0],[\"Poland\",4.0,5.0],[\"Poland\",2.0,7.0],[\"Poland\",null,null],[\"Poland\",null,null],[\"Portugal\",9.0,9.0],[\"Portugal\",8.0,9.0],[\"Portugal\",5.0,8.0],[\"Portugal\",7.0,7.0],[\"Portugal\",0.0,0.0],[\"Portugal\",7.0,9.0],[\"Portugal\",5.0,7.0],[\"Portugal\",7.0,7.0],[\"Portugal\",7.0,8.0],[\"Portugal\",5.0,8.0],[\"Portugal\",8.0,9.0],[\"Portugal\",3.0,6.0],[\"Portugal\",3.0,3.0],[\"Portugal\",5.0,8.0],[\"Portugal\",3.0,7.0],[\"Portugal\",5.0,5.0],[\"Portugal\",4.0,7.0],[\"Portugal\",8.0,10.0],[\"Portugal\",5.0,5.0],[\"Portugal\",5.0,5.0],[\"Portugal\",null,null],[\"Portugal\",null,null],[\"Portugal\",null,null],[\"Romania\",3.0,8.0],[\"Romania\",0.0,7.0],[\"Romania\",3.0,5.0],[\"Romania\",5.0,8.0],[\"Russia\",7.0,7.0],[\"Russia\",0.0,2.0],[\"Russia\",0.0,10.0],[\"Russia\",null,null],[\"Russia\",null,null],[\"Russia\",null,null],[\"Saudi Arabia\",1.0,7.0],[\"Serbia\",0.0,6.0],[\"Serbia\",6.0,9.0],[\"Serbia\",null,null],[\"Serbia\",null,null],[\"Singapore\",4.0,5.0],[\"Slovakia\",8.0,6.0],[\"South Africa\",5.0,5.0],[\"South Africa\",3.0,6.0],[\"South Africa\",4.0,7.0],[\"South Africa\",2.0,2.0],[\"South Africa\",2.0,3.0],[\"South Africa\",0.0,0.0],[\"South Africa\",2.0,6.0],[\"South Africa\",null,null],[\"Spain\",8.0,9.0],[\"Spain\",7.0,9.0],[\"Spain\",5.0,7.0],[\"Spain\",10.0,10.0],[\"Spain\",3.0,4.0],[\"Spain\",5.0,5.0],[\"Spain\",2.0,0.0],[\"Spain\",0.0,3.0],[\"Spain\",5.0,0.0],[\"Spain\",4.0,4.0],[\"Spain\",5.0,6.0],[\"Spain\",8.0,7.0],[\"Spain\",7.0,10.0],[\"Spain\",6.0,8.0],[\"Spain\",1.0,1.0],[\"Spain\",3.0,2.0],[\"Spain\",2.0,7.0],[\"Spain\",8.0,8.0],[\"Spain\",2.0,6.0],[\"Spain\",5.0,8.0],[\"Spain\",5.0,8.0],[\"Spain\",7.0,8.0],[\"Spain\",8.0,8.0],[\"Spain\",null,null],[\"Spain\",null,null],[\"Spain\",null,null],[\"Spain\",null,null],[\"Sri Lanka\",5.0,5.0],[\"Sri Lanka\",1.0,2.0],[\"Swaziland\",6.0,5.0],[\"Sweden\",8.0,10.0],[\"Sweden\",5.0,8.0],[\"Sweden\",5.0,5.0],[\"Sweden\",2.0,8.0],[\"Sweden\",null,null],[\"Switzerland\",10.0,10.0],[\"Switzerland\",10.0,10.0],[\"Switzerland\",7.0,9.0],[\"Switzerland\",3.0,9.0],[\"Switzerland\",6.0,7.0],[\"Switzerland\",1.0,4.0],[\"Switzerland\",7.0,8.0],[\"Switzerland\",0.0,0.0],[\"Switzerland\",9.0,9.0],[\"Switzerland\",2.0,3.0],[\"Switzerland\",null,null],[\"Taiwan\",3.0,8.0],[\"Turkey\",8.0,8.0],[\"Turkey\",2.0,2.0],[\"Turkey\",7.0,7.0],[\"Turkey\",5.0,7.0],[\"Turkey\",0.0,3.0],[\"Turkey\",null,null],[\"Turkey\",null,null],[\"UK\",0.0,6.0],[\"UK\",3.0,4.0],[\"UK\",7.0,8.0],[\"UK\",7.0,7.0],[\"UK\",1.0,2.0],[\"UK\",3.0,5.0],[\"UK\",5.0,7.0],[\"UK\",6.0,6.0],[\"UK\",7.0,7.0],[\"UK\",6.0,6.0],[\"UK\",7.0,7.0],[\"UK\",8.0,5.0],[\"UK\",5.0,4.0],[\"UK\",5.0,5.0],[\"UK\",3.0,3.0],[\"UK\",8.0,8.0],[\"UK\",5.0,5.0],[\"UK\",7.0,7.0],[\"UK\",5.0,2.0],[\"UK\",1.0,1.0],[\"UK\",5.0,6.0],[\"UK\",4.0,4.0],[\"UK\",2.0,7.0],[\"UK\",2.0,2.0],[\"UK\",7.0,6.0],[\"UK\",5.0,5.0],[\"UK\",4.0,9.0],[\"UK\",1.0,1.0],[\"UK\",0.0,4.0],[\"UK\",6.0,3.0],[\"UK\",4.0,7.0],[\"UK\",5.0,7.0],[\"UK\",6.0,9.0],[\"UK\",7.0,7.0],[\"UK\",4.0,5.0],[\"UK\",0.0,5.0],[\"UK\",8.0,10.0],[\"UK\",5.0,5.0],[\"UK\",3.0,3.0],[\"UK\",7.0,7.0],[\"UK\",8.0,8.0],[\"UK\",7.0,7.0],[\"UK\",0.0,3.0],[\"UK\",3.0,7.0],[\"UK\",4.0,5.0],[\"UK\",2.0,2.0],[\"UK\",8.0,8.0],[\"UK\",5.0,5.0],[\"UK\",4.0,4.0],[\"UK\",6.0,9.0],[\"UK\",3.0,4.0],[\"UK\",3.0,5.0],[\"UK\",5.0,6.0],[\"UK\",2.0,5.0],[\"UK\",2.0,8.0],[\"UK\",5.0,5.0],[\"UK\",7.0,7.0],[\"UK\",2.0,5.0],[\"UK\",9.0,9.0],[\"UK\",6.0,5.0],[\"UK\",4.0,8.0],[\"UK\",5.0,8.0],[\"UK\",8.0,8.0],[\"UK\",7.0,7.0],[\"UK\",5.0,5.0],[\"UK\",10.0,9.0],[\"UK\",10.0,10.0],[\"UK\",3.0,7.0],[\"UK\",8.0,7.0],[\"UK\",7.0,7.0],[\"UK\",7.0,9.0],[\"UK\",7.0,7.0],[\"UK\",7.0,5.0],[\"UK\",5.0,5.0],[\"UK\",8.0,7.0],[\"UK\",8.0,9.0],[\"UK\",9.0,9.0],[\"UK\",5.0,5.0],[\"UK\",7.0,5.0],[\"UK\",7.0,7.0],[\"UK\",1.0,4.0],[\"UK\",8.0,8.0],[\"UK\",6.0,6.0],[\"UK\",8.0,8.0],[\"UK\",7.0,7.0],[\"UK\",8.0,8.0],[\"UK\",7.0,5.0],[\"UK\",7.0,7.0],[\"UK\",5.0,10.0],[\"UK\",5.0,5.0],[\"UK\",7.0,7.0],[\"UK\",8.0,7.0],[\"UK\",4.0,6.0],[\"UK\",null,null],[\"UK\",null,null],[\"UK\",null,null],[\"UK\",null,null],[\"UK\",null,null],[\"UK\",null,null],[\"UK\",null,null],[\"UK\",null,null],[\"UK\",null,null],[\"UK\",null,null],[\"UK\",null,null],[\"UK\",null,null],[\"UK\",null,null],[\"UK\",null,null],[\"UK\",null,null],[\"UK\",null,null],[\"UK\",null,null],[\"UK\",null,null],[\"UK\",null,null],[\"UK\",null,null],[\"UK\",null,null],[\"UK\",null,null],[\"UK\",null,null],[\"UK\",null,null],[\"USA\",5.0,7.0],[\"USA\",5.0,9.0],[\"USA\",3.0,5.0],[\"USA\",5.0,5.0],[\"USA\",3.0,8.0],[\"USA\",5.0,5.0],[\"USA\",2.0,2.0],[\"USA\",5.0,7.0],[\"USA\",5.0,5.0],[\"USA\",2.0,4.0],[\"USA\",9.0,9.0],[\"USA\",4.0,5.0],[\"USA\",5.0,5.0],[\"USA\",7.0,6.0],[\"USA\",2.0,6.0],[\"USA\",5.0,7.0],[\"USA\",5.0,7.0],[\"USA\",5.0,5.0],[\"USA\",3.0,4.0],[\"USA\",8.0,9.0],[\"USA\",5.0,8.0],[\"USA\",4.0,5.0],[\"USA\",5.0,4.0],[\"USA\",5.0,7.0],[\"USA\",5.0,4.0],[\"USA\",7.0,8.0],[\"USA\",6.0,7.0],[\"USA\",8.0,8.0],[\"USA\",5.0,5.0],[\"USA\",5.0,5.0],[\"USA\",5.0,7.0],[\"USA\",4.0,5.0],[\"USA\",6.0,7.0],[\"USA\",7.0,9.0],[\"USA\",5.0,9.0],[\"USA\",1.0,8.0],[\"USA\",7.0,7.0],[\"USA\",3.0,7.0],[\"USA\",7.0,7.0],[\"USA\",3.0,8.0],[\"USA\",6.0,6.0],[\"USA\",2.0,2.0],[\"USA\",5.0,7.0],[\"USA\",2.0,4.0],[\"USA\",2.0,6.0],[\"USA\",2.0,2.0],[\"USA\",3.0,5.0],[\"USA\",7.0,10.0],[\"USA\",7.0,7.0],[\"USA\",5.0,6.0],[\"USA\",6.0,5.0],[\"USA\",5.0,7.0],[\"USA\",5.0,5.0],[\"USA\",5.0,5.0],[\"USA\",4.0,7.0],[\"USA\",6.0,8.0],[\"USA\",5.0,8.0],[\"USA\",5.0,9.0],[\"USA\",7.0,7.0],[\"USA\",8.0,9.0],[\"USA\",5.0,6.0],[\"USA\",8.0,9.0],[\"USA\",6.0,8.0],[\"USA\",5.0,10.0],[\"USA\",5.0,6.0],[\"USA\",5.0,5.0],[\"USA\",9.0,9.0],[\"USA\",6.0,7.0],[\"USA\",5.0,6.0],[\"USA\",7.0,7.0],[\"USA\",3.0,3.0],[\"USA\",7.0,7.0],[\"USA\",5.0,8.0],[\"USA\",6.0,9.0],[\"USA\",5.0,5.0],[\"USA\",2.0,5.0],[\"USA\",6.0,5.0],[\"USA\",7.0,9.0],[\"USA\",8.0,8.0],[\"USA\",6.0,7.0],[\"USA\",1.0,3.0],[\"USA\",3.0,6.0],[\"USA\",8.0,8.0],[\"USA\",7.0,7.0],[\"USA\",0.0,8.0],[\"USA\",5.0,5.0],[\"USA\",7.0,9.0],[\"USA\",8.0,7.0],[\"USA\",3.0,4.0],[\"USA\",3.0,5.0],[\"USA\",5.0,5.0],[\"USA\",6.0,8.0],[\"USA\",4.0,5.0],[\"USA\",8.0,10.0],[\"USA\",5.0,5.0],[\"USA\",9.0,9.0],[\"USA\",6.0,7.0],[\"USA\",8.0,8.0],[\"USA\",7.0,4.0],[\"USA\",6.0,6.0],[\"USA\",9.0,8.0],[\"USA\",5.0,7.0],[\"USA\",6.0,5.0],[\"USA\",7.0,10.0],[\"USA\",7.0,7.0],[\"USA\",7.0,10.0],[\"USA\",7.0,10.0],[\"USA\",6.0,8.0],[\"USA\",5.0,5.0],[\"USA\",8.0,6.0],[\"USA\",5.0,5.0],[\"USA\",7.0,8.0],[\"USA\",4.0,9.0],[\"USA\",7.0,8.0],[\"USA\",8.0,8.0],[\"USA\",7.0,7.0],[\"USA\",4.0,4.0],[\"USA\",8.0,8.0],[\"USA\",5.0,8.0],[\"USA\",5.0,7.0],[\"USA\",0.0,0.0],[\"USA\",7.0,7.0],[\"USA\",2.0,6.0],[\"USA\",6.0,8.0],[\"USA\",5.0,5.0],[\"USA\",5.0,5.0],[\"USA\",3.0,6.0],[\"USA\",5.0,7.0],[\"USA\",9.0,9.0],[\"USA\",6.0,8.0],[\"USA\",0.0,7.0],[\"USA\",3.0,5.0],[\"USA\",7.0,8.0],[\"USA\",3.0,5.0],[\"USA\",5.0,5.0],[\"USA\",7.0,8.0],[\"USA\",5.0,7.0],[\"USA\",5.0,5.0],[\"USA\",8.0,10.0],[\"USA\",5.0,5.0],[\"USA\",5.0,7.0],[\"USA\",8.0,8.0],[\"USA\",2.0,5.0],[\"USA\",6.0,7.0],[\"USA\",0.0,4.0],[\"USA\",5.0,5.0],[\"USA\",3.0,8.0],[\"USA\",8.0,7.0],[\"USA\",10.0,10.0],[\"USA\",0.0,2.0],[\"USA\",5.0,5.0],[\"USA\",5.0,5.0],[\"USA\",7.0,7.0],[\"USA\",5.0,5.0],[\"USA\",1.0,7.0],[\"USA\",3.0,3.0],[\"USA\",4.0,4.0],[\"USA\",6.0,8.0],[\"USA\",5.0,10.0],[\"USA\",4.0,7.0],[\"USA\",2.0,7.0],[\"USA\",5.0,9.0],[\"USA\",6.0,8.0],[\"USA\",5.0,5.0],[\"USA\",7.0,7.0],[\"USA\",5.0,7.0],[\"USA\",8.0,8.0],[\"USA\",5.0,7.0],[\"USA\",7.0,7.0],[\"USA\",5.0,5.0],[\"USA\",0.0,3.0],[\"USA\",6.0,8.0],[\"USA\",5.0,5.0],[\"USA\",5.0,5.0],[\"USA\",7.0,7.0],[\"USA\",5.0,5.0],[\"USA\",3.0,4.0],[\"USA\",6.0,8.0],[\"USA\",6.0,7.0],[\"USA\",6.0,7.0],[\"USA\",3.0,9.0],[\"USA\",3.0,0.0],[\"USA\",1.0,2.0],[\"USA\",5.0,5.0],[\"USA\",0.0,1.0],[\"USA\",4.0,7.0],[\"USA\",3.0,8.0],[\"USA\",5.0,5.0],[\"USA\",6.0,6.0],[\"USA\",4.0,7.0],[\"USA\",6.0,7.0],[\"USA\",8.0,10.0],[\"USA\",5.0,6.0],[\"USA\",5.0,2.0],[\"USA\",5.0,7.0],[\"USA\",7.0,8.0],[\"USA\",3.0,5.0],[\"USA\",4.0,6.0],[\"USA\",7.0,7.0],[\"USA\",3.0,4.0],[\"USA\",9.0,9.0],[\"USA\",3.0,6.0],[\"USA\",2.0,6.0],[\"USA\",1.0,1.0],[\"USA\",7.0,7.0],[\"USA\",5.0,5.0],[\"USA\",5.0,7.0],[\"USA\",0.0,6.0],[\"USA\",4.0,6.0],[\"USA\",6.0,6.0],[\"USA\",8.0,7.0],[\"USA\",2.0,5.0],[\"USA\",3.0,3.0],[\"USA\",4.0,7.0],[\"USA\",8.0,8.0],[\"USA\",4.0,7.0],[\"USA\",7.0,6.0],[\"USA\",0.0,3.0],[\"USA\",3.0,5.0],[\"USA\",4.0,7.0],[\"USA\",2.0,2.0],[\"USA\",3.0,8.0],[\"USA\",7.0,6.0],[\"USA\",2.0,3.0],[\"USA\",5.0,8.0],[\"USA\",4.0,5.0],[\"USA\",4.0,4.0],[\"USA\",5.0,5.0],[\"USA\",5.0,7.0],[\"USA\",7.0,7.0],[\"USA\",6.0,6.0],[\"USA\",0.0,10.0],[\"USA\",5.0,5.0],[\"USA\",7.0,8.0],[\"USA\",4.0,4.0],[\"USA\",7.0,9.0],[\"USA\",3.0,3.0],[\"USA\",2.0,5.0],[\"USA\",7.0,7.0],[\"USA\",5.0,6.0],[\"USA\",5.0,5.0],[\"USA\",5.0,6.0],[\"USA\",6.0,6.0],[\"USA\",0.0,0.0],[\"USA\",2.0,5.0],[\"USA\",7.0,8.0],[\"USA\",5.0,7.0],[\"USA\",5.0,8.0],[\"USA\",5.0,5.0],[\"USA\",6.0,10.0],[\"USA\",3.0,3.0],[\"USA\",4.0,7.0],[\"USA\",8.0,8.0],[\"USA\",4.0,5.0],[\"USA\",5.0,5.0],[\"USA\",5.0,6.0],[\"USA\",8.0,7.0],[\"USA\",3.0,6.0],[\"USA\",6.0,8.0],[\"USA\",8.0,7.0],[\"USA\",5.0,5.0],[\"USA\",6.0,6.0],[\"USA\",7.0,6.0],[\"USA\",10.0,10.0],[\"USA\",2.0,10.0],[\"USA\",4.0,4.0],[\"USA\",3.0,7.0],[\"USA\",5.0,5.0],[\"USA\",5.0,5.0],[\"USA\",8.0,6.0],[\"USA\",5.0,8.0],[\"USA\",0.0,7.0],[\"USA\",8.0,10.0],[\"USA\",2.0,7.0],[\"USA\",5.0,5.0],[\"USA\",2.0,4.0],[\"USA\",8.0,8.0],[\"USA\",5.0,7.0],[\"USA\",5.0,6.0],[\"USA\",2.0,6.0],[\"USA\",9.0,8.0],[\"USA\",7.0,9.0],[\"USA\",5.0,8.0],[\"USA\",0.0,0.0],[\"USA\",6.0,7.0],[\"USA\",7.0,7.0],[\"USA\",10.0,10.0],[\"USA\",5.0,8.0],[\"USA\",5.0,5.0],[\"USA\",1.0,0.0],[\"USA\",10.0,10.0],[\"USA\",8.0,10.0],[\"USA\",0.0,1.0],[\"USA\",2.0,8.0],[\"USA\",2.0,5.0],[\"USA\",5.0,5.0],[\"USA\",5.0,5.0],[\"USA\",0.0,10.0],[\"USA\",0.0,0.0],[\"USA\",2.0,5.0],[\"USA\",2.0,3.0],[\"USA\",2.0,10.0],[\"USA\",5.0,5.0],[\"USA\",4.0,7.0],[\"USA\",6.0,10.0],[\"USA\",4.0,8.0],[\"USA\",5.0,7.0],[\"USA\",5.0,8.0],[\"USA\",6.0,7.0],[\"USA\",5.0,5.0],[\"USA\",6.0,6.0],[\"USA\",7.0,1.0],[\"USA\",3.0,5.0],[\"USA\",7.0,8.0],[\"USA\",1.0,2.0],[\"USA\",5.0,5.0],[\"USA\",5.0,8.0],[\"USA\",3.0,4.0],[\"USA\",3.0,5.0],[\"USA\",2.0,2.0],[\"USA\",4.0,7.0],[\"USA\",4.0,7.0],[\"USA\",5.0,8.0],[\"USA\",4.0,6.0],[\"USA\",6.0,6.0],[\"USA\",5.0,9.0],[\"USA\",4.0,7.0],[\"USA\",0.0,1.0],[\"USA\",6.0,8.0],[\"USA\",8.0,10.0],[\"USA\",7.0,8.0],[\"USA\",2.0,3.0],[\"USA\",3.0,6.0],[\"USA\",0.0,3.0],[\"USA\",6.0,6.0],[\"USA\",6.0,4.0],[\"USA\",5.0,6.0],[\"USA\",2.0,3.0],[\"USA\",8.0,5.0],[\"USA\",5.0,8.0],[\"USA\",4.0,5.0],[\"USA\",7.0,4.0],[\"USA\",10.0,10.0],[\"USA\",7.0,6.0],[\"USA\",5.0,6.0],[\"USA\",0.0,3.0],[\"USA\",5.0,5.0],[\"USA\",7.0,7.0],[\"USA\",3.0,5.0],[\"USA\",8.0,9.0],[\"USA\",4.0,6.0],[\"USA\",8.0,6.0],[\"USA\",7.0,7.0],[\"USA\",2.0,7.0],[\"USA\",3.0,7.0],[\"USA\",7.0,7.0],[\"USA\",8.0,8.0],[\"USA\",3.0,7.0],[\"USA\",7.0,8.0],[\"USA\",6.0,6.0],[\"USA\",0.0,7.0],[\"USA\",0.0,6.0],[\"USA\",7.0,6.0],[\"USA\",0.0,1.0],[\"USA\",3.0,0.0],[\"USA\",6.0,6.0],[\"USA\",5.0,7.0],[\"USA\",10.0,10.0],[\"USA\",8.0,10.0],[\"USA\",3.0,7.0],[\"USA\",5.0,7.0],[\"USA\",3.0,5.0],[\"USA\",4.0,7.0],[\"USA\",10.0,10.0],[\"USA\",7.0,8.0],[\"USA\",5.0,3.0],[\"USA\",0.0,0.0],[\"USA\",5.0,7.0],[\"USA\",1.0,3.0],[\"USA\",2.0,2.0],[\"USA\",5.0,10.0],[\"USA\",4.0,6.0],[\"USA\",3.0,5.0],[\"USA\",5.0,5.0],[\"USA\",2.0,9.0],[\"USA\",6.0,5.0],[\"USA\",5.0,7.0],[\"USA\",8.0,8.0],[\"USA\",3.0,5.0],[\"USA\",7.0,7.0],[\"USA\",5.0,2.0],[\"USA\",8.0,8.0],[\"USA\",4.0,5.0],[\"USA\",2.0,5.0],[\"USA\",5.0,3.0],[\"USA\",3.0,4.0],[\"USA\",4.0,8.0],[\"USA\",0.0,3.0],[\"USA\",1.0,7.0],[\"USA\",2.0,2.0],[\"USA\",5.0,0.0],[\"USA\",0.0,0.0],[\"USA\",4.0,7.0],[\"USA\",0.0,3.0],[\"USA\",5.0,5.0],[\"USA\",3.0,6.0],[\"USA\",7.0,7.0],[\"USA\",4.0,8.0],[\"USA\",5.0,7.0],[\"USA\",8.0,10.0],[\"USA\",3.0,7.0],[\"USA\",0.0,9.0],[\"USA\",3.0,3.0],[\"USA\",4.0,5.0],[\"USA\",0.0,0.0],[\"USA\",3.0,3.0],[\"USA\",2.0,2.0],[\"USA\",2.0,2.0],[\"USA\",5.0,5.0],[\"USA\",1.0,5.0],[\"USA\",10.0,10.0],[\"USA\",4.0,8.0],[\"USA\",2.0,2.0],[\"USA\",5.0,0.0],[\"USA\",0.0,8.0],[\"USA\",3.0,7.0],[\"USA\",0.0,5.0],[\"USA\",3.0,3.0],[\"USA\",2.0,5.0],[\"USA\",4.0,0.0],[\"USA\",3.0,3.0],[\"USA\",3.0,7.0],[\"USA\",3.0,5.0],[\"USA\",3.0,3.0],[\"USA\",8.0,7.0],[\"USA\",5.0,8.0],[\"USA\",6.0,9.0],[\"USA\",3.0,6.0],[\"USA\",0.0,10.0],[\"USA\",5.0,8.0],[\"USA\",7.0,7.0],[\"USA\",5.0,4.0],[\"USA\",0.0,7.0],[\"USA\",4.0,8.0],[\"USA\",4.0,6.0],[\"USA\",1.0,3.0],[\"USA\",1.0,4.0],[\"USA\",4.0,6.0],[\"USA\",1.0,5.0],[\"USA\",4.0,10.0],[\"USA\",5.0,5.0],[\"USA\",3.0,10.0],[\"USA\",5.0,10.0],[\"USA\",6.0,7.0],[\"USA\",5.0,5.0],[\"USA\",5.0,10.0],[\"USA\",7.0,8.0],[\"USA\",4.0,6.0],[\"USA\",2.0,5.0],[\"USA\",2.0,3.0],[\"USA\",0.0,5.0],[\"USA\",5.0,5.0],[\"USA\",0.0,0.0],[\"USA\",7.0,4.0],[\"USA\",0.0,0.0],[\"USA\",1.0,3.0],[\"USA\",8.0,8.0],[\"USA\",3.0,3.0],[\"USA\",2.0,5.0],[\"USA\",3.0,3.0],[\"USA\",6.0,6.0],[\"USA\",0.0,2.0],[\"USA\",7.0,7.0],[\"USA\",5.0,5.0],[\"USA\",4.0,3.0],[\"USA\",0.0,5.0],[\"USA\",5.0,10.0],[\"USA\",5.0,6.0],[\"USA\",7.0,7.0],[\"USA\",4.0,5.0],[\"USA\",5.0,2.0],[\"USA\",3.0,5.0],[\"USA\",5.0,6.0],[\"USA\",7.0,5.0],[\"USA\",2.0,4.0],[\"USA\",4.0,3.0],[\"USA\",0.0,0.0],[\"USA\",0.0,0.0],[\"USA\",2.0,6.0],[\"USA\",0.0,0.0],[\"USA\",2.0,7.0],[\"USA\",7.0,7.0],[\"USA\",2.0,5.0],[\"USA\",6.0,7.0],[\"USA\",8.0,7.0],[\"USA\",2.0,2.0],[\"USA\",0.0,3.0],[\"USA\",3.0,7.0],[\"USA\",5.0,6.0],[\"USA\",5.0,6.0],[\"USA\",4.0,7.0],[\"USA\",6.0,6.0],[\"USA\",3.0,8.0],[\"USA\",4.0,8.0],[\"USA\",5.0,8.0],[\"USA\",3.0,6.0],[\"USA\",5.0,5.0],[\"USA\",10.0,10.0],[\"USA\",4.0,5.0],[\"USA\",10.0,10.0],[\"USA\",5.0,5.0],[\"USA\",9.0,8.0],[\"USA\",4.0,7.0],[\"USA\",5.0,7.0],[\"USA\",0.0,0.0],[\"USA\",6.0,8.0],[\"USA\",6.0,8.0],[\"USA\",1.0,6.0],[\"USA\",5.0,8.0],[\"USA\",8.0,8.0],[\"USA\",5.0,5.0],[\"USA\",3.0,8.0],[\"USA\",7.0,7.0],[\"USA\",2.0,9.0],[\"USA\",10.0,10.0],[\"USA\",0.0,0.0],[\"USA\",8.0,8.0],[\"USA\",5.0,5.0],[\"USA\",2.0,0.0],[\"USA\",4.0,8.0],[\"USA\",5.0,5.0],[\"USA\",5.0,6.0],[\"USA\",3.0,7.0],[\"USA\",1.0,1.0],[\"USA\",3.0,5.0],[\"USA\",6.0,7.0],[\"USA\",3.0,10.0],[\"USA\",0.0,5.0],[\"USA\",8.0,10.0],[\"USA\",0.0,9.0],[\"USA\",0.0,0.0],[\"USA\",5.0,6.0],[\"USA\",2.0,2.0],[\"USA\",5.0,10.0],[\"USA\",5.0,6.0],[\"USA\",7.0,7.0],[\"USA\",7.0,8.0],[\"USA\",5.0,9.0],[\"USA\",1.0,1.0],[\"USA\",9.0,5.0],[\"USA\",7.0,7.0],[\"USA\",5.0,8.0],[\"USA\",3.0,4.0],[\"USA\",1.0,3.0],[\"USA\",2.0,5.0],[\"USA\",0.0,2.0],[\"USA\",3.0,7.0],[\"USA\",2.0,5.0],[\"USA\",5.0,5.0],[\"USA\",0.0,3.0],[\"USA\",5.0,1.0],[\"USA\",3.0,5.0],[\"USA\",8.0,5.0],[\"USA\",7.0,7.0],[\"USA\",5.0,8.0],[\"USA\",6.0,5.0],[\"USA\",7.0,7.0],[\"USA\",3.0,10.0],[\"USA\",4.0,10.0],[\"USA\",5.0,5.0],[\"USA\",5.0,7.0],[\"USA\",9.0,5.0],[\"USA\",0.0,6.0],[\"USA\",3.0,8.0],[\"USA\",10.0,10.0],[\"USA\",2.0,2.0],[\"USA\",1.0,5.0],[\"USA\",3.0,5.0],[\"USA\",0.0,4.0],[\"USA\",3.0,5.0],[\"USA\",6.0,9.0],[\"USA\",7.0,5.0],[\"USA\",3.0,5.0],[\"USA\",0.0,0.0],[\"USA\",0.0,5.0],[\"USA\",3.0,7.0],[\"USA\",5.0,8.0],[\"USA\",6.0,7.0],[\"USA\",2.0,3.0],[\"USA\",2.0,5.0],[\"USA\",5.0,7.0],[\"USA\",3.0,2.0],[\"USA\",2.0,10.0],[\"USA\",3.0,6.0],[\"USA\",2.0,7.0],[\"USA\",5.0,7.0],[\"USA\",2.0,5.0],[\"USA\",2.0,5.0],[\"USA\",5.0,5.0],[\"USA\",0.0,3.0],[\"USA\",3.0,9.0],[\"USA\",5.0,5.0],[\"USA\",0.0,0.0],[\"USA\",6.0,5.0],[\"USA\",5.0,8.0],[\"USA\",2.0,4.0],[\"USA\",0.0,10.0],[\"USA\",4.0,8.0],[\"USA\",7.0,10.0],[\"USA\",4.0,7.0],[\"USA\",2.0,7.0],[\"USA\",4.0,7.0],[\"USA\",4.0,5.0],[\"USA\",7.0,9.0],[\"USA\",8.0,8.0],[\"USA\",7.0,6.0],[\"USA\",3.0,5.0],[\"USA\",5.0,7.0],[\"USA\",7.0,8.0],[\"USA\",5.0,5.0],[\"USA\",3.0,3.0],[\"USA\",2.0,4.0],[\"USA\",2.0,8.0],[\"USA\",2.0,2.0],[\"USA\",5.0,7.0],[\"USA\",8.0,8.0],[\"USA\",0.0,8.0],[\"USA\",2.0,2.0],[\"USA\",5.0,5.0],[\"USA\",8.0,8.0],[\"USA\",2.0,7.0],[\"USA\",6.0,8.0],[\"USA\",1.0,10.0],[\"USA\",7.0,6.0],[\"USA\",4.0,7.0],[\"USA\",7.0,9.0],[\"USA\",4.0,7.0],[\"USA\",7.0,7.0],[\"USA\",6.0,8.0],[\"USA\",1.0,5.0],[\"USA\",5.0,8.0],[\"USA\",5.0,7.0],[\"USA\",3.0,6.0],[\"USA\",7.0,7.0],[\"USA\",10.0,10.0],[\"USA\",5.0,7.0],[\"USA\",9.0,7.0],[\"USA\",8.0,8.0],[\"USA\",6.0,8.0],[\"USA\",2.0,3.0],[\"USA\",3.0,8.0],[\"USA\",5.0,7.0],[\"USA\",6.0,7.0],[\"USA\",8.0,8.0],[\"USA\",10.0,10.0],[\"USA\",7.0,8.0],[\"USA\",7.0,7.0],[\"USA\",7.0,8.0],[\"USA\",5.0,9.0],[\"USA\",5.0,7.0],[\"USA\",5.0,9.0],[\"USA\",8.0,8.0],[\"USA\",5.0,6.0],[\"USA\",5.0,10.0],[\"USA\",7.0,7.0],[\"USA\",5.0,9.0],[\"USA\",2.0,5.0],[\"USA\",8.0,8.0],[\"USA\",8.0,5.0],[\"USA\",7.0,8.0],[\"USA\",4.0,6.0],[\"USA\",7.0,8.0],[\"USA\",1.0,5.0],[\"USA\",8.0,8.0],[\"USA\",5.0,5.0],[\"USA\",9.0,9.0],[\"USA\",5.0,7.0],[\"USA\",8.0,6.0],[\"USA\",5.0,5.0],[\"USA\",4.0,8.0],[\"USA\",8.0,8.0],[\"USA\",9.0,9.0],[\"USA\",5.0,6.0],[\"USA\",9.0,6.0],[\"USA\",9.0,9.0],[\"USA\",1.0,4.0],[\"USA\",5.0,8.0],[\"USA\",5.0,10.0],[\"USA\",7.0,8.0],[\"USA\",8.0,8.0],[\"USA\",5.0,5.0],[\"USA\",7.0,7.0],[\"USA\",7.0,7.0],[\"USA\",8.0,6.0],[\"USA\",5.0,7.0],[\"USA\",8.0,8.0],[\"USA\",2.0,2.0],[\"USA\",8.0,8.0],[\"USA\",8.0,8.0],[\"USA\",10.0,7.0],[\"USA\",6.0,10.0],[\"USA\",8.0,8.0],[\"USA\",6.0,8.0],[\"USA\",5.0,5.0],[\"USA\",7.0,7.0],[\"USA\",7.0,5.0],[\"USA\",8.0,7.0],[\"USA\",5.0,7.0],[\"USA\",5.0,5.0],[\"USA\",9.0,9.0],[\"USA\",6.0,6.0],[\"USA\",8.0,7.0],[\"USA\",9.0,7.0],[\"USA\",5.0,5.0],[\"USA\",7.0,5.0],[\"USA\",9.0,5.0],[\"USA\",6.0,10.0],[\"USA\",6.0,6.0],[\"USA\",10.0,10.0],[\"USA\",4.0,6.0],[\"USA\",6.0,7.0],[\"USA\",10.0,10.0],[\"USA\",6.0,6.0],[\"USA\",5.0,5.0],[\"USA\",7.0,7.0],[\"USA\",8.0,8.0],[\"USA\",5.0,6.0],[\"USA\",10.0,10.0],[\"USA\",4.0,1.0],[\"USA\",8.0,10.0],[\"USA\",5.0,7.0],[\"USA\",8.0,7.0],[\"USA\",8.0,8.0],[\"USA\",5.0,8.0],[\"USA\",7.0,8.0],[\"USA\",5.0,7.0],[\"USA\",4.0,7.0],[\"USA\",6.0,6.0],[\"USA\",9.0,9.0],[\"USA\",5.0,6.0],[\"USA\",6.0,6.0],[\"USA\",5.0,6.0],[\"USA\",7.0,7.0],[\"USA\",7.0,7.0],[\"USA\",5.0,7.0],[\"USA\",7.0,10.0],[\"USA\",6.0,6.0],[\"USA\",5.0,5.0],[\"USA\",5.0,7.0],[\"USA\",6.0,8.0],[\"USA\",7.0,7.0],[\"USA\",8.0,8.0],[\"USA\",4.0,5.0],[\"USA\",6.0,6.0],[\"USA\",5.0,7.0],[\"USA\",4.0,5.0],[\"USA\",8.0,8.0],[\"USA\",7.0,10.0],[\"USA\",5.0,7.0],[\"USA\",5.0,10.0],[\"USA\",5.0,4.0],[\"USA\",3.0,7.0],[\"USA\",5.0,6.0],[\"USA\",5.0,9.0],[\"USA\",4.0,7.0],[\"USA\",7.0,8.0],[\"USA\",6.0,8.0],[\"USA\",5.0,5.0],[\"USA\",4.0,6.0],[\"USA\",6.0,9.0],[\"USA\",5.0,7.0],[\"USA\",1.0,3.0],[\"USA\",3.0,6.0],[\"USA\",4.0,6.0],[\"USA\",5.0,5.0],[\"USA\",6.0,8.0],[\"USA\",7.0,9.0],[\"USA\",9.0,5.0],[\"USA\",8.0,7.0],[\"USA\",9.0,8.0],[\"USA\",5.0,5.0],[\"USA\",5.0,5.0],[\"USA\",5.0,3.0],[\"USA\",9.0,6.0],[\"USA\",5.0,5.0],[\"USA\",6.0,7.0],[\"USA\",6.0,7.0],[\"USA\",5.0,5.0],[\"USA\",7.0,9.0],[\"USA\",2.0,2.0],[\"USA\",3.0,5.0],[\"USA\",5.0,6.0],[\"USA\",5.0,5.0],[\"USA\",6.0,7.0],[\"USA\",9.0,9.0],[\"USA\",5.0,5.0],[\"USA\",8.0,8.0],[\"USA\",8.0,6.0],[\"USA\",5.0,9.0],[\"USA\",5.0,8.0],[\"USA\",9.0,8.0],[\"USA\",5.0,3.0],[\"USA\",6.0,6.0],[\"USA\",8.0,8.0],[\"USA\",1.0,4.0],[\"USA\",5.0,6.0],[\"USA\",7.0,6.0],[\"USA\",10.0,8.0],[\"USA\",8.0,8.0],[\"USA\",6.0,5.0],[\"USA\",7.0,7.0],[\"USA\",7.0,7.0],[\"USA\",7.0,8.0],[\"USA\",10.0,10.0],[\"USA\",4.0,6.0],[\"USA\",5.0,5.0],[\"USA\",7.0,8.0],[\"USA\",2.0,5.0],[\"USA\",5.0,6.0],[\"USA\",10.0,8.0],[\"USA\",7.0,9.0],[\"USA\",5.0,5.0],[\"USA\",7.0,7.0],[\"USA\",3.0,4.0],[\"USA\",7.0,5.0],[\"USA\",2.0,8.0],[\"USA\",7.0,7.0],[\"USA\",10.0,10.0],[\"USA\",5.0,5.0],[\"USA\",5.0,6.0],[\"USA\",3.0,5.0],[\"USA\",3.0,5.0],[\"USA\",3.0,1.0],[\"USA\",6.0,8.0],[\"USA\",8.0,6.0],[\"USA\",3.0,9.0],[\"USA\",8.0,8.0],[\"USA\",6.0,7.0],[\"USA\",6.0,3.0],[\"USA\",5.0,5.0],[\"USA\",8.0,6.0],[\"USA\",3.0,3.0],[\"USA\",7.0,9.0],[\"USA\",1.0,2.0],[\"USA\",7.0,7.0],[\"USA\",5.0,8.0],[\"USA\",7.0,7.0],[\"USA\",7.0,8.0],[\"USA\",8.0,6.0],[\"USA\",7.0,5.0],[\"USA\",8.0,7.0],[\"USA\",8.0,10.0],[\"USA\",6.0,7.0],[\"USA\",4.0,2.0],[\"USA\",5.0,5.0],[\"USA\",7.0,9.0],[\"USA\",0.0,5.0],[\"USA\",8.0,8.0],[\"USA\",7.0,7.0],[\"USA\",9.0,9.0],[\"USA\",6.0,8.0],[\"USA\",9.0,9.0],[\"USA\",3.0,3.0],[\"USA\",8.0,8.0],[\"USA\",7.0,9.0],[\"USA\",8.0,7.0],[\"USA\",6.0,8.0],[\"USA\",7.0,8.0],[\"USA\",7.0,8.0],[\"USA\",7.0,7.0],[\"USA\",2.0,0.0],[\"USA\",5.0,5.0],[\"USA\",0.0,0.0],[\"USA\",5.0,5.0],[\"USA\",7.0,5.0],[\"USA\",3.0,1.0],[\"USA\",9.0,7.0],[\"USA\",6.0,7.0],[\"USA\",10.0,10.0],[\"USA\",3.0,6.0],[\"USA\",7.0,5.0],[\"USA\",6.0,8.0],[\"USA\",6.0,3.0],[\"USA\",10.0,10.0],[\"USA\",7.0,8.0],[\"USA\",5.0,5.0],[\"USA\",4.0,5.0],[\"USA\",5.0,10.0],[\"USA\",7.0,6.0],[\"USA\",4.0,6.0],[\"USA\",5.0,7.0],[\"USA\",7.0,7.0],[\"USA\",8.0,10.0],[\"USA\",3.0,3.0],[\"USA\",8.0,7.0],[\"USA\",7.0,7.0],[\"USA\",8.0,8.0],[\"USA\",1.0,3.0],[\"USA\",5.0,5.0],[\"USA\",3.0,6.0],[\"USA\",5.0,7.0],[\"USA\",9.0,5.0],[\"USA\",6.0,6.0],[\"USA\",1.0,3.0],[\"USA\",8.0,10.0],[\"USA\",8.0,9.0],[\"USA\",7.0,6.0],[\"USA\",5.0,8.0],[\"USA\",5.0,10.0],[\"USA\",5.0,8.0],[\"USA\",8.0,10.0],[\"USA\",5.0,7.0],[\"USA\",8.0,8.0],[\"USA\",4.0,6.0],[\"USA\",6.0,7.0],[\"USA\",8.0,8.0],[\"USA\",7.0,7.0],[\"USA\",10.0,9.0],[\"USA\",1.0,6.0],[\"USA\",10.0,10.0],[\"USA\",10.0,8.0],[\"USA\",5.0,6.0],[\"USA\",1.0,8.0],[\"USA\",6.0,6.0],[\"USA\",8.0,10.0],[\"USA\",8.0,10.0],[\"USA\",8.0,8.0],[\"USA\",7.0,8.0],[\"USA\",7.0,7.0],[\"USA\",5.0,8.0],[\"USA\",5.0,6.0],[\"USA\",9.0,9.0],[\"USA\",5.0,5.0],[\"USA\",7.0,7.0],[\"USA\",7.0,7.0],[\"USA\",8.0,8.0],[\"USA\",8.0,8.0],[\"USA\",6.0,8.0],[\"USA\",7.0,7.0],[\"USA\",3.0,5.0],[\"USA\",0.0,2.0],[\"USA\",5.0,5.0],[\"USA\",3.0,5.0],[\"USA\",3.0,5.0],[\"USA\",4.0,4.0],[\"USA\",7.0,8.0],[\"USA\",7.0,8.0],[\"USA\",8.0,8.0],[\"USA\",5.0,6.0],[\"USA\",7.0,7.0],[\"USA\",6.0,10.0],[\"USA\",5.0,5.0],[\"USA\",5.0,7.0],[\"USA\",9.0,10.0],[\"USA\",6.0,6.0],[\"USA\",4.0,5.0],[\"USA\",8.0,8.0],[\"USA\",8.0,8.0],[\"USA\",10.0,10.0],[\"USA\",8.0,8.0],[\"USA\",6.0,7.0],[\"USA\",10.0,10.0],[\"USA\",5.0,5.0],[\"USA\",9.0,8.0],[\"USA\",8.0,8.0],[\"USA\",5.0,7.0],[\"USA\",8.0,8.0],[\"USA\",5.0,5.0],[\"USA\",5.0,5.0],[\"USA\",3.0,1.0],[\"USA\",9.0,7.0],[\"USA\",null,null],[\"USA\",null,null],[\"USA\",null,null],[\"USA\",null,null],[\"USA\",null,null],[\"USA\",null,null],[\"USA\",null,null],[\"USA\",null,null],[\"USA\",null,null],[\"USA\",null,null],[\"USA\",null,null],[\"USA\",null,null],[\"USA\",null,null],[\"USA\",null,null],[\"USA\",null,null],[\"USA\",null,null],[\"USA\",null,null],[\"USA\",null,null],[\"USA\",null,null],[\"USA\",null,null],[\"USA\",null,null],[\"USA\",null,null],[\"USA\",null,null],[\"USA\",null,null],[\"USA\",null,null],[\"USA\",null,null],[\"USA\",null,null],[\"USA\",null,null],[\"USA\",null,null],[\"USA\",null,null],[\"USA\",null,null],[\"USA\",null,null],[\"USA\",null,null],[\"USA\",null,null],[\"USA\",null,null],[\"USA\",null,null],[\"USA\",null,null],[\"USA\",null,null],[\"USA\",null,null],[\"USA\",null,null],[\"USA\",null,null],[\"USA\",null,null],[\"USA\",null,null],[\"USA\",null,null],[\"USA\",null,null],[\"USA\",null,null],[\"USA\",null,null],[\"USA\",null,null],[\"USA\",null,null],[\"USA\",null,null],[\"USA\",null,null],[\"USA\",null,null],[\"USA\",null,null],[\"USA\",null,null],[\"USA\",null,null],[\"USA\",null,null],[\"USA\",null,null],[\"USA\",null,null],[\"USA\",null,null],[\"USA\",null,null],[\"USA\",null,null],[\"USA\",null,null],[\"USA\",null,null],[\"USA\",null,null],[\"USA\",null,null],[\"USA\",null,null],[\"USA\",null,null],[\"USA\",null,null],[\"USA\",null,null],[\"USA\",null,null],[\"USA\",null,null],[\"USA\",null,null],[\"USA\",null,null],[\"USA\",null,null],[\"USA\",null,null],[\"USA\",null,null],[\"USA\",null,null],[\"USA\",null,null],[\"USA\",null,null],[\"USA\",null,null],[\"USA\",null,null],[\"USA\",null,null],[\"USA\",null,null],[\"USA\",null,null],[\"USA\",null,null],[\"USA\",null,null],[\"USA\",null,null],[\"USA\",null,null],[\"USA\",null,null],[\"USA\",null,null],[\"USA\",null,null],[\"USA\",null,null],[\"USA\",null,null],[\"USA\",null,null],[\"USA\",null,null],[\"USA\",null,null],[\"USA\",null,null],[\"USA\",null,null],[\"USA\",null,null],[\"USA\",null,null],[\"USA\",null,null],[\"USA\",null,null],[\"Ukraine\",5.0,8.0],[\"Ukraine\",6.0,8.0],[\"Ukraine\",null,null],[\"Uruguay\",4.0,4.0]],\"geo\":\"geo\",\"hovertemplate\":\"<b>%{hovertext}</b><br><br>country_live_in=%{location}<br>country_work_in=%{customdata[0]}<br>mh_employer_rate=%{customdata[1]}<br>ph_employer_rate=%{customdata[2]}<br>rate_tech_industry_support=%{z}<extra></extra>\",\"hovertext\":[\"Afghanistan\",\"Algeria\",\"Argentina\",\"Argentina\",\"Australia\",\"Australia\",\"Australia\",\"Australia\",\"Australia\",\"Australia\",\"Australia\",\"Australia\",\"Australia\",\"Australia\",\"Australia\",\"Australia\",\"Australia\",\"Australia\",\"Australia\",\"Australia\",\"Australia\",\"Australia\",\"Australia\",\"Australia\",\"Australia\",\"Austria\",\"Austria\",\"Austria\",\"Austria\",\"Bangladesh\",\"Bangladesh\",\"Bangladesh\",\"Belgium\",\"Belgium\",\"Belgium\",\"Belgium\",\"Botswana\",\"Brazil\",\"Brazil\",\"Brazil\",\"Brazil\",\"Brazil\",\"Brazil\",\"Brazil\",\"Brazil\",\"Brazil\",\"Brazil\",\"Brazil\",\"Brazil\",\"Brazil\",\"Brazil\",\"Brazil\",\"Brazil\",\"Brazil\",\"Brazil\",\"Brazil\",\"Brazil\",\"Brazil\",\"Brazil\",\"Brazil\",\"Brazil\",\"Brazil\",\"Brazil\",\"Brazil\",\"Bulgaria\",\"Bulgaria\",\"Cameroon\",\"Canada\",\"Canada\",\"Canada\",\"Canada\",\"Canada\",\"Canada\",\"Canada\",\"Canada\",\"Canada\",\"Canada\",\"Canada\",\"Canada\",\"Canada\",\"Canada\",\"Canada\",\"Canada\",\"Canada\",\"Canada\",\"Canada\",\"Canada\",\"Canada\",\"Canada\",\"Canada\",\"Canada\",\"Canada\",\"Canada\",\"Canada\",\"Canada\",\"Canada\",\"Canada\",\"Canada\",\"Canada\",\"Canada\",\"Canada\",\"Canada\",\"Canada\",\"Canada\",\"Canada\",\"Canada\",\"Canada\",\"Canada\",\"Canada\",\"Canada\",\"Canada\",\"Canada\",\"Canada\",\"Canada\",\"Canada\",\"Canada\",\"Canada\",\"Canada\",\"Canada\",\"Canada\",\"Colombia\",\"Colombia\",\"Colombia\",\"Croatia\",\"Croatia\",\"Czech Republic\",\"Egypt\",\"Eritrea\",\"Estonia\",\"Estonia\",\"Estonia\",\"Ethiopia\",\"Finland\",\"Finland\",\"Finland\",\"Finland\",\"France\",\"France\",\"France\",\"France\",\"France\",\"France\",\"France\",\"France\",\"France\",\"France\",\"France\",\"France\",\"France\",\"France\",\"France\",\"France\",\"France\",\"France\",\"France\",\"France\",\"France\",\"Georgia\",\"Germany\",\"Germany\",\"Germany\",\"Germany\",\"Germany\",\"Germany\",\"Germany\",\"Germany\",\"Germany\",\"Germany\",\"Germany\",\"Germany\",\"Germany\",\"Germany\",\"Germany\",\"Germany\",\"Germany\",\"Germany\",\"Germany\",\"Germany\",\"Germany\",\"Germany\",\"Germany\",\"Germany\",\"Germany\",\"Germany\",\"Germany\",\"Germany\",\"Germany\",\"Germany\",\"Germany\",\"Germany\",\"Germany\",\"Germany\",\"Germany\",\"Germany\",\"Germany\",\"Ghana\",\"Greece\",\"Greece\",\"Greece\",\"Hong Kong\",\"Hong Kong\",\"Hungary\",\"Iceland\",\"Iceland\",\"Iceland\",\"India\",\"India\",\"India\",\"India\",\"India\",\"India\",\"India\",\"India\",\"India\",\"India\",\"India\",\"India\",\"India\",\"India\",\"India\",\"India\",\"India\",\"India\",\"India\",\"India\",\"India\",\"India\",\"India\",\"India\",\"India\",\"India\",\"India\",\"India\",\"India\",\"India\",\"India\",\"India\",\"India\",\"India\",\"India\",\"India\",\"India\",\"India\",\"India\",\"India\",\"India\",\"India\",\"India\",\"India\",\"India\",\"India\",\"India\",\"India\",\"India\",\"India\",\"India\",\"India\",\"India\",\"India\",\"India\",\"India\",\"India\",\"India\",\"Indonesia\",\"Indonesia\",\"Indonesia\",\"Ireland\",\"Ireland\",\"Ireland\",\"Ireland\",\"Ireland\",\"Ireland\",\"Ireland\",\"Ireland\",\"Ireland\",\"Ireland\",\"Israel\",\"Israel\",\"Italy\",\"Italy\",\"Italy\",\"Italy\",\"Italy\",\"Italy\",\"Italy\",\"Japan\",\"Japan\",\"Japan\",\"Japan\",\"Japan\",\"Jordan\",\"Kenya\",\"Luxembourg\",\"Macedonia\",\"Malaysia\",\"Mauritius\",\"Mexico\",\"Mexico\",\"Mexico\",\"Mexico\",\"Mexico\",\"Mexico\",\"Mexico\",\"Mexico\",\"Mongolia\",\"Mongolia\",\"Netherlands\",\"Netherlands\",\"Netherlands\",\"Netherlands\",\"Netherlands\",\"Netherlands\",\"Netherlands\",\"Netherlands\",\"Netherlands\",\"Netherlands\",\"Netherlands\",\"Netherlands\",\"Netherlands\",\"Netherlands\",\"Netherlands\",\"Netherlands\",\"Netherlands\",\"Netherlands\",\"Netherlands\",\"Netherlands\",\"Netherlands\",\"Netherlands\",\"Netherlands\",\"Netherlands\",\"Netherlands\",\"Netherlands\",\"Netherlands\",\"New Zealand\",\"New Zealand\",\"New Zealand\",\"New Zealand\",\"New Zealand\",\"New Zealand\",\"New Zealand\",\"Nigeria\",\"Norway\",\"Norway\",\"Norway\",\"Norway\",\"Norway\",\"Norway\",\"Norway\",\"Norway\",\"Other\",\"Pakistan\",\"Pakistan\",\"Pakistan\",\"Pakistan\",\"Philippines\",\"Philippines\",\"Philippines\",\"Poland\",\"Poland\",\"Poland\",\"Poland\",\"Poland\",\"Poland\",\"Poland\",\"Poland\",\"Poland\",\"Poland\",\"Poland\",\"Portugal\",\"Portugal\",\"Portugal\",\"Portugal\",\"Portugal\",\"Portugal\",\"Portugal\",\"Portugal\",\"Portugal\",\"Portugal\",\"Portugal\",\"Portugal\",\"Portugal\",\"Portugal\",\"Portugal\",\"Portugal\",\"Portugal\",\"Portugal\",\"Portugal\",\"Portugal\",\"Portugal\",\"Portugal\",\"Portugal\",\"Romania\",\"Romania\",\"Romania\",\"Romania\",\"Russia\",\"Russia\",\"Russia\",\"Russia\",\"Russia\",\"Russia\",\"Saudi Arabia\",\"Serbia\",\"Serbia\",\"Serbia\",\"Serbia\",\"Singapore\",\"Slovakia\",\"South Africa\",\"South Africa\",\"South Africa\",\"South Africa\",\"South Africa\",\"South Africa\",\"South Africa\",\"South Africa\",\"Spain\",\"Spain\",\"Spain\",\"Spain\",\"Spain\",\"Spain\",\"Spain\",\"Spain\",\"Spain\",\"Spain\",\"Spain\",\"Spain\",\"Spain\",\"Spain\",\"Spain\",\"Spain\",\"Spain\",\"Spain\",\"Spain\",\"Spain\",\"Spain\",\"Spain\",\"Spain\",\"Spain\",\"Spain\",\"Spain\",\"Spain\",\"Sri Lanka\",\"Sri Lanka\",\"Swaziland\",\"Sweden\",\"Sweden\",\"Sweden\",\"Sweden\",\"Sweden\",\"Switzerland\",\"Switzerland\",\"Switzerland\",\"Switzerland\",\"Switzerland\",\"Switzerland\",\"Switzerland\",\"Switzerland\",\"Switzerland\",\"Switzerland\",\"Switzerland\",\"Taiwan\",\"Turkey\",\"Turkey\",\"Turkey\",\"Turkey\",\"Turkey\",\"Turkey\",\"Turkey\",\"UK\",\"UK\",\"UK\",\"UK\",\"UK\",\"UK\",\"UK\",\"UK\",\"UK\",\"UK\",\"UK\",\"UK\",\"UK\",\"UK\",\"UK\",\"UK\",\"UK\",\"UK\",\"UK\",\"UK\",\"UK\",\"UK\",\"UK\",\"UK\",\"UK\",\"UK\",\"UK\",\"UK\",\"UK\",\"UK\",\"UK\",\"UK\",\"UK\",\"UK\",\"UK\",\"UK\",\"UK\",\"UK\",\"UK\",\"UK\",\"UK\",\"UK\",\"UK\",\"UK\",\"UK\",\"UK\",\"UK\",\"UK\",\"UK\",\"UK\",\"UK\",\"UK\",\"UK\",\"UK\",\"UK\",\"UK\",\"UK\",\"UK\",\"UK\",\"UK\",\"UK\",\"UK\",\"UK\",\"UK\",\"UK\",\"UK\",\"UK\",\"UK\",\"UK\",\"UK\",\"UK\",\"UK\",\"UK\",\"UK\",\"UK\",\"UK\",\"UK\",\"UK\",\"UK\",\"UK\",\"UK\",\"UK\",\"UK\",\"UK\",\"UK\",\"UK\",\"UK\",\"UK\",\"UK\",\"UK\",\"UK\",\"UK\",\"UK\",\"UK\",\"UK\",\"UK\",\"UK\",\"UK\",\"UK\",\"UK\",\"UK\",\"UK\",\"UK\",\"UK\",\"UK\",\"UK\",\"UK\",\"UK\",\"UK\",\"UK\",\"UK\",\"UK\",\"UK\",\"UK\",\"UK\",\"UK\",\"UK\",\"USA\",\"USA\",\"USA\",\"USA\",\"USA\",\"USA\",\"USA\",\"USA\",\"USA\",\"USA\",\"USA\",\"USA\",\"USA\",\"USA\",\"USA\",\"USA\",\"USA\",\"USA\",\"USA\",\"USA\",\"USA\",\"USA\",\"USA\",\"USA\",\"USA\",\"USA\",\"USA\",\"USA\",\"USA\",\"USA\",\"USA\",\"USA\",\"USA\",\"USA\",\"USA\",\"USA\",\"USA\",\"USA\",\"USA\",\"USA\",\"USA\",\"USA\",\"USA\",\"USA\",\"USA\",\"USA\",\"USA\",\"USA\",\"USA\",\"USA\",\"USA\",\"USA\",\"USA\",\"USA\",\"USA\",\"USA\",\"USA\",\"USA\",\"USA\",\"USA\",\"USA\",\"USA\",\"USA\",\"USA\",\"USA\",\"USA\",\"USA\",\"USA\",\"USA\",\"USA\",\"USA\",\"USA\",\"USA\",\"USA\",\"USA\",\"USA\",\"USA\",\"USA\",\"USA\",\"USA\",\"USA\",\"USA\",\"USA\",\"USA\",\"USA\",\"USA\",\"USA\",\"USA\",\"USA\",\"USA\",\"USA\",\"USA\",\"USA\",\"USA\",\"USA\",\"USA\",\"USA\",\"USA\",\"USA\",\"USA\",\"USA\",\"USA\",\"USA\",\"USA\",\"USA\",\"USA\",\"USA\",\"USA\",\"USA\",\"USA\",\"USA\",\"USA\",\"USA\",\"USA\",\"USA\",\"USA\",\"USA\",\"USA\",\"USA\",\"USA\",\"USA\",\"USA\",\"USA\",\"USA\",\"USA\",\"USA\",\"USA\",\"USA\",\"USA\",\"USA\",\"USA\",\"USA\",\"USA\",\"USA\",\"USA\",\"USA\",\"USA\",\"USA\",\"USA\",\"USA\",\"USA\",\"USA\",\"USA\",\"USA\",\"USA\",\"USA\",\"USA\",\"USA\",\"USA\",\"USA\",\"USA\",\"USA\",\"USA\",\"USA\",\"USA\",\"USA\",\"USA\",\"USA\",\"USA\",\"USA\",\"USA\",\"USA\",\"USA\",\"USA\",\"USA\",\"USA\",\"USA\",\"USA\",\"USA\",\"USA\",\"USA\",\"USA\",\"USA\",\"USA\",\"USA\",\"USA\",\"USA\",\"USA\",\"USA\",\"USA\",\"USA\",\"USA\",\"USA\",\"USA\",\"USA\",\"USA\",\"USA\",\"USA\",\"USA\",\"USA\",\"USA\",\"USA\",\"USA\",\"USA\",\"USA\",\"USA\",\"USA\",\"USA\",\"USA\",\"USA\",\"USA\",\"USA\",\"USA\",\"USA\",\"USA\",\"USA\",\"USA\",\"USA\",\"USA\",\"USA\",\"USA\",\"USA\",\"USA\",\"USA\",\"USA\",\"USA\",\"USA\",\"USA\",\"USA\",\"USA\",\"USA\",\"USA\",\"USA\",\"USA\",\"USA\",\"USA\",\"USA\",\"USA\",\"USA\",\"USA\",\"USA\",\"USA\",\"USA\",\"USA\",\"USA\",\"USA\",\"USA\",\"USA\",\"USA\",\"USA\",\"USA\",\"USA\",\"USA\",\"USA\",\"USA\",\"USA\",\"USA\",\"USA\",\"USA\",\"USA\",\"USA\",\"USA\",\"USA\",\"USA\",\"USA\",\"USA\",\"USA\",\"USA\",\"USA\",\"USA\",\"USA\",\"USA\",\"USA\",\"USA\",\"USA\",\"USA\",\"USA\",\"USA\",\"USA\",\"USA\",\"USA\",\"USA\",\"USA\",\"USA\",\"USA\",\"USA\",\"USA\",\"USA\",\"USA\",\"USA\",\"USA\",\"USA\",\"USA\",\"USA\",\"USA\",\"USA\",\"USA\",\"USA\",\"USA\",\"USA\",\"USA\",\"USA\",\"USA\",\"USA\",\"USA\",\"USA\",\"USA\",\"USA\",\"USA\",\"USA\",\"USA\",\"USA\",\"USA\",\"USA\",\"USA\",\"USA\",\"USA\",\"USA\",\"USA\",\"USA\",\"USA\",\"USA\",\"USA\",\"USA\",\"USA\",\"USA\",\"USA\",\"USA\",\"USA\",\"USA\",\"USA\",\"USA\",\"USA\",\"USA\",\"USA\",\"USA\",\"USA\",\"USA\",\"USA\",\"USA\",\"USA\",\"USA\",\"USA\",\"USA\",\"USA\",\"USA\",\"USA\",\"USA\",\"USA\",\"USA\",\"USA\",\"USA\",\"USA\",\"USA\",\"USA\",\"USA\",\"USA\",\"USA\",\"USA\",\"USA\",\"USA\",\"USA\",\"USA\",\"USA\",\"USA\",\"USA\",\"USA\",\"USA\",\"USA\",\"USA\",\"USA\",\"USA\",\"USA\",\"USA\",\"USA\",\"USA\",\"USA\",\"USA\",\"USA\",\"USA\",\"USA\",\"USA\",\"USA\",\"USA\",\"USA\",\"USA\",\"USA\",\"USA\",\"USA\",\"USA\",\"USA\",\"USA\",\"USA\",\"USA\",\"USA\",\"USA\",\"USA\",\"USA\",\"USA\",\"USA\",\"USA\",\"USA\",\"USA\",\"USA\",\"USA\",\"USA\",\"USA\",\"USA\",\"USA\",\"USA\",\"USA\",\"USA\",\"USA\",\"USA\",\"USA\",\"USA\",\"USA\",\"USA\",\"USA\",\"USA\",\"USA\",\"USA\",\"USA\",\"USA\",\"USA\",\"USA\",\"USA\",\"USA\",\"USA\",\"USA\",\"USA\",\"USA\",\"USA\",\"USA\",\"USA\",\"USA\",\"USA\",\"USA\",\"USA\",\"USA\",\"USA\",\"USA\",\"USA\",\"USA\",\"USA\",\"USA\",\"USA\",\"USA\",\"USA\",\"USA\",\"USA\",\"USA\",\"USA\",\"USA\",\"USA\",\"USA\",\"USA\",\"USA\",\"USA\",\"USA\",\"USA\",\"USA\",\"USA\",\"USA\",\"USA\",\"USA\",\"USA\",\"USA\",\"USA\",\"USA\",\"USA\",\"USA\",\"USA\",\"USA\",\"USA\",\"USA\",\"USA\",\"USA\",\"USA\",\"USA\",\"USA\",\"USA\",\"USA\",\"USA\",\"USA\",\"USA\",\"USA\",\"USA\",\"USA\",\"USA\",\"USA\",\"USA\",\"USA\",\"USA\",\"USA\",\"USA\",\"USA\",\"USA\",\"USA\",\"USA\",\"USA\",\"USA\",\"USA\",\"USA\",\"USA\",\"USA\",\"USA\",\"USA\",\"USA\",\"USA\",\"USA\",\"USA\",\"USA\",\"USA\",\"USA\",\"USA\",\"USA\",\"USA\",\"USA\",\"USA\",\"USA\",\"USA\",\"USA\",\"USA\",\"USA\",\"USA\",\"USA\",\"USA\",\"USA\",\"USA\",\"USA\",\"USA\",\"USA\",\"USA\",\"USA\",\"USA\",\"USA\",\"USA\",\"USA\",\"USA\",\"USA\",\"USA\",\"USA\",\"USA\",\"USA\",\"USA\",\"USA\",\"USA\",\"USA\",\"USA\",\"USA\",\"USA\",\"USA\",\"USA\",\"USA\",\"USA\",\"USA\",\"USA\",\"USA\",\"USA\",\"USA\",\"USA\",\"USA\",\"USA\",\"USA\",\"USA\",\"USA\",\"USA\",\"USA\",\"USA\",\"USA\",\"USA\",\"USA\",\"USA\",\"USA\",\"USA\",\"USA\",\"USA\",\"USA\",\"USA\",\"USA\",\"USA\",\"USA\",\"USA\",\"USA\",\"USA\",\"USA\",\"USA\",\"USA\",\"USA\",\"USA\",\"USA\",\"USA\",\"USA\",\"USA\",\"USA\",\"USA\",\"USA\",\"USA\",\"USA\",\"USA\",\"USA\",\"USA\",\"USA\",\"USA\",\"USA\",\"USA\",\"USA\",\"USA\",\"USA\",\"USA\",\"USA\",\"USA\",\"USA\",\"USA\",\"USA\",\"USA\",\"USA\",\"USA\",\"USA\",\"USA\",\"USA\",\"USA\",\"USA\",\"USA\",\"USA\",\"USA\",\"USA\",\"USA\",\"USA\",\"USA\",\"USA\",\"USA\",\"USA\",\"USA\",\"USA\",\"USA\",\"USA\",\"USA\",\"USA\",\"USA\",\"USA\",\"USA\",\"USA\",\"USA\",\"USA\",\"USA\",\"USA\",\"USA\",\"USA\",\"USA\",\"USA\",\"USA\",\"USA\",\"USA\",\"USA\",\"USA\",\"USA\",\"USA\",\"USA\",\"USA\",\"USA\",\"USA\",\"USA\",\"USA\",\"USA\",\"USA\",\"USA\",\"USA\",\"USA\",\"USA\",\"USA\",\"USA\",\"USA\",\"USA\",\"USA\",\"USA\",\"USA\",\"USA\",\"USA\",\"USA\",\"USA\",\"USA\",\"USA\",\"USA\",\"USA\",\"USA\",\"USA\",\"USA\",\"USA\",\"USA\",\"USA\",\"USA\",\"USA\",\"USA\",\"USA\",\"USA\",\"USA\",\"USA\",\"USA\",\"USA\",\"USA\",\"USA\",\"USA\",\"USA\",\"USA\",\"USA\",\"USA\",\"USA\",\"USA\",\"USA\",\"USA\",\"USA\",\"USA\",\"USA\",\"USA\",\"USA\",\"USA\",\"USA\",\"USA\",\"USA\",\"USA\",\"USA\",\"USA\",\"USA\",\"USA\",\"USA\",\"USA\",\"USA\",\"USA\",\"USA\",\"USA\",\"USA\",\"USA\",\"USA\",\"USA\",\"USA\",\"USA\",\"USA\",\"USA\",\"USA\",\"USA\",\"USA\",\"USA\",\"USA\",\"USA\",\"USA\",\"USA\",\"USA\",\"USA\",\"USA\",\"USA\",\"USA\",\"USA\",\"USA\",\"USA\",\"USA\",\"USA\",\"USA\",\"USA\",\"USA\",\"USA\",\"USA\",\"USA\",\"USA\",\"USA\",\"USA\",\"USA\",\"USA\",\"USA\",\"USA\",\"USA\",\"USA\",\"USA\",\"USA\",\"USA\",\"USA\",\"USA\",\"USA\",\"USA\",\"USA\",\"USA\",\"USA\",\"USA\",\"USA\",\"USA\",\"USA\",\"USA\",\"USA\",\"USA\",\"USA\",\"USA\",\"USA\",\"USA\",\"USA\",\"USA\",\"USA\",\"USA\",\"USA\",\"USA\",\"USA\",\"USA\",\"USA\",\"USA\",\"USA\",\"USA\",\"USA\",\"USA\",\"USA\",\"USA\",\"USA\",\"USA\",\"USA\",\"USA\",\"USA\",\"USA\",\"USA\",\"USA\",\"USA\",\"USA\",\"USA\",\"USA\",\"USA\",\"USA\",\"USA\",\"USA\",\"USA\",\"USA\",\"USA\",\"USA\",\"USA\",\"USA\",\"USA\",\"USA\",\"USA\",\"USA\",\"USA\",\"USA\",\"USA\",\"USA\",\"USA\",\"USA\",\"USA\",\"USA\",\"USA\",\"USA\",\"USA\",\"USA\",\"USA\",\"USA\",\"USA\",\"USA\",\"USA\",\"USA\",\"USA\",\"USA\",\"USA\",\"USA\",\"USA\",\"USA\",\"USA\",\"USA\",\"USA\",\"USA\",\"USA\",\"USA\",\"USA\",\"USA\",\"USA\",\"USA\",\"USA\",\"USA\",\"USA\",\"USA\",\"USA\",\"USA\",\"USA\",\"USA\",\"USA\",\"USA\",\"USA\",\"USA\",\"USA\",\"USA\",\"USA\",\"USA\",\"USA\",\"USA\",\"USA\",\"USA\",\"USA\",\"USA\",\"USA\",\"USA\",\"USA\",\"USA\",\"USA\",\"USA\",\"USA\",\"USA\",\"USA\",\"USA\",\"USA\",\"USA\",\"USA\",\"USA\",\"USA\",\"USA\",\"USA\",\"USA\",\"USA\",\"USA\",\"USA\",\"USA\",\"USA\",\"USA\",\"USA\",\"USA\",\"USA\",\"USA\",\"USA\",\"USA\",\"USA\",\"USA\",\"USA\",\"USA\",\"USA\",\"USA\",\"USA\",\"USA\",\"USA\",\"USA\",\"USA\",\"USA\",\"USA\",\"USA\",\"USA\",\"USA\",\"USA\",\"USA\",\"USA\",\"USA\",\"USA\",\"USA\",\"USA\",\"USA\",\"USA\",\"USA\",\"USA\",\"USA\",\"USA\",\"USA\",\"USA\",\"USA\",\"USA\",\"USA\",\"USA\",\"USA\",\"USA\",\"USA\",\"USA\",\"USA\",\"USA\",\"USA\",\"USA\",\"USA\",\"USA\",\"USA\",\"USA\",\"USA\",\"USA\",\"USA\",\"USA\",\"USA\",\"USA\",\"USA\",\"USA\",\"USA\",\"USA\",\"USA\",\"USA\",\"USA\",\"USA\",\"USA\",\"USA\",\"USA\",\"USA\",\"USA\",\"USA\",\"USA\",\"USA\",\"USA\",\"USA\",\"USA\",\"USA\",\"USA\",\"USA\",\"USA\",\"USA\",\"USA\",\"USA\",\"USA\",\"USA\",\"USA\",\"USA\",\"USA\",\"USA\",\"USA\",\"USA\",\"USA\",\"USA\",\"USA\",\"USA\",\"USA\",\"USA\",\"USA\",\"USA\",\"USA\",\"USA\",\"USA\",\"USA\",\"USA\",\"USA\",\"USA\",\"USA\",\"USA\",\"USA\",\"USA\",\"USA\",\"USA\",\"USA\",\"USA\",\"USA\",\"USA\",\"USA\",\"USA\",\"USA\",\"USA\",\"USA\",\"USA\",\"USA\",\"USA\",\"USA\",\"USA\",\"USA\",\"USA\",\"USA\",\"USA\",\"USA\",\"USA\",\"USA\",\"USA\",\"USA\",\"USA\",\"USA\",\"USA\",\"USA\",\"USA\",\"USA\",\"USA\",\"USA\",\"USA\",\"USA\",\"USA\",\"USA\",\"USA\",\"USA\",\"USA\",\"USA\",\"USA\",\"USA\",\"USA\",\"USA\",\"USA\",\"USA\",\"USA\",\"USA\",\"USA\",\"USA\",\"USA\",\"USA\",\"USA\",\"USA\",\"Ukraine\",\"Ukraine\",\"Ukraine\",\"Uruguay\"],\"locationmode\":\"country names\",\"locations\":[\"Afghanistan\",\"Algeria\",\"Argentina\",\"Argentina\",\"Australia\",\"Australia\",\"Australia\",\"Australia\",\"Australia\",\"Australia\",\"Australia\",\"Australia\",\"Australia\",\"Australia\",\"Australia\",\"Australia\",\"Australia\",\"Australia\",\"Australia\",\"Australia\",\"Australia\",\"Australia\",\"Australia\",\"Australia\",\"Australia\",\"Austria\",\"Hungary\",\"Austria\",\"Austria\",\"Bangladesh\",\"Bangladesh\",\"Bangladesh\",\"Belgium\",\"Belgium\",\"Belgium\",\"Belgium\",\"USA\",\"Brazil\",\"Brazil\",\"Brazil\",\"Brazil\",\"Brazil\",\"Brazil\",\"Brazil\",\"Brazil\",\"Brazil\",\"Brazil\",\"Brazil\",\"Brazil\",\"Brazil\",\"Brazil\",\"Brazil\",\"Brazil\",\"Brazil\",\"Brazil\",\"Brazil\",\"Brazil\",\"Brazil\",\"Brazil\",\"Brazil\",\"Brazil\",\"Brazil\",\"Brazil\",\"Brazil\",\"Bulgaria\",\"Bulgaria\",\"Cameroon\",\"Canada\",\"Canada\",\"Canada\",\"Canada\",\"Canada\",\"Canada\",\"Canada\",\"Canada\",\"Canada\",\"Canada\",\"Canada\",\"Canada\",\"Canada\",\"Canada\",\"Canada\",\"Canada\",\"Canada\",\"Canada\",\"Canada\",\"Canada\",\"Canada\",\"Canada\",\"Canada\",\"Canada\",\"Canada\",\"Canada\",\"Canada\",\"Canada\",\"Canada\",\"Canada\",\"Canada\",\"Canada\",\"Canada\",\"Canada\",\"Canada\",\"Canada\",\"Canada\",\"Canada\",\"Canada\",\"Canada\",\"Canada\",\"Canada\",\"Canada\",\"Canada\",\"Canada\",\"Canada\",\"Canada\",\"Canada\",\"Canada\",\"Canada\",\"Canada\",\"Canada\",\"Canada\",\"Colombia\",\"Colombia\",\"Colombia\",\"Croatia\",\"Croatia\",\"Czech Republic\",\"Egypt\",\"Germany\",\"Estonia\",\"Estonia\",\"Estonia\",\"Ethiopia\",\"Finland\",\"Finland\",\"Ukraine\",\"Finland\",\"France\",\"France\",\"France\",\"France\",\"France\",\"France\",\"France\",\"France\",\"France\",\"France\",\"France\",\"France\",\"France\",\"France\",\"France\",\"France\",\"France\",\"France\",\"France\",\"France\",\"France\",\"Georgia\",\"Germany\",\"Germany\",\"Germany\",\"Germany\",\"Czech Republic\",\"Germany\",\"Germany\",\"Germany\",\"Germany\",\"Germany\",\"Germany\",\"Germany\",\"Germany\",\"Germany\",\"Germany\",\"Germany\",\"Germany\",\"Germany\",\"Germany\",\"Germany\",\"Germany\",\"Germany\",\"Germany\",\"Germany\",\"Germany\",\"Germany\",\"Germany\",\"Germany\",\"Germany\",\"Germany\",\"Germany\",\"Germany\",\"Germany\",\"Germany\",\"Germany\",\"Germany\",\"Germany\",\"Ghana\",\"Greece\",\"Greece\",\"Greece\",\"Hong Kong\",\"Hong Kong\",\"Hungary\",\"Iceland\",\"Iceland\",\"Iceland\",\"India\",\"India\",\"India\",\"India\",\"India\",\"India\",\"India\",\"India\",\"India\",\"India\",\"India\",\"India\",\"India\",\"India\",\"India\",\"India\",\"India\",\"India\",\"India\",\"India\",\"India\",\"India\",\"India\",\"India\",\"India\",\"India\",\"India\",\"India\",\"India\",\"India\",\"India\",\"India\",\"India\",\"India\",\"India\",\"India\",\"India\",\"India\",\"India\",\"India\",\"India\",\"India\",\"India\",\"India\",\"India\",\"India\",\"India\",\"India\",\"India\",\"India\",\"India\",\"India\",\"India\",\"India\",\"India\",\"India\",\"India\",\"India\",\"Indonesia\",\"Indonesia\",\"Indonesia\",\"Ireland\",\"Ireland\",\"Ireland\",\"Ireland\",\"Ireland\",\"Ireland\",\"Ireland\",\"Ireland\",\"Ireland\",\"Ireland\",\"Israel\",\"Israel\",\"Italy\",\"Italy\",\"Italy\",\"Italy\",\"Italy\",\"Italy\",\"Italy\",\"Japan\",\"Japan\",\"Japan\",\"Japan\",\"Japan\",\"Jordan\",\"Kenya\",\"France\",\"Macedonia\",\"Malaysia\",\"Mauritius\",\"Mexico\",\"Mexico\",\"Mexico\",\"Mexico\",\"Mexico\",\"Mexico\",\"Mexico\",\"USA\",\"Mongolia\",\"Mongolia\",\"Netherlands\",\"Netherlands\",\"Netherlands\",\"Netherlands\",\"Netherlands\",\"Netherlands\",\"Netherlands\",\"Netherlands\",\"Netherlands\",\"Netherlands\",\"Netherlands\",\"Netherlands\",\"Netherlands\",\"Netherlands\",\"Netherlands\",\"Netherlands\",\"Netherlands\",\"Greece\",\"Netherlands\",\"Netherlands\",\"Netherlands\",\"Netherlands\",\"Netherlands\",\"Netherlands\",\"Netherlands\",\"Netherlands\",\"Netherlands\",\"New Zealand\",\"New Zealand\",\"New Zealand\",\"New Zealand\",\"New Zealand\",\"New Zealand\",\"Belgium\",\"Nigeria\",\"Norway\",\"Norway\",\"Norway\",\"Norway\",\"Norway\",\"Norway\",\"Norway\",\"Norway\",\"UK\",\"Pakistan\",\"Pakistan\",\"Pakistan\",\"Pakistan\",\"Philippines\",\"Philippines\",\"Philippines\",\"Poland\",\"Poland\",\"Poland\",\"Poland\",\"Poland\",\"Poland\",\"Poland\",\"Poland\",\"Poland\",\"Poland\",\"Poland\",\"Portugal\",\"Portugal\",\"Portugal\",\"Portugal\",\"Portugal\",\"Portugal\",\"Portugal\",\"Portugal\",\"Portugal\",\"Portugal\",\"Portugal\",\"Portugal\",\"Portugal\",\"Portugal\",\"Portugal\",\"Portugal\",\"Portugal\",\"Portugal\",\"Portugal\",\"Portugal\",\"Belgium\",\"Portugal\",\"Portugal\",\"Romania\",\"Romania\",\"Romania\",\"Romania\",\"Russia\",\"Russia\",\"Russia\",\"Russia\",\"Russia\",\"Russia\",\"Saudi Arabia\",\"Serbia\",\"Serbia\",\"Serbia\",\"Serbia\",\"Singapore\",\"Slovakia\",\"South Africa\",\"South Africa\",\"South Africa\",\"South Africa\",\"South Africa\",\"South Africa\",\"South Africa\",\"South Africa\",\"Spain\",\"Spain\",\"Spain\",\"Spain\",\"Spain\",\"Spain\",\"Spain\",\"Spain\",\"Spain\",\"Spain\",\"Spain\",\"Spain\",\"Spain\",\"Spain\",\"Spain\",\"Spain\",\"Spain\",\"Spain\",\"Spain\",\"Spain\",\"Spain\",\"Spain\",\"Spain\",\"Spain\",\"Spain\",\"Spain\",\"Spain\",\"Sri Lanka\",\"Sri Lanka\",\"Switzerland\",\"Sweden\",\"Sweden\",\"Sweden\",\"Sweden\",\"Sweden\",\"Switzerland\",\"Switzerland\",\"Switzerland\",\"Switzerland\",\"Switzerland\",\"France\",\"Switzerland\",\"Switzerland\",\"Switzerland\",\"Switzerland\",\"Switzerland\",\"Taiwan\",\"Turkey\",\"Turkey\",\"Turkey\",\"Turkey\",\"Turkey\",\"Turkey\",\"Turkey\",\"UK\",\"UK\",\"UK\",\"UK\",\"UK\",\"UK\",\"UK\",\"UK\",\"UK\",\"UK\",\"UK\",\"UK\",\"UK\",\"UK\",\"UK\",\"UK\",\"UK\",\"UK\",\"UK\",\"UK\",\"UK\",\"UK\",\"UK\",\"UK\",\"UK\",\"UK\",\"UK\",\"UK\",\"UK\",\"UK\",\"UK\",\"UK\",\"UK\",\"UK\",\"UK\",\"UK\",\"UK\",\"UK\",\"UK\",\"UK\",\"UK\",\"UK\",\"UK\",\"UK\",\"UK\",\"UK\",\"UK\",\"Germany\",\"UK\",\"UK\",\"UK\",\"UK\",\"UK\",\"UK\",\"UK\",\"UK\",\"UK\",\"UK\",\"UK\",\"UK\",\"UK\",\"UK\",\"UK\",\"UK\",\"UK\",\"UK\",\"UK\",\"UK\",\"UK\",\"UK\",\"UK\",\"UK\",\"UK\",\"UK\",\"UK\",\"UK\",\"UK\",\"UK\",\"UK\",\"UK\",\"UK\",\"UK\",\"UK\",\"UK\",\"UK\",\"UK\",\"UK\",\"UK\",\"UK\",\"UK\",\"UK\",\"UK\",\"UK\",\"UK\",\"UK\",\"UK\",\"UK\",\"UK\",\"UK\",\"UK\",\"UK\",\"UK\",\"UK\",\"UK\",\"UK\",\"UK\",\"UK\",\"UK\",\"UK\",\"UK\",\"UK\",\"UK\",\"UK\",\"UK\",\"UK\",\"UK\",\"UK\",\"USA\",\"USA\",\"USA\",\"USA\",\"USA\",\"USA\",\"USA\",\"USA\",\"USA\",\"USA\",\"USA\",\"USA\",\"USA\",\"USA\",\"USA\",\"USA\",\"USA\",\"USA\",\"USA\",\"USA\",\"USA\",\"USA\",\"USA\",\"USA\",\"USA\",\"USA\",\"USA\",\"USA\",\"USA\",\"USA\",\"USA\",\"USA\",\"USA\",\"USA\",\"USA\",\"USA\",\"USA\",\"USA\",\"USA\",\"USA\",\"USA\",\"USA\",\"USA\",\"USA\",\"USA\",\"USA\",\"USA\",\"USA\",\"USA\",\"USA\",\"USA\",\"USA\",\"USA\",\"USA\",\"USA\",\"USA\",\"USA\",\"USA\",\"USA\",\"USA\",\"USA\",\"USA\",\"USA\",\"USA\",\"USA\",\"USA\",\"USA\",\"USA\",\"USA\",\"USA\",\"USA\",\"USA\",\"USA\",\"USA\",\"USA\",\"USA\",\"USA\",\"USA\",\"USA\",\"USA\",\"USA\",\"USA\",\"USA\",\"USA\",\"USA\",\"USA\",\"USA\",\"USA\",\"USA\",\"USA\",\"USA\",\"USA\",\"USA\",\"USA\",\"USA\",\"USA\",\"USA\",\"USA\",\"USA\",\"USA\",\"USA\",\"USA\",\"USA\",\"USA\",\"USA\",\"USA\",\"USA\",\"USA\",\"USA\",\"USA\",\"USA\",\"USA\",\"USA\",\"USA\",\"USA\",\"USA\",\"USA\",\"USA\",\"USA\",\"USA\",\"USA\",\"USA\",\"USA\",\"USA\",\"USA\",\"USA\",\"USA\",\"USA\",\"USA\",\"USA\",\"USA\",\"USA\",\"USA\",\"USA\",\"USA\",\"USA\",\"USA\",\"USA\",\"USA\",\"USA\",\"USA\",\"USA\",\"USA\",\"USA\",\"USA\",\"USA\",\"USA\",\"USA\",\"USA\",\"USA\",\"USA\",\"USA\",\"USA\",\"USA\",\"USA\",\"USA\",\"USA\",\"USA\",\"USA\",\"USA\",\"USA\",\"USA\",\"USA\",\"USA\",\"USA\",\"USA\",\"USA\",\"USA\",\"USA\",\"USA\",\"USA\",\"USA\",\"USA\",\"USA\",\"USA\",\"USA\",\"USA\",\"USA\",\"USA\",\"USA\",\"USA\",\"USA\",\"USA\",\"USA\",\"USA\",\"USA\",\"USA\",\"USA\",\"USA\",\"USA\",\"USA\",\"USA\",\"USA\",\"USA\",\"USA\",\"USA\",\"USA\",\"USA\",\"USA\",\"USA\",\"USA\",\"USA\",\"USA\",\"USA\",\"USA\",\"USA\",\"USA\",\"USA\",\"USA\",\"USA\",\"USA\",\"USA\",\"USA\",\"USA\",\"USA\",\"USA\",\"USA\",\"USA\",\"USA\",\"USA\",\"USA\",\"USA\",\"USA\",\"USA\",\"USA\",\"USA\",\"USA\",\"USA\",\"USA\",\"USA\",\"USA\",\"USA\",\"USA\",\"USA\",\"USA\",\"USA\",\"USA\",\"USA\",\"Canada\",\"USA\",\"USA\",\"USA\",\"USA\",\"USA\",\"USA\",\"USA\",\"USA\",\"USA\",\"USA\",\"USA\",\"USA\",\"USA\",\"USA\",\"USA\",\"USA\",\"USA\",\"USA\",\"USA\",\"USA\",\"USA\",\"USA\",\"USA\",\"USA\",\"USA\",\"USA\",\"USA\",\"USA\",\"USA\",\"USA\",\"USA\",\"USA\",\"USA\",\"USA\",\"USA\",\"USA\",\"USA\",\"USA\",\"USA\",\"USA\",\"USA\",\"USA\",\"USA\",\"USA\",\"USA\",\"USA\",\"USA\",\"USA\",\"USA\",\"USA\",\"USA\",\"USA\",\"USA\",\"USA\",\"USA\",\"USA\",\"USA\",\"USA\",\"USA\",\"USA\",\"USA\",\"USA\",\"USA\",\"USA\",\"USA\",\"USA\",\"USA\",\"USA\",\"USA\",\"USA\",\"USA\",\"USA\",\"USA\",\"USA\",\"USA\",\"USA\",\"USA\",\"USA\",\"USA\",\"USA\",\"USA\",\"USA\",\"USA\",\"USA\",\"USA\",\"USA\",\"USA\",\"USA\",\"USA\",\"USA\",\"USA\",\"USA\",\"USA\",\"USA\",\"USA\",\"USA\",\"USA\",\"USA\",\"USA\",\"USA\",\"USA\",\"USA\",\"USA\",\"USA\",\"USA\",\"USA\",\"USA\",\"USA\",\"USA\",\"USA\",\"USA\",\"USA\",\"USA\",\"USA\",\"USA\",\"USA\",\"USA\",\"USA\",\"USA\",\"USA\",\"USA\",\"USA\",\"USA\",\"USA\",\"USA\",\"Netherlands\",\"USA\",\"USA\",\"USA\",\"USA\",\"USA\",\"USA\",\"USA\",\"USA\",\"USA\",\"USA\",\"USA\",\"USA\",\"USA\",\"USA\",\"USA\",\"USA\",\"USA\",\"USA\",\"USA\",\"USA\",\"USA\",\"USA\",\"USA\",\"USA\",\"USA\",\"USA\",\"USA\",\"USA\",\"USA\",\"USA\",\"USA\",\"USA\",\"USA\",\"USA\",\"USA\",\"USA\",\"USA\",\"USA\",\"USA\",\"USA\",\"USA\",\"USA\",\"USA\",\"USA\",\"USA\",\"USA\",\"USA\",\"USA\",\"USA\",\"USA\",\"USA\",\"USA\",\"USA\",\"USA\",\"USA\",\"USA\",\"USA\",\"USA\",\"USA\",\"USA\",\"USA\",\"USA\",\"USA\",\"USA\",\"USA\",\"USA\",\"USA\",\"USA\",\"USA\",\"USA\",\"USA\",\"USA\",\"USA\",\"USA\",\"USA\",\"USA\",\"USA\",\"USA\",\"USA\",\"USA\",\"USA\",\"USA\",\"USA\",\"USA\",\"USA\",\"USA\",\"USA\",\"USA\",\"USA\",\"USA\",\"USA\",\"USA\",\"USA\",\"USA\",\"USA\",\"USA\",\"USA\",\"USA\",\"USA\",\"USA\",\"USA\",\"USA\",\"USA\",\"USA\",\"USA\",\"USA\",\"USA\",\"USA\",\"USA\",\"USA\",\"USA\",\"USA\",\"USA\",\"USA\",\"USA\",\"USA\",\"USA\",\"USA\",\"USA\",\"USA\",\"USA\",\"USA\",\"USA\",\"USA\",\"USA\",\"USA\",\"New Zealand\",\"USA\",\"USA\",\"USA\",\"USA\",\"USA\",\"USA\",\"USA\",\"USA\",\"USA\",\"USA\",\"USA\",\"USA\",\"USA\",\"USA\",\"USA\",\"USA\",\"USA\",\"USA\",\"USA\",\"USA\",\"USA\",\"USA\",\"USA\",\"USA\",\"USA\",\"USA\",\"USA\",\"USA\",\"USA\",\"USA\",\"USA\",\"USA\",\"USA\",\"USA\",\"USA\",\"USA\",\"USA\",\"USA\",\"USA\",\"USA\",\"USA\",\"USA\",\"USA\",\"USA\",\"USA\",\"USA\",\"USA\",\"USA\",\"USA\",\"USA\",\"USA\",\"USA\",\"USA\",\"USA\",\"USA\",\"USA\",\"USA\",\"USA\",\"USA\",\"USA\",\"USA\",\"USA\",\"USA\",\"USA\",\"USA\",\"USA\",\"USA\",\"USA\",\"USA\",\"USA\",\"USA\",\"USA\",\"USA\",\"USA\",\"USA\",\"USA\",\"USA\",\"USA\",\"USA\",\"USA\",\"USA\",\"USA\",\"USA\",\"USA\",\"USA\",\"USA\",\"USA\",\"USA\",\"USA\",\"USA\",\"USA\",\"USA\",\"USA\",\"USA\",\"USA\",\"USA\",\"USA\",\"USA\",\"USA\",\"USA\",\"USA\",\"USA\",\"USA\",\"USA\",\"USA\",\"USA\",\"USA\",\"USA\",\"USA\",\"USA\",\"USA\",\"USA\",\"USA\",\"USA\",\"USA\",\"USA\",\"USA\",\"USA\",\"Chile\",\"USA\",\"USA\",\"USA\",\"USA\",\"USA\",\"USA\",\"USA\",\"USA\",\"USA\",\"USA\",\"USA\",\"USA\",\"USA\",\"USA\",\"USA\",\"USA\",\"USA\",\"USA\",\"USA\",\"USA\",\"USA\",\"USA\",\"USA\",\"USA\",\"USA\",\"USA\",\"USA\",\"USA\",\"USA\",\"USA\",\"USA\",\"USA\",\"USA\",\"USA\",\"USA\",\"USA\",\"USA\",\"USA\",\"USA\",\"USA\",\"USA\",\"USA\",\"USA\",\"USA\",\"USA\",\"USA\",\"USA\",\"USA\",\"Ireland\",\"USA\",\"USA\",\"USA\",\"USA\",\"USA\",\"USA\",\"USA\",\"USA\",\"USA\",\"USA\",\"USA\",\"USA\",\"USA\",\"USA\",\"USA\",\"USA\",\"USA\",\"USA\",\"USA\",\"USA\",\"USA\",\"USA\",\"USA\",\"USA\",\"USA\",\"USA\",\"USA\",\"USA\",\"USA\",\"USA\",\"USA\",\"USA\",\"USA\",\"USA\",\"USA\",\"USA\",\"USA\",\"USA\",\"USA\",\"USA\",\"USA\",\"USA\",\"USA\",\"USA\",\"USA\",\"USA\",\"USA\",\"USA\",\"USA\",\"USA\",\"USA\",\"USA\",\"USA\",\"USA\",\"USA\",\"USA\",\"USA\",\"USA\",\"USA\",\"USA\",\"USA\",\"USA\",\"USA\",\"USA\",\"USA\",\"USA\",\"USA\",\"USA\",\"USA\",\"USA\",\"USA\",\"USA\",\"USA\",\"USA\",\"USA\",\"USA\",\"USA\",\"USA\",\"USA\",\"USA\",\"USA\",\"USA\",\"USA\",\"USA\",\"USA\",\"USA\",\"USA\",\"USA\",\"USA\",\"USA\",\"USA\",\"USA\",\"USA\",\"USA\",\"USA\",\"USA\",\"USA\",\"USA\",\"USA\",\"USA\",\"USA\",\"USA\",\"USA\",\"USA\",\"USA\",\"USA\",\"USA\",\"USA\",\"USA\",\"USA\",\"USA\",\"USA\",\"USA\",\"USA\",\"USA\",\"USA\",\"USA\",\"USA\",\"USA\",\"USA\",\"USA\",\"USA\",\"USA\",\"USA\",\"USA\",\"USA\",\"USA\",\"USA\",\"USA\",\"USA\",\"USA\",\"USA\",\"USA\",\"USA\",\"USA\",\"USA\",\"USA\",\"USA\",\"USA\",\"USA\",\"USA\",\"USA\",\"USA\",\"USA\",\"USA\",\"USA\",\"USA\",\"USA\",\"USA\",\"USA\",\"USA\",\"USA\",\"USA\",\"USA\",\"USA\",\"USA\",\"USA\",\"USA\",\"USA\",\"USA\",\"USA\",\"USA\",\"USA\",\"USA\",\"USA\",\"USA\",\"USA\",\"USA\",\"USA\",\"USA\",\"USA\",\"USA\",\"USA\",\"USA\",\"USA\",\"USA\",\"USA\",\"USA\",\"USA\",\"USA\",\"USA\",\"USA\",\"USA\",\"USA\",\"USA\",\"USA\",\"USA\",\"USA\",\"USA\",\"USA\",\"USA\",\"USA\",\"USA\",\"USA\",\"USA\",\"USA\",\"USA\",\"USA\",\"USA\",\"USA\",\"USA\",\"USA\",\"USA\",\"USA\",\"USA\",\"USA\",\"USA\",\"USA\",\"USA\",\"USA\",\"USA\",\"USA\",\"USA\",\"USA\",\"USA\",\"USA\",\"USA\",\"USA\",\"USA\",\"USA\",\"USA\",\"USA\",\"USA\",\"USA\",\"USA\",\"USA\",\"USA\",\"USA\",\"USA\",\"USA\",\"USA\",\"USA\",\"USA\",\"USA\",\"USA\",\"USA\",\"USA\",\"USA\",\"USA\",\"USA\",\"USA\",\"USA\",\"USA\",\"USA\",\"USA\",\"USA\",\"USA\",\"USA\",\"USA\",\"USA\",\"USA\",\"USA\",\"USA\",\"USA\",\"USA\",\"USA\",\"USA\",\"USA\",\"USA\",\"USA\",\"USA\",\"USA\",\"USA\",\"USA\",\"USA\",\"USA\",\"USA\",\"USA\",\"USA\",\"USA\",\"USA\",\"USA\",\"USA\",\"USA\",\"USA\",\"USA\",\"USA\",\"USA\",\"USA\",\"USA\",\"USA\",\"USA\",\"USA\",\"USA\",\"USA\",\"USA\",\"USA\",\"USA\",\"USA\",\"USA\",\"USA\",\"USA\",\"USA\",\"USA\",\"USA\",\"USA\",\"USA\",\"USA\",\"USA\",\"USA\",\"USA\",\"India\",\"USA\",\"USA\",\"USA\",\"USA\",\"USA\",\"USA\",\"USA\",\"USA\",\"USA\",\"USA\",\"USA\",\"USA\",\"USA\",\"USA\",\"USA\",\"USA\",\"USA\",\"USA\",\"USA\",\"USA\",\"USA\",\"Brazil\",\"USA\",\"USA\",\"USA\",\"USA\",\"USA\",\"USA\",\"USA\",\"India\",\"USA\",\"Argentina\",\"Belarus\",\"USA\",\"USA\",\"USA\",\"USA\",\"USA\",\"USA\",\"USA\",\"USA\",\"USA\",\"USA\",\"USA\",\"USA\",\"USA\",\"USA\",\"USA\",\"USA\",\"USA\",\"USA\",\"USA\",\"USA\",\"USA\",\"USA\",\"USA\",\"USA\",\"USA\",\"USA\",\"USA\",\"Poland\",\"USA\",\"USA\",\"USA\",\"USA\",\"USA\",\"USA\",\"USA\",\"USA\",\"USA\",\"USA\",\"USA\",\"USA\",\"USA\",\"USA\",\"USA\",\"USA\",\"USA\",\"USA\",\"Japan\",\"USA\",\"USA\",\"USA\",\"USA\",\"USA\",\"USA\",\"USA\",\"USA\",\"USA\",\"USA\",\"USA\",\"USA\",\"USA\",\"USA\",\"USA\",\"USA\",\"USA\",\"USA\",\"USA\",\"USA\",\"USA\",\"USA\",\"USA\",\"USA\",\"USA\",\"USA\",\"USA\",\"USA\",\"USA\",\"USA\",\"USA\",\"Ukraine\",\"Ukraine\",\"Ukraine\",\"Uruguay\"],\"name\":\"\",\"z\":[3.0,5.0,3.0,2.0,1.0,3.0,3.0,3.0,2.0,4.0,4.0,4.0,1.0,2.0,3.0,2.0,3.0,3.0,3.0,1.0,3.0,2.0,3.0,5.0,2.0,2.0,2.0,2.0,4.0,5.0,1.0,3.0,2.0,1.0,3.0,1.0,3.0,4.0,3.0,2.0,2.0,1.0,4.0,1.0,1.0,2.0,3.0,1.0,2.0,4.0,2.0,2.0,2.0,2.0,2.0,2.0,2.0,2.0,3.0,4.0,4.0,2.0,2.0,3.0,3.0,1.0,2.0,4.0,2.0,3.0,3.0,3.0,3.0,2.0,4.0,2.0,1.0,2.0,2.0,1.0,2.0,2.0,2.0,2.0,1.0,3.0,2.0,1.0,3.0,3.0,2.0,4.0,3.0,3.0,2.0,3.0,3.0,3.0,3.0,3.0,3.0,3.0,3.0,3.0,2.0,3.0,2.0,2.0,1.0,1.0,2.0,3.0,1.0,2.0,1.0,3.0,2.0,3.0,3.0,2.0,3.0,3.0,3.0,1.0,1.0,2.0,2.0,2.0,3.0,4.0,4.0,2.0,3.0,2.0,3.0,3.0,1.0,3.0,2.0,4.0,4.0,3.0,2.0,3.0,2.0,3.0,1.0,3.0,4.0,3.0,2.0,2.0,2.0,4.0,1.0,3.0,1.0,3.0,3.0,3.0,2.0,3.0,3.0,3.0,2.0,3.0,3.0,2.0,1.0,3.0,1.0,3.0,3.0,2.0,3.0,2.0,2.0,3.0,1.0,2.0,2.0,3.0,3.0,4.0,4.0,4.0,1.0,3.0,3.0,2.0,2.0,2.0,4.0,1.0,4.0,3.0,1.0,3.0,1.0,3.0,3.0,3.0,2.0,2.0,2.0,3.0,4.0,1.0,3.0,2.0,3.0,5.0,3.0,3.0,3.0,2.0,3.0,3.0,3.0,5.0,1.0,5.0,4.0,2.0,3.0,3.0,3.0,2.0,3.0,3.0,3.0,1.0,2.0,4.0,2.0,3.0,3.0,2.0,1.0,3.0,2.0,3.0,3.0,3.0,5.0,4.0,1.0,3.0,2.0,3.0,3.0,4.0,3.0,4.0,5.0,3.0,3.0,3.0,5.0,1.0,1.0,5.0,1.0,2.0,5.0,3.0,2.0,2.0,3.0,1.0,4.0,3.0,4.0,5.0,2.0,4.0,2.0,5.0,1.0,3.0,2.0,2.0,5.0,1.0,1.0,2.0,2.0,1.0,2.0,4.0,1.0,2.0,3.0,4.0,4.0,3.0,2.0,3.0,1.0,2.0,1.0,3.0,2.0,3.0,4.0,2.0,3.0,3.0,2.0,3.0,4.0,2.0,3.0,3.0,2.0,2.0,2.0,2.0,2.0,3.0,1.0,1.0,4.0,2.0,2.0,3.0,3.0,2.0,2.0,2.0,4.0,2.0,2.0,3.0,2.0,1.0,4.0,2.0,4.0,2.0,1.0,3.0,3.0,2.0,1.0,1.0,2.0,2.0,2.0,2.0,2.0,3.0,1.0,3.0,3.0,4.0,3.0,1.0,4.0,1.0,3.0,2.0,1.0,2.0,3.0,1.0,3.0,3.0,4.0,4.0,2.0,2.0,2.0,3.0,4.0,3.0,3.0,2.0,2.0,3.0,3.0,3.0,1.0,2.0,2.0,4.0,3.0,3.0,2.0,1.0,3.0,2.0,1.0,2.0,5.0,4.0,2.0,1.0,2.0,5.0,4.0,1.0,1.0,4.0,2.0,3.0,2.0,2.0,3.0,2.0,3.0,2.0,2.0,1.0,2.0,1.0,4.0,3.0,3.0,4.0,2.0,2.0,1.0,2.0,3.0,3.0,3.0,3.0,4.0,3.0,1.0,2.0,3.0,2.0,2.0,3.0,2.0,4.0,2.0,3.0,2.0,1.0,3.0,3.0,3.0,1.0,4.0,3.0,3.0,1.0,3.0,3.0,3.0,2.0,4.0,3.0,1.0,3.0,1.0,4.0,3.0,1.0,1.0,2.0,1.0,3.0,3.0,2.0,4.0,2.0,1.0,3.0,4.0,2.0,2.0,2.0,2.0,3.0,3.0,3.0,3.0,4.0,4.0,4.0,2.0,3.0,4.0,2.0,3.0,1.0,2.0,3.0,2.0,2.0,3.0,3.0,1.0,2.0,3.0,4.0,3.0,3.0,4.0,3.0,1.0,1.0,2.0,3.0,2.0,3.0,3.0,4.0,2.0,2.0,3.0,2.0,3.0,2.0,3.0,2.0,2.0,2.0,3.0,1.0,2.0,3.0,3.0,3.0,4.0,3.0,1.0,1.0,3.0,3.0,3.0,3.0,3.0,1.0,4.0,2.0,3.0,2.0,2.0,4.0,3.0,3.0,4.0,1.0,2.0,3.0,2.0,3.0,3.0,3.0,1.0,3.0,2.0,3.0,2.0,2.0,2.0,2.0,2.0,2.0,2.0,5.0,3.0,2.0,2.0,2.0,3.0,2.0,3.0,2.0,2.0,4.0,3.0,3.0,2.0,3.0,1.0,3.0,1.0,3.0,1.0,1.0,3.0,2.0,2.0,1.0,3.0,4.0,2.0,3.0,3.0,2.0,2.0,4.0,3.0,3.0,3.0,2.0,4.0,3.0,2.0,2.0,4.0,2.0,2.0,2.0,4.0,2.0,2.0,3.0,3.0,3.0,2.0,3.0,3.0,2.0,3.0,3.0,1.0,3.0,2.0,3.0,1.0,3.0,3.0,2.0,1.0,2.0,4.0,3.0,3.0,2.0,3.0,2.0,3.0,4.0,2.0,3.0,2.0,3.0,3.0,1.0,3.0,3.0,3.0,3.0,3.0,2.0,3.0,4.0,4.0,3.0,2.0,2.0,3.0,2.0,3.0,2.0,3.0,2.0,3.0,3.0,2.0,1.0,4.0,4.0,3.0,1.0,2.0,3.0,2.0,2.0,1.0,4.0,2.0,3.0,3.0,2.0,1.0,2.0,3.0,3.0,4.0,3.0,1.0,4.0,4.0,5.0,3.0,1.0,2.0,3.0,3.0,2.0,3.0,4.0,2.0,2.0,3.0,3.0,4.0,2.0,2.0,1.0,2.0,1.0,3.0,3.0,4.0,3.0,2.0,3.0,3.0,2.0,2.0,4.0,3.0,3.0,4.0,3.0,3.0,3.0,2.0,4.0,3.0,2.0,4.0,1.0,3.0,3.0,3.0,3.0,3.0,3.0,3.0,1.0,4.0,2.0,3.0,2.0,3.0,2.0,2.0,2.0,4.0,4.0,2.0,4.0,3.0,5.0,2.0,3.0,3.0,2.0,3.0,3.0,1.0,2.0,2.0,4.0,2.0,3.0,4.0,2.0,2.0,2.0,3.0,1.0,2.0,2.0,3.0,3.0,2.0,3.0,1.0,3.0,3.0,2.0,2.0,3.0,2.0,3.0,2.0,2.0,2.0,3.0,1.0,3.0,3.0,3.0,2.0,2.0,2.0,4.0,3.0,1.0,3.0,3.0,1.0,3.0,2.0,3.0,3.0,1.0,2.0,3.0,2.0,3.0,2.0,3.0,3.0,4.0,3.0,3.0,4.0,4.0,3.0,4.0,3.0,2.0,3.0,3.0,3.0,3.0,4.0,4.0,1.0,2.0,4.0,4.0,4.0,2.0,1.0,1.0,2.0,2.0,1.0,3.0,2.0,3.0,1.0,2.0,3.0,3.0,3.0,3.0,3.0,2.0,3.0,3.0,1.0,2.0,3.0,3.0,2.0,2.0,1.0,1.0,3.0,4.0,2.0,2.0,1.0,3.0,2.0,2.0,2.0,3.0,2.0,3.0,1.0,3.0,1.0,2.0,2.0,1.0,1.0,3.0,3.0,4.0,3.0,2.0,1.0,3.0,1.0,2.0,2.0,2.0,2.0,4.0,2.0,3.0,2.0,3.0,3.0,2.0,3.0,1.0,2.0,3.0,1.0,2.0,4.0,5.0,2.0,1.0,4.0,2.0,3.0,2.0,3.0,3.0,2.0,2.0,3.0,3.0,1.0,3.0,1.0,1.0,3.0,3.0,3.0,2.0,3.0,4.0,3.0,3.0,1.0,3.0,3.0,3.0,3.0,3.0,3.0,4.0,2.0,1.0,3.0,3.0,3.0,4.0,2.0,2.0,3.0,2.0,1.0,1.0,3.0,3.0,1.0,2.0,1.0,1.0,4.0,1.0,2.0,3.0,3.0,1.0,2.0,2.0,4.0,2.0,4.0,3.0,3.0,3.0,4.0,4.0,3.0,1.0,3.0,2.0,4.0,1.0,3.0,2.0,3.0,3.0,2.0,3.0,1.0,2.0,1.0,2.0,1.0,3.0,3.0,1.0,3.0,3.0,2.0,3.0,1.0,2.0,2.0,3.0,3.0,2.0,4.0,3.0,3.0,3.0,2.0,3.0,2.0,1.0,2.0,2.0,2.0,3.0,4.0,4.0,2.0,2.0,2.0,2.0,3.0,3.0,2.0,3.0,3.0,2.0,4.0,1.0,3.0,2.0,3.0,2.0,1.0,1.0,3.0,2.0,1.0,3.0,4.0,2.0,3.0,4.0,4.0,1.0,2.0,1.0,1.0,1.0,3.0,1.0,1.0,3.0,3.0,3.0,3.0,3.0,1.0,4.0,3.0,3.0,2.0,3.0,3.0,3.0,3.0,3.0,3.0,2.0,4.0,2.0,3.0,5.0,5.0,1.0,2.0,2.0,3.0,1.0,3.0,3.0,3.0,3.0,3.0,2.0,2.0,2.0,3.0,3.0,2.0,2.0,1.0,3.0,3.0,2.0,3.0,1.0,4.0,2.0,3.0,2.0,4.0,2.0,4.0,2.0,3.0,3.0,2.0,4.0,3.0,4.0,3.0,4.0,2.0,2.0,2.0,4.0,2.0,2.0,3.0,1.0,2.0,2.0,1.0,2.0,2.0,1.0,3.0,1.0,2.0,3.0,3.0,3.0,3.0,1.0,5.0,3.0,4.0,2.0,1.0,2.0,2.0,4.0,2.0,4.0,1.0,3.0,2.0,2.0,3.0,3.0,4.0,2.0,5.0,3.0,3.0,2.0,3.0,1.0,2.0,1.0,2.0,1.0,2.0,3.0,3.0,3.0,2.0,2.0,3.0,1.0,2.0,2.0,3.0,3.0,1.0,2.0,3.0,1.0,1.0,3.0,2.0,2.0,3.0,3.0,2.0,3.0,3.0,3.0,3.0,3.0,3.0,4.0,3.0,1.0,3.0,2.0,2.0,2.0,3.0,4.0,4.0,3.0,3.0,4.0,4.0,3.0,3.0,3.0,2.0,2.0,4.0,3.0,2.0,3.0,2.0,2.0,3.0,2.0,2.0,3.0,3.0,4.0,3.0,2.0,2.0,2.0,2.0,3.0,3.0,3.0,4.0,4.0,1.0,2.0,2.0,2.0,2.0,2.0,2.0,3.0,3.0,4.0,2.0,1.0,4.0,3.0,2.0,3.0,3.0,2.0,3.0,1.0,4.0,4.0,3.0,3.0,2.0,2.0,3.0,1.0,3.0,4.0,3.0,2.0,3.0,5.0,3.0,3.0,3.0,3.0,1.0,2.0,3.0,2.0,2.0,3.0,2.0,1.0,2.0,2.0,3.0,2.0,2.0,4.0,5.0,2.0,3.0,3.0,3.0,3.0,3.0,2.0,3.0,3.0,4.0,2.0,2.0,2.0,3.0,3.0,3.0,2.0,3.0,3.0,3.0,2.0,3.0,3.0,3.0,3.0,4.0,3.0,4.0,1.0,4.0,3.0,4.0,3.0,3.0,4.0,3.0,3.0,2.0,2.0,3.0,3.0,2.0,4.0,4.0,2.0,3.0,3.0,1.0,1.0,2.0,3.0,3.0,3.0,3.0,4.0,3.0,2.0,2.0,2.0,2.0,2.0,3.0,3.0,3.0,1.0,2.0,3.0,3.0,3.0,2.0,4.0,1.0,2.0,4.0,4.0,2.0,3.0,1.0,3.0,4.0,4.0,4.0,4.0,3.0,2.0,3.0,3.0,3.0,4.0,3.0,2.0,2.0,3.0,3.0,3.0,3.0,2.0,3.0,3.0,3.0,3.0,2.0,3.0,2.0,1.0,3.0,3.0,4.0,1.0,3.0,3.0,2.0,2.0,2.0,2.0,3.0,4.0,3.0,4.0,4.0,3.0,4.0,3.0,2.0,3.0,2.0,3.0,4.0,2.0,2.0,3.0,2.0,1.0,1.0,3.0,2.0,4.0,2.0,2.0,4.0,3.0,1.0,4.0,1.0,3.0,3.0,4.0,2.0,3.0,3.0,4.0,4.0,2.0,1.0,2.0,3.0,1.0,2.0,2.0,4.0,2.0,2.0,3.0,4.0,3.0,2.0,2.0,4.0,3.0,3.0,1.0,1.0,2.0,4.0,1.0,3.0,2.0,3.0,4.0,2.0,4.0,3.0,2.0,1.0,4.0,3.0,2.0,3.0,4.0,3.0,3.0,3.0,2.0,1.0,3.0,4.0,2.0,4.0,4.0,1.0,3.0,4.0,2.0,3.0,4.0,4.0,2.0,2.0,2.0,1.0,2.0,3.0,3.0,3.0,4.0,3.0,3.0,4.0,1.0,3.0,2.0,3.0,3.0,4.0,3.0,3.0,3.0,2.0,3.0,2.0,2.0,4.0,2.0,3.0,2.0,3.0,3.0,2.0,4.0,3.0,1.0,3.0,2.0,3.0,4.0,3.0,2.0,3.0,3.0,4.0,3.0,3.0,3.0,4.0,4.0,3.0,3.0,3.0,3.0,3.0,4.0,3.0,5.0,4.0,2.0,2.0,3.0,3.0,3.0,2.0,2.0,1.0,2.0,3.0,2.0,2.0,1.0,2.0,2.0,3.0,3.0,1.0,1.0,2.0,4.0,1.0,1.0,3.0,2.0,2.0,3.0,3.0,2.0,2.0,4.0,3.0,1.0,3.0,2.0,2.0,1.0,3.0,1.0,2.0,3.0,2.0,3.0,3.0,3.0,2.0,3.0,2.0,2.0,3.0,3.0,2.0,2.0,1.0,2.0,1.0,2.0,3.0,2.0,3.0,2.0,2.0,2.0,3.0,2.0,3.0,3.0,2.0,4.0,5.0,2.0,3.0,3.0,3.0,2.0,3.0,3.0,2.0,2.0,2.0,1.0,1.0,3.0,4.0,3.0,4.0,2.0,2.0,2.0,2.0,3.0,3.0,2.0,3.0,3.0,3.0,5.0,3.0,3.0,2.0,3.0,2.0,1.0,2.0,3.0,2.0,1.0,3.0,1.0,3.0,2.0,3.0,2.0],\"type\":\"choropleth\"}],                        {\"template\":{\"data\":{\"barpolar\":[{\"marker\":{\"line\":{\"color\":\"rgb(237,237,237)\",\"width\":0.5},\"pattern\":{\"fillmode\":\"overlay\",\"size\":10,\"solidity\":0.2}},\"type\":\"barpolar\"}],\"bar\":[{\"error_x\":{\"color\":\"rgb(51,51,51)\"},\"error_y\":{\"color\":\"rgb(51,51,51)\"},\"marker\":{\"line\":{\"color\":\"rgb(237,237,237)\",\"width\":0.5},\"pattern\":{\"fillmode\":\"overlay\",\"size\":10,\"solidity\":0.2}},\"type\":\"bar\"}],\"carpet\":[{\"aaxis\":{\"endlinecolor\":\"rgb(51,51,51)\",\"gridcolor\":\"white\",\"linecolor\":\"white\",\"minorgridcolor\":\"white\",\"startlinecolor\":\"rgb(51,51,51)\"},\"baxis\":{\"endlinecolor\":\"rgb(51,51,51)\",\"gridcolor\":\"white\",\"linecolor\":\"white\",\"minorgridcolor\":\"white\",\"startlinecolor\":\"rgb(51,51,51)\"},\"type\":\"carpet\"}],\"choropleth\":[{\"colorbar\":{\"outlinewidth\":0,\"tickcolor\":\"rgb(237,237,237)\",\"ticklen\":6,\"ticks\":\"inside\"},\"type\":\"choropleth\"}],\"contourcarpet\":[{\"colorbar\":{\"outlinewidth\":0,\"tickcolor\":\"rgb(237,237,237)\",\"ticklen\":6,\"ticks\":\"inside\"},\"type\":\"contourcarpet\"}],\"contour\":[{\"colorbar\":{\"outlinewidth\":0,\"tickcolor\":\"rgb(237,237,237)\",\"ticklen\":6,\"ticks\":\"inside\"},\"colorscale\":[[0,\"rgb(20,44,66)\"],[1,\"rgb(90,179,244)\"]],\"type\":\"contour\"}],\"heatmapgl\":[{\"colorbar\":{\"outlinewidth\":0,\"tickcolor\":\"rgb(237,237,237)\",\"ticklen\":6,\"ticks\":\"inside\"},\"colorscale\":[[0,\"rgb(20,44,66)\"],[1,\"rgb(90,179,244)\"]],\"type\":\"heatmapgl\"}],\"heatmap\":[{\"colorbar\":{\"outlinewidth\":0,\"tickcolor\":\"rgb(237,237,237)\",\"ticklen\":6,\"ticks\":\"inside\"},\"colorscale\":[[0,\"rgb(20,44,66)\"],[1,\"rgb(90,179,244)\"]],\"type\":\"heatmap\"}],\"histogram2dcontour\":[{\"colorbar\":{\"outlinewidth\":0,\"tickcolor\":\"rgb(237,237,237)\",\"ticklen\":6,\"ticks\":\"inside\"},\"colorscale\":[[0,\"rgb(20,44,66)\"],[1,\"rgb(90,179,244)\"]],\"type\":\"histogram2dcontour\"}],\"histogram2d\":[{\"colorbar\":{\"outlinewidth\":0,\"tickcolor\":\"rgb(237,237,237)\",\"ticklen\":6,\"ticks\":\"inside\"},\"colorscale\":[[0,\"rgb(20,44,66)\"],[1,\"rgb(90,179,244)\"]],\"type\":\"histogram2d\"}],\"histogram\":[{\"marker\":{\"pattern\":{\"fillmode\":\"overlay\",\"size\":10,\"solidity\":0.2}},\"type\":\"histogram\"}],\"mesh3d\":[{\"colorbar\":{\"outlinewidth\":0,\"tickcolor\":\"rgb(237,237,237)\",\"ticklen\":6,\"ticks\":\"inside\"},\"type\":\"mesh3d\"}],\"parcoords\":[{\"line\":{\"colorbar\":{\"outlinewidth\":0,\"tickcolor\":\"rgb(237,237,237)\",\"ticklen\":6,\"ticks\":\"inside\"}},\"type\":\"parcoords\"}],\"pie\":[{\"automargin\":true,\"type\":\"pie\"}],\"scatter3d\":[{\"line\":{\"colorbar\":{\"outlinewidth\":0,\"tickcolor\":\"rgb(237,237,237)\",\"ticklen\":6,\"ticks\":\"inside\"}},\"marker\":{\"colorbar\":{\"outlinewidth\":0,\"tickcolor\":\"rgb(237,237,237)\",\"ticklen\":6,\"ticks\":\"inside\"}},\"type\":\"scatter3d\"}],\"scattercarpet\":[{\"marker\":{\"colorbar\":{\"outlinewidth\":0,\"tickcolor\":\"rgb(237,237,237)\",\"ticklen\":6,\"ticks\":\"inside\"}},\"type\":\"scattercarpet\"}],\"scattergeo\":[{\"marker\":{\"colorbar\":{\"outlinewidth\":0,\"tickcolor\":\"rgb(237,237,237)\",\"ticklen\":6,\"ticks\":\"inside\"}},\"type\":\"scattergeo\"}],\"scattergl\":[{\"marker\":{\"colorbar\":{\"outlinewidth\":0,\"tickcolor\":\"rgb(237,237,237)\",\"ticklen\":6,\"ticks\":\"inside\"}},\"type\":\"scattergl\"}],\"scattermapbox\":[{\"marker\":{\"colorbar\":{\"outlinewidth\":0,\"tickcolor\":\"rgb(237,237,237)\",\"ticklen\":6,\"ticks\":\"inside\"}},\"type\":\"scattermapbox\"}],\"scatterpolargl\":[{\"marker\":{\"colorbar\":{\"outlinewidth\":0,\"tickcolor\":\"rgb(237,237,237)\",\"ticklen\":6,\"ticks\":\"inside\"}},\"type\":\"scatterpolargl\"}],\"scatterpolar\":[{\"marker\":{\"colorbar\":{\"outlinewidth\":0,\"tickcolor\":\"rgb(237,237,237)\",\"ticklen\":6,\"ticks\":\"inside\"}},\"type\":\"scatterpolar\"}],\"scatter\":[{\"fillpattern\":{\"fillmode\":\"overlay\",\"size\":10,\"solidity\":0.2},\"type\":\"scatter\"}],\"scatterternary\":[{\"marker\":{\"colorbar\":{\"outlinewidth\":0,\"tickcolor\":\"rgb(237,237,237)\",\"ticklen\":6,\"ticks\":\"inside\"}},\"type\":\"scatterternary\"}],\"surface\":[{\"colorbar\":{\"outlinewidth\":0,\"tickcolor\":\"rgb(237,237,237)\",\"ticklen\":6,\"ticks\":\"inside\"},\"colorscale\":[[0,\"rgb(20,44,66)\"],[1,\"rgb(90,179,244)\"]],\"type\":\"surface\"}],\"table\":[{\"cells\":{\"fill\":{\"color\":\"rgb(237,237,237)\"},\"line\":{\"color\":\"white\"}},\"header\":{\"fill\":{\"color\":\"rgb(217,217,217)\"},\"line\":{\"color\":\"white\"}},\"type\":\"table\"}]},\"layout\":{\"annotationdefaults\":{\"arrowhead\":0,\"arrowwidth\":1},\"autotypenumbers\":\"strict\",\"coloraxis\":{\"colorbar\":{\"outlinewidth\":0,\"tickcolor\":\"rgb(237,237,237)\",\"ticklen\":6,\"ticks\":\"inside\"}},\"colorscale\":{\"sequential\":[[0,\"rgb(20,44,66)\"],[1,\"rgb(90,179,244)\"]],\"sequentialminus\":[[0,\"rgb(20,44,66)\"],[1,\"rgb(90,179,244)\"]]},\"colorway\":[\"#F8766D\",\"#A3A500\",\"#00BF7D\",\"#00B0F6\",\"#E76BF3\"],\"font\":{\"color\":\"rgb(51,51,51)\"},\"geo\":{\"bgcolor\":\"white\",\"lakecolor\":\"white\",\"landcolor\":\"rgb(237,237,237)\",\"showlakes\":true,\"showland\":true,\"subunitcolor\":\"white\"},\"hoverlabel\":{\"align\":\"left\"},\"hovermode\":\"closest\",\"paper_bgcolor\":\"white\",\"plot_bgcolor\":\"rgb(237,237,237)\",\"polar\":{\"angularaxis\":{\"gridcolor\":\"white\",\"linecolor\":\"white\",\"showgrid\":true,\"tickcolor\":\"rgb(51,51,51)\",\"ticks\":\"outside\"},\"bgcolor\":\"rgb(237,237,237)\",\"radialaxis\":{\"gridcolor\":\"white\",\"linecolor\":\"white\",\"showgrid\":true,\"tickcolor\":\"rgb(51,51,51)\",\"ticks\":\"outside\"}},\"scene\":{\"xaxis\":{\"backgroundcolor\":\"rgb(237,237,237)\",\"gridcolor\":\"white\",\"gridwidth\":2,\"linecolor\":\"white\",\"showbackground\":true,\"showgrid\":true,\"tickcolor\":\"rgb(51,51,51)\",\"ticks\":\"outside\",\"zerolinecolor\":\"white\"},\"yaxis\":{\"backgroundcolor\":\"rgb(237,237,237)\",\"gridcolor\":\"white\",\"gridwidth\":2,\"linecolor\":\"white\",\"showbackground\":true,\"showgrid\":true,\"tickcolor\":\"rgb(51,51,51)\",\"ticks\":\"outside\",\"zerolinecolor\":\"white\"},\"zaxis\":{\"backgroundcolor\":\"rgb(237,237,237)\",\"gridcolor\":\"white\",\"gridwidth\":2,\"linecolor\":\"white\",\"showbackground\":true,\"showgrid\":true,\"tickcolor\":\"rgb(51,51,51)\",\"ticks\":\"outside\",\"zerolinecolor\":\"white\"}},\"shapedefaults\":{\"fillcolor\":\"black\",\"line\":{\"width\":0},\"opacity\":0.3},\"ternary\":{\"aaxis\":{\"gridcolor\":\"white\",\"linecolor\":\"white\",\"showgrid\":true,\"tickcolor\":\"rgb(51,51,51)\",\"ticks\":\"outside\"},\"baxis\":{\"gridcolor\":\"white\",\"linecolor\":\"white\",\"showgrid\":true,\"tickcolor\":\"rgb(51,51,51)\",\"ticks\":\"outside\"},\"bgcolor\":\"rgb(237,237,237)\",\"caxis\":{\"gridcolor\":\"white\",\"linecolor\":\"white\",\"showgrid\":true,\"tickcolor\":\"rgb(51,51,51)\",\"ticks\":\"outside\"}},\"xaxis\":{\"automargin\":true,\"gridcolor\":\"white\",\"linecolor\":\"white\",\"showgrid\":true,\"tickcolor\":\"rgb(51,51,51)\",\"ticks\":\"outside\",\"title\":{\"standoff\":15},\"zerolinecolor\":\"white\"},\"yaxis\":{\"automargin\":true,\"gridcolor\":\"white\",\"linecolor\":\"white\",\"showgrid\":true,\"tickcolor\":\"rgb(51,51,51)\",\"ticks\":\"outside\",\"title\":{\"standoff\":15},\"zerolinecolor\":\"white\"}}},\"geo\":{\"domain\":{\"x\":[0.0,1.0],\"y\":[0.0,1.0]},\"center\":{},\"scope\":\"world\"},\"coloraxis\":{\"colorbar\":{\"title\":{\"text\":\"Rate : \"},\"ticks\":\"outside\",\"orientation\":\"v\",\"yanchor\":\"bottom\",\"y\":0.18,\"xanchor\":\"left\",\"x\":0,\"len\":0.37,\"thickness\":15},\"colorscale\":[[0.0,\"rgb(20,44,66)\"],[1.0,\"rgb(90,179,244)\"]]},\"legend\":{\"tracegroupgap\":0},\"margin\":{\"t\":0,\"b\":0,\"l\":0,\"r\":0},\"height\":400},                        {\"responsive\": true}                    ).then(function(){\n",
       "                            \n",
       "var gd = document.getElementById('9c43e4d5-2956-44f1-84d0-01989b2c85fd');\n",
       "var x = new MutationObserver(function (mutations, observer) {{\n",
       "        var display = window.getComputedStyle(gd).display;\n",
       "        if (!display || display === 'none') {{\n",
       "            console.log([gd, 'removed!']);\n",
       "            Plotly.purge(gd);\n",
       "            observer.disconnect();\n",
       "        }}\n",
       "}});\n",
       "\n",
       "// Listen for the removal of the full notebook cells\n",
       "var notebookContainer = gd.closest('#notebook-container');\n",
       "if (notebookContainer) {{\n",
       "    x.observe(notebookContainer, {childList: true});\n",
       "}}\n",
       "\n",
       "// Listen for the clearing of the current output cell\n",
       "var outputEl = gd.closest('.output');\n",
       "if (outputEl) {{\n",
       "    x.observe(outputEl, {childList: true});\n",
       "}}\n",
       "\n",
       "                        })                };                });            </script>        </div>"
      ]
     },
     "metadata": {},
     "output_type": "display_data"
    }
   ],
   "source": [
    "# make the oservations among the whole world \n",
    "df2 = df.copy()\n",
    "df2[['country_work_in', 'ph_employer_rate', 'mh_employer_rate']].dropna()\n",
    "df2.sort_values(['country_work_in','mh_resources_provided'],inplace=True)\n",
    "def draw_observation_map_among_world():\n",
    "  observation_map_among_world=px.choropleth(data_frame=df2,locations='country_live_in',locationmode='country names',\n",
    "                    color='rate_tech_industry_support',\n",
    "                    hover_name='country_work_in',\n",
    "                    hover_data=['country_work_in', 'mh_employer_rate', 'ph_employer_rate'],\n",
    "                    scope='world',\n",
    "                    template = 'ggplot2', \n",
    "                  )\n",
    "\n",
    "  observation_map_among_world.update_layout(\n",
    "                  coloraxis_colorbar = dict(ticks='outside', title = 'Rate : ', orientation='v', yanchor=\"bottom\", y= 0.18, xanchor=\"left\", x = 0 , len = 0.37, thickness = 15 ),\n",
    "                  margin=dict(b = 0, t = 0, l = 0, r = 0),\n",
    "                  height = 400,\n",
    "                  )\n",
    "                \n",
    "  return observation_map_among_world\n",
    "\n",
    "draw_observation_map_among_world()"
   ]
  },
  {
   "cell_type": "markdown",
   "metadata": {
    "id": "g49lDDcjKpEE"
   },
   "source": [
    "### What you think the industry as a whole and/or employers could do to improve mental health support for employees?"
   ]
  },
  {
   "cell_type": "code",
   "execution_count": 26,
   "metadata": {
    "executionInfo": {
     "elapsed": 60,
     "status": "aborted",
     "timestamp": 1654337002853,
     "user": {
      "displayName": "habiba mohamed",
      "userId": "01346726008568088997"
     },
     "user_tz": -120
    },
    "id": "jSE0X-woKpEE"
   },
   "outputs": [
    {
     "data": {
      "text/html": [
       "<div>                            <div id=\"d0bff5b1-d68a-4716-b173-a72c9da55e69\" class=\"plotly-graph-div\" style=\"height:400px; width:100%;\"></div>            <script type=\"text/javascript\">                require([\"plotly\"], function(Plotly) {                    window.PLOTLYENV=window.PLOTLYENV || {};                                    if (document.getElementById(\"d0bff5b1-d68a-4716-b173-a72c9da55e69\")) {                    Plotly.newPlot(                        \"d0bff5b1-d68a-4716-b173-a72c9da55e69\",                        [{\"name\":\"0\",\"source\":\"data:image/png;base64,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\",\"type\":\"image\",\"xaxis\":\"x\",\"yaxis\":\"y\",\"hovertemplate\":\"x: %{x}<br>y: %{y}<br>color: [%{z[0]}, %{z[1]}, %{z[2]}]<extra></extra>\"}],                        {\"template\":{\"data\":{\"histogram2dcontour\":[{\"type\":\"histogram2dcontour\",\"colorbar\":{\"outlinewidth\":0,\"ticks\":\"\"},\"colorscale\":[[0.0,\"#0d0887\"],[0.1111111111111111,\"#46039f\"],[0.2222222222222222,\"#7201a8\"],[0.3333333333333333,\"#9c179e\"],[0.4444444444444444,\"#bd3786\"],[0.5555555555555556,\"#d8576b\"],[0.6666666666666666,\"#ed7953\"],[0.7777777777777778,\"#fb9f3a\"],[0.8888888888888888,\"#fdca26\"],[1.0,\"#f0f921\"]]}],\"choropleth\":[{\"type\":\"choropleth\",\"colorbar\":{\"outlinewidth\":0,\"ticks\":\"\"}}],\"histogram2d\":[{\"type\":\"histogram2d\",\"colorbar\":{\"outlinewidth\":0,\"ticks\":\"\"},\"colorscale\":[[0.0,\"#0d0887\"],[0.1111111111111111,\"#46039f\"],[0.2222222222222222,\"#7201a8\"],[0.3333333333333333,\"#9c179e\"],[0.4444444444444444,\"#bd3786\"],[0.5555555555555556,\"#d8576b\"],[0.6666666666666666,\"#ed7953\"],[0.7777777777777778,\"#fb9f3a\"],[0.8888888888888888,\"#fdca26\"],[1.0,\"#f0f921\"]]}],\"heatmap\":[{\"type\":\"heatmap\",\"colorbar\":{\"outlinewidth\":0,\"ticks\":\"\"},\"colorscale\":[[0.0,\"#0d0887\"],[0.1111111111111111,\"#46039f\"],[0.2222222222222222,\"#7201a8\"],[0.3333333333333333,\"#9c179e\"],[0.4444444444444444,\"#bd3786\"],[0.5555555555555556,\"#d8576b\"],[0.6666666666666666,\"#ed7953\"],[0.7777777777777778,\"#fb9f3a\"],[0.8888888888888888,\"#fdca26\"],[1.0,\"#f0f921\"]]}],\"heatmapgl\":[{\"type\":\"heatmapgl\",\"colorbar\":{\"outlinewidth\":0,\"ticks\":\"\"},\"colorscale\":[[0.0,\"#0d0887\"],[0.1111111111111111,\"#46039f\"],[0.2222222222222222,\"#7201a8\"],[0.3333333333333333,\"#9c179e\"],[0.4444444444444444,\"#bd3786\"],[0.5555555555555556,\"#d8576b\"],[0.6666666666666666,\"#ed7953\"],[0.7777777777777778,\"#fb9f3a\"],[0.8888888888888888,\"#fdca26\"],[1.0,\"#f0f921\"]]}],\"contourcarpet\":[{\"type\":\"contourcarpet\",\"colorbar\":{\"outlinewidth\":0,\"ticks\":\"\"}}],\"contour\":[{\"type\":\"contour\",\"colorbar\":{\"outlinewidth\":0,\"ticks\":\"\"},\"colorscale\":[[0.0,\"#0d0887\"],[0.1111111111111111,\"#46039f\"],[0.2222222222222222,\"#7201a8\"],[0.3333333333333333,\"#9c179e\"],[0.4444444444444444,\"#bd3786\"],[0.5555555555555556,\"#d8576b\"],[0.6666666666666666,\"#ed7953\"],[0.7777777777777778,\"#fb9f3a\"],[0.8888888888888888,\"#fdca26\"],[1.0,\"#f0f921\"]]}],\"surface\":[{\"type\":\"surface\",\"colorbar\":{\"outlinewidth\":0,\"ticks\":\"\"},\"colorscale\":[[0.0,\"#0d0887\"],[0.1111111111111111,\"#46039f\"],[0.2222222222222222,\"#7201a8\"],[0.3333333333333333,\"#9c179e\"],[0.4444444444444444,\"#bd3786\"],[0.5555555555555556,\"#d8576b\"],[0.6666666666666666,\"#ed7953\"],[0.7777777777777778,\"#fb9f3a\"],[0.8888888888888888,\"#fdca26\"],[1.0,\"#f0f921\"]]}],\"mesh3d\":[{\"type\":\"mesh3d\",\"colorbar\":{\"outlinewidth\":0,\"ticks\":\"\"}}],\"scatter\":[{\"fillpattern\":{\"fillmode\":\"overlay\",\"size\":10,\"solidity\":0.2},\"type\":\"scatter\"}],\"parcoords\":[{\"type\":\"parcoords\",\"line\":{\"colorbar\":{\"outlinewidth\":0,\"ticks\":\"\"}}}],\"scatterpolargl\":[{\"type\":\"scatterpolargl\",\"marker\":{\"colorbar\":{\"outlinewidth\":0,\"ticks\":\"\"}}}],\"bar\":[{\"error_x\":{\"color\":\"#2a3f5f\"},\"error_y\":{\"color\":\"#2a3f5f\"},\"marker\":{\"line\":{\"color\":\"#E5ECF6\",\"width\":0.5},\"pattern\":{\"fillmode\":\"overlay\",\"size\":10,\"solidity\":0.2}},\"type\":\"bar\"}],\"scattergeo\":[{\"type\":\"scattergeo\",\"marker\":{\"colorbar\":{\"outlinewidth\":0,\"ticks\":\"\"}}}],\"scatterpolar\":[{\"type\":\"scatterpolar\",\"marker\":{\"colorbar\":{\"outlinewidth\":0,\"ticks\":\"\"}}}],\"histogram\":[{\"marker\":{\"pattern\":{\"fillmode\":\"overlay\",\"size\":10,\"solidity\":0.2}},\"type\":\"histogram\"}],\"scattergl\":[{\"type\":\"scattergl\",\"marker\":{\"colorbar\":{\"outlinewidth\":0,\"ticks\":\"\"}}}],\"scatter3d\":[{\"type\":\"scatter3d\",\"line\":{\"colorbar\":{\"outlinewidth\":0,\"ticks\":\"\"}},\"marker\":{\"colorbar\":{\"outlinewidth\":0,\"ticks\":\"\"}}}],\"scattermapbox\":[{\"type\":\"scattermapbox\",\"marker\":{\"colorbar\":{\"outlinewidth\":0,\"ticks\":\"\"}}}],\"scatterternary\":[{\"type\":\"scatterternary\",\"marker\":{\"colorbar\":{\"outlinewidth\":0,\"ticks\":\"\"}}}],\"scattercarpet\":[{\"type\":\"scattercarpet\",\"marker\":{\"colorbar\":{\"outlinewidth\":0,\"ticks\":\"\"}}}],\"carpet\":[{\"aaxis\":{\"endlinecolor\":\"#2a3f5f\",\"gridcolor\":\"white\",\"linecolor\":\"white\",\"minorgridcolor\":\"white\",\"startlinecolor\":\"#2a3f5f\"},\"baxis\":{\"endlinecolor\":\"#2a3f5f\",\"gridcolor\":\"white\",\"linecolor\":\"white\",\"minorgridcolor\":\"white\",\"startlinecolor\":\"#2a3f5f\"},\"type\":\"carpet\"}],\"table\":[{\"cells\":{\"fill\":{\"color\":\"#EBF0F8\"},\"line\":{\"color\":\"white\"}},\"header\":{\"fill\":{\"color\":\"#C8D4E3\"},\"line\":{\"color\":\"white\"}},\"type\":\"table\"}],\"barpolar\":[{\"marker\":{\"line\":{\"color\":\"#E5ECF6\",\"width\":0.5},\"pattern\":{\"fillmode\":\"overlay\",\"size\":10,\"solidity\":0.2}},\"type\":\"barpolar\"}],\"pie\":[{\"automargin\":true,\"type\":\"pie\"}]},\"layout\":{\"autotypenumbers\":\"strict\",\"colorway\":[\"#636efa\",\"#EF553B\",\"#00cc96\",\"#ab63fa\",\"#FFA15A\",\"#19d3f3\",\"#FF6692\",\"#B6E880\",\"#FF97FF\",\"#FECB52\"],\"font\":{\"color\":\"#2a3f5f\"},\"hovermode\":\"closest\",\"hoverlabel\":{\"align\":\"left\"},\"paper_bgcolor\":\"white\",\"plot_bgcolor\":\"#E5ECF6\",\"polar\":{\"bgcolor\":\"#E5ECF6\",\"angularaxis\":{\"gridcolor\":\"white\",\"linecolor\":\"white\",\"ticks\":\"\"},\"radialaxis\":{\"gridcolor\":\"white\",\"linecolor\":\"white\",\"ticks\":\"\"}},\"ternary\":{\"bgcolor\":\"#E5ECF6\",\"aaxis\":{\"gridcolor\":\"white\",\"linecolor\":\"white\",\"ticks\":\"\"},\"baxis\":{\"gridcolor\":\"white\",\"linecolor\":\"white\",\"ticks\":\"\"},\"caxis\":{\"gridcolor\":\"white\",\"linecolor\":\"white\",\"ticks\":\"\"}},\"coloraxis\":{\"colorbar\":{\"outlinewidth\":0,\"ticks\":\"\"}},\"colorscale\":{\"sequential\":[[0.0,\"#0d0887\"],[0.1111111111111111,\"#46039f\"],[0.2222222222222222,\"#7201a8\"],[0.3333333333333333,\"#9c179e\"],[0.4444444444444444,\"#bd3786\"],[0.5555555555555556,\"#d8576b\"],[0.6666666666666666,\"#ed7953\"],[0.7777777777777778,\"#fb9f3a\"],[0.8888888888888888,\"#fdca26\"],[1.0,\"#f0f921\"]],\"sequentialminus\":[[0.0,\"#0d0887\"],[0.1111111111111111,\"#46039f\"],[0.2222222222222222,\"#7201a8\"],[0.3333333333333333,\"#9c179e\"],[0.4444444444444444,\"#bd3786\"],[0.5555555555555556,\"#d8576b\"],[0.6666666666666666,\"#ed7953\"],[0.7777777777777778,\"#fb9f3a\"],[0.8888888888888888,\"#fdca26\"],[1.0,\"#f0f921\"]],\"diverging\":[[0,\"#8e0152\"],[0.1,\"#c51b7d\"],[0.2,\"#de77ae\"],[0.3,\"#f1b6da\"],[0.4,\"#fde0ef\"],[0.5,\"#f7f7f7\"],[0.6,\"#e6f5d0\"],[0.7,\"#b8e186\"],[0.8,\"#7fbc41\"],[0.9,\"#4d9221\"],[1,\"#276419\"]]},\"xaxis\":{\"gridcolor\":\"white\",\"linecolor\":\"white\",\"ticks\":\"\",\"title\":{\"standoff\":15},\"zerolinecolor\":\"white\",\"automargin\":true,\"zerolinewidth\":2},\"yaxis\":{\"gridcolor\":\"white\",\"linecolor\":\"white\",\"ticks\":\"\",\"title\":{\"standoff\":15},\"zerolinecolor\":\"white\",\"automargin\":true,\"zerolinewidth\":2},\"scene\":{\"xaxis\":{\"backgroundcolor\":\"#E5ECF6\",\"gridcolor\":\"white\",\"linecolor\":\"white\",\"showbackground\":true,\"ticks\":\"\",\"zerolinecolor\":\"white\",\"gridwidth\":2},\"yaxis\":{\"backgroundcolor\":\"#E5ECF6\",\"gridcolor\":\"white\",\"linecolor\":\"white\",\"showbackground\":true,\"ticks\":\"\",\"zerolinecolor\":\"white\",\"gridwidth\":2},\"zaxis\":{\"backgroundcolor\":\"#E5ECF6\",\"gridcolor\":\"white\",\"linecolor\":\"white\",\"showbackground\":true,\"ticks\":\"\",\"zerolinecolor\":\"white\",\"gridwidth\":2}},\"shapedefaults\":{\"line\":{\"color\":\"#2a3f5f\"}},\"annotationdefaults\":{\"arrowcolor\":\"#2a3f5f\",\"arrowhead\":0,\"arrowwidth\":1},\"geo\":{\"bgcolor\":\"white\",\"landcolor\":\"#E5ECF6\",\"subunitcolor\":\"white\",\"showland\":true,\"showlakes\":true,\"lakecolor\":\"white\"},\"title\":{\"x\":0.05},\"mapbox\":{\"style\":\"light\"}}},\"xaxis\":{\"anchor\":\"y\",\"domain\":[0.0,1.0],\"visible\":false},\"yaxis\":{\"anchor\":\"x\",\"domain\":[0.0,1.0],\"visible\":false},\"margin\":{\"t\":0,\"l\":0,\"r\":0,\"b\":0},\"height\":400},                        {\"responsive\": true}                    ).then(function(){\n",
       "                            \n",
       "var gd = document.getElementById('d0bff5b1-d68a-4716-b173-a72c9da55e69');\n",
       "var x = new MutationObserver(function (mutations, observer) {{\n",
       "        var display = window.getComputedStyle(gd).display;\n",
       "        if (!display || display === 'none') {{\n",
       "            console.log([gd, 'removed!']);\n",
       "            Plotly.purge(gd);\n",
       "            observer.disconnect();\n",
       "        }}\n",
       "}});\n",
       "\n",
       "// Listen for the removal of the full notebook cells\n",
       "var notebookContainer = gd.closest('#notebook-container');\n",
       "if (notebookContainer) {{\n",
       "    x.observe(notebookContainer, {childList: true});\n",
       "}}\n",
       "\n",
       "// Listen for the clearing of the current output cell\n",
       "var outputEl = gd.closest('.output');\n",
       "if (outputEl) {{\n",
       "    x.observe(outputEl, {childList: true});\n",
       "}}\n",
       "\n",
       "                        })                };                });            </script>        </div>"
      ]
     },
     "metadata": {},
     "output_type": "display_data"
    }
   ],
   "source": [
    "from wordcloud import WordCloud, STOPWORDS\n",
    "from PIL import Image\n",
    "\n",
    "def draw_world_cloud():\n",
    "    Emp_complains = prep_data['Briefly describe what you think the industry as a whole and/or employers could do to improve mental health support for employees.'].dropna().unique()\n",
    "    words = ''.join(Emp_complains)\n",
    "\n",
    "    my_wordcloud = WordCloud(stopwords=STOPWORDS,\n",
    "                            max_words=500,\n",
    "                            # width=800,\n",
    "                            height=400,\n",
    "                            background_color='white',\n",
    "                            contour_color='#EEEDE7', \n",
    "                            colormap=\"viridis\",\n",
    "                            collocations=True,\n",
    "                            # contour_width=5, \n",
    "                            mask=np.array(Image.open(\"assets/b2.jpg\"))).generate(words)\n",
    "\n",
    "    fig_wordcloud = px.imshow(my_wordcloud)\n",
    "    fig_wordcloud.update_layout(margin=dict(l=0, r=0, t=0, b=0), height=400)\n",
    "    fig_wordcloud.update_xaxes(visible=False)\n",
    "    fig_wordcloud.update_yaxes(visible=False)\n",
    "    return fig_wordcloud\n",
    "draw_world_cloud()"
   ]
  },
  {
   "cell_type": "markdown",
   "metadata": {
    "id": "cQg0NCVcKpEF"
   },
   "source": [
    "### Would you be willing to bring up a physical/ Mental health issue with a potential employer in an interview?"
   ]
  },
  {
   "cell_type": "markdown",
   "metadata": {
    "id": "zJZyvj7CKpEF"
   },
   "source": [
    "#### Pie charts for all responses"
   ]
  },
  {
   "cell_type": "code",
   "execution_count": 27,
   "metadata": {
    "executionInfo": {
     "elapsed": 61,
     "status": "aborted",
     "timestamp": 1654337002854,
     "user": {
      "displayName": "habiba mohamed",
      "userId": "01346726008568088997"
     },
     "user_tz": -120
    },
    "id": "OaBCSmIFKpEF"
   },
   "outputs": [],
   "source": [
    "# ----------------- Admit_ph_issue_in_interview_plt -----------------\n",
    "def draw_admit_ph_issue_in_interview_plt(country):\n",
    "    all_responses = prep_data[prep_data['tech_role_flag'] == 1]['admit_ph_issue_in_interview'].count()\n",
    "    no = prep_data[(prep_data['tech_role_flag'] == 1) & (prep_data['admit_ph_issue_in_interview'] == 0) & ( np.isin(prep_data['country_work_in'], country))]['admit_ph_issue_in_interview'].count()\n",
    "    maybe = prep_data[(prep_data['tech_role_flag'] == 1) & (prep_data['admit_ph_issue_in_interview'] == 1) & ( np.isin(prep_data['country_work_in'], country))]['admit_ph_issue_in_interview'].count()\n",
    "    yes = prep_data[(prep_data['tech_role_flag'] == 1) & (prep_data['admit_ph_issue_in_interview'] == 2) & ( np.isin(prep_data['country_work_in'], country))]['admit_ph_issue_in_interview'].count()\n",
    "\n",
    "    labels = ['No', 'Maybe', 'Yes']\n",
    "    # colors = ['#9666FF', '#F89640', '#F0F921' ]\n",
    "    colors = ['#622569', '#b7d7e8', '#5b9aa0' ]\n",
    "\n",
    "    sizes = [no/all_responses, maybe/all_responses, yes/all_responses]\n",
    "\n",
    "    admit_ph_issue_in_interview_plt = go.Figure(data=[go.Pie(labels = labels, values=sizes, hole = 0.6, pull=[0, 0, 0.2, 0], rotation = 90)])\n",
    "\n",
    "    admit_ph_issue_in_interview_plt.update_traces(\n",
    "                                                title = f'Physical',\n",
    "                                                hoverinfo='label+percent',\n",
    "                                                textfont_size=12,\n",
    "                                                marker=dict(colors=colors,\n",
    "                                                line=dict(color='#FFF', width=2)),\n",
    "                                                title_font_size = 16,\n",
    "                                                title_position = \"middle center\")\n",
    "    admit_ph_issue_in_interview_plt.update_layout(\n",
    "                                                legend=dict(orientation=\"h\", yanchor=\"bottom\", y=0, xanchor=\"center\", x=0.5),\n",
    "                                                margin=dict(b = 0, t = 0, l = 0, r = 0),\n",
    "                                                template = 'ggplot2',\n",
    "                                                height = 325\n",
    "                                                )\n",
    "    return admit_ph_issue_in_interview_plt\n",
    "# ----------------- Bar Chart For MH Disorder Vs Countries -----------------\n",
    "\n",
    "def draw_admit_mh_issue_in_interview_plt(country):\n",
    "    all_responses = prep_data[prep_data['tech_role_flag'] == 1]['admit_mh_issue_in_interview'].count()\n",
    "    no = prep_data[(prep_data['tech_role_flag'] == 1) & (prep_data['admit_mh_issue_in_interview'] == 1) & ( np.isin(prep_data['country_work_in'], country))]['admit_mh_issue_in_interview'].count()\n",
    "    maybe = prep_data[(prep_data['tech_role_flag'] == 1) & (prep_data['admit_mh_issue_in_interview'] == 0) & ( np.isin(prep_data['country_work_in'], country))]['admit_mh_issue_in_interview'].count()\n",
    "    yes = prep_data[(prep_data['tech_role_flag'] == 1) & (prep_data['admit_mh_issue_in_interview'] == 2) & ( np.isin(prep_data['country_work_in'], country))]['admit_mh_issue_in_interview'].count()\n",
    "    # colors = ['#9666FF', '#F89640', '#F0F921' ]\n",
    "    colors = ['#622569', '#b7d7e8', '#5b9aa0' ]\n",
    "\n",
    "    labels = ['No', 'Maybe', 'Yes']\n",
    "    sizes = [no/all_responses, maybe/all_responses, yes/all_responses]\n",
    "    admit_mh_issue_in_interview_plt = go.Figure(data=[go.Pie(labels = labels, values=sizes, hole = 0.6, pull=[0, 0, 0.2, 0], rotation = -180)])\n",
    "\n",
    "    admit_mh_issue_in_interview_plt.update_traces(\n",
    "                                                title = 'Mental',\n",
    "                                                hoverinfo='label+percent',\n",
    "                                                marker=dict(colors=colors,\n",
    "                                                line=dict(color='#FFF', width=2)),\n",
    "                                                textfont_size=12,\n",
    "                                                title_font_size = 16, \n",
    "                                                title_position = \"middle center\")\n",
    "    admit_mh_issue_in_interview_plt.update_layout(\n",
    "                                                template = 'ggplot2',\n",
    "                                                legend=dict(orientation=\"h\", yanchor=\"bottom\", y=0, xanchor=\"center\", x=0.5),\n",
    "                                                margin=dict(b = 0, t = 0, l = 0, r = 0),\n",
    "                                                height = 325\n",
    "                                                )\n",
    "\n",
    "    return admit_mh_issue_in_interview_plt\n",
    "\n"
   ]
  },
  {
   "cell_type": "code",
   "execution_count": 28,
   "metadata": {},
   "outputs": [
    {
     "data": {
      "text/html": [
       "<div>                            <div id=\"1c114cb0-b487-476d-977b-e6b34ad05958\" class=\"plotly-graph-div\" style=\"height:325px; width:100%;\"></div>            <script type=\"text/javascript\">                require([\"plotly\"], function(Plotly) {                    window.PLOTLYENV=window.PLOTLYENV || {};                                    if (document.getElementById(\"1c114cb0-b487-476d-977b-e6b34ad05958\")) {                    Plotly.newPlot(                        \"1c114cb0-b487-476d-977b-e6b34ad05958\",                        [{\"hole\":0.6,\"labels\":[\"No\",\"Maybe\",\"Yes\"],\"pull\":[0,0,0.2,0],\"rotation\":90,\"values\":[0.41653290529695025,0.36998394863563405,0.21348314606741572],\"type\":\"pie\",\"textfont\":{\"size\":12},\"marker\":{\"line\":{\"color\":\"#FFF\",\"width\":2},\"colors\":[\"#622569\",\"#b7d7e8\",\"#5b9aa0\"]},\"title\":{\"text\":\"Physical\",\"font\":{\"size\":16},\"position\":\"middle center\"},\"hoverinfo\":\"label+percent\"}],                        {\"template\":{\"data\":{\"barpolar\":[{\"marker\":{\"line\":{\"color\":\"rgb(237,237,237)\",\"width\":0.5},\"pattern\":{\"fillmode\":\"overlay\",\"size\":10,\"solidity\":0.2}},\"type\":\"barpolar\"}],\"bar\":[{\"error_x\":{\"color\":\"rgb(51,51,51)\"},\"error_y\":{\"color\":\"rgb(51,51,51)\"},\"marker\":{\"line\":{\"color\":\"rgb(237,237,237)\",\"width\":0.5},\"pattern\":{\"fillmode\":\"overlay\",\"size\":10,\"solidity\":0.2}},\"type\":\"bar\"}],\"carpet\":[{\"aaxis\":{\"endlinecolor\":\"rgb(51,51,51)\",\"gridcolor\":\"white\",\"linecolor\":\"white\",\"minorgridcolor\":\"white\",\"startlinecolor\":\"rgb(51,51,51)\"},\"baxis\":{\"endlinecolor\":\"rgb(51,51,51)\",\"gridcolor\":\"white\",\"linecolor\":\"white\",\"minorgridcolor\":\"white\",\"startlinecolor\":\"rgb(51,51,51)\"},\"type\":\"carpet\"}],\"choropleth\":[{\"colorbar\":{\"outlinewidth\":0,\"tickcolor\":\"rgb(237,237,237)\",\"ticklen\":6,\"ticks\":\"inside\"},\"type\":\"choropleth\"}],\"contourcarpet\":[{\"colorbar\":{\"outlinewidth\":0,\"tickcolor\":\"rgb(237,237,237)\",\"ticklen\":6,\"ticks\":\"inside\"},\"type\":\"contourcarpet\"}],\"contour\":[{\"colorbar\":{\"outlinewidth\":0,\"tickcolor\":\"rgb(237,237,237)\",\"ticklen\":6,\"ticks\":\"inside\"},\"colorscale\":[[0,\"rgb(20,44,66)\"],[1,\"rgb(90,179,244)\"]],\"type\":\"contour\"}],\"heatmapgl\":[{\"colorbar\":{\"outlinewidth\":0,\"tickcolor\":\"rgb(237,237,237)\",\"ticklen\":6,\"ticks\":\"inside\"},\"colorscale\":[[0,\"rgb(20,44,66)\"],[1,\"rgb(90,179,244)\"]],\"type\":\"heatmapgl\"}],\"heatmap\":[{\"colorbar\":{\"outlinewidth\":0,\"tickcolor\":\"rgb(237,237,237)\",\"ticklen\":6,\"ticks\":\"inside\"},\"colorscale\":[[0,\"rgb(20,44,66)\"],[1,\"rgb(90,179,244)\"]],\"type\":\"heatmap\"}],\"histogram2dcontour\":[{\"colorbar\":{\"outlinewidth\":0,\"tickcolor\":\"rgb(237,237,237)\",\"ticklen\":6,\"ticks\":\"inside\"},\"colorscale\":[[0,\"rgb(20,44,66)\"],[1,\"rgb(90,179,244)\"]],\"type\":\"histogram2dcontour\"}],\"histogram2d\":[{\"colorbar\":{\"outlinewidth\":0,\"tickcolor\":\"rgb(237,237,237)\",\"ticklen\":6,\"ticks\":\"inside\"},\"colorscale\":[[0,\"rgb(20,44,66)\"],[1,\"rgb(90,179,244)\"]],\"type\":\"histogram2d\"}],\"histogram\":[{\"marker\":{\"pattern\":{\"fillmode\":\"overlay\",\"size\":10,\"solidity\":0.2}},\"type\":\"histogram\"}],\"mesh3d\":[{\"colorbar\":{\"outlinewidth\":0,\"tickcolor\":\"rgb(237,237,237)\",\"ticklen\":6,\"ticks\":\"inside\"},\"type\":\"mesh3d\"}],\"parcoords\":[{\"line\":{\"colorbar\":{\"outlinewidth\":0,\"tickcolor\":\"rgb(237,237,237)\",\"ticklen\":6,\"ticks\":\"inside\"}},\"type\":\"parcoords\"}],\"pie\":[{\"automargin\":true,\"type\":\"pie\"}],\"scatter3d\":[{\"line\":{\"colorbar\":{\"outlinewidth\":0,\"tickcolor\":\"rgb(237,237,237)\",\"ticklen\":6,\"ticks\":\"inside\"}},\"marker\":{\"colorbar\":{\"outlinewidth\":0,\"tickcolor\":\"rgb(237,237,237)\",\"ticklen\":6,\"ticks\":\"inside\"}},\"type\":\"scatter3d\"}],\"scattercarpet\":[{\"marker\":{\"colorbar\":{\"outlinewidth\":0,\"tickcolor\":\"rgb(237,237,237)\",\"ticklen\":6,\"ticks\":\"inside\"}},\"type\":\"scattercarpet\"}],\"scattergeo\":[{\"marker\":{\"colorbar\":{\"outlinewidth\":0,\"tickcolor\":\"rgb(237,237,237)\",\"ticklen\":6,\"ticks\":\"inside\"}},\"type\":\"scattergeo\"}],\"scattergl\":[{\"marker\":{\"colorbar\":{\"outlinewidth\":0,\"tickcolor\":\"rgb(237,237,237)\",\"ticklen\":6,\"ticks\":\"inside\"}},\"type\":\"scattergl\"}],\"scattermapbox\":[{\"marker\":{\"colorbar\":{\"outlinewidth\":0,\"tickcolor\":\"rgb(237,237,237)\",\"ticklen\":6,\"ticks\":\"inside\"}},\"type\":\"scattermapbox\"}],\"scatterpolargl\":[{\"marker\":{\"colorbar\":{\"outlinewidth\":0,\"tickcolor\":\"rgb(237,237,237)\",\"ticklen\":6,\"ticks\":\"inside\"}},\"type\":\"scatterpolargl\"}],\"scatterpolar\":[{\"marker\":{\"colorbar\":{\"outlinewidth\":0,\"tickcolor\":\"rgb(237,237,237)\",\"ticklen\":6,\"ticks\":\"inside\"}},\"type\":\"scatterpolar\"}],\"scatter\":[{\"fillpattern\":{\"fillmode\":\"overlay\",\"size\":10,\"solidity\":0.2},\"type\":\"scatter\"}],\"scatterternary\":[{\"marker\":{\"colorbar\":{\"outlinewidth\":0,\"tickcolor\":\"rgb(237,237,237)\",\"ticklen\":6,\"ticks\":\"inside\"}},\"type\":\"scatterternary\"}],\"surface\":[{\"colorbar\":{\"outlinewidth\":0,\"tickcolor\":\"rgb(237,237,237)\",\"ticklen\":6,\"ticks\":\"inside\"},\"colorscale\":[[0,\"rgb(20,44,66)\"],[1,\"rgb(90,179,244)\"]],\"type\":\"surface\"}],\"table\":[{\"cells\":{\"fill\":{\"color\":\"rgb(237,237,237)\"},\"line\":{\"color\":\"white\"}},\"header\":{\"fill\":{\"color\":\"rgb(217,217,217)\"},\"line\":{\"color\":\"white\"}},\"type\":\"table\"}]},\"layout\":{\"annotationdefaults\":{\"arrowhead\":0,\"arrowwidth\":1},\"autotypenumbers\":\"strict\",\"coloraxis\":{\"colorbar\":{\"outlinewidth\":0,\"tickcolor\":\"rgb(237,237,237)\",\"ticklen\":6,\"ticks\":\"inside\"}},\"colorscale\":{\"sequential\":[[0,\"rgb(20,44,66)\"],[1,\"rgb(90,179,244)\"]],\"sequentialminus\":[[0,\"rgb(20,44,66)\"],[1,\"rgb(90,179,244)\"]]},\"colorway\":[\"#F8766D\",\"#A3A500\",\"#00BF7D\",\"#00B0F6\",\"#E76BF3\"],\"font\":{\"color\":\"rgb(51,51,51)\"},\"geo\":{\"bgcolor\":\"white\",\"lakecolor\":\"white\",\"landcolor\":\"rgb(237,237,237)\",\"showlakes\":true,\"showland\":true,\"subunitcolor\":\"white\"},\"hoverlabel\":{\"align\":\"left\"},\"hovermode\":\"closest\",\"paper_bgcolor\":\"white\",\"plot_bgcolor\":\"rgb(237,237,237)\",\"polar\":{\"angularaxis\":{\"gridcolor\":\"white\",\"linecolor\":\"white\",\"showgrid\":true,\"tickcolor\":\"rgb(51,51,51)\",\"ticks\":\"outside\"},\"bgcolor\":\"rgb(237,237,237)\",\"radialaxis\":{\"gridcolor\":\"white\",\"linecolor\":\"white\",\"showgrid\":true,\"tickcolor\":\"rgb(51,51,51)\",\"ticks\":\"outside\"}},\"scene\":{\"xaxis\":{\"backgroundcolor\":\"rgb(237,237,237)\",\"gridcolor\":\"white\",\"gridwidth\":2,\"linecolor\":\"white\",\"showbackground\":true,\"showgrid\":true,\"tickcolor\":\"rgb(51,51,51)\",\"ticks\":\"outside\",\"zerolinecolor\":\"white\"},\"yaxis\":{\"backgroundcolor\":\"rgb(237,237,237)\",\"gridcolor\":\"white\",\"gridwidth\":2,\"linecolor\":\"white\",\"showbackground\":true,\"showgrid\":true,\"tickcolor\":\"rgb(51,51,51)\",\"ticks\":\"outside\",\"zerolinecolor\":\"white\"},\"zaxis\":{\"backgroundcolor\":\"rgb(237,237,237)\",\"gridcolor\":\"white\",\"gridwidth\":2,\"linecolor\":\"white\",\"showbackground\":true,\"showgrid\":true,\"tickcolor\":\"rgb(51,51,51)\",\"ticks\":\"outside\",\"zerolinecolor\":\"white\"}},\"shapedefaults\":{\"fillcolor\":\"black\",\"line\":{\"width\":0},\"opacity\":0.3},\"ternary\":{\"aaxis\":{\"gridcolor\":\"white\",\"linecolor\":\"white\",\"showgrid\":true,\"tickcolor\":\"rgb(51,51,51)\",\"ticks\":\"outside\"},\"baxis\":{\"gridcolor\":\"white\",\"linecolor\":\"white\",\"showgrid\":true,\"tickcolor\":\"rgb(51,51,51)\",\"ticks\":\"outside\"},\"bgcolor\":\"rgb(237,237,237)\",\"caxis\":{\"gridcolor\":\"white\",\"linecolor\":\"white\",\"showgrid\":true,\"tickcolor\":\"rgb(51,51,51)\",\"ticks\":\"outside\"}},\"xaxis\":{\"automargin\":true,\"gridcolor\":\"white\",\"linecolor\":\"white\",\"showgrid\":true,\"tickcolor\":\"rgb(51,51,51)\",\"ticks\":\"outside\",\"title\":{\"standoff\":15},\"zerolinecolor\":\"white\"},\"yaxis\":{\"automargin\":true,\"gridcolor\":\"white\",\"linecolor\":\"white\",\"showgrid\":true,\"tickcolor\":\"rgb(51,51,51)\",\"ticks\":\"outside\",\"title\":{\"standoff\":15},\"zerolinecolor\":\"white\"}}},\"legend\":{\"orientation\":\"h\",\"yanchor\":\"bottom\",\"y\":0,\"xanchor\":\"center\",\"x\":0.5},\"margin\":{\"b\":0,\"t\":0,\"l\":0,\"r\":0},\"height\":325},                        {\"responsive\": true}                    ).then(function(){\n",
       "                            \n",
       "var gd = document.getElementById('1c114cb0-b487-476d-977b-e6b34ad05958');\n",
       "var x = new MutationObserver(function (mutations, observer) {{\n",
       "        var display = window.getComputedStyle(gd).display;\n",
       "        if (!display || display === 'none') {{\n",
       "            console.log([gd, 'removed!']);\n",
       "            Plotly.purge(gd);\n",
       "            observer.disconnect();\n",
       "        }}\n",
       "}});\n",
       "\n",
       "// Listen for the removal of the full notebook cells\n",
       "var notebookContainer = gd.closest('#notebook-container');\n",
       "if (notebookContainer) {{\n",
       "    x.observe(notebookContainer, {childList: true});\n",
       "}}\n",
       "\n",
       "// Listen for the clearing of the current output cell\n",
       "var outputEl = gd.closest('.output');\n",
       "if (outputEl) {{\n",
       "    x.observe(outputEl, {childList: true});\n",
       "}}\n",
       "\n",
       "                        })                };                });            </script>        </div>"
      ]
     },
     "metadata": {},
     "output_type": "display_data"
    }
   ],
   "source": [
    "draw_admit_ph_issue_in_interview_plt(country)"
   ]
  },
  {
   "cell_type": "code",
   "execution_count": 29,
   "metadata": {},
   "outputs": [
    {
     "data": {
      "text/html": [
       "<div>                            <div id=\"f8161487-b6c0-46ac-9bfe-0407bfc9bb8a\" class=\"plotly-graph-div\" style=\"height:325px; width:100%;\"></div>            <script type=\"text/javascript\">                require([\"plotly\"], function(Plotly) {                    window.PLOTLYENV=window.PLOTLYENV || {};                                    if (document.getElementById(\"f8161487-b6c0-46ac-9bfe-0407bfc9bb8a\")) {                    Plotly.newPlot(                        \"f8161487-b6c0-46ac-9bfe-0407bfc9bb8a\",                        [{\"hole\":0.6,\"labels\":[\"No\",\"Maybe\",\"Yes\"],\"pull\":[0,0,0.2,0],\"rotation\":-180,\"values\":[0.7062600321027287,0.2504012841091493,0.04333868378812199],\"type\":\"pie\",\"marker\":{\"line\":{\"color\":\"#FFF\",\"width\":2},\"colors\":[\"#622569\",\"#b7d7e8\",\"#5b9aa0\"]},\"textfont\":{\"size\":12},\"title\":{\"text\":\"Mental\",\"font\":{\"size\":16},\"position\":\"middle center\"},\"hoverinfo\":\"label+percent\"}],                        {\"template\":{\"data\":{\"barpolar\":[{\"marker\":{\"line\":{\"color\":\"rgb(237,237,237)\",\"width\":0.5},\"pattern\":{\"fillmode\":\"overlay\",\"size\":10,\"solidity\":0.2}},\"type\":\"barpolar\"}],\"bar\":[{\"error_x\":{\"color\":\"rgb(51,51,51)\"},\"error_y\":{\"color\":\"rgb(51,51,51)\"},\"marker\":{\"line\":{\"color\":\"rgb(237,237,237)\",\"width\":0.5},\"pattern\":{\"fillmode\":\"overlay\",\"size\":10,\"solidity\":0.2}},\"type\":\"bar\"}],\"carpet\":[{\"aaxis\":{\"endlinecolor\":\"rgb(51,51,51)\",\"gridcolor\":\"white\",\"linecolor\":\"white\",\"minorgridcolor\":\"white\",\"startlinecolor\":\"rgb(51,51,51)\"},\"baxis\":{\"endlinecolor\":\"rgb(51,51,51)\",\"gridcolor\":\"white\",\"linecolor\":\"white\",\"minorgridcolor\":\"white\",\"startlinecolor\":\"rgb(51,51,51)\"},\"type\":\"carpet\"}],\"choropleth\":[{\"colorbar\":{\"outlinewidth\":0,\"tickcolor\":\"rgb(237,237,237)\",\"ticklen\":6,\"ticks\":\"inside\"},\"type\":\"choropleth\"}],\"contourcarpet\":[{\"colorbar\":{\"outlinewidth\":0,\"tickcolor\":\"rgb(237,237,237)\",\"ticklen\":6,\"ticks\":\"inside\"},\"type\":\"contourcarpet\"}],\"contour\":[{\"colorbar\":{\"outlinewidth\":0,\"tickcolor\":\"rgb(237,237,237)\",\"ticklen\":6,\"ticks\":\"inside\"},\"colorscale\":[[0,\"rgb(20,44,66)\"],[1,\"rgb(90,179,244)\"]],\"type\":\"contour\"}],\"heatmapgl\":[{\"colorbar\":{\"outlinewidth\":0,\"tickcolor\":\"rgb(237,237,237)\",\"ticklen\":6,\"ticks\":\"inside\"},\"colorscale\":[[0,\"rgb(20,44,66)\"],[1,\"rgb(90,179,244)\"]],\"type\":\"heatmapgl\"}],\"heatmap\":[{\"colorbar\":{\"outlinewidth\":0,\"tickcolor\":\"rgb(237,237,237)\",\"ticklen\":6,\"ticks\":\"inside\"},\"colorscale\":[[0,\"rgb(20,44,66)\"],[1,\"rgb(90,179,244)\"]],\"type\":\"heatmap\"}],\"histogram2dcontour\":[{\"colorbar\":{\"outlinewidth\":0,\"tickcolor\":\"rgb(237,237,237)\",\"ticklen\":6,\"ticks\":\"inside\"},\"colorscale\":[[0,\"rgb(20,44,66)\"],[1,\"rgb(90,179,244)\"]],\"type\":\"histogram2dcontour\"}],\"histogram2d\":[{\"colorbar\":{\"outlinewidth\":0,\"tickcolor\":\"rgb(237,237,237)\",\"ticklen\":6,\"ticks\":\"inside\"},\"colorscale\":[[0,\"rgb(20,44,66)\"],[1,\"rgb(90,179,244)\"]],\"type\":\"histogram2d\"}],\"histogram\":[{\"marker\":{\"pattern\":{\"fillmode\":\"overlay\",\"size\":10,\"solidity\":0.2}},\"type\":\"histogram\"}],\"mesh3d\":[{\"colorbar\":{\"outlinewidth\":0,\"tickcolor\":\"rgb(237,237,237)\",\"ticklen\":6,\"ticks\":\"inside\"},\"type\":\"mesh3d\"}],\"parcoords\":[{\"line\":{\"colorbar\":{\"outlinewidth\":0,\"tickcolor\":\"rgb(237,237,237)\",\"ticklen\":6,\"ticks\":\"inside\"}},\"type\":\"parcoords\"}],\"pie\":[{\"automargin\":true,\"type\":\"pie\"}],\"scatter3d\":[{\"line\":{\"colorbar\":{\"outlinewidth\":0,\"tickcolor\":\"rgb(237,237,237)\",\"ticklen\":6,\"ticks\":\"inside\"}},\"marker\":{\"colorbar\":{\"outlinewidth\":0,\"tickcolor\":\"rgb(237,237,237)\",\"ticklen\":6,\"ticks\":\"inside\"}},\"type\":\"scatter3d\"}],\"scattercarpet\":[{\"marker\":{\"colorbar\":{\"outlinewidth\":0,\"tickcolor\":\"rgb(237,237,237)\",\"ticklen\":6,\"ticks\":\"inside\"}},\"type\":\"scattercarpet\"}],\"scattergeo\":[{\"marker\":{\"colorbar\":{\"outlinewidth\":0,\"tickcolor\":\"rgb(237,237,237)\",\"ticklen\":6,\"ticks\":\"inside\"}},\"type\":\"scattergeo\"}],\"scattergl\":[{\"marker\":{\"colorbar\":{\"outlinewidth\":0,\"tickcolor\":\"rgb(237,237,237)\",\"ticklen\":6,\"ticks\":\"inside\"}},\"type\":\"scattergl\"}],\"scattermapbox\":[{\"marker\":{\"colorbar\":{\"outlinewidth\":0,\"tickcolor\":\"rgb(237,237,237)\",\"ticklen\":6,\"ticks\":\"inside\"}},\"type\":\"scattermapbox\"}],\"scatterpolargl\":[{\"marker\":{\"colorbar\":{\"outlinewidth\":0,\"tickcolor\":\"rgb(237,237,237)\",\"ticklen\":6,\"ticks\":\"inside\"}},\"type\":\"scatterpolargl\"}],\"scatterpolar\":[{\"marker\":{\"colorbar\":{\"outlinewidth\":0,\"tickcolor\":\"rgb(237,237,237)\",\"ticklen\":6,\"ticks\":\"inside\"}},\"type\":\"scatterpolar\"}],\"scatter\":[{\"fillpattern\":{\"fillmode\":\"overlay\",\"size\":10,\"solidity\":0.2},\"type\":\"scatter\"}],\"scatterternary\":[{\"marker\":{\"colorbar\":{\"outlinewidth\":0,\"tickcolor\":\"rgb(237,237,237)\",\"ticklen\":6,\"ticks\":\"inside\"}},\"type\":\"scatterternary\"}],\"surface\":[{\"colorbar\":{\"outlinewidth\":0,\"tickcolor\":\"rgb(237,237,237)\",\"ticklen\":6,\"ticks\":\"inside\"},\"colorscale\":[[0,\"rgb(20,44,66)\"],[1,\"rgb(90,179,244)\"]],\"type\":\"surface\"}],\"table\":[{\"cells\":{\"fill\":{\"color\":\"rgb(237,237,237)\"},\"line\":{\"color\":\"white\"}},\"header\":{\"fill\":{\"color\":\"rgb(217,217,217)\"},\"line\":{\"color\":\"white\"}},\"type\":\"table\"}]},\"layout\":{\"annotationdefaults\":{\"arrowhead\":0,\"arrowwidth\":1},\"autotypenumbers\":\"strict\",\"coloraxis\":{\"colorbar\":{\"outlinewidth\":0,\"tickcolor\":\"rgb(237,237,237)\",\"ticklen\":6,\"ticks\":\"inside\"}},\"colorscale\":{\"sequential\":[[0,\"rgb(20,44,66)\"],[1,\"rgb(90,179,244)\"]],\"sequentialminus\":[[0,\"rgb(20,44,66)\"],[1,\"rgb(90,179,244)\"]]},\"colorway\":[\"#F8766D\",\"#A3A500\",\"#00BF7D\",\"#00B0F6\",\"#E76BF3\"],\"font\":{\"color\":\"rgb(51,51,51)\"},\"geo\":{\"bgcolor\":\"white\",\"lakecolor\":\"white\",\"landcolor\":\"rgb(237,237,237)\",\"showlakes\":true,\"showland\":true,\"subunitcolor\":\"white\"},\"hoverlabel\":{\"align\":\"left\"},\"hovermode\":\"closest\",\"paper_bgcolor\":\"white\",\"plot_bgcolor\":\"rgb(237,237,237)\",\"polar\":{\"angularaxis\":{\"gridcolor\":\"white\",\"linecolor\":\"white\",\"showgrid\":true,\"tickcolor\":\"rgb(51,51,51)\",\"ticks\":\"outside\"},\"bgcolor\":\"rgb(237,237,237)\",\"radialaxis\":{\"gridcolor\":\"white\",\"linecolor\":\"white\",\"showgrid\":true,\"tickcolor\":\"rgb(51,51,51)\",\"ticks\":\"outside\"}},\"scene\":{\"xaxis\":{\"backgroundcolor\":\"rgb(237,237,237)\",\"gridcolor\":\"white\",\"gridwidth\":2,\"linecolor\":\"white\",\"showbackground\":true,\"showgrid\":true,\"tickcolor\":\"rgb(51,51,51)\",\"ticks\":\"outside\",\"zerolinecolor\":\"white\"},\"yaxis\":{\"backgroundcolor\":\"rgb(237,237,237)\",\"gridcolor\":\"white\",\"gridwidth\":2,\"linecolor\":\"white\",\"showbackground\":true,\"showgrid\":true,\"tickcolor\":\"rgb(51,51,51)\",\"ticks\":\"outside\",\"zerolinecolor\":\"white\"},\"zaxis\":{\"backgroundcolor\":\"rgb(237,237,237)\",\"gridcolor\":\"white\",\"gridwidth\":2,\"linecolor\":\"white\",\"showbackground\":true,\"showgrid\":true,\"tickcolor\":\"rgb(51,51,51)\",\"ticks\":\"outside\",\"zerolinecolor\":\"white\"}},\"shapedefaults\":{\"fillcolor\":\"black\",\"line\":{\"width\":0},\"opacity\":0.3},\"ternary\":{\"aaxis\":{\"gridcolor\":\"white\",\"linecolor\":\"white\",\"showgrid\":true,\"tickcolor\":\"rgb(51,51,51)\",\"ticks\":\"outside\"},\"baxis\":{\"gridcolor\":\"white\",\"linecolor\":\"white\",\"showgrid\":true,\"tickcolor\":\"rgb(51,51,51)\",\"ticks\":\"outside\"},\"bgcolor\":\"rgb(237,237,237)\",\"caxis\":{\"gridcolor\":\"white\",\"linecolor\":\"white\",\"showgrid\":true,\"tickcolor\":\"rgb(51,51,51)\",\"ticks\":\"outside\"}},\"xaxis\":{\"automargin\":true,\"gridcolor\":\"white\",\"linecolor\":\"white\",\"showgrid\":true,\"tickcolor\":\"rgb(51,51,51)\",\"ticks\":\"outside\",\"title\":{\"standoff\":15},\"zerolinecolor\":\"white\"},\"yaxis\":{\"automargin\":true,\"gridcolor\":\"white\",\"linecolor\":\"white\",\"showgrid\":true,\"tickcolor\":\"rgb(51,51,51)\",\"ticks\":\"outside\",\"title\":{\"standoff\":15},\"zerolinecolor\":\"white\"}}},\"legend\":{\"orientation\":\"h\",\"yanchor\":\"bottom\",\"y\":0,\"xanchor\":\"center\",\"x\":0.5},\"margin\":{\"b\":0,\"t\":0,\"l\":0,\"r\":0},\"height\":325},                        {\"responsive\": true}                    ).then(function(){\n",
       "                            \n",
       "var gd = document.getElementById('f8161487-b6c0-46ac-9bfe-0407bfc9bb8a');\n",
       "var x = new MutationObserver(function (mutations, observer) {{\n",
       "        var display = window.getComputedStyle(gd).display;\n",
       "        if (!display || display === 'none') {{\n",
       "            console.log([gd, 'removed!']);\n",
       "            Plotly.purge(gd);\n",
       "            observer.disconnect();\n",
       "        }}\n",
       "}});\n",
       "\n",
       "// Listen for the removal of the full notebook cells\n",
       "var notebookContainer = gd.closest('#notebook-container');\n",
       "if (notebookContainer) {{\n",
       "    x.observe(notebookContainer, {childList: true});\n",
       "}}\n",
       "\n",
       "// Listen for the clearing of the current output cell\n",
       "var outputEl = gd.closest('.output');\n",
       "if (outputEl) {{\n",
       "    x.observe(outputEl, {childList: true});\n",
       "}}\n",
       "\n",
       "                        })                };                });            </script>        </div>"
      ]
     },
     "metadata": {},
     "output_type": "display_data"
    }
   ],
   "source": [
    "draw_admit_mh_issue_in_interview_plt(country)"
   ]
  },
  {
   "cell_type": "markdown",
   "metadata": {
    "id": "7M5CqTg6KpEG"
   },
   "source": [
    "#### line chart for yes responses Vs years years"
   ]
  },
  {
   "cell_type": "code",
   "execution_count": 30,
   "metadata": {
    "executionInfo": {
     "elapsed": 62,
     "status": "aborted",
     "timestamp": 1654337002857,
     "user": {
      "displayName": "habiba mohamed",
      "userId": "01346726008568088997"
     },
     "user_tz": -120
    },
    "id": "tmMPIka0KpEG"
   },
   "outputs": [
    {
     "data": {
      "text/html": [
       "<div>                            <div id=\"c8cc8a12-d7da-4469-b1a1-236ed5398a47\" class=\"plotly-graph-div\" style=\"height:350px; width:100%;\"></div>            <script type=\"text/javascript\">                require([\"plotly\"], function(Plotly) {                    window.PLOTLYENV=window.PLOTLYENV || {};                                    if (document.getElementById(\"c8cc8a12-d7da-4469-b1a1-236ed5398a47\")) {                    Plotly.newPlot(                        \"c8cc8a12-d7da-4469-b1a1-236ed5398a47\",                        [{\"line\":{\"color\":\"#622569\",\"width\":4},\"name\":\"Physical\",\"x\":[\"2017\",\"2018\",\"2019\",\"2020\"],\"y\":[18,18,23,33],\"type\":\"scatter\"},{\"line\":{\"color\":\"#5b9aa0\",\"dash\":\"dash\",\"width\":4},\"name\":\"Mental\",\"x\":[\"2017\",\"2018\",\"2019\",\"2020\"],\"y\":[4,3,6,3],\"type\":\"scatter\"}],                        {\"template\":{\"data\":{\"histogram2dcontour\":[{\"type\":\"histogram2dcontour\",\"colorbar\":{\"outlinewidth\":0,\"ticks\":\"\"},\"colorscale\":[[0.0,\"#0d0887\"],[0.1111111111111111,\"#46039f\"],[0.2222222222222222,\"#7201a8\"],[0.3333333333333333,\"#9c179e\"],[0.4444444444444444,\"#bd3786\"],[0.5555555555555556,\"#d8576b\"],[0.6666666666666666,\"#ed7953\"],[0.7777777777777778,\"#fb9f3a\"],[0.8888888888888888,\"#fdca26\"],[1.0,\"#f0f921\"]]}],\"choropleth\":[{\"type\":\"choropleth\",\"colorbar\":{\"outlinewidth\":0,\"ticks\":\"\"}}],\"histogram2d\":[{\"type\":\"histogram2d\",\"colorbar\":{\"outlinewidth\":0,\"ticks\":\"\"},\"colorscale\":[[0.0,\"#0d0887\"],[0.1111111111111111,\"#46039f\"],[0.2222222222222222,\"#7201a8\"],[0.3333333333333333,\"#9c179e\"],[0.4444444444444444,\"#bd3786\"],[0.5555555555555556,\"#d8576b\"],[0.6666666666666666,\"#ed7953\"],[0.7777777777777778,\"#fb9f3a\"],[0.8888888888888888,\"#fdca26\"],[1.0,\"#f0f921\"]]}],\"heatmap\":[{\"type\":\"heatmap\",\"colorbar\":{\"outlinewidth\":0,\"ticks\":\"\"},\"colorscale\":[[0.0,\"#0d0887\"],[0.1111111111111111,\"#46039f\"],[0.2222222222222222,\"#7201a8\"],[0.3333333333333333,\"#9c179e\"],[0.4444444444444444,\"#bd3786\"],[0.5555555555555556,\"#d8576b\"],[0.6666666666666666,\"#ed7953\"],[0.7777777777777778,\"#fb9f3a\"],[0.8888888888888888,\"#fdca26\"],[1.0,\"#f0f921\"]]}],\"heatmapgl\":[{\"type\":\"heatmapgl\",\"colorbar\":{\"outlinewidth\":0,\"ticks\":\"\"},\"colorscale\":[[0.0,\"#0d0887\"],[0.1111111111111111,\"#46039f\"],[0.2222222222222222,\"#7201a8\"],[0.3333333333333333,\"#9c179e\"],[0.4444444444444444,\"#bd3786\"],[0.5555555555555556,\"#d8576b\"],[0.6666666666666666,\"#ed7953\"],[0.7777777777777778,\"#fb9f3a\"],[0.8888888888888888,\"#fdca26\"],[1.0,\"#f0f921\"]]}],\"contourcarpet\":[{\"type\":\"contourcarpet\",\"colorbar\":{\"outlinewidth\":0,\"ticks\":\"\"}}],\"contour\":[{\"type\":\"contour\",\"colorbar\":{\"outlinewidth\":0,\"ticks\":\"\"},\"colorscale\":[[0.0,\"#0d0887\"],[0.1111111111111111,\"#46039f\"],[0.2222222222222222,\"#7201a8\"],[0.3333333333333333,\"#9c179e\"],[0.4444444444444444,\"#bd3786\"],[0.5555555555555556,\"#d8576b\"],[0.6666666666666666,\"#ed7953\"],[0.7777777777777778,\"#fb9f3a\"],[0.8888888888888888,\"#fdca26\"],[1.0,\"#f0f921\"]]}],\"surface\":[{\"type\":\"surface\",\"colorbar\":{\"outlinewidth\":0,\"ticks\":\"\"},\"colorscale\":[[0.0,\"#0d0887\"],[0.1111111111111111,\"#46039f\"],[0.2222222222222222,\"#7201a8\"],[0.3333333333333333,\"#9c179e\"],[0.4444444444444444,\"#bd3786\"],[0.5555555555555556,\"#d8576b\"],[0.6666666666666666,\"#ed7953\"],[0.7777777777777778,\"#fb9f3a\"],[0.8888888888888888,\"#fdca26\"],[1.0,\"#f0f921\"]]}],\"mesh3d\":[{\"type\":\"mesh3d\",\"colorbar\":{\"outlinewidth\":0,\"ticks\":\"\"}}],\"scatter\":[{\"fillpattern\":{\"fillmode\":\"overlay\",\"size\":10,\"solidity\":0.2},\"type\":\"scatter\"}],\"parcoords\":[{\"type\":\"parcoords\",\"line\":{\"colorbar\":{\"outlinewidth\":0,\"ticks\":\"\"}}}],\"scatterpolargl\":[{\"type\":\"scatterpolargl\",\"marker\":{\"colorbar\":{\"outlinewidth\":0,\"ticks\":\"\"}}}],\"bar\":[{\"error_x\":{\"color\":\"#2a3f5f\"},\"error_y\":{\"color\":\"#2a3f5f\"},\"marker\":{\"line\":{\"color\":\"#E5ECF6\",\"width\":0.5},\"pattern\":{\"fillmode\":\"overlay\",\"size\":10,\"solidity\":0.2}},\"type\":\"bar\"}],\"scattergeo\":[{\"type\":\"scattergeo\",\"marker\":{\"colorbar\":{\"outlinewidth\":0,\"ticks\":\"\"}}}],\"scatterpolar\":[{\"type\":\"scatterpolar\",\"marker\":{\"colorbar\":{\"outlinewidth\":0,\"ticks\":\"\"}}}],\"histogram\":[{\"marker\":{\"pattern\":{\"fillmode\":\"overlay\",\"size\":10,\"solidity\":0.2}},\"type\":\"histogram\"}],\"scattergl\":[{\"type\":\"scattergl\",\"marker\":{\"colorbar\":{\"outlinewidth\":0,\"ticks\":\"\"}}}],\"scatter3d\":[{\"type\":\"scatter3d\",\"line\":{\"colorbar\":{\"outlinewidth\":0,\"ticks\":\"\"}},\"marker\":{\"colorbar\":{\"outlinewidth\":0,\"ticks\":\"\"}}}],\"scattermapbox\":[{\"type\":\"scattermapbox\",\"marker\":{\"colorbar\":{\"outlinewidth\":0,\"ticks\":\"\"}}}],\"scatterternary\":[{\"type\":\"scatterternary\",\"marker\":{\"colorbar\":{\"outlinewidth\":0,\"ticks\":\"\"}}}],\"scattercarpet\":[{\"type\":\"scattercarpet\",\"marker\":{\"colorbar\":{\"outlinewidth\":0,\"ticks\":\"\"}}}],\"carpet\":[{\"aaxis\":{\"endlinecolor\":\"#2a3f5f\",\"gridcolor\":\"white\",\"linecolor\":\"white\",\"minorgridcolor\":\"white\",\"startlinecolor\":\"#2a3f5f\"},\"baxis\":{\"endlinecolor\":\"#2a3f5f\",\"gridcolor\":\"white\",\"linecolor\":\"white\",\"minorgridcolor\":\"white\",\"startlinecolor\":\"#2a3f5f\"},\"type\":\"carpet\"}],\"table\":[{\"cells\":{\"fill\":{\"color\":\"#EBF0F8\"},\"line\":{\"color\":\"white\"}},\"header\":{\"fill\":{\"color\":\"#C8D4E3\"},\"line\":{\"color\":\"white\"}},\"type\":\"table\"}],\"barpolar\":[{\"marker\":{\"line\":{\"color\":\"#E5ECF6\",\"width\":0.5},\"pattern\":{\"fillmode\":\"overlay\",\"size\":10,\"solidity\":0.2}},\"type\":\"barpolar\"}],\"pie\":[{\"automargin\":true,\"type\":\"pie\"}]},\"layout\":{\"autotypenumbers\":\"strict\",\"colorway\":[\"#636efa\",\"#EF553B\",\"#00cc96\",\"#ab63fa\",\"#FFA15A\",\"#19d3f3\",\"#FF6692\",\"#B6E880\",\"#FF97FF\",\"#FECB52\"],\"font\":{\"color\":\"#2a3f5f\"},\"hovermode\":\"closest\",\"hoverlabel\":{\"align\":\"left\"},\"paper_bgcolor\":\"white\",\"plot_bgcolor\":\"#E5ECF6\",\"polar\":{\"bgcolor\":\"#E5ECF6\",\"angularaxis\":{\"gridcolor\":\"white\",\"linecolor\":\"white\",\"ticks\":\"\"},\"radialaxis\":{\"gridcolor\":\"white\",\"linecolor\":\"white\",\"ticks\":\"\"}},\"ternary\":{\"bgcolor\":\"#E5ECF6\",\"aaxis\":{\"gridcolor\":\"white\",\"linecolor\":\"white\",\"ticks\":\"\"},\"baxis\":{\"gridcolor\":\"white\",\"linecolor\":\"white\",\"ticks\":\"\"},\"caxis\":{\"gridcolor\":\"white\",\"linecolor\":\"white\",\"ticks\":\"\"}},\"coloraxis\":{\"colorbar\":{\"outlinewidth\":0,\"ticks\":\"\"}},\"colorscale\":{\"sequential\":[[0.0,\"#0d0887\"],[0.1111111111111111,\"#46039f\"],[0.2222222222222222,\"#7201a8\"],[0.3333333333333333,\"#9c179e\"],[0.4444444444444444,\"#bd3786\"],[0.5555555555555556,\"#d8576b\"],[0.6666666666666666,\"#ed7953\"],[0.7777777777777778,\"#fb9f3a\"],[0.8888888888888888,\"#fdca26\"],[1.0,\"#f0f921\"]],\"sequentialminus\":[[0.0,\"#0d0887\"],[0.1111111111111111,\"#46039f\"],[0.2222222222222222,\"#7201a8\"],[0.3333333333333333,\"#9c179e\"],[0.4444444444444444,\"#bd3786\"],[0.5555555555555556,\"#d8576b\"],[0.6666666666666666,\"#ed7953\"],[0.7777777777777778,\"#fb9f3a\"],[0.8888888888888888,\"#fdca26\"],[1.0,\"#f0f921\"]],\"diverging\":[[0,\"#8e0152\"],[0.1,\"#c51b7d\"],[0.2,\"#de77ae\"],[0.3,\"#f1b6da\"],[0.4,\"#fde0ef\"],[0.5,\"#f7f7f7\"],[0.6,\"#e6f5d0\"],[0.7,\"#b8e186\"],[0.8,\"#7fbc41\"],[0.9,\"#4d9221\"],[1,\"#276419\"]]},\"xaxis\":{\"gridcolor\":\"white\",\"linecolor\":\"white\",\"ticks\":\"\",\"title\":{\"standoff\":15},\"zerolinecolor\":\"white\",\"automargin\":true,\"zerolinewidth\":2},\"yaxis\":{\"gridcolor\":\"white\",\"linecolor\":\"white\",\"ticks\":\"\",\"title\":{\"standoff\":15},\"zerolinecolor\":\"white\",\"automargin\":true,\"zerolinewidth\":2},\"scene\":{\"xaxis\":{\"backgroundcolor\":\"#E5ECF6\",\"gridcolor\":\"white\",\"linecolor\":\"white\",\"showbackground\":true,\"ticks\":\"\",\"zerolinecolor\":\"white\",\"gridwidth\":2},\"yaxis\":{\"backgroundcolor\":\"#E5ECF6\",\"gridcolor\":\"white\",\"linecolor\":\"white\",\"showbackground\":true,\"ticks\":\"\",\"zerolinecolor\":\"white\",\"gridwidth\":2},\"zaxis\":{\"backgroundcolor\":\"#E5ECF6\",\"gridcolor\":\"white\",\"linecolor\":\"white\",\"showbackground\":true,\"ticks\":\"\",\"zerolinecolor\":\"white\",\"gridwidth\":2}},\"shapedefaults\":{\"line\":{\"color\":\"#2a3f5f\"}},\"annotationdefaults\":{\"arrowcolor\":\"#2a3f5f\",\"arrowhead\":0,\"arrowwidth\":1},\"geo\":{\"bgcolor\":\"white\",\"landcolor\":\"#E5ECF6\",\"subunitcolor\":\"white\",\"showland\":true,\"showlakes\":true,\"lakecolor\":\"white\"},\"title\":{\"x\":0.05},\"mapbox\":{\"style\":\"light\"}}},\"yaxis\":{\"range\":[0,100],\"title\":{\"text\":\"Percent\"}},\"legend\":{\"xanchor\":\"right\",\"x\":1,\"title\":{\"text\":\"IN USA : \"}},\"margin\":{\"b\":0,\"t\":0,\"l\":0,\"r\":0},\"title\":{\"font\":{\"size\":14}},\"xaxis\":{\"title\":{\"text\":\"Year\"}},\"height\":350},                        {\"responsive\": true}                    ).then(function(){\n",
       "                            \n",
       "var gd = document.getElementById('c8cc8a12-d7da-4469-b1a1-236ed5398a47');\n",
       "var x = new MutationObserver(function (mutations, observer) {{\n",
       "        var display = window.getComputedStyle(gd).display;\n",
       "        if (!display || display === 'none') {{\n",
       "            console.log([gd, 'removed!']);\n",
       "            Plotly.purge(gd);\n",
       "            observer.disconnect();\n",
       "        }}\n",
       "}});\n",
       "\n",
       "// Listen for the removal of the full notebook cells\n",
       "var notebookContainer = gd.closest('#notebook-container');\n",
       "if (notebookContainer) {{\n",
       "    x.observe(notebookContainer, {childList: true});\n",
       "}}\n",
       "\n",
       "// Listen for the clearing of the current output cell\n",
       "var outputEl = gd.closest('.output');\n",
       "if (outputEl) {{\n",
       "    x.observe(outputEl, {childList: true});\n",
       "}}\n",
       "\n",
       "                        })                };                });            </script>        </div>"
      ]
     },
     "metadata": {},
     "output_type": "display_data"
    }
   ],
   "source": [
    "def draw_MH_interview (country): \n",
    "\n",
    "   ############################################## Calculations #################################################\n",
    "   admit_ph_issue_in_interview  = prep_data[prep_data['tech_role_flag'] == 1 ][['year', 'country_work_in', 'admit_ph_issue_in_interview']]\\\n",
    "            .groupby(by = ['year', 'country_work_in'])\\\n",
    "            .size().reset_index().sort_values(by=['year','country_work_in']).rename(columns = {0 : 'no.samples'})\n",
    "   admit_mh_issue_in_interview  = prep_data[prep_data['tech_role_flag'] == 1 ][['year', 'country_work_in', 'admit_mh_issue_in_interview']]\\\n",
    "               .groupby(by = ['year', 'country_work_in'])\\\n",
    "               .size().reset_index().sort_values(by=['year','country_work_in']).rename(columns = {0 : 'no.samples'})\n",
    "\n",
    "   ####------------------- admit physical health problems in an interview -----------------####\n",
    "   #### Get the avarage of each country by its own (yes, no, maybe) / no.samples each years to avoid imbalance \n",
    "   ## build my dataframe\n",
    "   admit_ph_issue_in_interview_avg  = prep_data[(prep_data['tech_role_flag'] == 1 ) & ( np.isin(prep_data['country_work_in'], country))][['year', 'country_work_in', 'admit_ph_issue_in_interview']]\\\n",
    "               .groupby(by = ['year', 'country_work_in', 'admit_ph_issue_in_interview' ])\\\n",
    "               .size().reset_index().sort_values(by=['year','country_work_in']).rename(columns = {0 : 'count'})\n",
    "   admit_ph_issue_in_interview_avg['Avg'] = 0 \n",
    "   ## get the avarage for each country\n",
    "   for outer_row, outer_col in admit_ph_issue_in_interview.iterrows() :\n",
    "      avg_year = outer_col['year']\n",
    "      avg_country_work_in = outer_col['country_work_in']\n",
    "      no_samples = outer_col['no.samples']\n",
    "      for inside_row, inside_col in admit_ph_issue_in_interview_avg.iterrows() :\n",
    "         year = inside_col['year']\n",
    "         country_work_in = inside_col['country_work_in']\n",
    "         count = inside_col['count']\n",
    "         Avg = inside_col['Avg']\n",
    "         if year == avg_year and country_work_in == avg_country_work_in:\n",
    "               admit_ph_issue_in_interview_avg['Avg'][inside_row] = round((count / no_samples) * 100)\n",
    "   ## my responses for each country   \n",
    "   yes_for_ph = admit_ph_issue_in_interview_avg[admit_ph_issue_in_interview_avg['admit_ph_issue_in_interview'] == 2]\n",
    "   No_for_ph = admit_ph_issue_in_interview_avg[admit_ph_issue_in_interview_avg['admit_ph_issue_in_interview'] == 1]\n",
    "   maybe_for_ph = admit_ph_issue_in_interview_avg[admit_ph_issue_in_interview_avg['admit_ph_issue_in_interview'] == 0]\n",
    "\n",
    "   ####------------------ admit Mental health problems in an interview -------------------####\n",
    "\n",
    "   #### Get the avarage of each country by its own (yes, no, maybe) / no.samples each years to avoid imbalance \n",
    "   ## build my dataframe\n",
    "   admit_mh_issue_in_interview_avg  = prep_data[(prep_data['tech_role_flag'] == 1 ) & ( np.isin(prep_data['country_work_in'], country))][['year', 'country_work_in', 'admit_mh_issue_in_interview']]\\\n",
    "               .groupby(by = ['year', 'country_work_in', 'admit_mh_issue_in_interview' ])\\\n",
    "               .size().reset_index().sort_values(by=['year','country_work_in']).rename(columns = {0 : 'count'})\n",
    "   admit_mh_issue_in_interview_avg['Avg'] = 0 \n",
    "   ## get the avarage for each country\n",
    "   for outer_row, outer_col in admit_mh_issue_in_interview.iterrows() :\n",
    "      avg_year = outer_col['year']\n",
    "      avg_country_work_in = outer_col['country_work_in']\n",
    "      no_samples = outer_col['no.samples']\n",
    "      for inside_row, inside_col in admit_mh_issue_in_interview_avg.iterrows() :\n",
    "         year = inside_col['year']\n",
    "         country_work_in = inside_col['country_work_in']\n",
    "         count = inside_col['count']\n",
    "         Avg = inside_col['Avg']\n",
    "         if year == avg_year and country_work_in == avg_country_work_in:\n",
    "               admit_mh_issue_in_interview_avg['Avg'][inside_row] = round((count / no_samples) * 100)\n",
    "   ## my responses for each country   \n",
    "   yes_for_mh = admit_mh_issue_in_interview_avg[admit_mh_issue_in_interview_avg['admit_mh_issue_in_interview'] == 2]\n",
    "   No_for_mh = admit_mh_issue_in_interview_avg[admit_mh_issue_in_interview_avg['admit_mh_issue_in_interview'] == 1]\n",
    "   maybe_for_mh = admit_mh_issue_in_interview_avg[admit_mh_issue_in_interview_avg['admit_mh_issue_in_interview'] == 0]\n",
    "\n",
    "   ################################################## Plot  ####################################################\n",
    "   MH_interview = go.Figure()\n",
    "   MH_interview.add_trace(go.Scatter(x=yes_for_ph['year'], y=yes_for_ph['Avg'], name='Physical',\n",
    "                           line=dict(color='#622569', width=4)))\n",
    "   MH_interview.add_trace(go.Scatter(x=yes_for_mh['year'], y=yes_for_mh['Avg'], name='Mental',\n",
    "                           line=dict(color='#5b9aa0', width=4, dash='dash')))\n",
    "\n",
    "   MH_interview.update_yaxes(range = [0, 100])\n",
    "   MH_interview.update_layout(\n",
    "                     xaxis_title='Year',\n",
    "                     yaxis_title='Percent', \n",
    "                     legend=dict(xanchor = 'right', x = 1),\n",
    "                     legend_title = (f'IN {country} : '),\n",
    "                     margin=dict(b = 0, t = 0, l = 0, r = 0),\n",
    "                     title_font_size = 14,\n",
    "                     height = 350 \n",
    "                     )\n",
    "   return MH_interview\n",
    "draw_MH_interview (\"USA\")"
   ]
  },
  {
   "cell_type": "markdown",
   "metadata": {},
   "source": [
    "### Does your employer offer resources/ wellness campaign to learn more about mental health disorders and options for seeking help?"
   ]
  },
  {
   "cell_type": "code",
   "execution_count": 31,
   "metadata": {},
   "outputs": [
    {
     "data": {
      "text/html": [
       "<div>                            <div id=\"c52b3cd3-7998-4b71-84d9-5220441f6600\" class=\"plotly-graph-div\" style=\"height:400px; width:100%;\"></div>            <script type=\"text/javascript\">                require([\"plotly\"], function(Plotly) {                    window.PLOTLYENV=window.PLOTLYENV || {};                                    if (document.getElementById(\"c52b3cd3-7998-4b71-84d9-5220441f6600\")) {                    Plotly.newPlot(                        \"c52b3cd3-7998-4b71-84d9-5220441f6600\",                        [{\"hole\":0.6,\"labels\":[\"No\",\"I don't know\",\"Yes\"],\"pull\":[0,0,0.15,0],\"rotation\":30,\"values\":[0.4446227929373997,0.2552166934189406,0.3001605136436597],\"type\":\"pie\",\"marker\":{\"line\":{\"color\":\"#FFF\",\"width\":2},\"colors\":[\"#622569\",\"#b7d7e8\",\"#5b9aa0\"]},\"textfont\":{\"size\":12},\"title\":{\"text\":\"Resources Provided\",\"font\":{\"size\":15},\"position\":\"middle center\"},\"hoverinfo\":\"label+percent\"}],                        {\"template\":{\"data\":{\"histogram2dcontour\":[{\"type\":\"histogram2dcontour\",\"colorbar\":{\"outlinewidth\":0,\"ticks\":\"\"},\"colorscale\":[[0.0,\"#0d0887\"],[0.1111111111111111,\"#46039f\"],[0.2222222222222222,\"#7201a8\"],[0.3333333333333333,\"#9c179e\"],[0.4444444444444444,\"#bd3786\"],[0.5555555555555556,\"#d8576b\"],[0.6666666666666666,\"#ed7953\"],[0.7777777777777778,\"#fb9f3a\"],[0.8888888888888888,\"#fdca26\"],[1.0,\"#f0f921\"]]}],\"choropleth\":[{\"type\":\"choropleth\",\"colorbar\":{\"outlinewidth\":0,\"ticks\":\"\"}}],\"histogram2d\":[{\"type\":\"histogram2d\",\"colorbar\":{\"outlinewidth\":0,\"ticks\":\"\"},\"colorscale\":[[0.0,\"#0d0887\"],[0.1111111111111111,\"#46039f\"],[0.2222222222222222,\"#7201a8\"],[0.3333333333333333,\"#9c179e\"],[0.4444444444444444,\"#bd3786\"],[0.5555555555555556,\"#d8576b\"],[0.6666666666666666,\"#ed7953\"],[0.7777777777777778,\"#fb9f3a\"],[0.8888888888888888,\"#fdca26\"],[1.0,\"#f0f921\"]]}],\"heatmap\":[{\"type\":\"heatmap\",\"colorbar\":{\"outlinewidth\":0,\"ticks\":\"\"},\"colorscale\":[[0.0,\"#0d0887\"],[0.1111111111111111,\"#46039f\"],[0.2222222222222222,\"#7201a8\"],[0.3333333333333333,\"#9c179e\"],[0.4444444444444444,\"#bd3786\"],[0.5555555555555556,\"#d8576b\"],[0.6666666666666666,\"#ed7953\"],[0.7777777777777778,\"#fb9f3a\"],[0.8888888888888888,\"#fdca26\"],[1.0,\"#f0f921\"]]}],\"heatmapgl\":[{\"type\":\"heatmapgl\",\"colorbar\":{\"outlinewidth\":0,\"ticks\":\"\"},\"colorscale\":[[0.0,\"#0d0887\"],[0.1111111111111111,\"#46039f\"],[0.2222222222222222,\"#7201a8\"],[0.3333333333333333,\"#9c179e\"],[0.4444444444444444,\"#bd3786\"],[0.5555555555555556,\"#d8576b\"],[0.6666666666666666,\"#ed7953\"],[0.7777777777777778,\"#fb9f3a\"],[0.8888888888888888,\"#fdca26\"],[1.0,\"#f0f921\"]]}],\"contourcarpet\":[{\"type\":\"contourcarpet\",\"colorbar\":{\"outlinewidth\":0,\"ticks\":\"\"}}],\"contour\":[{\"type\":\"contour\",\"colorbar\":{\"outlinewidth\":0,\"ticks\":\"\"},\"colorscale\":[[0.0,\"#0d0887\"],[0.1111111111111111,\"#46039f\"],[0.2222222222222222,\"#7201a8\"],[0.3333333333333333,\"#9c179e\"],[0.4444444444444444,\"#bd3786\"],[0.5555555555555556,\"#d8576b\"],[0.6666666666666666,\"#ed7953\"],[0.7777777777777778,\"#fb9f3a\"],[0.8888888888888888,\"#fdca26\"],[1.0,\"#f0f921\"]]}],\"surface\":[{\"type\":\"surface\",\"colorbar\":{\"outlinewidth\":0,\"ticks\":\"\"},\"colorscale\":[[0.0,\"#0d0887\"],[0.1111111111111111,\"#46039f\"],[0.2222222222222222,\"#7201a8\"],[0.3333333333333333,\"#9c179e\"],[0.4444444444444444,\"#bd3786\"],[0.5555555555555556,\"#d8576b\"],[0.6666666666666666,\"#ed7953\"],[0.7777777777777778,\"#fb9f3a\"],[0.8888888888888888,\"#fdca26\"],[1.0,\"#f0f921\"]]}],\"mesh3d\":[{\"type\":\"mesh3d\",\"colorbar\":{\"outlinewidth\":0,\"ticks\":\"\"}}],\"scatter\":[{\"fillpattern\":{\"fillmode\":\"overlay\",\"size\":10,\"solidity\":0.2},\"type\":\"scatter\"}],\"parcoords\":[{\"type\":\"parcoords\",\"line\":{\"colorbar\":{\"outlinewidth\":0,\"ticks\":\"\"}}}],\"scatterpolargl\":[{\"type\":\"scatterpolargl\",\"marker\":{\"colorbar\":{\"outlinewidth\":0,\"ticks\":\"\"}}}],\"bar\":[{\"error_x\":{\"color\":\"#2a3f5f\"},\"error_y\":{\"color\":\"#2a3f5f\"},\"marker\":{\"line\":{\"color\":\"#E5ECF6\",\"width\":0.5},\"pattern\":{\"fillmode\":\"overlay\",\"size\":10,\"solidity\":0.2}},\"type\":\"bar\"}],\"scattergeo\":[{\"type\":\"scattergeo\",\"marker\":{\"colorbar\":{\"outlinewidth\":0,\"ticks\":\"\"}}}],\"scatterpolar\":[{\"type\":\"scatterpolar\",\"marker\":{\"colorbar\":{\"outlinewidth\":0,\"ticks\":\"\"}}}],\"histogram\":[{\"marker\":{\"pattern\":{\"fillmode\":\"overlay\",\"size\":10,\"solidity\":0.2}},\"type\":\"histogram\"}],\"scattergl\":[{\"type\":\"scattergl\",\"marker\":{\"colorbar\":{\"outlinewidth\":0,\"ticks\":\"\"}}}],\"scatter3d\":[{\"type\":\"scatter3d\",\"line\":{\"colorbar\":{\"outlinewidth\":0,\"ticks\":\"\"}},\"marker\":{\"colorbar\":{\"outlinewidth\":0,\"ticks\":\"\"}}}],\"scattermapbox\":[{\"type\":\"scattermapbox\",\"marker\":{\"colorbar\":{\"outlinewidth\":0,\"ticks\":\"\"}}}],\"scatterternary\":[{\"type\":\"scatterternary\",\"marker\":{\"colorbar\":{\"outlinewidth\":0,\"ticks\":\"\"}}}],\"scattercarpet\":[{\"type\":\"scattercarpet\",\"marker\":{\"colorbar\":{\"outlinewidth\":0,\"ticks\":\"\"}}}],\"carpet\":[{\"aaxis\":{\"endlinecolor\":\"#2a3f5f\",\"gridcolor\":\"white\",\"linecolor\":\"white\",\"minorgridcolor\":\"white\",\"startlinecolor\":\"#2a3f5f\"},\"baxis\":{\"endlinecolor\":\"#2a3f5f\",\"gridcolor\":\"white\",\"linecolor\":\"white\",\"minorgridcolor\":\"white\",\"startlinecolor\":\"#2a3f5f\"},\"type\":\"carpet\"}],\"table\":[{\"cells\":{\"fill\":{\"color\":\"#EBF0F8\"},\"line\":{\"color\":\"white\"}},\"header\":{\"fill\":{\"color\":\"#C8D4E3\"},\"line\":{\"color\":\"white\"}},\"type\":\"table\"}],\"barpolar\":[{\"marker\":{\"line\":{\"color\":\"#E5ECF6\",\"width\":0.5},\"pattern\":{\"fillmode\":\"overlay\",\"size\":10,\"solidity\":0.2}},\"type\":\"barpolar\"}],\"pie\":[{\"automargin\":true,\"type\":\"pie\"}]},\"layout\":{\"autotypenumbers\":\"strict\",\"colorway\":[\"#636efa\",\"#EF553B\",\"#00cc96\",\"#ab63fa\",\"#FFA15A\",\"#19d3f3\",\"#FF6692\",\"#B6E880\",\"#FF97FF\",\"#FECB52\"],\"font\":{\"color\":\"#2a3f5f\"},\"hovermode\":\"closest\",\"hoverlabel\":{\"align\":\"left\"},\"paper_bgcolor\":\"white\",\"plot_bgcolor\":\"#E5ECF6\",\"polar\":{\"bgcolor\":\"#E5ECF6\",\"angularaxis\":{\"gridcolor\":\"white\",\"linecolor\":\"white\",\"ticks\":\"\"},\"radialaxis\":{\"gridcolor\":\"white\",\"linecolor\":\"white\",\"ticks\":\"\"}},\"ternary\":{\"bgcolor\":\"#E5ECF6\",\"aaxis\":{\"gridcolor\":\"white\",\"linecolor\":\"white\",\"ticks\":\"\"},\"baxis\":{\"gridcolor\":\"white\",\"linecolor\":\"white\",\"ticks\":\"\"},\"caxis\":{\"gridcolor\":\"white\",\"linecolor\":\"white\",\"ticks\":\"\"}},\"coloraxis\":{\"colorbar\":{\"outlinewidth\":0,\"ticks\":\"\"}},\"colorscale\":{\"sequential\":[[0.0,\"#0d0887\"],[0.1111111111111111,\"#46039f\"],[0.2222222222222222,\"#7201a8\"],[0.3333333333333333,\"#9c179e\"],[0.4444444444444444,\"#bd3786\"],[0.5555555555555556,\"#d8576b\"],[0.6666666666666666,\"#ed7953\"],[0.7777777777777778,\"#fb9f3a\"],[0.8888888888888888,\"#fdca26\"],[1.0,\"#f0f921\"]],\"sequentialminus\":[[0.0,\"#0d0887\"],[0.1111111111111111,\"#46039f\"],[0.2222222222222222,\"#7201a8\"],[0.3333333333333333,\"#9c179e\"],[0.4444444444444444,\"#bd3786\"],[0.5555555555555556,\"#d8576b\"],[0.6666666666666666,\"#ed7953\"],[0.7777777777777778,\"#fb9f3a\"],[0.8888888888888888,\"#fdca26\"],[1.0,\"#f0f921\"]],\"diverging\":[[0,\"#8e0152\"],[0.1,\"#c51b7d\"],[0.2,\"#de77ae\"],[0.3,\"#f1b6da\"],[0.4,\"#fde0ef\"],[0.5,\"#f7f7f7\"],[0.6,\"#e6f5d0\"],[0.7,\"#b8e186\"],[0.8,\"#7fbc41\"],[0.9,\"#4d9221\"],[1,\"#276419\"]]},\"xaxis\":{\"gridcolor\":\"white\",\"linecolor\":\"white\",\"ticks\":\"\",\"title\":{\"standoff\":15},\"zerolinecolor\":\"white\",\"automargin\":true,\"zerolinewidth\":2},\"yaxis\":{\"gridcolor\":\"white\",\"linecolor\":\"white\",\"ticks\":\"\",\"title\":{\"standoff\":15},\"zerolinecolor\":\"white\",\"automargin\":true,\"zerolinewidth\":2},\"scene\":{\"xaxis\":{\"backgroundcolor\":\"#E5ECF6\",\"gridcolor\":\"white\",\"linecolor\":\"white\",\"showbackground\":true,\"ticks\":\"\",\"zerolinecolor\":\"white\",\"gridwidth\":2},\"yaxis\":{\"backgroundcolor\":\"#E5ECF6\",\"gridcolor\":\"white\",\"linecolor\":\"white\",\"showbackground\":true,\"ticks\":\"\",\"zerolinecolor\":\"white\",\"gridwidth\":2},\"zaxis\":{\"backgroundcolor\":\"#E5ECF6\",\"gridcolor\":\"white\",\"linecolor\":\"white\",\"showbackground\":true,\"ticks\":\"\",\"zerolinecolor\":\"white\",\"gridwidth\":2}},\"shapedefaults\":{\"line\":{\"color\":\"#2a3f5f\"}},\"annotationdefaults\":{\"arrowcolor\":\"#2a3f5f\",\"arrowhead\":0,\"arrowwidth\":1},\"geo\":{\"bgcolor\":\"white\",\"landcolor\":\"#E5ECF6\",\"subunitcolor\":\"white\",\"showland\":true,\"showlakes\":true,\"lakecolor\":\"white\"},\"title\":{\"x\":0.05},\"mapbox\":{\"style\":\"light\"}}},\"legend\":{\"orientation\":\"h\",\"yanchor\":\"bottom\",\"y\":0,\"xanchor\":\"center\",\"x\":0.5},\"margin\":{\"t\":0,\"b\":0,\"l\":0,\"r\":0},\"height\":400},                        {\"responsive\": true}                    ).then(function(){\n",
       "                            \n",
       "var gd = document.getElementById('c52b3cd3-7998-4b71-84d9-5220441f6600');\n",
       "var x = new MutationObserver(function (mutations, observer) {{\n",
       "        var display = window.getComputedStyle(gd).display;\n",
       "        if (!display || display === 'none') {{\n",
       "            console.log([gd, 'removed!']);\n",
       "            Plotly.purge(gd);\n",
       "            observer.disconnect();\n",
       "        }}\n",
       "}});\n",
       "\n",
       "// Listen for the removal of the full notebook cells\n",
       "var notebookContainer = gd.closest('#notebook-container');\n",
       "if (notebookContainer) {{\n",
       "    x.observe(notebookContainer, {childList: true});\n",
       "}}\n",
       "\n",
       "// Listen for the clearing of the current output cell\n",
       "var outputEl = gd.closest('.output');\n",
       "if (outputEl) {{\n",
       "    x.observe(outputEl, {childList: true});\n",
       "}}\n",
       "\n",
       "                        })                };                });            </script>        </div>"
      ]
     },
     "metadata": {},
     "output_type": "display_data"
    }
   ],
   "source": [
    "# -----------------mh_resources_provided -----------------\n",
    "def draw_mh_resources_provided_plt(country):\n",
    "        all_responses = prep_data[prep_data['tech_role_flag'] == 1]['mh_resources_provided'].count()\n",
    "        dntKnow = prep_data[(prep_data['tech_role_flag'] == 1) & (prep_data['mh_resources_provided'] == 0) & ( np.isin(prep_data['country_work_in'], country))]['mh_resources_provided'].count()\n",
    "        no = prep_data[(prep_data['tech_role_flag'] == 1) & (prep_data['mh_resources_provided'] == 1) & ( np.isin(prep_data['country_work_in'], country))]['mh_resources_provided'].count()\n",
    "        yes = prep_data[(prep_data['tech_role_flag'] == 1) & (prep_data['mh_resources_provided'] == 2) & ( np.isin(prep_data['country_work_in'], country))]['mh_resources_provided'].count()\n",
    "        labels = ['No', \"I don't know\", 'Yes']\n",
    "        # colors = ['#9666FF', '#F89640', '#F0F921']\n",
    "        colors = ['#622569', '#b7d7e8', '#5b9aa0' ]\n",
    "\n",
    "        sizes = [no/all_responses, dntKnow/all_responses, yes/all_responses]\n",
    "\n",
    "        mh_resources_provided_plt = go.Figure(data=[go.Pie(labels = labels, values=sizes, hole = 0.6, pull=[0, 0, 0.15, 0], rotation = 30)])\n",
    "\n",
    "        mh_resources_provided_plt.update_traces(title = 'Resources Provided',\n",
    "                                                marker=dict(colors=colors,\n",
    "                                                line=dict(color='#FFF', width=2)),\n",
    "                                                hoverinfo='label+percent',\n",
    "                                                textfont_size=12,\n",
    "                                                title_font_size = 15, \n",
    "                                                title_position = \"middle center\")\n",
    "        mh_resources_provided_plt.update_layout(legend=dict(orientation=\"h\", yanchor=\"bottom\", y=0, xanchor=\"center\", x=0.5),\n",
    "                                                margin=dict(t = 0, b=0, l = 0, r = 0),\n",
    "                                                height = 400\n",
    "                                                )\n",
    "        return mh_resources_provided_plt\n",
    "\n",
    "draw_mh_resources_provided_plt(country)"
   ]
  },
  {
   "cell_type": "markdown",
   "metadata": {
    "id": "sfYo6SheKpEC"
   },
   "source": [
    "### Mental Health Rating in all Countries Vs years "
   ]
  },
  {
   "cell_type": "code",
   "execution_count": 33,
   "metadata": {},
   "outputs": [],
   "source": [
    "employer_rate  = prep_data[(prep_data['tech_role_flag'] == 1 ) & ( np.isin(prep_data['country_work_in'], country))][['country_work_in', 'ph_employer_rate', 'mh_employer_rate']]\n",
    "employer_Ph_rate = employer_rate.groupby(by = ['ph_employer_rate']).size().reset_index().rename(columns = {0 : 'count'})\n",
    "employer_mh_rate = employer_rate.groupby(by = ['mh_employer_rate']).size().reset_index().rename(columns = {0 : 'count'}) "
   ]
  },
  {
   "cell_type": "code",
   "execution_count": 34,
   "metadata": {},
   "outputs": [
    {
     "data": {
      "text/html": [
       "<div>                            <div id=\"a2729315-f19f-473a-a865-321259fc6b5a\" class=\"plotly-graph-div\" style=\"height:525px; width:100%;\"></div>            <script type=\"text/javascript\">                require([\"plotly\"], function(Plotly) {                    window.PLOTLYENV=window.PLOTLYENV || {};                                    if (document.getElementById(\"a2729315-f19f-473a-a865-321259fc6b5a\")) {                    Plotly.newPlot(                        \"a2729315-f19f-473a-a865-321259fc6b5a\",                        [{\"line\":{\"color\":\"Blue\",\"width\":4},\"name\":\"Physical\",\"x\":[0.0,1.0,2.0,3.0,4.0,5.0,6.0,7.0,8.0,9.0,10.0],\"y\":[23,14,34,53,46,218,130,380,197,67,84],\"type\":\"scatter\"},{\"line\":{\"color\":\"orange\",\"dash\":\"dash\",\"width\":4},\"name\":\"Mental\",\"x\":[0.0,1.0,2.0,3.0,4.0,5.0,6.0,7.0,8.0,9.0,10.0],\"y\":[69,35,82,110,92,423,107,154,111,32,31],\"type\":\"scatter\"}],                        {\"template\":{\"data\":{\"histogram2dcontour\":[{\"type\":\"histogram2dcontour\",\"colorbar\":{\"outlinewidth\":0,\"ticks\":\"\"},\"colorscale\":[[0.0,\"#0d0887\"],[0.1111111111111111,\"#46039f\"],[0.2222222222222222,\"#7201a8\"],[0.3333333333333333,\"#9c179e\"],[0.4444444444444444,\"#bd3786\"],[0.5555555555555556,\"#d8576b\"],[0.6666666666666666,\"#ed7953\"],[0.7777777777777778,\"#fb9f3a\"],[0.8888888888888888,\"#fdca26\"],[1.0,\"#f0f921\"]]}],\"choropleth\":[{\"type\":\"choropleth\",\"colorbar\":{\"outlinewidth\":0,\"ticks\":\"\"}}],\"histogram2d\":[{\"type\":\"histogram2d\",\"colorbar\":{\"outlinewidth\":0,\"ticks\":\"\"},\"colorscale\":[[0.0,\"#0d0887\"],[0.1111111111111111,\"#46039f\"],[0.2222222222222222,\"#7201a8\"],[0.3333333333333333,\"#9c179e\"],[0.4444444444444444,\"#bd3786\"],[0.5555555555555556,\"#d8576b\"],[0.6666666666666666,\"#ed7953\"],[0.7777777777777778,\"#fb9f3a\"],[0.8888888888888888,\"#fdca26\"],[1.0,\"#f0f921\"]]}],\"heatmap\":[{\"type\":\"heatmap\",\"colorbar\":{\"outlinewidth\":0,\"ticks\":\"\"},\"colorscale\":[[0.0,\"#0d0887\"],[0.1111111111111111,\"#46039f\"],[0.2222222222222222,\"#7201a8\"],[0.3333333333333333,\"#9c179e\"],[0.4444444444444444,\"#bd3786\"],[0.5555555555555556,\"#d8576b\"],[0.6666666666666666,\"#ed7953\"],[0.7777777777777778,\"#fb9f3a\"],[0.8888888888888888,\"#fdca26\"],[1.0,\"#f0f921\"]]}],\"heatmapgl\":[{\"type\":\"heatmapgl\",\"colorbar\":{\"outlinewidth\":0,\"ticks\":\"\"},\"colorscale\":[[0.0,\"#0d0887\"],[0.1111111111111111,\"#46039f\"],[0.2222222222222222,\"#7201a8\"],[0.3333333333333333,\"#9c179e\"],[0.4444444444444444,\"#bd3786\"],[0.5555555555555556,\"#d8576b\"],[0.6666666666666666,\"#ed7953\"],[0.7777777777777778,\"#fb9f3a\"],[0.8888888888888888,\"#fdca26\"],[1.0,\"#f0f921\"]]}],\"contourcarpet\":[{\"type\":\"contourcarpet\",\"colorbar\":{\"outlinewidth\":0,\"ticks\":\"\"}}],\"contour\":[{\"type\":\"contour\",\"colorbar\":{\"outlinewidth\":0,\"ticks\":\"\"},\"colorscale\":[[0.0,\"#0d0887\"],[0.1111111111111111,\"#46039f\"],[0.2222222222222222,\"#7201a8\"],[0.3333333333333333,\"#9c179e\"],[0.4444444444444444,\"#bd3786\"],[0.5555555555555556,\"#d8576b\"],[0.6666666666666666,\"#ed7953\"],[0.7777777777777778,\"#fb9f3a\"],[0.8888888888888888,\"#fdca26\"],[1.0,\"#f0f921\"]]}],\"surface\":[{\"type\":\"surface\",\"colorbar\":{\"outlinewidth\":0,\"ticks\":\"\"},\"colorscale\":[[0.0,\"#0d0887\"],[0.1111111111111111,\"#46039f\"],[0.2222222222222222,\"#7201a8\"],[0.3333333333333333,\"#9c179e\"],[0.4444444444444444,\"#bd3786\"],[0.5555555555555556,\"#d8576b\"],[0.6666666666666666,\"#ed7953\"],[0.7777777777777778,\"#fb9f3a\"],[0.8888888888888888,\"#fdca26\"],[1.0,\"#f0f921\"]]}],\"mesh3d\":[{\"type\":\"mesh3d\",\"colorbar\":{\"outlinewidth\":0,\"ticks\":\"\"}}],\"scatter\":[{\"fillpattern\":{\"fillmode\":\"overlay\",\"size\":10,\"solidity\":0.2},\"type\":\"scatter\"}],\"parcoords\":[{\"type\":\"parcoords\",\"line\":{\"colorbar\":{\"outlinewidth\":0,\"ticks\":\"\"}}}],\"scatterpolargl\":[{\"type\":\"scatterpolargl\",\"marker\":{\"colorbar\":{\"outlinewidth\":0,\"ticks\":\"\"}}}],\"bar\":[{\"error_x\":{\"color\":\"#2a3f5f\"},\"error_y\":{\"color\":\"#2a3f5f\"},\"marker\":{\"line\":{\"color\":\"#E5ECF6\",\"width\":0.5},\"pattern\":{\"fillmode\":\"overlay\",\"size\":10,\"solidity\":0.2}},\"type\":\"bar\"}],\"scattergeo\":[{\"type\":\"scattergeo\",\"marker\":{\"colorbar\":{\"outlinewidth\":0,\"ticks\":\"\"}}}],\"scatterpolar\":[{\"type\":\"scatterpolar\",\"marker\":{\"colorbar\":{\"outlinewidth\":0,\"ticks\":\"\"}}}],\"histogram\":[{\"marker\":{\"pattern\":{\"fillmode\":\"overlay\",\"size\":10,\"solidity\":0.2}},\"type\":\"histogram\"}],\"scattergl\":[{\"type\":\"scattergl\",\"marker\":{\"colorbar\":{\"outlinewidth\":0,\"ticks\":\"\"}}}],\"scatter3d\":[{\"type\":\"scatter3d\",\"line\":{\"colorbar\":{\"outlinewidth\":0,\"ticks\":\"\"}},\"marker\":{\"colorbar\":{\"outlinewidth\":0,\"ticks\":\"\"}}}],\"scattermapbox\":[{\"type\":\"scattermapbox\",\"marker\":{\"colorbar\":{\"outlinewidth\":0,\"ticks\":\"\"}}}],\"scatterternary\":[{\"type\":\"scatterternary\",\"marker\":{\"colorbar\":{\"outlinewidth\":0,\"ticks\":\"\"}}}],\"scattercarpet\":[{\"type\":\"scattercarpet\",\"marker\":{\"colorbar\":{\"outlinewidth\":0,\"ticks\":\"\"}}}],\"carpet\":[{\"aaxis\":{\"endlinecolor\":\"#2a3f5f\",\"gridcolor\":\"white\",\"linecolor\":\"white\",\"minorgridcolor\":\"white\",\"startlinecolor\":\"#2a3f5f\"},\"baxis\":{\"endlinecolor\":\"#2a3f5f\",\"gridcolor\":\"white\",\"linecolor\":\"white\",\"minorgridcolor\":\"white\",\"startlinecolor\":\"#2a3f5f\"},\"type\":\"carpet\"}],\"table\":[{\"cells\":{\"fill\":{\"color\":\"#EBF0F8\"},\"line\":{\"color\":\"white\"}},\"header\":{\"fill\":{\"color\":\"#C8D4E3\"},\"line\":{\"color\":\"white\"}},\"type\":\"table\"}],\"barpolar\":[{\"marker\":{\"line\":{\"color\":\"#E5ECF6\",\"width\":0.5},\"pattern\":{\"fillmode\":\"overlay\",\"size\":10,\"solidity\":0.2}},\"type\":\"barpolar\"}],\"pie\":[{\"automargin\":true,\"type\":\"pie\"}]},\"layout\":{\"autotypenumbers\":\"strict\",\"colorway\":[\"#636efa\",\"#EF553B\",\"#00cc96\",\"#ab63fa\",\"#FFA15A\",\"#19d3f3\",\"#FF6692\",\"#B6E880\",\"#FF97FF\",\"#FECB52\"],\"font\":{\"color\":\"#2a3f5f\"},\"hovermode\":\"closest\",\"hoverlabel\":{\"align\":\"left\"},\"paper_bgcolor\":\"white\",\"plot_bgcolor\":\"#E5ECF6\",\"polar\":{\"bgcolor\":\"#E5ECF6\",\"angularaxis\":{\"gridcolor\":\"white\",\"linecolor\":\"white\",\"ticks\":\"\"},\"radialaxis\":{\"gridcolor\":\"white\",\"linecolor\":\"white\",\"ticks\":\"\"}},\"ternary\":{\"bgcolor\":\"#E5ECF6\",\"aaxis\":{\"gridcolor\":\"white\",\"linecolor\":\"white\",\"ticks\":\"\"},\"baxis\":{\"gridcolor\":\"white\",\"linecolor\":\"white\",\"ticks\":\"\"},\"caxis\":{\"gridcolor\":\"white\",\"linecolor\":\"white\",\"ticks\":\"\"}},\"coloraxis\":{\"colorbar\":{\"outlinewidth\":0,\"ticks\":\"\"}},\"colorscale\":{\"sequential\":[[0.0,\"#0d0887\"],[0.1111111111111111,\"#46039f\"],[0.2222222222222222,\"#7201a8\"],[0.3333333333333333,\"#9c179e\"],[0.4444444444444444,\"#bd3786\"],[0.5555555555555556,\"#d8576b\"],[0.6666666666666666,\"#ed7953\"],[0.7777777777777778,\"#fb9f3a\"],[0.8888888888888888,\"#fdca26\"],[1.0,\"#f0f921\"]],\"sequentialminus\":[[0.0,\"#0d0887\"],[0.1111111111111111,\"#46039f\"],[0.2222222222222222,\"#7201a8\"],[0.3333333333333333,\"#9c179e\"],[0.4444444444444444,\"#bd3786\"],[0.5555555555555556,\"#d8576b\"],[0.6666666666666666,\"#ed7953\"],[0.7777777777777778,\"#fb9f3a\"],[0.8888888888888888,\"#fdca26\"],[1.0,\"#f0f921\"]],\"diverging\":[[0,\"#8e0152\"],[0.1,\"#c51b7d\"],[0.2,\"#de77ae\"],[0.3,\"#f1b6da\"],[0.4,\"#fde0ef\"],[0.5,\"#f7f7f7\"],[0.6,\"#e6f5d0\"],[0.7,\"#b8e186\"],[0.8,\"#7fbc41\"],[0.9,\"#4d9221\"],[1,\"#276419\"]]},\"xaxis\":{\"gridcolor\":\"white\",\"linecolor\":\"white\",\"ticks\":\"\",\"title\":{\"standoff\":15},\"zerolinecolor\":\"white\",\"automargin\":true,\"zerolinewidth\":2},\"yaxis\":{\"gridcolor\":\"white\",\"linecolor\":\"white\",\"ticks\":\"\",\"title\":{\"standoff\":15},\"zerolinecolor\":\"white\",\"automargin\":true,\"zerolinewidth\":2},\"scene\":{\"xaxis\":{\"backgroundcolor\":\"#E5ECF6\",\"gridcolor\":\"white\",\"linecolor\":\"white\",\"showbackground\":true,\"ticks\":\"\",\"zerolinecolor\":\"white\",\"gridwidth\":2},\"yaxis\":{\"backgroundcolor\":\"#E5ECF6\",\"gridcolor\":\"white\",\"linecolor\":\"white\",\"showbackground\":true,\"ticks\":\"\",\"zerolinecolor\":\"white\",\"gridwidth\":2},\"zaxis\":{\"backgroundcolor\":\"#E5ECF6\",\"gridcolor\":\"white\",\"linecolor\":\"white\",\"showbackground\":true,\"ticks\":\"\",\"zerolinecolor\":\"white\",\"gridwidth\":2}},\"shapedefaults\":{\"line\":{\"color\":\"#2a3f5f\"}},\"annotationdefaults\":{\"arrowcolor\":\"#2a3f5f\",\"arrowhead\":0,\"arrowwidth\":1},\"geo\":{\"bgcolor\":\"white\",\"landcolor\":\"#E5ECF6\",\"subunitcolor\":\"white\",\"showland\":true,\"showlakes\":true,\"lakecolor\":\"white\"},\"title\":{\"x\":0.05},\"mapbox\":{\"style\":\"light\"}}},\"legend\":{\"xanchor\":\"right\",\"x\":1,\"title\":{\"text\":\"IN ['UK' 'USA' 'India' 'Germany' 'Canada'] : \"}},\"title\":{\"font\":{\"size\":14}},\"xaxis\":{\"title\":{\"text\":\"Year\"}},\"yaxis\":{\"title\":{\"text\":\"Count\"}}},                        {\"responsive\": true}                    ).then(function(){\n",
       "                            \n",
       "var gd = document.getElementById('a2729315-f19f-473a-a865-321259fc6b5a');\n",
       "var x = new MutationObserver(function (mutations, observer) {{\n",
       "        var display = window.getComputedStyle(gd).display;\n",
       "        if (!display || display === 'none') {{\n",
       "            console.log([gd, 'removed!']);\n",
       "            Plotly.purge(gd);\n",
       "            observer.disconnect();\n",
       "        }}\n",
       "}});\n",
       "\n",
       "// Listen for the removal of the full notebook cells\n",
       "var notebookContainer = gd.closest('#notebook-container');\n",
       "if (notebookContainer) {{\n",
       "    x.observe(notebookContainer, {childList: true});\n",
       "}}\n",
       "\n",
       "// Listen for the clearing of the current output cell\n",
       "var outputEl = gd.closest('.output');\n",
       "if (outputEl) {{\n",
       "    x.observe(outputEl, {childList: true});\n",
       "}}\n",
       "\n",
       "                        })                };                });            </script>        </div>"
      ]
     },
     "metadata": {},
     "output_type": "display_data"
    }
   ],
   "source": [
    "emp_place = go.Figure()\n",
    "emp_place.add_trace(go.Scatter(x=employer_Ph_rate['ph_employer_rate'], y=employer_Ph_rate['count'], name='Physical',\n",
    "                         line=dict(color='Blue', width=4)))\n",
    "emp_place.add_trace(go.Scatter(x=employer_mh_rate['mh_employer_rate'], y=employer_mh_rate['count'], name='Mental',\n",
    "                         line=dict(color='orange', width=4, dash='dash')))\n",
    "\n",
    "# fig.update_yaxes(range = [0, 10])\n",
    "emp_place.update_layout(\n",
    "                   xaxis_title='Year',\n",
    "                   yaxis_title='Count', \n",
    "                   legend=dict(xanchor = 'right', x = 1),\n",
    "                   legend_title = (f'IN {country} : '),\n",
    "                   title_font_size = 14,\n",
    "                   )\n",
    "emp_place.show()"
   ]
  },
  {
   "cell_type": "code",
   "execution_count": 35,
   "metadata": {},
   "outputs": [
    {
     "data": {
      "text/html": [
       "<div>                            <div id=\"bb8700b0-6d7e-4401-850c-0000d54c439d\" class=\"plotly-graph-div\" style=\"height:400px; width:100%;\"></div>            <script type=\"text/javascript\">                require([\"plotly\"], function(Plotly) {                    window.PLOTLYENV=window.PLOTLYENV || {};                                    if (document.getElementById(\"bb8700b0-6d7e-4401-850c-0000d54c439d\")) {                    Plotly.newPlot(                        \"bb8700b0-6d7e-4401-850c-0000d54c439d\",                        [{\"marker\":{\"color\":\"#622569\"},\"name\":\"Physical\",\"orientation\":\"h\",\"x\":[23,14,34,53,46,218,130,380,197,67,84],\"y\":[0.0,1.0,2.0,3.0,4.0,5.0,6.0,7.0,8.0,9.0,10.0],\"type\":\"bar\"},{\"marker\":{\"color\":\"#5b9aa0\"},\"name\":\"Mental\",\"orientation\":\"h\",\"x\":[69,35,82,110,92,423,107,154,111,32,31],\"y\":[0.0,1.0,2.0,3.0,4.0,5.0,6.0,7.0,8.0,9.0,10.0],\"type\":\"bar\"}],                        {\"template\":{\"data\":{\"histogram2dcontour\":[{\"type\":\"histogram2dcontour\",\"colorbar\":{\"outlinewidth\":0,\"ticks\":\"\"},\"colorscale\":[[0.0,\"#0d0887\"],[0.1111111111111111,\"#46039f\"],[0.2222222222222222,\"#7201a8\"],[0.3333333333333333,\"#9c179e\"],[0.4444444444444444,\"#bd3786\"],[0.5555555555555556,\"#d8576b\"],[0.6666666666666666,\"#ed7953\"],[0.7777777777777778,\"#fb9f3a\"],[0.8888888888888888,\"#fdca26\"],[1.0,\"#f0f921\"]]}],\"choropleth\":[{\"type\":\"choropleth\",\"colorbar\":{\"outlinewidth\":0,\"ticks\":\"\"}}],\"histogram2d\":[{\"type\":\"histogram2d\",\"colorbar\":{\"outlinewidth\":0,\"ticks\":\"\"},\"colorscale\":[[0.0,\"#0d0887\"],[0.1111111111111111,\"#46039f\"],[0.2222222222222222,\"#7201a8\"],[0.3333333333333333,\"#9c179e\"],[0.4444444444444444,\"#bd3786\"],[0.5555555555555556,\"#d8576b\"],[0.6666666666666666,\"#ed7953\"],[0.7777777777777778,\"#fb9f3a\"],[0.8888888888888888,\"#fdca26\"],[1.0,\"#f0f921\"]]}],\"heatmap\":[{\"type\":\"heatmap\",\"colorbar\":{\"outlinewidth\":0,\"ticks\":\"\"},\"colorscale\":[[0.0,\"#0d0887\"],[0.1111111111111111,\"#46039f\"],[0.2222222222222222,\"#7201a8\"],[0.3333333333333333,\"#9c179e\"],[0.4444444444444444,\"#bd3786\"],[0.5555555555555556,\"#d8576b\"],[0.6666666666666666,\"#ed7953\"],[0.7777777777777778,\"#fb9f3a\"],[0.8888888888888888,\"#fdca26\"],[1.0,\"#f0f921\"]]}],\"heatmapgl\":[{\"type\":\"heatmapgl\",\"colorbar\":{\"outlinewidth\":0,\"ticks\":\"\"},\"colorscale\":[[0.0,\"#0d0887\"],[0.1111111111111111,\"#46039f\"],[0.2222222222222222,\"#7201a8\"],[0.3333333333333333,\"#9c179e\"],[0.4444444444444444,\"#bd3786\"],[0.5555555555555556,\"#d8576b\"],[0.6666666666666666,\"#ed7953\"],[0.7777777777777778,\"#fb9f3a\"],[0.8888888888888888,\"#fdca26\"],[1.0,\"#f0f921\"]]}],\"contourcarpet\":[{\"type\":\"contourcarpet\",\"colorbar\":{\"outlinewidth\":0,\"ticks\":\"\"}}],\"contour\":[{\"type\":\"contour\",\"colorbar\":{\"outlinewidth\":0,\"ticks\":\"\"},\"colorscale\":[[0.0,\"#0d0887\"],[0.1111111111111111,\"#46039f\"],[0.2222222222222222,\"#7201a8\"],[0.3333333333333333,\"#9c179e\"],[0.4444444444444444,\"#bd3786\"],[0.5555555555555556,\"#d8576b\"],[0.6666666666666666,\"#ed7953\"],[0.7777777777777778,\"#fb9f3a\"],[0.8888888888888888,\"#fdca26\"],[1.0,\"#f0f921\"]]}],\"surface\":[{\"type\":\"surface\",\"colorbar\":{\"outlinewidth\":0,\"ticks\":\"\"},\"colorscale\":[[0.0,\"#0d0887\"],[0.1111111111111111,\"#46039f\"],[0.2222222222222222,\"#7201a8\"],[0.3333333333333333,\"#9c179e\"],[0.4444444444444444,\"#bd3786\"],[0.5555555555555556,\"#d8576b\"],[0.6666666666666666,\"#ed7953\"],[0.7777777777777778,\"#fb9f3a\"],[0.8888888888888888,\"#fdca26\"],[1.0,\"#f0f921\"]]}],\"mesh3d\":[{\"type\":\"mesh3d\",\"colorbar\":{\"outlinewidth\":0,\"ticks\":\"\"}}],\"scatter\":[{\"fillpattern\":{\"fillmode\":\"overlay\",\"size\":10,\"solidity\":0.2},\"type\":\"scatter\"}],\"parcoords\":[{\"type\":\"parcoords\",\"line\":{\"colorbar\":{\"outlinewidth\":0,\"ticks\":\"\"}}}],\"scatterpolargl\":[{\"type\":\"scatterpolargl\",\"marker\":{\"colorbar\":{\"outlinewidth\":0,\"ticks\":\"\"}}}],\"bar\":[{\"error_x\":{\"color\":\"#2a3f5f\"},\"error_y\":{\"color\":\"#2a3f5f\"},\"marker\":{\"line\":{\"color\":\"#E5ECF6\",\"width\":0.5},\"pattern\":{\"fillmode\":\"overlay\",\"size\":10,\"solidity\":0.2}},\"type\":\"bar\"}],\"scattergeo\":[{\"type\":\"scattergeo\",\"marker\":{\"colorbar\":{\"outlinewidth\":0,\"ticks\":\"\"}}}],\"scatterpolar\":[{\"type\":\"scatterpolar\",\"marker\":{\"colorbar\":{\"outlinewidth\":0,\"ticks\":\"\"}}}],\"histogram\":[{\"marker\":{\"pattern\":{\"fillmode\":\"overlay\",\"size\":10,\"solidity\":0.2}},\"type\":\"histogram\"}],\"scattergl\":[{\"type\":\"scattergl\",\"marker\":{\"colorbar\":{\"outlinewidth\":0,\"ticks\":\"\"}}}],\"scatter3d\":[{\"type\":\"scatter3d\",\"line\":{\"colorbar\":{\"outlinewidth\":0,\"ticks\":\"\"}},\"marker\":{\"colorbar\":{\"outlinewidth\":0,\"ticks\":\"\"}}}],\"scattermapbox\":[{\"type\":\"scattermapbox\",\"marker\":{\"colorbar\":{\"outlinewidth\":0,\"ticks\":\"\"}}}],\"scatterternary\":[{\"type\":\"scatterternary\",\"marker\":{\"colorbar\":{\"outlinewidth\":0,\"ticks\":\"\"}}}],\"scattercarpet\":[{\"type\":\"scattercarpet\",\"marker\":{\"colorbar\":{\"outlinewidth\":0,\"ticks\":\"\"}}}],\"carpet\":[{\"aaxis\":{\"endlinecolor\":\"#2a3f5f\",\"gridcolor\":\"white\",\"linecolor\":\"white\",\"minorgridcolor\":\"white\",\"startlinecolor\":\"#2a3f5f\"},\"baxis\":{\"endlinecolor\":\"#2a3f5f\",\"gridcolor\":\"white\",\"linecolor\":\"white\",\"minorgridcolor\":\"white\",\"startlinecolor\":\"#2a3f5f\"},\"type\":\"carpet\"}],\"table\":[{\"cells\":{\"fill\":{\"color\":\"#EBF0F8\"},\"line\":{\"color\":\"white\"}},\"header\":{\"fill\":{\"color\":\"#C8D4E3\"},\"line\":{\"color\":\"white\"}},\"type\":\"table\"}],\"barpolar\":[{\"marker\":{\"line\":{\"color\":\"#E5ECF6\",\"width\":0.5},\"pattern\":{\"fillmode\":\"overlay\",\"size\":10,\"solidity\":0.2}},\"type\":\"barpolar\"}],\"pie\":[{\"automargin\":true,\"type\":\"pie\"}]},\"layout\":{\"autotypenumbers\":\"strict\",\"colorway\":[\"#636efa\",\"#EF553B\",\"#00cc96\",\"#ab63fa\",\"#FFA15A\",\"#19d3f3\",\"#FF6692\",\"#B6E880\",\"#FF97FF\",\"#FECB52\"],\"font\":{\"color\":\"#2a3f5f\"},\"hovermode\":\"closest\",\"hoverlabel\":{\"align\":\"left\"},\"paper_bgcolor\":\"white\",\"plot_bgcolor\":\"#E5ECF6\",\"polar\":{\"bgcolor\":\"#E5ECF6\",\"angularaxis\":{\"gridcolor\":\"white\",\"linecolor\":\"white\",\"ticks\":\"\"},\"radialaxis\":{\"gridcolor\":\"white\",\"linecolor\":\"white\",\"ticks\":\"\"}},\"ternary\":{\"bgcolor\":\"#E5ECF6\",\"aaxis\":{\"gridcolor\":\"white\",\"linecolor\":\"white\",\"ticks\":\"\"},\"baxis\":{\"gridcolor\":\"white\",\"linecolor\":\"white\",\"ticks\":\"\"},\"caxis\":{\"gridcolor\":\"white\",\"linecolor\":\"white\",\"ticks\":\"\"}},\"coloraxis\":{\"colorbar\":{\"outlinewidth\":0,\"ticks\":\"\"}},\"colorscale\":{\"sequential\":[[0.0,\"#0d0887\"],[0.1111111111111111,\"#46039f\"],[0.2222222222222222,\"#7201a8\"],[0.3333333333333333,\"#9c179e\"],[0.4444444444444444,\"#bd3786\"],[0.5555555555555556,\"#d8576b\"],[0.6666666666666666,\"#ed7953\"],[0.7777777777777778,\"#fb9f3a\"],[0.8888888888888888,\"#fdca26\"],[1.0,\"#f0f921\"]],\"sequentialminus\":[[0.0,\"#0d0887\"],[0.1111111111111111,\"#46039f\"],[0.2222222222222222,\"#7201a8\"],[0.3333333333333333,\"#9c179e\"],[0.4444444444444444,\"#bd3786\"],[0.5555555555555556,\"#d8576b\"],[0.6666666666666666,\"#ed7953\"],[0.7777777777777778,\"#fb9f3a\"],[0.8888888888888888,\"#fdca26\"],[1.0,\"#f0f921\"]],\"diverging\":[[0,\"#8e0152\"],[0.1,\"#c51b7d\"],[0.2,\"#de77ae\"],[0.3,\"#f1b6da\"],[0.4,\"#fde0ef\"],[0.5,\"#f7f7f7\"],[0.6,\"#e6f5d0\"],[0.7,\"#b8e186\"],[0.8,\"#7fbc41\"],[0.9,\"#4d9221\"],[1,\"#276419\"]]},\"xaxis\":{\"gridcolor\":\"white\",\"linecolor\":\"white\",\"ticks\":\"\",\"title\":{\"standoff\":15},\"zerolinecolor\":\"white\",\"automargin\":true,\"zerolinewidth\":2},\"yaxis\":{\"gridcolor\":\"white\",\"linecolor\":\"white\",\"ticks\":\"\",\"title\":{\"standoff\":15},\"zerolinecolor\":\"white\",\"automargin\":true,\"zerolinewidth\":2},\"scene\":{\"xaxis\":{\"backgroundcolor\":\"#E5ECF6\",\"gridcolor\":\"white\",\"linecolor\":\"white\",\"showbackground\":true,\"ticks\":\"\",\"zerolinecolor\":\"white\",\"gridwidth\":2},\"yaxis\":{\"backgroundcolor\":\"#E5ECF6\",\"gridcolor\":\"white\",\"linecolor\":\"white\",\"showbackground\":true,\"ticks\":\"\",\"zerolinecolor\":\"white\",\"gridwidth\":2},\"zaxis\":{\"backgroundcolor\":\"#E5ECF6\",\"gridcolor\":\"white\",\"linecolor\":\"white\",\"showbackground\":true,\"ticks\":\"\",\"zerolinecolor\":\"white\",\"gridwidth\":2}},\"shapedefaults\":{\"line\":{\"color\":\"#2a3f5f\"}},\"annotationdefaults\":{\"arrowcolor\":\"#2a3f5f\",\"arrowhead\":0,\"arrowwidth\":1},\"geo\":{\"bgcolor\":\"white\",\"landcolor\":\"#E5ECF6\",\"subunitcolor\":\"white\",\"showland\":true,\"showlakes\":true,\"lakecolor\":\"white\"},\"title\":{\"x\":0.05},\"mapbox\":{\"style\":\"light\"}}},\"yaxis\":{\"type\":\"category\",\"title\":{\"text\":\"Rate\"}},\"legend\":{\"xanchor\":\"right\",\"x\":1},\"margin\":{\"t\":0,\"b\":0,\"l\":0,\"r\":0},\"barmode\":\"group\",\"xaxis\":{\"title\":{\"text\":\"Count\"}},\"height\":400},                        {\"responsive\": true}                    ).then(function(){\n",
       "                            \n",
       "var gd = document.getElementById('bb8700b0-6d7e-4401-850c-0000d54c439d');\n",
       "var x = new MutationObserver(function (mutations, observer) {{\n",
       "        var display = window.getComputedStyle(gd).display;\n",
       "        if (!display || display === 'none') {{\n",
       "            console.log([gd, 'removed!']);\n",
       "            Plotly.purge(gd);\n",
       "            observer.disconnect();\n",
       "        }}\n",
       "}});\n",
       "\n",
       "// Listen for the removal of the full notebook cells\n",
       "var notebookContainer = gd.closest('#notebook-container');\n",
       "if (notebookContainer) {{\n",
       "    x.observe(notebookContainer, {childList: true});\n",
       "}}\n",
       "\n",
       "// Listen for the clearing of the current output cell\n",
       "var outputEl = gd.closest('.output');\n",
       "if (outputEl) {{\n",
       "    x.observe(outputEl, {childList: true});\n",
       "}}\n",
       "\n",
       "                        })                };                });            </script>        </div>"
      ]
     },
     "metadata": {},
     "output_type": "display_data"
    }
   ],
   "source": [
    "def draw_curr_rate_by_country():\n",
    "    curr_rate_by_country = go.Figure(data=[\n",
    "        go.Bar(name=\"Physical\", y=employer_Ph_rate['ph_employer_rate'].unique(), x=employer_Ph_rate['count'], marker_color = '#622569', orientation='h'),\n",
    "        go.Bar(name='Mental', y=employer_mh_rate['mh_employer_rate'].unique(), x=employer_mh_rate['count'], marker_color = '#5b9aa0', orientation='h'),\n",
    "    ])\n",
    "    curr_rate_by_country.update_yaxes(type='category')\n",
    "    curr_rate_by_country.update_layout(\n",
    "        barmode='group', \n",
    "        xaxis_title=\"Count\",\n",
    "        yaxis_title=\"Rate\",\n",
    "        legend=dict(xanchor = 'right', x = 1),\n",
    "        margin=dict(t = 0, b=0, l = 0, r = 0),\n",
    "        height = 400,\n",
    "        )\n",
    "    return curr_rate_by_country\n",
    "draw_curr_rate_by_country()"
   ]
  },
  {
   "cell_type": "markdown",
   "metadata": {},
   "source": [
    "# Dashboard"
   ]
  },
  {
   "cell_type": "code",
   "execution_count": 36,
   "metadata": {},
   "outputs": [],
   "source": [
    "import seaborn as sns\n",
    "import matplotlib as plt\n",
    "import plotly.express as px\n",
    "import pandas as pd\n",
    "from dash import Dash, html, dcc\n",
    "from jupyter_dash import JupyterDash\n",
    "from dash.dependencies import Input,Output,State\n",
    "import dash_bootstrap_components as dbc\n",
    "import numpy as np\n",
    "import dash"
   ]
  },
  {
   "cell_type": "code",
   "execution_count": 37,
   "metadata": {},
   "outputs": [],
   "source": [
    "Countries = ['USA', 'UK', 'India', 'Canada', 'Germany']"
   ]
  },
  {
   "cell_type": "code",
   "execution_count": 39,
   "metadata": {},
   "outputs": [
    {
     "name": "stdout",
     "output_type": "stream",
     "text": [
      "Dash app running on http://127.0.0.1:5051/\n"
     ]
    }
   ],
   "source": [
    "app = JupyterDash(__name__, external_stylesheets=[dbc.themes.BOOTSTRAP],\n",
    "                meta_tags=[{'name': 'viewport',\n",
    "                            'content': 'width=device-width, initial-scale=1.0'}]\n",
    "                )\n",
    "# Layout section\n",
    "app.layout = dbc.Container([\n",
    "    dbc.Row([\n",
    "            dbc.Container([\n",
    "                dbc.Row([\n",
    "                    dbc.Row([html.Img(src=\"assets/HEADER.JPG\")],style = {'width':'100%','background':'white'},className='',),\n",
    "               ]),\n",
    "            ]),\n",
    "        ################################################## General Information #################################################            \n",
    "        dbc.Container([\n",
    "            dbc.Row([\n",
    "               dbc.Row([\n",
    "                    dbc.Col([html.H2(\"General Information\",className='text-center divBorder p-2 m-1 font-weight-normal rounded',style={'font-family':'Calibri','background':'#b3dad7','color':'#525252'}),\n",
    "                            ],width = 12),]),\n",
    "               dbc.Row([\n",
    "                    ################################################## Gender Overview #################################################            \n",
    "                   dbc.Col([\n",
    "                       dbc.Card([\n",
    "                            dbc.CardHeader([\n",
    "                                dcc.Dropdown(id='dp1', multi=False, value='USA',options=[{'label':x, 'value':x}for x in Countries],\n",
    "                                            style={\"textTransform\": \"uppercase\",'border-color':'#b3dad7','background-color':'white','text-color':'white', 'width' : '250'},className = \"dropdown open\"),\n",
    "                            ],className ='bg-white mb-1'),\n",
    "                            dbc.CardBody([\n",
    "                                dcc.Graph(id='line-fig1', figure=draw_Techs_by_gender(country),className=' m-1',),]),\n",
    "                            dbc.CardFooter([html.H5(\"Gender Overview\", className=\"card-text\",style = {'color':'#525252'}),],className ='bg-white'),\n",
    "                       ],className='shadow rounded card p-3 text-center m-1',style={\"height\":\"32rem\" , \"border-color\":\"#808080\",\"border-width\": \"medium\"},),\n",
    "                   ],xs=12, sm=12, md=12, lg=3, xl=3),\n",
    "                    ############################################ Mental Health Problem Among Years #########################################            \n",
    "                   dbc.Col([\n",
    "                       dbc.Card([\n",
    "                           dbc.CardBody([\n",
    "                               dcc.Graph(figure=draw_MH_response_all_countries_Vs_years(),className=' m-1'),\n",
    "                           dbc.CardFooter([html.H5(\"Mental Health Problem Among Years\", className=\"card-text\",style = {'color':'#525252'}),],className ='bg-white'),\n",
    "                        ])\n",
    "                    ],className='shadow rounded card p-3 text-center m-1',style={\"height\":\"32rem\",\"border-color\":\"#696969\",\"border-width\": \"medium\"})\n",
    "                    ],xs=12, sm=12, md=12, lg=7, xl=7),\n",
    "                    ################################################## Information Cards #################################################            \n",
    "                   dbc.Col([\n",
    "                        dbc.Card([\n",
    "                            dbc.CardImg(src=\"/assets/mh.png\",className=\"align-self-center mt-4 mb-2\",style={'height':'22%', 'width':'50%'}),\n",
    "                            html.H3(\"970 Million\",className=\"card-text\",style = {'color':'#622569'}),\n",
    "                            html.P(\"Diagnosied With Mental Disorder \",className=\"card-text mb-3\",style = {'color':'#525252'},),\n",
    "                            dbc.CardImg(src=\"assets/pulse.png\",className=\"align-self-center mt-3\",style={'height':'20%', 'width':'50%'}),\n",
    "                            html.H3(\"90 Percent\",className=\"card-text\",style = {'color':'#C84678'}),\n",
    "                            html.P(\"Suicide Deaths Result from Mental Disorders\",className=\"card-text\",style = {'color':'#525252'},)], inverse=True,style={\"height\":\"32rem\",\"border-color\":\"#696969\",\"border-width\": \"medium\"},className=' mx-1 text-center my-1 p-2 shadow'),\n",
    "                    ],className=\"mb-1 \",xs=12, sm=12, md=12, lg=2, xl=2),\n",
    "                ], className = '',justify='center'),\n",
    "                ############################################################ Age #########################################################            \n",
    "                dbc.Row([\n",
    "                   dbc.Col([\n",
    "                        dbc.Card([\n",
    "                             dbc.CardHeader([\n",
    "                                dcc.Dropdown(id='dp2', multi=False, value='USA',options=[{'label':x, 'value':x}for x in Countries],\n",
    "                                    style={\"textTransform\": \"uppercase\",'border-color':'#b3dad7','background-color':'white','text-color':'white', 'width' : '250'},className = \"dropdown open\"),\n",
    "                             ],className ='bg-white mb-1'),                           \n",
    "                             dbc.CardBody([\n",
    "                                 dcc.Graph(id='line-fig2',figure=draw_Age_Vs_MH_prob_Vs_Country(country),className=' m-1',),]),\n",
    "                             dbc.CardFooter([html.H5(\"Age\", className=\"card-text\",style = {'color':'#525252'}),],className ='bg-white'),\n",
    "                         ],className='shadow rounded card p-3 text-center m-1',style={\"height\":\"32rem\" , \"border-color\":\"#696969\",\"border-width\": \"medium\"},),\n",
    "                 ],xs=12, sm=12, md=12, lg=6, xl=6),\n",
    "                ################################################## Currently have a mental health problem #################################################            \n",
    "                dbc.Col([\n",
    "                    dbc.Card([\n",
    "                        dbc.CardHeader([\n",
    "                            dcc.Dropdown(id='dp3', multi=False, value='USA',options=[{'label':x, 'value':x}for x in Countries],\n",
    "                                style={\"textTransform\": \"uppercase\",'border-color':'#b3dad7','background-color':'white','text-color':'white', 'width' : '250'},className = \"dropdown open\"),\n",
    "                              ],className ='bg-white mb-1'),                           \n",
    "                        dbc.CardBody([\n",
    "                            dcc.Graph(id='line-fig3', figure=draw_curr_mh_by_country_plt(country),className=' m-1',),]),\n",
    "                        dbc.CardFooter([html.H5(\"Currently have a mental health problem\", className=\"card-text\",style = {'color':'#525252'}),],className ='bg-white'),\n",
    "                   ],className='shadow rounded card p-3 text-center m-1',style={\"height\":\"32rem\", \"border-color\":\"#696969\",\"border-width\": \"medium\"},),\n",
    "               ],xs=12, sm=12, md=12, lg=6, xl=6),\n",
    "            ],),],style  = {'height':'20%'} , className = 'my-1',justify='center'),      \n",
    "        ],  className = 'mb-1',style  = {'height':'20%'}),\n",
    "    \n",
    "\n",
    "\n",
    "        ################################################## Are Companies Taking Seriously Mental Health ?############################################            \n",
    "        dbc.Container([\n",
    "            dbc.Row([\n",
    "                dbc.Row([\n",
    "                    dbc.Col([html.H2(\"Are Companies Taking Seriously Mental Health ?\",className='text-center divBorder p-2 m-1 font-weight-normal rounded',style={'font-family':'Calibri','background':'#b3dad7','color':'#525252'}), \n",
    "                    ],width=12)]),\n",
    "                dbc.Row([\n",
    "                    ################################################## Resource Provided ############################################            \n",
    "                    dbc.Col([ \n",
    "                        dbc.Card([\n",
    "                          dbc.CardHeader([\n",
    "                                dcc.Dropdown(id='dp4', multi=False, value='USA',options=[{'label':x, 'value':x}for x in Countries],\n",
    "                                    style={\"textTransform\": \"uppercase\",'border-color':'#b3dad7','background-color':'white','text-color':'white', 'width' : '250'},className = \"dropdown open\"),\n",
    "                          ],className ='bg-white mb-1'),\n",
    "                          dbc.CardBody([\n",
    "                              dcc.Graph(id='line-fig4', figure=draw_mh_resources_provided_plt(country),className=' m-1',),])\n",
    "                        ],className='shadow rounded card p-3 text-center m-1',style={\"height\":\"33rem\",\"border-color\":\"#696969\",\"border-width\": \"medium\"},),\n",
    "                    ],xs=12, sm=12, md=12, lg=3, xl=3),\n",
    "                    ################################################## Tech Industry Support Rate ############################################            \n",
    "                    dbc.Col([\n",
    "                        dbc.Card([\n",
    "                            dbc.CardBody([\n",
    "                                dcc.Graph(id='line-fig5', figure=draw_observation_map_among_world(),className=' m-1',),]),\n",
    "                            dbc.CardFooter([html.H5(\"Tech Industry Support Rate\", className=\"card-text\",style = {'color':'#525252'}),],className ='bg-white'),\n",
    "                        ],className='shadow rounded card p-3 text-center m-1',style={\"height\":\"33rem\",\"border-color\":\"#696969\",\"border-width\": \"medium\"},),\n",
    "                      ],xs=12, sm=12, md=12, lg=6, xl=6),\n",
    "                    ################################################## Importance of MH for Employer ############################################            \n",
    "                    dbc.Col([  \n",
    "                        dbc.Card([\n",
    "                            dbc.CardBody([\n",
    "                                dcc.Graph(id='line-fig6', figure=draw_curr_rate_by_country(),className=' m-1',),]),\n",
    "                            dbc.CardFooter([html.H5(\"Importance of MH for Employer\", className=\"card-text\",style = {'color':'#525252'},)],className ='bg-white'),\n",
    "                            ],className='shadow rounded card p-3 text-center m-1',style={\"height\":\"33rem\",\"border-color\":\"#696969\",\"border-width\": \"medium\"},),\n",
    "                    ],xs=12, sm=12, md=12, lg=3, xl=3),\n",
    "            ],),],style  = {'height':'20%'} , className = 'my-1',justify='center'),\n",
    "        ],  className = 'mb-2',style  = {'height':'20%'}),\n",
    "\n",
    "\n",
    "\n",
    "\n",
    "        ################################################## Would Mental Health Problem Affect My Career ? ############################################            \n",
    "         dbc.Container([\n",
    "             dbc.Row([\n",
    "                dbc.Row([\n",
    "                    dbc.Col([html.H2(\"Would Mental Health Problem Affect My Career ?\",className='text-center divBorder p-2 m-1 font-weight-normal rounded',style={'color':'white','font-family':'Calibri','background':'#b3dad7','color':'#525252'}),\n",
    "                    ],width=12),]),\n",
    "                dbc.Row([\n",
    "                    ################################## Physical/ Menta Health Pie Chart ##################################   \n",
    "                    dbc.Col([\n",
    "                         dbc.Card([\n",
    "                              dbc.CardHeader([\n",
    "                                    dcc.Dropdown(id='dp7', multi=False, value='USA',options=[{'label':x, 'value':x}for x in Countries],\n",
    "                                        style={\"textTransform\": \"uppercase\",'border-color':'#b3dad7','background-color':'white','text-color':'white', 'width' : '250'},className = \"dropdown open\"),\n",
    "                                    ],className ='bg-white mb-1'),                              \n",
    "                                    dbc.CardBody([\n",
    "                                            dcc.Graph(id='line-fig7', figure=draw_admit_ph_issue_in_interview_plt(country),className=' mb-1'),\n",
    "                                        ]),\n",
    "                                    dbc.CardFooter([\n",
    "                                    dbc.RadioItems(\n",
    "                                                id=\"radios\",\n",
    "                                                inputClassName=\"btn-check\",\n",
    "                                                labelClassName=\"btn align-middle btn-outline-secondary\",\n",
    "                                                labelCheckedClassName=\"active\",\n",
    "                                                label_style={'size':\"lg\",\"color\": \"#525252\",'border-color':'#525252','background-color':'white','font-family':'Calibri',' font-size': '2.5em'},\n",
    "                                                options=[\n",
    "                                                    {\"label\": \"Physical Health\", \"value\": 1},\n",
    "                                                    {\"label\": \"Mental Health\", \"value\": 2},],value=1,className ='btn-group rounded text-center nav-justified col12'),\n",
    "                                    ],className = 'bg-white  text-center m-1' , style = {'display': 'block'}),\n",
    "                            ],className='shadow rounded card p-3 text-center m-1',style={'display': 'block',\"height\":\"34rem\",\"border-color\":\"#525252\",\"border-width\": \"medium\"},),\n",
    "                    ],xs=12, sm=12, md=12, lg=3, xl=3),\n",
    "                     \n",
    "                    ################################## Admiting Physical/ Mental health issue in an interview ##################################   \n",
    "                    dbc.Col([\n",
    "                        dbc.Card([\n",
    "                            dbc.CardHeader([\n",
    "                                dcc.Dropdown(id='dp8', multi=False, value='USA',options=[{'label':x, 'value':x}for x in Countries],\n",
    "                                    style={\"textTransform\": \"uppercase\",'border-color':'#b3dad7','background-color':'white','text-color':'white', 'width' : '250'},className = \"dropdown open\"),\n",
    "                                ],className ='bg-white mb-1'),                                      \n",
    "                            dbc.CardBody([\n",
    "                               dcc.Graph(id='line-fig8',figure=draw_MH_interview(country),className=' m-1',)\n",
    "                            ]),\n",
    "                            dbc.CardFooter([html.H5(\"Admiting Physical/ Mental health issue in an interview\", className=\"card-text\",style = {'color':'#525252'}),],className ='bg-white'),\n",
    "                            ],className='shadow rounded card p-3 text-center m-1',style={\"height\":\"34rem\",\"border-color\":\"#525252\",\"border-width\": \"medium\"},),\n",
    "                    ],xs=12, sm=12, md=12, lg=5, xl=5),\n",
    "\n",
    "                    ################################## How to Improve MH In the Industry Thoughts ##################################   \n",
    "                    dbc.Col([\n",
    "                        dbc.Card([\n",
    "                            dbc.CardBody([dcc.Graph(id='wordcloud', figure=draw_world_cloud(), config={'displayModeBar': False})]),\n",
    "                            dbc.CardFooter([html.H5(\"How to Improve MH In the Industry Thoughts\", style = {'color':'#525252'}, className=\"card-text\"), ],className ='bg-white'),\n",
    "                        ],className='shadow rounded card p-3 text-center m-1',style={\"height\":\"34rem\",\"border-color\":\"#525252\",\"border-width\": \"medium\"},),\n",
    "                    ],xs=12, sm=12, md=12, lg=4, xl=4),\n",
    "                ]),\n",
    "            ],style  = {'height':'20%'} , className = 'my-2', justify='center')\n",
    "        ],className = 'my-2',style  = {'height':'20%'})\n",
    "\n",
    "     ],),\n",
    "\n",
    "],fluid=True,style={'font-family':'Calibri'},)\n",
    "\n",
    "##################################################call############################################            \n",
    "\n",
    "@app.callback(\n",
    "    Output('line-fig1', 'figure'),\n",
    "    Output('line-fig2', 'figure'),\n",
    "    Output('line-fig3', 'figure'),\n",
    "    Output('line-fig4', 'figure'),\n",
    "    Output('line-fig8', 'figure'),\n",
    "    Input('dp1','value'),\n",
    "    Input('dp2','value'),\n",
    "    Input('dp3','value'),\n",
    "    Input('dp4','value'),\n",
    "    Input('dp8','value'),\n",
    "     )\n",
    "def output_fig_part1(dp1,dp2,dp3,dp4,dp8):\n",
    "    fig1 = draw_Techs_by_gender(dp1)\n",
    "    fig2 =draw_Age_Vs_MH_prob_Vs_Country(dp2) \n",
    "    fig3 = draw_curr_mh_by_country_plt(dp3)\n",
    "    fig4 = draw_mh_resources_provided_plt(dp4)\n",
    "    fig8 = draw_MH_interview(dp8)\n",
    "\n",
    "    return fig1,fig2,fig3,fig4,fig8\n",
    "\n",
    "@app.callback(Output(\"line-fig7\", \"figure\"), [Input(\"radios\", \"value\"),Input('dp7','value')])\n",
    "def switch_button(at , dp7):\n",
    "    if at == 1:\n",
    "        return draw_admit_ph_issue_in_interview_plt(dp7)\n",
    "    elif at == 2:\n",
    "        return draw_admit_mh_issue_in_interview_plt(dp7)\n",
    "    return html.P(\"This shouldn't ever be displayed...\")\n",
    "\n",
    "\n",
    "\n",
    "\n",
    "\n",
    "if __name__ == '__main__':\n",
    "    app.run_server(debug=True, port=5051)"
   ]
  },
  {
   "cell_type": "code",
   "execution_count": null,
   "metadata": {},
   "outputs": [],
   "source": []
  }
 ],
 "metadata": {
  "colab": {
   "name": "data_preprocessing.ipynb",
   "provenance": []
  },
  "kernelspec": {
   "display_name": "Python 3",
   "language": "python",
   "name": "python3"
  },
  "language_info": {
   "codemirror_mode": {
    "name": "ipython",
    "version": 3
   },
   "file_extension": ".py",
   "mimetype": "text/x-python",
   "name": "python",
   "nbconvert_exporter": "python",
   "pygments_lexer": "ipython3",
   "version": "3.8.5"
  },
  "vscode": {
   "interpreter": {
    "hash": "6456470966aacefa388c68c9fe7d64bbc7d9820ea7c6886760c09cd5181e254c"
   }
  }
 },
 "nbformat": 4,
 "nbformat_minor": 1
}
