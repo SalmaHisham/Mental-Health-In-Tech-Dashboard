{
 "cells": [
  {
   "cell_type": "markdown",
   "metadata": {
    "id": "fxGA9jMLKpDu"
   },
   "source": [
    "#  Import Libraries"
   ]
  },
  {
   "cell_type": "code",
   "execution_count": 170,
   "metadata": {
    "colab": {
     "base_uri": "https://localhost:8080/",
     "height": 373
    },
    "executionInfo": {
     "elapsed": 1268,
     "status": "error",
     "timestamp": 1654337003170,
     "user": {
      "displayName": "habiba mohamed",
      "userId": "01346726008568088997"
     },
     "user_tz": -120
    },
    "id": "1EVaXlxhKpD0",
    "outputId": "066852e0-fe50-4abb-acbc-220fedbe70eb"
   },
   "outputs": [],
   "source": [
    "import pandas as pd\n",
    "import numpy as np\n",
    "import warnings\n",
    "warnings.filterwarnings('ignore')\n",
    "\n",
    "##################################\n",
    "# for visualization\n",
    "from dash import Dash, html, dcc\n",
    "import plotly.express as px\n",
    "import matplotlib.pyplot as plt \n",
    "\n",
    "import pandas as pd\n",
    "import jupyter_dash\n",
    "from dash.dependencies import Input, Output, State\n",
    "import numpy as np \n",
    "import dash\n",
    "import dash_bootstrap_components as dbc\n",
    "from plotly.subplots import make_subplots\n",
    "import plotly.graph_objects as go\n",
    "import plotly.io as pio\n",
    "pio.renderers.default = \"notebook_connected\"\n"
   ]
  },
  {
   "cell_type": "markdown",
   "metadata": {
    "id": "N0K7yguwKpD1"
   },
   "source": [
    "# Prepare Data"
   ]
  },
  {
   "cell_type": "markdown",
   "metadata": {
    "id": "ziZKv_lhKpD2"
   },
   "source": [
    "### Read Data"
   ]
  },
  {
   "cell_type": "code",
   "execution_count": 171,
   "metadata": {
    "executionInfo": {
     "elapsed": 48,
     "status": "aborted",
     "timestamp": 1654337002829,
     "user": {
      "displayName": "habiba mohamed",
      "userId": "01346726008568088997"
     },
     "user_tz": -120
    },
    "id": "MhHO1k8VKpD2"
   },
   "outputs": [
    {
     "name": "stdout",
     "output_type": "stream",
     "text": [
      "survey_2017.columns =  124\n",
      "survey_2018.columns =  124\n",
      "survey_2019.columns =  83\n",
      "survey_2020.columns =  121\n"
     ]
    }
   ],
   "source": [
    "survey_2017 = pd.read_csv(\"data set\\OSMI Mental Health in Tech Survey 2017.csv\", na_values = np.nan)\n",
    "survey_2017['year'] = '2017'\n",
    "survey_2018 = pd.read_csv(\"data set\\OSMI Mental Health in Tech Survey 2018.csv\", na_values = np.nan)\n",
    "survey_2018['year'] = '2018'\n",
    "survey_2019 = pd.read_csv(\"data set\\OSMI Mental Health in Tech Survey 2019.csv\", na_values = np.nan)\n",
    "survey_2019['year'] = '2019'\n",
    "survey_2020 = pd.read_csv(\"data set\\OSMI Mental Health in Tech Survey 2020 .csv\", na_values = np.nan)\n",
    "survey_2020['year'] = '2020'\n",
    "survey_data_ls = [survey_2017, survey_2018, survey_2019, survey_2020]\n",
    "print(f\"survey_2017.columns =  {len(survey_2017.columns)}\")\n",
    "print(f\"survey_2018.columns =  {len(survey_2018.columns)}\")\n",
    "print(f\"survey_2019.columns =  {len(survey_2019.columns)}\")\n",
    "print(f\"survey_2020.columns =  {len(survey_2020.columns)}\")"
   ]
  },
  {
   "cell_type": "markdown",
   "metadata": {
    "id": "NsjKecKcKpD4"
   },
   "source": [
    "### Clean columns name and prepare data to be merged"
   ]
  },
  {
   "cell_type": "code",
   "execution_count": 172,
   "metadata": {
    "executionInfo": {
     "elapsed": 50,
     "status": "aborted",
     "timestamp": 1654337002831,
     "user": {
      "displayName": "habiba mohamed",
      "userId": "01346726008568088997"
     },
     "user_tz": -120
    },
    "id": "gaDs01NDKpD4"
   },
   "outputs": [],
   "source": [
    "import re as re\n",
    "def remove_tags(string):\n",
    "    result = re.sub('<.*?>|\\*','',string)\n",
    "    return result\n",
    "for survey in survey_data_ls:\n",
    "    renamed_cols = []\n",
    "    for i in range (len(survey.columns)):\n",
    "        renamed_cols.append(remove_tags(survey.columns[i]))\n",
    "    survey.columns = renamed_cols\n"
   ]
  },
  {
   "cell_type": "markdown",
   "metadata": {
    "id": "yKWkxVHRKpD5"
   },
   "source": [
    "### Merge Data"
   ]
  },
  {
   "cell_type": "code",
   "execution_count": 173,
   "metadata": {
    "executionInfo": {
     "elapsed": 49,
     "status": "aborted",
     "timestamp": 1654337002832,
     "user": {
      "displayName": "habiba mohamed",
      "userId": "01346726008568088997"
     },
     "user_tz": -120
    },
    "id": "gUQZVJVNKpD6"
   },
   "outputs": [
    {
     "name": "stdout",
     "output_type": "stream",
     "text": [
      "survey final columns =  25\n"
     ]
    }
   ],
   "source": [
    "important_feat =[\n",
    "\"Is your employer primarily a tech company/organization?\",\n",
    "\"Is your primary role within your company related to tech/IT?\",\n",
    "\"Does your employer provide mental health benefits as part of healthcare coverage?\",\n",
    "\"Has your employer ever formally discussed mental health (for example, as part of a wellness campaign or other official communication)?\",\n",
    "\"Does your employer offer resources to learn more about mental health disorders and options for seeking help?\",\n",
    "\"If a mental health issue prompted you to request a medical leave from work, how easy or difficult would it be to ask for that leave?\",\n",
    "\"Overall, how much importance does your employer place on physical health?\",\n",
    "\"Overall, how much importance does your employer place on mental health?\",\n",
    "\"Do you currently have a mental health disorder?\",\n",
    "\"Have you ever been diagnosed with a mental health disorder?\",\n",
    "\"What disorder(s) have you been diagnosed with?\",\n",
    "\"If possibly, what disorder(s) do you believe you have?\",\n",
    "\"Have you had a mental health disorder in the past?\",\n",
    "\"Do you have a family history of mental illness?\",\n",
    "\"If you have a mental health disorder, how often do you feel that it interferes with your work when being treated effectively?\",\n",
    "\"If you have a mental health disorder,how often do you feel that it interferes with your work when NOT* being treated effectively (i.e., when you are experiencing symptoms)?*\",\n",
    "\"Have your observations of how another individual who discussed a mental health issue made you less likely to reveal a mental health issue yourself in your current workplace?\",\n",
    "\"How wilm ling would you be to share with friends and family that you have a mental illness?\",\n",
    "\"Would you be willing to bring up a physical health issue with a potential employer in an interview?\",\n",
    "\"Would you bring up your mental health with a potential employer in an interview?\",\n",
    "\"Are you openly identified at work as a person with a mental health issue?\",\n",
    "\"Has being identified as a person with a mental health issue affected your career?\",\n",
    "\"How has it affected your career?\",\n",
    "\"If they knew you suffered from a mental health disorder, how do you think that your team members/co-workers would react?\",\n",
    "\"Have you observed or experienced a supportive or well handled response to a mental health issue in your current or previous workplace?\",\n",
    "\"Overall, how well do you think the tech industry supports employees with mental health issues?\",\n",
    "\"Briefly describe what you think the industry as a whole and/or employers could do to improve mental health support for employees.\",\n",
    "\"What is your age?\",\n",
    "\"What is your gender?\",\n",
    "\"What country do you live in?\",\n",
    "\"What country do you work in?\", \n",
    "'year']\n",
    "common_cols = (survey_2017.columns & survey_2020.columns & survey_2019.columns & survey_2018.columns & important_feat)\n",
    "survey = pd.concat([survey_2017[common_cols], survey_2018[common_cols], survey_2019[common_cols], survey_2020[common_cols]], axis=0)\n",
    "print(f\"survey final columns =  {len(survey.columns)}\")"
   ]
  },
  {
   "cell_type": "code",
   "execution_count": 174,
   "metadata": {},
   "outputs": [
    {
     "data": {
      "text/plain": [
       "Index(['Is your employer primarily a tech company/organization?',\n",
       "       'Is your primary role within your company related to tech/IT?',\n",
       "       'Has your employer ever formally discussed mental health (for example, as part of a wellness campaign or other official communication)?',\n",
       "       'Does your employer offer resources to learn more about mental health disorders and options for seeking help?',\n",
       "       'If a mental health issue prompted you to request a medical leave from work, how easy or difficult would it be to ask for that leave?',\n",
       "       'Overall, how much importance does your employer place on physical health?',\n",
       "       'Overall, how much importance does your employer place on mental health?',\n",
       "       'Do you currently have a mental health disorder?',\n",
       "       'Have you ever been diagnosed with a mental health disorder?',\n",
       "       'Have you had a mental health disorder in the past?',\n",
       "       'Do you have a family history of mental illness?',\n",
       "       'If you have a mental health disorder, how often do you feel that it interferes with your work when being treated effectively?',\n",
       "       'Have your observations of how another individual who discussed a mental health issue made you less likely to reveal a mental health issue yourself in your current workplace?',\n",
       "       'Would you be willing to bring up a physical health issue with a potential employer in an interview?',\n",
       "       'Would you bring up your mental health with a potential employer in an interview?',\n",
       "       'Are you openly identified at work as a person with a mental health issue?',\n",
       "       'Has being identified as a person with a mental health issue affected your career?',\n",
       "       'How has it affected your career?',\n",
       "       'Overall, how well do you think the tech industry supports employees with mental health issues?',\n",
       "       'Briefly describe what you think the industry as a whole and/or employers could do to improve mental health support for employees.',\n",
       "       'What is your age?', 'What is your gender?',\n",
       "       'What country do you live in?', 'What country do you work in?', 'year'],\n",
       "      dtype='object')"
      ]
     },
     "execution_count": 174,
     "metadata": {},
     "output_type": "execute_result"
    }
   ],
   "source": [
    "common_cols"
   ]
  },
  {
   "cell_type": "markdown",
   "metadata": {
    "id": "hAdUxTXeKpD7"
   },
   "source": [
    "# Data Pre-processing"
   ]
  },
  {
   "cell_type": "markdown",
   "metadata": {
    "id": "xuA_DyH8KpD7"
   },
   "source": [
    "### `01` Drop Nulls"
   ]
  },
  {
   "cell_type": "code",
   "execution_count": 175,
   "metadata": {
    "executionInfo": {
     "elapsed": 50,
     "status": "aborted",
     "timestamp": 1654337002833,
     "user": {
      "displayName": "habiba mohamed",
      "userId": "01346726008568088997"
     },
     "user_tz": -120
    },
    "id": "2GMqXnAiKpD8"
   },
   "outputs": [
    {
     "data": {
      "text/html": [
       "<div>\n",
       "<style scoped>\n",
       "    .dataframe tbody tr th:only-of-type {\n",
       "        vertical-align: middle;\n",
       "    }\n",
       "\n",
       "    .dataframe tbody tr th {\n",
       "        vertical-align: top;\n",
       "    }\n",
       "\n",
       "    .dataframe thead th {\n",
       "        text-align: right;\n",
       "    }\n",
       "</style>\n",
       "<table border=\"1\" class=\"dataframe\">\n",
       "  <thead>\n",
       "    <tr style=\"text-align: right;\">\n",
       "      <th></th>\n",
       "      <th>index</th>\n",
       "      <th>Nulls_Count</th>\n",
       "    </tr>\n",
       "  </thead>\n",
       "  <tbody>\n",
       "    <tr>\n",
       "      <th>0</th>\n",
       "      <td>How has it affected your career?</td>\n",
       "      <td>95.601173</td>\n",
       "    </tr>\n",
       "    <tr>\n",
       "      <th>1</th>\n",
       "      <td>Has being identified as a person with a mental...</td>\n",
       "      <td>87.976540</td>\n",
       "    </tr>\n",
       "    <tr>\n",
       "      <th>2</th>\n",
       "      <td>Have you ever been diagnosed with a mental hea...</td>\n",
       "      <td>58.181818</td>\n",
       "    </tr>\n",
       "    <tr>\n",
       "      <th>3</th>\n",
       "      <td>Briefly describe what you think the industry a...</td>\n",
       "      <td>30.850440</td>\n",
       "    </tr>\n",
       "    <tr>\n",
       "      <th>4</th>\n",
       "      <td>Have your observations of how another individu...</td>\n",
       "      <td>21.290323</td>\n",
       "    </tr>\n",
       "    <tr>\n",
       "      <th>5</th>\n",
       "      <td>Is your primary role within your company relat...</td>\n",
       "      <td>14.193548</td>\n",
       "    </tr>\n",
       "    <tr>\n",
       "      <th>6</th>\n",
       "      <td>Has your employer ever formally discussed ment...</td>\n",
       "      <td>14.193548</td>\n",
       "    </tr>\n",
       "    <tr>\n",
       "      <th>7</th>\n",
       "      <td>Does your employer offer resources to learn mo...</td>\n",
       "      <td>14.193548</td>\n",
       "    </tr>\n",
       "    <tr>\n",
       "      <th>8</th>\n",
       "      <td>If a mental health issue prompted you to reque...</td>\n",
       "      <td>14.193548</td>\n",
       "    </tr>\n",
       "    <tr>\n",
       "      <th>9</th>\n",
       "      <td>Overall, how much importance does your employe...</td>\n",
       "      <td>14.193548</td>\n",
       "    </tr>\n",
       "    <tr>\n",
       "      <th>10</th>\n",
       "      <td>Overall, how much importance does your employe...</td>\n",
       "      <td>14.193548</td>\n",
       "    </tr>\n",
       "    <tr>\n",
       "      <th>11</th>\n",
       "      <td>Is your employer primarily a tech company/orga...</td>\n",
       "      <td>14.193548</td>\n",
       "    </tr>\n",
       "    <tr>\n",
       "      <th>12</th>\n",
       "      <td>What is your gender?</td>\n",
       "      <td>1.348974</td>\n",
       "    </tr>\n",
       "    <tr>\n",
       "      <th>13</th>\n",
       "      <td>Have you had a mental health disorder in the p...</td>\n",
       "      <td>1.114370</td>\n",
       "    </tr>\n",
       "    <tr>\n",
       "      <th>14</th>\n",
       "      <td>What country do you work in?</td>\n",
       "      <td>0.117302</td>\n",
       "    </tr>\n",
       "    <tr>\n",
       "      <th>15</th>\n",
       "      <td>Are you openly identified at work as a person ...</td>\n",
       "      <td>0.117302</td>\n",
       "    </tr>\n",
       "    <tr>\n",
       "      <th>16</th>\n",
       "      <td>Overall, how well do you think the tech indust...</td>\n",
       "      <td>0.117302</td>\n",
       "    </tr>\n",
       "    <tr>\n",
       "      <th>17</th>\n",
       "      <td>What is your age?</td>\n",
       "      <td>0.117302</td>\n",
       "    </tr>\n",
       "    <tr>\n",
       "      <th>18</th>\n",
       "      <td>What country do you live in?</td>\n",
       "      <td>0.117302</td>\n",
       "    </tr>\n",
       "  </tbody>\n",
       "</table>\n",
       "</div>"
      ],
      "text/plain": [
       "                                                index  Nulls_Count\n",
       "0                    How has it affected your career?    95.601173\n",
       "1   Has being identified as a person with a mental...    87.976540\n",
       "2   Have you ever been diagnosed with a mental hea...    58.181818\n",
       "3   Briefly describe what you think the industry a...    30.850440\n",
       "4   Have your observations of how another individu...    21.290323\n",
       "5   Is your primary role within your company relat...    14.193548\n",
       "6   Has your employer ever formally discussed ment...    14.193548\n",
       "7   Does your employer offer resources to learn mo...    14.193548\n",
       "8   If a mental health issue prompted you to reque...    14.193548\n",
       "9   Overall, how much importance does your employe...    14.193548\n",
       "10  Overall, how much importance does your employe...    14.193548\n",
       "11  Is your employer primarily a tech company/orga...    14.193548\n",
       "12                               What is your gender?     1.348974\n",
       "13  Have you had a mental health disorder in the p...     1.114370\n",
       "14                       What country do you work in?     0.117302\n",
       "15  Are you openly identified at work as a person ...     0.117302\n",
       "16  Overall, how well do you think the tech indust...     0.117302\n",
       "17                                  What is your age?     0.117302\n",
       "18                       What country do you live in?     0.117302"
      ]
     },
     "execution_count": 175,
     "metadata": {},
     "output_type": "execute_result"
    }
   ],
   "source": [
    "nulls_df = ((survey.isnull().sum()/survey.shape[0])*100).sort_values(ascending=False).reset_index().rename(columns = { 0 : \"Nulls_Count\"})\n",
    "nulls_df[nulls_df['Nulls_Count'] > 0]"
   ]
  },
  {
   "cell_type": "code",
   "execution_count": 176,
   "metadata": {
    "executionInfo": {
     "elapsed": 51,
     "status": "aborted",
     "timestamp": 1654337002834,
     "user": {
      "displayName": "habiba mohamed",
      "userId": "01346726008568088997"
     },
     "user_tz": -120
    },
    "id": "z8shAFpTKpD8"
   },
   "outputs": [
    {
     "data": {
      "text/html": [
       "<div>\n",
       "<style scoped>\n",
       "    .dataframe tbody tr th:only-of-type {\n",
       "        vertical-align: middle;\n",
       "    }\n",
       "\n",
       "    .dataframe tbody tr th {\n",
       "        vertical-align: top;\n",
       "    }\n",
       "\n",
       "    .dataframe thead th {\n",
       "        text-align: right;\n",
       "    }\n",
       "</style>\n",
       "<table border=\"1\" class=\"dataframe\">\n",
       "  <thead>\n",
       "    <tr style=\"text-align: right;\">\n",
       "      <th></th>\n",
       "      <th>index</th>\n",
       "      <th>Nulls_Count</th>\n",
       "    </tr>\n",
       "  </thead>\n",
       "  <tbody>\n",
       "    <tr>\n",
       "      <th>0</th>\n",
       "      <td>How has it affected your career?</td>\n",
       "      <td>95.601173</td>\n",
       "    </tr>\n",
       "    <tr>\n",
       "      <th>1</th>\n",
       "      <td>Has being identified as a person with a mental...</td>\n",
       "      <td>87.976540</td>\n",
       "    </tr>\n",
       "    <tr>\n",
       "      <th>2</th>\n",
       "      <td>Have you ever been diagnosed with a mental hea...</td>\n",
       "      <td>58.181818</td>\n",
       "    </tr>\n",
       "    <tr>\n",
       "      <th>3</th>\n",
       "      <td>Briefly describe what you think the industry a...</td>\n",
       "      <td>30.850440</td>\n",
       "    </tr>\n",
       "    <tr>\n",
       "      <th>4</th>\n",
       "      <td>Have your observations of how another individu...</td>\n",
       "      <td>21.290323</td>\n",
       "    </tr>\n",
       "    <tr>\n",
       "      <th>5</th>\n",
       "      <td>Is your primary role within your company relat...</td>\n",
       "      <td>14.193548</td>\n",
       "    </tr>\n",
       "    <tr>\n",
       "      <th>6</th>\n",
       "      <td>Has your employer ever formally discussed ment...</td>\n",
       "      <td>14.193548</td>\n",
       "    </tr>\n",
       "    <tr>\n",
       "      <th>7</th>\n",
       "      <td>Does your employer offer resources to learn mo...</td>\n",
       "      <td>14.193548</td>\n",
       "    </tr>\n",
       "    <tr>\n",
       "      <th>8</th>\n",
       "      <td>If a mental health issue prompted you to reque...</td>\n",
       "      <td>14.193548</td>\n",
       "    </tr>\n",
       "    <tr>\n",
       "      <th>9</th>\n",
       "      <td>Overall, how much importance does your employe...</td>\n",
       "      <td>14.193548</td>\n",
       "    </tr>\n",
       "    <tr>\n",
       "      <th>10</th>\n",
       "      <td>Overall, how much importance does your employe...</td>\n",
       "      <td>14.193548</td>\n",
       "    </tr>\n",
       "    <tr>\n",
       "      <th>11</th>\n",
       "      <td>Is your employer primarily a tech company/orga...</td>\n",
       "      <td>14.193548</td>\n",
       "    </tr>\n",
       "    <tr>\n",
       "      <th>12</th>\n",
       "      <td>What is your gender?</td>\n",
       "      <td>1.348974</td>\n",
       "    </tr>\n",
       "    <tr>\n",
       "      <th>13</th>\n",
       "      <td>Have you had a mental health disorder in the p...</td>\n",
       "      <td>1.114370</td>\n",
       "    </tr>\n",
       "    <tr>\n",
       "      <th>14</th>\n",
       "      <td>What country do you work in?</td>\n",
       "      <td>0.117302</td>\n",
       "    </tr>\n",
       "    <tr>\n",
       "      <th>15</th>\n",
       "      <td>Are you openly identified at work as a person ...</td>\n",
       "      <td>0.117302</td>\n",
       "    </tr>\n",
       "    <tr>\n",
       "      <th>16</th>\n",
       "      <td>Overall, how well do you think the tech indust...</td>\n",
       "      <td>0.117302</td>\n",
       "    </tr>\n",
       "    <tr>\n",
       "      <th>17</th>\n",
       "      <td>What is your age?</td>\n",
       "      <td>0.117302</td>\n",
       "    </tr>\n",
       "    <tr>\n",
       "      <th>18</th>\n",
       "      <td>What country do you live in?</td>\n",
       "      <td>0.117302</td>\n",
       "    </tr>\n",
       "  </tbody>\n",
       "</table>\n",
       "</div>"
      ],
      "text/plain": [
       "                                                index  Nulls_Count\n",
       "0                    How has it affected your career?    95.601173\n",
       "1   Has being identified as a person with a mental...    87.976540\n",
       "2   Have you ever been diagnosed with a mental hea...    58.181818\n",
       "3   Briefly describe what you think the industry a...    30.850440\n",
       "4   Have your observations of how another individu...    21.290323\n",
       "5   Is your primary role within your company relat...    14.193548\n",
       "6   Has your employer ever formally discussed ment...    14.193548\n",
       "7   Does your employer offer resources to learn mo...    14.193548\n",
       "8   If a mental health issue prompted you to reque...    14.193548\n",
       "9   Overall, how much importance does your employe...    14.193548\n",
       "10  Overall, how much importance does your employe...    14.193548\n",
       "11  Is your employer primarily a tech company/orga...    14.193548\n",
       "12                               What is your gender?     1.348974\n",
       "13  Have you had a mental health disorder in the p...     1.114370\n",
       "14                       What country do you work in?     0.117302\n",
       "15  Are you openly identified at work as a person ...     0.117302\n",
       "16  Overall, how well do you think the tech indust...     0.117302\n",
       "17                                  What is your age?     0.117302\n",
       "18                       What country do you live in?     0.117302"
      ]
     },
     "execution_count": 176,
     "metadata": {},
     "output_type": "execute_result"
    }
   ],
   "source": [
    "nulls_df = ((survey.isnull().sum()/survey.shape[0])*100).sort_values(ascending=False).reset_index().rename(columns = { 0 : \"Nulls_Count\"})\n",
    "# drop na values which have null values < threshold \n",
    "dropped_rows = nulls_df[nulls_df['Nulls_Count'] <= 14.0] \n",
    "dropped_rows = list(dropped_rows[dropped_rows['Nulls_Count'] > 0].values[:,0])\n",
    "## when the number of nulls in a row is very small, we can simply drop this small number of rows\n",
    "survey = survey.dropna(axis = 0, subset = dropped_rows)\n",
    "\n",
    "\n",
    "# drop the columns which have null values > threshold  \n",
    "dropped_cols = nulls_df[nulls_df['Nulls_Count'] > 50]\n",
    "dropped_cols = list(dropped_cols.values[:,0])\n",
    "survey = survey.drop(columns = dropped_cols)\n",
    "nulls_df[nulls_df['Nulls_Count'] > 0]\n"
   ]
  },
  {
   "cell_type": "markdown",
   "metadata": {
    "id": "gKV6AsDWKpD9"
   },
   "source": [
    "### `02` Clean This Terrible Data"
   ]
  },
  {
   "cell_type": "code",
   "execution_count": 177,
   "metadata": {
    "executionInfo": {
     "elapsed": 51,
     "status": "aborted",
     "timestamp": 1654337002834,
     "user": {
      "displayName": "habiba mohamed",
      "userId": "01346726008568088997"
     },
     "user_tz": -120
    },
    "id": "n8VNJi5NKpD9"
   },
   "outputs": [],
   "source": [
    "# ------------------------------------------------------- CLEANING THE DATA -------------------------------------------------------\n",
    "# Column rename\n",
    "df = survey.copy()\n",
    "renamed_columns = ['tech_comp_flag', 'tech_role_flag', 'mh_employer_discussion_or_wellness_campaign', 'mh_resources_provided', 'mh_issue_request_medical_leave',\n",
    "'ph_employer_rate', 'mh_employer_rate', 'curr_have_mh_disorder', 'past_have_mh_disorder', 'fam_history', \n",
    "'how often do you feel that it interferes with your work when being treated effectively?', 'smone_disscussion_reveal_ur_mh', 'admit_ph_issue_in_interview',\n",
    "'admit_mh_issue_in_interview', 'openly_id_as_person_wth_mh_issue', 'rate_tech_industry_support',\n",
    "'Briefly describe what you think the industry as a whole and/or employers could do to improve mental health support for employees.', \n",
    "'age', 'gender', 'country_live_in', 'country_work_in', 'year']\n",
    "df.columns = renamed_columns\n",
    "# gender column needs to be recoded (number of unique values = 70)\n",
    "df['gender'].replace(to_replace = ['Male', 'male', 'Male ', 'M', 'm',\n",
    "       'man', 'Cis male', 'Male.', 'male 9:1 female, roughly', 'Male (cis)', 'Man', 'Sex is male',\n",
    "       'cis male', 'Malr', 'Dude', \"I'm a man why didn't you make this a drop down question. You should of asked sex? And I would of answered yes please. Seriously how much text can this take? \",\n",
    "       'mail', 'M|', 'Male/genderqueer', 'male ', 'cisgender male', 'MAle'\n",
    "       'Cis Male', 'Male (trans, FtM)', 'mostly male', 'Masculine', 'Let\\'s keep it simple and say \"male\"', 'cis-male', 'Mail', 'male/androgynous ',\n",
    "       'cis hetero male',\n",
    "       'cisdude', 'cis man', 'MALE'], value = 1, inplace = True)\n",
    "\n",
    "df['gender'].replace(to_replace = ['Female', 'female', 'I identify as female.', 'female ',\n",
    "       'Female assigned at birth ', 'F', 'Woman', 'fm', 'f', 'Cis female ', 'Transitioned, M2F',\n",
    "       'Genderfluid (born female)', 'Female or Multi-Gender Femme', 'Female ', 'woman', 'female/woman',\n",
    "       'Cisgender Female', 'fem', 'Female (props for making this a freeform field, though)',\n",
    "       'Female (cis)', 'FEMALE', 'femmina' 'Agender trans woman', 'Female-identified',\n",
    "       ' Female', 'Cis-woman', 'female-bodied; no feelings about gender', 'female, she/her',\n",
    "       'Nonbinary/femme', 'gender non-conforming woman', 'Female/gender non-binary.',\n",
    "       'Cis woman', 'Female (cisgender)', 'Cis-Female','Cisgendered woman', 'Trans woman',\n",
    "       'uhhhhhhhhh fem genderqueer?', 'My sex is female.', 'femalw', 'femail', 'cis female', 'femmina','Female-ish',\n",
    "       'Woman-identified', 'female (cisgender)', 'Female (cis) ','F, cisgender', 'Trans female', 'Femile',\n",
    "       'AFAB'], value = 2, inplace = True)\n",
    "\n",
    "other = list(df['gender'].unique())\n",
    "other = [o for o in other if o not in (1, 2)]\n",
    "df['gender'].replace(to_replace = other , value = 3, inplace = True)\n",
    "\n",
    "# Recode Comp size & country columns (for ease when doing plots)\n",
    "df['country_live_in'].replace(to_replace = ['United States of America'], value = 'USA', inplace = True)\n",
    "df['country_live_in'].replace(to_replace = ['United Kingdom'], value = 'UK', inplace = True)\n",
    "df['country_work_in'].replace(to_replace = ['United States of America'], value = 'USA', inplace = True)\n",
    "df['country_work_in'].replace(to_replace = ['United Kingdom'], value = 'UK', inplace = True)\n",
    "\n",
    "# Max age is 323, min age is 3.\n",
    "# There are only 5 people that have weird ages (3yo, 15yo, or 99yo or 323 yo.) \n",
    "# These people will take the average age of the dataset (the correct calculated one, w/out outliers)\n",
    "mean_age = df[(df['age'] >= 18) | (df['age'] <= 75)]['age'].mean()\n",
    "df['age'].replace(to_replace = df[(df['age'] < 18) | (df['age'] > 75)]['age'].tolist(),\n",
    "                          value = mean_age, inplace = True)\n"
   ]
  },
  {
   "cell_type": "code",
   "execution_count": 178,
   "metadata": {},
   "outputs": [
    {
     "data": {
      "text/plain": [
       "Not applicable to me    619\n",
       "Sometimes               468\n",
       "Rarely                  408\n",
       "Often                   116\n",
       "Never                    53\n",
       "Name: how often do you feel that it interferes with your work when being treated effectively?, dtype: int64"
      ]
     },
     "execution_count": 178,
     "metadata": {},
     "output_type": "execute_result"
    }
   ],
   "source": [
    "df['how often do you feel that it interferes with your work when being treated effectively?'].value_counts()"
   ]
  },
  {
   "cell_type": "markdown",
   "metadata": {
    "id": "TuDLE9MeKpD9"
   },
   "source": [
    "### `03` Imputation"
   ]
  },
  {
   "cell_type": "code",
   "execution_count": 179,
   "metadata": {
    "executionInfo": {
     "elapsed": 51,
     "status": "aborted",
     "timestamp": 1654337002835,
     "user": {
      "displayName": "habiba mohamed",
      "userId": "01346726008568088997"
     },
     "user_tz": -120
    },
    "id": "fMzw6JutKpD-"
   },
   "outputs": [],
   "source": [
    "# Dealing with other missing values\n",
    "from sklearn.impute import SimpleImputer\n",
    "\n",
    "# Impute nan with the most frequent value (mode) on every row\n",
    "imp = SimpleImputer(missing_values=np.nan, strategy='most_frequent')\n",
    "imp.fit(df)\n",
    "imp_data = pd.DataFrame(data = imp.transform(df), columns = df.columns)\n",
    "prep_data = imp_data.copy()"
   ]
  },
  {
   "cell_type": "markdown",
   "metadata": {
    "id": "QZX7i5uGKpD-"
   },
   "source": [
    "### `04` Encoding categorical Data "
   ]
  },
  {
   "cell_type": "code",
   "execution_count": 180,
   "metadata": {
    "executionInfo": {
     "elapsed": 52,
     "status": "aborted",
     "timestamp": 1654337002836,
     "user": {
      "displayName": "habiba mohamed",
      "userId": "01346726008568088997"
     },
     "user_tz": -120
    },
    "id": "W-jNR81XKpD-"
   },
   "outputs": [],
   "source": [
    "num_data = list((df.select_dtypes(exclude=[object])))\n",
    "cat_data = list(df.select_dtypes(include=[object]))\n",
    "nominal_data = ['year', 'country_live_in', 'country_work_in', 'Briefly describe what you think the industry as a whole and/or employers could do to improve mental health support for employees.']\n",
    "ordinal_data = list(set(cat_data) - set(num_data) - set(nominal_data)) \n"
   ]
  },
  {
   "cell_type": "code",
   "execution_count": 181,
   "metadata": {
    "executionInfo": {
     "elapsed": 52,
     "status": "aborted",
     "timestamp": 1654337002837,
     "user": {
      "displayName": "habiba mohamed",
      "userId": "01346726008568088997"
     },
     "user_tz": -120
    },
    "id": "pltbaQ30KpD-"
   },
   "outputs": [],
   "source": [
    "# ----------- ENCODING -----------\n",
    "# Split data into 2 datasets: one that needs to be encoded, one that doesnt need to\n",
    "# Importing OneHotEncoder\n",
    "from sklearn.preprocessing import OneHotEncoder\n",
    "from sklearn.preprocessing import LabelEncoder\n",
    "\n",
    "def encode(df, ordinal_data):\n",
    "    encoded_data = pd.DataFrame() # to dataframe\n",
    "    le = LabelEncoder()\n",
    "    \n",
    "    for col in ordinal_data:\n",
    "        encoded_data[col] = le.fit_transform(df[col])\n",
    "    \n",
    "    return encoded_data\n",
    "\n",
    "encoded_data = encode(prep_data, ordinal_data)\n",
    "\n",
    "# Preprocessed data\n",
    "data_not_encode_df = prep_data[nominal_data + num_data]\n",
    "prep_data = pd.concat(objs = [encoded_data, data_not_encode_df], axis = 1)\n",
    "# prep_data.head(5)"
   ]
  },
  {
   "cell_type": "code",
   "execution_count": 182,
   "metadata": {
    "executionInfo": {
     "elapsed": 53,
     "status": "aborted",
     "timestamp": 1654337002838,
     "user": {
      "displayName": "habiba mohamed",
      "userId": "01346726008568088997"
     },
     "user_tz": -120
    },
    "id": "ITEyTVT3KpD_"
   },
   "outputs": [],
   "source": [
    "# ----------- OTHER CHANGES -----------\n",
    "# Keep only countries with no. responses > 20\n",
    "prep_data = prep_data[prep_data['country_work_in'].isin(['USA', 'UK', 'India', 'Canada', \n",
    "                                                   'Germany'])]\n",
    "prep_data = prep_data[prep_data['country_live_in'].isin(['USA', 'UK', 'India', 'Canada', \n",
    "                                                   'Germany'])]\n",
    "# clean Rates Columns \n",
    "prep_data['mh_employer_rate'] = prep_data['mh_employer_rate'].fillna(0)\n",
    "prep_data['ph_employer_rate'] = prep_data['ph_employer_rate'].fillna(0)\n"
   ]
  },
  {
   "cell_type": "code",
   "execution_count": 183,
   "metadata": {},
   "outputs": [
    {
     "data": {
      "text/plain": [
       "1    1246\n",
       "0      82\n",
       "Name: tech_role_flag, dtype: int64"
      ]
     },
     "execution_count": 183,
     "metadata": {},
     "output_type": "execute_result"
    }
   ],
   "source": [
    "prep_data['tech_role_flag'].value_counts()"
   ]
  },
  {
   "cell_type": "markdown",
   "metadata": {
    "id": "Zkhs1D2DKpD_"
   },
   "source": [
    "# Visualisation and Insights"
   ]
  },
  {
   "cell_type": "code",
   "execution_count": 184,
   "metadata": {
    "executionInfo": {
     "elapsed": 53,
     "status": "aborted",
     "timestamp": 1654337002839,
     "user": {
      "displayName": "habiba mohamed",
      "userId": "01346726008568088997"
     },
     "user_tz": -120
    },
    "id": "Pj8XarrNKpEA"
   },
   "outputs": [],
   "source": [
    "country = 'USA'"
   ]
  },
  {
   "cell_type": "markdown",
   "metadata": {
    "_cell_guid": "2ba0911b-2796-4c5e-9380-9398c70c6f96",
    "_uuid": "a67e6e74-5251-429b-b318-28aea774dccc",
    "id": "ohi27qS0KpEA"
   },
   "source": [
    "### Responses Gender (only techs) Vs Country\n"
   ]
  },
  {
   "cell_type": "code",
   "execution_count": 243,
   "metadata": {
    "executionInfo": {
     "elapsed": 54,
     "status": "aborted",
     "timestamp": 1654337002840,
     "user": {
      "displayName": "habiba mohamed",
      "userId": "01346726008568088997"
     },
     "user_tz": -120
    },
    "id": "V8SyLHYpKpEA"
   },
   "outputs": [
    {
     "data": {
      "text/html": [
       "<div>                            <div id=\"4c0c6b99-8a28-4b3b-a590-7ea672df953e\" class=\"plotly-graph-div\" style=\"height:325px; width:100%;\"></div>            <script type=\"text/javascript\">                require([\"plotly\"], function(Plotly) {                    window.PLOTLYENV=window.PLOTLYENV || {};                                    if (document.getElementById(\"4c0c6b99-8a28-4b3b-a590-7ea672df953e\")) {                    Plotly.newPlot(                        \"4c0c6b99-8a28-4b3b-a590-7ea672df953e\",                        [{\"labels\":[\"Male\",\"Female\"],\"values\":[65,30],\"type\":\"pie\",\"textfont\":{\"size\":16},\"title\":{\"font\":{\"size\":24},\"position\":\"middle center\"},\"marker\":{\"line\":{\"color\":\"#FFF\",\"width\":2},\"colors\":[\"#b3dad7\",\"#FF92A5\"]},\"hoverinfo\":\"label+percent\"}],                        {\"template\":{\"data\":{\"histogram2dcontour\":[{\"type\":\"histogram2dcontour\",\"colorbar\":{\"outlinewidth\":0,\"ticks\":\"\"},\"colorscale\":[[0.0,\"#0d0887\"],[0.1111111111111111,\"#46039f\"],[0.2222222222222222,\"#7201a8\"],[0.3333333333333333,\"#9c179e\"],[0.4444444444444444,\"#bd3786\"],[0.5555555555555556,\"#d8576b\"],[0.6666666666666666,\"#ed7953\"],[0.7777777777777778,\"#fb9f3a\"],[0.8888888888888888,\"#fdca26\"],[1.0,\"#f0f921\"]]}],\"choropleth\":[{\"type\":\"choropleth\",\"colorbar\":{\"outlinewidth\":0,\"ticks\":\"\"}}],\"histogram2d\":[{\"type\":\"histogram2d\",\"colorbar\":{\"outlinewidth\":0,\"ticks\":\"\"},\"colorscale\":[[0.0,\"#0d0887\"],[0.1111111111111111,\"#46039f\"],[0.2222222222222222,\"#7201a8\"],[0.3333333333333333,\"#9c179e\"],[0.4444444444444444,\"#bd3786\"],[0.5555555555555556,\"#d8576b\"],[0.6666666666666666,\"#ed7953\"],[0.7777777777777778,\"#fb9f3a\"],[0.8888888888888888,\"#fdca26\"],[1.0,\"#f0f921\"]]}],\"heatmap\":[{\"type\":\"heatmap\",\"colorbar\":{\"outlinewidth\":0,\"ticks\":\"\"},\"colorscale\":[[0.0,\"#0d0887\"],[0.1111111111111111,\"#46039f\"],[0.2222222222222222,\"#7201a8\"],[0.3333333333333333,\"#9c179e\"],[0.4444444444444444,\"#bd3786\"],[0.5555555555555556,\"#d8576b\"],[0.6666666666666666,\"#ed7953\"],[0.7777777777777778,\"#fb9f3a\"],[0.8888888888888888,\"#fdca26\"],[1.0,\"#f0f921\"]]}],\"heatmapgl\":[{\"type\":\"heatmapgl\",\"colorbar\":{\"outlinewidth\":0,\"ticks\":\"\"},\"colorscale\":[[0.0,\"#0d0887\"],[0.1111111111111111,\"#46039f\"],[0.2222222222222222,\"#7201a8\"],[0.3333333333333333,\"#9c179e\"],[0.4444444444444444,\"#bd3786\"],[0.5555555555555556,\"#d8576b\"],[0.6666666666666666,\"#ed7953\"],[0.7777777777777778,\"#fb9f3a\"],[0.8888888888888888,\"#fdca26\"],[1.0,\"#f0f921\"]]}],\"contourcarpet\":[{\"type\":\"contourcarpet\",\"colorbar\":{\"outlinewidth\":0,\"ticks\":\"\"}}],\"contour\":[{\"type\":\"contour\",\"colorbar\":{\"outlinewidth\":0,\"ticks\":\"\"},\"colorscale\":[[0.0,\"#0d0887\"],[0.1111111111111111,\"#46039f\"],[0.2222222222222222,\"#7201a8\"],[0.3333333333333333,\"#9c179e\"],[0.4444444444444444,\"#bd3786\"],[0.5555555555555556,\"#d8576b\"],[0.6666666666666666,\"#ed7953\"],[0.7777777777777778,\"#fb9f3a\"],[0.8888888888888888,\"#fdca26\"],[1.0,\"#f0f921\"]]}],\"surface\":[{\"type\":\"surface\",\"colorbar\":{\"outlinewidth\":0,\"ticks\":\"\"},\"colorscale\":[[0.0,\"#0d0887\"],[0.1111111111111111,\"#46039f\"],[0.2222222222222222,\"#7201a8\"],[0.3333333333333333,\"#9c179e\"],[0.4444444444444444,\"#bd3786\"],[0.5555555555555556,\"#d8576b\"],[0.6666666666666666,\"#ed7953\"],[0.7777777777777778,\"#fb9f3a\"],[0.8888888888888888,\"#fdca26\"],[1.0,\"#f0f921\"]]}],\"mesh3d\":[{\"type\":\"mesh3d\",\"colorbar\":{\"outlinewidth\":0,\"ticks\":\"\"}}],\"scatter\":[{\"fillpattern\":{\"fillmode\":\"overlay\",\"size\":10,\"solidity\":0.2},\"type\":\"scatter\"}],\"parcoords\":[{\"type\":\"parcoords\",\"line\":{\"colorbar\":{\"outlinewidth\":0,\"ticks\":\"\"}}}],\"scatterpolargl\":[{\"type\":\"scatterpolargl\",\"marker\":{\"colorbar\":{\"outlinewidth\":0,\"ticks\":\"\"}}}],\"bar\":[{\"error_x\":{\"color\":\"#2a3f5f\"},\"error_y\":{\"color\":\"#2a3f5f\"},\"marker\":{\"line\":{\"color\":\"#E5ECF6\",\"width\":0.5},\"pattern\":{\"fillmode\":\"overlay\",\"size\":10,\"solidity\":0.2}},\"type\":\"bar\"}],\"scattergeo\":[{\"type\":\"scattergeo\",\"marker\":{\"colorbar\":{\"outlinewidth\":0,\"ticks\":\"\"}}}],\"scatterpolar\":[{\"type\":\"scatterpolar\",\"marker\":{\"colorbar\":{\"outlinewidth\":0,\"ticks\":\"\"}}}],\"histogram\":[{\"marker\":{\"pattern\":{\"fillmode\":\"overlay\",\"size\":10,\"solidity\":0.2}},\"type\":\"histogram\"}],\"scattergl\":[{\"type\":\"scattergl\",\"marker\":{\"colorbar\":{\"outlinewidth\":0,\"ticks\":\"\"}}}],\"scatter3d\":[{\"type\":\"scatter3d\",\"line\":{\"colorbar\":{\"outlinewidth\":0,\"ticks\":\"\"}},\"marker\":{\"colorbar\":{\"outlinewidth\":0,\"ticks\":\"\"}}}],\"scattermapbox\":[{\"type\":\"scattermapbox\",\"marker\":{\"colorbar\":{\"outlinewidth\":0,\"ticks\":\"\"}}}],\"scatterternary\":[{\"type\":\"scatterternary\",\"marker\":{\"colorbar\":{\"outlinewidth\":0,\"ticks\":\"\"}}}],\"scattercarpet\":[{\"type\":\"scattercarpet\",\"marker\":{\"colorbar\":{\"outlinewidth\":0,\"ticks\":\"\"}}}],\"carpet\":[{\"aaxis\":{\"endlinecolor\":\"#2a3f5f\",\"gridcolor\":\"white\",\"linecolor\":\"white\",\"minorgridcolor\":\"white\",\"startlinecolor\":\"#2a3f5f\"},\"baxis\":{\"endlinecolor\":\"#2a3f5f\",\"gridcolor\":\"white\",\"linecolor\":\"white\",\"minorgridcolor\":\"white\",\"startlinecolor\":\"#2a3f5f\"},\"type\":\"carpet\"}],\"table\":[{\"cells\":{\"fill\":{\"color\":\"#EBF0F8\"},\"line\":{\"color\":\"white\"}},\"header\":{\"fill\":{\"color\":\"#C8D4E3\"},\"line\":{\"color\":\"white\"}},\"type\":\"table\"}],\"barpolar\":[{\"marker\":{\"line\":{\"color\":\"#E5ECF6\",\"width\":0.5},\"pattern\":{\"fillmode\":\"overlay\",\"size\":10,\"solidity\":0.2}},\"type\":\"barpolar\"}],\"pie\":[{\"automargin\":true,\"type\":\"pie\"}]},\"layout\":{\"autotypenumbers\":\"strict\",\"colorway\":[\"#636efa\",\"#EF553B\",\"#00cc96\",\"#ab63fa\",\"#FFA15A\",\"#19d3f3\",\"#FF6692\",\"#B6E880\",\"#FF97FF\",\"#FECB52\"],\"font\":{\"color\":\"#2a3f5f\"},\"hovermode\":\"closest\",\"hoverlabel\":{\"align\":\"left\"},\"paper_bgcolor\":\"white\",\"plot_bgcolor\":\"#E5ECF6\",\"polar\":{\"bgcolor\":\"#E5ECF6\",\"angularaxis\":{\"gridcolor\":\"white\",\"linecolor\":\"white\",\"ticks\":\"\"},\"radialaxis\":{\"gridcolor\":\"white\",\"linecolor\":\"white\",\"ticks\":\"\"}},\"ternary\":{\"bgcolor\":\"#E5ECF6\",\"aaxis\":{\"gridcolor\":\"white\",\"linecolor\":\"white\",\"ticks\":\"\"},\"baxis\":{\"gridcolor\":\"white\",\"linecolor\":\"white\",\"ticks\":\"\"},\"caxis\":{\"gridcolor\":\"white\",\"linecolor\":\"white\",\"ticks\":\"\"}},\"coloraxis\":{\"colorbar\":{\"outlinewidth\":0,\"ticks\":\"\"}},\"colorscale\":{\"sequential\":[[0.0,\"#0d0887\"],[0.1111111111111111,\"#46039f\"],[0.2222222222222222,\"#7201a8\"],[0.3333333333333333,\"#9c179e\"],[0.4444444444444444,\"#bd3786\"],[0.5555555555555556,\"#d8576b\"],[0.6666666666666666,\"#ed7953\"],[0.7777777777777778,\"#fb9f3a\"],[0.8888888888888888,\"#fdca26\"],[1.0,\"#f0f921\"]],\"sequentialminus\":[[0.0,\"#0d0887\"],[0.1111111111111111,\"#46039f\"],[0.2222222222222222,\"#7201a8\"],[0.3333333333333333,\"#9c179e\"],[0.4444444444444444,\"#bd3786\"],[0.5555555555555556,\"#d8576b\"],[0.6666666666666666,\"#ed7953\"],[0.7777777777777778,\"#fb9f3a\"],[0.8888888888888888,\"#fdca26\"],[1.0,\"#f0f921\"]],\"diverging\":[[0,\"#8e0152\"],[0.1,\"#c51b7d\"],[0.2,\"#de77ae\"],[0.3,\"#f1b6da\"],[0.4,\"#fde0ef\"],[0.5,\"#f7f7f7\"],[0.6,\"#e6f5d0\"],[0.7,\"#b8e186\"],[0.8,\"#7fbc41\"],[0.9,\"#4d9221\"],[1,\"#276419\"]]},\"xaxis\":{\"gridcolor\":\"white\",\"linecolor\":\"white\",\"ticks\":\"\",\"title\":{\"standoff\":15},\"zerolinecolor\":\"white\",\"automargin\":true,\"zerolinewidth\":2},\"yaxis\":{\"gridcolor\":\"white\",\"linecolor\":\"white\",\"ticks\":\"\",\"title\":{\"standoff\":15},\"zerolinecolor\":\"white\",\"automargin\":true,\"zerolinewidth\":2},\"scene\":{\"xaxis\":{\"backgroundcolor\":\"#E5ECF6\",\"gridcolor\":\"white\",\"linecolor\":\"white\",\"showbackground\":true,\"ticks\":\"\",\"zerolinecolor\":\"white\",\"gridwidth\":2},\"yaxis\":{\"backgroundcolor\":\"#E5ECF6\",\"gridcolor\":\"white\",\"linecolor\":\"white\",\"showbackground\":true,\"ticks\":\"\",\"zerolinecolor\":\"white\",\"gridwidth\":2},\"zaxis\":{\"backgroundcolor\":\"#E5ECF6\",\"gridcolor\":\"white\",\"linecolor\":\"white\",\"showbackground\":true,\"ticks\":\"\",\"zerolinecolor\":\"white\",\"gridwidth\":2}},\"shapedefaults\":{\"line\":{\"color\":\"#2a3f5f\"}},\"annotationdefaults\":{\"arrowcolor\":\"#2a3f5f\",\"arrowhead\":0,\"arrowwidth\":1},\"geo\":{\"bgcolor\":\"white\",\"landcolor\":\"#E5ECF6\",\"subunitcolor\":\"white\",\"showland\":true,\"showlakes\":true,\"lakecolor\":\"white\"},\"title\":{\"x\":0.05},\"mapbox\":{\"style\":\"light\"}}},\"legend\":{\"orientation\":\"h\",\"yanchor\":\"bottom\",\"y\":-0.1,\"xanchor\":\"center\",\"x\":0.5},\"margin\":{\"b\":0,\"t\":0,\"l\":0,\"r\":0},\"height\":325},                        {\"responsive\": true}                    ).then(function(){\n",
       "                            \n",
       "var gd = document.getElementById('4c0c6b99-8a28-4b3b-a590-7ea672df953e');\n",
       "var x = new MutationObserver(function (mutations, observer) {{\n",
       "        var display = window.getComputedStyle(gd).display;\n",
       "        if (!display || display === 'none') {{\n",
       "            console.log([gd, 'removed!']);\n",
       "            Plotly.purge(gd);\n",
       "            observer.disconnect();\n",
       "        }}\n",
       "}});\n",
       "\n",
       "// Listen for the removal of the full notebook cells\n",
       "var notebookContainer = gd.closest('#notebook-container');\n",
       "if (notebookContainer) {{\n",
       "    x.observe(notebookContainer, {childList: true});\n",
       "}}\n",
       "\n",
       "// Listen for the clearing of the current output cell\n",
       "var outputEl = gd.closest('.output');\n",
       "if (outputEl) {{\n",
       "    x.observe(outputEl, {childList: true});\n",
       "}}\n",
       "\n",
       "                        })                };                });            </script>        </div>"
      ]
     },
     "metadata": {},
     "output_type": "display_data"
    }
   ],
   "source": [
    "# Most respondents are Male\n",
    "## ----------------- Pie Chart For Gender Vs Techs -----------------\n",
    "def draw_Techs_by_gender(country):\n",
    "    all_techs = prep_data[prep_data['tech_role_flag'] == 1]['gender'].count()\n",
    "    males = prep_data[(prep_data['tech_role_flag'] == 1) & (prep_data['gender'] == 1.0)& ( np.isin(prep_data['country_work_in'], country))]['gender'].count()\n",
    "    females = prep_data[(prep_data['tech_role_flag'] == 1) & (prep_data['gender'] == 2.0)& ( np.isin(prep_data['country_work_in'], country))]['gender'].count()\n",
    "    other = prep_data[(prep_data['tech_role_flag'] == 1) & (prep_data['gender'] == 3.0)& ( np.isin(prep_data['country_work_in'], country))]['gender'].count()\n",
    "\n",
    "    colors = [\"#b3dad7\", \"#FF92A5\"]\n",
    "    Techs_by_gender_fig = go.Figure(data=[go.Pie(labels=['Male', 'Female'], \n",
    "                                    values=[round(males/all_techs * 100), round(females/ all_techs * 100)])])\n",
    "\n",
    "    Techs_by_gender_fig.update_traces(hoverinfo='label+percent', textfont_size=16, title_font_size = 24,  title_position = \"middle center\",\n",
    "                                    marker=dict(colors=colors,\n",
    "                                    line=dict(color='#FFF', width=2)),\n",
    "                                    )\n",
    "    Techs_by_gender_fig.update_layout(\n",
    "                                    legend=dict(orientation=\"h\", yanchor=\"bottom\", y=-0.1, xanchor=\"center\", x=0.5),\n",
    "                                    margin=dict(b = 0, t = 0, l = 0, r = 0),\n",
    "                                    height = 325\n",
    "                                    )\n",
    "    return Techs_by_gender_fig\n",
    "draw_Techs_by_gender(country)"
   ]
  },
  {
   "cell_type": "markdown",
   "metadata": {
    "_cell_guid": "8fc48212-f326-40cb-a1af-a41e2a76b7d6",
    "_uuid": "24c82d6c-54bd-4fac-af82-77f8cd515c26",
    "id": "ZMmpqmXPKpEB"
   },
   "source": [
    "\n",
    "### Have Mental Health Disorder Vs Country"
   ]
  },
  {
   "cell_type": "code",
   "execution_count": 186,
   "metadata": {
    "executionInfo": {
     "elapsed": 54,
     "status": "aborted",
     "timestamp": 1654337002841,
     "user": {
      "displayName": "habiba mohamed",
      "userId": "01346726008568088997"
     },
     "user_tz": -120
    },
    "id": "tlEdkNlgKpEB"
   },
   "outputs": [
    {
     "data": {
      "text/html": [
       "<div>                            <div id=\"4c7eaeaa-30f5-47ca-aaca-86a14330fc5e\" class=\"plotly-graph-div\" style=\"height:525px; width:100%;\"></div>            <script type=\"text/javascript\">                require([\"plotly\"], function(Plotly) {                    window.PLOTLYENV=window.PLOTLYENV || {};                                    if (document.getElementById(\"4c7eaeaa-30f5-47ca-aaca-86a14330fc5e\")) {                    Plotly.newPlot(                        \"4c7eaeaa-30f5-47ca-aaca-86a14330fc5e\",                        [{\"labels\":[\"Possibly\",\"Yes\",\"No\",\"Don't Know\"],\"values\":[0.15730337078651685,0.39486356340288925,0.20385232744783308,0.048154093097913325],\"type\":\"pie\",\"textfont\":{\"size\":12},\"title\":{\"text\":\"Overall Mental Health prop%\",\"font\":{\"size\":24},\"position\":\"middle center\"},\"marker\":{\"line\":{\"color\":\"#FFF\",\"width\":2}},\"hoverinfo\":\"label+percent\",\"showlegend\":true}],                        {\"template\":{\"data\":{\"barpolar\":[{\"marker\":{\"line\":{\"color\":\"rgb(237,237,237)\",\"width\":0.5},\"pattern\":{\"fillmode\":\"overlay\",\"size\":10,\"solidity\":0.2}},\"type\":\"barpolar\"}],\"bar\":[{\"error_x\":{\"color\":\"rgb(51,51,51)\"},\"error_y\":{\"color\":\"rgb(51,51,51)\"},\"marker\":{\"line\":{\"color\":\"rgb(237,237,237)\",\"width\":0.5},\"pattern\":{\"fillmode\":\"overlay\",\"size\":10,\"solidity\":0.2}},\"type\":\"bar\"}],\"carpet\":[{\"aaxis\":{\"endlinecolor\":\"rgb(51,51,51)\",\"gridcolor\":\"white\",\"linecolor\":\"white\",\"minorgridcolor\":\"white\",\"startlinecolor\":\"rgb(51,51,51)\"},\"baxis\":{\"endlinecolor\":\"rgb(51,51,51)\",\"gridcolor\":\"white\",\"linecolor\":\"white\",\"minorgridcolor\":\"white\",\"startlinecolor\":\"rgb(51,51,51)\"},\"type\":\"carpet\"}],\"choropleth\":[{\"colorbar\":{\"outlinewidth\":0,\"tickcolor\":\"rgb(237,237,237)\",\"ticklen\":6,\"ticks\":\"inside\"},\"type\":\"choropleth\"}],\"contourcarpet\":[{\"colorbar\":{\"outlinewidth\":0,\"tickcolor\":\"rgb(237,237,237)\",\"ticklen\":6,\"ticks\":\"inside\"},\"type\":\"contourcarpet\"}],\"contour\":[{\"colorbar\":{\"outlinewidth\":0,\"tickcolor\":\"rgb(237,237,237)\",\"ticklen\":6,\"ticks\":\"inside\"},\"colorscale\":[[0,\"rgb(20,44,66)\"],[1,\"rgb(90,179,244)\"]],\"type\":\"contour\"}],\"heatmapgl\":[{\"colorbar\":{\"outlinewidth\":0,\"tickcolor\":\"rgb(237,237,237)\",\"ticklen\":6,\"ticks\":\"inside\"},\"colorscale\":[[0,\"rgb(20,44,66)\"],[1,\"rgb(90,179,244)\"]],\"type\":\"heatmapgl\"}],\"heatmap\":[{\"colorbar\":{\"outlinewidth\":0,\"tickcolor\":\"rgb(237,237,237)\",\"ticklen\":6,\"ticks\":\"inside\"},\"colorscale\":[[0,\"rgb(20,44,66)\"],[1,\"rgb(90,179,244)\"]],\"type\":\"heatmap\"}],\"histogram2dcontour\":[{\"colorbar\":{\"outlinewidth\":0,\"tickcolor\":\"rgb(237,237,237)\",\"ticklen\":6,\"ticks\":\"inside\"},\"colorscale\":[[0,\"rgb(20,44,66)\"],[1,\"rgb(90,179,244)\"]],\"type\":\"histogram2dcontour\"}],\"histogram2d\":[{\"colorbar\":{\"outlinewidth\":0,\"tickcolor\":\"rgb(237,237,237)\",\"ticklen\":6,\"ticks\":\"inside\"},\"colorscale\":[[0,\"rgb(20,44,66)\"],[1,\"rgb(90,179,244)\"]],\"type\":\"histogram2d\"}],\"histogram\":[{\"marker\":{\"pattern\":{\"fillmode\":\"overlay\",\"size\":10,\"solidity\":0.2}},\"type\":\"histogram\"}],\"mesh3d\":[{\"colorbar\":{\"outlinewidth\":0,\"tickcolor\":\"rgb(237,237,237)\",\"ticklen\":6,\"ticks\":\"inside\"},\"type\":\"mesh3d\"}],\"parcoords\":[{\"line\":{\"colorbar\":{\"outlinewidth\":0,\"tickcolor\":\"rgb(237,237,237)\",\"ticklen\":6,\"ticks\":\"inside\"}},\"type\":\"parcoords\"}],\"pie\":[{\"automargin\":true,\"type\":\"pie\"}],\"scatter3d\":[{\"line\":{\"colorbar\":{\"outlinewidth\":0,\"tickcolor\":\"rgb(237,237,237)\",\"ticklen\":6,\"ticks\":\"inside\"}},\"marker\":{\"colorbar\":{\"outlinewidth\":0,\"tickcolor\":\"rgb(237,237,237)\",\"ticklen\":6,\"ticks\":\"inside\"}},\"type\":\"scatter3d\"}],\"scattercarpet\":[{\"marker\":{\"colorbar\":{\"outlinewidth\":0,\"tickcolor\":\"rgb(237,237,237)\",\"ticklen\":6,\"ticks\":\"inside\"}},\"type\":\"scattercarpet\"}],\"scattergeo\":[{\"marker\":{\"colorbar\":{\"outlinewidth\":0,\"tickcolor\":\"rgb(237,237,237)\",\"ticklen\":6,\"ticks\":\"inside\"}},\"type\":\"scattergeo\"}],\"scattergl\":[{\"marker\":{\"colorbar\":{\"outlinewidth\":0,\"tickcolor\":\"rgb(237,237,237)\",\"ticklen\":6,\"ticks\":\"inside\"}},\"type\":\"scattergl\"}],\"scattermapbox\":[{\"marker\":{\"colorbar\":{\"outlinewidth\":0,\"tickcolor\":\"rgb(237,237,237)\",\"ticklen\":6,\"ticks\":\"inside\"}},\"type\":\"scattermapbox\"}],\"scatterpolargl\":[{\"marker\":{\"colorbar\":{\"outlinewidth\":0,\"tickcolor\":\"rgb(237,237,237)\",\"ticklen\":6,\"ticks\":\"inside\"}},\"type\":\"scatterpolargl\"}],\"scatterpolar\":[{\"marker\":{\"colorbar\":{\"outlinewidth\":0,\"tickcolor\":\"rgb(237,237,237)\",\"ticklen\":6,\"ticks\":\"inside\"}},\"type\":\"scatterpolar\"}],\"scatter\":[{\"fillpattern\":{\"fillmode\":\"overlay\",\"size\":10,\"solidity\":0.2},\"type\":\"scatter\"}],\"scatterternary\":[{\"marker\":{\"colorbar\":{\"outlinewidth\":0,\"tickcolor\":\"rgb(237,237,237)\",\"ticklen\":6,\"ticks\":\"inside\"}},\"type\":\"scatterternary\"}],\"surface\":[{\"colorbar\":{\"outlinewidth\":0,\"tickcolor\":\"rgb(237,237,237)\",\"ticklen\":6,\"ticks\":\"inside\"},\"colorscale\":[[0,\"rgb(20,44,66)\"],[1,\"rgb(90,179,244)\"]],\"type\":\"surface\"}],\"table\":[{\"cells\":{\"fill\":{\"color\":\"rgb(237,237,237)\"},\"line\":{\"color\":\"white\"}},\"header\":{\"fill\":{\"color\":\"rgb(217,217,217)\"},\"line\":{\"color\":\"white\"}},\"type\":\"table\"}]},\"layout\":{\"annotationdefaults\":{\"arrowhead\":0,\"arrowwidth\":1},\"autotypenumbers\":\"strict\",\"coloraxis\":{\"colorbar\":{\"outlinewidth\":0,\"tickcolor\":\"rgb(237,237,237)\",\"ticklen\":6,\"ticks\":\"inside\"}},\"colorscale\":{\"sequential\":[[0,\"rgb(20,44,66)\"],[1,\"rgb(90,179,244)\"]],\"sequentialminus\":[[0,\"rgb(20,44,66)\"],[1,\"rgb(90,179,244)\"]]},\"colorway\":[\"#F8766D\",\"#A3A500\",\"#00BF7D\",\"#00B0F6\",\"#E76BF3\"],\"font\":{\"color\":\"rgb(51,51,51)\"},\"geo\":{\"bgcolor\":\"white\",\"lakecolor\":\"white\",\"landcolor\":\"rgb(237,237,237)\",\"showlakes\":true,\"showland\":true,\"subunitcolor\":\"white\"},\"hoverlabel\":{\"align\":\"left\"},\"hovermode\":\"closest\",\"paper_bgcolor\":\"white\",\"plot_bgcolor\":\"rgb(237,237,237)\",\"polar\":{\"angularaxis\":{\"gridcolor\":\"white\",\"linecolor\":\"white\",\"showgrid\":true,\"tickcolor\":\"rgb(51,51,51)\",\"ticks\":\"outside\"},\"bgcolor\":\"rgb(237,237,237)\",\"radialaxis\":{\"gridcolor\":\"white\",\"linecolor\":\"white\",\"showgrid\":true,\"tickcolor\":\"rgb(51,51,51)\",\"ticks\":\"outside\"}},\"scene\":{\"xaxis\":{\"backgroundcolor\":\"rgb(237,237,237)\",\"gridcolor\":\"white\",\"gridwidth\":2,\"linecolor\":\"white\",\"showbackground\":true,\"showgrid\":true,\"tickcolor\":\"rgb(51,51,51)\",\"ticks\":\"outside\",\"zerolinecolor\":\"white\"},\"yaxis\":{\"backgroundcolor\":\"rgb(237,237,237)\",\"gridcolor\":\"white\",\"gridwidth\":2,\"linecolor\":\"white\",\"showbackground\":true,\"showgrid\":true,\"tickcolor\":\"rgb(51,51,51)\",\"ticks\":\"outside\",\"zerolinecolor\":\"white\"},\"zaxis\":{\"backgroundcolor\":\"rgb(237,237,237)\",\"gridcolor\":\"white\",\"gridwidth\":2,\"linecolor\":\"white\",\"showbackground\":true,\"showgrid\":true,\"tickcolor\":\"rgb(51,51,51)\",\"ticks\":\"outside\",\"zerolinecolor\":\"white\"}},\"shapedefaults\":{\"fillcolor\":\"black\",\"line\":{\"width\":0},\"opacity\":0.3},\"ternary\":{\"aaxis\":{\"gridcolor\":\"white\",\"linecolor\":\"white\",\"showgrid\":true,\"tickcolor\":\"rgb(51,51,51)\",\"ticks\":\"outside\"},\"baxis\":{\"gridcolor\":\"white\",\"linecolor\":\"white\",\"showgrid\":true,\"tickcolor\":\"rgb(51,51,51)\",\"ticks\":\"outside\"},\"bgcolor\":\"rgb(237,237,237)\",\"caxis\":{\"gridcolor\":\"white\",\"linecolor\":\"white\",\"showgrid\":true,\"tickcolor\":\"rgb(51,51,51)\",\"ticks\":\"outside\"}},\"xaxis\":{\"automargin\":true,\"gridcolor\":\"white\",\"linecolor\":\"white\",\"showgrid\":true,\"tickcolor\":\"rgb(51,51,51)\",\"ticks\":\"outside\",\"title\":{\"standoff\":15},\"zerolinecolor\":\"white\"},\"yaxis\":{\"automargin\":true,\"gridcolor\":\"white\",\"linecolor\":\"white\",\"showgrid\":true,\"tickcolor\":\"rgb(51,51,51)\",\"ticks\":\"outside\",\"title\":{\"standoff\":15},\"zerolinecolor\":\"white\"}}},\"legend\":{\"orientation\":\"h\",\"yanchor\":\"bottom\",\"y\":-0.1,\"xanchor\":\"center\",\"x\":0.5},\"margin\":{\"b\":0,\"t\":0,\"l\":0,\"r\":0}},                        {\"responsive\": true}                    ).then(function(){\n",
       "                            \n",
       "var gd = document.getElementById('4c7eaeaa-30f5-47ca-aaca-86a14330fc5e');\n",
       "var x = new MutationObserver(function (mutations, observer) {{\n",
       "        var display = window.getComputedStyle(gd).display;\n",
       "        if (!display || display === 'none') {{\n",
       "            console.log([gd, 'removed!']);\n",
       "            Plotly.purge(gd);\n",
       "            observer.disconnect();\n",
       "        }}\n",
       "}});\n",
       "\n",
       "// Listen for the removal of the full notebook cells\n",
       "var notebookContainer = gd.closest('#notebook-container');\n",
       "if (notebookContainer) {{\n",
       "    x.observe(notebookContainer, {childList: true});\n",
       "}}\n",
       "\n",
       "// Listen for the clearing of the current output cell\n",
       "var outputEl = gd.closest('.output');\n",
       "if (outputEl) {{\n",
       "    x.observe(outputEl, {childList: true});\n",
       "}}\n",
       "\n",
       "                        })                };                });            </script>        </div>"
      ]
     },
     "metadata": {},
     "output_type": "display_data"
    }
   ],
   "source": [
    "# ----------------- Pie Chart For MH Disorder Vs Techs -----------------\n",
    "all_techs_now = prep_data[prep_data['tech_role_flag'] == 1]['curr_have_mh_disorder'].count()\n",
    "no_now = prep_data[(prep_data['tech_role_flag'] == 1) & (prep_data['curr_have_mh_disorder'] == 2) & ( np.isin(prep_data['country_work_in'], country))]['curr_have_mh_disorder'].count()\n",
    "yes_now = prep_data[(prep_data['tech_role_flag'] == 1) & (prep_data['curr_have_mh_disorder'] == 3) & ( np.isin(prep_data['country_work_in'], country))]['curr_have_mh_disorder'].count()\n",
    "maybe_now = prep_data[(prep_data['tech_role_flag'] == 1) & (prep_data['curr_have_mh_disorder'] == 1) & ( np.isin(prep_data['country_work_in'], country))]['curr_have_mh_disorder'].count()\n",
    "dnt_know = prep_data[(prep_data['tech_role_flag'] == 1) & (prep_data['curr_have_mh_disorder'] == 0) & ( np.isin(prep_data['country_work_in'], country))]['curr_have_mh_disorder'].count()\n",
    "\n",
    "labels = ['Possibly', 'Yes', 'No', \"Don't Know\"]\n",
    "sizes = [no_now/all_techs_now, yes_now/all_techs_now, maybe_now/all_techs_now, dnt_know/all_techs_now]\n",
    "\n",
    "MH_disorder_by_country_fig = go.Figure(data=[go.Pie(labels = labels, values=sizes)])\n",
    "\n",
    "MH_disorder_by_country_fig.update_traces(title = 'Overall Mental Health prop%', hoverinfo='label+percent', textfont_size=12, title_font_size = 24, title_position = \"middle center\",\n",
    "                  marker=dict(line=dict(color='#FFF', width=2)), showlegend = True\n",
    "                  )\n",
    "MH_disorder_by_country_fig.update_layout(\n",
    "              template = 'ggplot2',\n",
    "              legend=dict(orientation=\"h\", yanchor=\"bottom\", y=-0.1, xanchor=\"center\", x=0.5),\n",
    "              margin=dict(b = 0, t = 0, l = 0, r = 0),\n",
    "              )\n",
    "MH_disorder_by_country_fig.show()"
   ]
  },
  {
   "cell_type": "markdown",
   "metadata": {
    "id": "bf_XOYcoKpEB"
   },
   "source": [
    "### Age Vs MH prob Vs Country"
   ]
  },
  {
   "cell_type": "code",
   "execution_count": 187,
   "metadata": {
    "executionInfo": {
     "elapsed": 54,
     "status": "aborted",
     "timestamp": 1654337002842,
     "user": {
      "displayName": "habiba mohamed",
      "userId": "01346726008568088997"
     },
     "user_tz": -120
    },
    "id": "Wg2jdEDUKpEB"
   },
   "outputs": [
    {
     "data": {
      "text/html": [
       "<div>                            <div id=\"632f0975-89f0-4e8a-b8a0-fd8addca0a26\" class=\"plotly-graph-div\" style=\"height:350px; width:100%;\"></div>            <script type=\"text/javascript\">                require([\"plotly\"], function(Plotly) {                    window.PLOTLYENV=window.PLOTLYENV || {};                                    if (document.getElementById(\"632f0975-89f0-4e8a-b8a0-fd8addca0a26\")) {                    Plotly.newPlot(                        \"632f0975-89f0-4e8a-b8a0-fd8addca0a26\",                        [{\"hovertemplate\":\"range=%{x}<br>Count=%{y}<extra></extra>\",\"legendgroup\":\"\",\"line\":{\"color\":\"#636efa\",\"dash\":\"solid\"},\"marker\":{\"symbol\":\"circle\"},\"mode\":\"lines\",\"name\":\"\",\"orientation\":\"v\",\"showlegend\":false,\"x\":[\"20-25\",\"25-30\",\"30-35\",\"35-40\",\"40-45\",\"50-55\",\"55+\"],\"xaxis\":\"x\",\"y\":[115,229,233,193,118,54,34],\"yaxis\":\"y\",\"type\":\"scatter\"}],                        {\"template\":{\"data\":{\"barpolar\":[{\"marker\":{\"line\":{\"color\":\"rgb(234,234,242)\",\"width\":0.5},\"pattern\":{\"fillmode\":\"overlay\",\"size\":10,\"solidity\":0.2}},\"type\":\"barpolar\"}],\"bar\":[{\"error_x\":{\"color\":\"rgb(36,36,36)\"},\"error_y\":{\"color\":\"rgb(36,36,36)\"},\"marker\":{\"line\":{\"color\":\"rgb(234,234,242)\",\"width\":0.5},\"pattern\":{\"fillmode\":\"overlay\",\"size\":10,\"solidity\":0.2}},\"type\":\"bar\"}],\"carpet\":[{\"aaxis\":{\"endlinecolor\":\"rgb(36,36,36)\",\"gridcolor\":\"white\",\"linecolor\":\"white\",\"minorgridcolor\":\"white\",\"startlinecolor\":\"rgb(36,36,36)\"},\"baxis\":{\"endlinecolor\":\"rgb(36,36,36)\",\"gridcolor\":\"white\",\"linecolor\":\"white\",\"minorgridcolor\":\"white\",\"startlinecolor\":\"rgb(36,36,36)\"},\"type\":\"carpet\"}],\"choropleth\":[{\"colorbar\":{\"outlinewidth\":0,\"tickcolor\":\"rgb(36,36,36)\",\"ticklen\":8,\"ticks\":\"outside\",\"tickwidth\":2},\"type\":\"choropleth\"}],\"contourcarpet\":[{\"colorbar\":{\"outlinewidth\":0,\"tickcolor\":\"rgb(36,36,36)\",\"ticklen\":8,\"ticks\":\"outside\",\"tickwidth\":2},\"type\":\"contourcarpet\"}],\"contour\":[{\"colorbar\":{\"outlinewidth\":0,\"tickcolor\":\"rgb(36,36,36)\",\"ticklen\":8,\"ticks\":\"outside\",\"tickwidth\":2},\"colorscale\":[[0.0,\"rgb(2,4,25)\"],[0.06274509803921569,\"rgb(24,15,41)\"],[0.12549019607843137,\"rgb(47,23,57)\"],[0.18823529411764706,\"rgb(71,28,72)\"],[0.25098039215686274,\"rgb(97,30,82)\"],[0.3137254901960784,\"rgb(123,30,89)\"],[0.3764705882352941,\"rgb(150,27,91)\"],[0.4392156862745098,\"rgb(177,22,88)\"],[0.5019607843137255,\"rgb(203,26,79)\"],[0.5647058823529412,\"rgb(223,47,67)\"],[0.6274509803921569,\"rgb(236,76,61)\"],[0.6901960784313725,\"rgb(242,107,73)\"],[0.7529411764705882,\"rgb(244,135,95)\"],[0.8156862745098039,\"rgb(245,162,122)\"],[0.8784313725490196,\"rgb(246,188,153)\"],[0.9411764705882353,\"rgb(247,212,187)\"],[1.0,\"rgb(250,234,220)\"]],\"type\":\"contour\"}],\"heatmapgl\":[{\"colorbar\":{\"outlinewidth\":0,\"tickcolor\":\"rgb(36,36,36)\",\"ticklen\":8,\"ticks\":\"outside\",\"tickwidth\":2},\"colorscale\":[[0.0,\"rgb(2,4,25)\"],[0.06274509803921569,\"rgb(24,15,41)\"],[0.12549019607843137,\"rgb(47,23,57)\"],[0.18823529411764706,\"rgb(71,28,72)\"],[0.25098039215686274,\"rgb(97,30,82)\"],[0.3137254901960784,\"rgb(123,30,89)\"],[0.3764705882352941,\"rgb(150,27,91)\"],[0.4392156862745098,\"rgb(177,22,88)\"],[0.5019607843137255,\"rgb(203,26,79)\"],[0.5647058823529412,\"rgb(223,47,67)\"],[0.6274509803921569,\"rgb(236,76,61)\"],[0.6901960784313725,\"rgb(242,107,73)\"],[0.7529411764705882,\"rgb(244,135,95)\"],[0.8156862745098039,\"rgb(245,162,122)\"],[0.8784313725490196,\"rgb(246,188,153)\"],[0.9411764705882353,\"rgb(247,212,187)\"],[1.0,\"rgb(250,234,220)\"]],\"type\":\"heatmapgl\"}],\"heatmap\":[{\"colorbar\":{\"outlinewidth\":0,\"tickcolor\":\"rgb(36,36,36)\",\"ticklen\":8,\"ticks\":\"outside\",\"tickwidth\":2},\"colorscale\":[[0.0,\"rgb(2,4,25)\"],[0.06274509803921569,\"rgb(24,15,41)\"],[0.12549019607843137,\"rgb(47,23,57)\"],[0.18823529411764706,\"rgb(71,28,72)\"],[0.25098039215686274,\"rgb(97,30,82)\"],[0.3137254901960784,\"rgb(123,30,89)\"],[0.3764705882352941,\"rgb(150,27,91)\"],[0.4392156862745098,\"rgb(177,22,88)\"],[0.5019607843137255,\"rgb(203,26,79)\"],[0.5647058823529412,\"rgb(223,47,67)\"],[0.6274509803921569,\"rgb(236,76,61)\"],[0.6901960784313725,\"rgb(242,107,73)\"],[0.7529411764705882,\"rgb(244,135,95)\"],[0.8156862745098039,\"rgb(245,162,122)\"],[0.8784313725490196,\"rgb(246,188,153)\"],[0.9411764705882353,\"rgb(247,212,187)\"],[1.0,\"rgb(250,234,220)\"]],\"type\":\"heatmap\"}],\"histogram2dcontour\":[{\"colorbar\":{\"outlinewidth\":0,\"tickcolor\":\"rgb(36,36,36)\",\"ticklen\":8,\"ticks\":\"outside\",\"tickwidth\":2},\"colorscale\":[[0.0,\"rgb(2,4,25)\"],[0.06274509803921569,\"rgb(24,15,41)\"],[0.12549019607843137,\"rgb(47,23,57)\"],[0.18823529411764706,\"rgb(71,28,72)\"],[0.25098039215686274,\"rgb(97,30,82)\"],[0.3137254901960784,\"rgb(123,30,89)\"],[0.3764705882352941,\"rgb(150,27,91)\"],[0.4392156862745098,\"rgb(177,22,88)\"],[0.5019607843137255,\"rgb(203,26,79)\"],[0.5647058823529412,\"rgb(223,47,67)\"],[0.6274509803921569,\"rgb(236,76,61)\"],[0.6901960784313725,\"rgb(242,107,73)\"],[0.7529411764705882,\"rgb(244,135,95)\"],[0.8156862745098039,\"rgb(245,162,122)\"],[0.8784313725490196,\"rgb(246,188,153)\"],[0.9411764705882353,\"rgb(247,212,187)\"],[1.0,\"rgb(250,234,220)\"]],\"type\":\"histogram2dcontour\"}],\"histogram2d\":[{\"colorbar\":{\"outlinewidth\":0,\"tickcolor\":\"rgb(36,36,36)\",\"ticklen\":8,\"ticks\":\"outside\",\"tickwidth\":2},\"colorscale\":[[0.0,\"rgb(2,4,25)\"],[0.06274509803921569,\"rgb(24,15,41)\"],[0.12549019607843137,\"rgb(47,23,57)\"],[0.18823529411764706,\"rgb(71,28,72)\"],[0.25098039215686274,\"rgb(97,30,82)\"],[0.3137254901960784,\"rgb(123,30,89)\"],[0.3764705882352941,\"rgb(150,27,91)\"],[0.4392156862745098,\"rgb(177,22,88)\"],[0.5019607843137255,\"rgb(203,26,79)\"],[0.5647058823529412,\"rgb(223,47,67)\"],[0.6274509803921569,\"rgb(236,76,61)\"],[0.6901960784313725,\"rgb(242,107,73)\"],[0.7529411764705882,\"rgb(244,135,95)\"],[0.8156862745098039,\"rgb(245,162,122)\"],[0.8784313725490196,\"rgb(246,188,153)\"],[0.9411764705882353,\"rgb(247,212,187)\"],[1.0,\"rgb(250,234,220)\"]],\"type\":\"histogram2d\"}],\"histogram\":[{\"marker\":{\"pattern\":{\"fillmode\":\"overlay\",\"size\":10,\"solidity\":0.2}},\"type\":\"histogram\"}],\"mesh3d\":[{\"colorbar\":{\"outlinewidth\":0,\"tickcolor\":\"rgb(36,36,36)\",\"ticklen\":8,\"ticks\":\"outside\",\"tickwidth\":2},\"type\":\"mesh3d\"}],\"parcoords\":[{\"line\":{\"colorbar\":{\"outlinewidth\":0,\"tickcolor\":\"rgb(36,36,36)\",\"ticklen\":8,\"ticks\":\"outside\",\"tickwidth\":2}},\"type\":\"parcoords\"}],\"pie\":[{\"automargin\":true,\"type\":\"pie\"}],\"scatter3d\":[{\"line\":{\"colorbar\":{\"outlinewidth\":0,\"tickcolor\":\"rgb(36,36,36)\",\"ticklen\":8,\"ticks\":\"outside\",\"tickwidth\":2}},\"marker\":{\"colorbar\":{\"outlinewidth\":0,\"tickcolor\":\"rgb(36,36,36)\",\"ticklen\":8,\"ticks\":\"outside\",\"tickwidth\":2}},\"type\":\"scatter3d\"}],\"scattercarpet\":[{\"marker\":{\"colorbar\":{\"outlinewidth\":0,\"tickcolor\":\"rgb(36,36,36)\",\"ticklen\":8,\"ticks\":\"outside\",\"tickwidth\":2}},\"type\":\"scattercarpet\"}],\"scattergeo\":[{\"marker\":{\"colorbar\":{\"outlinewidth\":0,\"tickcolor\":\"rgb(36,36,36)\",\"ticklen\":8,\"ticks\":\"outside\",\"tickwidth\":2}},\"type\":\"scattergeo\"}],\"scattergl\":[{\"marker\":{\"colorbar\":{\"outlinewidth\":0,\"tickcolor\":\"rgb(36,36,36)\",\"ticklen\":8,\"ticks\":\"outside\",\"tickwidth\":2}},\"type\":\"scattergl\"}],\"scattermapbox\":[{\"marker\":{\"colorbar\":{\"outlinewidth\":0,\"tickcolor\":\"rgb(36,36,36)\",\"ticklen\":8,\"ticks\":\"outside\",\"tickwidth\":2}},\"type\":\"scattermapbox\"}],\"scatterpolargl\":[{\"marker\":{\"colorbar\":{\"outlinewidth\":0,\"tickcolor\":\"rgb(36,36,36)\",\"ticklen\":8,\"ticks\":\"outside\",\"tickwidth\":2}},\"type\":\"scatterpolargl\"}],\"scatterpolar\":[{\"marker\":{\"colorbar\":{\"outlinewidth\":0,\"tickcolor\":\"rgb(36,36,36)\",\"ticklen\":8,\"ticks\":\"outside\",\"tickwidth\":2}},\"type\":\"scatterpolar\"}],\"scatter\":[{\"fillpattern\":{\"fillmode\":\"overlay\",\"size\":10,\"solidity\":0.2},\"type\":\"scatter\"}],\"scatterternary\":[{\"marker\":{\"colorbar\":{\"outlinewidth\":0,\"tickcolor\":\"rgb(36,36,36)\",\"ticklen\":8,\"ticks\":\"outside\",\"tickwidth\":2}},\"type\":\"scatterternary\"}],\"surface\":[{\"colorbar\":{\"outlinewidth\":0,\"tickcolor\":\"rgb(36,36,36)\",\"ticklen\":8,\"ticks\":\"outside\",\"tickwidth\":2},\"colorscale\":[[0.0,\"rgb(2,4,25)\"],[0.06274509803921569,\"rgb(24,15,41)\"],[0.12549019607843137,\"rgb(47,23,57)\"],[0.18823529411764706,\"rgb(71,28,72)\"],[0.25098039215686274,\"rgb(97,30,82)\"],[0.3137254901960784,\"rgb(123,30,89)\"],[0.3764705882352941,\"rgb(150,27,91)\"],[0.4392156862745098,\"rgb(177,22,88)\"],[0.5019607843137255,\"rgb(203,26,79)\"],[0.5647058823529412,\"rgb(223,47,67)\"],[0.6274509803921569,\"rgb(236,76,61)\"],[0.6901960784313725,\"rgb(242,107,73)\"],[0.7529411764705882,\"rgb(244,135,95)\"],[0.8156862745098039,\"rgb(245,162,122)\"],[0.8784313725490196,\"rgb(246,188,153)\"],[0.9411764705882353,\"rgb(247,212,187)\"],[1.0,\"rgb(250,234,220)\"]],\"type\":\"surface\"}],\"table\":[{\"cells\":{\"fill\":{\"color\":\"rgb(231,231,240)\"},\"line\":{\"color\":\"white\"}},\"header\":{\"fill\":{\"color\":\"rgb(183,183,191)\"},\"line\":{\"color\":\"white\"}},\"type\":\"table\"}]},\"layout\":{\"annotationdefaults\":{\"arrowcolor\":\"rgb(67,103,167)\"},\"autotypenumbers\":\"strict\",\"coloraxis\":{\"colorbar\":{\"outlinewidth\":0,\"tickcolor\":\"rgb(36,36,36)\",\"ticklen\":8,\"ticks\":\"outside\",\"tickwidth\":2}},\"colorscale\":{\"sequential\":[[0.0,\"rgb(2,4,25)\"],[0.06274509803921569,\"rgb(24,15,41)\"],[0.12549019607843137,\"rgb(47,23,57)\"],[0.18823529411764706,\"rgb(71,28,72)\"],[0.25098039215686274,\"rgb(97,30,82)\"],[0.3137254901960784,\"rgb(123,30,89)\"],[0.3764705882352941,\"rgb(150,27,91)\"],[0.4392156862745098,\"rgb(177,22,88)\"],[0.5019607843137255,\"rgb(203,26,79)\"],[0.5647058823529412,\"rgb(223,47,67)\"],[0.6274509803921569,\"rgb(236,76,61)\"],[0.6901960784313725,\"rgb(242,107,73)\"],[0.7529411764705882,\"rgb(244,135,95)\"],[0.8156862745098039,\"rgb(245,162,122)\"],[0.8784313725490196,\"rgb(246,188,153)\"],[0.9411764705882353,\"rgb(247,212,187)\"],[1.0,\"rgb(250,234,220)\"]],\"sequentialminus\":[[0.0,\"rgb(2,4,25)\"],[0.06274509803921569,\"rgb(24,15,41)\"],[0.12549019607843137,\"rgb(47,23,57)\"],[0.18823529411764706,\"rgb(71,28,72)\"],[0.25098039215686274,\"rgb(97,30,82)\"],[0.3137254901960784,\"rgb(123,30,89)\"],[0.3764705882352941,\"rgb(150,27,91)\"],[0.4392156862745098,\"rgb(177,22,88)\"],[0.5019607843137255,\"rgb(203,26,79)\"],[0.5647058823529412,\"rgb(223,47,67)\"],[0.6274509803921569,\"rgb(236,76,61)\"],[0.6901960784313725,\"rgb(242,107,73)\"],[0.7529411764705882,\"rgb(244,135,95)\"],[0.8156862745098039,\"rgb(245,162,122)\"],[0.8784313725490196,\"rgb(246,188,153)\"],[0.9411764705882353,\"rgb(247,212,187)\"],[1.0,\"rgb(250,234,220)\"]]},\"colorway\":[\"rgb(76,114,176)\",\"rgb(221,132,82)\",\"rgb(85,168,104)\",\"rgb(196,78,82)\",\"rgb(129,114,179)\",\"rgb(147,120,96)\",\"rgb(218,139,195)\",\"rgb(140,140,140)\",\"rgb(204,185,116)\",\"rgb(100,181,205)\"],\"font\":{\"color\":\"rgb(36,36,36)\"},\"geo\":{\"bgcolor\":\"white\",\"lakecolor\":\"white\",\"landcolor\":\"rgb(234,234,242)\",\"showlakes\":true,\"showland\":true,\"subunitcolor\":\"white\"},\"hoverlabel\":{\"align\":\"left\"},\"hovermode\":\"closest\",\"paper_bgcolor\":\"white\",\"plot_bgcolor\":\"rgb(234,234,242)\",\"polar\":{\"angularaxis\":{\"gridcolor\":\"white\",\"linecolor\":\"white\",\"showgrid\":true,\"ticks\":\"\"},\"bgcolor\":\"rgb(234,234,242)\",\"radialaxis\":{\"gridcolor\":\"white\",\"linecolor\":\"white\",\"showgrid\":true,\"ticks\":\"\"}},\"scene\":{\"xaxis\":{\"backgroundcolor\":\"rgb(234,234,242)\",\"gridcolor\":\"white\",\"gridwidth\":2,\"linecolor\":\"white\",\"showbackground\":true,\"showgrid\":true,\"ticks\":\"\",\"zerolinecolor\":\"white\"},\"yaxis\":{\"backgroundcolor\":\"rgb(234,234,242)\",\"gridcolor\":\"white\",\"gridwidth\":2,\"linecolor\":\"white\",\"showbackground\":true,\"showgrid\":true,\"ticks\":\"\",\"zerolinecolor\":\"white\"},\"zaxis\":{\"backgroundcolor\":\"rgb(234,234,242)\",\"gridcolor\":\"white\",\"gridwidth\":2,\"linecolor\":\"white\",\"showbackground\":true,\"showgrid\":true,\"ticks\":\"\",\"zerolinecolor\":\"white\"}},\"shapedefaults\":{\"fillcolor\":\"rgb(67,103,167)\",\"line\":{\"width\":0},\"opacity\":0.5},\"ternary\":{\"aaxis\":{\"gridcolor\":\"white\",\"linecolor\":\"white\",\"showgrid\":true,\"ticks\":\"\"},\"baxis\":{\"gridcolor\":\"white\",\"linecolor\":\"white\",\"showgrid\":true,\"ticks\":\"\"},\"bgcolor\":\"rgb(234,234,242)\",\"caxis\":{\"gridcolor\":\"white\",\"linecolor\":\"white\",\"showgrid\":true,\"ticks\":\"\"}},\"xaxis\":{\"automargin\":true,\"gridcolor\":\"white\",\"linecolor\":\"white\",\"showgrid\":true,\"ticks\":\"\",\"title\":{\"standoff\":15},\"zerolinecolor\":\"white\"},\"yaxis\":{\"automargin\":true,\"gridcolor\":\"white\",\"linecolor\":\"white\",\"showgrid\":true,\"ticks\":\"\",\"title\":{\"standoff\":15},\"zerolinecolor\":\"white\"}}},\"xaxis\":{\"anchor\":\"y\",\"domain\":[0.0,1.0],\"title\":{\"text\":\"range\"}},\"yaxis\":{\"anchor\":\"x\",\"domain\":[0.0,1.0],\"title\":{\"text\":\"Count\"}},\"legend\":{\"tracegroupgap\":0},\"margin\":{\"t\":0,\"b\":0,\"l\":0,\"r\":0},\"height\":350},                        {\"responsive\": true}                    ).then(function(){\n",
       "                            \n",
       "var gd = document.getElementById('632f0975-89f0-4e8a-b8a0-fd8addca0a26');\n",
       "var x = new MutationObserver(function (mutations, observer) {{\n",
       "        var display = window.getComputedStyle(gd).display;\n",
       "        if (!display || display === 'none') {{\n",
       "            console.log([gd, 'removed!']);\n",
       "            Plotly.purge(gd);\n",
       "            observer.disconnect();\n",
       "        }}\n",
       "}});\n",
       "\n",
       "// Listen for the removal of the full notebook cells\n",
       "var notebookContainer = gd.closest('#notebook-container');\n",
       "if (notebookContainer) {{\n",
       "    x.observe(notebookContainer, {childList: true});\n",
       "}}\n",
       "\n",
       "// Listen for the clearing of the current output cell\n",
       "var outputEl = gd.closest('.output');\n",
       "if (outputEl) {{\n",
       "    x.observe(outputEl, {childList: true});\n",
       "}}\n",
       "\n",
       "                        })                };                });            </script>        </div>"
      ]
     },
     "metadata": {},
     "output_type": "display_data"
    }
   ],
   "source": [
    "def draw_Age_Vs_MH_prob_Vs_Country (country) :\n",
    "    bins = [20, 26, 31, 36, 41, 46, 51, 56]\n",
    "    labels = ['20-25', '25-30', '30-35', '35-40', '40-45', '50-55', '55+']\n",
    "    \n",
    "    age_by_county  = prep_data[(prep_data['tech_role_flag'] == 1 ) & ( np.isin(prep_data['country_work_in'], country))][['age']]\n",
    "    # grouping ages\n",
    "    age_by_county['range'] = pd.cut(age_by_county.age, bins, labels = labels,include_lowest = True)\n",
    "    #count values\n",
    "    age_by_county = age_by_county.groupby(by =['range']).size().rename('Count').reset_index().sort_values(by = ['range'])\n",
    "    \n",
    "    Age_Vs_MH_prob_Vs_Country = px.line(age_by_county, x = 'range', y = 'Count')\n",
    "    Age_Vs_MH_prob_Vs_Country.update_layout(margin=dict(b = 0, t = 0, l = 0, r = 0), height = 350, template = 'seaborn')\n",
    "    return Age_Vs_MH_prob_Vs_Country\n",
    "draw_Age_Vs_MH_prob_Vs_Country (country)"
   ]
  },
  {
   "cell_type": "markdown",
   "metadata": {
    "id": "Qhk3HBg4KpEC"
   },
   "source": [
    "### Yes have a mental health problem response in country Vs years "
   ]
  },
  {
   "cell_type": "code",
   "execution_count": 188,
   "metadata": {
    "executionInfo": {
     "elapsed": 54,
     "status": "aborted",
     "timestamp": 1654337002842,
     "user": {
      "displayName": "habiba mohamed",
      "userId": "01346726008568088997"
     },
     "user_tz": -120
    },
    "id": "cw_GQDziKpEC"
   },
   "outputs": [
    {
     "data": {
      "text/html": [
       "<div>                            <div id=\"833a3f19-101d-4a7a-ab70-a5f8c72e8aba\" class=\"plotly-graph-div\" style=\"height:400px; width:700px;\"></div>            <script type=\"text/javascript\">                require([\"plotly\"], function(Plotly) {                    window.PLOTLYENV=window.PLOTLYENV || {};                                    if (document.getElementById(\"833a3f19-101d-4a7a-ab70-a5f8c72e8aba\")) {                    Plotly.newPlot(                        \"833a3f19-101d-4a7a-ab70-a5f8c72e8aba\",                        [{\"hovertemplate\":\"year=%{x}<br>avg=%{y}<extra></extra>\",\"legendgroup\":\"\",\"line\":{\"color\":\"#636efa\",\"dash\":\"solid\"},\"marker\":{\"symbol\":\"circle\"},\"mode\":\"markers+lines\",\"name\":\"\",\"orientation\":\"v\",\"showlegend\":false,\"x\":[\"2017\",\"2018\",\"2019\",\"2020\"],\"xaxis\":\"x\",\"y\":[49.0,51.0,51.0,39.0],\"yaxis\":\"y\",\"type\":\"scatter\"},{\"x\":[\"2017\",\"2018\",\"2019\",\"2020\"],\"y\":[49.0,51.0,51.0,39.0],\"type\":\"bar\"}],                        {\"template\":{\"data\":{\"histogram2dcontour\":[{\"type\":\"histogram2dcontour\",\"colorbar\":{\"outlinewidth\":0,\"ticks\":\"\"},\"colorscale\":[[0.0,\"#0d0887\"],[0.1111111111111111,\"#46039f\"],[0.2222222222222222,\"#7201a8\"],[0.3333333333333333,\"#9c179e\"],[0.4444444444444444,\"#bd3786\"],[0.5555555555555556,\"#d8576b\"],[0.6666666666666666,\"#ed7953\"],[0.7777777777777778,\"#fb9f3a\"],[0.8888888888888888,\"#fdca26\"],[1.0,\"#f0f921\"]]}],\"choropleth\":[{\"type\":\"choropleth\",\"colorbar\":{\"outlinewidth\":0,\"ticks\":\"\"}}],\"histogram2d\":[{\"type\":\"histogram2d\",\"colorbar\":{\"outlinewidth\":0,\"ticks\":\"\"},\"colorscale\":[[0.0,\"#0d0887\"],[0.1111111111111111,\"#46039f\"],[0.2222222222222222,\"#7201a8\"],[0.3333333333333333,\"#9c179e\"],[0.4444444444444444,\"#bd3786\"],[0.5555555555555556,\"#d8576b\"],[0.6666666666666666,\"#ed7953\"],[0.7777777777777778,\"#fb9f3a\"],[0.8888888888888888,\"#fdca26\"],[1.0,\"#f0f921\"]]}],\"heatmap\":[{\"type\":\"heatmap\",\"colorbar\":{\"outlinewidth\":0,\"ticks\":\"\"},\"colorscale\":[[0.0,\"#0d0887\"],[0.1111111111111111,\"#46039f\"],[0.2222222222222222,\"#7201a8\"],[0.3333333333333333,\"#9c179e\"],[0.4444444444444444,\"#bd3786\"],[0.5555555555555556,\"#d8576b\"],[0.6666666666666666,\"#ed7953\"],[0.7777777777777778,\"#fb9f3a\"],[0.8888888888888888,\"#fdca26\"],[1.0,\"#f0f921\"]]}],\"heatmapgl\":[{\"type\":\"heatmapgl\",\"colorbar\":{\"outlinewidth\":0,\"ticks\":\"\"},\"colorscale\":[[0.0,\"#0d0887\"],[0.1111111111111111,\"#46039f\"],[0.2222222222222222,\"#7201a8\"],[0.3333333333333333,\"#9c179e\"],[0.4444444444444444,\"#bd3786\"],[0.5555555555555556,\"#d8576b\"],[0.6666666666666666,\"#ed7953\"],[0.7777777777777778,\"#fb9f3a\"],[0.8888888888888888,\"#fdca26\"],[1.0,\"#f0f921\"]]}],\"contourcarpet\":[{\"type\":\"contourcarpet\",\"colorbar\":{\"outlinewidth\":0,\"ticks\":\"\"}}],\"contour\":[{\"type\":\"contour\",\"colorbar\":{\"outlinewidth\":0,\"ticks\":\"\"},\"colorscale\":[[0.0,\"#0d0887\"],[0.1111111111111111,\"#46039f\"],[0.2222222222222222,\"#7201a8\"],[0.3333333333333333,\"#9c179e\"],[0.4444444444444444,\"#bd3786\"],[0.5555555555555556,\"#d8576b\"],[0.6666666666666666,\"#ed7953\"],[0.7777777777777778,\"#fb9f3a\"],[0.8888888888888888,\"#fdca26\"],[1.0,\"#f0f921\"]]}],\"surface\":[{\"type\":\"surface\",\"colorbar\":{\"outlinewidth\":0,\"ticks\":\"\"},\"colorscale\":[[0.0,\"#0d0887\"],[0.1111111111111111,\"#46039f\"],[0.2222222222222222,\"#7201a8\"],[0.3333333333333333,\"#9c179e\"],[0.4444444444444444,\"#bd3786\"],[0.5555555555555556,\"#d8576b\"],[0.6666666666666666,\"#ed7953\"],[0.7777777777777778,\"#fb9f3a\"],[0.8888888888888888,\"#fdca26\"],[1.0,\"#f0f921\"]]}],\"mesh3d\":[{\"type\":\"mesh3d\",\"colorbar\":{\"outlinewidth\":0,\"ticks\":\"\"}}],\"scatter\":[{\"fillpattern\":{\"fillmode\":\"overlay\",\"size\":10,\"solidity\":0.2},\"type\":\"scatter\"}],\"parcoords\":[{\"type\":\"parcoords\",\"line\":{\"colorbar\":{\"outlinewidth\":0,\"ticks\":\"\"}}}],\"scatterpolargl\":[{\"type\":\"scatterpolargl\",\"marker\":{\"colorbar\":{\"outlinewidth\":0,\"ticks\":\"\"}}}],\"bar\":[{\"error_x\":{\"color\":\"#2a3f5f\"},\"error_y\":{\"color\":\"#2a3f5f\"},\"marker\":{\"line\":{\"color\":\"#E5ECF6\",\"width\":0.5},\"pattern\":{\"fillmode\":\"overlay\",\"size\":10,\"solidity\":0.2}},\"type\":\"bar\"}],\"scattergeo\":[{\"type\":\"scattergeo\",\"marker\":{\"colorbar\":{\"outlinewidth\":0,\"ticks\":\"\"}}}],\"scatterpolar\":[{\"type\":\"scatterpolar\",\"marker\":{\"colorbar\":{\"outlinewidth\":0,\"ticks\":\"\"}}}],\"histogram\":[{\"marker\":{\"pattern\":{\"fillmode\":\"overlay\",\"size\":10,\"solidity\":0.2}},\"type\":\"histogram\"}],\"scattergl\":[{\"type\":\"scattergl\",\"marker\":{\"colorbar\":{\"outlinewidth\":0,\"ticks\":\"\"}}}],\"scatter3d\":[{\"type\":\"scatter3d\",\"line\":{\"colorbar\":{\"outlinewidth\":0,\"ticks\":\"\"}},\"marker\":{\"colorbar\":{\"outlinewidth\":0,\"ticks\":\"\"}}}],\"scattermapbox\":[{\"type\":\"scattermapbox\",\"marker\":{\"colorbar\":{\"outlinewidth\":0,\"ticks\":\"\"}}}],\"scatterternary\":[{\"type\":\"scatterternary\",\"marker\":{\"colorbar\":{\"outlinewidth\":0,\"ticks\":\"\"}}}],\"scattercarpet\":[{\"type\":\"scattercarpet\",\"marker\":{\"colorbar\":{\"outlinewidth\":0,\"ticks\":\"\"}}}],\"carpet\":[{\"aaxis\":{\"endlinecolor\":\"#2a3f5f\",\"gridcolor\":\"white\",\"linecolor\":\"white\",\"minorgridcolor\":\"white\",\"startlinecolor\":\"#2a3f5f\"},\"baxis\":{\"endlinecolor\":\"#2a3f5f\",\"gridcolor\":\"white\",\"linecolor\":\"white\",\"minorgridcolor\":\"white\",\"startlinecolor\":\"#2a3f5f\"},\"type\":\"carpet\"}],\"table\":[{\"cells\":{\"fill\":{\"color\":\"#EBF0F8\"},\"line\":{\"color\":\"white\"}},\"header\":{\"fill\":{\"color\":\"#C8D4E3\"},\"line\":{\"color\":\"white\"}},\"type\":\"table\"}],\"barpolar\":[{\"marker\":{\"line\":{\"color\":\"#E5ECF6\",\"width\":0.5},\"pattern\":{\"fillmode\":\"overlay\",\"size\":10,\"solidity\":0.2}},\"type\":\"barpolar\"}],\"pie\":[{\"automargin\":true,\"type\":\"pie\"}]},\"layout\":{\"autotypenumbers\":\"strict\",\"colorway\":[\"#636efa\",\"#EF553B\",\"#00cc96\",\"#ab63fa\",\"#FFA15A\",\"#19d3f3\",\"#FF6692\",\"#B6E880\",\"#FF97FF\",\"#FECB52\"],\"font\":{\"color\":\"#2a3f5f\"},\"hovermode\":\"closest\",\"hoverlabel\":{\"align\":\"left\"},\"paper_bgcolor\":\"white\",\"plot_bgcolor\":\"#E5ECF6\",\"polar\":{\"bgcolor\":\"#E5ECF6\",\"angularaxis\":{\"gridcolor\":\"white\",\"linecolor\":\"white\",\"ticks\":\"\"},\"radialaxis\":{\"gridcolor\":\"white\",\"linecolor\":\"white\",\"ticks\":\"\"}},\"ternary\":{\"bgcolor\":\"#E5ECF6\",\"aaxis\":{\"gridcolor\":\"white\",\"linecolor\":\"white\",\"ticks\":\"\"},\"baxis\":{\"gridcolor\":\"white\",\"linecolor\":\"white\",\"ticks\":\"\"},\"caxis\":{\"gridcolor\":\"white\",\"linecolor\":\"white\",\"ticks\":\"\"}},\"coloraxis\":{\"colorbar\":{\"outlinewidth\":0,\"ticks\":\"\"}},\"colorscale\":{\"sequential\":[[0.0,\"#0d0887\"],[0.1111111111111111,\"#46039f\"],[0.2222222222222222,\"#7201a8\"],[0.3333333333333333,\"#9c179e\"],[0.4444444444444444,\"#bd3786\"],[0.5555555555555556,\"#d8576b\"],[0.6666666666666666,\"#ed7953\"],[0.7777777777777778,\"#fb9f3a\"],[0.8888888888888888,\"#fdca26\"],[1.0,\"#f0f921\"]],\"sequentialminus\":[[0.0,\"#0d0887\"],[0.1111111111111111,\"#46039f\"],[0.2222222222222222,\"#7201a8\"],[0.3333333333333333,\"#9c179e\"],[0.4444444444444444,\"#bd3786\"],[0.5555555555555556,\"#d8576b\"],[0.6666666666666666,\"#ed7953\"],[0.7777777777777778,\"#fb9f3a\"],[0.8888888888888888,\"#fdca26\"],[1.0,\"#f0f921\"]],\"diverging\":[[0,\"#8e0152\"],[0.1,\"#c51b7d\"],[0.2,\"#de77ae\"],[0.3,\"#f1b6da\"],[0.4,\"#fde0ef\"],[0.5,\"#f7f7f7\"],[0.6,\"#e6f5d0\"],[0.7,\"#b8e186\"],[0.8,\"#7fbc41\"],[0.9,\"#4d9221\"],[1,\"#276419\"]]},\"xaxis\":{\"gridcolor\":\"white\",\"linecolor\":\"white\",\"ticks\":\"\",\"title\":{\"standoff\":15},\"zerolinecolor\":\"white\",\"automargin\":true,\"zerolinewidth\":2},\"yaxis\":{\"gridcolor\":\"white\",\"linecolor\":\"white\",\"ticks\":\"\",\"title\":{\"standoff\":15},\"zerolinecolor\":\"white\",\"automargin\":true,\"zerolinewidth\":2},\"scene\":{\"xaxis\":{\"backgroundcolor\":\"#E5ECF6\",\"gridcolor\":\"white\",\"linecolor\":\"white\",\"showbackground\":true,\"ticks\":\"\",\"zerolinecolor\":\"white\",\"gridwidth\":2},\"yaxis\":{\"backgroundcolor\":\"#E5ECF6\",\"gridcolor\":\"white\",\"linecolor\":\"white\",\"showbackground\":true,\"ticks\":\"\",\"zerolinecolor\":\"white\",\"gridwidth\":2},\"zaxis\":{\"backgroundcolor\":\"#E5ECF6\",\"gridcolor\":\"white\",\"linecolor\":\"white\",\"showbackground\":true,\"ticks\":\"\",\"zerolinecolor\":\"white\",\"gridwidth\":2}},\"shapedefaults\":{\"line\":{\"color\":\"#2a3f5f\"}},\"annotationdefaults\":{\"arrowcolor\":\"#2a3f5f\",\"arrowhead\":0,\"arrowwidth\":1},\"geo\":{\"bgcolor\":\"white\",\"landcolor\":\"#E5ECF6\",\"subunitcolor\":\"white\",\"showland\":true,\"showlakes\":true,\"lakecolor\":\"white\"},\"title\":{\"x\":0.05},\"mapbox\":{\"style\":\"light\"}}},\"xaxis\":{\"anchor\":\"y\",\"domain\":[0.0,1.0],\"title\":{\"text\":\"year\"}},\"yaxis\":{\"anchor\":\"x\",\"domain\":[0.0,1.0],\"title\":{\"text\":\"Percent\"},\"range\":[0,100]},\"legend\":{\"tracegroupgap\":0,\"title\":{\"text\":\"Have Mental Health Problem?\"}},\"title\":{\"text\":\"Mental Health problem among years\"},\"width\":700,\"height\":400,\"barmode\":\"group\"},                        {\"responsive\": true}                    ).then(function(){\n",
       "                            \n",
       "var gd = document.getElementById('833a3f19-101d-4a7a-ab70-a5f8c72e8aba');\n",
       "var x = new MutationObserver(function (mutations, observer) {{\n",
       "        var display = window.getComputedStyle(gd).display;\n",
       "        if (!display || display === 'none') {{\n",
       "            console.log([gd, 'removed!']);\n",
       "            Plotly.purge(gd);\n",
       "            observer.disconnect();\n",
       "        }}\n",
       "}});\n",
       "\n",
       "// Listen for the removal of the full notebook cells\n",
       "var notebookContainer = gd.closest('#notebook-container');\n",
       "if (notebookContainer) {{\n",
       "    x.observe(notebookContainer, {childList: true});\n",
       "}}\n",
       "\n",
       "// Listen for the clearing of the current output cell\n",
       "var outputEl = gd.closest('.output');\n",
       "if (outputEl) {{\n",
       "    x.observe(outputEl, {childList: true});\n",
       "}}\n",
       "\n",
       "                        })                };                });            </script>        </div>"
      ]
     },
     "metadata": {},
     "output_type": "display_data"
    }
   ],
   "source": [
    "# total Num among year \n",
    "years = pd.DataFrame(['2017', '2018', '2019', '2020'])\n",
    "total_2017 = prep_data [(prep_data['year'] == '2017') & ( np.isin(prep_data['country_work_in'], country))].shape[0]\n",
    "total_2018 = prep_data [(prep_data['year'] == '2018') & ( np.isin(prep_data['country_work_in'], country))].shape[0]\n",
    "total_2019 = prep_data [(prep_data['year'] == '2019') & ( np.isin(prep_data['country_work_in'], country))].shape[0]\n",
    "total_2020 = prep_data [(prep_data['year'] == '2020') & ( np.isin(prep_data['country_work_in'], country))].shape[0]\n",
    "total_to_be_divided =pd.DataFrame([total_2017, total_2018, total_2019, total_2020]).rename(columns = {0:'count'})\n",
    "total_to_be_divided = pd.concat([years ,total_to_be_divided], axis= 1).rename(columns = {0 : \"year\"})\n",
    "\n",
    "# Mental health Prob preparation\n",
    "Mh_by_year  = prep_data[(prep_data['curr_have_mh_disorder'] == 3 ) & ( np.isin(prep_data['country_work_in'], country))][['year']]\n",
    "Mh_by_year = pd.DataFrame(Mh_by_year.groupby(by=['year'])['year'].size().rename('Count').reset_index().sort_values(by = ['year'])['Count'])\n",
    "avg = pd.DataFrame((Mh_by_year['Count'])/ total_to_be_divided['count'] * 100).round(0)\n",
    "avg_Mh_by_year = pd.concat([years ,avg], axis= 1)\n",
    "avg_Mh_by_year.columns = ['year', 'avg']\n",
    "\n",
    "# plot\n",
    "fig = px.line(avg_Mh_by_year, x='year', y='avg', width = 1000, markers = True, title = 'Mental Health Problems In Tech Industry among years ', range_y =[0, 100])\n",
    "fig.add_bar( x=avg_Mh_by_year['year'], y=avg_Mh_by_year['avg'])\n",
    "fig.update_layout(\n",
    "    width = 700,\n",
    "    height = 400,\n",
    "    barmode='group', \n",
    "    title=\"Mental Health problem among years\",\n",
    "    xaxis_title=\"year\",\n",
    "    yaxis_title=\"Percent\",\n",
    "    legend_title=\"Have Mental Health Problem?\",\n",
    "    )\n",
    "fig.show()"
   ]
  },
  {
   "cell_type": "markdown",
   "metadata": {
    "id": "sfYo6SheKpEC"
   },
   "source": [
    "### All responses in Countries Vs years "
   ]
  },
  {
   "cell_type": "code",
   "execution_count": 189,
   "metadata": {
    "executionInfo": {
     "elapsed": 56,
     "status": "aborted",
     "timestamp": 1654337002845,
     "user": {
      "displayName": "habiba mohamed",
      "userId": "01346726008568088997"
     },
     "user_tz": -120
    },
    "id": "kwoQK3R7KpEC"
   },
   "outputs": [
    {
     "data": {
      "text/html": [
       "<div>                            <div id=\"6c27e7f2-c93e-48b4-bd7c-bcce8e138474\" class=\"plotly-graph-div\" style=\"height:350px; width:100%;\"></div>            <script type=\"text/javascript\">                require([\"plotly\"], function(Plotly) {                    window.PLOTLYENV=window.PLOTLYENV || {};                                    if (document.getElementById(\"6c27e7f2-c93e-48b4-bd7c-bcce8e138474\")) {                    Plotly.newPlot(                        \"6c27e7f2-c93e-48b4-bd7c-bcce8e138474\",                        [{\"marker\":{\"color\":\"#f1e3dd\",\"line\":{\"color\":\"rgb(5,5,5)\",\"width\":1}},\"name\":\"No\",\"x\":[\"2017\",\"2018\",\"2019\",\"2020\"],\"y\":[7.0,6.0,5.0,3.0],\"type\":\"bar\"},{\"marker\":{\"color\":\"#bccad6\",\"line\":{\"color\":\"rgb(5,5,5)\",\"width\":1}},\"name\":\"Don't Know\",\"x\":[\"2017\",\"2018\",\"2019\",\"2020\"],\"y\":[25.0,24.0,25.0,30.0],\"type\":\"bar\"},{\"marker\":{\"color\":\"#8d9db6\",\"line\":{\"color\":\"rgb(5,5,5)\",\"width\":1}},\"name\":\"Possibly\",\"x\":[\"2017\",\"2018\",\"2019\",\"2020\"],\"y\":[19.0,19.0,19.0,27.0],\"type\":\"bar\"},{\"marker\":{\"color\":\"#6b5b95\",\"line\":{\"color\":\"rgb(5,5,5)\",\"width\":1}},\"name\":\"Yes\",\"x\":[\"2017\",\"2018\",\"2019\",\"2020\"],\"y\":[49.0,51.0,51.0,39.0],\"type\":\"bar\"}],                        {\"template\":{\"data\":{\"histogram2dcontour\":[{\"type\":\"histogram2dcontour\",\"colorbar\":{\"outlinewidth\":0,\"ticks\":\"\"},\"colorscale\":[[0.0,\"#0d0887\"],[0.1111111111111111,\"#46039f\"],[0.2222222222222222,\"#7201a8\"],[0.3333333333333333,\"#9c179e\"],[0.4444444444444444,\"#bd3786\"],[0.5555555555555556,\"#d8576b\"],[0.6666666666666666,\"#ed7953\"],[0.7777777777777778,\"#fb9f3a\"],[0.8888888888888888,\"#fdca26\"],[1.0,\"#f0f921\"]]}],\"choropleth\":[{\"type\":\"choropleth\",\"colorbar\":{\"outlinewidth\":0,\"ticks\":\"\"}}],\"histogram2d\":[{\"type\":\"histogram2d\",\"colorbar\":{\"outlinewidth\":0,\"ticks\":\"\"},\"colorscale\":[[0.0,\"#0d0887\"],[0.1111111111111111,\"#46039f\"],[0.2222222222222222,\"#7201a8\"],[0.3333333333333333,\"#9c179e\"],[0.4444444444444444,\"#bd3786\"],[0.5555555555555556,\"#d8576b\"],[0.6666666666666666,\"#ed7953\"],[0.7777777777777778,\"#fb9f3a\"],[0.8888888888888888,\"#fdca26\"],[1.0,\"#f0f921\"]]}],\"heatmap\":[{\"type\":\"heatmap\",\"colorbar\":{\"outlinewidth\":0,\"ticks\":\"\"},\"colorscale\":[[0.0,\"#0d0887\"],[0.1111111111111111,\"#46039f\"],[0.2222222222222222,\"#7201a8\"],[0.3333333333333333,\"#9c179e\"],[0.4444444444444444,\"#bd3786\"],[0.5555555555555556,\"#d8576b\"],[0.6666666666666666,\"#ed7953\"],[0.7777777777777778,\"#fb9f3a\"],[0.8888888888888888,\"#fdca26\"],[1.0,\"#f0f921\"]]}],\"heatmapgl\":[{\"type\":\"heatmapgl\",\"colorbar\":{\"outlinewidth\":0,\"ticks\":\"\"},\"colorscale\":[[0.0,\"#0d0887\"],[0.1111111111111111,\"#46039f\"],[0.2222222222222222,\"#7201a8\"],[0.3333333333333333,\"#9c179e\"],[0.4444444444444444,\"#bd3786\"],[0.5555555555555556,\"#d8576b\"],[0.6666666666666666,\"#ed7953\"],[0.7777777777777778,\"#fb9f3a\"],[0.8888888888888888,\"#fdca26\"],[1.0,\"#f0f921\"]]}],\"contourcarpet\":[{\"type\":\"contourcarpet\",\"colorbar\":{\"outlinewidth\":0,\"ticks\":\"\"}}],\"contour\":[{\"type\":\"contour\",\"colorbar\":{\"outlinewidth\":0,\"ticks\":\"\"},\"colorscale\":[[0.0,\"#0d0887\"],[0.1111111111111111,\"#46039f\"],[0.2222222222222222,\"#7201a8\"],[0.3333333333333333,\"#9c179e\"],[0.4444444444444444,\"#bd3786\"],[0.5555555555555556,\"#d8576b\"],[0.6666666666666666,\"#ed7953\"],[0.7777777777777778,\"#fb9f3a\"],[0.8888888888888888,\"#fdca26\"],[1.0,\"#f0f921\"]]}],\"surface\":[{\"type\":\"surface\",\"colorbar\":{\"outlinewidth\":0,\"ticks\":\"\"},\"colorscale\":[[0.0,\"#0d0887\"],[0.1111111111111111,\"#46039f\"],[0.2222222222222222,\"#7201a8\"],[0.3333333333333333,\"#9c179e\"],[0.4444444444444444,\"#bd3786\"],[0.5555555555555556,\"#d8576b\"],[0.6666666666666666,\"#ed7953\"],[0.7777777777777778,\"#fb9f3a\"],[0.8888888888888888,\"#fdca26\"],[1.0,\"#f0f921\"]]}],\"mesh3d\":[{\"type\":\"mesh3d\",\"colorbar\":{\"outlinewidth\":0,\"ticks\":\"\"}}],\"scatter\":[{\"fillpattern\":{\"fillmode\":\"overlay\",\"size\":10,\"solidity\":0.2},\"type\":\"scatter\"}],\"parcoords\":[{\"type\":\"parcoords\",\"line\":{\"colorbar\":{\"outlinewidth\":0,\"ticks\":\"\"}}}],\"scatterpolargl\":[{\"type\":\"scatterpolargl\",\"marker\":{\"colorbar\":{\"outlinewidth\":0,\"ticks\":\"\"}}}],\"bar\":[{\"error_x\":{\"color\":\"#2a3f5f\"},\"error_y\":{\"color\":\"#2a3f5f\"},\"marker\":{\"line\":{\"color\":\"#E5ECF6\",\"width\":0.5},\"pattern\":{\"fillmode\":\"overlay\",\"size\":10,\"solidity\":0.2}},\"type\":\"bar\"}],\"scattergeo\":[{\"type\":\"scattergeo\",\"marker\":{\"colorbar\":{\"outlinewidth\":0,\"ticks\":\"\"}}}],\"scatterpolar\":[{\"type\":\"scatterpolar\",\"marker\":{\"colorbar\":{\"outlinewidth\":0,\"ticks\":\"\"}}}],\"histogram\":[{\"marker\":{\"pattern\":{\"fillmode\":\"overlay\",\"size\":10,\"solidity\":0.2}},\"type\":\"histogram\"}],\"scattergl\":[{\"type\":\"scattergl\",\"marker\":{\"colorbar\":{\"outlinewidth\":0,\"ticks\":\"\"}}}],\"scatter3d\":[{\"type\":\"scatter3d\",\"line\":{\"colorbar\":{\"outlinewidth\":0,\"ticks\":\"\"}},\"marker\":{\"colorbar\":{\"outlinewidth\":0,\"ticks\":\"\"}}}],\"scattermapbox\":[{\"type\":\"scattermapbox\",\"marker\":{\"colorbar\":{\"outlinewidth\":0,\"ticks\":\"\"}}}],\"scatterternary\":[{\"type\":\"scatterternary\",\"marker\":{\"colorbar\":{\"outlinewidth\":0,\"ticks\":\"\"}}}],\"scattercarpet\":[{\"type\":\"scattercarpet\",\"marker\":{\"colorbar\":{\"outlinewidth\":0,\"ticks\":\"\"}}}],\"carpet\":[{\"aaxis\":{\"endlinecolor\":\"#2a3f5f\",\"gridcolor\":\"white\",\"linecolor\":\"white\",\"minorgridcolor\":\"white\",\"startlinecolor\":\"#2a3f5f\"},\"baxis\":{\"endlinecolor\":\"#2a3f5f\",\"gridcolor\":\"white\",\"linecolor\":\"white\",\"minorgridcolor\":\"white\",\"startlinecolor\":\"#2a3f5f\"},\"type\":\"carpet\"}],\"table\":[{\"cells\":{\"fill\":{\"color\":\"#EBF0F8\"},\"line\":{\"color\":\"white\"}},\"header\":{\"fill\":{\"color\":\"#C8D4E3\"},\"line\":{\"color\":\"white\"}},\"type\":\"table\"}],\"barpolar\":[{\"marker\":{\"line\":{\"color\":\"#E5ECF6\",\"width\":0.5},\"pattern\":{\"fillmode\":\"overlay\",\"size\":10,\"solidity\":0.2}},\"type\":\"barpolar\"}],\"pie\":[{\"automargin\":true,\"type\":\"pie\"}]},\"layout\":{\"autotypenumbers\":\"strict\",\"colorway\":[\"#636efa\",\"#EF553B\",\"#00cc96\",\"#ab63fa\",\"#FFA15A\",\"#19d3f3\",\"#FF6692\",\"#B6E880\",\"#FF97FF\",\"#FECB52\"],\"font\":{\"color\":\"#2a3f5f\"},\"hovermode\":\"closest\",\"hoverlabel\":{\"align\":\"left\"},\"paper_bgcolor\":\"white\",\"plot_bgcolor\":\"#E5ECF6\",\"polar\":{\"bgcolor\":\"#E5ECF6\",\"angularaxis\":{\"gridcolor\":\"white\",\"linecolor\":\"white\",\"ticks\":\"\"},\"radialaxis\":{\"gridcolor\":\"white\",\"linecolor\":\"white\",\"ticks\":\"\"}},\"ternary\":{\"bgcolor\":\"#E5ECF6\",\"aaxis\":{\"gridcolor\":\"white\",\"linecolor\":\"white\",\"ticks\":\"\"},\"baxis\":{\"gridcolor\":\"white\",\"linecolor\":\"white\",\"ticks\":\"\"},\"caxis\":{\"gridcolor\":\"white\",\"linecolor\":\"white\",\"ticks\":\"\"}},\"coloraxis\":{\"colorbar\":{\"outlinewidth\":0,\"ticks\":\"\"}},\"colorscale\":{\"sequential\":[[0.0,\"#0d0887\"],[0.1111111111111111,\"#46039f\"],[0.2222222222222222,\"#7201a8\"],[0.3333333333333333,\"#9c179e\"],[0.4444444444444444,\"#bd3786\"],[0.5555555555555556,\"#d8576b\"],[0.6666666666666666,\"#ed7953\"],[0.7777777777777778,\"#fb9f3a\"],[0.8888888888888888,\"#fdca26\"],[1.0,\"#f0f921\"]],\"sequentialminus\":[[0.0,\"#0d0887\"],[0.1111111111111111,\"#46039f\"],[0.2222222222222222,\"#7201a8\"],[0.3333333333333333,\"#9c179e\"],[0.4444444444444444,\"#bd3786\"],[0.5555555555555556,\"#d8576b\"],[0.6666666666666666,\"#ed7953\"],[0.7777777777777778,\"#fb9f3a\"],[0.8888888888888888,\"#fdca26\"],[1.0,\"#f0f921\"]],\"diverging\":[[0,\"#8e0152\"],[0.1,\"#c51b7d\"],[0.2,\"#de77ae\"],[0.3,\"#f1b6da\"],[0.4,\"#fde0ef\"],[0.5,\"#f7f7f7\"],[0.6,\"#e6f5d0\"],[0.7,\"#b8e186\"],[0.8,\"#7fbc41\"],[0.9,\"#4d9221\"],[1,\"#276419\"]]},\"xaxis\":{\"gridcolor\":\"white\",\"linecolor\":\"white\",\"ticks\":\"\",\"title\":{\"standoff\":15},\"zerolinecolor\":\"white\",\"automargin\":true,\"zerolinewidth\":2},\"yaxis\":{\"gridcolor\":\"white\",\"linecolor\":\"white\",\"ticks\":\"\",\"title\":{\"standoff\":15},\"zerolinecolor\":\"white\",\"automargin\":true,\"zerolinewidth\":2},\"scene\":{\"xaxis\":{\"backgroundcolor\":\"#E5ECF6\",\"gridcolor\":\"white\",\"linecolor\":\"white\",\"showbackground\":true,\"ticks\":\"\",\"zerolinecolor\":\"white\",\"gridwidth\":2},\"yaxis\":{\"backgroundcolor\":\"#E5ECF6\",\"gridcolor\":\"white\",\"linecolor\":\"white\",\"showbackground\":true,\"ticks\":\"\",\"zerolinecolor\":\"white\",\"gridwidth\":2},\"zaxis\":{\"backgroundcolor\":\"#E5ECF6\",\"gridcolor\":\"white\",\"linecolor\":\"white\",\"showbackground\":true,\"ticks\":\"\",\"zerolinecolor\":\"white\",\"gridwidth\":2}},\"shapedefaults\":{\"line\":{\"color\":\"#2a3f5f\"}},\"annotationdefaults\":{\"arrowcolor\":\"#2a3f5f\",\"arrowhead\":0,\"arrowwidth\":1},\"geo\":{\"bgcolor\":\"white\",\"landcolor\":\"#E5ECF6\",\"subunitcolor\":\"white\",\"showland\":true,\"showlakes\":true,\"lakecolor\":\"white\"},\"title\":{\"x\":0.05},\"mapbox\":{\"style\":\"light\"}}},\"yaxis\":{\"range\":[0,100],\"title\":{\"text\":\"Percent\"}},\"legend\":{\"orientation\":\"h\",\"yanchor\":\"bottom\",\"y\":0.9,\"xanchor\":\"center\",\"x\":0.5},\"margin\":{\"b\":0,\"t\":0,\"l\":0,\"r\":0},\"barmode\":\"group\",\"xaxis\":{\"title\":{\"text\":\"Year\"},\"categoryorder\":\"array\",\"categoryarray\":[\"2017\",\"2018\",\"2019\",\"2020\"]},\"height\":350},                        {\"responsive\": true}                    ).then(function(){\n",
       "                            \n",
       "var gd = document.getElementById('6c27e7f2-c93e-48b4-bd7c-bcce8e138474');\n",
       "var x = new MutationObserver(function (mutations, observer) {{\n",
       "        var display = window.getComputedStyle(gd).display;\n",
       "        if (!display || display === 'none') {{\n",
       "            console.log([gd, 'removed!']);\n",
       "            Plotly.purge(gd);\n",
       "            observer.disconnect();\n",
       "        }}\n",
       "}});\n",
       "\n",
       "// Listen for the removal of the full notebook cells\n",
       "var notebookContainer = gd.closest('#notebook-container');\n",
       "if (notebookContainer) {{\n",
       "    x.observe(notebookContainer, {childList: true});\n",
       "}}\n",
       "\n",
       "// Listen for the clearing of the current output cell\n",
       "var outputEl = gd.closest('.output');\n",
       "if (outputEl) {{\n",
       "    x.observe(outputEl, {childList: true});\n",
       "}}\n",
       "\n",
       "                        })                };                });            </script>        </div>"
      ]
     },
     "metadata": {},
     "output_type": "display_data"
    }
   ],
   "source": [
    "def draw_curr_mh_by_country_plt (country):\n",
    "\n",
    "    ####################################### Calculation #######################################\n",
    "    # total Num among year \n",
    "    total_to_be_divided = prep_data[( np.isin(prep_data['country_work_in'], country))].groupby(by = ['year']).size().reset_index().rename(columns ={ 0 :f'no_samples'}).sort_values(by = ['year'])\n",
    "    # create the avg DF for the responses per year \n",
    "    avg_Mh_by_year = total_to_be_divided.copy().rename(columns = {0:'years'})\n",
    "    for i in range(4):\n",
    "        MH_Prob_ans  = prep_data[(prep_data['curr_have_mh_disorder'] == i ) & ( np.isin(prep_data['country_work_in'], country))][['year']].groupby(by=['year']).size().reset_index().rename(columns ={ 0 :f'Count_{i}'}).sort_values(by = ['year'])\n",
    "        avg_df = (MH_Prob_ans[f'Count_{i}'] /  total_to_be_divided['no_samples'] * 100).round(0)\n",
    "        avg_Mh_by_year = pd.concat([avg_Mh_by_year, avg_df], axis = 1).rename(columns ={ 0 :f'Count_{i}'})\n",
    "    avg_Mh_by_year['avg'] = (avg_Mh_by_year['Count_3'] + avg_Mh_by_year['Count_2']) - (avg_Mh_by_year['Count_1'] + avg_Mh_by_year['Count_0'])\n",
    "    avg_Mh_by_year\n",
    "    # 0: No, 1:Don't Know, 2:possibly, 3:yes\n",
    "\n",
    "    ####################################### Plot  #######################################\n",
    "    curr_mh_by_country = go.Figure(data=[\n",
    "        go.Bar(name='No', x=avg_Mh_by_year['year'], y=avg_Mh_by_year['Count_0'], marker_color = '#f1e3dd'),\n",
    "        go.Bar(name=\"Don't Know\", x=avg_Mh_by_year['year'], y=avg_Mh_by_year['Count_1'], marker_color = '#bccad6'),\n",
    "        go.Bar(name='Possibly', x=avg_Mh_by_year['year'], y=avg_Mh_by_year['Count_2'], marker_color = '#8d9db6'),\n",
    "        go.Bar(name='Yes', x=avg_Mh_by_year['year'], y=avg_Mh_by_year['Count_3'], marker_color = '#6b5b95'),\n",
    "    ])\n",
    "    curr_mh_by_country.update_traces(marker_line_color='rgb(5,5,5)',marker_line_width=1)\n",
    "    curr_mh_by_country.update_yaxes(range=[0, 100])\n",
    "    curr_mh_by_country.update_layout(      \n",
    "        barmode='group',\n",
    "        xaxis_title=\"Year\",\n",
    "        yaxis_title=\"Percent\",\n",
    "        legend=dict(orientation=\"h\", yanchor=\"bottom\", y=0.90, xanchor=\"center\", x=0.5),\n",
    "        height = 350,\n",
    "        margin=dict(b = 0, t = 0, l = 0, r = 0),\n",
    "        )\n",
    "    curr_mh_by_country.update_xaxes(categoryorder='array', categoryarray= ['2017', '2018', '2019', '2020'])\n",
    "    return curr_mh_by_country\n",
    "draw_curr_mh_by_country_plt (country)"
   ]
  },
  {
   "cell_type": "markdown",
   "metadata": {
    "id": "QPtm4TR4KpED"
   },
   "source": [
    "### Yes have MH issue response in all countries Vs years"
   ]
  },
  {
   "cell_type": "code",
   "execution_count": 190,
   "metadata": {
    "executionInfo": {
     "elapsed": 56,
     "status": "aborted",
     "timestamp": 1654337002846,
     "user": {
      "displayName": "habiba mohamed",
      "userId": "01346726008568088997"
     },
     "user_tz": -120
    },
    "id": "wqlE4pY1KpED"
   },
   "outputs": [],
   "source": [
    "country = prep_data['country_work_in'].unique()\n",
    "Mh_avg_no_samples  = prep_data[prep_data['tech_role_flag'] == 1 ][['year', 'country_work_in', 'curr_have_mh_disorder']]\\\n",
    "                    .groupby(by = ['year', 'country_work_in'])\\\n",
    "                    .size().reset_index().sort_values(by=['year','country_work_in']).rename(columns = {0 : 'no.samples'})"
   ]
  },
  {
   "cell_type": "code",
   "execution_count": 191,
   "metadata": {
    "executionInfo": {
     "elapsed": 57,
     "status": "aborted",
     "timestamp": 1654337002847,
     "user": {
      "displayName": "habiba mohamed",
      "userId": "01346726008568088997"
     },
     "user_tz": -120
    },
    "id": "WA6n99gAKpED"
   },
   "outputs": [],
   "source": [
    "Mh_avg  = prep_data[(prep_data['tech_role_flag'] == 1 ) & ( np.isin(prep_data['country_work_in'], country))][['year', 'country_work_in', 'curr_have_mh_disorder']]\\\n",
    "            .groupby(by = ['year', 'country_work_in', 'curr_have_mh_disorder' ])\\\n",
    "            .size().reset_index().sort_values(by=['year','country_work_in']).rename(columns = {0 : 'count'})\n",
    "Mh_avg['Avg'] = 0 "
   ]
  },
  {
   "cell_type": "code",
   "execution_count": 192,
   "metadata": {
    "executionInfo": {
     "elapsed": 57,
     "status": "aborted",
     "timestamp": 1654337002848,
     "user": {
      "displayName": "habiba mohamed",
      "userId": "01346726008568088997"
     },
     "user_tz": -120
    },
    "id": "XViRgMWuKpEE"
   },
   "outputs": [],
   "source": [
    "for outer_row, outer_col in Mh_avg_no_samples.iterrows() :\n",
    "    avg_year = outer_col['year']\n",
    "    avg_country_work_in = outer_col['country_work_in']\n",
    "    no_samples = outer_col['no.samples']\n",
    "    for inside_row, inside_col in Mh_avg.iterrows() :\n",
    "        year = inside_col['year']\n",
    "        country_work_in = inside_col['country_work_in']\n",
    "        count = inside_col['count']\n",
    "        Avg = inside_col['Avg']\n",
    "        # print(no_samples)\n",
    "        if year == avg_year and country_work_in == avg_country_work_in:\n",
    "            Mh_avg['Avg'][inside_row] = round((count / no_samples) * 100)\n",
    "#prepare dfs\n",
    "yes_Mh_avg = Mh_avg[Mh_avg['curr_have_mh_disorder'] == 3]\n",
    "possibly_Mh_avg = Mh_avg[Mh_avg['curr_have_mh_disorder'] == 2]\n",
    "No_Mh_avg = Mh_avg[Mh_avg['curr_have_mh_disorder'] == 1]\n",
    "dntKnow_Mh_avg = Mh_avg[Mh_avg['curr_have_mh_disorder'] == 0]"
   ]
  },
  {
   "cell_type": "code",
   "execution_count": 193,
   "metadata": {
    "executionInfo": {
     "elapsed": 58,
     "status": "aborted",
     "timestamp": 1654337002849,
     "user": {
      "displayName": "habiba mohamed",
      "userId": "01346726008568088997"
     },
     "user_tz": -120
    },
    "id": "FjJ5cwhOKpEE"
   },
   "outputs": [
    {
     "data": {
      "text/html": [
       "<div>                            <div id=\"4722c746-aeff-4b73-ade1-8e22bca9747f\" class=\"plotly-graph-div\" style=\"height:410px; width:100%;\"></div>            <script type=\"text/javascript\">                require([\"plotly\"], function(Plotly) {                    window.PLOTLYENV=window.PLOTLYENV || {};                                    if (document.getElementById(\"4722c746-aeff-4b73-ade1-8e22bca9747f\")) {                    Plotly.newPlot(                        \"4722c746-aeff-4b73-ade1-8e22bca9747f\",                        [{\"hovertemplate\":\"country_work_in=Canada<br>year=%{x}<br>Avg=%{y}<extra></extra>\",\"legendgroup\":\"Canada\",\"line\":{\"color\":\"rgb(76,114,176)\",\"dash\":\"solid\",\"width\":5},\"marker\":{\"symbol\":\"circle\",\"line\":{\"color\":\"rgb(5,5,5)\",\"width\":1}},\"mode\":\"markers+lines\",\"name\":\"Canada\",\"orientation\":\"v\",\"showlegend\":true,\"x\":[\"2017\",\"2018\",\"2019\",\"2020\"],\"xaxis\":\"x\",\"y\":[41,50,55,11],\"yaxis\":\"y\",\"type\":\"scatter\"},{\"hovertemplate\":\"country_work_in=Germany<br>year=%{x}<br>Avg=%{y}<extra></extra>\",\"legendgroup\":\"Germany\",\"line\":{\"color\":\"rgb(221,132,82)\",\"dash\":\"solid\",\"width\":5},\"marker\":{\"symbol\":\"circle\",\"line\":{\"color\":\"rgb(5,5,5)\",\"width\":1}},\"mode\":\"markers+lines\",\"name\":\"Germany\",\"orientation\":\"v\",\"showlegend\":true,\"x\":[\"2017\",\"2018\",\"2019\",\"2020\"],\"xaxis\":\"x\",\"y\":[24,33,25,25],\"yaxis\":\"y\",\"type\":\"scatter\"},{\"hovertemplate\":\"country_work_in=India<br>year=%{x}<br>Avg=%{y}<extra></extra>\",\"legendgroup\":\"India\",\"line\":{\"color\":\"rgb(85,168,104)\",\"dash\":\"solid\",\"width\":5},\"marker\":{\"symbol\":\"circle\",\"line\":{\"color\":\"rgb(5,5,5)\",\"width\":1}},\"mode\":\"markers+lines\",\"name\":\"India\",\"orientation\":\"v\",\"showlegend\":true,\"x\":[\"2017\",\"2019\"],\"xaxis\":\"x\",\"y\":[9,9],\"yaxis\":\"y\",\"type\":\"scatter\"},{\"hovertemplate\":\"country_work_in=UK<br>year=%{x}<br>Avg=%{y}<extra></extra>\",\"legendgroup\":\"UK\",\"line\":{\"color\":\"rgb(196,78,82)\",\"dash\":\"solid\",\"width\":5},\"marker\":{\"symbol\":\"circle\",\"line\":{\"color\":\"rgb(5,5,5)\",\"width\":1}},\"mode\":\"markers+lines\",\"name\":\"UK\",\"orientation\":\"v\",\"showlegend\":true,\"x\":[\"2017\",\"2018\",\"2019\",\"2020\"],\"xaxis\":\"x\",\"y\":[37,26,25,33],\"yaxis\":\"y\",\"type\":\"scatter\"},{\"hovertemplate\":\"country_work_in=USA<br>year=%{x}<br>Avg=%{y}<extra></extra>\",\"legendgroup\":\"USA\",\"line\":{\"color\":\"rgb(129,114,179)\",\"dash\":\"solid\",\"width\":5},\"marker\":{\"symbol\":\"circle\",\"line\":{\"color\":\"rgb(5,5,5)\",\"width\":1}},\"mode\":\"markers+lines\",\"name\":\"USA\",\"orientation\":\"v\",\"showlegend\":true,\"x\":[\"2017\",\"2018\",\"2019\",\"2020\"],\"xaxis\":\"x\",\"y\":[49,50,50,39],\"yaxis\":\"y\",\"type\":\"scatter\"}],                        {\"template\":{\"data\":{\"barpolar\":[{\"marker\":{\"line\":{\"color\":\"rgb(234,234,242)\",\"width\":0.5},\"pattern\":{\"fillmode\":\"overlay\",\"size\":10,\"solidity\":0.2}},\"type\":\"barpolar\"}],\"bar\":[{\"error_x\":{\"color\":\"rgb(36,36,36)\"},\"error_y\":{\"color\":\"rgb(36,36,36)\"},\"marker\":{\"line\":{\"color\":\"rgb(234,234,242)\",\"width\":0.5},\"pattern\":{\"fillmode\":\"overlay\",\"size\":10,\"solidity\":0.2}},\"type\":\"bar\"}],\"carpet\":[{\"aaxis\":{\"endlinecolor\":\"rgb(36,36,36)\",\"gridcolor\":\"white\",\"linecolor\":\"white\",\"minorgridcolor\":\"white\",\"startlinecolor\":\"rgb(36,36,36)\"},\"baxis\":{\"endlinecolor\":\"rgb(36,36,36)\",\"gridcolor\":\"white\",\"linecolor\":\"white\",\"minorgridcolor\":\"white\",\"startlinecolor\":\"rgb(36,36,36)\"},\"type\":\"carpet\"}],\"choropleth\":[{\"colorbar\":{\"outlinewidth\":0,\"tickcolor\":\"rgb(36,36,36)\",\"ticklen\":8,\"ticks\":\"outside\",\"tickwidth\":2},\"type\":\"choropleth\"}],\"contourcarpet\":[{\"colorbar\":{\"outlinewidth\":0,\"tickcolor\":\"rgb(36,36,36)\",\"ticklen\":8,\"ticks\":\"outside\",\"tickwidth\":2},\"type\":\"contourcarpet\"}],\"contour\":[{\"colorbar\":{\"outlinewidth\":0,\"tickcolor\":\"rgb(36,36,36)\",\"ticklen\":8,\"ticks\":\"outside\",\"tickwidth\":2},\"colorscale\":[[0.0,\"rgb(2,4,25)\"],[0.06274509803921569,\"rgb(24,15,41)\"],[0.12549019607843137,\"rgb(47,23,57)\"],[0.18823529411764706,\"rgb(71,28,72)\"],[0.25098039215686274,\"rgb(97,30,82)\"],[0.3137254901960784,\"rgb(123,30,89)\"],[0.3764705882352941,\"rgb(150,27,91)\"],[0.4392156862745098,\"rgb(177,22,88)\"],[0.5019607843137255,\"rgb(203,26,79)\"],[0.5647058823529412,\"rgb(223,47,67)\"],[0.6274509803921569,\"rgb(236,76,61)\"],[0.6901960784313725,\"rgb(242,107,73)\"],[0.7529411764705882,\"rgb(244,135,95)\"],[0.8156862745098039,\"rgb(245,162,122)\"],[0.8784313725490196,\"rgb(246,188,153)\"],[0.9411764705882353,\"rgb(247,212,187)\"],[1.0,\"rgb(250,234,220)\"]],\"type\":\"contour\"}],\"heatmapgl\":[{\"colorbar\":{\"outlinewidth\":0,\"tickcolor\":\"rgb(36,36,36)\",\"ticklen\":8,\"ticks\":\"outside\",\"tickwidth\":2},\"colorscale\":[[0.0,\"rgb(2,4,25)\"],[0.06274509803921569,\"rgb(24,15,41)\"],[0.12549019607843137,\"rgb(47,23,57)\"],[0.18823529411764706,\"rgb(71,28,72)\"],[0.25098039215686274,\"rgb(97,30,82)\"],[0.3137254901960784,\"rgb(123,30,89)\"],[0.3764705882352941,\"rgb(150,27,91)\"],[0.4392156862745098,\"rgb(177,22,88)\"],[0.5019607843137255,\"rgb(203,26,79)\"],[0.5647058823529412,\"rgb(223,47,67)\"],[0.6274509803921569,\"rgb(236,76,61)\"],[0.6901960784313725,\"rgb(242,107,73)\"],[0.7529411764705882,\"rgb(244,135,95)\"],[0.8156862745098039,\"rgb(245,162,122)\"],[0.8784313725490196,\"rgb(246,188,153)\"],[0.9411764705882353,\"rgb(247,212,187)\"],[1.0,\"rgb(250,234,220)\"]],\"type\":\"heatmapgl\"}],\"heatmap\":[{\"colorbar\":{\"outlinewidth\":0,\"tickcolor\":\"rgb(36,36,36)\",\"ticklen\":8,\"ticks\":\"outside\",\"tickwidth\":2},\"colorscale\":[[0.0,\"rgb(2,4,25)\"],[0.06274509803921569,\"rgb(24,15,41)\"],[0.12549019607843137,\"rgb(47,23,57)\"],[0.18823529411764706,\"rgb(71,28,72)\"],[0.25098039215686274,\"rgb(97,30,82)\"],[0.3137254901960784,\"rgb(123,30,89)\"],[0.3764705882352941,\"rgb(150,27,91)\"],[0.4392156862745098,\"rgb(177,22,88)\"],[0.5019607843137255,\"rgb(203,26,79)\"],[0.5647058823529412,\"rgb(223,47,67)\"],[0.6274509803921569,\"rgb(236,76,61)\"],[0.6901960784313725,\"rgb(242,107,73)\"],[0.7529411764705882,\"rgb(244,135,95)\"],[0.8156862745098039,\"rgb(245,162,122)\"],[0.8784313725490196,\"rgb(246,188,153)\"],[0.9411764705882353,\"rgb(247,212,187)\"],[1.0,\"rgb(250,234,220)\"]],\"type\":\"heatmap\"}],\"histogram2dcontour\":[{\"colorbar\":{\"outlinewidth\":0,\"tickcolor\":\"rgb(36,36,36)\",\"ticklen\":8,\"ticks\":\"outside\",\"tickwidth\":2},\"colorscale\":[[0.0,\"rgb(2,4,25)\"],[0.06274509803921569,\"rgb(24,15,41)\"],[0.12549019607843137,\"rgb(47,23,57)\"],[0.18823529411764706,\"rgb(71,28,72)\"],[0.25098039215686274,\"rgb(97,30,82)\"],[0.3137254901960784,\"rgb(123,30,89)\"],[0.3764705882352941,\"rgb(150,27,91)\"],[0.4392156862745098,\"rgb(177,22,88)\"],[0.5019607843137255,\"rgb(203,26,79)\"],[0.5647058823529412,\"rgb(223,47,67)\"],[0.6274509803921569,\"rgb(236,76,61)\"],[0.6901960784313725,\"rgb(242,107,73)\"],[0.7529411764705882,\"rgb(244,135,95)\"],[0.8156862745098039,\"rgb(245,162,122)\"],[0.8784313725490196,\"rgb(246,188,153)\"],[0.9411764705882353,\"rgb(247,212,187)\"],[1.0,\"rgb(250,234,220)\"]],\"type\":\"histogram2dcontour\"}],\"histogram2d\":[{\"colorbar\":{\"outlinewidth\":0,\"tickcolor\":\"rgb(36,36,36)\",\"ticklen\":8,\"ticks\":\"outside\",\"tickwidth\":2},\"colorscale\":[[0.0,\"rgb(2,4,25)\"],[0.06274509803921569,\"rgb(24,15,41)\"],[0.12549019607843137,\"rgb(47,23,57)\"],[0.18823529411764706,\"rgb(71,28,72)\"],[0.25098039215686274,\"rgb(97,30,82)\"],[0.3137254901960784,\"rgb(123,30,89)\"],[0.3764705882352941,\"rgb(150,27,91)\"],[0.4392156862745098,\"rgb(177,22,88)\"],[0.5019607843137255,\"rgb(203,26,79)\"],[0.5647058823529412,\"rgb(223,47,67)\"],[0.6274509803921569,\"rgb(236,76,61)\"],[0.6901960784313725,\"rgb(242,107,73)\"],[0.7529411764705882,\"rgb(244,135,95)\"],[0.8156862745098039,\"rgb(245,162,122)\"],[0.8784313725490196,\"rgb(246,188,153)\"],[0.9411764705882353,\"rgb(247,212,187)\"],[1.0,\"rgb(250,234,220)\"]],\"type\":\"histogram2d\"}],\"histogram\":[{\"marker\":{\"pattern\":{\"fillmode\":\"overlay\",\"size\":10,\"solidity\":0.2}},\"type\":\"histogram\"}],\"mesh3d\":[{\"colorbar\":{\"outlinewidth\":0,\"tickcolor\":\"rgb(36,36,36)\",\"ticklen\":8,\"ticks\":\"outside\",\"tickwidth\":2},\"type\":\"mesh3d\"}],\"parcoords\":[{\"line\":{\"colorbar\":{\"outlinewidth\":0,\"tickcolor\":\"rgb(36,36,36)\",\"ticklen\":8,\"ticks\":\"outside\",\"tickwidth\":2}},\"type\":\"parcoords\"}],\"pie\":[{\"automargin\":true,\"type\":\"pie\"}],\"scatter3d\":[{\"line\":{\"colorbar\":{\"outlinewidth\":0,\"tickcolor\":\"rgb(36,36,36)\",\"ticklen\":8,\"ticks\":\"outside\",\"tickwidth\":2}},\"marker\":{\"colorbar\":{\"outlinewidth\":0,\"tickcolor\":\"rgb(36,36,36)\",\"ticklen\":8,\"ticks\":\"outside\",\"tickwidth\":2}},\"type\":\"scatter3d\"}],\"scattercarpet\":[{\"marker\":{\"colorbar\":{\"outlinewidth\":0,\"tickcolor\":\"rgb(36,36,36)\",\"ticklen\":8,\"ticks\":\"outside\",\"tickwidth\":2}},\"type\":\"scattercarpet\"}],\"scattergeo\":[{\"marker\":{\"colorbar\":{\"outlinewidth\":0,\"tickcolor\":\"rgb(36,36,36)\",\"ticklen\":8,\"ticks\":\"outside\",\"tickwidth\":2}},\"type\":\"scattergeo\"}],\"scattergl\":[{\"marker\":{\"colorbar\":{\"outlinewidth\":0,\"tickcolor\":\"rgb(36,36,36)\",\"ticklen\":8,\"ticks\":\"outside\",\"tickwidth\":2}},\"type\":\"scattergl\"}],\"scattermapbox\":[{\"marker\":{\"colorbar\":{\"outlinewidth\":0,\"tickcolor\":\"rgb(36,36,36)\",\"ticklen\":8,\"ticks\":\"outside\",\"tickwidth\":2}},\"type\":\"scattermapbox\"}],\"scatterpolargl\":[{\"marker\":{\"colorbar\":{\"outlinewidth\":0,\"tickcolor\":\"rgb(36,36,36)\",\"ticklen\":8,\"ticks\":\"outside\",\"tickwidth\":2}},\"type\":\"scatterpolargl\"}],\"scatterpolar\":[{\"marker\":{\"colorbar\":{\"outlinewidth\":0,\"tickcolor\":\"rgb(36,36,36)\",\"ticklen\":8,\"ticks\":\"outside\",\"tickwidth\":2}},\"type\":\"scatterpolar\"}],\"scatter\":[{\"fillpattern\":{\"fillmode\":\"overlay\",\"size\":10,\"solidity\":0.2},\"type\":\"scatter\"}],\"scatterternary\":[{\"marker\":{\"colorbar\":{\"outlinewidth\":0,\"tickcolor\":\"rgb(36,36,36)\",\"ticklen\":8,\"ticks\":\"outside\",\"tickwidth\":2}},\"type\":\"scatterternary\"}],\"surface\":[{\"colorbar\":{\"outlinewidth\":0,\"tickcolor\":\"rgb(36,36,36)\",\"ticklen\":8,\"ticks\":\"outside\",\"tickwidth\":2},\"colorscale\":[[0.0,\"rgb(2,4,25)\"],[0.06274509803921569,\"rgb(24,15,41)\"],[0.12549019607843137,\"rgb(47,23,57)\"],[0.18823529411764706,\"rgb(71,28,72)\"],[0.25098039215686274,\"rgb(97,30,82)\"],[0.3137254901960784,\"rgb(123,30,89)\"],[0.3764705882352941,\"rgb(150,27,91)\"],[0.4392156862745098,\"rgb(177,22,88)\"],[0.5019607843137255,\"rgb(203,26,79)\"],[0.5647058823529412,\"rgb(223,47,67)\"],[0.6274509803921569,\"rgb(236,76,61)\"],[0.6901960784313725,\"rgb(242,107,73)\"],[0.7529411764705882,\"rgb(244,135,95)\"],[0.8156862745098039,\"rgb(245,162,122)\"],[0.8784313725490196,\"rgb(246,188,153)\"],[0.9411764705882353,\"rgb(247,212,187)\"],[1.0,\"rgb(250,234,220)\"]],\"type\":\"surface\"}],\"table\":[{\"cells\":{\"fill\":{\"color\":\"rgb(231,231,240)\"},\"line\":{\"color\":\"white\"}},\"header\":{\"fill\":{\"color\":\"rgb(183,183,191)\"},\"line\":{\"color\":\"white\"}},\"type\":\"table\"}]},\"layout\":{\"annotationdefaults\":{\"arrowcolor\":\"rgb(67,103,167)\"},\"autotypenumbers\":\"strict\",\"coloraxis\":{\"colorbar\":{\"outlinewidth\":0,\"tickcolor\":\"rgb(36,36,36)\",\"ticklen\":8,\"ticks\":\"outside\",\"tickwidth\":2}},\"colorscale\":{\"sequential\":[[0.0,\"rgb(2,4,25)\"],[0.06274509803921569,\"rgb(24,15,41)\"],[0.12549019607843137,\"rgb(47,23,57)\"],[0.18823529411764706,\"rgb(71,28,72)\"],[0.25098039215686274,\"rgb(97,30,82)\"],[0.3137254901960784,\"rgb(123,30,89)\"],[0.3764705882352941,\"rgb(150,27,91)\"],[0.4392156862745098,\"rgb(177,22,88)\"],[0.5019607843137255,\"rgb(203,26,79)\"],[0.5647058823529412,\"rgb(223,47,67)\"],[0.6274509803921569,\"rgb(236,76,61)\"],[0.6901960784313725,\"rgb(242,107,73)\"],[0.7529411764705882,\"rgb(244,135,95)\"],[0.8156862745098039,\"rgb(245,162,122)\"],[0.8784313725490196,\"rgb(246,188,153)\"],[0.9411764705882353,\"rgb(247,212,187)\"],[1.0,\"rgb(250,234,220)\"]],\"sequentialminus\":[[0.0,\"rgb(2,4,25)\"],[0.06274509803921569,\"rgb(24,15,41)\"],[0.12549019607843137,\"rgb(47,23,57)\"],[0.18823529411764706,\"rgb(71,28,72)\"],[0.25098039215686274,\"rgb(97,30,82)\"],[0.3137254901960784,\"rgb(123,30,89)\"],[0.3764705882352941,\"rgb(150,27,91)\"],[0.4392156862745098,\"rgb(177,22,88)\"],[0.5019607843137255,\"rgb(203,26,79)\"],[0.5647058823529412,\"rgb(223,47,67)\"],[0.6274509803921569,\"rgb(236,76,61)\"],[0.6901960784313725,\"rgb(242,107,73)\"],[0.7529411764705882,\"rgb(244,135,95)\"],[0.8156862745098039,\"rgb(245,162,122)\"],[0.8784313725490196,\"rgb(246,188,153)\"],[0.9411764705882353,\"rgb(247,212,187)\"],[1.0,\"rgb(250,234,220)\"]]},\"colorway\":[\"rgb(76,114,176)\",\"rgb(221,132,82)\",\"rgb(85,168,104)\",\"rgb(196,78,82)\",\"rgb(129,114,179)\",\"rgb(147,120,96)\",\"rgb(218,139,195)\",\"rgb(140,140,140)\",\"rgb(204,185,116)\",\"rgb(100,181,205)\"],\"font\":{\"color\":\"rgb(36,36,36)\"},\"geo\":{\"bgcolor\":\"white\",\"lakecolor\":\"white\",\"landcolor\":\"rgb(234,234,242)\",\"showlakes\":true,\"showland\":true,\"subunitcolor\":\"white\"},\"hoverlabel\":{\"align\":\"left\"},\"hovermode\":\"closest\",\"paper_bgcolor\":\"white\",\"plot_bgcolor\":\"rgb(234,234,242)\",\"polar\":{\"angularaxis\":{\"gridcolor\":\"white\",\"linecolor\":\"white\",\"showgrid\":true,\"ticks\":\"\"},\"bgcolor\":\"rgb(234,234,242)\",\"radialaxis\":{\"gridcolor\":\"white\",\"linecolor\":\"white\",\"showgrid\":true,\"ticks\":\"\"}},\"scene\":{\"xaxis\":{\"backgroundcolor\":\"rgb(234,234,242)\",\"gridcolor\":\"white\",\"gridwidth\":2,\"linecolor\":\"white\",\"showbackground\":true,\"showgrid\":true,\"ticks\":\"\",\"zerolinecolor\":\"white\"},\"yaxis\":{\"backgroundcolor\":\"rgb(234,234,242)\",\"gridcolor\":\"white\",\"gridwidth\":2,\"linecolor\":\"white\",\"showbackground\":true,\"showgrid\":true,\"ticks\":\"\",\"zerolinecolor\":\"white\"},\"zaxis\":{\"backgroundcolor\":\"rgb(234,234,242)\",\"gridcolor\":\"white\",\"gridwidth\":2,\"linecolor\":\"white\",\"showbackground\":true,\"showgrid\":true,\"ticks\":\"\",\"zerolinecolor\":\"white\"}},\"shapedefaults\":{\"fillcolor\":\"rgb(67,103,167)\",\"line\":{\"width\":0},\"opacity\":0.5},\"ternary\":{\"aaxis\":{\"gridcolor\":\"white\",\"linecolor\":\"white\",\"showgrid\":true,\"ticks\":\"\"},\"baxis\":{\"gridcolor\":\"white\",\"linecolor\":\"white\",\"showgrid\":true,\"ticks\":\"\"},\"bgcolor\":\"rgb(234,234,242)\",\"caxis\":{\"gridcolor\":\"white\",\"linecolor\":\"white\",\"showgrid\":true,\"ticks\":\"\"}},\"xaxis\":{\"automargin\":true,\"gridcolor\":\"white\",\"linecolor\":\"white\",\"showgrid\":true,\"ticks\":\"\",\"title\":{\"standoff\":15},\"zerolinecolor\":\"white\"},\"yaxis\":{\"automargin\":true,\"gridcolor\":\"white\",\"linecolor\":\"white\",\"showgrid\":true,\"ticks\":\"\",\"title\":{\"standoff\":15},\"zerolinecolor\":\"white\"}}},\"xaxis\":{\"anchor\":\"y\",\"domain\":[0.0,1.0],\"title\":{\"text\":\"year\"}},\"yaxis\":{\"anchor\":\"x\",\"domain\":[0.0,1.0],\"title\":{\"text\":\"Percent\"},\"range\":[-5,100]},\"legend\":{\"title\":{\"text\":\"Countries\"},\"tracegroupgap\":0,\"orientation\":\"h\",\"yanchor\":\"bottom\",\"y\":0.9,\"xanchor\":\"center\",\"x\":0.5},\"margin\":{\"t\":0,\"b\":0,\"l\":0,\"r\":0},\"barmode\":\"group\",\"height\":410},                        {\"responsive\": true}                    ).then(function(){\n",
       "                            \n",
       "var gd = document.getElementById('4722c746-aeff-4b73-ade1-8e22bca9747f');\n",
       "var x = new MutationObserver(function (mutations, observer) {{\n",
       "        var display = window.getComputedStyle(gd).display;\n",
       "        if (!display || display === 'none') {{\n",
       "            console.log([gd, 'removed!']);\n",
       "            Plotly.purge(gd);\n",
       "            observer.disconnect();\n",
       "        }}\n",
       "}});\n",
       "\n",
       "// Listen for the removal of the full notebook cells\n",
       "var notebookContainer = gd.closest('#notebook-container');\n",
       "if (notebookContainer) {{\n",
       "    x.observe(notebookContainer, {childList: true});\n",
       "}}\n",
       "\n",
       "// Listen for the clearing of the current output cell\n",
       "var outputEl = gd.closest('.output');\n",
       "if (outputEl) {{\n",
       "    x.observe(outputEl, {childList: true});\n",
       "}}\n",
       "\n",
       "                        })                };                });            </script>        </div>"
      ]
     },
     "metadata": {},
     "output_type": "display_data"
    }
   ],
   "source": [
    "def draw_MH_response_all_countries_Vs_years():\n",
    "    MH_response_all_countries_Vs_years = px.line(yes_Mh_avg, x='year', y='Avg', color='country_work_in',  markers=True, range_y=[-5,100], template = 'seaborn')\n",
    "    MH_response_all_countries_Vs_years.update_traces(marker_line_color='rgb(5,5,5)',marker_line_width=1, line=dict(width=5))\n",
    "    MH_response_all_countries_Vs_years.update_layout(\n",
    "        barmode='group', \n",
    "        xaxis_title=\"year\",\n",
    "        yaxis_title=\"Percent\",\n",
    "        legend_title=\"Countries\",\n",
    "        legend=dict(orientation=\"h\", yanchor=\"bottom\", y=0.90, xanchor=\"center\", x=0.5),\n",
    "        margin=dict(b = 0, t = 0, l = 0, r = 0),\n",
    "        height = 410,\n",
    "        \n",
    "        )\n",
    "    return MH_response_all_countries_Vs_years\n",
    "draw_MH_response_all_countries_Vs_years()"
   ]
  },
  {
   "cell_type": "markdown",
   "metadata": {
    "id": "NKT337VwKpEE"
   },
   "source": [
    "### World Wide Tech Industry Support Rate"
   ]
  },
  {
   "cell_type": "code",
   "execution_count": 241,
   "metadata": {
    "executionInfo": {
     "elapsed": 58,
     "status": "aborted",
     "timestamp": 1654337002850,
     "user": {
      "displayName": "habiba mohamed",
      "userId": "01346726008568088997"
     },
     "user_tz": -120
    },
    "id": "XY1UINQYKpEE"
   },
   "outputs": [
    {
     "data": {
      "text/html": [
       "<div>                            <div id=\"0f06ff74-d326-4856-b14a-501ea20b2720\" class=\"plotly-graph-div\" style=\"height:400px; width:100%;\"></div>            <script type=\"text/javascript\">                require([\"plotly\"], function(Plotly) {                    window.PLOTLYENV=window.PLOTLYENV || {};                                    if (document.getElementById(\"0f06ff74-d326-4856-b14a-501ea20b2720\")) {                    Plotly.newPlot(                        \"0f06ff74-d326-4856-b14a-501ea20b2720\",                        [{\"coloraxis\":\"coloraxis\",\"customdata\":[[\"Afghanistan\",null,null],[\"Algeria\",null,null],[\"Argentina\",7.0,7.0],[\"Argentina\",2.0,9.0],[\"Australia\",7.0,7.0],[\"Australia\",8.0,8.0],[\"Australia\",7.0,7.0],[\"Australia\",7.0,7.0],[\"Australia\",7.0,7.0],[\"Australia\",6.0,5.0],[\"Australia\",7.0,7.0],[\"Australia\",6.0,6.0],[\"Australia\",3.0,5.0],[\"Australia\",5.0,5.0],[\"Australia\",7.0,5.0],[\"Australia\",6.0,7.0],[\"Australia\",6.0,7.0],[\"Australia\",9.0,9.0],[\"Australia\",null,null],[\"Australia\",null,null],[\"Australia\",null,null],[\"Australia\",null,null],[\"Australia\",null,null],[\"Australia\",null,null],[\"Australia\",null,null],[\"Austria\",3.0,3.0],[\"Austria\",5.0,6.0],[\"Austria\",null,null],[\"Austria\",null,null],[\"Bangladesh\",9.0,9.0],[\"Bangladesh\",7.0,7.0],[\"Bangladesh\",null,null],[\"Belgium\",5.0,5.0],[\"Belgium\",null,null],[\"Belgium\",null,null],[\"Belgium\",null,null],[\"Botswana\",null,null],[\"Brazil\",2.0,5.0],[\"Brazil\",6.0,6.0],[\"Brazil\",4.0,8.0],[\"Brazil\",6.0,6.0],[\"Brazil\",4.0,4.0],[\"Brazil\",5.0,5.0],[\"Brazil\",0.0,6.0],[\"Brazil\",5.0,6.0],[\"Brazil\",2.0,9.0],[\"Brazil\",4.0,5.0],[\"Brazil\",3.0,3.0],[\"Brazil\",3.0,9.0],[\"Brazil\",6.0,6.0],[\"Brazil\",7.0,8.0],[\"Brazil\",4.0,3.0],[\"Brazil\",3.0,5.0],[\"Brazil\",2.0,5.0],[\"Brazil\",4.0,5.0],[\"Brazil\",2.0,3.0],[\"Brazil\",6.0,6.0],[\"Brazil\",5.0,6.0],[\"Brazil\",null,null],[\"Brazil\",null,null],[\"Brazil\",null,null],[\"Brazil\",null,null],[\"Brazil\",null,null],[\"Brazil\",null,null],[\"Bulgaria\",5.0,5.0],[\"Bulgaria\",3.0,3.0],[\"Cameroon\",null,null],[\"Canada\",7.0,8.0],[\"Canada\",4.0,5.0],[\"Canada\",5.0,5.0],[\"Canada\",5.0,8.0],[\"Canada\",5.0,10.0],[\"Canada\",8.0,10.0],[\"Canada\",3.0,8.0],[\"Canada\",7.0,7.0],[\"Canada\",5.0,5.0],[\"Canada\",1.0,9.0],[\"Canada\",8.0,8.0],[\"Canada\",6.0,6.0],[\"Canada\",2.0,6.0],[\"Canada\",4.0,5.0],[\"Canada\",0.0,5.0],[\"Canada\",3.0,3.0],[\"Canada\",4.0,8.0],[\"Canada\",4.0,6.0],[\"Canada\",10.0,10.0],[\"Canada\",5.0,5.0],[\"Canada\",0.0,10.0],[\"Canada\",0.0,5.0],[\"Canada\",3.0,7.0],[\"Canada\",4.0,4.0],[\"Canada\",6.0,7.0],[\"Canada\",7.0,6.0],[\"Canada\",5.0,8.0],[\"Canada\",6.0,8.0],[\"Canada\",7.0,6.0],[\"Canada\",2.0,4.0],[\"Canada\",5.0,8.0],[\"Canada\",10.0,5.0],[\"Canada\",9.0,9.0],[\"Canada\",7.0,8.0],[\"Canada\",7.0,7.0],[\"Canada\",9.0,5.0],[\"Canada\",5.0,6.0],[\"Canada\",null,null],[\"Canada\",null,null],[\"Canada\",null,null],[\"Canada\",null,null],[\"Canada\",null,null],[\"Canada\",null,null],[\"Canada\",null,null],[\"Canada\",null,null],[\"Canada\",null,null],[\"Canada\",null,null],[\"Canada\",null,null],[\"Canada\",null,null],[\"Canada\",null,null],[\"Canada\",null,null],[\"Canada\",null,null],[\"Canada\",null,null],[\"Colombia\",3.0,4.0],[\"Colombia\",6.0,7.0],[\"Colombia\",null,null],[\"Croatia\",4.0,4.0],[\"Croatia\",0.0,0.0],[\"Czech Republic\",null,null],[\"Egypt\",2.0,5.0],[\"Eritrea\",null,null],[\"Estonia\",2.0,6.0],[\"Estonia\",8.0,8.0],[\"Estonia\",3.0,6.0],[\"Ethiopia\",10.0,10.0],[\"Finland\",6.0,2.0],[\"Finland\",4.0,4.0],[\"Finland\",5.0,8.0],[\"Finland\",5.0,6.0],[\"France\",5.0,6.0],[\"France\",6.0,6.0],[\"France\",1.0,2.0],[\"France\",8.0,8.0],[\"France\",9.0,9.0],[\"France\",7.0,8.0],[\"France\",5.0,5.0],[\"France\",8.0,8.0],[\"France\",5.0,2.0],[\"France\",10.0,10.0],[\"France\",3.0,3.0],[\"France\",5.0,7.0],[\"France\",0.0,8.0],[\"France\",5.0,6.0],[\"France\",5.0,7.0],[\"France\",2.0,9.0],[\"France\",4.0,6.0],[\"France\",8.0,8.0],[\"France\",7.0,6.0],[\"France\",null,null],[\"France\",null,null],[\"Georgia\",null,null],[\"Germany\",3.0,8.0],[\"Germany\",6.0,7.0],[\"Germany\",6.0,8.0],[\"Germany\",3.0,4.0],[\"Germany\",3.0,7.0],[\"Germany\",4.0,8.0],[\"Germany\",5.0,5.0],[\"Germany\",1.0,3.0],[\"Germany\",3.0,3.0],[\"Germany\",3.0,5.0],[\"Germany\",8.0,9.0],[\"Germany\",5.0,7.0],[\"Germany\",5.0,5.0],[\"Germany\",4.0,3.0],[\"Germany\",2.0,6.0],[\"Germany\",3.0,6.0],[\"Germany\",6.0,10.0],[\"Germany\",0.0,8.0],[\"Germany\",0.0,6.0],[\"Germany\",5.0,7.0],[\"Germany\",0.0,6.0],[\"Germany\",6.0,7.0],[\"Germany\",5.0,4.0],[\"Germany\",3.0,4.0],[\"Germany\",3.0,5.0],[\"Germany\",8.0,9.0],[\"Germany\",4.0,7.0],[\"Germany\",4.0,7.0],[\"Germany\",5.0,5.0],[\"Germany\",8.0,7.0],[\"Germany\",5.0,2.0],[\"Germany\",null,null],[\"Germany\",null,null],[\"Germany\",null,null],[\"Germany\",null,null],[\"Germany\",null,null],[\"Germany\",null,null],[\"Ghana\",0.0,0.0],[\"Greece\",0.0,6.0],[\"Greece\",null,null],[\"Greece\",null,null],[\"Hong Kong\",0.0,5.0],[\"Hong Kong\",1.0,1.0],[\"Hungary\",5.0,6.0],[\"Iceland\",5.0,5.0],[\"Iceland\",4.0,7.0],[\"Iceland\",2.0,5.0],[\"India\",4.0,8.0],[\"India\",7.0,7.0],[\"India\",4.0,10.0],[\"India\",5.0,5.0],[\"India\",5.0,8.0],[\"India\",6.0,8.0],[\"India\",6.0,6.0],[\"India\",2.0,8.0],[\"India\",6.0,7.0],[\"India\",5.0,5.0],[\"India\",3.0,8.0],[\"India\",4.0,8.0],[\"India\",10.0,8.0],[\"India\",9.0,7.0],[\"India\",5.0,5.0],[\"India\",2.0,5.0],[\"India\",10.0,10.0],[\"India\",6.0,8.0],[\"India\",3.0,5.0],[\"India\",5.0,8.0],[\"India\",0.0,3.0],[\"India\",4.0,6.0],[\"India\",3.0,9.0],[\"India\",9.0,10.0],[\"India\",7.0,6.0],[\"India\",6.0,7.0],[\"India\",0.0,4.0],[\"India\",3.0,3.0],[\"India\",3.0,3.0],[\"India\",5.0,7.0],[\"India\",5.0,5.0],[\"India\",2.0,7.0],[\"India\",5.0,5.0],[\"India\",0.0,7.0],[\"India\",4.0,8.0],[\"India\",2.0,8.0],[\"India\",7.0,10.0],[\"India\",7.0,9.0],[\"India\",8.0,6.0],[\"India\",8.0,8.0],[\"India\",8.0,8.0],[\"India\",1.0,6.0],[\"India\",5.0,7.0],[\"India\",1.0,7.0],[\"India\",8.0,8.0],[\"India\",6.0,8.0],[\"India\",9.0,9.0],[\"India\",8.0,8.0],[\"India\",5.0,10.0],[\"India\",7.0,7.0],[\"India\",5.0,5.0],[\"India\",4.0,8.0],[\"India\",null,null],[\"India\",null,null],[\"India\",null,null],[\"India\",null,null],[\"India\",null,null],[\"India\",null,null],[\"Indonesia\",3.0,4.0],[\"Indonesia\",7.0,7.0],[\"Indonesia\",null,null],[\"Ireland\",5.0,5.0],[\"Ireland\",6.0,6.0],[\"Ireland\",5.0,5.0],[\"Ireland\",2.0,10.0],[\"Ireland\",8.0,5.0],[\"Ireland\",6.0,7.0],[\"Ireland\",10.0,10.0],[\"Ireland\",null,null],[\"Ireland\",null,null],[\"Ireland\",null,null],[\"Israel\",0.0,7.0],[\"Israel\",8.0,4.0],[\"Italy\",1.0,2.0],[\"Italy\",5.0,7.0],[\"Italy\",0.0,2.0],[\"Italy\",6.0,10.0],[\"Italy\",10.0,8.0],[\"Italy\",null,null],[\"Italy\",null,null],[\"Japan\",6.0,5.0],[\"Japan\",5.0,6.0],[\"Japan\",3.0,5.0],[\"Japan\",8.0,7.0],[\"Japan\",9.0,8.0],[\"Jordan\",null,null],[\"Kenya\",null,null],[\"Luxembourg\",5.0,6.0],[\"Macedonia\",7.0,7.0],[\"Malaysia\",5.0,10.0],[\"Mauritius\",5.0,7.0],[\"Mexico\",3.0,9.0],[\"Mexico\",4.0,5.0],[\"Mexico\",0.0,4.0],[\"Mexico\",5.0,8.0],[\"Mexico\",0.0,10.0],[\"Mexico\",8.0,8.0],[\"Mexico\",5.0,8.0],[\"Mexico\",null,null],[\"Mongolia\",7.0,10.0],[\"Mongolia\",null,null],[\"Netherlands\",7.0,7.0],[\"Netherlands\",7.0,7.0],[\"Netherlands\",7.0,7.0],[\"Netherlands\",7.0,6.0],[\"Netherlands\",7.0,7.0],[\"Netherlands\",6.0,6.0],[\"Netherlands\",6.0,6.0],[\"Netherlands\",7.0,7.0],[\"Netherlands\",6.0,7.0],[\"Netherlands\",6.0,8.0],[\"Netherlands\",8.0,2.0],[\"Netherlands\",6.0,7.0],[\"Netherlands\",3.0,6.0],[\"Netherlands\",5.0,7.0],[\"Netherlands\",3.0,2.0],[\"Netherlands\",5.0,5.0],[\"Netherlands\",8.0,8.0],[\"Netherlands\",7.0,5.0],[\"Netherlands\",4.0,8.0],[\"Netherlands\",6.0,4.0],[\"Netherlands\",null,null],[\"Netherlands\",null,null],[\"Netherlands\",null,null],[\"Netherlands\",null,null],[\"Netherlands\",null,null],[\"Netherlands\",null,null],[\"Netherlands\",null,null],[\"New Zealand\",5.0,5.0],[\"New Zealand\",5.0,5.0],[\"New Zealand\",2.0,8.0],[\"New Zealand\",4.0,5.0],[\"New Zealand\",4.0,7.0],[\"New Zealand\",null,null],[\"New Zealand\",null,null],[\"Nigeria\",0.0,0.0],[\"Norway\",6.0,4.0],[\"Norway\",4.0,6.0],[\"Norway\",2.0,3.0],[\"Norway\",8.0,8.0],[\"Norway\",5.0,5.0],[\"Norway\",6.0,7.0],[\"Norway\",5.0,5.0],[\"Norway\",null,null],[\"Other\",7.0,9.0],[\"Pakistan\",1.0,2.0],[\"Pakistan\",9.0,9.0],[\"Pakistan\",null,null],[\"Pakistan\",null,null],[\"Philippines\",8.0,8.0],[\"Philippines\",10.0,10.0],[\"Philippines\",7.0,9.0],[\"Poland\",7.0,7.0],[\"Poland\",8.0,10.0],[\"Poland\",2.0,6.0],[\"Poland\",6.0,10.0],[\"Poland\",4.0,6.0],[\"Poland\",0.0,0.0],[\"Poland\",1.0,7.0],[\"Poland\",4.0,5.0],[\"Poland\",2.0,7.0],[\"Poland\",null,null],[\"Poland\",null,null],[\"Portugal\",9.0,9.0],[\"Portugal\",8.0,9.0],[\"Portugal\",5.0,8.0],[\"Portugal\",7.0,7.0],[\"Portugal\",0.0,0.0],[\"Portugal\",7.0,9.0],[\"Portugal\",5.0,7.0],[\"Portugal\",7.0,7.0],[\"Portugal\",7.0,8.0],[\"Portugal\",5.0,8.0],[\"Portugal\",8.0,9.0],[\"Portugal\",3.0,6.0],[\"Portugal\",3.0,3.0],[\"Portugal\",5.0,8.0],[\"Portugal\",3.0,7.0],[\"Portugal\",5.0,5.0],[\"Portugal\",4.0,7.0],[\"Portugal\",8.0,10.0],[\"Portugal\",5.0,5.0],[\"Portugal\",5.0,5.0],[\"Portugal\",null,null],[\"Portugal\",null,null],[\"Portugal\",null,null],[\"Romania\",3.0,8.0],[\"Romania\",0.0,7.0],[\"Romania\",3.0,5.0],[\"Romania\",5.0,8.0],[\"Russia\",7.0,7.0],[\"Russia\",0.0,2.0],[\"Russia\",0.0,10.0],[\"Russia\",null,null],[\"Russia\",null,null],[\"Russia\",null,null],[\"Saudi Arabia\",1.0,7.0],[\"Serbia\",0.0,6.0],[\"Serbia\",6.0,9.0],[\"Serbia\",null,null],[\"Serbia\",null,null],[\"Singapore\",4.0,5.0],[\"Slovakia\",8.0,6.0],[\"South Africa\",5.0,5.0],[\"South Africa\",3.0,6.0],[\"South Africa\",4.0,7.0],[\"South Africa\",2.0,2.0],[\"South Africa\",2.0,3.0],[\"South Africa\",0.0,0.0],[\"South Africa\",2.0,6.0],[\"South Africa\",null,null],[\"Spain\",8.0,9.0],[\"Spain\",7.0,9.0],[\"Spain\",5.0,7.0],[\"Spain\",10.0,10.0],[\"Spain\",3.0,4.0],[\"Spain\",5.0,5.0],[\"Spain\",2.0,0.0],[\"Spain\",0.0,3.0],[\"Spain\",5.0,0.0],[\"Spain\",4.0,4.0],[\"Spain\",5.0,6.0],[\"Spain\",8.0,7.0],[\"Spain\",7.0,10.0],[\"Spain\",6.0,8.0],[\"Spain\",1.0,1.0],[\"Spain\",3.0,2.0],[\"Spain\",2.0,7.0],[\"Spain\",8.0,8.0],[\"Spain\",2.0,6.0],[\"Spain\",5.0,8.0],[\"Spain\",5.0,8.0],[\"Spain\",7.0,8.0],[\"Spain\",8.0,8.0],[\"Spain\",null,null],[\"Spain\",null,null],[\"Spain\",null,null],[\"Spain\",null,null],[\"Sri Lanka\",5.0,5.0],[\"Sri Lanka\",1.0,2.0],[\"Swaziland\",6.0,5.0],[\"Sweden\",8.0,10.0],[\"Sweden\",5.0,8.0],[\"Sweden\",5.0,5.0],[\"Sweden\",2.0,8.0],[\"Sweden\",null,null],[\"Switzerland\",10.0,10.0],[\"Switzerland\",10.0,10.0],[\"Switzerland\",7.0,9.0],[\"Switzerland\",3.0,9.0],[\"Switzerland\",6.0,7.0],[\"Switzerland\",1.0,4.0],[\"Switzerland\",7.0,8.0],[\"Switzerland\",0.0,0.0],[\"Switzerland\",9.0,9.0],[\"Switzerland\",2.0,3.0],[\"Switzerland\",null,null],[\"Taiwan\",3.0,8.0],[\"Turkey\",8.0,8.0],[\"Turkey\",2.0,2.0],[\"Turkey\",7.0,7.0],[\"Turkey\",5.0,7.0],[\"Turkey\",0.0,3.0],[\"Turkey\",null,null],[\"Turkey\",null,null],[\"UK\",0.0,6.0],[\"UK\",3.0,4.0],[\"UK\",7.0,8.0],[\"UK\",7.0,7.0],[\"UK\",1.0,2.0],[\"UK\",3.0,5.0],[\"UK\",5.0,7.0],[\"UK\",6.0,6.0],[\"UK\",7.0,7.0],[\"UK\",6.0,6.0],[\"UK\",7.0,7.0],[\"UK\",8.0,5.0],[\"UK\",5.0,4.0],[\"UK\",5.0,5.0],[\"UK\",3.0,3.0],[\"UK\",8.0,8.0],[\"UK\",5.0,5.0],[\"UK\",7.0,7.0],[\"UK\",5.0,2.0],[\"UK\",1.0,1.0],[\"UK\",5.0,6.0],[\"UK\",4.0,4.0],[\"UK\",2.0,7.0],[\"UK\",2.0,2.0],[\"UK\",7.0,6.0],[\"UK\",5.0,5.0],[\"UK\",4.0,9.0],[\"UK\",1.0,1.0],[\"UK\",0.0,4.0],[\"UK\",6.0,3.0],[\"UK\",4.0,7.0],[\"UK\",5.0,7.0],[\"UK\",6.0,9.0],[\"UK\",7.0,7.0],[\"UK\",4.0,5.0],[\"UK\",0.0,5.0],[\"UK\",8.0,10.0],[\"UK\",5.0,5.0],[\"UK\",3.0,3.0],[\"UK\",7.0,7.0],[\"UK\",8.0,8.0],[\"UK\",7.0,7.0],[\"UK\",0.0,3.0],[\"UK\",3.0,7.0],[\"UK\",4.0,5.0],[\"UK\",2.0,2.0],[\"UK\",8.0,8.0],[\"UK\",5.0,5.0],[\"UK\",4.0,4.0],[\"UK\",6.0,9.0],[\"UK\",3.0,4.0],[\"UK\",3.0,5.0],[\"UK\",5.0,6.0],[\"UK\",2.0,5.0],[\"UK\",2.0,8.0],[\"UK\",5.0,5.0],[\"UK\",7.0,7.0],[\"UK\",2.0,5.0],[\"UK\",9.0,9.0],[\"UK\",6.0,5.0],[\"UK\",4.0,8.0],[\"UK\",5.0,8.0],[\"UK\",8.0,8.0],[\"UK\",7.0,7.0],[\"UK\",5.0,5.0],[\"UK\",10.0,9.0],[\"UK\",10.0,10.0],[\"UK\",3.0,7.0],[\"UK\",8.0,7.0],[\"UK\",7.0,7.0],[\"UK\",7.0,9.0],[\"UK\",7.0,7.0],[\"UK\",7.0,5.0],[\"UK\",5.0,5.0],[\"UK\",8.0,7.0],[\"UK\",8.0,9.0],[\"UK\",9.0,9.0],[\"UK\",5.0,5.0],[\"UK\",7.0,5.0],[\"UK\",7.0,7.0],[\"UK\",1.0,4.0],[\"UK\",8.0,8.0],[\"UK\",6.0,6.0],[\"UK\",8.0,8.0],[\"UK\",7.0,7.0],[\"UK\",8.0,8.0],[\"UK\",7.0,5.0],[\"UK\",7.0,7.0],[\"UK\",5.0,10.0],[\"UK\",5.0,5.0],[\"UK\",7.0,7.0],[\"UK\",8.0,7.0],[\"UK\",4.0,6.0],[\"UK\",null,null],[\"UK\",null,null],[\"UK\",null,null],[\"UK\",null,null],[\"UK\",null,null],[\"UK\",null,null],[\"UK\",null,null],[\"UK\",null,null],[\"UK\",null,null],[\"UK\",null,null],[\"UK\",null,null],[\"UK\",null,null],[\"UK\",null,null],[\"UK\",null,null],[\"UK\",null,null],[\"UK\",null,null],[\"UK\",null,null],[\"UK\",null,null],[\"UK\",null,null],[\"UK\",null,null],[\"UK\",null,null],[\"UK\",null,null],[\"UK\",null,null],[\"UK\",null,null],[\"USA\",5.0,7.0],[\"USA\",5.0,9.0],[\"USA\",3.0,5.0],[\"USA\",5.0,5.0],[\"USA\",3.0,8.0],[\"USA\",5.0,5.0],[\"USA\",2.0,2.0],[\"USA\",5.0,7.0],[\"USA\",5.0,5.0],[\"USA\",2.0,4.0],[\"USA\",9.0,9.0],[\"USA\",4.0,5.0],[\"USA\",5.0,5.0],[\"USA\",7.0,6.0],[\"USA\",2.0,6.0],[\"USA\",5.0,7.0],[\"USA\",5.0,7.0],[\"USA\",5.0,5.0],[\"USA\",3.0,4.0],[\"USA\",8.0,9.0],[\"USA\",5.0,8.0],[\"USA\",4.0,5.0],[\"USA\",5.0,4.0],[\"USA\",5.0,7.0],[\"USA\",5.0,4.0],[\"USA\",7.0,8.0],[\"USA\",6.0,7.0],[\"USA\",8.0,8.0],[\"USA\",5.0,5.0],[\"USA\",5.0,5.0],[\"USA\",5.0,7.0],[\"USA\",4.0,5.0],[\"USA\",6.0,7.0],[\"USA\",7.0,9.0],[\"USA\",5.0,9.0],[\"USA\",1.0,8.0],[\"USA\",7.0,7.0],[\"USA\",3.0,7.0],[\"USA\",7.0,7.0],[\"USA\",3.0,8.0],[\"USA\",6.0,6.0],[\"USA\",2.0,2.0],[\"USA\",5.0,7.0],[\"USA\",2.0,4.0],[\"USA\",2.0,6.0],[\"USA\",2.0,2.0],[\"USA\",3.0,5.0],[\"USA\",7.0,10.0],[\"USA\",7.0,7.0],[\"USA\",5.0,6.0],[\"USA\",6.0,5.0],[\"USA\",5.0,7.0],[\"USA\",5.0,5.0],[\"USA\",5.0,5.0],[\"USA\",4.0,7.0],[\"USA\",6.0,8.0],[\"USA\",5.0,8.0],[\"USA\",5.0,9.0],[\"USA\",7.0,7.0],[\"USA\",8.0,9.0],[\"USA\",5.0,6.0],[\"USA\",8.0,9.0],[\"USA\",6.0,8.0],[\"USA\",5.0,10.0],[\"USA\",5.0,6.0],[\"USA\",5.0,5.0],[\"USA\",9.0,9.0],[\"USA\",6.0,7.0],[\"USA\",5.0,6.0],[\"USA\",7.0,7.0],[\"USA\",3.0,3.0],[\"USA\",7.0,7.0],[\"USA\",5.0,8.0],[\"USA\",6.0,9.0],[\"USA\",5.0,5.0],[\"USA\",2.0,5.0],[\"USA\",6.0,5.0],[\"USA\",7.0,9.0],[\"USA\",8.0,8.0],[\"USA\",6.0,7.0],[\"USA\",1.0,3.0],[\"USA\",3.0,6.0],[\"USA\",8.0,8.0],[\"USA\",7.0,7.0],[\"USA\",0.0,8.0],[\"USA\",5.0,5.0],[\"USA\",7.0,9.0],[\"USA\",8.0,7.0],[\"USA\",3.0,4.0],[\"USA\",3.0,5.0],[\"USA\",5.0,5.0],[\"USA\",6.0,8.0],[\"USA\",4.0,5.0],[\"USA\",8.0,10.0],[\"USA\",5.0,5.0],[\"USA\",9.0,9.0],[\"USA\",6.0,7.0],[\"USA\",8.0,8.0],[\"USA\",7.0,4.0],[\"USA\",6.0,6.0],[\"USA\",9.0,8.0],[\"USA\",5.0,7.0],[\"USA\",6.0,5.0],[\"USA\",7.0,10.0],[\"USA\",7.0,7.0],[\"USA\",7.0,10.0],[\"USA\",7.0,10.0],[\"USA\",6.0,8.0],[\"USA\",5.0,5.0],[\"USA\",8.0,6.0],[\"USA\",5.0,5.0],[\"USA\",7.0,8.0],[\"USA\",4.0,9.0],[\"USA\",7.0,8.0],[\"USA\",8.0,8.0],[\"USA\",7.0,7.0],[\"USA\",4.0,4.0],[\"USA\",8.0,8.0],[\"USA\",5.0,8.0],[\"USA\",5.0,7.0],[\"USA\",0.0,0.0],[\"USA\",7.0,7.0],[\"USA\",2.0,6.0],[\"USA\",6.0,8.0],[\"USA\",5.0,5.0],[\"USA\",5.0,5.0],[\"USA\",3.0,6.0],[\"USA\",5.0,7.0],[\"USA\",9.0,9.0],[\"USA\",6.0,8.0],[\"USA\",0.0,7.0],[\"USA\",3.0,5.0],[\"USA\",7.0,8.0],[\"USA\",3.0,5.0],[\"USA\",5.0,5.0],[\"USA\",7.0,8.0],[\"USA\",5.0,7.0],[\"USA\",5.0,5.0],[\"USA\",8.0,10.0],[\"USA\",5.0,5.0],[\"USA\",5.0,7.0],[\"USA\",8.0,8.0],[\"USA\",2.0,5.0],[\"USA\",6.0,7.0],[\"USA\",0.0,4.0],[\"USA\",5.0,5.0],[\"USA\",3.0,8.0],[\"USA\",8.0,7.0],[\"USA\",10.0,10.0],[\"USA\",0.0,2.0],[\"USA\",5.0,5.0],[\"USA\",5.0,5.0],[\"USA\",7.0,7.0],[\"USA\",5.0,5.0],[\"USA\",1.0,7.0],[\"USA\",3.0,3.0],[\"USA\",4.0,4.0],[\"USA\",6.0,8.0],[\"USA\",5.0,10.0],[\"USA\",4.0,7.0],[\"USA\",2.0,7.0],[\"USA\",5.0,9.0],[\"USA\",6.0,8.0],[\"USA\",5.0,5.0],[\"USA\",7.0,7.0],[\"USA\",5.0,7.0],[\"USA\",8.0,8.0],[\"USA\",5.0,7.0],[\"USA\",7.0,7.0],[\"USA\",5.0,5.0],[\"USA\",0.0,3.0],[\"USA\",6.0,8.0],[\"USA\",5.0,5.0],[\"USA\",5.0,5.0],[\"USA\",7.0,7.0],[\"USA\",5.0,5.0],[\"USA\",3.0,4.0],[\"USA\",6.0,8.0],[\"USA\",6.0,7.0],[\"USA\",6.0,7.0],[\"USA\",3.0,9.0],[\"USA\",3.0,0.0],[\"USA\",1.0,2.0],[\"USA\",5.0,5.0],[\"USA\",0.0,1.0],[\"USA\",4.0,7.0],[\"USA\",3.0,8.0],[\"USA\",5.0,5.0],[\"USA\",6.0,6.0],[\"USA\",4.0,7.0],[\"USA\",6.0,7.0],[\"USA\",8.0,10.0],[\"USA\",5.0,6.0],[\"USA\",5.0,2.0],[\"USA\",5.0,7.0],[\"USA\",7.0,8.0],[\"USA\",3.0,5.0],[\"USA\",4.0,6.0],[\"USA\",7.0,7.0],[\"USA\",3.0,4.0],[\"USA\",9.0,9.0],[\"USA\",3.0,6.0],[\"USA\",2.0,6.0],[\"USA\",1.0,1.0],[\"USA\",7.0,7.0],[\"USA\",5.0,5.0],[\"USA\",5.0,7.0],[\"USA\",0.0,6.0],[\"USA\",4.0,6.0],[\"USA\",6.0,6.0],[\"USA\",8.0,7.0],[\"USA\",2.0,5.0],[\"USA\",3.0,3.0],[\"USA\",4.0,7.0],[\"USA\",8.0,8.0],[\"USA\",4.0,7.0],[\"USA\",7.0,6.0],[\"USA\",0.0,3.0],[\"USA\",3.0,5.0],[\"USA\",4.0,7.0],[\"USA\",2.0,2.0],[\"USA\",3.0,8.0],[\"USA\",7.0,6.0],[\"USA\",2.0,3.0],[\"USA\",5.0,8.0],[\"USA\",4.0,5.0],[\"USA\",4.0,4.0],[\"USA\",5.0,5.0],[\"USA\",5.0,7.0],[\"USA\",7.0,7.0],[\"USA\",6.0,6.0],[\"USA\",0.0,10.0],[\"USA\",5.0,5.0],[\"USA\",7.0,8.0],[\"USA\",4.0,4.0],[\"USA\",7.0,9.0],[\"USA\",3.0,3.0],[\"USA\",2.0,5.0],[\"USA\",7.0,7.0],[\"USA\",5.0,6.0],[\"USA\",5.0,5.0],[\"USA\",5.0,6.0],[\"USA\",6.0,6.0],[\"USA\",0.0,0.0],[\"USA\",2.0,5.0],[\"USA\",7.0,8.0],[\"USA\",5.0,7.0],[\"USA\",5.0,8.0],[\"USA\",5.0,5.0],[\"USA\",6.0,10.0],[\"USA\",3.0,3.0],[\"USA\",4.0,7.0],[\"USA\",8.0,8.0],[\"USA\",4.0,5.0],[\"USA\",5.0,5.0],[\"USA\",5.0,6.0],[\"USA\",8.0,7.0],[\"USA\",3.0,6.0],[\"USA\",6.0,8.0],[\"USA\",8.0,7.0],[\"USA\",5.0,5.0],[\"USA\",6.0,6.0],[\"USA\",7.0,6.0],[\"USA\",10.0,10.0],[\"USA\",2.0,10.0],[\"USA\",4.0,4.0],[\"USA\",3.0,7.0],[\"USA\",5.0,5.0],[\"USA\",5.0,5.0],[\"USA\",8.0,6.0],[\"USA\",5.0,8.0],[\"USA\",0.0,7.0],[\"USA\",8.0,10.0],[\"USA\",2.0,7.0],[\"USA\",5.0,5.0],[\"USA\",2.0,4.0],[\"USA\",8.0,8.0],[\"USA\",5.0,7.0],[\"USA\",5.0,6.0],[\"USA\",2.0,6.0],[\"USA\",9.0,8.0],[\"USA\",7.0,9.0],[\"USA\",5.0,8.0],[\"USA\",0.0,0.0],[\"USA\",6.0,7.0],[\"USA\",7.0,7.0],[\"USA\",10.0,10.0],[\"USA\",5.0,8.0],[\"USA\",5.0,5.0],[\"USA\",1.0,0.0],[\"USA\",10.0,10.0],[\"USA\",8.0,10.0],[\"USA\",0.0,1.0],[\"USA\",2.0,8.0],[\"USA\",2.0,5.0],[\"USA\",5.0,5.0],[\"USA\",5.0,5.0],[\"USA\",0.0,10.0],[\"USA\",0.0,0.0],[\"USA\",2.0,5.0],[\"USA\",2.0,3.0],[\"USA\",2.0,10.0],[\"USA\",5.0,5.0],[\"USA\",4.0,7.0],[\"USA\",6.0,10.0],[\"USA\",4.0,8.0],[\"USA\",5.0,7.0],[\"USA\",5.0,8.0],[\"USA\",6.0,7.0],[\"USA\",5.0,5.0],[\"USA\",6.0,6.0],[\"USA\",7.0,1.0],[\"USA\",3.0,5.0],[\"USA\",7.0,8.0],[\"USA\",1.0,2.0],[\"USA\",5.0,5.0],[\"USA\",5.0,8.0],[\"USA\",3.0,4.0],[\"USA\",3.0,5.0],[\"USA\",2.0,2.0],[\"USA\",4.0,7.0],[\"USA\",4.0,7.0],[\"USA\",5.0,8.0],[\"USA\",4.0,6.0],[\"USA\",6.0,6.0],[\"USA\",5.0,9.0],[\"USA\",4.0,7.0],[\"USA\",0.0,1.0],[\"USA\",6.0,8.0],[\"USA\",8.0,10.0],[\"USA\",7.0,8.0],[\"USA\",2.0,3.0],[\"USA\",3.0,6.0],[\"USA\",0.0,3.0],[\"USA\",6.0,6.0],[\"USA\",6.0,4.0],[\"USA\",5.0,6.0],[\"USA\",2.0,3.0],[\"USA\",8.0,5.0],[\"USA\",5.0,8.0],[\"USA\",4.0,5.0],[\"USA\",7.0,4.0],[\"USA\",10.0,10.0],[\"USA\",7.0,6.0],[\"USA\",5.0,6.0],[\"USA\",0.0,3.0],[\"USA\",5.0,5.0],[\"USA\",7.0,7.0],[\"USA\",3.0,5.0],[\"USA\",8.0,9.0],[\"USA\",4.0,6.0],[\"USA\",8.0,6.0],[\"USA\",7.0,7.0],[\"USA\",2.0,7.0],[\"USA\",3.0,7.0],[\"USA\",7.0,7.0],[\"USA\",8.0,8.0],[\"USA\",3.0,7.0],[\"USA\",7.0,8.0],[\"USA\",6.0,6.0],[\"USA\",0.0,7.0],[\"USA\",0.0,6.0],[\"USA\",7.0,6.0],[\"USA\",0.0,1.0],[\"USA\",3.0,0.0],[\"USA\",6.0,6.0],[\"USA\",5.0,7.0],[\"USA\",10.0,10.0],[\"USA\",8.0,10.0],[\"USA\",3.0,7.0],[\"USA\",5.0,7.0],[\"USA\",3.0,5.0],[\"USA\",4.0,7.0],[\"USA\",10.0,10.0],[\"USA\",7.0,8.0],[\"USA\",5.0,3.0],[\"USA\",0.0,0.0],[\"USA\",5.0,7.0],[\"USA\",1.0,3.0],[\"USA\",2.0,2.0],[\"USA\",5.0,10.0],[\"USA\",4.0,6.0],[\"USA\",3.0,5.0],[\"USA\",5.0,5.0],[\"USA\",2.0,9.0],[\"USA\",6.0,5.0],[\"USA\",5.0,7.0],[\"USA\",8.0,8.0],[\"USA\",3.0,5.0],[\"USA\",7.0,7.0],[\"USA\",5.0,2.0],[\"USA\",8.0,8.0],[\"USA\",4.0,5.0],[\"USA\",2.0,5.0],[\"USA\",5.0,3.0],[\"USA\",3.0,4.0],[\"USA\",4.0,8.0],[\"USA\",0.0,3.0],[\"USA\",1.0,7.0],[\"USA\",2.0,2.0],[\"USA\",5.0,0.0],[\"USA\",0.0,0.0],[\"USA\",4.0,7.0],[\"USA\",0.0,3.0],[\"USA\",5.0,5.0],[\"USA\",3.0,6.0],[\"USA\",7.0,7.0],[\"USA\",4.0,8.0],[\"USA\",5.0,7.0],[\"USA\",8.0,10.0],[\"USA\",3.0,7.0],[\"USA\",0.0,9.0],[\"USA\",3.0,3.0],[\"USA\",4.0,5.0],[\"USA\",0.0,0.0],[\"USA\",3.0,3.0],[\"USA\",2.0,2.0],[\"USA\",2.0,2.0],[\"USA\",5.0,5.0],[\"USA\",1.0,5.0],[\"USA\",10.0,10.0],[\"USA\",4.0,8.0],[\"USA\",2.0,2.0],[\"USA\",5.0,0.0],[\"USA\",0.0,8.0],[\"USA\",3.0,7.0],[\"USA\",0.0,5.0],[\"USA\",3.0,3.0],[\"USA\",2.0,5.0],[\"USA\",4.0,0.0],[\"USA\",3.0,3.0],[\"USA\",3.0,7.0],[\"USA\",3.0,5.0],[\"USA\",3.0,3.0],[\"USA\",8.0,7.0],[\"USA\",5.0,8.0],[\"USA\",6.0,9.0],[\"USA\",3.0,6.0],[\"USA\",0.0,10.0],[\"USA\",5.0,8.0],[\"USA\",7.0,7.0],[\"USA\",5.0,4.0],[\"USA\",0.0,7.0],[\"USA\",4.0,8.0],[\"USA\",4.0,6.0],[\"USA\",1.0,3.0],[\"USA\",1.0,4.0],[\"USA\",4.0,6.0],[\"USA\",1.0,5.0],[\"USA\",4.0,10.0],[\"USA\",5.0,5.0],[\"USA\",3.0,10.0],[\"USA\",5.0,10.0],[\"USA\",6.0,7.0],[\"USA\",5.0,5.0],[\"USA\",5.0,10.0],[\"USA\",7.0,8.0],[\"USA\",4.0,6.0],[\"USA\",2.0,5.0],[\"USA\",2.0,3.0],[\"USA\",0.0,5.0],[\"USA\",5.0,5.0],[\"USA\",0.0,0.0],[\"USA\",7.0,4.0],[\"USA\",0.0,0.0],[\"USA\",1.0,3.0],[\"USA\",8.0,8.0],[\"USA\",3.0,3.0],[\"USA\",2.0,5.0],[\"USA\",3.0,3.0],[\"USA\",6.0,6.0],[\"USA\",0.0,2.0],[\"USA\",7.0,7.0],[\"USA\",5.0,5.0],[\"USA\",4.0,3.0],[\"USA\",0.0,5.0],[\"USA\",5.0,10.0],[\"USA\",5.0,6.0],[\"USA\",7.0,7.0],[\"USA\",4.0,5.0],[\"USA\",5.0,2.0],[\"USA\",3.0,5.0],[\"USA\",5.0,6.0],[\"USA\",7.0,5.0],[\"USA\",2.0,4.0],[\"USA\",4.0,3.0],[\"USA\",0.0,0.0],[\"USA\",0.0,0.0],[\"USA\",2.0,6.0],[\"USA\",0.0,0.0],[\"USA\",2.0,7.0],[\"USA\",7.0,7.0],[\"USA\",2.0,5.0],[\"USA\",6.0,7.0],[\"USA\",8.0,7.0],[\"USA\",2.0,2.0],[\"USA\",0.0,3.0],[\"USA\",3.0,7.0],[\"USA\",5.0,6.0],[\"USA\",5.0,6.0],[\"USA\",4.0,7.0],[\"USA\",6.0,6.0],[\"USA\",3.0,8.0],[\"USA\",4.0,8.0],[\"USA\",5.0,8.0],[\"USA\",3.0,6.0],[\"USA\",5.0,5.0],[\"USA\",10.0,10.0],[\"USA\",4.0,5.0],[\"USA\",10.0,10.0],[\"USA\",5.0,5.0],[\"USA\",9.0,8.0],[\"USA\",4.0,7.0],[\"USA\",5.0,7.0],[\"USA\",0.0,0.0],[\"USA\",6.0,8.0],[\"USA\",6.0,8.0],[\"USA\",1.0,6.0],[\"USA\",5.0,8.0],[\"USA\",8.0,8.0],[\"USA\",5.0,5.0],[\"USA\",3.0,8.0],[\"USA\",7.0,7.0],[\"USA\",2.0,9.0],[\"USA\",10.0,10.0],[\"USA\",0.0,0.0],[\"USA\",8.0,8.0],[\"USA\",5.0,5.0],[\"USA\",2.0,0.0],[\"USA\",4.0,8.0],[\"USA\",5.0,5.0],[\"USA\",5.0,6.0],[\"USA\",3.0,7.0],[\"USA\",1.0,1.0],[\"USA\",3.0,5.0],[\"USA\",6.0,7.0],[\"USA\",3.0,10.0],[\"USA\",0.0,5.0],[\"USA\",8.0,10.0],[\"USA\",0.0,9.0],[\"USA\",0.0,0.0],[\"USA\",5.0,6.0],[\"USA\",2.0,2.0],[\"USA\",5.0,10.0],[\"USA\",5.0,6.0],[\"USA\",7.0,7.0],[\"USA\",7.0,8.0],[\"USA\",5.0,9.0],[\"USA\",1.0,1.0],[\"USA\",9.0,5.0],[\"USA\",7.0,7.0],[\"USA\",5.0,8.0],[\"USA\",3.0,4.0],[\"USA\",1.0,3.0],[\"USA\",2.0,5.0],[\"USA\",0.0,2.0],[\"USA\",3.0,7.0],[\"USA\",2.0,5.0],[\"USA\",5.0,5.0],[\"USA\",0.0,3.0],[\"USA\",5.0,1.0],[\"USA\",3.0,5.0],[\"USA\",8.0,5.0],[\"USA\",7.0,7.0],[\"USA\",5.0,8.0],[\"USA\",6.0,5.0],[\"USA\",7.0,7.0],[\"USA\",3.0,10.0],[\"USA\",4.0,10.0],[\"USA\",5.0,5.0],[\"USA\",5.0,7.0],[\"USA\",9.0,5.0],[\"USA\",0.0,6.0],[\"USA\",3.0,8.0],[\"USA\",10.0,10.0],[\"USA\",2.0,2.0],[\"USA\",1.0,5.0],[\"USA\",3.0,5.0],[\"USA\",0.0,4.0],[\"USA\",3.0,5.0],[\"USA\",6.0,9.0],[\"USA\",7.0,5.0],[\"USA\",3.0,5.0],[\"USA\",0.0,0.0],[\"USA\",0.0,5.0],[\"USA\",3.0,7.0],[\"USA\",5.0,8.0],[\"USA\",6.0,7.0],[\"USA\",2.0,3.0],[\"USA\",2.0,5.0],[\"USA\",5.0,7.0],[\"USA\",3.0,2.0],[\"USA\",2.0,10.0],[\"USA\",3.0,6.0],[\"USA\",2.0,7.0],[\"USA\",5.0,7.0],[\"USA\",2.0,5.0],[\"USA\",2.0,5.0],[\"USA\",5.0,5.0],[\"USA\",0.0,3.0],[\"USA\",3.0,9.0],[\"USA\",5.0,5.0],[\"USA\",0.0,0.0],[\"USA\",6.0,5.0],[\"USA\",5.0,8.0],[\"USA\",2.0,4.0],[\"USA\",0.0,10.0],[\"USA\",4.0,8.0],[\"USA\",7.0,10.0],[\"USA\",4.0,7.0],[\"USA\",2.0,7.0],[\"USA\",4.0,7.0],[\"USA\",4.0,5.0],[\"USA\",7.0,9.0],[\"USA\",8.0,8.0],[\"USA\",7.0,6.0],[\"USA\",3.0,5.0],[\"USA\",5.0,7.0],[\"USA\",7.0,8.0],[\"USA\",5.0,5.0],[\"USA\",3.0,3.0],[\"USA\",2.0,4.0],[\"USA\",2.0,8.0],[\"USA\",2.0,2.0],[\"USA\",5.0,7.0],[\"USA\",8.0,8.0],[\"USA\",0.0,8.0],[\"USA\",2.0,2.0],[\"USA\",5.0,5.0],[\"USA\",8.0,8.0],[\"USA\",2.0,7.0],[\"USA\",6.0,8.0],[\"USA\",1.0,10.0],[\"USA\",7.0,6.0],[\"USA\",4.0,7.0],[\"USA\",7.0,9.0],[\"USA\",4.0,7.0],[\"USA\",7.0,7.0],[\"USA\",6.0,8.0],[\"USA\",1.0,5.0],[\"USA\",5.0,8.0],[\"USA\",5.0,7.0],[\"USA\",3.0,6.0],[\"USA\",7.0,7.0],[\"USA\",10.0,10.0],[\"USA\",5.0,7.0],[\"USA\",9.0,7.0],[\"USA\",8.0,8.0],[\"USA\",6.0,8.0],[\"USA\",2.0,3.0],[\"USA\",3.0,8.0],[\"USA\",5.0,7.0],[\"USA\",6.0,7.0],[\"USA\",8.0,8.0],[\"USA\",10.0,10.0],[\"USA\",7.0,8.0],[\"USA\",7.0,7.0],[\"USA\",7.0,8.0],[\"USA\",5.0,9.0],[\"USA\",5.0,7.0],[\"USA\",5.0,9.0],[\"USA\",8.0,8.0],[\"USA\",5.0,6.0],[\"USA\",5.0,10.0],[\"USA\",7.0,7.0],[\"USA\",5.0,9.0],[\"USA\",2.0,5.0],[\"USA\",8.0,8.0],[\"USA\",8.0,5.0],[\"USA\",7.0,8.0],[\"USA\",4.0,6.0],[\"USA\",7.0,8.0],[\"USA\",1.0,5.0],[\"USA\",8.0,8.0],[\"USA\",5.0,5.0],[\"USA\",9.0,9.0],[\"USA\",5.0,7.0],[\"USA\",8.0,6.0],[\"USA\",5.0,5.0],[\"USA\",4.0,8.0],[\"USA\",8.0,8.0],[\"USA\",9.0,9.0],[\"USA\",5.0,6.0],[\"USA\",9.0,6.0],[\"USA\",9.0,9.0],[\"USA\",1.0,4.0],[\"USA\",5.0,8.0],[\"USA\",5.0,10.0],[\"USA\",7.0,8.0],[\"USA\",8.0,8.0],[\"USA\",5.0,5.0],[\"USA\",7.0,7.0],[\"USA\",7.0,7.0],[\"USA\",8.0,6.0],[\"USA\",5.0,7.0],[\"USA\",8.0,8.0],[\"USA\",2.0,2.0],[\"USA\",8.0,8.0],[\"USA\",8.0,8.0],[\"USA\",10.0,7.0],[\"USA\",6.0,10.0],[\"USA\",8.0,8.0],[\"USA\",6.0,8.0],[\"USA\",5.0,5.0],[\"USA\",7.0,7.0],[\"USA\",7.0,5.0],[\"USA\",8.0,7.0],[\"USA\",5.0,7.0],[\"USA\",5.0,5.0],[\"USA\",9.0,9.0],[\"USA\",6.0,6.0],[\"USA\",8.0,7.0],[\"USA\",9.0,7.0],[\"USA\",5.0,5.0],[\"USA\",7.0,5.0],[\"USA\",9.0,5.0],[\"USA\",6.0,10.0],[\"USA\",6.0,6.0],[\"USA\",10.0,10.0],[\"USA\",4.0,6.0],[\"USA\",6.0,7.0],[\"USA\",10.0,10.0],[\"USA\",6.0,6.0],[\"USA\",5.0,5.0],[\"USA\",7.0,7.0],[\"USA\",8.0,8.0],[\"USA\",5.0,6.0],[\"USA\",10.0,10.0],[\"USA\",4.0,1.0],[\"USA\",8.0,10.0],[\"USA\",5.0,7.0],[\"USA\",8.0,7.0],[\"USA\",8.0,8.0],[\"USA\",5.0,8.0],[\"USA\",7.0,8.0],[\"USA\",5.0,7.0],[\"USA\",4.0,7.0],[\"USA\",6.0,6.0],[\"USA\",9.0,9.0],[\"USA\",5.0,6.0],[\"USA\",6.0,6.0],[\"USA\",5.0,6.0],[\"USA\",7.0,7.0],[\"USA\",7.0,7.0],[\"USA\",5.0,7.0],[\"USA\",7.0,10.0],[\"USA\",6.0,6.0],[\"USA\",5.0,5.0],[\"USA\",5.0,7.0],[\"USA\",6.0,8.0],[\"USA\",7.0,7.0],[\"USA\",8.0,8.0],[\"USA\",4.0,5.0],[\"USA\",6.0,6.0],[\"USA\",5.0,7.0],[\"USA\",4.0,5.0],[\"USA\",8.0,8.0],[\"USA\",7.0,10.0],[\"USA\",5.0,7.0],[\"USA\",5.0,10.0],[\"USA\",5.0,4.0],[\"USA\",3.0,7.0],[\"USA\",5.0,6.0],[\"USA\",5.0,9.0],[\"USA\",4.0,7.0],[\"USA\",7.0,8.0],[\"USA\",6.0,8.0],[\"USA\",5.0,5.0],[\"USA\",4.0,6.0],[\"USA\",6.0,9.0],[\"USA\",5.0,7.0],[\"USA\",1.0,3.0],[\"USA\",3.0,6.0],[\"USA\",4.0,6.0],[\"USA\",5.0,5.0],[\"USA\",6.0,8.0],[\"USA\",7.0,9.0],[\"USA\",9.0,5.0],[\"USA\",8.0,7.0],[\"USA\",9.0,8.0],[\"USA\",5.0,5.0],[\"USA\",5.0,5.0],[\"USA\",5.0,3.0],[\"USA\",9.0,6.0],[\"USA\",5.0,5.0],[\"USA\",6.0,7.0],[\"USA\",6.0,7.0],[\"USA\",5.0,5.0],[\"USA\",7.0,9.0],[\"USA\",2.0,2.0],[\"USA\",3.0,5.0],[\"USA\",5.0,6.0],[\"USA\",5.0,5.0],[\"USA\",6.0,7.0],[\"USA\",9.0,9.0],[\"USA\",5.0,5.0],[\"USA\",8.0,8.0],[\"USA\",8.0,6.0],[\"USA\",5.0,9.0],[\"USA\",5.0,8.0],[\"USA\",9.0,8.0],[\"USA\",5.0,3.0],[\"USA\",6.0,6.0],[\"USA\",8.0,8.0],[\"USA\",1.0,4.0],[\"USA\",5.0,6.0],[\"USA\",7.0,6.0],[\"USA\",10.0,8.0],[\"USA\",8.0,8.0],[\"USA\",6.0,5.0],[\"USA\",7.0,7.0],[\"USA\",7.0,7.0],[\"USA\",7.0,8.0],[\"USA\",10.0,10.0],[\"USA\",4.0,6.0],[\"USA\",5.0,5.0],[\"USA\",7.0,8.0],[\"USA\",2.0,5.0],[\"USA\",5.0,6.0],[\"USA\",10.0,8.0],[\"USA\",7.0,9.0],[\"USA\",5.0,5.0],[\"USA\",7.0,7.0],[\"USA\",3.0,4.0],[\"USA\",7.0,5.0],[\"USA\",2.0,8.0],[\"USA\",7.0,7.0],[\"USA\",10.0,10.0],[\"USA\",5.0,5.0],[\"USA\",5.0,6.0],[\"USA\",3.0,5.0],[\"USA\",3.0,5.0],[\"USA\",3.0,1.0],[\"USA\",6.0,8.0],[\"USA\",8.0,6.0],[\"USA\",3.0,9.0],[\"USA\",8.0,8.0],[\"USA\",6.0,7.0],[\"USA\",6.0,3.0],[\"USA\",5.0,5.0],[\"USA\",8.0,6.0],[\"USA\",3.0,3.0],[\"USA\",7.0,9.0],[\"USA\",1.0,2.0],[\"USA\",7.0,7.0],[\"USA\",5.0,8.0],[\"USA\",7.0,7.0],[\"USA\",7.0,8.0],[\"USA\",8.0,6.0],[\"USA\",7.0,5.0],[\"USA\",8.0,7.0],[\"USA\",8.0,10.0],[\"USA\",6.0,7.0],[\"USA\",4.0,2.0],[\"USA\",5.0,5.0],[\"USA\",7.0,9.0],[\"USA\",0.0,5.0],[\"USA\",8.0,8.0],[\"USA\",7.0,7.0],[\"USA\",9.0,9.0],[\"USA\",6.0,8.0],[\"USA\",9.0,9.0],[\"USA\",3.0,3.0],[\"USA\",8.0,8.0],[\"USA\",7.0,9.0],[\"USA\",8.0,7.0],[\"USA\",6.0,8.0],[\"USA\",7.0,8.0],[\"USA\",7.0,8.0],[\"USA\",7.0,7.0],[\"USA\",2.0,0.0],[\"USA\",5.0,5.0],[\"USA\",0.0,0.0],[\"USA\",5.0,5.0],[\"USA\",7.0,5.0],[\"USA\",3.0,1.0],[\"USA\",9.0,7.0],[\"USA\",6.0,7.0],[\"USA\",10.0,10.0],[\"USA\",3.0,6.0],[\"USA\",7.0,5.0],[\"USA\",6.0,8.0],[\"USA\",6.0,3.0],[\"USA\",10.0,10.0],[\"USA\",7.0,8.0],[\"USA\",5.0,5.0],[\"USA\",4.0,5.0],[\"USA\",5.0,10.0],[\"USA\",7.0,6.0],[\"USA\",4.0,6.0],[\"USA\",5.0,7.0],[\"USA\",7.0,7.0],[\"USA\",8.0,10.0],[\"USA\",3.0,3.0],[\"USA\",8.0,7.0],[\"USA\",7.0,7.0],[\"USA\",8.0,8.0],[\"USA\",1.0,3.0],[\"USA\",5.0,5.0],[\"USA\",3.0,6.0],[\"USA\",5.0,7.0],[\"USA\",9.0,5.0],[\"USA\",6.0,6.0],[\"USA\",1.0,3.0],[\"USA\",8.0,10.0],[\"USA\",8.0,9.0],[\"USA\",7.0,6.0],[\"USA\",5.0,8.0],[\"USA\",5.0,10.0],[\"USA\",5.0,8.0],[\"USA\",8.0,10.0],[\"USA\",5.0,7.0],[\"USA\",8.0,8.0],[\"USA\",4.0,6.0],[\"USA\",6.0,7.0],[\"USA\",8.0,8.0],[\"USA\",7.0,7.0],[\"USA\",10.0,9.0],[\"USA\",1.0,6.0],[\"USA\",10.0,10.0],[\"USA\",10.0,8.0],[\"USA\",5.0,6.0],[\"USA\",1.0,8.0],[\"USA\",6.0,6.0],[\"USA\",8.0,10.0],[\"USA\",8.0,10.0],[\"USA\",8.0,8.0],[\"USA\",7.0,8.0],[\"USA\",7.0,7.0],[\"USA\",5.0,8.0],[\"USA\",5.0,6.0],[\"USA\",9.0,9.0],[\"USA\",5.0,5.0],[\"USA\",7.0,7.0],[\"USA\",7.0,7.0],[\"USA\",8.0,8.0],[\"USA\",8.0,8.0],[\"USA\",6.0,8.0],[\"USA\",7.0,7.0],[\"USA\",3.0,5.0],[\"USA\",0.0,2.0],[\"USA\",5.0,5.0],[\"USA\",3.0,5.0],[\"USA\",3.0,5.0],[\"USA\",4.0,4.0],[\"USA\",7.0,8.0],[\"USA\",7.0,8.0],[\"USA\",8.0,8.0],[\"USA\",5.0,6.0],[\"USA\",7.0,7.0],[\"USA\",6.0,10.0],[\"USA\",5.0,5.0],[\"USA\",5.0,7.0],[\"USA\",9.0,10.0],[\"USA\",6.0,6.0],[\"USA\",4.0,5.0],[\"USA\",8.0,8.0],[\"USA\",8.0,8.0],[\"USA\",10.0,10.0],[\"USA\",8.0,8.0],[\"USA\",6.0,7.0],[\"USA\",10.0,10.0],[\"USA\",5.0,5.0],[\"USA\",9.0,8.0],[\"USA\",8.0,8.0],[\"USA\",5.0,7.0],[\"USA\",8.0,8.0],[\"USA\",5.0,5.0],[\"USA\",5.0,5.0],[\"USA\",3.0,1.0],[\"USA\",9.0,7.0],[\"USA\",null,null],[\"USA\",null,null],[\"USA\",null,null],[\"USA\",null,null],[\"USA\",null,null],[\"USA\",null,null],[\"USA\",null,null],[\"USA\",null,null],[\"USA\",null,null],[\"USA\",null,null],[\"USA\",null,null],[\"USA\",null,null],[\"USA\",null,null],[\"USA\",null,null],[\"USA\",null,null],[\"USA\",null,null],[\"USA\",null,null],[\"USA\",null,null],[\"USA\",null,null],[\"USA\",null,null],[\"USA\",null,null],[\"USA\",null,null],[\"USA\",null,null],[\"USA\",null,null],[\"USA\",null,null],[\"USA\",null,null],[\"USA\",null,null],[\"USA\",null,null],[\"USA\",null,null],[\"USA\",null,null],[\"USA\",null,null],[\"USA\",null,null],[\"USA\",null,null],[\"USA\",null,null],[\"USA\",null,null],[\"USA\",null,null],[\"USA\",null,null],[\"USA\",null,null],[\"USA\",null,null],[\"USA\",null,null],[\"USA\",null,null],[\"USA\",null,null],[\"USA\",null,null],[\"USA\",null,null],[\"USA\",null,null],[\"USA\",null,null],[\"USA\",null,null],[\"USA\",null,null],[\"USA\",null,null],[\"USA\",null,null],[\"USA\",null,null],[\"USA\",null,null],[\"USA\",null,null],[\"USA\",null,null],[\"USA\",null,null],[\"USA\",null,null],[\"USA\",null,null],[\"USA\",null,null],[\"USA\",null,null],[\"USA\",null,null],[\"USA\",null,null],[\"USA\",null,null],[\"USA\",null,null],[\"USA\",null,null],[\"USA\",null,null],[\"USA\",null,null],[\"USA\",null,null],[\"USA\",null,null],[\"USA\",null,null],[\"USA\",null,null],[\"USA\",null,null],[\"USA\",null,null],[\"USA\",null,null],[\"USA\",null,null],[\"USA\",null,null],[\"USA\",null,null],[\"USA\",null,null],[\"USA\",null,null],[\"USA\",null,null],[\"USA\",null,null],[\"USA\",null,null],[\"USA\",null,null],[\"USA\",null,null],[\"USA\",null,null],[\"USA\",null,null],[\"USA\",null,null],[\"USA\",null,null],[\"USA\",null,null],[\"USA\",null,null],[\"USA\",null,null],[\"USA\",null,null],[\"USA\",null,null],[\"USA\",null,null],[\"USA\",null,null],[\"USA\",null,null],[\"USA\",null,null],[\"USA\",null,null],[\"USA\",null,null],[\"USA\",null,null],[\"USA\",null,null],[\"USA\",null,null],[\"USA\",null,null],[\"Ukraine\",5.0,8.0],[\"Ukraine\",6.0,8.0],[\"Ukraine\",null,null],[\"Uruguay\",4.0,4.0]],\"geo\":\"geo\",\"hovertemplate\":\"<b>%{hovertext}</b><br><br>country_live_in=%{location}<br>country_work_in=%{customdata[0]}<br>mh_employer_rate=%{customdata[1]}<br>ph_employer_rate=%{customdata[2]}<br>rate_tech_industry_support=%{z}<extra></extra>\",\"hovertext\":[\"Afghanistan\",\"Algeria\",\"Argentina\",\"Argentina\",\"Australia\",\"Australia\",\"Australia\",\"Australia\",\"Australia\",\"Australia\",\"Australia\",\"Australia\",\"Australia\",\"Australia\",\"Australia\",\"Australia\",\"Australia\",\"Australia\",\"Australia\",\"Australia\",\"Australia\",\"Australia\",\"Australia\",\"Australia\",\"Australia\",\"Austria\",\"Austria\",\"Austria\",\"Austria\",\"Bangladesh\",\"Bangladesh\",\"Bangladesh\",\"Belgium\",\"Belgium\",\"Belgium\",\"Belgium\",\"Botswana\",\"Brazil\",\"Brazil\",\"Brazil\",\"Brazil\",\"Brazil\",\"Brazil\",\"Brazil\",\"Brazil\",\"Brazil\",\"Brazil\",\"Brazil\",\"Brazil\",\"Brazil\",\"Brazil\",\"Brazil\",\"Brazil\",\"Brazil\",\"Brazil\",\"Brazil\",\"Brazil\",\"Brazil\",\"Brazil\",\"Brazil\",\"Brazil\",\"Brazil\",\"Brazil\",\"Brazil\",\"Bulgaria\",\"Bulgaria\",\"Cameroon\",\"Canada\",\"Canada\",\"Canada\",\"Canada\",\"Canada\",\"Canada\",\"Canada\",\"Canada\",\"Canada\",\"Canada\",\"Canada\",\"Canada\",\"Canada\",\"Canada\",\"Canada\",\"Canada\",\"Canada\",\"Canada\",\"Canada\",\"Canada\",\"Canada\",\"Canada\",\"Canada\",\"Canada\",\"Canada\",\"Canada\",\"Canada\",\"Canada\",\"Canada\",\"Canada\",\"Canada\",\"Canada\",\"Canada\",\"Canada\",\"Canada\",\"Canada\",\"Canada\",\"Canada\",\"Canada\",\"Canada\",\"Canada\",\"Canada\",\"Canada\",\"Canada\",\"Canada\",\"Canada\",\"Canada\",\"Canada\",\"Canada\",\"Canada\",\"Canada\",\"Canada\",\"Canada\",\"Colombia\",\"Colombia\",\"Colombia\",\"Croatia\",\"Croatia\",\"Czech Republic\",\"Egypt\",\"Eritrea\",\"Estonia\",\"Estonia\",\"Estonia\",\"Ethiopia\",\"Finland\",\"Finland\",\"Finland\",\"Finland\",\"France\",\"France\",\"France\",\"France\",\"France\",\"France\",\"France\",\"France\",\"France\",\"France\",\"France\",\"France\",\"France\",\"France\",\"France\",\"France\",\"France\",\"France\",\"France\",\"France\",\"France\",\"Georgia\",\"Germany\",\"Germany\",\"Germany\",\"Germany\",\"Germany\",\"Germany\",\"Germany\",\"Germany\",\"Germany\",\"Germany\",\"Germany\",\"Germany\",\"Germany\",\"Germany\",\"Germany\",\"Germany\",\"Germany\",\"Germany\",\"Germany\",\"Germany\",\"Germany\",\"Germany\",\"Germany\",\"Germany\",\"Germany\",\"Germany\",\"Germany\",\"Germany\",\"Germany\",\"Germany\",\"Germany\",\"Germany\",\"Germany\",\"Germany\",\"Germany\",\"Germany\",\"Germany\",\"Ghana\",\"Greece\",\"Greece\",\"Greece\",\"Hong Kong\",\"Hong Kong\",\"Hungary\",\"Iceland\",\"Iceland\",\"Iceland\",\"India\",\"India\",\"India\",\"India\",\"India\",\"India\",\"India\",\"India\",\"India\",\"India\",\"India\",\"India\",\"India\",\"India\",\"India\",\"India\",\"India\",\"India\",\"India\",\"India\",\"India\",\"India\",\"India\",\"India\",\"India\",\"India\",\"India\",\"India\",\"India\",\"India\",\"India\",\"India\",\"India\",\"India\",\"India\",\"India\",\"India\",\"India\",\"India\",\"India\",\"India\",\"India\",\"India\",\"India\",\"India\",\"India\",\"India\",\"India\",\"India\",\"India\",\"India\",\"India\",\"India\",\"India\",\"India\",\"India\",\"India\",\"India\",\"Indonesia\",\"Indonesia\",\"Indonesia\",\"Ireland\",\"Ireland\",\"Ireland\",\"Ireland\",\"Ireland\",\"Ireland\",\"Ireland\",\"Ireland\",\"Ireland\",\"Ireland\",\"Israel\",\"Israel\",\"Italy\",\"Italy\",\"Italy\",\"Italy\",\"Italy\",\"Italy\",\"Italy\",\"Japan\",\"Japan\",\"Japan\",\"Japan\",\"Japan\",\"Jordan\",\"Kenya\",\"Luxembourg\",\"Macedonia\",\"Malaysia\",\"Mauritius\",\"Mexico\",\"Mexico\",\"Mexico\",\"Mexico\",\"Mexico\",\"Mexico\",\"Mexico\",\"Mexico\",\"Mongolia\",\"Mongolia\",\"Netherlands\",\"Netherlands\",\"Netherlands\",\"Netherlands\",\"Netherlands\",\"Netherlands\",\"Netherlands\",\"Netherlands\",\"Netherlands\",\"Netherlands\",\"Netherlands\",\"Netherlands\",\"Netherlands\",\"Netherlands\",\"Netherlands\",\"Netherlands\",\"Netherlands\",\"Netherlands\",\"Netherlands\",\"Netherlands\",\"Netherlands\",\"Netherlands\",\"Netherlands\",\"Netherlands\",\"Netherlands\",\"Netherlands\",\"Netherlands\",\"New Zealand\",\"New Zealand\",\"New Zealand\",\"New Zealand\",\"New Zealand\",\"New Zealand\",\"New Zealand\",\"Nigeria\",\"Norway\",\"Norway\",\"Norway\",\"Norway\",\"Norway\",\"Norway\",\"Norway\",\"Norway\",\"Other\",\"Pakistan\",\"Pakistan\",\"Pakistan\",\"Pakistan\",\"Philippines\",\"Philippines\",\"Philippines\",\"Poland\",\"Poland\",\"Poland\",\"Poland\",\"Poland\",\"Poland\",\"Poland\",\"Poland\",\"Poland\",\"Poland\",\"Poland\",\"Portugal\",\"Portugal\",\"Portugal\",\"Portugal\",\"Portugal\",\"Portugal\",\"Portugal\",\"Portugal\",\"Portugal\",\"Portugal\",\"Portugal\",\"Portugal\",\"Portugal\",\"Portugal\",\"Portugal\",\"Portugal\",\"Portugal\",\"Portugal\",\"Portugal\",\"Portugal\",\"Portugal\",\"Portugal\",\"Portugal\",\"Romania\",\"Romania\",\"Romania\",\"Romania\",\"Russia\",\"Russia\",\"Russia\",\"Russia\",\"Russia\",\"Russia\",\"Saudi Arabia\",\"Serbia\",\"Serbia\",\"Serbia\",\"Serbia\",\"Singapore\",\"Slovakia\",\"South Africa\",\"South Africa\",\"South Africa\",\"South Africa\",\"South Africa\",\"South Africa\",\"South Africa\",\"South Africa\",\"Spain\",\"Spain\",\"Spain\",\"Spain\",\"Spain\",\"Spain\",\"Spain\",\"Spain\",\"Spain\",\"Spain\",\"Spain\",\"Spain\",\"Spain\",\"Spain\",\"Spain\",\"Spain\",\"Spain\",\"Spain\",\"Spain\",\"Spain\",\"Spain\",\"Spain\",\"Spain\",\"Spain\",\"Spain\",\"Spain\",\"Spain\",\"Sri Lanka\",\"Sri Lanka\",\"Swaziland\",\"Sweden\",\"Sweden\",\"Sweden\",\"Sweden\",\"Sweden\",\"Switzerland\",\"Switzerland\",\"Switzerland\",\"Switzerland\",\"Switzerland\",\"Switzerland\",\"Switzerland\",\"Switzerland\",\"Switzerland\",\"Switzerland\",\"Switzerland\",\"Taiwan\",\"Turkey\",\"Turkey\",\"Turkey\",\"Turkey\",\"Turkey\",\"Turkey\",\"Turkey\",\"UK\",\"UK\",\"UK\",\"UK\",\"UK\",\"UK\",\"UK\",\"UK\",\"UK\",\"UK\",\"UK\",\"UK\",\"UK\",\"UK\",\"UK\",\"UK\",\"UK\",\"UK\",\"UK\",\"UK\",\"UK\",\"UK\",\"UK\",\"UK\",\"UK\",\"UK\",\"UK\",\"UK\",\"UK\",\"UK\",\"UK\",\"UK\",\"UK\",\"UK\",\"UK\",\"UK\",\"UK\",\"UK\",\"UK\",\"UK\",\"UK\",\"UK\",\"UK\",\"UK\",\"UK\",\"UK\",\"UK\",\"UK\",\"UK\",\"UK\",\"UK\",\"UK\",\"UK\",\"UK\",\"UK\",\"UK\",\"UK\",\"UK\",\"UK\",\"UK\",\"UK\",\"UK\",\"UK\",\"UK\",\"UK\",\"UK\",\"UK\",\"UK\",\"UK\",\"UK\",\"UK\",\"UK\",\"UK\",\"UK\",\"UK\",\"UK\",\"UK\",\"UK\",\"UK\",\"UK\",\"UK\",\"UK\",\"UK\",\"UK\",\"UK\",\"UK\",\"UK\",\"UK\",\"UK\",\"UK\",\"UK\",\"UK\",\"UK\",\"UK\",\"UK\",\"UK\",\"UK\",\"UK\",\"UK\",\"UK\",\"UK\",\"UK\",\"UK\",\"UK\",\"UK\",\"UK\",\"UK\",\"UK\",\"UK\",\"UK\",\"UK\",\"UK\",\"UK\",\"UK\",\"UK\",\"UK\",\"UK\",\"USA\",\"USA\",\"USA\",\"USA\",\"USA\",\"USA\",\"USA\",\"USA\",\"USA\",\"USA\",\"USA\",\"USA\",\"USA\",\"USA\",\"USA\",\"USA\",\"USA\",\"USA\",\"USA\",\"USA\",\"USA\",\"USA\",\"USA\",\"USA\",\"USA\",\"USA\",\"USA\",\"USA\",\"USA\",\"USA\",\"USA\",\"USA\",\"USA\",\"USA\",\"USA\",\"USA\",\"USA\",\"USA\",\"USA\",\"USA\",\"USA\",\"USA\",\"USA\",\"USA\",\"USA\",\"USA\",\"USA\",\"USA\",\"USA\",\"USA\",\"USA\",\"USA\",\"USA\",\"USA\",\"USA\",\"USA\",\"USA\",\"USA\",\"USA\",\"USA\",\"USA\",\"USA\",\"USA\",\"USA\",\"USA\",\"USA\",\"USA\",\"USA\",\"USA\",\"USA\",\"USA\",\"USA\",\"USA\",\"USA\",\"USA\",\"USA\",\"USA\",\"USA\",\"USA\",\"USA\",\"USA\",\"USA\",\"USA\",\"USA\",\"USA\",\"USA\",\"USA\",\"USA\",\"USA\",\"USA\",\"USA\",\"USA\",\"USA\",\"USA\",\"USA\",\"USA\",\"USA\",\"USA\",\"USA\",\"USA\",\"USA\",\"USA\",\"USA\",\"USA\",\"USA\",\"USA\",\"USA\",\"USA\",\"USA\",\"USA\",\"USA\",\"USA\",\"USA\",\"USA\",\"USA\",\"USA\",\"USA\",\"USA\",\"USA\",\"USA\",\"USA\",\"USA\",\"USA\",\"USA\",\"USA\",\"USA\",\"USA\",\"USA\",\"USA\",\"USA\",\"USA\",\"USA\",\"USA\",\"USA\",\"USA\",\"USA\",\"USA\",\"USA\",\"USA\",\"USA\",\"USA\",\"USA\",\"USA\",\"USA\",\"USA\",\"USA\",\"USA\",\"USA\",\"USA\",\"USA\",\"USA\",\"USA\",\"USA\",\"USA\",\"USA\",\"USA\",\"USA\",\"USA\",\"USA\",\"USA\",\"USA\",\"USA\",\"USA\",\"USA\",\"USA\",\"USA\",\"USA\",\"USA\",\"USA\",\"USA\",\"USA\",\"USA\",\"USA\",\"USA\",\"USA\",\"USA\",\"USA\",\"USA\",\"USA\",\"USA\",\"USA\",\"USA\",\"USA\",\"USA\",\"USA\",\"USA\",\"USA\",\"USA\",\"USA\",\"USA\",\"USA\",\"USA\",\"USA\",\"USA\",\"USA\",\"USA\",\"USA\",\"USA\",\"USA\",\"USA\",\"USA\",\"USA\",\"USA\",\"USA\",\"USA\",\"USA\",\"USA\",\"USA\",\"USA\",\"USA\",\"USA\",\"USA\",\"USA\",\"USA\",\"USA\",\"USA\",\"USA\",\"USA\",\"USA\",\"USA\",\"USA\",\"USA\",\"USA\",\"USA\",\"USA\",\"USA\",\"USA\",\"USA\",\"USA\",\"USA\",\"USA\",\"USA\",\"USA\",\"USA\",\"USA\",\"USA\",\"USA\",\"USA\",\"USA\",\"USA\",\"USA\",\"USA\",\"USA\",\"USA\",\"USA\",\"USA\",\"USA\",\"USA\",\"USA\",\"USA\",\"USA\",\"USA\",\"USA\",\"USA\",\"USA\",\"USA\",\"USA\",\"USA\",\"USA\",\"USA\",\"USA\",\"USA\",\"USA\",\"USA\",\"USA\",\"USA\",\"USA\",\"USA\",\"USA\",\"USA\",\"USA\",\"USA\",\"USA\",\"USA\",\"USA\",\"USA\",\"USA\",\"USA\",\"USA\",\"USA\",\"USA\",\"USA\",\"USA\",\"USA\",\"USA\",\"USA\",\"USA\",\"USA\",\"USA\",\"USA\",\"USA\",\"USA\",\"USA\",\"USA\",\"USA\",\"USA\",\"USA\",\"USA\",\"USA\",\"USA\",\"USA\",\"USA\",\"USA\",\"USA\",\"USA\",\"USA\",\"USA\",\"USA\",\"USA\",\"USA\",\"USA\",\"USA\",\"USA\",\"USA\",\"USA\",\"USA\",\"USA\",\"USA\",\"USA\",\"USA\",\"USA\",\"USA\",\"USA\",\"USA\",\"USA\",\"USA\",\"USA\",\"USA\",\"USA\",\"USA\",\"USA\",\"USA\",\"USA\",\"USA\",\"USA\",\"USA\",\"USA\",\"USA\",\"USA\",\"USA\",\"USA\",\"USA\",\"USA\",\"USA\",\"USA\",\"USA\",\"USA\",\"USA\",\"USA\",\"USA\",\"USA\",\"USA\",\"USA\",\"USA\",\"USA\",\"USA\",\"USA\",\"USA\",\"USA\",\"USA\",\"USA\",\"USA\",\"USA\",\"USA\",\"USA\",\"USA\",\"USA\",\"USA\",\"USA\",\"USA\",\"USA\",\"USA\",\"USA\",\"USA\",\"USA\",\"USA\",\"USA\",\"USA\",\"USA\",\"USA\",\"USA\",\"USA\",\"USA\",\"USA\",\"USA\",\"USA\",\"USA\",\"USA\",\"USA\",\"USA\",\"USA\",\"USA\",\"USA\",\"USA\",\"USA\",\"USA\",\"USA\",\"USA\",\"USA\",\"USA\",\"USA\",\"USA\",\"USA\",\"USA\",\"USA\",\"USA\",\"USA\",\"USA\",\"USA\",\"USA\",\"USA\",\"USA\",\"USA\",\"USA\",\"USA\",\"USA\",\"USA\",\"USA\",\"USA\",\"USA\",\"USA\",\"USA\",\"USA\",\"USA\",\"USA\",\"USA\",\"USA\",\"USA\",\"USA\",\"USA\",\"USA\",\"USA\",\"USA\",\"USA\",\"USA\",\"USA\",\"USA\",\"USA\",\"USA\",\"USA\",\"USA\",\"USA\",\"USA\",\"USA\",\"USA\",\"USA\",\"USA\",\"USA\",\"USA\",\"USA\",\"USA\",\"USA\",\"USA\",\"USA\",\"USA\",\"USA\",\"USA\",\"USA\",\"USA\",\"USA\",\"USA\",\"USA\",\"USA\",\"USA\",\"USA\",\"USA\",\"USA\",\"USA\",\"USA\",\"USA\",\"USA\",\"USA\",\"USA\",\"USA\",\"USA\",\"USA\",\"USA\",\"USA\",\"USA\",\"USA\",\"USA\",\"USA\",\"USA\",\"USA\",\"USA\",\"USA\",\"USA\",\"USA\",\"USA\",\"USA\",\"USA\",\"USA\",\"USA\",\"USA\",\"USA\",\"USA\",\"USA\",\"USA\",\"USA\",\"USA\",\"USA\",\"USA\",\"USA\",\"USA\",\"USA\",\"USA\",\"USA\",\"USA\",\"USA\",\"USA\",\"USA\",\"USA\",\"USA\",\"USA\",\"USA\",\"USA\",\"USA\",\"USA\",\"USA\",\"USA\",\"USA\",\"USA\",\"USA\",\"USA\",\"USA\",\"USA\",\"USA\",\"USA\",\"USA\",\"USA\",\"USA\",\"USA\",\"USA\",\"USA\",\"USA\",\"USA\",\"USA\",\"USA\",\"USA\",\"USA\",\"USA\",\"USA\",\"USA\",\"USA\",\"USA\",\"USA\",\"USA\",\"USA\",\"USA\",\"USA\",\"USA\",\"USA\",\"USA\",\"USA\",\"USA\",\"USA\",\"USA\",\"USA\",\"USA\",\"USA\",\"USA\",\"USA\",\"USA\",\"USA\",\"USA\",\"USA\",\"USA\",\"USA\",\"USA\",\"USA\",\"USA\",\"USA\",\"USA\",\"USA\",\"USA\",\"USA\",\"USA\",\"USA\",\"USA\",\"USA\",\"USA\",\"USA\",\"USA\",\"USA\",\"USA\",\"USA\",\"USA\",\"USA\",\"USA\",\"USA\",\"USA\",\"USA\",\"USA\",\"USA\",\"USA\",\"USA\",\"USA\",\"USA\",\"USA\",\"USA\",\"USA\",\"USA\",\"USA\",\"USA\",\"USA\",\"USA\",\"USA\",\"USA\",\"USA\",\"USA\",\"USA\",\"USA\",\"USA\",\"USA\",\"USA\",\"USA\",\"USA\",\"USA\",\"USA\",\"USA\",\"USA\",\"USA\",\"USA\",\"USA\",\"USA\",\"USA\",\"USA\",\"USA\",\"USA\",\"USA\",\"USA\",\"USA\",\"USA\",\"USA\",\"USA\",\"USA\",\"USA\",\"USA\",\"USA\",\"USA\",\"USA\",\"USA\",\"USA\",\"USA\",\"USA\",\"USA\",\"USA\",\"USA\",\"USA\",\"USA\",\"USA\",\"USA\",\"USA\",\"USA\",\"USA\",\"USA\",\"USA\",\"USA\",\"USA\",\"USA\",\"USA\",\"USA\",\"USA\",\"USA\",\"USA\",\"USA\",\"USA\",\"USA\",\"USA\",\"USA\",\"USA\",\"USA\",\"USA\",\"USA\",\"USA\",\"USA\",\"USA\",\"USA\",\"USA\",\"USA\",\"USA\",\"USA\",\"USA\",\"USA\",\"USA\",\"USA\",\"USA\",\"USA\",\"USA\",\"USA\",\"USA\",\"USA\",\"USA\",\"USA\",\"USA\",\"USA\",\"USA\",\"USA\",\"USA\",\"USA\",\"USA\",\"USA\",\"USA\",\"USA\",\"USA\",\"USA\",\"USA\",\"USA\",\"USA\",\"USA\",\"USA\",\"USA\",\"USA\",\"USA\",\"USA\",\"USA\",\"USA\",\"USA\",\"USA\",\"USA\",\"USA\",\"USA\",\"USA\",\"USA\",\"USA\",\"USA\",\"USA\",\"USA\",\"USA\",\"USA\",\"USA\",\"USA\",\"USA\",\"USA\",\"USA\",\"USA\",\"USA\",\"USA\",\"USA\",\"USA\",\"USA\",\"USA\",\"USA\",\"USA\",\"USA\",\"USA\",\"USA\",\"USA\",\"USA\",\"USA\",\"USA\",\"USA\",\"USA\",\"USA\",\"USA\",\"USA\",\"USA\",\"USA\",\"USA\",\"USA\",\"USA\",\"USA\",\"USA\",\"USA\",\"USA\",\"USA\",\"USA\",\"USA\",\"USA\",\"USA\",\"USA\",\"USA\",\"USA\",\"USA\",\"USA\",\"USA\",\"USA\",\"USA\",\"USA\",\"USA\",\"USA\",\"USA\",\"USA\",\"USA\",\"USA\",\"USA\",\"USA\",\"USA\",\"USA\",\"USA\",\"USA\",\"USA\",\"USA\",\"USA\",\"USA\",\"USA\",\"USA\",\"USA\",\"USA\",\"USA\",\"USA\",\"USA\",\"USA\",\"USA\",\"USA\",\"USA\",\"USA\",\"USA\",\"USA\",\"USA\",\"USA\",\"USA\",\"USA\",\"USA\",\"USA\",\"USA\",\"USA\",\"USA\",\"USA\",\"USA\",\"USA\",\"USA\",\"USA\",\"USA\",\"USA\",\"USA\",\"USA\",\"USA\",\"USA\",\"USA\",\"USA\",\"USA\",\"USA\",\"USA\",\"USA\",\"USA\",\"USA\",\"USA\",\"USA\",\"USA\",\"USA\",\"USA\",\"USA\",\"USA\",\"USA\",\"USA\",\"USA\",\"USA\",\"USA\",\"USA\",\"USA\",\"USA\",\"USA\",\"USA\",\"USA\",\"USA\",\"USA\",\"USA\",\"USA\",\"USA\",\"USA\",\"USA\",\"USA\",\"USA\",\"USA\",\"USA\",\"USA\",\"USA\",\"USA\",\"USA\",\"USA\",\"USA\",\"USA\",\"USA\",\"USA\",\"USA\",\"USA\",\"USA\",\"USA\",\"USA\",\"USA\",\"USA\",\"USA\",\"USA\",\"USA\",\"USA\",\"USA\",\"USA\",\"USA\",\"USA\",\"USA\",\"USA\",\"USA\",\"USA\",\"USA\",\"USA\",\"USA\",\"USA\",\"USA\",\"USA\",\"USA\",\"USA\",\"USA\",\"USA\",\"USA\",\"USA\",\"USA\",\"USA\",\"USA\",\"USA\",\"USA\",\"USA\",\"USA\",\"USA\",\"USA\",\"USA\",\"USA\",\"USA\",\"USA\",\"USA\",\"USA\",\"USA\",\"USA\",\"USA\",\"USA\",\"USA\",\"USA\",\"USA\",\"USA\",\"USA\",\"USA\",\"USA\",\"USA\",\"USA\",\"USA\",\"USA\",\"USA\",\"USA\",\"USA\",\"USA\",\"USA\",\"USA\",\"USA\",\"USA\",\"USA\",\"USA\",\"USA\",\"USA\",\"USA\",\"USA\",\"USA\",\"USA\",\"USA\",\"USA\",\"USA\",\"USA\",\"USA\",\"USA\",\"USA\",\"USA\",\"USA\",\"USA\",\"USA\",\"USA\",\"USA\",\"USA\",\"USA\",\"USA\",\"USA\",\"USA\",\"USA\",\"USA\",\"USA\",\"USA\",\"USA\",\"USA\",\"USA\",\"USA\",\"USA\",\"USA\",\"USA\",\"USA\",\"USA\",\"USA\",\"USA\",\"USA\",\"USA\",\"USA\",\"USA\",\"USA\",\"USA\",\"USA\",\"USA\",\"USA\",\"USA\",\"USA\",\"USA\",\"USA\",\"USA\",\"USA\",\"USA\",\"USA\",\"USA\",\"USA\",\"USA\",\"USA\",\"USA\",\"USA\",\"USA\",\"USA\",\"USA\",\"USA\",\"USA\",\"USA\",\"USA\",\"USA\",\"USA\",\"USA\",\"USA\",\"USA\",\"USA\",\"USA\",\"USA\",\"USA\",\"USA\",\"USA\",\"USA\",\"USA\",\"USA\",\"USA\",\"USA\",\"USA\",\"USA\",\"USA\",\"USA\",\"USA\",\"USA\",\"USA\",\"USA\",\"USA\",\"USA\",\"USA\",\"USA\",\"USA\",\"USA\",\"USA\",\"USA\",\"USA\",\"USA\",\"USA\",\"USA\",\"USA\",\"USA\",\"USA\",\"USA\",\"USA\",\"USA\",\"USA\",\"USA\",\"USA\",\"USA\",\"USA\",\"USA\",\"USA\",\"USA\",\"USA\",\"USA\",\"USA\",\"USA\",\"USA\",\"USA\",\"USA\",\"USA\",\"Ukraine\",\"Ukraine\",\"Ukraine\",\"Uruguay\"],\"locationmode\":\"country names\",\"locations\":[\"Afghanistan\",\"Algeria\",\"Argentina\",\"Argentina\",\"Australia\",\"Australia\",\"Australia\",\"Australia\",\"Australia\",\"Australia\",\"Australia\",\"Australia\",\"Australia\",\"Australia\",\"Australia\",\"Australia\",\"Australia\",\"Australia\",\"Australia\",\"Australia\",\"Australia\",\"Australia\",\"Australia\",\"Australia\",\"Australia\",\"Austria\",\"Hungary\",\"Austria\",\"Austria\",\"Bangladesh\",\"Bangladesh\",\"Bangladesh\",\"Belgium\",\"Belgium\",\"Belgium\",\"Belgium\",\"USA\",\"Brazil\",\"Brazil\",\"Brazil\",\"Brazil\",\"Brazil\",\"Brazil\",\"Brazil\",\"Brazil\",\"Brazil\",\"Brazil\",\"Brazil\",\"Brazil\",\"Brazil\",\"Brazil\",\"Brazil\",\"Brazil\",\"Brazil\",\"Brazil\",\"Brazil\",\"Brazil\",\"Brazil\",\"Brazil\",\"Brazil\",\"Brazil\",\"Brazil\",\"Brazil\",\"Brazil\",\"Bulgaria\",\"Bulgaria\",\"Cameroon\",\"Canada\",\"Canada\",\"Canada\",\"Canada\",\"Canada\",\"Canada\",\"Canada\",\"Canada\",\"Canada\",\"Canada\",\"Canada\",\"Canada\",\"Canada\",\"Canada\",\"Canada\",\"Canada\",\"Canada\",\"Canada\",\"Canada\",\"Canada\",\"Canada\",\"Canada\",\"Canada\",\"Canada\",\"Canada\",\"Canada\",\"Canada\",\"Canada\",\"Canada\",\"Canada\",\"Canada\",\"Canada\",\"Canada\",\"Canada\",\"Canada\",\"Canada\",\"Canada\",\"Canada\",\"Canada\",\"Canada\",\"Canada\",\"Canada\",\"Canada\",\"Canada\",\"Canada\",\"Canada\",\"Canada\",\"Canada\",\"Canada\",\"Canada\",\"Canada\",\"Canada\",\"Canada\",\"Colombia\",\"Colombia\",\"Colombia\",\"Croatia\",\"Croatia\",\"Czech Republic\",\"Egypt\",\"Germany\",\"Estonia\",\"Estonia\",\"Estonia\",\"Ethiopia\",\"Finland\",\"Finland\",\"Ukraine\",\"Finland\",\"France\",\"France\",\"France\",\"France\",\"France\",\"France\",\"France\",\"France\",\"France\",\"France\",\"France\",\"France\",\"France\",\"France\",\"France\",\"France\",\"France\",\"France\",\"France\",\"France\",\"France\",\"Georgia\",\"Germany\",\"Germany\",\"Germany\",\"Germany\",\"Czech Republic\",\"Germany\",\"Germany\",\"Germany\",\"Germany\",\"Germany\",\"Germany\",\"Germany\",\"Germany\",\"Germany\",\"Germany\",\"Germany\",\"Germany\",\"Germany\",\"Germany\",\"Germany\",\"Germany\",\"Germany\",\"Germany\",\"Germany\",\"Germany\",\"Germany\",\"Germany\",\"Germany\",\"Germany\",\"Germany\",\"Germany\",\"Germany\",\"Germany\",\"Germany\",\"Germany\",\"Germany\",\"Germany\",\"Ghana\",\"Greece\",\"Greece\",\"Greece\",\"Hong Kong\",\"Hong Kong\",\"Hungary\",\"Iceland\",\"Iceland\",\"Iceland\",\"India\",\"India\",\"India\",\"India\",\"India\",\"India\",\"India\",\"India\",\"India\",\"India\",\"India\",\"India\",\"India\",\"India\",\"India\",\"India\",\"India\",\"India\",\"India\",\"India\",\"India\",\"India\",\"India\",\"India\",\"India\",\"India\",\"India\",\"India\",\"India\",\"India\",\"India\",\"India\",\"India\",\"India\",\"India\",\"India\",\"India\",\"India\",\"India\",\"India\",\"India\",\"India\",\"India\",\"India\",\"India\",\"India\",\"India\",\"India\",\"India\",\"India\",\"India\",\"India\",\"India\",\"India\",\"India\",\"India\",\"India\",\"India\",\"Indonesia\",\"Indonesia\",\"Indonesia\",\"Ireland\",\"Ireland\",\"Ireland\",\"Ireland\",\"Ireland\",\"Ireland\",\"Ireland\",\"Ireland\",\"Ireland\",\"Ireland\",\"Israel\",\"Israel\",\"Italy\",\"Italy\",\"Italy\",\"Italy\",\"Italy\",\"Italy\",\"Italy\",\"Japan\",\"Japan\",\"Japan\",\"Japan\",\"Japan\",\"Jordan\",\"Kenya\",\"France\",\"Macedonia\",\"Malaysia\",\"Mauritius\",\"Mexico\",\"Mexico\",\"Mexico\",\"Mexico\",\"Mexico\",\"Mexico\",\"Mexico\",\"USA\",\"Mongolia\",\"Mongolia\",\"Netherlands\",\"Netherlands\",\"Netherlands\",\"Netherlands\",\"Netherlands\",\"Netherlands\",\"Netherlands\",\"Netherlands\",\"Netherlands\",\"Netherlands\",\"Netherlands\",\"Netherlands\",\"Netherlands\",\"Netherlands\",\"Netherlands\",\"Netherlands\",\"Netherlands\",\"Greece\",\"Netherlands\",\"Netherlands\",\"Netherlands\",\"Netherlands\",\"Netherlands\",\"Netherlands\",\"Netherlands\",\"Netherlands\",\"Netherlands\",\"New Zealand\",\"New Zealand\",\"New Zealand\",\"New Zealand\",\"New Zealand\",\"New Zealand\",\"Belgium\",\"Nigeria\",\"Norway\",\"Norway\",\"Norway\",\"Norway\",\"Norway\",\"Norway\",\"Norway\",\"Norway\",\"UK\",\"Pakistan\",\"Pakistan\",\"Pakistan\",\"Pakistan\",\"Philippines\",\"Philippines\",\"Philippines\",\"Poland\",\"Poland\",\"Poland\",\"Poland\",\"Poland\",\"Poland\",\"Poland\",\"Poland\",\"Poland\",\"Poland\",\"Poland\",\"Portugal\",\"Portugal\",\"Portugal\",\"Portugal\",\"Portugal\",\"Portugal\",\"Portugal\",\"Portugal\",\"Portugal\",\"Portugal\",\"Portugal\",\"Portugal\",\"Portugal\",\"Portugal\",\"Portugal\",\"Portugal\",\"Portugal\",\"Portugal\",\"Portugal\",\"Portugal\",\"Belgium\",\"Portugal\",\"Portugal\",\"Romania\",\"Romania\",\"Romania\",\"Romania\",\"Russia\",\"Russia\",\"Russia\",\"Russia\",\"Russia\",\"Russia\",\"Saudi Arabia\",\"Serbia\",\"Serbia\",\"Serbia\",\"Serbia\",\"Singapore\",\"Slovakia\",\"South Africa\",\"South Africa\",\"South Africa\",\"South Africa\",\"South Africa\",\"South Africa\",\"South Africa\",\"South Africa\",\"Spain\",\"Spain\",\"Spain\",\"Spain\",\"Spain\",\"Spain\",\"Spain\",\"Spain\",\"Spain\",\"Spain\",\"Spain\",\"Spain\",\"Spain\",\"Spain\",\"Spain\",\"Spain\",\"Spain\",\"Spain\",\"Spain\",\"Spain\",\"Spain\",\"Spain\",\"Spain\",\"Spain\",\"Spain\",\"Spain\",\"Spain\",\"Sri Lanka\",\"Sri Lanka\",\"Switzerland\",\"Sweden\",\"Sweden\",\"Sweden\",\"Sweden\",\"Sweden\",\"Switzerland\",\"Switzerland\",\"Switzerland\",\"Switzerland\",\"Switzerland\",\"France\",\"Switzerland\",\"Switzerland\",\"Switzerland\",\"Switzerland\",\"Switzerland\",\"Taiwan\",\"Turkey\",\"Turkey\",\"Turkey\",\"Turkey\",\"Turkey\",\"Turkey\",\"Turkey\",\"UK\",\"UK\",\"UK\",\"UK\",\"UK\",\"UK\",\"UK\",\"UK\",\"UK\",\"UK\",\"UK\",\"UK\",\"UK\",\"UK\",\"UK\",\"UK\",\"UK\",\"UK\",\"UK\",\"UK\",\"UK\",\"UK\",\"UK\",\"UK\",\"UK\",\"UK\",\"UK\",\"UK\",\"UK\",\"UK\",\"UK\",\"UK\",\"UK\",\"UK\",\"UK\",\"UK\",\"UK\",\"UK\",\"UK\",\"UK\",\"UK\",\"UK\",\"UK\",\"UK\",\"UK\",\"UK\",\"UK\",\"Germany\",\"UK\",\"UK\",\"UK\",\"UK\",\"UK\",\"UK\",\"UK\",\"UK\",\"UK\",\"UK\",\"UK\",\"UK\",\"UK\",\"UK\",\"UK\",\"UK\",\"UK\",\"UK\",\"UK\",\"UK\",\"UK\",\"UK\",\"UK\",\"UK\",\"UK\",\"UK\",\"UK\",\"UK\",\"UK\",\"UK\",\"UK\",\"UK\",\"UK\",\"UK\",\"UK\",\"UK\",\"UK\",\"UK\",\"UK\",\"UK\",\"UK\",\"UK\",\"UK\",\"UK\",\"UK\",\"UK\",\"UK\",\"UK\",\"UK\",\"UK\",\"UK\",\"UK\",\"UK\",\"UK\",\"UK\",\"UK\",\"UK\",\"UK\",\"UK\",\"UK\",\"UK\",\"UK\",\"UK\",\"UK\",\"UK\",\"UK\",\"UK\",\"UK\",\"UK\",\"USA\",\"USA\",\"USA\",\"USA\",\"USA\",\"USA\",\"USA\",\"USA\",\"USA\",\"USA\",\"USA\",\"USA\",\"USA\",\"USA\",\"USA\",\"USA\",\"USA\",\"USA\",\"USA\",\"USA\",\"USA\",\"USA\",\"USA\",\"USA\",\"USA\",\"USA\",\"USA\",\"USA\",\"USA\",\"USA\",\"USA\",\"USA\",\"USA\",\"USA\",\"USA\",\"USA\",\"USA\",\"USA\",\"USA\",\"USA\",\"USA\",\"USA\",\"USA\",\"USA\",\"USA\",\"USA\",\"USA\",\"USA\",\"USA\",\"USA\",\"USA\",\"USA\",\"USA\",\"USA\",\"USA\",\"USA\",\"USA\",\"USA\",\"USA\",\"USA\",\"USA\",\"USA\",\"USA\",\"USA\",\"USA\",\"USA\",\"USA\",\"USA\",\"USA\",\"USA\",\"USA\",\"USA\",\"USA\",\"USA\",\"USA\",\"USA\",\"USA\",\"USA\",\"USA\",\"USA\",\"USA\",\"USA\",\"USA\",\"USA\",\"USA\",\"USA\",\"USA\",\"USA\",\"USA\",\"USA\",\"USA\",\"USA\",\"USA\",\"USA\",\"USA\",\"USA\",\"USA\",\"USA\",\"USA\",\"USA\",\"USA\",\"USA\",\"USA\",\"USA\",\"USA\",\"USA\",\"USA\",\"USA\",\"USA\",\"USA\",\"USA\",\"USA\",\"USA\",\"USA\",\"USA\",\"USA\",\"USA\",\"USA\",\"USA\",\"USA\",\"USA\",\"USA\",\"USA\",\"USA\",\"USA\",\"USA\",\"USA\",\"USA\",\"USA\",\"USA\",\"USA\",\"USA\",\"USA\",\"USA\",\"USA\",\"USA\",\"USA\",\"USA\",\"USA\",\"USA\",\"USA\",\"USA\",\"USA\",\"USA\",\"USA\",\"USA\",\"USA\",\"USA\",\"USA\",\"USA\",\"USA\",\"USA\",\"USA\",\"USA\",\"USA\",\"USA\",\"USA\",\"USA\",\"USA\",\"USA\",\"USA\",\"USA\",\"USA\",\"USA\",\"USA\",\"USA\",\"USA\",\"USA\",\"USA\",\"USA\",\"USA\",\"USA\",\"USA\",\"USA\",\"USA\",\"USA\",\"USA\",\"USA\",\"USA\",\"USA\",\"USA\",\"USA\",\"USA\",\"USA\",\"USA\",\"USA\",\"USA\",\"USA\",\"USA\",\"USA\",\"USA\",\"USA\",\"USA\",\"USA\",\"USA\",\"USA\",\"USA\",\"USA\",\"USA\",\"USA\",\"USA\",\"USA\",\"USA\",\"USA\",\"USA\",\"USA\",\"USA\",\"USA\",\"USA\",\"USA\",\"USA\",\"USA\",\"USA\",\"USA\",\"USA\",\"USA\",\"USA\",\"USA\",\"USA\",\"USA\",\"USA\",\"USA\",\"USA\",\"USA\",\"USA\",\"USA\",\"USA\",\"USA\",\"USA\",\"USA\",\"USA\",\"USA\",\"USA\",\"USA\",\"USA\",\"USA\",\"USA\",\"USA\",\"Canada\",\"USA\",\"USA\",\"USA\",\"USA\",\"USA\",\"USA\",\"USA\",\"USA\",\"USA\",\"USA\",\"USA\",\"USA\",\"USA\",\"USA\",\"USA\",\"USA\",\"USA\",\"USA\",\"USA\",\"USA\",\"USA\",\"USA\",\"USA\",\"USA\",\"USA\",\"USA\",\"USA\",\"USA\",\"USA\",\"USA\",\"USA\",\"USA\",\"USA\",\"USA\",\"USA\",\"USA\",\"USA\",\"USA\",\"USA\",\"USA\",\"USA\",\"USA\",\"USA\",\"USA\",\"USA\",\"USA\",\"USA\",\"USA\",\"USA\",\"USA\",\"USA\",\"USA\",\"USA\",\"USA\",\"USA\",\"USA\",\"USA\",\"USA\",\"USA\",\"USA\",\"USA\",\"USA\",\"USA\",\"USA\",\"USA\",\"USA\",\"USA\",\"USA\",\"USA\",\"USA\",\"USA\",\"USA\",\"USA\",\"USA\",\"USA\",\"USA\",\"USA\",\"USA\",\"USA\",\"USA\",\"USA\",\"USA\",\"USA\",\"USA\",\"USA\",\"USA\",\"USA\",\"USA\",\"USA\",\"USA\",\"USA\",\"USA\",\"USA\",\"USA\",\"USA\",\"USA\",\"USA\",\"USA\",\"USA\",\"USA\",\"USA\",\"USA\",\"USA\",\"USA\",\"USA\",\"USA\",\"USA\",\"USA\",\"USA\",\"USA\",\"USA\",\"USA\",\"USA\",\"USA\",\"USA\",\"USA\",\"USA\",\"USA\",\"USA\",\"USA\",\"USA\",\"USA\",\"USA\",\"USA\",\"USA\",\"Netherlands\",\"USA\",\"USA\",\"USA\",\"USA\",\"USA\",\"USA\",\"USA\",\"USA\",\"USA\",\"USA\",\"USA\",\"USA\",\"USA\",\"USA\",\"USA\",\"USA\",\"USA\",\"USA\",\"USA\",\"USA\",\"USA\",\"USA\",\"USA\",\"USA\",\"USA\",\"USA\",\"USA\",\"USA\",\"USA\",\"USA\",\"USA\",\"USA\",\"USA\",\"USA\",\"USA\",\"USA\",\"USA\",\"USA\",\"USA\",\"USA\",\"USA\",\"USA\",\"USA\",\"USA\",\"USA\",\"USA\",\"USA\",\"USA\",\"USA\",\"USA\",\"USA\",\"USA\",\"USA\",\"USA\",\"USA\",\"USA\",\"USA\",\"USA\",\"USA\",\"USA\",\"USA\",\"USA\",\"USA\",\"USA\",\"USA\",\"USA\",\"USA\",\"USA\",\"USA\",\"USA\",\"USA\",\"USA\",\"USA\",\"USA\",\"USA\",\"USA\",\"USA\",\"USA\",\"USA\",\"USA\",\"USA\",\"USA\",\"USA\",\"USA\",\"USA\",\"USA\",\"USA\",\"USA\",\"USA\",\"USA\",\"USA\",\"USA\",\"USA\",\"USA\",\"USA\",\"USA\",\"USA\",\"USA\",\"USA\",\"USA\",\"USA\",\"USA\",\"USA\",\"USA\",\"USA\",\"USA\",\"USA\",\"USA\",\"USA\",\"USA\",\"USA\",\"USA\",\"USA\",\"USA\",\"USA\",\"USA\",\"USA\",\"USA\",\"USA\",\"USA\",\"USA\",\"USA\",\"USA\",\"USA\",\"USA\",\"USA\",\"New Zealand\",\"USA\",\"USA\",\"USA\",\"USA\",\"USA\",\"USA\",\"USA\",\"USA\",\"USA\",\"USA\",\"USA\",\"USA\",\"USA\",\"USA\",\"USA\",\"USA\",\"USA\",\"USA\",\"USA\",\"USA\",\"USA\",\"USA\",\"USA\",\"USA\",\"USA\",\"USA\",\"USA\",\"USA\",\"USA\",\"USA\",\"USA\",\"USA\",\"USA\",\"USA\",\"USA\",\"USA\",\"USA\",\"USA\",\"USA\",\"USA\",\"USA\",\"USA\",\"USA\",\"USA\",\"USA\",\"USA\",\"USA\",\"USA\",\"USA\",\"USA\",\"USA\",\"USA\",\"USA\",\"USA\",\"USA\",\"USA\",\"USA\",\"USA\",\"USA\",\"USA\",\"USA\",\"USA\",\"USA\",\"USA\",\"USA\",\"USA\",\"USA\",\"USA\",\"USA\",\"USA\",\"USA\",\"USA\",\"USA\",\"USA\",\"USA\",\"USA\",\"USA\",\"USA\",\"USA\",\"USA\",\"USA\",\"USA\",\"USA\",\"USA\",\"USA\",\"USA\",\"USA\",\"USA\",\"USA\",\"USA\",\"USA\",\"USA\",\"USA\",\"USA\",\"USA\",\"USA\",\"USA\",\"USA\",\"USA\",\"USA\",\"USA\",\"USA\",\"USA\",\"USA\",\"USA\",\"USA\",\"USA\",\"USA\",\"USA\",\"USA\",\"USA\",\"USA\",\"USA\",\"USA\",\"USA\",\"USA\",\"USA\",\"USA\",\"Chile\",\"USA\",\"USA\",\"USA\",\"USA\",\"USA\",\"USA\",\"USA\",\"USA\",\"USA\",\"USA\",\"USA\",\"USA\",\"USA\",\"USA\",\"USA\",\"USA\",\"USA\",\"USA\",\"USA\",\"USA\",\"USA\",\"USA\",\"USA\",\"USA\",\"USA\",\"USA\",\"USA\",\"USA\",\"USA\",\"USA\",\"USA\",\"USA\",\"USA\",\"USA\",\"USA\",\"USA\",\"USA\",\"USA\",\"USA\",\"USA\",\"USA\",\"USA\",\"USA\",\"USA\",\"USA\",\"USA\",\"USA\",\"USA\",\"Ireland\",\"USA\",\"USA\",\"USA\",\"USA\",\"USA\",\"USA\",\"USA\",\"USA\",\"USA\",\"USA\",\"USA\",\"USA\",\"USA\",\"USA\",\"USA\",\"USA\",\"USA\",\"USA\",\"USA\",\"USA\",\"USA\",\"USA\",\"USA\",\"USA\",\"USA\",\"USA\",\"USA\",\"USA\",\"USA\",\"USA\",\"USA\",\"USA\",\"USA\",\"USA\",\"USA\",\"USA\",\"USA\",\"USA\",\"USA\",\"USA\",\"USA\",\"USA\",\"USA\",\"USA\",\"USA\",\"USA\",\"USA\",\"USA\",\"USA\",\"USA\",\"USA\",\"USA\",\"USA\",\"USA\",\"USA\",\"USA\",\"USA\",\"USA\",\"USA\",\"USA\",\"USA\",\"USA\",\"USA\",\"USA\",\"USA\",\"USA\",\"USA\",\"USA\",\"USA\",\"USA\",\"USA\",\"USA\",\"USA\",\"USA\",\"USA\",\"USA\",\"USA\",\"USA\",\"USA\",\"USA\",\"USA\",\"USA\",\"USA\",\"USA\",\"USA\",\"USA\",\"USA\",\"USA\",\"USA\",\"USA\",\"USA\",\"USA\",\"USA\",\"USA\",\"USA\",\"USA\",\"USA\",\"USA\",\"USA\",\"USA\",\"USA\",\"USA\",\"USA\",\"USA\",\"USA\",\"USA\",\"USA\",\"USA\",\"USA\",\"USA\",\"USA\",\"USA\",\"USA\",\"USA\",\"USA\",\"USA\",\"USA\",\"USA\",\"USA\",\"USA\",\"USA\",\"USA\",\"USA\",\"USA\",\"USA\",\"USA\",\"USA\",\"USA\",\"USA\",\"USA\",\"USA\",\"USA\",\"USA\",\"USA\",\"USA\",\"USA\",\"USA\",\"USA\",\"USA\",\"USA\",\"USA\",\"USA\",\"USA\",\"USA\",\"USA\",\"USA\",\"USA\",\"USA\",\"USA\",\"USA\",\"USA\",\"USA\",\"USA\",\"USA\",\"USA\",\"USA\",\"USA\",\"USA\",\"USA\",\"USA\",\"USA\",\"USA\",\"USA\",\"USA\",\"USA\",\"USA\",\"USA\",\"USA\",\"USA\",\"USA\",\"USA\",\"USA\",\"USA\",\"USA\",\"USA\",\"USA\",\"USA\",\"USA\",\"USA\",\"USA\",\"USA\",\"USA\",\"USA\",\"USA\",\"USA\",\"USA\",\"USA\",\"USA\",\"USA\",\"USA\",\"USA\",\"USA\",\"USA\",\"USA\",\"USA\",\"USA\",\"USA\",\"USA\",\"USA\",\"USA\",\"USA\",\"USA\",\"USA\",\"USA\",\"USA\",\"USA\",\"USA\",\"USA\",\"USA\",\"USA\",\"USA\",\"USA\",\"USA\",\"USA\",\"USA\",\"USA\",\"USA\",\"USA\",\"USA\",\"USA\",\"USA\",\"USA\",\"USA\",\"USA\",\"USA\",\"USA\",\"USA\",\"USA\",\"USA\",\"USA\",\"USA\",\"USA\",\"USA\",\"USA\",\"USA\",\"USA\",\"USA\",\"USA\",\"USA\",\"USA\",\"USA\",\"USA\",\"USA\",\"USA\",\"USA\",\"USA\",\"USA\",\"USA\",\"USA\",\"USA\",\"USA\",\"USA\",\"USA\",\"USA\",\"USA\",\"USA\",\"USA\",\"USA\",\"USA\",\"USA\",\"USA\",\"USA\",\"USA\",\"USA\",\"USA\",\"USA\",\"USA\",\"USA\",\"USA\",\"USA\",\"USA\",\"USA\",\"USA\",\"USA\",\"USA\",\"USA\",\"USA\",\"USA\",\"USA\",\"USA\",\"USA\",\"USA\",\"USA\",\"USA\",\"USA\",\"USA\",\"USA\",\"USA\",\"USA\",\"USA\",\"USA\",\"USA\",\"USA\",\"USA\",\"USA\",\"USA\",\"USA\",\"USA\",\"USA\",\"USA\",\"USA\",\"India\",\"USA\",\"USA\",\"USA\",\"USA\",\"USA\",\"USA\",\"USA\",\"USA\",\"USA\",\"USA\",\"USA\",\"USA\",\"USA\",\"USA\",\"USA\",\"USA\",\"USA\",\"USA\",\"USA\",\"USA\",\"USA\",\"Brazil\",\"USA\",\"USA\",\"USA\",\"USA\",\"USA\",\"USA\",\"USA\",\"India\",\"USA\",\"Argentina\",\"Belarus\",\"USA\",\"USA\",\"USA\",\"USA\",\"USA\",\"USA\",\"USA\",\"USA\",\"USA\",\"USA\",\"USA\",\"USA\",\"USA\",\"USA\",\"USA\",\"USA\",\"USA\",\"USA\",\"USA\",\"USA\",\"USA\",\"USA\",\"USA\",\"USA\",\"USA\",\"USA\",\"USA\",\"Poland\",\"USA\",\"USA\",\"USA\",\"USA\",\"USA\",\"USA\",\"USA\",\"USA\",\"USA\",\"USA\",\"USA\",\"USA\",\"USA\",\"USA\",\"USA\",\"USA\",\"USA\",\"USA\",\"Japan\",\"USA\",\"USA\",\"USA\",\"USA\",\"USA\",\"USA\",\"USA\",\"USA\",\"USA\",\"USA\",\"USA\",\"USA\",\"USA\",\"USA\",\"USA\",\"USA\",\"USA\",\"USA\",\"USA\",\"USA\",\"USA\",\"USA\",\"USA\",\"USA\",\"USA\",\"USA\",\"USA\",\"USA\",\"USA\",\"USA\",\"USA\",\"Ukraine\",\"Ukraine\",\"Ukraine\",\"Uruguay\"],\"name\":\"\",\"z\":[3.0,5.0,3.0,2.0,1.0,3.0,3.0,3.0,2.0,4.0,4.0,4.0,1.0,2.0,3.0,2.0,3.0,3.0,3.0,1.0,3.0,2.0,3.0,5.0,2.0,2.0,2.0,2.0,4.0,5.0,1.0,3.0,2.0,1.0,3.0,1.0,3.0,4.0,3.0,2.0,2.0,1.0,4.0,1.0,1.0,2.0,3.0,1.0,2.0,4.0,2.0,2.0,2.0,2.0,2.0,2.0,2.0,2.0,3.0,4.0,4.0,2.0,2.0,3.0,3.0,1.0,2.0,4.0,2.0,3.0,3.0,3.0,3.0,2.0,4.0,2.0,1.0,2.0,2.0,1.0,2.0,2.0,2.0,2.0,1.0,3.0,2.0,1.0,3.0,3.0,2.0,4.0,3.0,3.0,2.0,3.0,3.0,3.0,3.0,3.0,3.0,3.0,3.0,3.0,2.0,3.0,2.0,2.0,1.0,1.0,2.0,3.0,1.0,2.0,1.0,3.0,2.0,3.0,3.0,2.0,3.0,3.0,3.0,1.0,1.0,2.0,2.0,2.0,3.0,4.0,4.0,2.0,3.0,2.0,3.0,3.0,1.0,3.0,2.0,4.0,4.0,3.0,2.0,3.0,2.0,3.0,1.0,3.0,4.0,3.0,2.0,2.0,2.0,4.0,1.0,3.0,1.0,3.0,3.0,3.0,2.0,3.0,3.0,3.0,2.0,3.0,3.0,2.0,1.0,3.0,1.0,3.0,3.0,2.0,3.0,2.0,2.0,3.0,1.0,2.0,2.0,3.0,3.0,4.0,4.0,4.0,1.0,3.0,3.0,2.0,2.0,2.0,4.0,1.0,4.0,3.0,1.0,3.0,1.0,3.0,3.0,3.0,2.0,2.0,2.0,3.0,4.0,1.0,3.0,2.0,3.0,5.0,3.0,3.0,3.0,2.0,3.0,3.0,3.0,5.0,1.0,5.0,4.0,2.0,3.0,3.0,3.0,2.0,3.0,3.0,3.0,1.0,2.0,4.0,2.0,3.0,3.0,2.0,1.0,3.0,2.0,3.0,3.0,3.0,5.0,4.0,1.0,3.0,2.0,3.0,3.0,4.0,3.0,4.0,5.0,3.0,3.0,3.0,5.0,1.0,1.0,5.0,1.0,2.0,5.0,3.0,2.0,2.0,3.0,1.0,4.0,3.0,4.0,5.0,2.0,4.0,2.0,5.0,1.0,3.0,2.0,2.0,5.0,1.0,1.0,2.0,2.0,1.0,2.0,4.0,1.0,2.0,3.0,4.0,4.0,3.0,2.0,3.0,1.0,2.0,1.0,3.0,2.0,3.0,4.0,2.0,3.0,3.0,2.0,3.0,4.0,2.0,3.0,3.0,2.0,2.0,2.0,2.0,2.0,3.0,1.0,1.0,4.0,2.0,2.0,3.0,3.0,2.0,2.0,2.0,4.0,2.0,2.0,3.0,2.0,1.0,4.0,2.0,4.0,2.0,1.0,3.0,3.0,2.0,1.0,1.0,2.0,2.0,2.0,2.0,2.0,3.0,1.0,3.0,3.0,4.0,3.0,1.0,4.0,1.0,3.0,2.0,1.0,2.0,3.0,1.0,3.0,3.0,4.0,4.0,2.0,2.0,2.0,3.0,4.0,3.0,3.0,2.0,2.0,3.0,3.0,3.0,1.0,2.0,2.0,4.0,3.0,3.0,2.0,1.0,3.0,2.0,1.0,2.0,5.0,4.0,2.0,1.0,2.0,5.0,4.0,1.0,1.0,4.0,2.0,3.0,2.0,2.0,3.0,2.0,3.0,2.0,2.0,1.0,2.0,1.0,4.0,3.0,3.0,4.0,2.0,2.0,1.0,2.0,3.0,3.0,3.0,3.0,4.0,3.0,1.0,2.0,3.0,2.0,2.0,3.0,2.0,4.0,2.0,3.0,2.0,1.0,3.0,3.0,3.0,1.0,4.0,3.0,3.0,1.0,3.0,3.0,3.0,2.0,4.0,3.0,1.0,3.0,1.0,4.0,3.0,1.0,1.0,2.0,1.0,3.0,3.0,2.0,4.0,2.0,1.0,3.0,4.0,2.0,2.0,2.0,2.0,3.0,3.0,3.0,3.0,4.0,4.0,4.0,2.0,3.0,4.0,2.0,3.0,1.0,2.0,3.0,2.0,2.0,3.0,3.0,1.0,2.0,3.0,4.0,3.0,3.0,4.0,3.0,1.0,1.0,2.0,3.0,2.0,3.0,3.0,4.0,2.0,2.0,3.0,2.0,3.0,2.0,3.0,2.0,2.0,2.0,3.0,1.0,2.0,3.0,3.0,3.0,4.0,3.0,1.0,1.0,3.0,3.0,3.0,3.0,3.0,1.0,4.0,2.0,3.0,2.0,2.0,4.0,3.0,3.0,4.0,1.0,2.0,3.0,2.0,3.0,3.0,3.0,1.0,3.0,2.0,3.0,2.0,2.0,2.0,2.0,2.0,2.0,2.0,5.0,3.0,2.0,2.0,2.0,3.0,2.0,3.0,2.0,2.0,4.0,3.0,3.0,2.0,3.0,1.0,3.0,1.0,3.0,1.0,1.0,3.0,2.0,2.0,1.0,3.0,4.0,2.0,3.0,3.0,2.0,2.0,4.0,3.0,3.0,3.0,2.0,4.0,3.0,2.0,2.0,4.0,2.0,2.0,2.0,4.0,2.0,2.0,3.0,3.0,3.0,2.0,3.0,3.0,2.0,3.0,3.0,1.0,3.0,2.0,3.0,1.0,3.0,3.0,2.0,1.0,2.0,4.0,3.0,3.0,2.0,3.0,2.0,3.0,4.0,2.0,3.0,2.0,3.0,3.0,1.0,3.0,3.0,3.0,3.0,3.0,2.0,3.0,4.0,4.0,3.0,2.0,2.0,3.0,2.0,3.0,2.0,3.0,2.0,3.0,3.0,2.0,1.0,4.0,4.0,3.0,1.0,2.0,3.0,2.0,2.0,1.0,4.0,2.0,3.0,3.0,2.0,1.0,2.0,3.0,3.0,4.0,3.0,1.0,4.0,4.0,5.0,3.0,1.0,2.0,3.0,3.0,2.0,3.0,4.0,2.0,2.0,3.0,3.0,4.0,2.0,2.0,1.0,2.0,1.0,3.0,3.0,4.0,3.0,2.0,3.0,3.0,2.0,2.0,4.0,3.0,3.0,4.0,3.0,3.0,3.0,2.0,4.0,3.0,2.0,4.0,1.0,3.0,3.0,3.0,3.0,3.0,3.0,3.0,1.0,4.0,2.0,3.0,2.0,3.0,2.0,2.0,2.0,4.0,4.0,2.0,4.0,3.0,5.0,2.0,3.0,3.0,2.0,3.0,3.0,1.0,2.0,2.0,4.0,2.0,3.0,4.0,2.0,2.0,2.0,3.0,1.0,2.0,2.0,3.0,3.0,2.0,3.0,1.0,3.0,3.0,2.0,2.0,3.0,2.0,3.0,2.0,2.0,2.0,3.0,1.0,3.0,3.0,3.0,2.0,2.0,2.0,4.0,3.0,1.0,3.0,3.0,1.0,3.0,2.0,3.0,3.0,1.0,2.0,3.0,2.0,3.0,2.0,3.0,3.0,4.0,3.0,3.0,4.0,4.0,3.0,4.0,3.0,2.0,3.0,3.0,3.0,3.0,4.0,4.0,1.0,2.0,4.0,4.0,4.0,2.0,1.0,1.0,2.0,2.0,1.0,3.0,2.0,3.0,1.0,2.0,3.0,3.0,3.0,3.0,3.0,2.0,3.0,3.0,1.0,2.0,3.0,3.0,2.0,2.0,1.0,1.0,3.0,4.0,2.0,2.0,1.0,3.0,2.0,2.0,2.0,3.0,2.0,3.0,1.0,3.0,1.0,2.0,2.0,1.0,1.0,3.0,3.0,4.0,3.0,2.0,1.0,3.0,1.0,2.0,2.0,2.0,2.0,4.0,2.0,3.0,2.0,3.0,3.0,2.0,3.0,1.0,2.0,3.0,1.0,2.0,4.0,5.0,2.0,1.0,4.0,2.0,3.0,2.0,3.0,3.0,2.0,2.0,3.0,3.0,1.0,3.0,1.0,1.0,3.0,3.0,3.0,2.0,3.0,4.0,3.0,3.0,1.0,3.0,3.0,3.0,3.0,3.0,3.0,4.0,2.0,1.0,3.0,3.0,3.0,4.0,2.0,2.0,3.0,2.0,1.0,1.0,3.0,3.0,1.0,2.0,1.0,1.0,4.0,1.0,2.0,3.0,3.0,1.0,2.0,2.0,4.0,2.0,4.0,3.0,3.0,3.0,4.0,4.0,3.0,1.0,3.0,2.0,4.0,1.0,3.0,2.0,3.0,3.0,2.0,3.0,1.0,2.0,1.0,2.0,1.0,3.0,3.0,1.0,3.0,3.0,2.0,3.0,1.0,2.0,2.0,3.0,3.0,2.0,4.0,3.0,3.0,3.0,2.0,3.0,2.0,1.0,2.0,2.0,2.0,3.0,4.0,4.0,2.0,2.0,2.0,2.0,3.0,3.0,2.0,3.0,3.0,2.0,4.0,1.0,3.0,2.0,3.0,2.0,1.0,1.0,3.0,2.0,1.0,3.0,4.0,2.0,3.0,4.0,4.0,1.0,2.0,1.0,1.0,1.0,3.0,1.0,1.0,3.0,3.0,3.0,3.0,3.0,1.0,4.0,3.0,3.0,2.0,3.0,3.0,3.0,3.0,3.0,3.0,2.0,4.0,2.0,3.0,5.0,5.0,1.0,2.0,2.0,3.0,1.0,3.0,3.0,3.0,3.0,3.0,2.0,2.0,2.0,3.0,3.0,2.0,2.0,1.0,3.0,3.0,2.0,3.0,1.0,4.0,2.0,3.0,2.0,4.0,2.0,4.0,2.0,3.0,3.0,2.0,4.0,3.0,4.0,3.0,4.0,2.0,2.0,2.0,4.0,2.0,2.0,3.0,1.0,2.0,2.0,1.0,2.0,2.0,1.0,3.0,1.0,2.0,3.0,3.0,3.0,3.0,1.0,5.0,3.0,4.0,2.0,1.0,2.0,2.0,4.0,2.0,4.0,1.0,3.0,2.0,2.0,3.0,3.0,4.0,2.0,5.0,3.0,3.0,2.0,3.0,1.0,2.0,1.0,2.0,1.0,2.0,3.0,3.0,3.0,2.0,2.0,3.0,1.0,2.0,2.0,3.0,3.0,1.0,2.0,3.0,1.0,1.0,3.0,2.0,2.0,3.0,3.0,2.0,3.0,3.0,3.0,3.0,3.0,3.0,4.0,3.0,1.0,3.0,2.0,2.0,2.0,3.0,4.0,4.0,3.0,3.0,4.0,4.0,3.0,3.0,3.0,2.0,2.0,4.0,3.0,2.0,3.0,2.0,2.0,3.0,2.0,2.0,3.0,3.0,4.0,3.0,2.0,2.0,2.0,2.0,3.0,3.0,3.0,4.0,4.0,1.0,2.0,2.0,2.0,2.0,2.0,2.0,3.0,3.0,4.0,2.0,1.0,4.0,3.0,2.0,3.0,3.0,2.0,3.0,1.0,4.0,4.0,3.0,3.0,2.0,2.0,3.0,1.0,3.0,4.0,3.0,2.0,3.0,5.0,3.0,3.0,3.0,3.0,1.0,2.0,3.0,2.0,2.0,3.0,2.0,1.0,2.0,2.0,3.0,2.0,2.0,4.0,5.0,2.0,3.0,3.0,3.0,3.0,3.0,2.0,3.0,3.0,4.0,2.0,2.0,2.0,3.0,3.0,3.0,2.0,3.0,3.0,3.0,2.0,3.0,3.0,3.0,3.0,4.0,3.0,4.0,1.0,4.0,3.0,4.0,3.0,3.0,4.0,3.0,3.0,2.0,2.0,3.0,3.0,2.0,4.0,4.0,2.0,3.0,3.0,1.0,1.0,2.0,3.0,3.0,3.0,3.0,4.0,3.0,2.0,2.0,2.0,2.0,2.0,3.0,3.0,3.0,1.0,2.0,3.0,3.0,3.0,2.0,4.0,1.0,2.0,4.0,4.0,2.0,3.0,1.0,3.0,4.0,4.0,4.0,4.0,3.0,2.0,3.0,3.0,3.0,4.0,3.0,2.0,2.0,3.0,3.0,3.0,3.0,2.0,3.0,3.0,3.0,3.0,2.0,3.0,2.0,1.0,3.0,3.0,4.0,1.0,3.0,3.0,2.0,2.0,2.0,2.0,3.0,4.0,3.0,4.0,4.0,3.0,4.0,3.0,2.0,3.0,2.0,3.0,4.0,2.0,2.0,3.0,2.0,1.0,1.0,3.0,2.0,4.0,2.0,2.0,4.0,3.0,1.0,4.0,1.0,3.0,3.0,4.0,2.0,3.0,3.0,4.0,4.0,2.0,1.0,2.0,3.0,1.0,2.0,2.0,4.0,2.0,2.0,3.0,4.0,3.0,2.0,2.0,4.0,3.0,3.0,1.0,1.0,2.0,4.0,1.0,3.0,2.0,3.0,4.0,2.0,4.0,3.0,2.0,1.0,4.0,3.0,2.0,3.0,4.0,3.0,3.0,3.0,2.0,1.0,3.0,4.0,2.0,4.0,4.0,1.0,3.0,4.0,2.0,3.0,4.0,4.0,2.0,2.0,2.0,1.0,2.0,3.0,3.0,3.0,4.0,3.0,3.0,4.0,1.0,3.0,2.0,3.0,3.0,4.0,3.0,3.0,3.0,2.0,3.0,2.0,2.0,4.0,2.0,3.0,2.0,3.0,3.0,2.0,4.0,3.0,1.0,3.0,2.0,3.0,4.0,3.0,2.0,3.0,3.0,4.0,3.0,3.0,3.0,4.0,4.0,3.0,3.0,3.0,3.0,3.0,4.0,3.0,5.0,4.0,2.0,2.0,3.0,3.0,3.0,2.0,2.0,1.0,2.0,3.0,2.0,2.0,1.0,2.0,2.0,3.0,3.0,1.0,1.0,2.0,4.0,1.0,1.0,3.0,2.0,2.0,3.0,3.0,2.0,2.0,4.0,3.0,1.0,3.0,2.0,2.0,1.0,3.0,1.0,2.0,3.0,2.0,3.0,3.0,3.0,2.0,3.0,2.0,2.0,3.0,3.0,2.0,2.0,1.0,2.0,1.0,2.0,3.0,2.0,3.0,2.0,2.0,2.0,3.0,2.0,3.0,3.0,2.0,4.0,5.0,2.0,3.0,3.0,3.0,2.0,3.0,3.0,2.0,2.0,2.0,1.0,1.0,3.0,4.0,3.0,4.0,2.0,2.0,2.0,2.0,3.0,3.0,2.0,3.0,3.0,3.0,5.0,3.0,3.0,2.0,3.0,2.0,1.0,2.0,3.0,2.0,1.0,3.0,1.0,3.0,2.0,3.0,2.0],\"type\":\"choropleth\"}],                        {\"template\":{\"data\":{\"barpolar\":[{\"marker\":{\"line\":{\"color\":\"rgb(237,237,237)\",\"width\":0.5},\"pattern\":{\"fillmode\":\"overlay\",\"size\":10,\"solidity\":0.2}},\"type\":\"barpolar\"}],\"bar\":[{\"error_x\":{\"color\":\"rgb(51,51,51)\"},\"error_y\":{\"color\":\"rgb(51,51,51)\"},\"marker\":{\"line\":{\"color\":\"rgb(237,237,237)\",\"width\":0.5},\"pattern\":{\"fillmode\":\"overlay\",\"size\":10,\"solidity\":0.2}},\"type\":\"bar\"}],\"carpet\":[{\"aaxis\":{\"endlinecolor\":\"rgb(51,51,51)\",\"gridcolor\":\"white\",\"linecolor\":\"white\",\"minorgridcolor\":\"white\",\"startlinecolor\":\"rgb(51,51,51)\"},\"baxis\":{\"endlinecolor\":\"rgb(51,51,51)\",\"gridcolor\":\"white\",\"linecolor\":\"white\",\"minorgridcolor\":\"white\",\"startlinecolor\":\"rgb(51,51,51)\"},\"type\":\"carpet\"}],\"choropleth\":[{\"colorbar\":{\"outlinewidth\":0,\"tickcolor\":\"rgb(237,237,237)\",\"ticklen\":6,\"ticks\":\"inside\"},\"type\":\"choropleth\"}],\"contourcarpet\":[{\"colorbar\":{\"outlinewidth\":0,\"tickcolor\":\"rgb(237,237,237)\",\"ticklen\":6,\"ticks\":\"inside\"},\"type\":\"contourcarpet\"}],\"contour\":[{\"colorbar\":{\"outlinewidth\":0,\"tickcolor\":\"rgb(237,237,237)\",\"ticklen\":6,\"ticks\":\"inside\"},\"colorscale\":[[0,\"rgb(20,44,66)\"],[1,\"rgb(90,179,244)\"]],\"type\":\"contour\"}],\"heatmapgl\":[{\"colorbar\":{\"outlinewidth\":0,\"tickcolor\":\"rgb(237,237,237)\",\"ticklen\":6,\"ticks\":\"inside\"},\"colorscale\":[[0,\"rgb(20,44,66)\"],[1,\"rgb(90,179,244)\"]],\"type\":\"heatmapgl\"}],\"heatmap\":[{\"colorbar\":{\"outlinewidth\":0,\"tickcolor\":\"rgb(237,237,237)\",\"ticklen\":6,\"ticks\":\"inside\"},\"colorscale\":[[0,\"rgb(20,44,66)\"],[1,\"rgb(90,179,244)\"]],\"type\":\"heatmap\"}],\"histogram2dcontour\":[{\"colorbar\":{\"outlinewidth\":0,\"tickcolor\":\"rgb(237,237,237)\",\"ticklen\":6,\"ticks\":\"inside\"},\"colorscale\":[[0,\"rgb(20,44,66)\"],[1,\"rgb(90,179,244)\"]],\"type\":\"histogram2dcontour\"}],\"histogram2d\":[{\"colorbar\":{\"outlinewidth\":0,\"tickcolor\":\"rgb(237,237,237)\",\"ticklen\":6,\"ticks\":\"inside\"},\"colorscale\":[[0,\"rgb(20,44,66)\"],[1,\"rgb(90,179,244)\"]],\"type\":\"histogram2d\"}],\"histogram\":[{\"marker\":{\"pattern\":{\"fillmode\":\"overlay\",\"size\":10,\"solidity\":0.2}},\"type\":\"histogram\"}],\"mesh3d\":[{\"colorbar\":{\"outlinewidth\":0,\"tickcolor\":\"rgb(237,237,237)\",\"ticklen\":6,\"ticks\":\"inside\"},\"type\":\"mesh3d\"}],\"parcoords\":[{\"line\":{\"colorbar\":{\"outlinewidth\":0,\"tickcolor\":\"rgb(237,237,237)\",\"ticklen\":6,\"ticks\":\"inside\"}},\"type\":\"parcoords\"}],\"pie\":[{\"automargin\":true,\"type\":\"pie\"}],\"scatter3d\":[{\"line\":{\"colorbar\":{\"outlinewidth\":0,\"tickcolor\":\"rgb(237,237,237)\",\"ticklen\":6,\"ticks\":\"inside\"}},\"marker\":{\"colorbar\":{\"outlinewidth\":0,\"tickcolor\":\"rgb(237,237,237)\",\"ticklen\":6,\"ticks\":\"inside\"}},\"type\":\"scatter3d\"}],\"scattercarpet\":[{\"marker\":{\"colorbar\":{\"outlinewidth\":0,\"tickcolor\":\"rgb(237,237,237)\",\"ticklen\":6,\"ticks\":\"inside\"}},\"type\":\"scattercarpet\"}],\"scattergeo\":[{\"marker\":{\"colorbar\":{\"outlinewidth\":0,\"tickcolor\":\"rgb(237,237,237)\",\"ticklen\":6,\"ticks\":\"inside\"}},\"type\":\"scattergeo\"}],\"scattergl\":[{\"marker\":{\"colorbar\":{\"outlinewidth\":0,\"tickcolor\":\"rgb(237,237,237)\",\"ticklen\":6,\"ticks\":\"inside\"}},\"type\":\"scattergl\"}],\"scattermapbox\":[{\"marker\":{\"colorbar\":{\"outlinewidth\":0,\"tickcolor\":\"rgb(237,237,237)\",\"ticklen\":6,\"ticks\":\"inside\"}},\"type\":\"scattermapbox\"}],\"scatterpolargl\":[{\"marker\":{\"colorbar\":{\"outlinewidth\":0,\"tickcolor\":\"rgb(237,237,237)\",\"ticklen\":6,\"ticks\":\"inside\"}},\"type\":\"scatterpolargl\"}],\"scatterpolar\":[{\"marker\":{\"colorbar\":{\"outlinewidth\":0,\"tickcolor\":\"rgb(237,237,237)\",\"ticklen\":6,\"ticks\":\"inside\"}},\"type\":\"scatterpolar\"}],\"scatter\":[{\"fillpattern\":{\"fillmode\":\"overlay\",\"size\":10,\"solidity\":0.2},\"type\":\"scatter\"}],\"scatterternary\":[{\"marker\":{\"colorbar\":{\"outlinewidth\":0,\"tickcolor\":\"rgb(237,237,237)\",\"ticklen\":6,\"ticks\":\"inside\"}},\"type\":\"scatterternary\"}],\"surface\":[{\"colorbar\":{\"outlinewidth\":0,\"tickcolor\":\"rgb(237,237,237)\",\"ticklen\":6,\"ticks\":\"inside\"},\"colorscale\":[[0,\"rgb(20,44,66)\"],[1,\"rgb(90,179,244)\"]],\"type\":\"surface\"}],\"table\":[{\"cells\":{\"fill\":{\"color\":\"rgb(237,237,237)\"},\"line\":{\"color\":\"white\"}},\"header\":{\"fill\":{\"color\":\"rgb(217,217,217)\"},\"line\":{\"color\":\"white\"}},\"type\":\"table\"}]},\"layout\":{\"annotationdefaults\":{\"arrowhead\":0,\"arrowwidth\":1},\"autotypenumbers\":\"strict\",\"coloraxis\":{\"colorbar\":{\"outlinewidth\":0,\"tickcolor\":\"rgb(237,237,237)\",\"ticklen\":6,\"ticks\":\"inside\"}},\"colorscale\":{\"sequential\":[[0,\"rgb(20,44,66)\"],[1,\"rgb(90,179,244)\"]],\"sequentialminus\":[[0,\"rgb(20,44,66)\"],[1,\"rgb(90,179,244)\"]]},\"colorway\":[\"#F8766D\",\"#A3A500\",\"#00BF7D\",\"#00B0F6\",\"#E76BF3\"],\"font\":{\"color\":\"rgb(51,51,51)\"},\"geo\":{\"bgcolor\":\"white\",\"lakecolor\":\"white\",\"landcolor\":\"rgb(237,237,237)\",\"showlakes\":true,\"showland\":true,\"subunitcolor\":\"white\"},\"hoverlabel\":{\"align\":\"left\"},\"hovermode\":\"closest\",\"paper_bgcolor\":\"white\",\"plot_bgcolor\":\"rgb(237,237,237)\",\"polar\":{\"angularaxis\":{\"gridcolor\":\"white\",\"linecolor\":\"white\",\"showgrid\":true,\"tickcolor\":\"rgb(51,51,51)\",\"ticks\":\"outside\"},\"bgcolor\":\"rgb(237,237,237)\",\"radialaxis\":{\"gridcolor\":\"white\",\"linecolor\":\"white\",\"showgrid\":true,\"tickcolor\":\"rgb(51,51,51)\",\"ticks\":\"outside\"}},\"scene\":{\"xaxis\":{\"backgroundcolor\":\"rgb(237,237,237)\",\"gridcolor\":\"white\",\"gridwidth\":2,\"linecolor\":\"white\",\"showbackground\":true,\"showgrid\":true,\"tickcolor\":\"rgb(51,51,51)\",\"ticks\":\"outside\",\"zerolinecolor\":\"white\"},\"yaxis\":{\"backgroundcolor\":\"rgb(237,237,237)\",\"gridcolor\":\"white\",\"gridwidth\":2,\"linecolor\":\"white\",\"showbackground\":true,\"showgrid\":true,\"tickcolor\":\"rgb(51,51,51)\",\"ticks\":\"outside\",\"zerolinecolor\":\"white\"},\"zaxis\":{\"backgroundcolor\":\"rgb(237,237,237)\",\"gridcolor\":\"white\",\"gridwidth\":2,\"linecolor\":\"white\",\"showbackground\":true,\"showgrid\":true,\"tickcolor\":\"rgb(51,51,51)\",\"ticks\":\"outside\",\"zerolinecolor\":\"white\"}},\"shapedefaults\":{\"fillcolor\":\"black\",\"line\":{\"width\":0},\"opacity\":0.3},\"ternary\":{\"aaxis\":{\"gridcolor\":\"white\",\"linecolor\":\"white\",\"showgrid\":true,\"tickcolor\":\"rgb(51,51,51)\",\"ticks\":\"outside\"},\"baxis\":{\"gridcolor\":\"white\",\"linecolor\":\"white\",\"showgrid\":true,\"tickcolor\":\"rgb(51,51,51)\",\"ticks\":\"outside\"},\"bgcolor\":\"rgb(237,237,237)\",\"caxis\":{\"gridcolor\":\"white\",\"linecolor\":\"white\",\"showgrid\":true,\"tickcolor\":\"rgb(51,51,51)\",\"ticks\":\"outside\"}},\"xaxis\":{\"automargin\":true,\"gridcolor\":\"white\",\"linecolor\":\"white\",\"showgrid\":true,\"tickcolor\":\"rgb(51,51,51)\",\"ticks\":\"outside\",\"title\":{\"standoff\":15},\"zerolinecolor\":\"white\"},\"yaxis\":{\"automargin\":true,\"gridcolor\":\"white\",\"linecolor\":\"white\",\"showgrid\":true,\"tickcolor\":\"rgb(51,51,51)\",\"ticks\":\"outside\",\"title\":{\"standoff\":15},\"zerolinecolor\":\"white\"}}},\"geo\":{\"domain\":{\"x\":[0.0,1.0],\"y\":[0.0,1.0]},\"center\":{},\"scope\":\"world\"},\"coloraxis\":{\"colorbar\":{\"title\":{\"text\":\"Rate : \"},\"ticks\":\"outside\",\"orientation\":\"v\",\"yanchor\":\"bottom\",\"y\":0.18,\"xanchor\":\"left\",\"x\":0,\"len\":0.37,\"thickness\":15},\"colorscale\":[[0.0,\"rgb(20,44,66)\"],[1.0,\"rgb(90,179,244)\"]]},\"legend\":{\"tracegroupgap\":0},\"margin\":{\"t\":0,\"b\":0,\"l\":0,\"r\":0},\"height\":400},                        {\"responsive\": true}                    ).then(function(){\n",
       "                            \n",
       "var gd = document.getElementById('0f06ff74-d326-4856-b14a-501ea20b2720');\n",
       "var x = new MutationObserver(function (mutations, observer) {{\n",
       "        var display = window.getComputedStyle(gd).display;\n",
       "        if (!display || display === 'none') {{\n",
       "            console.log([gd, 'removed!']);\n",
       "            Plotly.purge(gd);\n",
       "            observer.disconnect();\n",
       "        }}\n",
       "}});\n",
       "\n",
       "// Listen for the removal of the full notebook cells\n",
       "var notebookContainer = gd.closest('#notebook-container');\n",
       "if (notebookContainer) {{\n",
       "    x.observe(notebookContainer, {childList: true});\n",
       "}}\n",
       "\n",
       "// Listen for the clearing of the current output cell\n",
       "var outputEl = gd.closest('.output');\n",
       "if (outputEl) {{\n",
       "    x.observe(outputEl, {childList: true});\n",
       "}}\n",
       "\n",
       "                        })                };                });            </script>        </div>"
      ]
     },
     "metadata": {},
     "output_type": "display_data"
    }
   ],
   "source": [
    "# make the oservations among the whole world \n",
    "df2 = df.copy()\n",
    "df2[['country_work_in', 'ph_employer_rate', 'mh_employer_rate']].dropna()\n",
    "df2.sort_values(['country_work_in','mh_resources_provided'],inplace=True)\n",
    "def draw_observation_map_among_world():\n",
    "  observation_map_among_world=px.choropleth(data_frame=df2,locations='country_live_in',locationmode='country names',\n",
    "                    color='rate_tech_industry_support',\n",
    "                    hover_name='country_work_in',\n",
    "                    hover_data=['country_work_in', 'mh_employer_rate', 'ph_employer_rate'],\n",
    "                    scope='world',\n",
    "                    template = 'ggplot2', \n",
    "                  )\n",
    "\n",
    "  observation_map_among_world.update_layout(\n",
    "                  coloraxis_colorbar = dict(ticks='outside', title = 'Rate : ', orientation='v', yanchor=\"bottom\", y= 0.18, xanchor=\"left\", x = 0 , len = 0.37, thickness = 15 ),\n",
    "                  margin=dict(b = 0, t = 0, l = 0, r = 0),\n",
    "                  height = 400,\n",
    "                  )\n",
    "                \n",
    "  return observation_map_among_world\n",
    "\n",
    "draw_observation_map_among_world()"
   ]
  },
  {
   "cell_type": "markdown",
   "metadata": {
    "id": "g49lDDcjKpEE"
   },
   "source": [
    "### What you think the industry as a whole and/or employers could do to improve mental health support for employees?"
   ]
  },
  {
   "cell_type": "code",
   "execution_count": 217,
   "metadata": {
    "executionInfo": {
     "elapsed": 60,
     "status": "aborted",
     "timestamp": 1654337002853,
     "user": {
      "displayName": "habiba mohamed",
      "userId": "01346726008568088997"
     },
     "user_tz": -120
    },
    "id": "jSE0X-woKpEE"
   },
   "outputs": [
    {
     "data": {
      "text/html": [
       "<div>                            <div id=\"746bf138-1380-4ae2-9f7f-22456bfc4f37\" class=\"plotly-graph-div\" style=\"height:400px; width:100%;\"></div>            <script type=\"text/javascript\">                require([\"plotly\"], function(Plotly) {                    window.PLOTLYENV=window.PLOTLYENV || {};                                    if (document.getElementById(\"746bf138-1380-4ae2-9f7f-22456bfc4f37\")) {                    Plotly.newPlot(                        \"746bf138-1380-4ae2-9f7f-22456bfc4f37\",                        [{\"name\":\"0\",\"source\":\"data:image/png;base64,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\",\"type\":\"image\",\"xaxis\":\"x\",\"yaxis\":\"y\",\"hovertemplate\":\"x: %{x}<br>y: %{y}<br>color: [%{z[0]}, %{z[1]}, %{z[2]}]<extra></extra>\"}],                        {\"template\":{\"data\":{\"histogram2dcontour\":[{\"type\":\"histogram2dcontour\",\"colorbar\":{\"outlinewidth\":0,\"ticks\":\"\"},\"colorscale\":[[0.0,\"#0d0887\"],[0.1111111111111111,\"#46039f\"],[0.2222222222222222,\"#7201a8\"],[0.3333333333333333,\"#9c179e\"],[0.4444444444444444,\"#bd3786\"],[0.5555555555555556,\"#d8576b\"],[0.6666666666666666,\"#ed7953\"],[0.7777777777777778,\"#fb9f3a\"],[0.8888888888888888,\"#fdca26\"],[1.0,\"#f0f921\"]]}],\"choropleth\":[{\"type\":\"choropleth\",\"colorbar\":{\"outlinewidth\":0,\"ticks\":\"\"}}],\"histogram2d\":[{\"type\":\"histogram2d\",\"colorbar\":{\"outlinewidth\":0,\"ticks\":\"\"},\"colorscale\":[[0.0,\"#0d0887\"],[0.1111111111111111,\"#46039f\"],[0.2222222222222222,\"#7201a8\"],[0.3333333333333333,\"#9c179e\"],[0.4444444444444444,\"#bd3786\"],[0.5555555555555556,\"#d8576b\"],[0.6666666666666666,\"#ed7953\"],[0.7777777777777778,\"#fb9f3a\"],[0.8888888888888888,\"#fdca26\"],[1.0,\"#f0f921\"]]}],\"heatmap\":[{\"type\":\"heatmap\",\"colorbar\":{\"outlinewidth\":0,\"ticks\":\"\"},\"colorscale\":[[0.0,\"#0d0887\"],[0.1111111111111111,\"#46039f\"],[0.2222222222222222,\"#7201a8\"],[0.3333333333333333,\"#9c179e\"],[0.4444444444444444,\"#bd3786\"],[0.5555555555555556,\"#d8576b\"],[0.6666666666666666,\"#ed7953\"],[0.7777777777777778,\"#fb9f3a\"],[0.8888888888888888,\"#fdca26\"],[1.0,\"#f0f921\"]]}],\"heatmapgl\":[{\"type\":\"heatmapgl\",\"colorbar\":{\"outlinewidth\":0,\"ticks\":\"\"},\"colorscale\":[[0.0,\"#0d0887\"],[0.1111111111111111,\"#46039f\"],[0.2222222222222222,\"#7201a8\"],[0.3333333333333333,\"#9c179e\"],[0.4444444444444444,\"#bd3786\"],[0.5555555555555556,\"#d8576b\"],[0.6666666666666666,\"#ed7953\"],[0.7777777777777778,\"#fb9f3a\"],[0.8888888888888888,\"#fdca26\"],[1.0,\"#f0f921\"]]}],\"contourcarpet\":[{\"type\":\"contourcarpet\",\"colorbar\":{\"outlinewidth\":0,\"ticks\":\"\"}}],\"contour\":[{\"type\":\"contour\",\"colorbar\":{\"outlinewidth\":0,\"ticks\":\"\"},\"colorscale\":[[0.0,\"#0d0887\"],[0.1111111111111111,\"#46039f\"],[0.2222222222222222,\"#7201a8\"],[0.3333333333333333,\"#9c179e\"],[0.4444444444444444,\"#bd3786\"],[0.5555555555555556,\"#d8576b\"],[0.6666666666666666,\"#ed7953\"],[0.7777777777777778,\"#fb9f3a\"],[0.8888888888888888,\"#fdca26\"],[1.0,\"#f0f921\"]]}],\"surface\":[{\"type\":\"surface\",\"colorbar\":{\"outlinewidth\":0,\"ticks\":\"\"},\"colorscale\":[[0.0,\"#0d0887\"],[0.1111111111111111,\"#46039f\"],[0.2222222222222222,\"#7201a8\"],[0.3333333333333333,\"#9c179e\"],[0.4444444444444444,\"#bd3786\"],[0.5555555555555556,\"#d8576b\"],[0.6666666666666666,\"#ed7953\"],[0.7777777777777778,\"#fb9f3a\"],[0.8888888888888888,\"#fdca26\"],[1.0,\"#f0f921\"]]}],\"mesh3d\":[{\"type\":\"mesh3d\",\"colorbar\":{\"outlinewidth\":0,\"ticks\":\"\"}}],\"scatter\":[{\"fillpattern\":{\"fillmode\":\"overlay\",\"size\":10,\"solidity\":0.2},\"type\":\"scatter\"}],\"parcoords\":[{\"type\":\"parcoords\",\"line\":{\"colorbar\":{\"outlinewidth\":0,\"ticks\":\"\"}}}],\"scatterpolargl\":[{\"type\":\"scatterpolargl\",\"marker\":{\"colorbar\":{\"outlinewidth\":0,\"ticks\":\"\"}}}],\"bar\":[{\"error_x\":{\"color\":\"#2a3f5f\"},\"error_y\":{\"color\":\"#2a3f5f\"},\"marker\":{\"line\":{\"color\":\"#E5ECF6\",\"width\":0.5},\"pattern\":{\"fillmode\":\"overlay\",\"size\":10,\"solidity\":0.2}},\"type\":\"bar\"}],\"scattergeo\":[{\"type\":\"scattergeo\",\"marker\":{\"colorbar\":{\"outlinewidth\":0,\"ticks\":\"\"}}}],\"scatterpolar\":[{\"type\":\"scatterpolar\",\"marker\":{\"colorbar\":{\"outlinewidth\":0,\"ticks\":\"\"}}}],\"histogram\":[{\"marker\":{\"pattern\":{\"fillmode\":\"overlay\",\"size\":10,\"solidity\":0.2}},\"type\":\"histogram\"}],\"scattergl\":[{\"type\":\"scattergl\",\"marker\":{\"colorbar\":{\"outlinewidth\":0,\"ticks\":\"\"}}}],\"scatter3d\":[{\"type\":\"scatter3d\",\"line\":{\"colorbar\":{\"outlinewidth\":0,\"ticks\":\"\"}},\"marker\":{\"colorbar\":{\"outlinewidth\":0,\"ticks\":\"\"}}}],\"scattermapbox\":[{\"type\":\"scattermapbox\",\"marker\":{\"colorbar\":{\"outlinewidth\":0,\"ticks\":\"\"}}}],\"scatterternary\":[{\"type\":\"scatterternary\",\"marker\":{\"colorbar\":{\"outlinewidth\":0,\"ticks\":\"\"}}}],\"scattercarpet\":[{\"type\":\"scattercarpet\",\"marker\":{\"colorbar\":{\"outlinewidth\":0,\"ticks\":\"\"}}}],\"carpet\":[{\"aaxis\":{\"endlinecolor\":\"#2a3f5f\",\"gridcolor\":\"white\",\"linecolor\":\"white\",\"minorgridcolor\":\"white\",\"startlinecolor\":\"#2a3f5f\"},\"baxis\":{\"endlinecolor\":\"#2a3f5f\",\"gridcolor\":\"white\",\"linecolor\":\"white\",\"minorgridcolor\":\"white\",\"startlinecolor\":\"#2a3f5f\"},\"type\":\"carpet\"}],\"table\":[{\"cells\":{\"fill\":{\"color\":\"#EBF0F8\"},\"line\":{\"color\":\"white\"}},\"header\":{\"fill\":{\"color\":\"#C8D4E3\"},\"line\":{\"color\":\"white\"}},\"type\":\"table\"}],\"barpolar\":[{\"marker\":{\"line\":{\"color\":\"#E5ECF6\",\"width\":0.5},\"pattern\":{\"fillmode\":\"overlay\",\"size\":10,\"solidity\":0.2}},\"type\":\"barpolar\"}],\"pie\":[{\"automargin\":true,\"type\":\"pie\"}]},\"layout\":{\"autotypenumbers\":\"strict\",\"colorway\":[\"#636efa\",\"#EF553B\",\"#00cc96\",\"#ab63fa\",\"#FFA15A\",\"#19d3f3\",\"#FF6692\",\"#B6E880\",\"#FF97FF\",\"#FECB52\"],\"font\":{\"color\":\"#2a3f5f\"},\"hovermode\":\"closest\",\"hoverlabel\":{\"align\":\"left\"},\"paper_bgcolor\":\"white\",\"plot_bgcolor\":\"#E5ECF6\",\"polar\":{\"bgcolor\":\"#E5ECF6\",\"angularaxis\":{\"gridcolor\":\"white\",\"linecolor\":\"white\",\"ticks\":\"\"},\"radialaxis\":{\"gridcolor\":\"white\",\"linecolor\":\"white\",\"ticks\":\"\"}},\"ternary\":{\"bgcolor\":\"#E5ECF6\",\"aaxis\":{\"gridcolor\":\"white\",\"linecolor\":\"white\",\"ticks\":\"\"},\"baxis\":{\"gridcolor\":\"white\",\"linecolor\":\"white\",\"ticks\":\"\"},\"caxis\":{\"gridcolor\":\"white\",\"linecolor\":\"white\",\"ticks\":\"\"}},\"coloraxis\":{\"colorbar\":{\"outlinewidth\":0,\"ticks\":\"\"}},\"colorscale\":{\"sequential\":[[0.0,\"#0d0887\"],[0.1111111111111111,\"#46039f\"],[0.2222222222222222,\"#7201a8\"],[0.3333333333333333,\"#9c179e\"],[0.4444444444444444,\"#bd3786\"],[0.5555555555555556,\"#d8576b\"],[0.6666666666666666,\"#ed7953\"],[0.7777777777777778,\"#fb9f3a\"],[0.8888888888888888,\"#fdca26\"],[1.0,\"#f0f921\"]],\"sequentialminus\":[[0.0,\"#0d0887\"],[0.1111111111111111,\"#46039f\"],[0.2222222222222222,\"#7201a8\"],[0.3333333333333333,\"#9c179e\"],[0.4444444444444444,\"#bd3786\"],[0.5555555555555556,\"#d8576b\"],[0.6666666666666666,\"#ed7953\"],[0.7777777777777778,\"#fb9f3a\"],[0.8888888888888888,\"#fdca26\"],[1.0,\"#f0f921\"]],\"diverging\":[[0,\"#8e0152\"],[0.1,\"#c51b7d\"],[0.2,\"#de77ae\"],[0.3,\"#f1b6da\"],[0.4,\"#fde0ef\"],[0.5,\"#f7f7f7\"],[0.6,\"#e6f5d0\"],[0.7,\"#b8e186\"],[0.8,\"#7fbc41\"],[0.9,\"#4d9221\"],[1,\"#276419\"]]},\"xaxis\":{\"gridcolor\":\"white\",\"linecolor\":\"white\",\"ticks\":\"\",\"title\":{\"standoff\":15},\"zerolinecolor\":\"white\",\"automargin\":true,\"zerolinewidth\":2},\"yaxis\":{\"gridcolor\":\"white\",\"linecolor\":\"white\",\"ticks\":\"\",\"title\":{\"standoff\":15},\"zerolinecolor\":\"white\",\"automargin\":true,\"zerolinewidth\":2},\"scene\":{\"xaxis\":{\"backgroundcolor\":\"#E5ECF6\",\"gridcolor\":\"white\",\"linecolor\":\"white\",\"showbackground\":true,\"ticks\":\"\",\"zerolinecolor\":\"white\",\"gridwidth\":2},\"yaxis\":{\"backgroundcolor\":\"#E5ECF6\",\"gridcolor\":\"white\",\"linecolor\":\"white\",\"showbackground\":true,\"ticks\":\"\",\"zerolinecolor\":\"white\",\"gridwidth\":2},\"zaxis\":{\"backgroundcolor\":\"#E5ECF6\",\"gridcolor\":\"white\",\"linecolor\":\"white\",\"showbackground\":true,\"ticks\":\"\",\"zerolinecolor\":\"white\",\"gridwidth\":2}},\"shapedefaults\":{\"line\":{\"color\":\"#2a3f5f\"}},\"annotationdefaults\":{\"arrowcolor\":\"#2a3f5f\",\"arrowhead\":0,\"arrowwidth\":1},\"geo\":{\"bgcolor\":\"white\",\"landcolor\":\"#E5ECF6\",\"subunitcolor\":\"white\",\"showland\":true,\"showlakes\":true,\"lakecolor\":\"white\"},\"title\":{\"x\":0.05},\"mapbox\":{\"style\":\"light\"}}},\"xaxis\":{\"anchor\":\"y\",\"domain\":[0.0,1.0],\"visible\":false},\"yaxis\":{\"anchor\":\"x\",\"domain\":[0.0,1.0],\"visible\":false},\"margin\":{\"t\":0,\"l\":0,\"r\":0,\"b\":0},\"height\":400},                        {\"responsive\": true}                    ).then(function(){\n",
       "                            \n",
       "var gd = document.getElementById('746bf138-1380-4ae2-9f7f-22456bfc4f37');\n",
       "var x = new MutationObserver(function (mutations, observer) {{\n",
       "        var display = window.getComputedStyle(gd).display;\n",
       "        if (!display || display === 'none') {{\n",
       "            console.log([gd, 'removed!']);\n",
       "            Plotly.purge(gd);\n",
       "            observer.disconnect();\n",
       "        }}\n",
       "}});\n",
       "\n",
       "// Listen for the removal of the full notebook cells\n",
       "var notebookContainer = gd.closest('#notebook-container');\n",
       "if (notebookContainer) {{\n",
       "    x.observe(notebookContainer, {childList: true});\n",
       "}}\n",
       "\n",
       "// Listen for the clearing of the current output cell\n",
       "var outputEl = gd.closest('.output');\n",
       "if (outputEl) {{\n",
       "    x.observe(outputEl, {childList: true});\n",
       "}}\n",
       "\n",
       "                        })                };                });            </script>        </div>"
      ]
     },
     "metadata": {},
     "output_type": "display_data"
    }
   ],
   "source": [
    "from wordcloud import WordCloud, STOPWORDS\n",
    "from PIL import Image\n",
    "\n",
    "def draw_world_cloud():\n",
    "    Emp_complains = prep_data['Briefly describe what you think the industry as a whole and/or employers could do to improve mental health support for employees.'].dropna().unique()\n",
    "    words = ''.join(Emp_complains)\n",
    "\n",
    "    my_wordcloud = WordCloud(stopwords=STOPWORDS,\n",
    "                            max_words=500,\n",
    "                            # width=800,\n",
    "                            height=400,\n",
    "                            background_color='white',\n",
    "                            contour_color='#EEEDE7', \n",
    "                            colormap=\"viridis\",\n",
    "                            collocations=True,\n",
    "                            # contour_width=5, \n",
    "                            mask=np.array(Image.open(\"assets/b2.jpg\"))).generate(words)\n",
    "\n",
    "    fig_wordcloud = px.imshow(my_wordcloud)\n",
    "    fig_wordcloud.update_layout(margin=dict(l=0, r=0, t=0, b=0), height=400)\n",
    "    fig_wordcloud.update_xaxes(visible=False)\n",
    "    fig_wordcloud.update_yaxes(visible=False)\n",
    "    return fig_wordcloud\n",
    "draw_world_cloud()"
   ]
  },
  {
   "cell_type": "markdown",
   "metadata": {
    "id": "cQg0NCVcKpEF"
   },
   "source": [
    "### Would you be willing to bring up a physical/ Mental health issue with a potential employer in an interview?"
   ]
  },
  {
   "cell_type": "markdown",
   "metadata": {
    "id": "zJZyvj7CKpEF"
   },
   "source": [
    "#### Pie charts for all responses"
   ]
  },
  {
   "cell_type": "code",
   "execution_count": 211,
   "metadata": {
    "executionInfo": {
     "elapsed": 61,
     "status": "aborted",
     "timestamp": 1654337002854,
     "user": {
      "displayName": "habiba mohamed",
      "userId": "01346726008568088997"
     },
     "user_tz": -120
    },
    "id": "OaBCSmIFKpEF"
   },
   "outputs": [],
   "source": [
    "# ----------------- Admit_ph_issue_in_interview_plt -----------------\n",
    "def draw_admit_ph_issue_in_interview_plt(country):\n",
    "    all_responses = prep_data[prep_data['tech_role_flag'] == 1]['admit_ph_issue_in_interview'].count()\n",
    "    no = prep_data[(prep_data['tech_role_flag'] == 1) & (prep_data['admit_ph_issue_in_interview'] == 0) & ( np.isin(prep_data['country_work_in'], country))]['admit_ph_issue_in_interview'].count()\n",
    "    maybe = prep_data[(prep_data['tech_role_flag'] == 1) & (prep_data['admit_ph_issue_in_interview'] == 1) & ( np.isin(prep_data['country_work_in'], country))]['admit_ph_issue_in_interview'].count()\n",
    "    yes = prep_data[(prep_data['tech_role_flag'] == 1) & (prep_data['admit_ph_issue_in_interview'] == 2) & ( np.isin(prep_data['country_work_in'], country))]['admit_ph_issue_in_interview'].count()\n",
    "\n",
    "    labels = ['No', 'Maybe', 'Yes']\n",
    "    # colors = ['#9666FF', '#F89640', '#F0F921' ]\n",
    "    colors = ['#622569', '#b7d7e8', '#5b9aa0' ]\n",
    "\n",
    "    sizes = [no/all_responses, maybe/all_responses, yes/all_responses]\n",
    "\n",
    "    admit_ph_issue_in_interview_plt = go.Figure(data=[go.Pie(labels = labels, values=sizes, hole = 0.6, pull=[0, 0, 0.2, 0], rotation = 90)])\n",
    "\n",
    "    admit_ph_issue_in_interview_plt.update_traces(\n",
    "                                                title = f'Physical',\n",
    "                                                hoverinfo='label+percent',\n",
    "                                                textfont_size=12,\n",
    "                                                marker=dict(colors=colors,\n",
    "                                                line=dict(color='#FFF', width=2)),\n",
    "                                                title_font_size = 16,\n",
    "                                                title_position = \"middle center\")\n",
    "    admit_ph_issue_in_interview_plt.update_layout(\n",
    "                                                legend=dict(orientation=\"h\", yanchor=\"bottom\", y=0, xanchor=\"center\", x=0.5),\n",
    "                                                margin=dict(b = 0, t = 0, l = 0, r = 0),\n",
    "                                                template = 'ggplot2',\n",
    "                                                height = 325\n",
    "                                                )\n",
    "    return admit_ph_issue_in_interview_plt\n",
    "# ----------------- Bar Chart For MH Disorder Vs Countries -----------------\n",
    "\n",
    "def draw_admit_mh_issue_in_interview_plt(country):\n",
    "    all_responses = prep_data[prep_data['tech_role_flag'] == 1]['admit_mh_issue_in_interview'].count()\n",
    "    no = prep_data[(prep_data['tech_role_flag'] == 1) & (prep_data['admit_mh_issue_in_interview'] == 1) & ( np.isin(prep_data['country_work_in'], country))]['admit_mh_issue_in_interview'].count()\n",
    "    maybe = prep_data[(prep_data['tech_role_flag'] == 1) & (prep_data['admit_mh_issue_in_interview'] == 0) & ( np.isin(prep_data['country_work_in'], country))]['admit_mh_issue_in_interview'].count()\n",
    "    yes = prep_data[(prep_data['tech_role_flag'] == 1) & (prep_data['admit_mh_issue_in_interview'] == 2) & ( np.isin(prep_data['country_work_in'], country))]['admit_mh_issue_in_interview'].count()\n",
    "    # colors = ['#9666FF', '#F89640', '#F0F921' ]\n",
    "    colors = ['#622569', '#b7d7e8', '#5b9aa0' ]\n",
    "\n",
    "    labels = ['No', 'Maybe', 'Yes']\n",
    "    sizes = [no/all_responses, maybe/all_responses, yes/all_responses]\n",
    "    admit_mh_issue_in_interview_plt = go.Figure(data=[go.Pie(labels = labels, values=sizes, hole = 0.6, pull=[0, 0, 0.2, 0], rotation = -180)])\n",
    "\n",
    "    admit_mh_issue_in_interview_plt.update_traces(\n",
    "                                                title = 'Mental',\n",
    "                                                hoverinfo='label+percent',\n",
    "                                                marker=dict(colors=colors,\n",
    "                                                line=dict(color='#FFF', width=2)),\n",
    "                                                textfont_size=12,\n",
    "                                                title_font_size = 16, \n",
    "                                                title_position = \"middle center\")\n",
    "    admit_mh_issue_in_interview_plt.update_layout(\n",
    "                                                template = 'ggplot2',\n",
    "                                                legend=dict(orientation=\"h\", yanchor=\"bottom\", y=0, xanchor=\"center\", x=0.5),\n",
    "                                                margin=dict(b = 0, t = 0, l = 0, r = 0),\n",
    "                                                height = 325\n",
    "                                                )\n",
    "\n",
    "    return admit_mh_issue_in_interview_plt\n",
    "\n"
   ]
  },
  {
   "cell_type": "code",
   "execution_count": 197,
   "metadata": {},
   "outputs": [
    {
     "data": {
      "text/html": [
       "<div>                            <div id=\"48fb1b2d-6be8-4069-b3db-c6f437a3de6c\" class=\"plotly-graph-div\" style=\"height:250px; width:100%;\"></div>            <script type=\"text/javascript\">                require([\"plotly\"], function(Plotly) {                    window.PLOTLYENV=window.PLOTLYENV || {};                                    if (document.getElementById(\"48fb1b2d-6be8-4069-b3db-c6f437a3de6c\")) {                    Plotly.newPlot(                        \"48fb1b2d-6be8-4069-b3db-c6f437a3de6c\",                        [{\"hole\":0.6,\"labels\":[\"No\",\"Maybe\",\"Yes\"],\"pull\":[0,0,0.2,0],\"rotation\":90,\"values\":[0.41653290529695025,0.36998394863563405,0.21348314606741572],\"type\":\"pie\",\"textfont\":{\"size\":12},\"marker\":{\"line\":{\"color\":\"#FFF\",\"width\":2},\"colors\":[\"#622569\",\"#b7d7e8\",\"#5b9aa0\"]},\"title\":{\"text\":\"Physical\",\"font\":{\"size\":16},\"position\":\"middle center\"},\"hoverinfo\":\"label+percent\"}],                        {\"template\":{\"data\":{\"barpolar\":[{\"marker\":{\"line\":{\"color\":\"rgb(237,237,237)\",\"width\":0.5},\"pattern\":{\"fillmode\":\"overlay\",\"size\":10,\"solidity\":0.2}},\"type\":\"barpolar\"}],\"bar\":[{\"error_x\":{\"color\":\"rgb(51,51,51)\"},\"error_y\":{\"color\":\"rgb(51,51,51)\"},\"marker\":{\"line\":{\"color\":\"rgb(237,237,237)\",\"width\":0.5},\"pattern\":{\"fillmode\":\"overlay\",\"size\":10,\"solidity\":0.2}},\"type\":\"bar\"}],\"carpet\":[{\"aaxis\":{\"endlinecolor\":\"rgb(51,51,51)\",\"gridcolor\":\"white\",\"linecolor\":\"white\",\"minorgridcolor\":\"white\",\"startlinecolor\":\"rgb(51,51,51)\"},\"baxis\":{\"endlinecolor\":\"rgb(51,51,51)\",\"gridcolor\":\"white\",\"linecolor\":\"white\",\"minorgridcolor\":\"white\",\"startlinecolor\":\"rgb(51,51,51)\"},\"type\":\"carpet\"}],\"choropleth\":[{\"colorbar\":{\"outlinewidth\":0,\"tickcolor\":\"rgb(237,237,237)\",\"ticklen\":6,\"ticks\":\"inside\"},\"type\":\"choropleth\"}],\"contourcarpet\":[{\"colorbar\":{\"outlinewidth\":0,\"tickcolor\":\"rgb(237,237,237)\",\"ticklen\":6,\"ticks\":\"inside\"},\"type\":\"contourcarpet\"}],\"contour\":[{\"colorbar\":{\"outlinewidth\":0,\"tickcolor\":\"rgb(237,237,237)\",\"ticklen\":6,\"ticks\":\"inside\"},\"colorscale\":[[0,\"rgb(20,44,66)\"],[1,\"rgb(90,179,244)\"]],\"type\":\"contour\"}],\"heatmapgl\":[{\"colorbar\":{\"outlinewidth\":0,\"tickcolor\":\"rgb(237,237,237)\",\"ticklen\":6,\"ticks\":\"inside\"},\"colorscale\":[[0,\"rgb(20,44,66)\"],[1,\"rgb(90,179,244)\"]],\"type\":\"heatmapgl\"}],\"heatmap\":[{\"colorbar\":{\"outlinewidth\":0,\"tickcolor\":\"rgb(237,237,237)\",\"ticklen\":6,\"ticks\":\"inside\"},\"colorscale\":[[0,\"rgb(20,44,66)\"],[1,\"rgb(90,179,244)\"]],\"type\":\"heatmap\"}],\"histogram2dcontour\":[{\"colorbar\":{\"outlinewidth\":0,\"tickcolor\":\"rgb(237,237,237)\",\"ticklen\":6,\"ticks\":\"inside\"},\"colorscale\":[[0,\"rgb(20,44,66)\"],[1,\"rgb(90,179,244)\"]],\"type\":\"histogram2dcontour\"}],\"histogram2d\":[{\"colorbar\":{\"outlinewidth\":0,\"tickcolor\":\"rgb(237,237,237)\",\"ticklen\":6,\"ticks\":\"inside\"},\"colorscale\":[[0,\"rgb(20,44,66)\"],[1,\"rgb(90,179,244)\"]],\"type\":\"histogram2d\"}],\"histogram\":[{\"marker\":{\"pattern\":{\"fillmode\":\"overlay\",\"size\":10,\"solidity\":0.2}},\"type\":\"histogram\"}],\"mesh3d\":[{\"colorbar\":{\"outlinewidth\":0,\"tickcolor\":\"rgb(237,237,237)\",\"ticklen\":6,\"ticks\":\"inside\"},\"type\":\"mesh3d\"}],\"parcoords\":[{\"line\":{\"colorbar\":{\"outlinewidth\":0,\"tickcolor\":\"rgb(237,237,237)\",\"ticklen\":6,\"ticks\":\"inside\"}},\"type\":\"parcoords\"}],\"pie\":[{\"automargin\":true,\"type\":\"pie\"}],\"scatter3d\":[{\"line\":{\"colorbar\":{\"outlinewidth\":0,\"tickcolor\":\"rgb(237,237,237)\",\"ticklen\":6,\"ticks\":\"inside\"}},\"marker\":{\"colorbar\":{\"outlinewidth\":0,\"tickcolor\":\"rgb(237,237,237)\",\"ticklen\":6,\"ticks\":\"inside\"}},\"type\":\"scatter3d\"}],\"scattercarpet\":[{\"marker\":{\"colorbar\":{\"outlinewidth\":0,\"tickcolor\":\"rgb(237,237,237)\",\"ticklen\":6,\"ticks\":\"inside\"}},\"type\":\"scattercarpet\"}],\"scattergeo\":[{\"marker\":{\"colorbar\":{\"outlinewidth\":0,\"tickcolor\":\"rgb(237,237,237)\",\"ticklen\":6,\"ticks\":\"inside\"}},\"type\":\"scattergeo\"}],\"scattergl\":[{\"marker\":{\"colorbar\":{\"outlinewidth\":0,\"tickcolor\":\"rgb(237,237,237)\",\"ticklen\":6,\"ticks\":\"inside\"}},\"type\":\"scattergl\"}],\"scattermapbox\":[{\"marker\":{\"colorbar\":{\"outlinewidth\":0,\"tickcolor\":\"rgb(237,237,237)\",\"ticklen\":6,\"ticks\":\"inside\"}},\"type\":\"scattermapbox\"}],\"scatterpolargl\":[{\"marker\":{\"colorbar\":{\"outlinewidth\":0,\"tickcolor\":\"rgb(237,237,237)\",\"ticklen\":6,\"ticks\":\"inside\"}},\"type\":\"scatterpolargl\"}],\"scatterpolar\":[{\"marker\":{\"colorbar\":{\"outlinewidth\":0,\"tickcolor\":\"rgb(237,237,237)\",\"ticklen\":6,\"ticks\":\"inside\"}},\"type\":\"scatterpolar\"}],\"scatter\":[{\"fillpattern\":{\"fillmode\":\"overlay\",\"size\":10,\"solidity\":0.2},\"type\":\"scatter\"}],\"scatterternary\":[{\"marker\":{\"colorbar\":{\"outlinewidth\":0,\"tickcolor\":\"rgb(237,237,237)\",\"ticklen\":6,\"ticks\":\"inside\"}},\"type\":\"scatterternary\"}],\"surface\":[{\"colorbar\":{\"outlinewidth\":0,\"tickcolor\":\"rgb(237,237,237)\",\"ticklen\":6,\"ticks\":\"inside\"},\"colorscale\":[[0,\"rgb(20,44,66)\"],[1,\"rgb(90,179,244)\"]],\"type\":\"surface\"}],\"table\":[{\"cells\":{\"fill\":{\"color\":\"rgb(237,237,237)\"},\"line\":{\"color\":\"white\"}},\"header\":{\"fill\":{\"color\":\"rgb(217,217,217)\"},\"line\":{\"color\":\"white\"}},\"type\":\"table\"}]},\"layout\":{\"annotationdefaults\":{\"arrowhead\":0,\"arrowwidth\":1},\"autotypenumbers\":\"strict\",\"coloraxis\":{\"colorbar\":{\"outlinewidth\":0,\"tickcolor\":\"rgb(237,237,237)\",\"ticklen\":6,\"ticks\":\"inside\"}},\"colorscale\":{\"sequential\":[[0,\"rgb(20,44,66)\"],[1,\"rgb(90,179,244)\"]],\"sequentialminus\":[[0,\"rgb(20,44,66)\"],[1,\"rgb(90,179,244)\"]]},\"colorway\":[\"#F8766D\",\"#A3A500\",\"#00BF7D\",\"#00B0F6\",\"#E76BF3\"],\"font\":{\"color\":\"rgb(51,51,51)\"},\"geo\":{\"bgcolor\":\"white\",\"lakecolor\":\"white\",\"landcolor\":\"rgb(237,237,237)\",\"showlakes\":true,\"showland\":true,\"subunitcolor\":\"white\"},\"hoverlabel\":{\"align\":\"left\"},\"hovermode\":\"closest\",\"paper_bgcolor\":\"white\",\"plot_bgcolor\":\"rgb(237,237,237)\",\"polar\":{\"angularaxis\":{\"gridcolor\":\"white\",\"linecolor\":\"white\",\"showgrid\":true,\"tickcolor\":\"rgb(51,51,51)\",\"ticks\":\"outside\"},\"bgcolor\":\"rgb(237,237,237)\",\"radialaxis\":{\"gridcolor\":\"white\",\"linecolor\":\"white\",\"showgrid\":true,\"tickcolor\":\"rgb(51,51,51)\",\"ticks\":\"outside\"}},\"scene\":{\"xaxis\":{\"backgroundcolor\":\"rgb(237,237,237)\",\"gridcolor\":\"white\",\"gridwidth\":2,\"linecolor\":\"white\",\"showbackground\":true,\"showgrid\":true,\"tickcolor\":\"rgb(51,51,51)\",\"ticks\":\"outside\",\"zerolinecolor\":\"white\"},\"yaxis\":{\"backgroundcolor\":\"rgb(237,237,237)\",\"gridcolor\":\"white\",\"gridwidth\":2,\"linecolor\":\"white\",\"showbackground\":true,\"showgrid\":true,\"tickcolor\":\"rgb(51,51,51)\",\"ticks\":\"outside\",\"zerolinecolor\":\"white\"},\"zaxis\":{\"backgroundcolor\":\"rgb(237,237,237)\",\"gridcolor\":\"white\",\"gridwidth\":2,\"linecolor\":\"white\",\"showbackground\":true,\"showgrid\":true,\"tickcolor\":\"rgb(51,51,51)\",\"ticks\":\"outside\",\"zerolinecolor\":\"white\"}},\"shapedefaults\":{\"fillcolor\":\"black\",\"line\":{\"width\":0},\"opacity\":0.3},\"ternary\":{\"aaxis\":{\"gridcolor\":\"white\",\"linecolor\":\"white\",\"showgrid\":true,\"tickcolor\":\"rgb(51,51,51)\",\"ticks\":\"outside\"},\"baxis\":{\"gridcolor\":\"white\",\"linecolor\":\"white\",\"showgrid\":true,\"tickcolor\":\"rgb(51,51,51)\",\"ticks\":\"outside\"},\"bgcolor\":\"rgb(237,237,237)\",\"caxis\":{\"gridcolor\":\"white\",\"linecolor\":\"white\",\"showgrid\":true,\"tickcolor\":\"rgb(51,51,51)\",\"ticks\":\"outside\"}},\"xaxis\":{\"automargin\":true,\"gridcolor\":\"white\",\"linecolor\":\"white\",\"showgrid\":true,\"tickcolor\":\"rgb(51,51,51)\",\"ticks\":\"outside\",\"title\":{\"standoff\":15},\"zerolinecolor\":\"white\"},\"yaxis\":{\"automargin\":true,\"gridcolor\":\"white\",\"linecolor\":\"white\",\"showgrid\":true,\"tickcolor\":\"rgb(51,51,51)\",\"ticks\":\"outside\",\"title\":{\"standoff\":15},\"zerolinecolor\":\"white\"}}},\"legend\":{\"orientation\":\"h\",\"yanchor\":\"bottom\",\"y\":0,\"xanchor\":\"center\",\"x\":0.5},\"margin\":{\"b\":0,\"t\":0,\"l\":0,\"r\":0},\"height\":250},                        {\"responsive\": true}                    ).then(function(){\n",
       "                            \n",
       "var gd = document.getElementById('48fb1b2d-6be8-4069-b3db-c6f437a3de6c');\n",
       "var x = new MutationObserver(function (mutations, observer) {{\n",
       "        var display = window.getComputedStyle(gd).display;\n",
       "        if (!display || display === 'none') {{\n",
       "            console.log([gd, 'removed!']);\n",
       "            Plotly.purge(gd);\n",
       "            observer.disconnect();\n",
       "        }}\n",
       "}});\n",
       "\n",
       "// Listen for the removal of the full notebook cells\n",
       "var notebookContainer = gd.closest('#notebook-container');\n",
       "if (notebookContainer) {{\n",
       "    x.observe(notebookContainer, {childList: true});\n",
       "}}\n",
       "\n",
       "// Listen for the clearing of the current output cell\n",
       "var outputEl = gd.closest('.output');\n",
       "if (outputEl) {{\n",
       "    x.observe(outputEl, {childList: true});\n",
       "}}\n",
       "\n",
       "                        })                };                });            </script>        </div>"
      ]
     },
     "metadata": {},
     "output_type": "display_data"
    }
   ],
   "source": [
    "draw_admit_ph_issue_in_interview_plt(country)"
   ]
  },
  {
   "cell_type": "code",
   "execution_count": 198,
   "metadata": {},
   "outputs": [
    {
     "data": {
      "text/html": [
       "<div>                            <div id=\"ca14135b-b8ec-4f0e-9882-b3be68b60836\" class=\"plotly-graph-div\" style=\"height:250px; width:100%;\"></div>            <script type=\"text/javascript\">                require([\"plotly\"], function(Plotly) {                    window.PLOTLYENV=window.PLOTLYENV || {};                                    if (document.getElementById(\"ca14135b-b8ec-4f0e-9882-b3be68b60836\")) {                    Plotly.newPlot(                        \"ca14135b-b8ec-4f0e-9882-b3be68b60836\",                        [{\"hole\":0.6,\"labels\":[\"No\",\"Maybe\",\"Yes\"],\"pull\":[0,0,0.2,0],\"rotation\":-180,\"values\":[0.7062600321027287,0.2504012841091493,0.04333868378812199],\"type\":\"pie\",\"marker\":{\"line\":{\"color\":\"#FFF\",\"width\":2},\"colors\":[\"#622569\",\"#b7d7e8\",\"#5b9aa0\"]},\"textfont\":{\"size\":12},\"title\":{\"text\":\"Mental\",\"font\":{\"size\":16},\"position\":\"middle center\"},\"hoverinfo\":\"label+percent\"}],                        {\"template\":{\"data\":{\"barpolar\":[{\"marker\":{\"line\":{\"color\":\"rgb(237,237,237)\",\"width\":0.5},\"pattern\":{\"fillmode\":\"overlay\",\"size\":10,\"solidity\":0.2}},\"type\":\"barpolar\"}],\"bar\":[{\"error_x\":{\"color\":\"rgb(51,51,51)\"},\"error_y\":{\"color\":\"rgb(51,51,51)\"},\"marker\":{\"line\":{\"color\":\"rgb(237,237,237)\",\"width\":0.5},\"pattern\":{\"fillmode\":\"overlay\",\"size\":10,\"solidity\":0.2}},\"type\":\"bar\"}],\"carpet\":[{\"aaxis\":{\"endlinecolor\":\"rgb(51,51,51)\",\"gridcolor\":\"white\",\"linecolor\":\"white\",\"minorgridcolor\":\"white\",\"startlinecolor\":\"rgb(51,51,51)\"},\"baxis\":{\"endlinecolor\":\"rgb(51,51,51)\",\"gridcolor\":\"white\",\"linecolor\":\"white\",\"minorgridcolor\":\"white\",\"startlinecolor\":\"rgb(51,51,51)\"},\"type\":\"carpet\"}],\"choropleth\":[{\"colorbar\":{\"outlinewidth\":0,\"tickcolor\":\"rgb(237,237,237)\",\"ticklen\":6,\"ticks\":\"inside\"},\"type\":\"choropleth\"}],\"contourcarpet\":[{\"colorbar\":{\"outlinewidth\":0,\"tickcolor\":\"rgb(237,237,237)\",\"ticklen\":6,\"ticks\":\"inside\"},\"type\":\"contourcarpet\"}],\"contour\":[{\"colorbar\":{\"outlinewidth\":0,\"tickcolor\":\"rgb(237,237,237)\",\"ticklen\":6,\"ticks\":\"inside\"},\"colorscale\":[[0,\"rgb(20,44,66)\"],[1,\"rgb(90,179,244)\"]],\"type\":\"contour\"}],\"heatmapgl\":[{\"colorbar\":{\"outlinewidth\":0,\"tickcolor\":\"rgb(237,237,237)\",\"ticklen\":6,\"ticks\":\"inside\"},\"colorscale\":[[0,\"rgb(20,44,66)\"],[1,\"rgb(90,179,244)\"]],\"type\":\"heatmapgl\"}],\"heatmap\":[{\"colorbar\":{\"outlinewidth\":0,\"tickcolor\":\"rgb(237,237,237)\",\"ticklen\":6,\"ticks\":\"inside\"},\"colorscale\":[[0,\"rgb(20,44,66)\"],[1,\"rgb(90,179,244)\"]],\"type\":\"heatmap\"}],\"histogram2dcontour\":[{\"colorbar\":{\"outlinewidth\":0,\"tickcolor\":\"rgb(237,237,237)\",\"ticklen\":6,\"ticks\":\"inside\"},\"colorscale\":[[0,\"rgb(20,44,66)\"],[1,\"rgb(90,179,244)\"]],\"type\":\"histogram2dcontour\"}],\"histogram2d\":[{\"colorbar\":{\"outlinewidth\":0,\"tickcolor\":\"rgb(237,237,237)\",\"ticklen\":6,\"ticks\":\"inside\"},\"colorscale\":[[0,\"rgb(20,44,66)\"],[1,\"rgb(90,179,244)\"]],\"type\":\"histogram2d\"}],\"histogram\":[{\"marker\":{\"pattern\":{\"fillmode\":\"overlay\",\"size\":10,\"solidity\":0.2}},\"type\":\"histogram\"}],\"mesh3d\":[{\"colorbar\":{\"outlinewidth\":0,\"tickcolor\":\"rgb(237,237,237)\",\"ticklen\":6,\"ticks\":\"inside\"},\"type\":\"mesh3d\"}],\"parcoords\":[{\"line\":{\"colorbar\":{\"outlinewidth\":0,\"tickcolor\":\"rgb(237,237,237)\",\"ticklen\":6,\"ticks\":\"inside\"}},\"type\":\"parcoords\"}],\"pie\":[{\"automargin\":true,\"type\":\"pie\"}],\"scatter3d\":[{\"line\":{\"colorbar\":{\"outlinewidth\":0,\"tickcolor\":\"rgb(237,237,237)\",\"ticklen\":6,\"ticks\":\"inside\"}},\"marker\":{\"colorbar\":{\"outlinewidth\":0,\"tickcolor\":\"rgb(237,237,237)\",\"ticklen\":6,\"ticks\":\"inside\"}},\"type\":\"scatter3d\"}],\"scattercarpet\":[{\"marker\":{\"colorbar\":{\"outlinewidth\":0,\"tickcolor\":\"rgb(237,237,237)\",\"ticklen\":6,\"ticks\":\"inside\"}},\"type\":\"scattercarpet\"}],\"scattergeo\":[{\"marker\":{\"colorbar\":{\"outlinewidth\":0,\"tickcolor\":\"rgb(237,237,237)\",\"ticklen\":6,\"ticks\":\"inside\"}},\"type\":\"scattergeo\"}],\"scattergl\":[{\"marker\":{\"colorbar\":{\"outlinewidth\":0,\"tickcolor\":\"rgb(237,237,237)\",\"ticklen\":6,\"ticks\":\"inside\"}},\"type\":\"scattergl\"}],\"scattermapbox\":[{\"marker\":{\"colorbar\":{\"outlinewidth\":0,\"tickcolor\":\"rgb(237,237,237)\",\"ticklen\":6,\"ticks\":\"inside\"}},\"type\":\"scattermapbox\"}],\"scatterpolargl\":[{\"marker\":{\"colorbar\":{\"outlinewidth\":0,\"tickcolor\":\"rgb(237,237,237)\",\"ticklen\":6,\"ticks\":\"inside\"}},\"type\":\"scatterpolargl\"}],\"scatterpolar\":[{\"marker\":{\"colorbar\":{\"outlinewidth\":0,\"tickcolor\":\"rgb(237,237,237)\",\"ticklen\":6,\"ticks\":\"inside\"}},\"type\":\"scatterpolar\"}],\"scatter\":[{\"fillpattern\":{\"fillmode\":\"overlay\",\"size\":10,\"solidity\":0.2},\"type\":\"scatter\"}],\"scatterternary\":[{\"marker\":{\"colorbar\":{\"outlinewidth\":0,\"tickcolor\":\"rgb(237,237,237)\",\"ticklen\":6,\"ticks\":\"inside\"}},\"type\":\"scatterternary\"}],\"surface\":[{\"colorbar\":{\"outlinewidth\":0,\"tickcolor\":\"rgb(237,237,237)\",\"ticklen\":6,\"ticks\":\"inside\"},\"colorscale\":[[0,\"rgb(20,44,66)\"],[1,\"rgb(90,179,244)\"]],\"type\":\"surface\"}],\"table\":[{\"cells\":{\"fill\":{\"color\":\"rgb(237,237,237)\"},\"line\":{\"color\":\"white\"}},\"header\":{\"fill\":{\"color\":\"rgb(217,217,217)\"},\"line\":{\"color\":\"white\"}},\"type\":\"table\"}]},\"layout\":{\"annotationdefaults\":{\"arrowhead\":0,\"arrowwidth\":1},\"autotypenumbers\":\"strict\",\"coloraxis\":{\"colorbar\":{\"outlinewidth\":0,\"tickcolor\":\"rgb(237,237,237)\",\"ticklen\":6,\"ticks\":\"inside\"}},\"colorscale\":{\"sequential\":[[0,\"rgb(20,44,66)\"],[1,\"rgb(90,179,244)\"]],\"sequentialminus\":[[0,\"rgb(20,44,66)\"],[1,\"rgb(90,179,244)\"]]},\"colorway\":[\"#F8766D\",\"#A3A500\",\"#00BF7D\",\"#00B0F6\",\"#E76BF3\"],\"font\":{\"color\":\"rgb(51,51,51)\"},\"geo\":{\"bgcolor\":\"white\",\"lakecolor\":\"white\",\"landcolor\":\"rgb(237,237,237)\",\"showlakes\":true,\"showland\":true,\"subunitcolor\":\"white\"},\"hoverlabel\":{\"align\":\"left\"},\"hovermode\":\"closest\",\"paper_bgcolor\":\"white\",\"plot_bgcolor\":\"rgb(237,237,237)\",\"polar\":{\"angularaxis\":{\"gridcolor\":\"white\",\"linecolor\":\"white\",\"showgrid\":true,\"tickcolor\":\"rgb(51,51,51)\",\"ticks\":\"outside\"},\"bgcolor\":\"rgb(237,237,237)\",\"radialaxis\":{\"gridcolor\":\"white\",\"linecolor\":\"white\",\"showgrid\":true,\"tickcolor\":\"rgb(51,51,51)\",\"ticks\":\"outside\"}},\"scene\":{\"xaxis\":{\"backgroundcolor\":\"rgb(237,237,237)\",\"gridcolor\":\"white\",\"gridwidth\":2,\"linecolor\":\"white\",\"showbackground\":true,\"showgrid\":true,\"tickcolor\":\"rgb(51,51,51)\",\"ticks\":\"outside\",\"zerolinecolor\":\"white\"},\"yaxis\":{\"backgroundcolor\":\"rgb(237,237,237)\",\"gridcolor\":\"white\",\"gridwidth\":2,\"linecolor\":\"white\",\"showbackground\":true,\"showgrid\":true,\"tickcolor\":\"rgb(51,51,51)\",\"ticks\":\"outside\",\"zerolinecolor\":\"white\"},\"zaxis\":{\"backgroundcolor\":\"rgb(237,237,237)\",\"gridcolor\":\"white\",\"gridwidth\":2,\"linecolor\":\"white\",\"showbackground\":true,\"showgrid\":true,\"tickcolor\":\"rgb(51,51,51)\",\"ticks\":\"outside\",\"zerolinecolor\":\"white\"}},\"shapedefaults\":{\"fillcolor\":\"black\",\"line\":{\"width\":0},\"opacity\":0.3},\"ternary\":{\"aaxis\":{\"gridcolor\":\"white\",\"linecolor\":\"white\",\"showgrid\":true,\"tickcolor\":\"rgb(51,51,51)\",\"ticks\":\"outside\"},\"baxis\":{\"gridcolor\":\"white\",\"linecolor\":\"white\",\"showgrid\":true,\"tickcolor\":\"rgb(51,51,51)\",\"ticks\":\"outside\"},\"bgcolor\":\"rgb(237,237,237)\",\"caxis\":{\"gridcolor\":\"white\",\"linecolor\":\"white\",\"showgrid\":true,\"tickcolor\":\"rgb(51,51,51)\",\"ticks\":\"outside\"}},\"xaxis\":{\"automargin\":true,\"gridcolor\":\"white\",\"linecolor\":\"white\",\"showgrid\":true,\"tickcolor\":\"rgb(51,51,51)\",\"ticks\":\"outside\",\"title\":{\"standoff\":15},\"zerolinecolor\":\"white\"},\"yaxis\":{\"automargin\":true,\"gridcolor\":\"white\",\"linecolor\":\"white\",\"showgrid\":true,\"tickcolor\":\"rgb(51,51,51)\",\"ticks\":\"outside\",\"title\":{\"standoff\":15},\"zerolinecolor\":\"white\"}}},\"legend\":{\"orientation\":\"h\",\"yanchor\":\"bottom\",\"y\":0,\"xanchor\":\"center\",\"x\":0.5},\"margin\":{\"b\":0,\"t\":0,\"l\":0,\"r\":0},\"height\":250},                        {\"responsive\": true}                    ).then(function(){\n",
       "                            \n",
       "var gd = document.getElementById('ca14135b-b8ec-4f0e-9882-b3be68b60836');\n",
       "var x = new MutationObserver(function (mutations, observer) {{\n",
       "        var display = window.getComputedStyle(gd).display;\n",
       "        if (!display || display === 'none') {{\n",
       "            console.log([gd, 'removed!']);\n",
       "            Plotly.purge(gd);\n",
       "            observer.disconnect();\n",
       "        }}\n",
       "}});\n",
       "\n",
       "// Listen for the removal of the full notebook cells\n",
       "var notebookContainer = gd.closest('#notebook-container');\n",
       "if (notebookContainer) {{\n",
       "    x.observe(notebookContainer, {childList: true});\n",
       "}}\n",
       "\n",
       "// Listen for the clearing of the current output cell\n",
       "var outputEl = gd.closest('.output');\n",
       "if (outputEl) {{\n",
       "    x.observe(outputEl, {childList: true});\n",
       "}}\n",
       "\n",
       "                        })                };                });            </script>        </div>"
      ]
     },
     "metadata": {},
     "output_type": "display_data"
    }
   ],
   "source": [
    "draw_admit_mh_issue_in_interview_plt(country)"
   ]
  },
  {
   "cell_type": "markdown",
   "metadata": {
    "id": "7M5CqTg6KpEG"
   },
   "source": [
    "#### line chart for yes responses Vs years years"
   ]
  },
  {
   "cell_type": "code",
   "execution_count": 199,
   "metadata": {
    "executionInfo": {
     "elapsed": 62,
     "status": "aborted",
     "timestamp": 1654337002857,
     "user": {
      "displayName": "habiba mohamed",
      "userId": "01346726008568088997"
     },
     "user_tz": -120
    },
    "id": "tmMPIka0KpEG"
   },
   "outputs": [
    {
     "data": {
      "text/html": [
       "<div>                            <div id=\"2ff88471-4b1c-4b39-b208-d9343bdea6d0\" class=\"plotly-graph-div\" style=\"height:350px; width:100%;\"></div>            <script type=\"text/javascript\">                require([\"plotly\"], function(Plotly) {                    window.PLOTLYENV=window.PLOTLYENV || {};                                    if (document.getElementById(\"2ff88471-4b1c-4b39-b208-d9343bdea6d0\")) {                    Plotly.newPlot(                        \"2ff88471-4b1c-4b39-b208-d9343bdea6d0\",                        [{\"line\":{\"color\":\"#622569\",\"width\":4},\"name\":\"Physical\",\"x\":[\"2017\",\"2018\",\"2019\",\"2020\"],\"y\":[18,18,23,33],\"type\":\"scatter\"},{\"line\":{\"color\":\"#5b9aa0\",\"dash\":\"dash\",\"width\":4},\"name\":\"Mental\",\"x\":[\"2017\",\"2018\",\"2019\",\"2020\"],\"y\":[4,3,6,3],\"type\":\"scatter\"}],                        {\"template\":{\"data\":{\"histogram2dcontour\":[{\"type\":\"histogram2dcontour\",\"colorbar\":{\"outlinewidth\":0,\"ticks\":\"\"},\"colorscale\":[[0.0,\"#0d0887\"],[0.1111111111111111,\"#46039f\"],[0.2222222222222222,\"#7201a8\"],[0.3333333333333333,\"#9c179e\"],[0.4444444444444444,\"#bd3786\"],[0.5555555555555556,\"#d8576b\"],[0.6666666666666666,\"#ed7953\"],[0.7777777777777778,\"#fb9f3a\"],[0.8888888888888888,\"#fdca26\"],[1.0,\"#f0f921\"]]}],\"choropleth\":[{\"type\":\"choropleth\",\"colorbar\":{\"outlinewidth\":0,\"ticks\":\"\"}}],\"histogram2d\":[{\"type\":\"histogram2d\",\"colorbar\":{\"outlinewidth\":0,\"ticks\":\"\"},\"colorscale\":[[0.0,\"#0d0887\"],[0.1111111111111111,\"#46039f\"],[0.2222222222222222,\"#7201a8\"],[0.3333333333333333,\"#9c179e\"],[0.4444444444444444,\"#bd3786\"],[0.5555555555555556,\"#d8576b\"],[0.6666666666666666,\"#ed7953\"],[0.7777777777777778,\"#fb9f3a\"],[0.8888888888888888,\"#fdca26\"],[1.0,\"#f0f921\"]]}],\"heatmap\":[{\"type\":\"heatmap\",\"colorbar\":{\"outlinewidth\":0,\"ticks\":\"\"},\"colorscale\":[[0.0,\"#0d0887\"],[0.1111111111111111,\"#46039f\"],[0.2222222222222222,\"#7201a8\"],[0.3333333333333333,\"#9c179e\"],[0.4444444444444444,\"#bd3786\"],[0.5555555555555556,\"#d8576b\"],[0.6666666666666666,\"#ed7953\"],[0.7777777777777778,\"#fb9f3a\"],[0.8888888888888888,\"#fdca26\"],[1.0,\"#f0f921\"]]}],\"heatmapgl\":[{\"type\":\"heatmapgl\",\"colorbar\":{\"outlinewidth\":0,\"ticks\":\"\"},\"colorscale\":[[0.0,\"#0d0887\"],[0.1111111111111111,\"#46039f\"],[0.2222222222222222,\"#7201a8\"],[0.3333333333333333,\"#9c179e\"],[0.4444444444444444,\"#bd3786\"],[0.5555555555555556,\"#d8576b\"],[0.6666666666666666,\"#ed7953\"],[0.7777777777777778,\"#fb9f3a\"],[0.8888888888888888,\"#fdca26\"],[1.0,\"#f0f921\"]]}],\"contourcarpet\":[{\"type\":\"contourcarpet\",\"colorbar\":{\"outlinewidth\":0,\"ticks\":\"\"}}],\"contour\":[{\"type\":\"contour\",\"colorbar\":{\"outlinewidth\":0,\"ticks\":\"\"},\"colorscale\":[[0.0,\"#0d0887\"],[0.1111111111111111,\"#46039f\"],[0.2222222222222222,\"#7201a8\"],[0.3333333333333333,\"#9c179e\"],[0.4444444444444444,\"#bd3786\"],[0.5555555555555556,\"#d8576b\"],[0.6666666666666666,\"#ed7953\"],[0.7777777777777778,\"#fb9f3a\"],[0.8888888888888888,\"#fdca26\"],[1.0,\"#f0f921\"]]}],\"surface\":[{\"type\":\"surface\",\"colorbar\":{\"outlinewidth\":0,\"ticks\":\"\"},\"colorscale\":[[0.0,\"#0d0887\"],[0.1111111111111111,\"#46039f\"],[0.2222222222222222,\"#7201a8\"],[0.3333333333333333,\"#9c179e\"],[0.4444444444444444,\"#bd3786\"],[0.5555555555555556,\"#d8576b\"],[0.6666666666666666,\"#ed7953\"],[0.7777777777777778,\"#fb9f3a\"],[0.8888888888888888,\"#fdca26\"],[1.0,\"#f0f921\"]]}],\"mesh3d\":[{\"type\":\"mesh3d\",\"colorbar\":{\"outlinewidth\":0,\"ticks\":\"\"}}],\"scatter\":[{\"fillpattern\":{\"fillmode\":\"overlay\",\"size\":10,\"solidity\":0.2},\"type\":\"scatter\"}],\"parcoords\":[{\"type\":\"parcoords\",\"line\":{\"colorbar\":{\"outlinewidth\":0,\"ticks\":\"\"}}}],\"scatterpolargl\":[{\"type\":\"scatterpolargl\",\"marker\":{\"colorbar\":{\"outlinewidth\":0,\"ticks\":\"\"}}}],\"bar\":[{\"error_x\":{\"color\":\"#2a3f5f\"},\"error_y\":{\"color\":\"#2a3f5f\"},\"marker\":{\"line\":{\"color\":\"#E5ECF6\",\"width\":0.5},\"pattern\":{\"fillmode\":\"overlay\",\"size\":10,\"solidity\":0.2}},\"type\":\"bar\"}],\"scattergeo\":[{\"type\":\"scattergeo\",\"marker\":{\"colorbar\":{\"outlinewidth\":0,\"ticks\":\"\"}}}],\"scatterpolar\":[{\"type\":\"scatterpolar\",\"marker\":{\"colorbar\":{\"outlinewidth\":0,\"ticks\":\"\"}}}],\"histogram\":[{\"marker\":{\"pattern\":{\"fillmode\":\"overlay\",\"size\":10,\"solidity\":0.2}},\"type\":\"histogram\"}],\"scattergl\":[{\"type\":\"scattergl\",\"marker\":{\"colorbar\":{\"outlinewidth\":0,\"ticks\":\"\"}}}],\"scatter3d\":[{\"type\":\"scatter3d\",\"line\":{\"colorbar\":{\"outlinewidth\":0,\"ticks\":\"\"}},\"marker\":{\"colorbar\":{\"outlinewidth\":0,\"ticks\":\"\"}}}],\"scattermapbox\":[{\"type\":\"scattermapbox\",\"marker\":{\"colorbar\":{\"outlinewidth\":0,\"ticks\":\"\"}}}],\"scatterternary\":[{\"type\":\"scatterternary\",\"marker\":{\"colorbar\":{\"outlinewidth\":0,\"ticks\":\"\"}}}],\"scattercarpet\":[{\"type\":\"scattercarpet\",\"marker\":{\"colorbar\":{\"outlinewidth\":0,\"ticks\":\"\"}}}],\"carpet\":[{\"aaxis\":{\"endlinecolor\":\"#2a3f5f\",\"gridcolor\":\"white\",\"linecolor\":\"white\",\"minorgridcolor\":\"white\",\"startlinecolor\":\"#2a3f5f\"},\"baxis\":{\"endlinecolor\":\"#2a3f5f\",\"gridcolor\":\"white\",\"linecolor\":\"white\",\"minorgridcolor\":\"white\",\"startlinecolor\":\"#2a3f5f\"},\"type\":\"carpet\"}],\"table\":[{\"cells\":{\"fill\":{\"color\":\"#EBF0F8\"},\"line\":{\"color\":\"white\"}},\"header\":{\"fill\":{\"color\":\"#C8D4E3\"},\"line\":{\"color\":\"white\"}},\"type\":\"table\"}],\"barpolar\":[{\"marker\":{\"line\":{\"color\":\"#E5ECF6\",\"width\":0.5},\"pattern\":{\"fillmode\":\"overlay\",\"size\":10,\"solidity\":0.2}},\"type\":\"barpolar\"}],\"pie\":[{\"automargin\":true,\"type\":\"pie\"}]},\"layout\":{\"autotypenumbers\":\"strict\",\"colorway\":[\"#636efa\",\"#EF553B\",\"#00cc96\",\"#ab63fa\",\"#FFA15A\",\"#19d3f3\",\"#FF6692\",\"#B6E880\",\"#FF97FF\",\"#FECB52\"],\"font\":{\"color\":\"#2a3f5f\"},\"hovermode\":\"closest\",\"hoverlabel\":{\"align\":\"left\"},\"paper_bgcolor\":\"white\",\"plot_bgcolor\":\"#E5ECF6\",\"polar\":{\"bgcolor\":\"#E5ECF6\",\"angularaxis\":{\"gridcolor\":\"white\",\"linecolor\":\"white\",\"ticks\":\"\"},\"radialaxis\":{\"gridcolor\":\"white\",\"linecolor\":\"white\",\"ticks\":\"\"}},\"ternary\":{\"bgcolor\":\"#E5ECF6\",\"aaxis\":{\"gridcolor\":\"white\",\"linecolor\":\"white\",\"ticks\":\"\"},\"baxis\":{\"gridcolor\":\"white\",\"linecolor\":\"white\",\"ticks\":\"\"},\"caxis\":{\"gridcolor\":\"white\",\"linecolor\":\"white\",\"ticks\":\"\"}},\"coloraxis\":{\"colorbar\":{\"outlinewidth\":0,\"ticks\":\"\"}},\"colorscale\":{\"sequential\":[[0.0,\"#0d0887\"],[0.1111111111111111,\"#46039f\"],[0.2222222222222222,\"#7201a8\"],[0.3333333333333333,\"#9c179e\"],[0.4444444444444444,\"#bd3786\"],[0.5555555555555556,\"#d8576b\"],[0.6666666666666666,\"#ed7953\"],[0.7777777777777778,\"#fb9f3a\"],[0.8888888888888888,\"#fdca26\"],[1.0,\"#f0f921\"]],\"sequentialminus\":[[0.0,\"#0d0887\"],[0.1111111111111111,\"#46039f\"],[0.2222222222222222,\"#7201a8\"],[0.3333333333333333,\"#9c179e\"],[0.4444444444444444,\"#bd3786\"],[0.5555555555555556,\"#d8576b\"],[0.6666666666666666,\"#ed7953\"],[0.7777777777777778,\"#fb9f3a\"],[0.8888888888888888,\"#fdca26\"],[1.0,\"#f0f921\"]],\"diverging\":[[0,\"#8e0152\"],[0.1,\"#c51b7d\"],[0.2,\"#de77ae\"],[0.3,\"#f1b6da\"],[0.4,\"#fde0ef\"],[0.5,\"#f7f7f7\"],[0.6,\"#e6f5d0\"],[0.7,\"#b8e186\"],[0.8,\"#7fbc41\"],[0.9,\"#4d9221\"],[1,\"#276419\"]]},\"xaxis\":{\"gridcolor\":\"white\",\"linecolor\":\"white\",\"ticks\":\"\",\"title\":{\"standoff\":15},\"zerolinecolor\":\"white\",\"automargin\":true,\"zerolinewidth\":2},\"yaxis\":{\"gridcolor\":\"white\",\"linecolor\":\"white\",\"ticks\":\"\",\"title\":{\"standoff\":15},\"zerolinecolor\":\"white\",\"automargin\":true,\"zerolinewidth\":2},\"scene\":{\"xaxis\":{\"backgroundcolor\":\"#E5ECF6\",\"gridcolor\":\"white\",\"linecolor\":\"white\",\"showbackground\":true,\"ticks\":\"\",\"zerolinecolor\":\"white\",\"gridwidth\":2},\"yaxis\":{\"backgroundcolor\":\"#E5ECF6\",\"gridcolor\":\"white\",\"linecolor\":\"white\",\"showbackground\":true,\"ticks\":\"\",\"zerolinecolor\":\"white\",\"gridwidth\":2},\"zaxis\":{\"backgroundcolor\":\"#E5ECF6\",\"gridcolor\":\"white\",\"linecolor\":\"white\",\"showbackground\":true,\"ticks\":\"\",\"zerolinecolor\":\"white\",\"gridwidth\":2}},\"shapedefaults\":{\"line\":{\"color\":\"#2a3f5f\"}},\"annotationdefaults\":{\"arrowcolor\":\"#2a3f5f\",\"arrowhead\":0,\"arrowwidth\":1},\"geo\":{\"bgcolor\":\"white\",\"landcolor\":\"#E5ECF6\",\"subunitcolor\":\"white\",\"showland\":true,\"showlakes\":true,\"lakecolor\":\"white\"},\"title\":{\"x\":0.05},\"mapbox\":{\"style\":\"light\"}}},\"yaxis\":{\"range\":[0,100],\"title\":{\"text\":\"Percent\"}},\"legend\":{\"xanchor\":\"right\",\"x\":1,\"title\":{\"text\":\"IN USA : \"}},\"margin\":{\"b\":0,\"t\":0,\"l\":0,\"r\":0},\"title\":{\"font\":{\"size\":14}},\"xaxis\":{\"title\":{\"text\":\"Year\"}},\"height\":350},                        {\"responsive\": true}                    ).then(function(){\n",
       "                            \n",
       "var gd = document.getElementById('2ff88471-4b1c-4b39-b208-d9343bdea6d0');\n",
       "var x = new MutationObserver(function (mutations, observer) {{\n",
       "        var display = window.getComputedStyle(gd).display;\n",
       "        if (!display || display === 'none') {{\n",
       "            console.log([gd, 'removed!']);\n",
       "            Plotly.purge(gd);\n",
       "            observer.disconnect();\n",
       "        }}\n",
       "}});\n",
       "\n",
       "// Listen for the removal of the full notebook cells\n",
       "var notebookContainer = gd.closest('#notebook-container');\n",
       "if (notebookContainer) {{\n",
       "    x.observe(notebookContainer, {childList: true});\n",
       "}}\n",
       "\n",
       "// Listen for the clearing of the current output cell\n",
       "var outputEl = gd.closest('.output');\n",
       "if (outputEl) {{\n",
       "    x.observe(outputEl, {childList: true});\n",
       "}}\n",
       "\n",
       "                        })                };                });            </script>        </div>"
      ]
     },
     "metadata": {},
     "output_type": "display_data"
    }
   ],
   "source": [
    "def draw_MH_interview (country): \n",
    "\n",
    "   ############################################## Calculations #################################################\n",
    "   admit_ph_issue_in_interview  = prep_data[prep_data['tech_role_flag'] == 1 ][['year', 'country_work_in', 'admit_ph_issue_in_interview']]\\\n",
    "            .groupby(by = ['year', 'country_work_in'])\\\n",
    "            .size().reset_index().sort_values(by=['year','country_work_in']).rename(columns = {0 : 'no.samples'})\n",
    "   admit_mh_issue_in_interview  = prep_data[prep_data['tech_role_flag'] == 1 ][['year', 'country_work_in', 'admit_mh_issue_in_interview']]\\\n",
    "               .groupby(by = ['year', 'country_work_in'])\\\n",
    "               .size().reset_index().sort_values(by=['year','country_work_in']).rename(columns = {0 : 'no.samples'})\n",
    "\n",
    "   ####------------------- admit physical health problems in an interview -----------------####\n",
    "   #### Get the avarage of each country by its own (yes, no, maybe) / no.samples each years to avoid imbalance \n",
    "   ## build my dataframe\n",
    "   admit_ph_issue_in_interview_avg  = prep_data[(prep_data['tech_role_flag'] == 1 ) & ( np.isin(prep_data['country_work_in'], country))][['year', 'country_work_in', 'admit_ph_issue_in_interview']]\\\n",
    "               .groupby(by = ['year', 'country_work_in', 'admit_ph_issue_in_interview' ])\\\n",
    "               .size().reset_index().sort_values(by=['year','country_work_in']).rename(columns = {0 : 'count'})\n",
    "   admit_ph_issue_in_interview_avg['Avg'] = 0 \n",
    "   ## get the avarage for each country\n",
    "   for outer_row, outer_col in admit_ph_issue_in_interview.iterrows() :\n",
    "      avg_year = outer_col['year']\n",
    "      avg_country_work_in = outer_col['country_work_in']\n",
    "      no_samples = outer_col['no.samples']\n",
    "      for inside_row, inside_col in admit_ph_issue_in_interview_avg.iterrows() :\n",
    "         year = inside_col['year']\n",
    "         country_work_in = inside_col['country_work_in']\n",
    "         count = inside_col['count']\n",
    "         Avg = inside_col['Avg']\n",
    "         if year == avg_year and country_work_in == avg_country_work_in:\n",
    "               admit_ph_issue_in_interview_avg['Avg'][inside_row] = round((count / no_samples) * 100)\n",
    "   ## my responses for each country   \n",
    "   yes_for_ph = admit_ph_issue_in_interview_avg[admit_ph_issue_in_interview_avg['admit_ph_issue_in_interview'] == 2]\n",
    "   No_for_ph = admit_ph_issue_in_interview_avg[admit_ph_issue_in_interview_avg['admit_ph_issue_in_interview'] == 1]\n",
    "   maybe_for_ph = admit_ph_issue_in_interview_avg[admit_ph_issue_in_interview_avg['admit_ph_issue_in_interview'] == 0]\n",
    "\n",
    "   ####------------------ admit Mental health problems in an interview -------------------####\n",
    "\n",
    "   #### Get the avarage of each country by its own (yes, no, maybe) / no.samples each years to avoid imbalance \n",
    "   ## build my dataframe\n",
    "   admit_mh_issue_in_interview_avg  = prep_data[(prep_data['tech_role_flag'] == 1 ) & ( np.isin(prep_data['country_work_in'], country))][['year', 'country_work_in', 'admit_mh_issue_in_interview']]\\\n",
    "               .groupby(by = ['year', 'country_work_in', 'admit_mh_issue_in_interview' ])\\\n",
    "               .size().reset_index().sort_values(by=['year','country_work_in']).rename(columns = {0 : 'count'})\n",
    "   admit_mh_issue_in_interview_avg['Avg'] = 0 \n",
    "   ## get the avarage for each country\n",
    "   for outer_row, outer_col in admit_mh_issue_in_interview.iterrows() :\n",
    "      avg_year = outer_col['year']\n",
    "      avg_country_work_in = outer_col['country_work_in']\n",
    "      no_samples = outer_col['no.samples']\n",
    "      for inside_row, inside_col in admit_mh_issue_in_interview_avg.iterrows() :\n",
    "         year = inside_col['year']\n",
    "         country_work_in = inside_col['country_work_in']\n",
    "         count = inside_col['count']\n",
    "         Avg = inside_col['Avg']\n",
    "         if year == avg_year and country_work_in == avg_country_work_in:\n",
    "               admit_mh_issue_in_interview_avg['Avg'][inside_row] = round((count / no_samples) * 100)\n",
    "   ## my responses for each country   \n",
    "   yes_for_mh = admit_mh_issue_in_interview_avg[admit_mh_issue_in_interview_avg['admit_mh_issue_in_interview'] == 2]\n",
    "   No_for_mh = admit_mh_issue_in_interview_avg[admit_mh_issue_in_interview_avg['admit_mh_issue_in_interview'] == 1]\n",
    "   maybe_for_mh = admit_mh_issue_in_interview_avg[admit_mh_issue_in_interview_avg['admit_mh_issue_in_interview'] == 0]\n",
    "\n",
    "   ################################################## Plot  ####################################################\n",
    "   MH_interview = go.Figure()\n",
    "   MH_interview.add_trace(go.Scatter(x=yes_for_ph['year'], y=yes_for_ph['Avg'], name='Physical',\n",
    "                           line=dict(color='#622569', width=4)))\n",
    "   MH_interview.add_trace(go.Scatter(x=yes_for_mh['year'], y=yes_for_mh['Avg'], name='Mental',\n",
    "                           line=dict(color='#5b9aa0', width=4, dash='dash')))\n",
    "\n",
    "   MH_interview.update_yaxes(range = [0, 100])\n",
    "   MH_interview.update_layout(\n",
    "                     xaxis_title='Year',\n",
    "                     yaxis_title='Percent', \n",
    "                     legend=dict(xanchor = 'right', x = 1),\n",
    "                     legend_title = (f'IN {country} : '),\n",
    "                     margin=dict(b = 0, t = 0, l = 0, r = 0),\n",
    "                     title_font_size = 14,\n",
    "                     height = 350 \n",
    "                     )\n",
    "   return MH_interview\n",
    "draw_MH_interview (\"USA\")"
   ]
  },
  {
   "cell_type": "markdown",
   "metadata": {},
   "source": [
    "### Mental Health Resources Provided \n",
    "\n",
    "Does your employer offer resources to learn more about mental health disorders and options for seeking help? <br>\n",
    "Has your employer ever formally discussed mental health (for example, as part of a wellness campaign or other official communication)?"
   ]
  },
  {
   "cell_type": "code",
   "execution_count": 200,
   "metadata": {},
   "outputs": [
    {
     "data": {
      "text/html": [
       "<div>                            <div id=\"16d90c2b-b51c-4407-a7d4-96b0f44739ac\" class=\"plotly-graph-div\" style=\"height:400px; width:100%;\"></div>            <script type=\"text/javascript\">                require([\"plotly\"], function(Plotly) {                    window.PLOTLYENV=window.PLOTLYENV || {};                                    if (document.getElementById(\"16d90c2b-b51c-4407-a7d4-96b0f44739ac\")) {                    Plotly.newPlot(                        \"16d90c2b-b51c-4407-a7d4-96b0f44739ac\",                        [{\"hole\":0.6,\"labels\":[\"No\",\"I don't know\",\"Yes\"],\"pull\":[0,0,0.15,0],\"rotation\":30,\"values\":[0.4446227929373997,0.2552166934189406,0.3001605136436597],\"type\":\"pie\",\"marker\":{\"line\":{\"color\":\"#FFF\",\"width\":2},\"colors\":[\"#622569\",\"#b7d7e8\",\"#5b9aa0\"]},\"textfont\":{\"size\":12},\"title\":{\"text\":\"Resources Provided\",\"font\":{\"size\":15},\"position\":\"middle center\"},\"hoverinfo\":\"label+percent\"}],                        {\"template\":{\"data\":{\"histogram2dcontour\":[{\"type\":\"histogram2dcontour\",\"colorbar\":{\"outlinewidth\":0,\"ticks\":\"\"},\"colorscale\":[[0.0,\"#0d0887\"],[0.1111111111111111,\"#46039f\"],[0.2222222222222222,\"#7201a8\"],[0.3333333333333333,\"#9c179e\"],[0.4444444444444444,\"#bd3786\"],[0.5555555555555556,\"#d8576b\"],[0.6666666666666666,\"#ed7953\"],[0.7777777777777778,\"#fb9f3a\"],[0.8888888888888888,\"#fdca26\"],[1.0,\"#f0f921\"]]}],\"choropleth\":[{\"type\":\"choropleth\",\"colorbar\":{\"outlinewidth\":0,\"ticks\":\"\"}}],\"histogram2d\":[{\"type\":\"histogram2d\",\"colorbar\":{\"outlinewidth\":0,\"ticks\":\"\"},\"colorscale\":[[0.0,\"#0d0887\"],[0.1111111111111111,\"#46039f\"],[0.2222222222222222,\"#7201a8\"],[0.3333333333333333,\"#9c179e\"],[0.4444444444444444,\"#bd3786\"],[0.5555555555555556,\"#d8576b\"],[0.6666666666666666,\"#ed7953\"],[0.7777777777777778,\"#fb9f3a\"],[0.8888888888888888,\"#fdca26\"],[1.0,\"#f0f921\"]]}],\"heatmap\":[{\"type\":\"heatmap\",\"colorbar\":{\"outlinewidth\":0,\"ticks\":\"\"},\"colorscale\":[[0.0,\"#0d0887\"],[0.1111111111111111,\"#46039f\"],[0.2222222222222222,\"#7201a8\"],[0.3333333333333333,\"#9c179e\"],[0.4444444444444444,\"#bd3786\"],[0.5555555555555556,\"#d8576b\"],[0.6666666666666666,\"#ed7953\"],[0.7777777777777778,\"#fb9f3a\"],[0.8888888888888888,\"#fdca26\"],[1.0,\"#f0f921\"]]}],\"heatmapgl\":[{\"type\":\"heatmapgl\",\"colorbar\":{\"outlinewidth\":0,\"ticks\":\"\"},\"colorscale\":[[0.0,\"#0d0887\"],[0.1111111111111111,\"#46039f\"],[0.2222222222222222,\"#7201a8\"],[0.3333333333333333,\"#9c179e\"],[0.4444444444444444,\"#bd3786\"],[0.5555555555555556,\"#d8576b\"],[0.6666666666666666,\"#ed7953\"],[0.7777777777777778,\"#fb9f3a\"],[0.8888888888888888,\"#fdca26\"],[1.0,\"#f0f921\"]]}],\"contourcarpet\":[{\"type\":\"contourcarpet\",\"colorbar\":{\"outlinewidth\":0,\"ticks\":\"\"}}],\"contour\":[{\"type\":\"contour\",\"colorbar\":{\"outlinewidth\":0,\"ticks\":\"\"},\"colorscale\":[[0.0,\"#0d0887\"],[0.1111111111111111,\"#46039f\"],[0.2222222222222222,\"#7201a8\"],[0.3333333333333333,\"#9c179e\"],[0.4444444444444444,\"#bd3786\"],[0.5555555555555556,\"#d8576b\"],[0.6666666666666666,\"#ed7953\"],[0.7777777777777778,\"#fb9f3a\"],[0.8888888888888888,\"#fdca26\"],[1.0,\"#f0f921\"]]}],\"surface\":[{\"type\":\"surface\",\"colorbar\":{\"outlinewidth\":0,\"ticks\":\"\"},\"colorscale\":[[0.0,\"#0d0887\"],[0.1111111111111111,\"#46039f\"],[0.2222222222222222,\"#7201a8\"],[0.3333333333333333,\"#9c179e\"],[0.4444444444444444,\"#bd3786\"],[0.5555555555555556,\"#d8576b\"],[0.6666666666666666,\"#ed7953\"],[0.7777777777777778,\"#fb9f3a\"],[0.8888888888888888,\"#fdca26\"],[1.0,\"#f0f921\"]]}],\"mesh3d\":[{\"type\":\"mesh3d\",\"colorbar\":{\"outlinewidth\":0,\"ticks\":\"\"}}],\"scatter\":[{\"fillpattern\":{\"fillmode\":\"overlay\",\"size\":10,\"solidity\":0.2},\"type\":\"scatter\"}],\"parcoords\":[{\"type\":\"parcoords\",\"line\":{\"colorbar\":{\"outlinewidth\":0,\"ticks\":\"\"}}}],\"scatterpolargl\":[{\"type\":\"scatterpolargl\",\"marker\":{\"colorbar\":{\"outlinewidth\":0,\"ticks\":\"\"}}}],\"bar\":[{\"error_x\":{\"color\":\"#2a3f5f\"},\"error_y\":{\"color\":\"#2a3f5f\"},\"marker\":{\"line\":{\"color\":\"#E5ECF6\",\"width\":0.5},\"pattern\":{\"fillmode\":\"overlay\",\"size\":10,\"solidity\":0.2}},\"type\":\"bar\"}],\"scattergeo\":[{\"type\":\"scattergeo\",\"marker\":{\"colorbar\":{\"outlinewidth\":0,\"ticks\":\"\"}}}],\"scatterpolar\":[{\"type\":\"scatterpolar\",\"marker\":{\"colorbar\":{\"outlinewidth\":0,\"ticks\":\"\"}}}],\"histogram\":[{\"marker\":{\"pattern\":{\"fillmode\":\"overlay\",\"size\":10,\"solidity\":0.2}},\"type\":\"histogram\"}],\"scattergl\":[{\"type\":\"scattergl\",\"marker\":{\"colorbar\":{\"outlinewidth\":0,\"ticks\":\"\"}}}],\"scatter3d\":[{\"type\":\"scatter3d\",\"line\":{\"colorbar\":{\"outlinewidth\":0,\"ticks\":\"\"}},\"marker\":{\"colorbar\":{\"outlinewidth\":0,\"ticks\":\"\"}}}],\"scattermapbox\":[{\"type\":\"scattermapbox\",\"marker\":{\"colorbar\":{\"outlinewidth\":0,\"ticks\":\"\"}}}],\"scatterternary\":[{\"type\":\"scatterternary\",\"marker\":{\"colorbar\":{\"outlinewidth\":0,\"ticks\":\"\"}}}],\"scattercarpet\":[{\"type\":\"scattercarpet\",\"marker\":{\"colorbar\":{\"outlinewidth\":0,\"ticks\":\"\"}}}],\"carpet\":[{\"aaxis\":{\"endlinecolor\":\"#2a3f5f\",\"gridcolor\":\"white\",\"linecolor\":\"white\",\"minorgridcolor\":\"white\",\"startlinecolor\":\"#2a3f5f\"},\"baxis\":{\"endlinecolor\":\"#2a3f5f\",\"gridcolor\":\"white\",\"linecolor\":\"white\",\"minorgridcolor\":\"white\",\"startlinecolor\":\"#2a3f5f\"},\"type\":\"carpet\"}],\"table\":[{\"cells\":{\"fill\":{\"color\":\"#EBF0F8\"},\"line\":{\"color\":\"white\"}},\"header\":{\"fill\":{\"color\":\"#C8D4E3\"},\"line\":{\"color\":\"white\"}},\"type\":\"table\"}],\"barpolar\":[{\"marker\":{\"line\":{\"color\":\"#E5ECF6\",\"width\":0.5},\"pattern\":{\"fillmode\":\"overlay\",\"size\":10,\"solidity\":0.2}},\"type\":\"barpolar\"}],\"pie\":[{\"automargin\":true,\"type\":\"pie\"}]},\"layout\":{\"autotypenumbers\":\"strict\",\"colorway\":[\"#636efa\",\"#EF553B\",\"#00cc96\",\"#ab63fa\",\"#FFA15A\",\"#19d3f3\",\"#FF6692\",\"#B6E880\",\"#FF97FF\",\"#FECB52\"],\"font\":{\"color\":\"#2a3f5f\"},\"hovermode\":\"closest\",\"hoverlabel\":{\"align\":\"left\"},\"paper_bgcolor\":\"white\",\"plot_bgcolor\":\"#E5ECF6\",\"polar\":{\"bgcolor\":\"#E5ECF6\",\"angularaxis\":{\"gridcolor\":\"white\",\"linecolor\":\"white\",\"ticks\":\"\"},\"radialaxis\":{\"gridcolor\":\"white\",\"linecolor\":\"white\",\"ticks\":\"\"}},\"ternary\":{\"bgcolor\":\"#E5ECF6\",\"aaxis\":{\"gridcolor\":\"white\",\"linecolor\":\"white\",\"ticks\":\"\"},\"baxis\":{\"gridcolor\":\"white\",\"linecolor\":\"white\",\"ticks\":\"\"},\"caxis\":{\"gridcolor\":\"white\",\"linecolor\":\"white\",\"ticks\":\"\"}},\"coloraxis\":{\"colorbar\":{\"outlinewidth\":0,\"ticks\":\"\"}},\"colorscale\":{\"sequential\":[[0.0,\"#0d0887\"],[0.1111111111111111,\"#46039f\"],[0.2222222222222222,\"#7201a8\"],[0.3333333333333333,\"#9c179e\"],[0.4444444444444444,\"#bd3786\"],[0.5555555555555556,\"#d8576b\"],[0.6666666666666666,\"#ed7953\"],[0.7777777777777778,\"#fb9f3a\"],[0.8888888888888888,\"#fdca26\"],[1.0,\"#f0f921\"]],\"sequentialminus\":[[0.0,\"#0d0887\"],[0.1111111111111111,\"#46039f\"],[0.2222222222222222,\"#7201a8\"],[0.3333333333333333,\"#9c179e\"],[0.4444444444444444,\"#bd3786\"],[0.5555555555555556,\"#d8576b\"],[0.6666666666666666,\"#ed7953\"],[0.7777777777777778,\"#fb9f3a\"],[0.8888888888888888,\"#fdca26\"],[1.0,\"#f0f921\"]],\"diverging\":[[0,\"#8e0152\"],[0.1,\"#c51b7d\"],[0.2,\"#de77ae\"],[0.3,\"#f1b6da\"],[0.4,\"#fde0ef\"],[0.5,\"#f7f7f7\"],[0.6,\"#e6f5d0\"],[0.7,\"#b8e186\"],[0.8,\"#7fbc41\"],[0.9,\"#4d9221\"],[1,\"#276419\"]]},\"xaxis\":{\"gridcolor\":\"white\",\"linecolor\":\"white\",\"ticks\":\"\",\"title\":{\"standoff\":15},\"zerolinecolor\":\"white\",\"automargin\":true,\"zerolinewidth\":2},\"yaxis\":{\"gridcolor\":\"white\",\"linecolor\":\"white\",\"ticks\":\"\",\"title\":{\"standoff\":15},\"zerolinecolor\":\"white\",\"automargin\":true,\"zerolinewidth\":2},\"scene\":{\"xaxis\":{\"backgroundcolor\":\"#E5ECF6\",\"gridcolor\":\"white\",\"linecolor\":\"white\",\"showbackground\":true,\"ticks\":\"\",\"zerolinecolor\":\"white\",\"gridwidth\":2},\"yaxis\":{\"backgroundcolor\":\"#E5ECF6\",\"gridcolor\":\"white\",\"linecolor\":\"white\",\"showbackground\":true,\"ticks\":\"\",\"zerolinecolor\":\"white\",\"gridwidth\":2},\"zaxis\":{\"backgroundcolor\":\"#E5ECF6\",\"gridcolor\":\"white\",\"linecolor\":\"white\",\"showbackground\":true,\"ticks\":\"\",\"zerolinecolor\":\"white\",\"gridwidth\":2}},\"shapedefaults\":{\"line\":{\"color\":\"#2a3f5f\"}},\"annotationdefaults\":{\"arrowcolor\":\"#2a3f5f\",\"arrowhead\":0,\"arrowwidth\":1},\"geo\":{\"bgcolor\":\"white\",\"landcolor\":\"#E5ECF6\",\"subunitcolor\":\"white\",\"showland\":true,\"showlakes\":true,\"lakecolor\":\"white\"},\"title\":{\"x\":0.05},\"mapbox\":{\"style\":\"light\"}}},\"legend\":{\"orientation\":\"h\",\"yanchor\":\"bottom\",\"y\":0,\"xanchor\":\"center\",\"x\":0.5},\"margin\":{\"t\":0,\"b\":0,\"l\":0,\"r\":0},\"height\":400},                        {\"responsive\": true}                    ).then(function(){\n",
       "                            \n",
       "var gd = document.getElementById('16d90c2b-b51c-4407-a7d4-96b0f44739ac');\n",
       "var x = new MutationObserver(function (mutations, observer) {{\n",
       "        var display = window.getComputedStyle(gd).display;\n",
       "        if (!display || display === 'none') {{\n",
       "            console.log([gd, 'removed!']);\n",
       "            Plotly.purge(gd);\n",
       "            observer.disconnect();\n",
       "        }}\n",
       "}});\n",
       "\n",
       "// Listen for the removal of the full notebook cells\n",
       "var notebookContainer = gd.closest('#notebook-container');\n",
       "if (notebookContainer) {{\n",
       "    x.observe(notebookContainer, {childList: true});\n",
       "}}\n",
       "\n",
       "// Listen for the clearing of the current output cell\n",
       "var outputEl = gd.closest('.output');\n",
       "if (outputEl) {{\n",
       "    x.observe(outputEl, {childList: true});\n",
       "}}\n",
       "\n",
       "                        })                };                });            </script>        </div>"
      ]
     },
     "metadata": {},
     "output_type": "display_data"
    }
   ],
   "source": [
    "# -----------------mh_resources_provided -----------------\n",
    "def draw_mh_resources_provided_plt(country):\n",
    "        all_responses = prep_data[prep_data['tech_role_flag'] == 1]['mh_resources_provided'].count()\n",
    "        dntKnow = prep_data[(prep_data['tech_role_flag'] == 1) & (prep_data['mh_resources_provided'] == 0) & ( np.isin(prep_data['country_work_in'], country))]['mh_resources_provided'].count()\n",
    "        no = prep_data[(prep_data['tech_role_flag'] == 1) & (prep_data['mh_resources_provided'] == 1) & ( np.isin(prep_data['country_work_in'], country))]['mh_resources_provided'].count()\n",
    "        yes = prep_data[(prep_data['tech_role_flag'] == 1) & (prep_data['mh_resources_provided'] == 2) & ( np.isin(prep_data['country_work_in'], country))]['mh_resources_provided'].count()\n",
    "        labels = ['No', \"I don't know\", 'Yes']\n",
    "        # colors = ['#9666FF', '#F89640', '#F0F921']\n",
    "        colors = ['#622569', '#b7d7e8', '#5b9aa0' ]\n",
    "\n",
    "        sizes = [no/all_responses, dntKnow/all_responses, yes/all_responses]\n",
    "\n",
    "        mh_resources_provided_plt = go.Figure(data=[go.Pie(labels = labels, values=sizes, hole = 0.6, pull=[0, 0, 0.15, 0], rotation = 30)])\n",
    "\n",
    "        mh_resources_provided_plt.update_traces(title = 'Resources Provided',\n",
    "                                                marker=dict(colors=colors,\n",
    "                                                line=dict(color='#FFF', width=2)),\n",
    "                                                hoverinfo='label+percent',\n",
    "                                                textfont_size=12,\n",
    "                                                title_font_size = 15, \n",
    "                                                title_position = \"middle center\")\n",
    "        mh_resources_provided_plt.update_layout(legend=dict(orientation=\"h\", yanchor=\"bottom\", y=0, xanchor=\"center\", x=0.5),\n",
    "                                                margin=dict(t = 0, b=0, l = 0, r = 0),\n",
    "                                                height = 400\n",
    "                                                )\n",
    "        return mh_resources_provided_plt\n",
    "\n",
    "draw_mh_resources_provided_plt(country)"
   ]
  },
  {
   "cell_type": "markdown",
   "metadata": {
    "id": "7M5CqTg6KpEG"
   },
   "source": [
    "#### Bar chart for yes responses Vs years years\n",
    "ph_employer_rate\n",
    "mh_employer_rate"
   ]
  },
  {
   "cell_type": "code",
   "execution_count": 201,
   "metadata": {
    "executionInfo": {
     "elapsed": 61,
     "status": "aborted",
     "timestamp": 1654337002855,
     "user": {
      "displayName": "habiba mohamed",
      "userId": "01346726008568088997"
     },
     "user_tz": -120
    },
    "id": "0wta2vKuKpEG"
   },
   "outputs": [
    {
     "data": {
      "text/html": [
       "<div>\n",
       "<style scoped>\n",
       "    .dataframe tbody tr th:only-of-type {\n",
       "        vertical-align: middle;\n",
       "    }\n",
       "\n",
       "    .dataframe tbody tr th {\n",
       "        vertical-align: top;\n",
       "    }\n",
       "\n",
       "    .dataframe thead th {\n",
       "        text-align: right;\n",
       "    }\n",
       "</style>\n",
       "<table border=\"1\" class=\"dataframe\">\n",
       "  <thead>\n",
       "    <tr style=\"text-align: right;\">\n",
       "      <th></th>\n",
       "      <th>country_work_in</th>\n",
       "      <th>no.samples</th>\n",
       "    </tr>\n",
       "  </thead>\n",
       "  <tbody>\n",
       "    <tr>\n",
       "      <th>0</th>\n",
       "      <td>Canada</td>\n",
       "      <td>48</td>\n",
       "    </tr>\n",
       "    <tr>\n",
       "      <th>1</th>\n",
       "      <td>Germany</td>\n",
       "      <td>35</td>\n",
       "    </tr>\n",
       "    <tr>\n",
       "      <th>2</th>\n",
       "      <td>India</td>\n",
       "      <td>51</td>\n",
       "    </tr>\n",
       "    <tr>\n",
       "      <th>3</th>\n",
       "      <td>UK</td>\n",
       "      <td>110</td>\n",
       "    </tr>\n",
       "    <tr>\n",
       "      <th>4</th>\n",
       "      <td>USA</td>\n",
       "      <td>1002</td>\n",
       "    </tr>\n",
       "  </tbody>\n",
       "</table>\n",
       "</div>"
      ],
      "text/plain": [
       "  country_work_in  no.samples\n",
       "0          Canada          48\n",
       "1         Germany          35\n",
       "2           India          51\n",
       "3              UK         110\n",
       "4             USA        1002"
      ]
     },
     "execution_count": 201,
     "metadata": {},
     "output_type": "execute_result"
    }
   ],
   "source": [
    "sample_size_by_country  = prep_data[prep_data['tech_role_flag'] == 1 ][['country_work_in']]\\\n",
    "                          .groupby(by = ['country_work_in'])\\\n",
    "                          .size().reset_index().rename(columns = {0 : 'no.samples'})\n",
    "sample_size_by_country"
   ]
  },
  {
   "cell_type": "markdown",
   "metadata": {
    "id": "sfYo6SheKpEC"
   },
   "source": [
    "### Rating in all Countries Vs years "
   ]
  },
  {
   "cell_type": "code",
   "execution_count": 202,
   "metadata": {},
   "outputs": [],
   "source": [
    "employer_rate  = prep_data[(prep_data['tech_role_flag'] == 1 ) & ( np.isin(prep_data['country_work_in'], country))][['country_work_in', 'ph_employer_rate', 'mh_employer_rate']]\n",
    "employer_Ph_rate = employer_rate.groupby(by = ['ph_employer_rate']).size().reset_index().rename(columns = {0 : 'count'})\n",
    "employer_mh_rate = employer_rate.groupby(by = ['mh_employer_rate']).size().reset_index().rename(columns = {0 : 'count'}) "
   ]
  },
  {
   "cell_type": "code",
   "execution_count": 203,
   "metadata": {},
   "outputs": [
    {
     "data": {
      "text/html": [
       "<div>                            <div id=\"5535b862-bbff-491c-a004-211c6826e7de\" class=\"plotly-graph-div\" style=\"height:525px; width:100%;\"></div>            <script type=\"text/javascript\">                require([\"plotly\"], function(Plotly) {                    window.PLOTLYENV=window.PLOTLYENV || {};                                    if (document.getElementById(\"5535b862-bbff-491c-a004-211c6826e7de\")) {                    Plotly.newPlot(                        \"5535b862-bbff-491c-a004-211c6826e7de\",                        [{\"line\":{\"color\":\"Blue\",\"width\":4},\"name\":\"Physical\",\"x\":[0.0,1.0,2.0,3.0,4.0,5.0,6.0,7.0,8.0,9.0,10.0],\"y\":[23,14,34,53,46,218,130,380,197,67,84],\"type\":\"scatter\"},{\"line\":{\"color\":\"orange\",\"dash\":\"dash\",\"width\":4},\"name\":\"Mental\",\"x\":[0.0,1.0,2.0,3.0,4.0,5.0,6.0,7.0,8.0,9.0,10.0],\"y\":[69,35,82,110,92,423,107,154,111,32,31],\"type\":\"scatter\"}],                        {\"template\":{\"data\":{\"histogram2dcontour\":[{\"type\":\"histogram2dcontour\",\"colorbar\":{\"outlinewidth\":0,\"ticks\":\"\"},\"colorscale\":[[0.0,\"#0d0887\"],[0.1111111111111111,\"#46039f\"],[0.2222222222222222,\"#7201a8\"],[0.3333333333333333,\"#9c179e\"],[0.4444444444444444,\"#bd3786\"],[0.5555555555555556,\"#d8576b\"],[0.6666666666666666,\"#ed7953\"],[0.7777777777777778,\"#fb9f3a\"],[0.8888888888888888,\"#fdca26\"],[1.0,\"#f0f921\"]]}],\"choropleth\":[{\"type\":\"choropleth\",\"colorbar\":{\"outlinewidth\":0,\"ticks\":\"\"}}],\"histogram2d\":[{\"type\":\"histogram2d\",\"colorbar\":{\"outlinewidth\":0,\"ticks\":\"\"},\"colorscale\":[[0.0,\"#0d0887\"],[0.1111111111111111,\"#46039f\"],[0.2222222222222222,\"#7201a8\"],[0.3333333333333333,\"#9c179e\"],[0.4444444444444444,\"#bd3786\"],[0.5555555555555556,\"#d8576b\"],[0.6666666666666666,\"#ed7953\"],[0.7777777777777778,\"#fb9f3a\"],[0.8888888888888888,\"#fdca26\"],[1.0,\"#f0f921\"]]}],\"heatmap\":[{\"type\":\"heatmap\",\"colorbar\":{\"outlinewidth\":0,\"ticks\":\"\"},\"colorscale\":[[0.0,\"#0d0887\"],[0.1111111111111111,\"#46039f\"],[0.2222222222222222,\"#7201a8\"],[0.3333333333333333,\"#9c179e\"],[0.4444444444444444,\"#bd3786\"],[0.5555555555555556,\"#d8576b\"],[0.6666666666666666,\"#ed7953\"],[0.7777777777777778,\"#fb9f3a\"],[0.8888888888888888,\"#fdca26\"],[1.0,\"#f0f921\"]]}],\"heatmapgl\":[{\"type\":\"heatmapgl\",\"colorbar\":{\"outlinewidth\":0,\"ticks\":\"\"},\"colorscale\":[[0.0,\"#0d0887\"],[0.1111111111111111,\"#46039f\"],[0.2222222222222222,\"#7201a8\"],[0.3333333333333333,\"#9c179e\"],[0.4444444444444444,\"#bd3786\"],[0.5555555555555556,\"#d8576b\"],[0.6666666666666666,\"#ed7953\"],[0.7777777777777778,\"#fb9f3a\"],[0.8888888888888888,\"#fdca26\"],[1.0,\"#f0f921\"]]}],\"contourcarpet\":[{\"type\":\"contourcarpet\",\"colorbar\":{\"outlinewidth\":0,\"ticks\":\"\"}}],\"contour\":[{\"type\":\"contour\",\"colorbar\":{\"outlinewidth\":0,\"ticks\":\"\"},\"colorscale\":[[0.0,\"#0d0887\"],[0.1111111111111111,\"#46039f\"],[0.2222222222222222,\"#7201a8\"],[0.3333333333333333,\"#9c179e\"],[0.4444444444444444,\"#bd3786\"],[0.5555555555555556,\"#d8576b\"],[0.6666666666666666,\"#ed7953\"],[0.7777777777777778,\"#fb9f3a\"],[0.8888888888888888,\"#fdca26\"],[1.0,\"#f0f921\"]]}],\"surface\":[{\"type\":\"surface\",\"colorbar\":{\"outlinewidth\":0,\"ticks\":\"\"},\"colorscale\":[[0.0,\"#0d0887\"],[0.1111111111111111,\"#46039f\"],[0.2222222222222222,\"#7201a8\"],[0.3333333333333333,\"#9c179e\"],[0.4444444444444444,\"#bd3786\"],[0.5555555555555556,\"#d8576b\"],[0.6666666666666666,\"#ed7953\"],[0.7777777777777778,\"#fb9f3a\"],[0.8888888888888888,\"#fdca26\"],[1.0,\"#f0f921\"]]}],\"mesh3d\":[{\"type\":\"mesh3d\",\"colorbar\":{\"outlinewidth\":0,\"ticks\":\"\"}}],\"scatter\":[{\"fillpattern\":{\"fillmode\":\"overlay\",\"size\":10,\"solidity\":0.2},\"type\":\"scatter\"}],\"parcoords\":[{\"type\":\"parcoords\",\"line\":{\"colorbar\":{\"outlinewidth\":0,\"ticks\":\"\"}}}],\"scatterpolargl\":[{\"type\":\"scatterpolargl\",\"marker\":{\"colorbar\":{\"outlinewidth\":0,\"ticks\":\"\"}}}],\"bar\":[{\"error_x\":{\"color\":\"#2a3f5f\"},\"error_y\":{\"color\":\"#2a3f5f\"},\"marker\":{\"line\":{\"color\":\"#E5ECF6\",\"width\":0.5},\"pattern\":{\"fillmode\":\"overlay\",\"size\":10,\"solidity\":0.2}},\"type\":\"bar\"}],\"scattergeo\":[{\"type\":\"scattergeo\",\"marker\":{\"colorbar\":{\"outlinewidth\":0,\"ticks\":\"\"}}}],\"scatterpolar\":[{\"type\":\"scatterpolar\",\"marker\":{\"colorbar\":{\"outlinewidth\":0,\"ticks\":\"\"}}}],\"histogram\":[{\"marker\":{\"pattern\":{\"fillmode\":\"overlay\",\"size\":10,\"solidity\":0.2}},\"type\":\"histogram\"}],\"scattergl\":[{\"type\":\"scattergl\",\"marker\":{\"colorbar\":{\"outlinewidth\":0,\"ticks\":\"\"}}}],\"scatter3d\":[{\"type\":\"scatter3d\",\"line\":{\"colorbar\":{\"outlinewidth\":0,\"ticks\":\"\"}},\"marker\":{\"colorbar\":{\"outlinewidth\":0,\"ticks\":\"\"}}}],\"scattermapbox\":[{\"type\":\"scattermapbox\",\"marker\":{\"colorbar\":{\"outlinewidth\":0,\"ticks\":\"\"}}}],\"scatterternary\":[{\"type\":\"scatterternary\",\"marker\":{\"colorbar\":{\"outlinewidth\":0,\"ticks\":\"\"}}}],\"scattercarpet\":[{\"type\":\"scattercarpet\",\"marker\":{\"colorbar\":{\"outlinewidth\":0,\"ticks\":\"\"}}}],\"carpet\":[{\"aaxis\":{\"endlinecolor\":\"#2a3f5f\",\"gridcolor\":\"white\",\"linecolor\":\"white\",\"minorgridcolor\":\"white\",\"startlinecolor\":\"#2a3f5f\"},\"baxis\":{\"endlinecolor\":\"#2a3f5f\",\"gridcolor\":\"white\",\"linecolor\":\"white\",\"minorgridcolor\":\"white\",\"startlinecolor\":\"#2a3f5f\"},\"type\":\"carpet\"}],\"table\":[{\"cells\":{\"fill\":{\"color\":\"#EBF0F8\"},\"line\":{\"color\":\"white\"}},\"header\":{\"fill\":{\"color\":\"#C8D4E3\"},\"line\":{\"color\":\"white\"}},\"type\":\"table\"}],\"barpolar\":[{\"marker\":{\"line\":{\"color\":\"#E5ECF6\",\"width\":0.5},\"pattern\":{\"fillmode\":\"overlay\",\"size\":10,\"solidity\":0.2}},\"type\":\"barpolar\"}],\"pie\":[{\"automargin\":true,\"type\":\"pie\"}]},\"layout\":{\"autotypenumbers\":\"strict\",\"colorway\":[\"#636efa\",\"#EF553B\",\"#00cc96\",\"#ab63fa\",\"#FFA15A\",\"#19d3f3\",\"#FF6692\",\"#B6E880\",\"#FF97FF\",\"#FECB52\"],\"font\":{\"color\":\"#2a3f5f\"},\"hovermode\":\"closest\",\"hoverlabel\":{\"align\":\"left\"},\"paper_bgcolor\":\"white\",\"plot_bgcolor\":\"#E5ECF6\",\"polar\":{\"bgcolor\":\"#E5ECF6\",\"angularaxis\":{\"gridcolor\":\"white\",\"linecolor\":\"white\",\"ticks\":\"\"},\"radialaxis\":{\"gridcolor\":\"white\",\"linecolor\":\"white\",\"ticks\":\"\"}},\"ternary\":{\"bgcolor\":\"#E5ECF6\",\"aaxis\":{\"gridcolor\":\"white\",\"linecolor\":\"white\",\"ticks\":\"\"},\"baxis\":{\"gridcolor\":\"white\",\"linecolor\":\"white\",\"ticks\":\"\"},\"caxis\":{\"gridcolor\":\"white\",\"linecolor\":\"white\",\"ticks\":\"\"}},\"coloraxis\":{\"colorbar\":{\"outlinewidth\":0,\"ticks\":\"\"}},\"colorscale\":{\"sequential\":[[0.0,\"#0d0887\"],[0.1111111111111111,\"#46039f\"],[0.2222222222222222,\"#7201a8\"],[0.3333333333333333,\"#9c179e\"],[0.4444444444444444,\"#bd3786\"],[0.5555555555555556,\"#d8576b\"],[0.6666666666666666,\"#ed7953\"],[0.7777777777777778,\"#fb9f3a\"],[0.8888888888888888,\"#fdca26\"],[1.0,\"#f0f921\"]],\"sequentialminus\":[[0.0,\"#0d0887\"],[0.1111111111111111,\"#46039f\"],[0.2222222222222222,\"#7201a8\"],[0.3333333333333333,\"#9c179e\"],[0.4444444444444444,\"#bd3786\"],[0.5555555555555556,\"#d8576b\"],[0.6666666666666666,\"#ed7953\"],[0.7777777777777778,\"#fb9f3a\"],[0.8888888888888888,\"#fdca26\"],[1.0,\"#f0f921\"]],\"diverging\":[[0,\"#8e0152\"],[0.1,\"#c51b7d\"],[0.2,\"#de77ae\"],[0.3,\"#f1b6da\"],[0.4,\"#fde0ef\"],[0.5,\"#f7f7f7\"],[0.6,\"#e6f5d0\"],[0.7,\"#b8e186\"],[0.8,\"#7fbc41\"],[0.9,\"#4d9221\"],[1,\"#276419\"]]},\"xaxis\":{\"gridcolor\":\"white\",\"linecolor\":\"white\",\"ticks\":\"\",\"title\":{\"standoff\":15},\"zerolinecolor\":\"white\",\"automargin\":true,\"zerolinewidth\":2},\"yaxis\":{\"gridcolor\":\"white\",\"linecolor\":\"white\",\"ticks\":\"\",\"title\":{\"standoff\":15},\"zerolinecolor\":\"white\",\"automargin\":true,\"zerolinewidth\":2},\"scene\":{\"xaxis\":{\"backgroundcolor\":\"#E5ECF6\",\"gridcolor\":\"white\",\"linecolor\":\"white\",\"showbackground\":true,\"ticks\":\"\",\"zerolinecolor\":\"white\",\"gridwidth\":2},\"yaxis\":{\"backgroundcolor\":\"#E5ECF6\",\"gridcolor\":\"white\",\"linecolor\":\"white\",\"showbackground\":true,\"ticks\":\"\",\"zerolinecolor\":\"white\",\"gridwidth\":2},\"zaxis\":{\"backgroundcolor\":\"#E5ECF6\",\"gridcolor\":\"white\",\"linecolor\":\"white\",\"showbackground\":true,\"ticks\":\"\",\"zerolinecolor\":\"white\",\"gridwidth\":2}},\"shapedefaults\":{\"line\":{\"color\":\"#2a3f5f\"}},\"annotationdefaults\":{\"arrowcolor\":\"#2a3f5f\",\"arrowhead\":0,\"arrowwidth\":1},\"geo\":{\"bgcolor\":\"white\",\"landcolor\":\"#E5ECF6\",\"subunitcolor\":\"white\",\"showland\":true,\"showlakes\":true,\"lakecolor\":\"white\"},\"title\":{\"x\":0.05},\"mapbox\":{\"style\":\"light\"}}},\"legend\":{\"xanchor\":\"right\",\"x\":1,\"title\":{\"text\":\"IN ['UK' 'USA' 'India' 'Germany' 'Canada'] : \"}},\"title\":{\"font\":{\"size\":14}},\"xaxis\":{\"title\":{\"text\":\"Year\"}},\"yaxis\":{\"title\":{\"text\":\"Count\"}}},                        {\"responsive\": true}                    ).then(function(){\n",
       "                            \n",
       "var gd = document.getElementById('5535b862-bbff-491c-a004-211c6826e7de');\n",
       "var x = new MutationObserver(function (mutations, observer) {{\n",
       "        var display = window.getComputedStyle(gd).display;\n",
       "        if (!display || display === 'none') {{\n",
       "            console.log([gd, 'removed!']);\n",
       "            Plotly.purge(gd);\n",
       "            observer.disconnect();\n",
       "        }}\n",
       "}});\n",
       "\n",
       "// Listen for the removal of the full notebook cells\n",
       "var notebookContainer = gd.closest('#notebook-container');\n",
       "if (notebookContainer) {{\n",
       "    x.observe(notebookContainer, {childList: true});\n",
       "}}\n",
       "\n",
       "// Listen for the clearing of the current output cell\n",
       "var outputEl = gd.closest('.output');\n",
       "if (outputEl) {{\n",
       "    x.observe(outputEl, {childList: true});\n",
       "}}\n",
       "\n",
       "                        })                };                });            </script>        </div>"
      ]
     },
     "metadata": {},
     "output_type": "display_data"
    }
   ],
   "source": [
    "emp_place = go.Figure()\n",
    "emp_place.add_trace(go.Scatter(x=employer_Ph_rate['ph_employer_rate'], y=employer_Ph_rate['count'], name='Physical',\n",
    "                         line=dict(color='Blue', width=4)))\n",
    "emp_place.add_trace(go.Scatter(x=employer_mh_rate['mh_employer_rate'], y=employer_mh_rate['count'], name='Mental',\n",
    "                         line=dict(color='orange', width=4, dash='dash')))\n",
    "\n",
    "# fig.update_yaxes(range = [0, 10])\n",
    "emp_place.update_layout(\n",
    "                   xaxis_title='Year',\n",
    "                   yaxis_title='Count', \n",
    "                   legend=dict(xanchor = 'right', x = 1),\n",
    "                   legend_title = (f'IN {country} : '),\n",
    "                   title_font_size = 14,\n",
    "                   )\n",
    "emp_place.show()"
   ]
  },
  {
   "cell_type": "code",
   "execution_count": 204,
   "metadata": {},
   "outputs": [
    {
     "data": {
      "text/html": [
       "<div>                            <div id=\"4d8fc3c9-cd03-47e8-a808-36188f152f4f\" class=\"plotly-graph-div\" style=\"height:400px; width:100%;\"></div>            <script type=\"text/javascript\">                require([\"plotly\"], function(Plotly) {                    window.PLOTLYENV=window.PLOTLYENV || {};                                    if (document.getElementById(\"4d8fc3c9-cd03-47e8-a808-36188f152f4f\")) {                    Plotly.newPlot(                        \"4d8fc3c9-cd03-47e8-a808-36188f152f4f\",                        [{\"marker\":{\"color\":\"#622569\"},\"name\":\"Physical\",\"orientation\":\"h\",\"x\":[23,14,34,53,46,218,130,380,197,67,84],\"y\":[0.0,1.0,2.0,3.0,4.0,5.0,6.0,7.0,8.0,9.0,10.0],\"type\":\"bar\"},{\"marker\":{\"color\":\"#5b9aa0\"},\"name\":\"Mental\",\"orientation\":\"h\",\"x\":[69,35,82,110,92,423,107,154,111,32,31],\"y\":[0.0,1.0,2.0,3.0,4.0,5.0,6.0,7.0,8.0,9.0,10.0],\"type\":\"bar\"}],                        {\"template\":{\"data\":{\"histogram2dcontour\":[{\"type\":\"histogram2dcontour\",\"colorbar\":{\"outlinewidth\":0,\"ticks\":\"\"},\"colorscale\":[[0.0,\"#0d0887\"],[0.1111111111111111,\"#46039f\"],[0.2222222222222222,\"#7201a8\"],[0.3333333333333333,\"#9c179e\"],[0.4444444444444444,\"#bd3786\"],[0.5555555555555556,\"#d8576b\"],[0.6666666666666666,\"#ed7953\"],[0.7777777777777778,\"#fb9f3a\"],[0.8888888888888888,\"#fdca26\"],[1.0,\"#f0f921\"]]}],\"choropleth\":[{\"type\":\"choropleth\",\"colorbar\":{\"outlinewidth\":0,\"ticks\":\"\"}}],\"histogram2d\":[{\"type\":\"histogram2d\",\"colorbar\":{\"outlinewidth\":0,\"ticks\":\"\"},\"colorscale\":[[0.0,\"#0d0887\"],[0.1111111111111111,\"#46039f\"],[0.2222222222222222,\"#7201a8\"],[0.3333333333333333,\"#9c179e\"],[0.4444444444444444,\"#bd3786\"],[0.5555555555555556,\"#d8576b\"],[0.6666666666666666,\"#ed7953\"],[0.7777777777777778,\"#fb9f3a\"],[0.8888888888888888,\"#fdca26\"],[1.0,\"#f0f921\"]]}],\"heatmap\":[{\"type\":\"heatmap\",\"colorbar\":{\"outlinewidth\":0,\"ticks\":\"\"},\"colorscale\":[[0.0,\"#0d0887\"],[0.1111111111111111,\"#46039f\"],[0.2222222222222222,\"#7201a8\"],[0.3333333333333333,\"#9c179e\"],[0.4444444444444444,\"#bd3786\"],[0.5555555555555556,\"#d8576b\"],[0.6666666666666666,\"#ed7953\"],[0.7777777777777778,\"#fb9f3a\"],[0.8888888888888888,\"#fdca26\"],[1.0,\"#f0f921\"]]}],\"heatmapgl\":[{\"type\":\"heatmapgl\",\"colorbar\":{\"outlinewidth\":0,\"ticks\":\"\"},\"colorscale\":[[0.0,\"#0d0887\"],[0.1111111111111111,\"#46039f\"],[0.2222222222222222,\"#7201a8\"],[0.3333333333333333,\"#9c179e\"],[0.4444444444444444,\"#bd3786\"],[0.5555555555555556,\"#d8576b\"],[0.6666666666666666,\"#ed7953\"],[0.7777777777777778,\"#fb9f3a\"],[0.8888888888888888,\"#fdca26\"],[1.0,\"#f0f921\"]]}],\"contourcarpet\":[{\"type\":\"contourcarpet\",\"colorbar\":{\"outlinewidth\":0,\"ticks\":\"\"}}],\"contour\":[{\"type\":\"contour\",\"colorbar\":{\"outlinewidth\":0,\"ticks\":\"\"},\"colorscale\":[[0.0,\"#0d0887\"],[0.1111111111111111,\"#46039f\"],[0.2222222222222222,\"#7201a8\"],[0.3333333333333333,\"#9c179e\"],[0.4444444444444444,\"#bd3786\"],[0.5555555555555556,\"#d8576b\"],[0.6666666666666666,\"#ed7953\"],[0.7777777777777778,\"#fb9f3a\"],[0.8888888888888888,\"#fdca26\"],[1.0,\"#f0f921\"]]}],\"surface\":[{\"type\":\"surface\",\"colorbar\":{\"outlinewidth\":0,\"ticks\":\"\"},\"colorscale\":[[0.0,\"#0d0887\"],[0.1111111111111111,\"#46039f\"],[0.2222222222222222,\"#7201a8\"],[0.3333333333333333,\"#9c179e\"],[0.4444444444444444,\"#bd3786\"],[0.5555555555555556,\"#d8576b\"],[0.6666666666666666,\"#ed7953\"],[0.7777777777777778,\"#fb9f3a\"],[0.8888888888888888,\"#fdca26\"],[1.0,\"#f0f921\"]]}],\"mesh3d\":[{\"type\":\"mesh3d\",\"colorbar\":{\"outlinewidth\":0,\"ticks\":\"\"}}],\"scatter\":[{\"fillpattern\":{\"fillmode\":\"overlay\",\"size\":10,\"solidity\":0.2},\"type\":\"scatter\"}],\"parcoords\":[{\"type\":\"parcoords\",\"line\":{\"colorbar\":{\"outlinewidth\":0,\"ticks\":\"\"}}}],\"scatterpolargl\":[{\"type\":\"scatterpolargl\",\"marker\":{\"colorbar\":{\"outlinewidth\":0,\"ticks\":\"\"}}}],\"bar\":[{\"error_x\":{\"color\":\"#2a3f5f\"},\"error_y\":{\"color\":\"#2a3f5f\"},\"marker\":{\"line\":{\"color\":\"#E5ECF6\",\"width\":0.5},\"pattern\":{\"fillmode\":\"overlay\",\"size\":10,\"solidity\":0.2}},\"type\":\"bar\"}],\"scattergeo\":[{\"type\":\"scattergeo\",\"marker\":{\"colorbar\":{\"outlinewidth\":0,\"ticks\":\"\"}}}],\"scatterpolar\":[{\"type\":\"scatterpolar\",\"marker\":{\"colorbar\":{\"outlinewidth\":0,\"ticks\":\"\"}}}],\"histogram\":[{\"marker\":{\"pattern\":{\"fillmode\":\"overlay\",\"size\":10,\"solidity\":0.2}},\"type\":\"histogram\"}],\"scattergl\":[{\"type\":\"scattergl\",\"marker\":{\"colorbar\":{\"outlinewidth\":0,\"ticks\":\"\"}}}],\"scatter3d\":[{\"type\":\"scatter3d\",\"line\":{\"colorbar\":{\"outlinewidth\":0,\"ticks\":\"\"}},\"marker\":{\"colorbar\":{\"outlinewidth\":0,\"ticks\":\"\"}}}],\"scattermapbox\":[{\"type\":\"scattermapbox\",\"marker\":{\"colorbar\":{\"outlinewidth\":0,\"ticks\":\"\"}}}],\"scatterternary\":[{\"type\":\"scatterternary\",\"marker\":{\"colorbar\":{\"outlinewidth\":0,\"ticks\":\"\"}}}],\"scattercarpet\":[{\"type\":\"scattercarpet\",\"marker\":{\"colorbar\":{\"outlinewidth\":0,\"ticks\":\"\"}}}],\"carpet\":[{\"aaxis\":{\"endlinecolor\":\"#2a3f5f\",\"gridcolor\":\"white\",\"linecolor\":\"white\",\"minorgridcolor\":\"white\",\"startlinecolor\":\"#2a3f5f\"},\"baxis\":{\"endlinecolor\":\"#2a3f5f\",\"gridcolor\":\"white\",\"linecolor\":\"white\",\"minorgridcolor\":\"white\",\"startlinecolor\":\"#2a3f5f\"},\"type\":\"carpet\"}],\"table\":[{\"cells\":{\"fill\":{\"color\":\"#EBF0F8\"},\"line\":{\"color\":\"white\"}},\"header\":{\"fill\":{\"color\":\"#C8D4E3\"},\"line\":{\"color\":\"white\"}},\"type\":\"table\"}],\"barpolar\":[{\"marker\":{\"line\":{\"color\":\"#E5ECF6\",\"width\":0.5},\"pattern\":{\"fillmode\":\"overlay\",\"size\":10,\"solidity\":0.2}},\"type\":\"barpolar\"}],\"pie\":[{\"automargin\":true,\"type\":\"pie\"}]},\"layout\":{\"autotypenumbers\":\"strict\",\"colorway\":[\"#636efa\",\"#EF553B\",\"#00cc96\",\"#ab63fa\",\"#FFA15A\",\"#19d3f3\",\"#FF6692\",\"#B6E880\",\"#FF97FF\",\"#FECB52\"],\"font\":{\"color\":\"#2a3f5f\"},\"hovermode\":\"closest\",\"hoverlabel\":{\"align\":\"left\"},\"paper_bgcolor\":\"white\",\"plot_bgcolor\":\"#E5ECF6\",\"polar\":{\"bgcolor\":\"#E5ECF6\",\"angularaxis\":{\"gridcolor\":\"white\",\"linecolor\":\"white\",\"ticks\":\"\"},\"radialaxis\":{\"gridcolor\":\"white\",\"linecolor\":\"white\",\"ticks\":\"\"}},\"ternary\":{\"bgcolor\":\"#E5ECF6\",\"aaxis\":{\"gridcolor\":\"white\",\"linecolor\":\"white\",\"ticks\":\"\"},\"baxis\":{\"gridcolor\":\"white\",\"linecolor\":\"white\",\"ticks\":\"\"},\"caxis\":{\"gridcolor\":\"white\",\"linecolor\":\"white\",\"ticks\":\"\"}},\"coloraxis\":{\"colorbar\":{\"outlinewidth\":0,\"ticks\":\"\"}},\"colorscale\":{\"sequential\":[[0.0,\"#0d0887\"],[0.1111111111111111,\"#46039f\"],[0.2222222222222222,\"#7201a8\"],[0.3333333333333333,\"#9c179e\"],[0.4444444444444444,\"#bd3786\"],[0.5555555555555556,\"#d8576b\"],[0.6666666666666666,\"#ed7953\"],[0.7777777777777778,\"#fb9f3a\"],[0.8888888888888888,\"#fdca26\"],[1.0,\"#f0f921\"]],\"sequentialminus\":[[0.0,\"#0d0887\"],[0.1111111111111111,\"#46039f\"],[0.2222222222222222,\"#7201a8\"],[0.3333333333333333,\"#9c179e\"],[0.4444444444444444,\"#bd3786\"],[0.5555555555555556,\"#d8576b\"],[0.6666666666666666,\"#ed7953\"],[0.7777777777777778,\"#fb9f3a\"],[0.8888888888888888,\"#fdca26\"],[1.0,\"#f0f921\"]],\"diverging\":[[0,\"#8e0152\"],[0.1,\"#c51b7d\"],[0.2,\"#de77ae\"],[0.3,\"#f1b6da\"],[0.4,\"#fde0ef\"],[0.5,\"#f7f7f7\"],[0.6,\"#e6f5d0\"],[0.7,\"#b8e186\"],[0.8,\"#7fbc41\"],[0.9,\"#4d9221\"],[1,\"#276419\"]]},\"xaxis\":{\"gridcolor\":\"white\",\"linecolor\":\"white\",\"ticks\":\"\",\"title\":{\"standoff\":15},\"zerolinecolor\":\"white\",\"automargin\":true,\"zerolinewidth\":2},\"yaxis\":{\"gridcolor\":\"white\",\"linecolor\":\"white\",\"ticks\":\"\",\"title\":{\"standoff\":15},\"zerolinecolor\":\"white\",\"automargin\":true,\"zerolinewidth\":2},\"scene\":{\"xaxis\":{\"backgroundcolor\":\"#E5ECF6\",\"gridcolor\":\"white\",\"linecolor\":\"white\",\"showbackground\":true,\"ticks\":\"\",\"zerolinecolor\":\"white\",\"gridwidth\":2},\"yaxis\":{\"backgroundcolor\":\"#E5ECF6\",\"gridcolor\":\"white\",\"linecolor\":\"white\",\"showbackground\":true,\"ticks\":\"\",\"zerolinecolor\":\"white\",\"gridwidth\":2},\"zaxis\":{\"backgroundcolor\":\"#E5ECF6\",\"gridcolor\":\"white\",\"linecolor\":\"white\",\"showbackground\":true,\"ticks\":\"\",\"zerolinecolor\":\"white\",\"gridwidth\":2}},\"shapedefaults\":{\"line\":{\"color\":\"#2a3f5f\"}},\"annotationdefaults\":{\"arrowcolor\":\"#2a3f5f\",\"arrowhead\":0,\"arrowwidth\":1},\"geo\":{\"bgcolor\":\"white\",\"landcolor\":\"#E5ECF6\",\"subunitcolor\":\"white\",\"showland\":true,\"showlakes\":true,\"lakecolor\":\"white\"},\"title\":{\"x\":0.05},\"mapbox\":{\"style\":\"light\"}}},\"yaxis\":{\"type\":\"category\",\"title\":{\"text\":\"Rate\"}},\"legend\":{\"xanchor\":\"right\",\"x\":1},\"margin\":{\"t\":0,\"b\":0,\"l\":0,\"r\":0},\"barmode\":\"group\",\"xaxis\":{\"title\":{\"text\":\"Count\"}},\"height\":400},                        {\"responsive\": true}                    ).then(function(){\n",
       "                            \n",
       "var gd = document.getElementById('4d8fc3c9-cd03-47e8-a808-36188f152f4f');\n",
       "var x = new MutationObserver(function (mutations, observer) {{\n",
       "        var display = window.getComputedStyle(gd).display;\n",
       "        if (!display || display === 'none') {{\n",
       "            console.log([gd, 'removed!']);\n",
       "            Plotly.purge(gd);\n",
       "            observer.disconnect();\n",
       "        }}\n",
       "}});\n",
       "\n",
       "// Listen for the removal of the full notebook cells\n",
       "var notebookContainer = gd.closest('#notebook-container');\n",
       "if (notebookContainer) {{\n",
       "    x.observe(notebookContainer, {childList: true});\n",
       "}}\n",
       "\n",
       "// Listen for the clearing of the current output cell\n",
       "var outputEl = gd.closest('.output');\n",
       "if (outputEl) {{\n",
       "    x.observe(outputEl, {childList: true});\n",
       "}}\n",
       "\n",
       "                        })                };                });            </script>        </div>"
      ]
     },
     "metadata": {},
     "output_type": "display_data"
    }
   ],
   "source": [
    "def draw_curr_rate_by_country():\n",
    "    curr_rate_by_country = go.Figure(data=[\n",
    "        go.Bar(name=\"Physical\", y=employer_Ph_rate['ph_employer_rate'].unique(), x=employer_Ph_rate['count'], marker_color = '#622569', orientation='h'),\n",
    "        go.Bar(name='Mental', y=employer_mh_rate['mh_employer_rate'].unique(), x=employer_mh_rate['count'], marker_color = '#5b9aa0', orientation='h'),\n",
    "    ])\n",
    "    curr_rate_by_country.update_yaxes(type='category')\n",
    "    curr_rate_by_country.update_layout(\n",
    "        barmode='group', \n",
    "        xaxis_title=\"Count\",\n",
    "        yaxis_title=\"Rate\",\n",
    "        legend=dict(xanchor = 'right', x = 1),\n",
    "        margin=dict(t = 0, b=0, l = 0, r = 0),\n",
    "        height = 400,\n",
    "        )\n",
    "    return curr_rate_by_country\n",
    "draw_curr_rate_by_country()"
   ]
  },
  {
   "cell_type": "code",
   "execution_count": null,
   "metadata": {},
   "outputs": [],
   "source": []
  },
  {
   "cell_type": "markdown",
   "metadata": {},
   "source": [
    "# Finally The Dashboard"
   ]
  },
  {
   "cell_type": "code",
   "execution_count": 242,
   "metadata": {},
   "outputs": [],
   "source": [
    "import seaborn as sns\n",
    "import matplotlib as plt\n",
    "import plotly.express as px\n",
    "import pandas as pd\n",
    "from dash import Dash, html, dcc\n",
    "from jupyter_dash import JupyterDash\n",
    "from dash.dependencies import Input,Output,State\n",
    "import dash_bootstrap_components as dbc\n",
    "import numpy as np\n",
    "import dash"
   ]
  },
  {
   "cell_type": "code",
   "execution_count": 206,
   "metadata": {},
   "outputs": [],
   "source": [
    "Countries = ['USA', 'UK', 'India', 'Canada', 'Germany']"
   ]
  },
  {
   "cell_type": "code",
   "execution_count": 250,
   "metadata": {},
   "outputs": [
    {
     "name": "stdout",
     "output_type": "stream",
     "text": [
      "Dash app running on http://127.0.0.1:5050/\n"
     ]
    }
   ],
   "source": [
    "app = JupyterDash(__name__, external_stylesheets=[dbc.themes.BOOTSTRAP],\n",
    "                meta_tags=[{'name': 'viewport',\n",
    "                            'content': 'width=device-width, initial-scale=1.0'}]\n",
    "                )\n",
    "# Layout section\n",
    "app.layout = dbc.Container([\n",
    "    dbc.Row([\n",
    "            dbc.Container([\n",
    "                dbc.Row([\n",
    "                    dbc.Row([html.Img(src=\"assets/HEADER.JPG\")],style = {'width':'100%','background':'white'},className='',),\n",
    "               ]),\n",
    "            ]),\n",
    "        ################################################## General Information #################################################            \n",
    "        dbc.Container([\n",
    "            dbc.Row([\n",
    "               dbc.Row([\n",
    "                    dbc.Col([html.H2(\"General Information\",className='text-center divBorder p-2 m-1 font-weight-normal rounded',style={'font-family':'Calibri','background':'#b3dad7','color':'#525252'}),\n",
    "                            ],width = 12),]),\n",
    "               dbc.Row([\n",
    "                    ################################################## Gender Overview #################################################            \n",
    "                   dbc.Col([\n",
    "                       dbc.Card([\n",
    "                            dbc.CardHeader([\n",
    "                                dcc.Dropdown(id='dp1', multi=False, value='USA',options=[{'label':x, 'value':x}for x in Countries],\n",
    "                                            style={\"textTransform\": \"uppercase\",'border-color':'#b3dad7','background-color':'white','text-color':'white', 'width' : '250'},className = \"dropdown open\"),\n",
    "                            ],className ='bg-white mb-1'),\n",
    "                            dbc.CardBody([\n",
    "                                dcc.Graph(id='line-fig1', figure=draw_Techs_by_gender(country),className=' m-1',),]),\n",
    "                            dbc.CardFooter([html.H5(\"Gender Overview\", className=\"card-text\",style = {'color':'#525252'}),],className ='bg-white'),\n",
    "                       ],className='shadow rounded card p-3 text-center m-1',style={\"height\":\"32rem\" , \"border-color\":\"#808080\",\"border-width\": \"medium\"},),\n",
    "                   ],xs=12, sm=12, md=12, lg=3, xl=3),\n",
    "                    ############################################ Mental Health Problem Among Years #########################################            \n",
    "                   dbc.Col([\n",
    "                       dbc.Card([\n",
    "                           dbc.CardBody([\n",
    "                               dcc.Graph(figure=draw_MH_response_all_countries_Vs_years(),className=' m-1'),\n",
    "                           dbc.CardFooter([html.H5(\"Mental Health Problem Among Years\", className=\"card-text\",style = {'color':'#525252'}),],className ='bg-white'),\n",
    "                        ])\n",
    "                    ],className='shadow rounded card p-3 text-center m-1',style={\"height\":\"32rem\",\"border-color\":\"#696969\",\"border-width\": \"medium\"})\n",
    "                    ],xs=12, sm=12, md=12, lg=7, xl=7),\n",
    "                    ################################################## Information Cards #################################################            \n",
    "                   dbc.Col([\n",
    "                        dbc.Card([\n",
    "                            dbc.CardImg(src=\"/assets/mh.png\",className=\"align-self-center mt-4 mb-2\",style={'height':'22%', 'width':'50%'}),\n",
    "                            html.H3(\"970 Million\",className=\"card-text\",style = {'color':'#525252'}),\n",
    "                            html.P(\"Diagnosied With Mental Disorder \",className=\"card-text mb-3\",style = {'color':'#525252'},),\n",
    "                            dbc.CardImg(src=\"assets/pulse.png\",className=\"align-self-center mt-3\",style={'height':'20%', 'width':'50%'}),\n",
    "                            html.H3(\"90 Percent\",className=\"card-text\",style = {'color':'#C84678'}),\n",
    "                            html.P(\"Suicide Deaths Result from Mental Disorders\",className=\"card-text\",style = {'color':'#525252'},)], inverse=True,style={\"height\":\"32rem\",\"border-color\":\"#696969\",\"border-width\": \"medium\"},className=' mx-1 text-center my-1 p-2 shadow'),\n",
    "                    ],className=\"mb-1 \",xs=12, sm=12, md=12, lg=2, xl=2),\n",
    "                ], className = '',justify='center'),\n",
    "                ############################################################ Age #########################################################            \n",
    "                dbc.Row([\n",
    "                   dbc.Col([\n",
    "                        dbc.Card([\n",
    "                             dbc.CardHeader([\n",
    "                                dcc.Dropdown(id='dp2', multi=False, value='USA',options=[{'label':x, 'value':x}for x in Countries],\n",
    "                                    style={\"textTransform\": \"uppercase\",'border-color':'#b3dad7','background-color':'white','text-color':'white', 'width' : '250'},className = \"dropdown open\"),\n",
    "                             ],className ='bg-white mb-1'),                           \n",
    "                             dbc.CardBody([\n",
    "                                 dcc.Graph(id='line-fig2',figure=draw_Age_Vs_MH_prob_Vs_Country(country),className=' m-1',),]),\n",
    "                             dbc.CardFooter([html.H5(\"Age\", className=\"card-text\",style = {'color':'#525252'}),],className ='bg-white'),\n",
    "                         ],className='shadow rounded card p-3 text-center m-1',style={\"height\":\"32rem\" , \"border-color\":\"#696969\",\"border-width\": \"medium\"},),\n",
    "                 ],xs=12, sm=12, md=12, lg=6, xl=6),\n",
    "                ################################################## Currently have a mental health problem #################################################            \n",
    "                dbc.Col([\n",
    "                    dbc.Card([\n",
    "                        dbc.CardHeader([\n",
    "                            dcc.Dropdown(id='dp3', multi=False, value='USA',options=[{'label':x, 'value':x}for x in Countries],\n",
    "                                style={\"textTransform\": \"uppercase\",'border-color':'#b3dad7','background-color':'white','text-color':'white', 'width' : '250'},className = \"dropdown open\"),\n",
    "                              ],className ='bg-white mb-1'),                           \n",
    "                        dbc.CardBody([\n",
    "                            dcc.Graph(id='line-fig3', figure=draw_curr_mh_by_country_plt(country),className=' m-1',),]),\n",
    "                        dbc.CardFooter([html.H5(\"Currently have a mental health problem\", className=\"card-text\",style = {'color':'#525252'}),],className ='bg-white'),\n",
    "                   ],className='shadow rounded card p-3 text-center m-1',style={\"height\":\"32rem\", \"border-color\":\"#696969\",\"border-width\": \"medium\"},),\n",
    "               ],xs=12, sm=12, md=12, lg=6, xl=6),\n",
    "            ],),],style  = {'height':'20%'} , className = 'my-1',justify='center'),      \n",
    "        ],  className = 'mb-1',style  = {'height':'20%'}),\n",
    "    \n",
    "\n",
    "\n",
    "        ################################################## Are Companies Taking Seriously Mental Health ?############################################            \n",
    "        dbc.Container([\n",
    "            dbc.Row([\n",
    "                dbc.Row([\n",
    "                    dbc.Col([html.H2(\"Are Companies Taking Seriously Mental Health ?\",className='text-center divBorder p-2 m-1 font-weight-normal rounded',style={'font-family':'Calibri','background':'#b3dad7','color':'#525252'}), \n",
    "                    ],width=12)]),\n",
    "                dbc.Row([\n",
    "                    ################################################## Resource Provided ############################################            \n",
    "                    dbc.Col([ \n",
    "                        dbc.Card([\n",
    "                          dbc.CardHeader([\n",
    "                                dcc.Dropdown(id='dp4', multi=False, value='USA',options=[{'label':x, 'value':x}for x in Countries],\n",
    "                                    style={\"textTransform\": \"uppercase\",'border-color':'#525252','background-color':'white','text-color':'white', 'width' : '250'},className = \"dropdown open\"),\n",
    "                          ],className ='bg-white mb-1'),\n",
    "                          dbc.CardBody([\n",
    "                              dcc.Graph(id='line-fig4', figure=draw_mh_resources_provided_plt(country),className=' m-1',),])\n",
    "                        ],className='shadow rounded card p-3 text-center m-1',style={\"height\":\"33rem\",\"border-color\":\"#696969\",\"border-width\": \"medium\"},),\n",
    "                    ],xs=12, sm=12, md=12, lg=3, xl=3),\n",
    "                    ################################################## Tech Industry Support Rate ############################################            \n",
    "                    dbc.Col([\n",
    "                        dbc.Card([\n",
    "                            dbc.CardBody([\n",
    "                                dcc.Graph(id='line-fig5', figure=draw_observation_map_among_world(),className=' m-1',),]),\n",
    "                            dbc.CardFooter([html.H5(\"Tech Industry Support Rate\", className=\"card-text\",style = {'color':'#525252'}),],className ='bg-white'),\n",
    "                        ],className='shadow rounded card p-3 text-center m-1',style={\"height\":\"33rem\",\"border-color\":\"#696969\",\"border-width\": \"medium\"},),\n",
    "                      ],xs=12, sm=12, md=12, lg=6, xl=6),\n",
    "                    ################################################## Importance of MH for Employer ############################################            \n",
    "                    dbc.Col([  \n",
    "                        dbc.Card([\n",
    "                            dbc.CardBody([\n",
    "                                dcc.Graph(id='line-fig6', figure=draw_curr_rate_by_country(),className=' m-1',),]),\n",
    "                            dbc.CardFooter([html.H5(\"Importance of MH for Employer\", className=\"card-text\",style = {'color':'#525252'},)],className ='bg-white'),\n",
    "                            ],className='shadow rounded card p-3 text-center m-1',style={\"height\":\"33rem\",\"border-color\":\"#696969\",\"border-width\": \"medium\"},),\n",
    "                    ],xs=12, sm=12, md=12, lg=3, xl=3),\n",
    "            ],),],style  = {'height':'20%'} , className = 'my-1',justify='center'),\n",
    "        ],  className = 'mb-2',style  = {'height':'20%'}),\n",
    "\n",
    "\n",
    "\n",
    "\n",
    "        ################################################## Would Mental Health Problem Affect My Career ? ############################################            \n",
    "         dbc.Container([\n",
    "             dbc.Row([\n",
    "                dbc.Row([\n",
    "                    dbc.Col([html.H2(\"Would Mental Health Problem Affect My Career ?\",className='text-center divBorder p-2 m-1 font-weight-normal rounded',style={'color':'white','font-family':'Calibri','background':'#b3dad7','color':'#525252'}),\n",
    "                    ],width=12),]),\n",
    "                dbc.Row([\n",
    "                    ################################## Physical/ Menta Health Pie Chart ##################################   \n",
    "                    dbc.Col([\n",
    "                         dbc.Card([\n",
    "                              dbc.CardHeader([\n",
    "                                    dcc.Dropdown(id='dp7', multi=False, value='USA',options=[{'label':x, 'value':x}for x in Countries],\n",
    "                                        style={\"textTransform\": \"uppercase\",'border-color':'#525252','background-color':'white','text-color':'white', 'width' : '250'},className = \"dropdown open\"),\n",
    "                                    ],className ='bg-white mb-1'),                              \n",
    "                                    dbc.CardBody([\n",
    "                                            dcc.Graph(id='line-fig7', figure=draw_admit_ph_issue_in_interview_plt(country),className=' mb-1'),\n",
    "                                        ]),\n",
    "                                    dbc.CardFooter([dbc.Tabs([\n",
    "                                        dbc.Tab(label=\"Physical Health\", tab_id=\"tab-1\",tabClassName=\"font-weight-normal\",tab_style = {\"border-color\":\"#525252\",},label_style={\"color\": \"#525252\",'font-family':'Calibri',' font-size': '2.5em'}),\n",
    "                                        dbc.Tab(label=\"Mental Health\", tab_id=\"tab-2\",tabClassName=\"font-weight-normal\",tab_style = {\"border-color\":\"#525252\",},label_style={\"color\": \"#525252\",'font-family':'Calibri',' font-size': '2.5em'}),],id=\"tabs\",\n",
    "                                        active_tab=\"tab-1\",className ='bg-white nav-justified',)\n",
    "                                    ],className = 'bg-white'),\n",
    "                            ],className='shadow rounded card p-3 text-center m-1',style={\"height\":\"32rem\",\"border-color\":\"#525252\",\"border-width\": \"medium\"},),\n",
    "                    ],xs=12, sm=12, md=12, lg=3, xl=3),\n",
    "                     \n",
    "                    ################################## Admiting Physical/ Mental health issue in an interview ##################################   \n",
    "                    dbc.Col([\n",
    "                        dbc.Card([\n",
    "                            dbc.CardHeader([\n",
    "                                dcc.Dropdown(id='dp8', multi=False, value='USA',options=[{'label':x, 'value':x}for x in Countries],\n",
    "                                    style={\"textTransform\": \"uppercase\",'border-color':'#525252','background-color':'white','text-color':'white', 'width' : '250'},className = \"dropdown open\"),\n",
    "                                ],className ='bg-white mb-1'),                                      \n",
    "                            dbc.CardBody([\n",
    "                               dcc.Graph(id='line-fig8',figure=draw_MH_interview(country),className=' m-1',)\n",
    "                            ]),\n",
    "                            dbc.CardFooter([html.H5(\"Admiting Physical/ Mental health issue in an interview\", className=\"card-text\",style = {'color':'#525252'}),],className ='bg-white'),\n",
    "                            ],className='shadow rounded card p-3 text-center m-1',style={\"height\":\"32rem\",\"border-color\":\"#525252\",\"border-width\": \"medium\"},),\n",
    "                    ],xs=12, sm=12, md=12, lg=5, xl=5),\n",
    "\n",
    "                    ################################## How to Improve MH In the Industry Thoughts ##################################   \n",
    "                    dbc.Col([\n",
    "                        dbc.Card([\n",
    "                            dbc.CardBody([dcc.Graph(id='wordcloud', figure=draw_world_cloud(), config={'displayModeBar': False})]),\n",
    "                            dbc.CardFooter([html.H5(\"How to Improve MH In the Industry Thoughts\", style = {'color':'#525252'}, className=\"card-text\"), ],className ='bg-white'),\n",
    "                        ],className='shadow rounded card p-3 text-center m-1',style={\"height\":\"32rem\",\"border-color\":\"#525252\",\"border-width\": \"medium\"},),\n",
    "                    ],xs=12, sm=12, md=12, lg=4, xl=4),\n",
    "                ]),\n",
    "            ],style  = {'height':'20%'} , className = 'my-2', justify='center')\n",
    "        ],className = 'my-2',style  = {'height':'20%'})\n",
    "\n",
    "     ],),\n",
    "\n",
    "],fluid=True,style={'font-family':'Calibri'},)\n",
    "\n",
    "##################################################call############################################            \n",
    "\n",
    "@app.callback(\n",
    "    Output('line-fig1', 'figure'),\n",
    "    Output('line-fig2', 'figure'),\n",
    "    Output('line-fig3', 'figure'),\n",
    "    Output('line-fig4', 'figure'),\n",
    "    Output('line-fig8', 'figure'),\n",
    "    Input('dp1','value'),\n",
    "    Input('dp2','value'),\n",
    "    Input('dp3','value'),\n",
    "    Input('dp4','value'),\n",
    "    Input('dp8','value'),\n",
    "     )\n",
    "def output_fig_part1(dp1,dp2,dp3,dp4,dp8):\n",
    "    fig1 = draw_Techs_by_gender(dp1)\n",
    "    fig2 =draw_Age_Vs_MH_prob_Vs_Country(dp2) \n",
    "    fig3 = draw_curr_mh_by_country_plt(dp3)\n",
    "    fig4 = draw_mh_resources_provided_plt(dp4)\n",
    "    fig8 = draw_MH_interview(dp8)\n",
    "\n",
    "    return fig1,fig2,fig3,fig4,fig8\n",
    "\n",
    "@app.callback(Output(\"line-fig7\", \"figure\"), [Input(\"tabs\", \"active_tab\"),Input('dp7','value')])\n",
    "def switch_tab(at , dp7):\n",
    "    if at == \"tab-1\":\n",
    "        return draw_admit_ph_issue_in_interview_plt(dp7)\n",
    "    elif at == \"tab-2\":\n",
    "        return draw_admit_mh_issue_in_interview_plt(dp7)\n",
    "    return html.P(\"This shouldn't ever be displayed...\")\n",
    "\n",
    "if __name__ == '__main__':\n",
    "    app.run_server(debug=True, port=5050)"
   ]
  }
 ],
 "metadata": {
  "colab": {
   "name": "data_preprocessing.ipynb",
   "provenance": []
  },
  "kernelspec": {
   "display_name": "Python 3",
   "language": "python",
   "name": "python3"
  },
  "language_info": {
   "codemirror_mode": {
    "name": "ipython",
    "version": 3
   },
   "file_extension": ".py",
   "mimetype": "text/x-python",
   "name": "python",
   "nbconvert_exporter": "python",
   "pygments_lexer": "ipython3",
   "version": "3.8.5"
  },
  "vscode": {
   "interpreter": {
    "hash": "6456470966aacefa388c68c9fe7d64bbc7d9820ea7c6886760c09cd5181e254c"
   }
  }
 },
 "nbformat": 4,
 "nbformat_minor": 1
}
